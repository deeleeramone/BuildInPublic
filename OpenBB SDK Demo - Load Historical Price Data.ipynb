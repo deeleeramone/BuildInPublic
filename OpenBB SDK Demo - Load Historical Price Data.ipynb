{
 "cells": [
  {
   "attachments": {},
   "cell_type": "markdown",
   "metadata": {},
   "source": [
    "# Downloading Historical Price Data Using the OpenBB SDK\n",
    "\n",
    "This notebook demonstrates the different ways to approach loading historical price data using the OpenBB SDK.  There are obvious methods, and some less conventional ones. To begin, let's look at the Stocks module, but first, we need to initialize the notebook with the import statements block.\n",
    "\n",
    "## Import Statements"
   ]
  },
  {
   "cell_type": "code",
   "execution_count": 2,
   "metadata": {},
   "outputs": [],
   "source": [
    "import pandas as pd\n",
    "from openbb_terminal.sdk import openbb"
   ]
  },
  {
   "attachments": {},
   "cell_type": "markdown",
   "metadata": {},
   "source": [
    "## The Stocks Module\n",
    "\n",
    "The `load` function is likely the first place to reach when requesting daily, or intraday, historical price data.  `openbb.stocks.load()` is a versatile data aggregator, and not only for stocks.\n",
    "\n",
    "### openbb.stocks.load()\n",
    "\n",
    "The input parameters for the function:\n",
    "\n",
    "```python\n",
    "Parameters\n",
    "----------\n",
    "symbol: str\n",
    "    Ticker to get data\n",
    "start_date: str or datetime, optional\n",
    "    Start date to get data from with. - datetime or string format (YYYY-MM-DD)\n",
    "interval: int\n",
    "    Interval (in minutes) to get data 1, 5, 15, 30, 60 or 1440\n",
    "end_date: str or datetime, optional\n",
    "    End date to get data from with. - datetime or string format (YYYY-MM-DD)\n",
    "prepost: bool\n",
    "    Pre and After hours data\n",
    "source: str\n",
    "    Source of data extracted\n",
    "weekly: bool\n",
    "    Flag to get weekly data\n",
    "monthly: bool\n",
    "    Flag to get monthly data\n",
    "verbose: bool\n",
    "    Display verbose information on what was the symbol that was loaded\n",
    "```\n",
    "\n",
    "\n",
    "Set `verbose = False` to silence the console print.  Execute the two cells below to demonstrate."
   ]
  },
  {
   "cell_type": "code",
   "execution_count": 3,
   "metadata": {},
   "outputs": [
    {
     "data": {
      "text/html": [
       "<pre style=\"white-space:pre;overflow-x:auto;line-height:normal;font-family:Menlo,'DejaVu Sans Mono',consolas,'Courier New',monospace\">Loading Daily data for SPY with starting period 2020-04-07.\n",
       "</pre>\n"
      ],
      "text/plain": [
       "Loading Daily data for SPY with starting period 2020-04-07.\n"
      ]
     },
     "metadata": {},
     "output_type": "display_data"
    }
   ],
   "source": [
    "df_daily = openbb.stocks.load(symbol = 'spy')"
   ]
  },
  {
   "cell_type": "code",
   "execution_count": 4,
   "metadata": {},
   "outputs": [],
   "source": [
    "df_daily = openbb.stocks.load(symbol = 'spy', verbose = False)"
   ]
  },
  {
   "attachments": {},
   "cell_type": "markdown",
   "metadata": {},
   "source": [
    "To load the entire history available from a source, pick a starting date well beyond what it might be. For example, `1900-01-01`"
   ]
  },
  {
   "cell_type": "code",
   "execution_count": 5,
   "metadata": {},
   "outputs": [
    {
     "data": {
      "text/html": [
       "<pre style=\"white-space:pre;overflow-x:auto;line-height:normal;font-family:Menlo,'DejaVu Sans Mono',consolas,'Courier New',monospace\">Loading Daily data for SPY with starting period 1993-01-29.\n",
       "</pre>\n"
      ],
      "text/plain": [
       "Loading Daily data for SPY with starting period 1993-01-29.\n"
      ]
     },
     "metadata": {},
     "output_type": "display_data"
    }
   ],
   "source": [
    "df_daily = openbb.stocks.load(symbol = 'spy', start_date = '1990-01-01')"
   ]
  },
  {
   "attachments": {},
   "cell_type": "markdown",
   "metadata": {},
   "source": [
    "Weekly and monthly intervals are selected with either argument as `True`."
   ]
  },
  {
   "cell_type": "code",
   "execution_count": 6,
   "metadata": {},
   "outputs": [
    {
     "data": {
      "text/html": [
       "<pre style=\"white-space:pre;overflow-x:auto;line-height:normal;font-family:Menlo,'DejaVu Sans Mono',consolas,'Courier New',monospace\">Loading Weekly data for SPY with starting period 1993-01-25.\n",
       "</pre>\n"
      ],
      "text/plain": [
       "Loading Weekly data for SPY with starting period 1993-01-25.\n"
      ]
     },
     "metadata": {},
     "output_type": "display_data"
    }
   ],
   "source": [
    "df_weekly = openbb.stocks.load(symbol = 'spy', start_date = '1990-01-01', weekly = True)"
   ]
  },
  {
   "cell_type": "code",
   "execution_count": 7,
   "metadata": {},
   "outputs": [
    {
     "data": {
      "text/html": [
       "<pre style=\"white-space:pre;overflow-x:auto;line-height:normal;font-family:Menlo,'DejaVu Sans Mono',consolas,'Courier New',monospace\">Loading Monthly data for SPY with starting period 1993-02-01.\n",
       "</pre>\n"
      ],
      "text/plain": [
       "Loading Monthly data for SPY with starting period 1993-02-01.\n"
      ]
     },
     "metadata": {},
     "output_type": "display_data"
    }
   ],
   "source": [
    "df_monthly = openbb.stocks.load(symbol = 'spy', start_date = '1990-01-01', monthly = True)"
   ]
  },
  {
   "attachments": {},
   "cell_type": "markdown",
   "metadata": {},
   "source": [
    "The default settings retrieve daily, intraday data is selected using the `interval = N` argument."
   ]
  },
  {
   "cell_type": "code",
   "execution_count": 8,
   "metadata": {},
   "outputs": [
    {
     "data": {
      "text/html": [
       "<pre style=\"white-space:pre;overflow-x:auto;line-height:normal;font-family:Menlo,'DejaVu Sans Mono',consolas,'Courier New',monospace\">Loading Intraday 1min data for SPY with starting period 2023-04-10.\n",
       "</pre>\n"
      ],
      "text/plain": [
       "Loading Intraday 1min data for SPY with starting period 2023-04-10.\n"
      ]
     },
     "metadata": {},
     "output_type": "display_data"
    }
   ],
   "source": [
    "df_1min = openbb.stocks.load(symbol = 'spy', interval = 1)"
   ]
  },
  {
   "cell_type": "code",
   "execution_count": 9,
   "metadata": {},
   "outputs": [
    {
     "data": {
      "text/html": [
       "<pre style=\"white-space:pre;overflow-x:auto;line-height:normal;font-family:Menlo,'DejaVu Sans Mono',consolas,'Courier New',monospace\">Loading Intraday 5min data for SPY with starting period 2023-02-13.\n",
       "</pre>\n"
      ],
      "text/plain": [
       "Loading Intraday 5min data for SPY with starting period 2023-02-13.\n"
      ]
     },
     "metadata": {},
     "output_type": "display_data"
    }
   ],
   "source": [
    "df_5min = openbb.stocks.load(symbol = 'spy', interval = 5)"
   ]
  },
  {
   "cell_type": "code",
   "execution_count": 10,
   "metadata": {},
   "outputs": [
    {
     "data": {
      "text/html": [
       "<pre style=\"white-space:pre;overflow-x:auto;line-height:normal;font-family:Menlo,'DejaVu Sans Mono',consolas,'Courier New',monospace\">Loading Intraday 15min data for SPY with starting period 2023-02-13.\n",
       "</pre>\n"
      ],
      "text/plain": [
       "Loading Intraday 15min data for SPY with starting period 2023-02-13.\n"
      ]
     },
     "metadata": {},
     "output_type": "display_data"
    }
   ],
   "source": [
    "df_15min = openbb.stocks.load(symbol = 'spy', interval = 15)"
   ]
  },
  {
   "cell_type": "code",
   "execution_count": 11,
   "metadata": {},
   "outputs": [
    {
     "data": {
      "text/html": [
       "<pre style=\"white-space:pre;overflow-x:auto;line-height:normal;font-family:Menlo,'DejaVu Sans Mono',consolas,'Courier New',monospace\">Loading Intraday 30min data for SPY with starting period 2023-02-13.\n",
       "</pre>\n"
      ],
      "text/plain": [
       "Loading Intraday 30min data for SPY with starting period 2023-02-13.\n"
      ]
     },
     "metadata": {},
     "output_type": "display_data"
    }
   ],
   "source": [
    "df_30min = openbb.stocks.load(symbol = 'spy', interval = 30)"
   ]
  },
  {
   "attachments": {},
   "cell_type": "markdown",
   "metadata": {},
   "source": [
    "When the source is `YahooFinance`, the standard default, the amount of intraday history available varies by interval.  One hour candles have the longest history, 2 years.  Other sources, such as Polygon, offer total market coverage for 10+ years of historical prices at all granularities.  For demonstration purposes, it is simple, effective, and accessible to use yFinance as the source."
   ]
  },
  {
   "cell_type": "code",
   "execution_count": 12,
   "metadata": {},
   "outputs": [
    {
     "data": {
      "text/html": [
       "<pre style=\"white-space:pre;overflow-x:auto;line-height:normal;font-family:Menlo,'DejaVu Sans Mono',consolas,'Courier New',monospace\">Loading Intraday 60min data for SPY with starting period 2021-04-14.\n",
       "</pre>\n"
      ],
      "text/plain": [
       "Loading Intraday 60min data for SPY with starting period 2021-04-14.\n"
      ]
     },
     "metadata": {},
     "output_type": "display_data"
    }
   ],
   "source": [
    "df_60min = openbb.stocks.load(symbol = 'spy', interval = 60)"
   ]
  },
  {
   "attachments": {},
   "cell_type": "markdown",
   "metadata": {},
   "source": [
    "Include pre/post market data by setting the argument, `prepost = True`.  **Note**: an interval must also be selected."
   ]
  },
  {
   "cell_type": "code",
   "execution_count": 13,
   "metadata": {},
   "outputs": [
    {
     "data": {
      "text/html": [
       "<pre style=\"white-space:pre;overflow-x:auto;line-height:normal;font-family:Menlo,'DejaVu Sans Mono',consolas,'Courier New',monospace\">Loading Intraday 1min data for SPY with starting period 2023-04-10.\n",
       "</pre>\n"
      ],
      "text/plain": [
       "Loading Intraday 1min data for SPY with starting period 2023-04-10.\n"
      ]
     },
     "metadata": {},
     "output_type": "display_data"
    },
    {
     "data": {
      "text/html": [
       "<div>\n",
       "<style scoped>\n",
       "    .dataframe tbody tr th:only-of-type {\n",
       "        vertical-align: middle;\n",
       "    }\n",
       "\n",
       "    .dataframe tbody tr th {\n",
       "        vertical-align: top;\n",
       "    }\n",
       "\n",
       "    .dataframe thead th {\n",
       "        text-align: right;\n",
       "    }\n",
       "</style>\n",
       "<table border=\"1\" class=\"dataframe\">\n",
       "  <thead>\n",
       "    <tr style=\"text-align: right;\">\n",
       "      <th></th>\n",
       "      <th>Open</th>\n",
       "      <th>High</th>\n",
       "      <th>Low</th>\n",
       "      <th>Close</th>\n",
       "      <th>Adj Close</th>\n",
       "      <th>Volume</th>\n",
       "    </tr>\n",
       "    <tr>\n",
       "      <th>date</th>\n",
       "      <th></th>\n",
       "      <th></th>\n",
       "      <th></th>\n",
       "      <th></th>\n",
       "      <th></th>\n",
       "      <th></th>\n",
       "    </tr>\n",
       "  </thead>\n",
       "  <tbody>\n",
       "    <tr>\n",
       "      <th>2023-04-12 19:57:00</th>\n",
       "      <td>407.215</td>\n",
       "      <td>407.23</td>\n",
       "      <td>407.17</td>\n",
       "      <td>407.17</td>\n",
       "      <td>407.17</td>\n",
       "      <td>0</td>\n",
       "    </tr>\n",
       "    <tr>\n",
       "      <th>2023-04-12 19:58:00</th>\n",
       "      <td>407.180</td>\n",
       "      <td>407.20</td>\n",
       "      <td>407.12</td>\n",
       "      <td>407.18</td>\n",
       "      <td>407.18</td>\n",
       "      <td>0</td>\n",
       "    </tr>\n",
       "    <tr>\n",
       "      <th>2023-04-12 19:59:00</th>\n",
       "      <td>407.185</td>\n",
       "      <td>407.22</td>\n",
       "      <td>407.18</td>\n",
       "      <td>407.20</td>\n",
       "      <td>407.20</td>\n",
       "      <td>0</td>\n",
       "    </tr>\n",
       "  </tbody>\n",
       "</table>\n",
       "</div>"
      ],
      "text/plain": [
       "                        Open    High     Low   Close  Adj Close  Volume\n",
       "date                                                                   \n",
       "2023-04-12 19:57:00  407.215  407.23  407.17  407.17     407.17       0\n",
       "2023-04-12 19:58:00  407.180  407.20  407.12  407.18     407.18       0\n",
       "2023-04-12 19:59:00  407.185  407.22  407.18  407.20     407.20       0"
      ]
     },
     "execution_count": 13,
     "metadata": {},
     "output_type": "execute_result"
    }
   ],
   "source": [
    "df_prepost = openbb.stocks.load(symbol = 'spy', start_date = '2023-03-22', prepost = True, interval = 1)\n",
    "\n",
    "df_prepost.tail(3)"
   ]
  },
  {
   "attachments": {},
   "cell_type": "markdown",
   "metadata": {},
   "source": [
    "It is also possible to load individual options contracts using the same syntax.  There will be gaps in the historical data when the contract has zero volume."
   ]
  },
  {
   "cell_type": "code",
   "execution_count": 14,
   "metadata": {},
   "outputs": [
    {
     "data": {
      "text/html": [
       "<pre style=\"white-space:pre;overflow-x:auto;line-height:normal;font-family:Menlo,'DejaVu Sans Mono',consolas,'Courier New',monospace\">Loading Daily data for SPY231215P00380000 with starting period 2020-12-31.\n",
       "</pre>\n"
      ],
      "text/plain": [
       "Loading Daily data for SPY231215P00380000 with starting period 2020-12-31.\n"
      ]
     },
     "metadata": {},
     "output_type": "display_data"
    }
   ],
   "source": [
    "spy231215P00380000 = openbb.stocks.load(symbol = 'SPY231215P00380000')"
   ]
  },
  {
   "cell_type": "code",
   "execution_count": 15,
   "metadata": {},
   "outputs": [
    {
     "data": {
      "text/html": [
       "<div>\n",
       "<style scoped>\n",
       "    .dataframe tbody tr th:only-of-type {\n",
       "        vertical-align: middle;\n",
       "    }\n",
       "\n",
       "    .dataframe tbody tr th {\n",
       "        vertical-align: top;\n",
       "    }\n",
       "\n",
       "    .dataframe thead th {\n",
       "        text-align: right;\n",
       "    }\n",
       "</style>\n",
       "<table border=\"1\" class=\"dataframe\">\n",
       "  <thead>\n",
       "    <tr style=\"text-align: right;\">\n",
       "      <th></th>\n",
       "      <th>Open</th>\n",
       "      <th>High</th>\n",
       "      <th>Low</th>\n",
       "      <th>Close</th>\n",
       "      <th>Adj Close</th>\n",
       "      <th>Volume</th>\n",
       "      <th>Dividends</th>\n",
       "      <th>Stock Splits</th>\n",
       "    </tr>\n",
       "    <tr>\n",
       "      <th>date</th>\n",
       "      <th></th>\n",
       "      <th></th>\n",
       "      <th></th>\n",
       "      <th></th>\n",
       "      <th></th>\n",
       "      <th></th>\n",
       "      <th></th>\n",
       "      <th></th>\n",
       "    </tr>\n",
       "  </thead>\n",
       "  <tbody>\n",
       "    <tr>\n",
       "      <th>2020-12-31</th>\n",
       "      <td>58.810001</td>\n",
       "      <td>58.810001</td>\n",
       "      <td>58.810001</td>\n",
       "      <td>58.810001</td>\n",
       "      <td>58.810001</td>\n",
       "      <td>10</td>\n",
       "      <td>0.0</td>\n",
       "      <td>0.0</td>\n",
       "    </tr>\n",
       "    <tr>\n",
       "      <th>2021-01-06</th>\n",
       "      <td>59.000000</td>\n",
       "      <td>59.000000</td>\n",
       "      <td>59.000000</td>\n",
       "      <td>59.000000</td>\n",
       "      <td>59.000000</td>\n",
       "      <td>22</td>\n",
       "      <td>0.0</td>\n",
       "      <td>0.0</td>\n",
       "    </tr>\n",
       "    <tr>\n",
       "      <th>2021-01-07</th>\n",
       "      <td>58.099998</td>\n",
       "      <td>58.770000</td>\n",
       "      <td>58.099998</td>\n",
       "      <td>58.330002</td>\n",
       "      <td>58.330002</td>\n",
       "      <td>10</td>\n",
       "      <td>0.0</td>\n",
       "      <td>0.0</td>\n",
       "    </tr>\n",
       "    <tr>\n",
       "      <th>2021-01-08</th>\n",
       "      <td>58.830002</td>\n",
       "      <td>60.369999</td>\n",
       "      <td>57.500000</td>\n",
       "      <td>57.500000</td>\n",
       "      <td>57.500000</td>\n",
       "      <td>150</td>\n",
       "      <td>0.0</td>\n",
       "      <td>0.0</td>\n",
       "    </tr>\n",
       "    <tr>\n",
       "      <th>2021-01-11</th>\n",
       "      <td>59.990002</td>\n",
       "      <td>59.990002</td>\n",
       "      <td>58.250000</td>\n",
       "      <td>59.500000</td>\n",
       "      <td>59.500000</td>\n",
       "      <td>5</td>\n",
       "      <td>0.0</td>\n",
       "      <td>0.0</td>\n",
       "    </tr>\n",
       "    <tr>\n",
       "      <th>...</th>\n",
       "      <td>...</td>\n",
       "      <td>...</td>\n",
       "      <td>...</td>\n",
       "      <td>...</td>\n",
       "      <td>...</td>\n",
       "      <td>...</td>\n",
       "      <td>...</td>\n",
       "      <td>...</td>\n",
       "    </tr>\n",
       "    <tr>\n",
       "      <th>2023-04-05</th>\n",
       "      <td>14.670000</td>\n",
       "      <td>15.370000</td>\n",
       "      <td>14.670000</td>\n",
       "      <td>14.840000</td>\n",
       "      <td>14.840000</td>\n",
       "      <td>1333</td>\n",
       "      <td>0.0</td>\n",
       "      <td>0.0</td>\n",
       "    </tr>\n",
       "    <tr>\n",
       "      <th>2023-04-06</th>\n",
       "      <td>14.840000</td>\n",
       "      <td>14.880000</td>\n",
       "      <td>14.050000</td>\n",
       "      <td>14.200000</td>\n",
       "      <td>14.200000</td>\n",
       "      <td>149</td>\n",
       "      <td>0.0</td>\n",
       "      <td>0.0</td>\n",
       "    </tr>\n",
       "    <tr>\n",
       "      <th>2023-04-10</th>\n",
       "      <td>14.750000</td>\n",
       "      <td>14.750000</td>\n",
       "      <td>13.870000</td>\n",
       "      <td>13.870000</td>\n",
       "      <td>13.870000</td>\n",
       "      <td>9</td>\n",
       "      <td>0.0</td>\n",
       "      <td>0.0</td>\n",
       "    </tr>\n",
       "    <tr>\n",
       "      <th>2023-04-11</th>\n",
       "      <td>13.670000</td>\n",
       "      <td>13.670000</td>\n",
       "      <td>13.240000</td>\n",
       "      <td>13.250000</td>\n",
       "      <td>13.250000</td>\n",
       "      <td>67</td>\n",
       "      <td>0.0</td>\n",
       "      <td>0.0</td>\n",
       "    </tr>\n",
       "    <tr>\n",
       "      <th>2023-04-12</th>\n",
       "      <td>13.020000</td>\n",
       "      <td>13.890000</td>\n",
       "      <td>13.000000</td>\n",
       "      <td>13.890000</td>\n",
       "      <td>13.890000</td>\n",
       "      <td>41</td>\n",
       "      <td>0.0</td>\n",
       "      <td>0.0</td>\n",
       "    </tr>\n",
       "  </tbody>\n",
       "</table>\n",
       "<p>364 rows × 8 columns</p>\n",
       "</div>"
      ],
      "text/plain": [
       "                 Open       High        Low      Close  Adj Close  Volume  \\\n",
       "date                                                                        \n",
       "2020-12-31  58.810001  58.810001  58.810001  58.810001  58.810001      10   \n",
       "2021-01-06  59.000000  59.000000  59.000000  59.000000  59.000000      22   \n",
       "2021-01-07  58.099998  58.770000  58.099998  58.330002  58.330002      10   \n",
       "2021-01-08  58.830002  60.369999  57.500000  57.500000  57.500000     150   \n",
       "2021-01-11  59.990002  59.990002  58.250000  59.500000  59.500000       5   \n",
       "...               ...        ...        ...        ...        ...     ...   \n",
       "2023-04-05  14.670000  15.370000  14.670000  14.840000  14.840000    1333   \n",
       "2023-04-06  14.840000  14.880000  14.050000  14.200000  14.200000     149   \n",
       "2023-04-10  14.750000  14.750000  13.870000  13.870000  13.870000       9   \n",
       "2023-04-11  13.670000  13.670000  13.240000  13.250000  13.250000      67   \n",
       "2023-04-12  13.020000  13.890000  13.000000  13.890000  13.890000      41   \n",
       "\n",
       "            Dividends  Stock Splits  \n",
       "date                                 \n",
       "2020-12-31        0.0           0.0  \n",
       "2021-01-06        0.0           0.0  \n",
       "2021-01-07        0.0           0.0  \n",
       "2021-01-08        0.0           0.0  \n",
       "2021-01-11        0.0           0.0  \n",
       "...               ...           ...  \n",
       "2023-04-05        0.0           0.0  \n",
       "2023-04-06        0.0           0.0  \n",
       "2023-04-10        0.0           0.0  \n",
       "2023-04-11        0.0           0.0  \n",
       "2023-04-12        0.0           0.0  \n",
       "\n",
       "[364 rows x 8 columns]"
      ]
     },
     "execution_count": 15,
     "metadata": {},
     "output_type": "execute_result"
    }
   ],
   "source": [
    "spy231215P00380000"
   ]
  },
  {
   "attachments": {},
   "cell_type": "markdown",
   "metadata": {},
   "source": [
    "Currency pairs can also be loaded the same way."
   ]
  },
  {
   "cell_type": "code",
   "execution_count": 16,
   "metadata": {},
   "outputs": [
    {
     "data": {
      "text/html": [
       "<pre style=\"white-space:pre;overflow-x:auto;line-height:normal;font-family:Menlo,'DejaVu Sans Mono',consolas,'Courier New',monospace\">Loading Daily data for EURUSD=X with starting period 2003-12-01.\n",
       "</pre>\n"
      ],
      "text/plain": [
       "Loading Daily data for EURUSD=X with starting period 2003-12-01.\n"
      ]
     },
     "metadata": {},
     "output_type": "display_data"
    }
   ],
   "source": [
    "eurusd_daily = openbb.stocks.load(symbol = 'EURUSD=X', start_date = '1900-01-01')"
   ]
  },
  {
   "cell_type": "code",
   "execution_count": 17,
   "metadata": {},
   "outputs": [
    {
     "data": {
      "text/html": [
       "<pre style=\"white-space:pre;overflow-x:auto;line-height:normal;font-family:Menlo,'DejaVu Sans Mono',consolas,'Courier New',monospace\">Loading Intraday 60min data for EURUSD=X with starting period 2021-04-14.\n",
       "</pre>\n"
      ],
      "text/plain": [
       "Loading Intraday 60min data for EURUSD=X with starting period 2021-04-14.\n"
      ]
     },
     "metadata": {},
     "output_type": "display_data"
    }
   ],
   "source": [
    "eurusd_60min = openbb.stocks.load(symbol = 'EURUSD=X', start_date = '1900-01-01', interval = 60)"
   ]
  },
  {
   "attachments": {},
   "cell_type": "markdown",
   "metadata": {},
   "source": [
    "Crypto pairs work in a similar way, but with a different syntax."
   ]
  },
  {
   "cell_type": "code",
   "execution_count": 18,
   "metadata": {},
   "outputs": [
    {
     "data": {
      "text/html": [
       "<pre style=\"white-space:pre;overflow-x:auto;line-height:normal;font-family:Menlo,'DejaVu Sans Mono',consolas,'Courier New',monospace\">Loading Intraday 15min data for BTC-USD with starting period 2023-02-13.\n",
       "</pre>\n"
      ],
      "text/plain": [
       "Loading Intraday 15min data for BTC-USD with starting period 2023-02-13.\n"
      ]
     },
     "metadata": {},
     "output_type": "display_data"
    }
   ],
   "source": [
    "btcusd_15min = openbb.stocks.load(symbol = 'BTC-USD', start_date = '1900-01-01', interval = 15)"
   ]
  },
  {
   "cell_type": "code",
   "execution_count": 19,
   "metadata": {},
   "outputs": [
    {
     "data": {
      "text/html": [
       "<pre style=\"white-space:pre;overflow-x:auto;line-height:normal;font-family:Menlo,'DejaVu Sans Mono',consolas,'Courier New',monospace\">Loading Intraday 15min data for BTC-EUR with starting period 2023-02-13.\n",
       "</pre>\n"
      ],
      "text/plain": [
       "Loading Intraday 15min data for BTC-EUR with starting period 2023-02-13.\n"
      ]
     },
     "metadata": {},
     "output_type": "display_data"
    }
   ],
   "source": [
    "btceur_15min = openbb.stocks.load(symbol = 'BTC-EUR', start_date = '1900-01-01', interval = 15)"
   ]
  },
  {
   "cell_type": "code",
   "execution_count": 20,
   "metadata": {},
   "outputs": [
    {
     "data": {
      "text/html": [
       "<pre style=\"white-space:pre;overflow-x:auto;line-height:normal;font-family:Menlo,'DejaVu Sans Mono',consolas,'Courier New',monospace\">Loading Daily data for ETH-USD with starting period 2017-11-09.\n",
       "</pre>\n"
      ],
      "text/plain": [
       "Loading Daily data for ETH-USD with starting period 2017-11-09.\n"
      ]
     },
     "metadata": {},
     "output_type": "display_data"
    }
   ],
   "source": [
    "ethusd_daily = openbb.stocks.load(symbol = 'ETH-USD', start_date = '1900-01-01')"
   ]
  },
  {
   "cell_type": "code",
   "execution_count": 21,
   "metadata": {},
   "outputs": [
    {
     "data": {
      "text/html": [
       "<pre style=\"white-space:pre;overflow-x:auto;line-height:normal;font-family:Menlo,'DejaVu Sans Mono',consolas,'Courier New',monospace\">Loading Intraday 15min data for ETH-EUR with starting period 2023-02-13.\n",
       "</pre>\n"
      ],
      "text/plain": [
       "Loading Intraday 15min data for ETH-EUR with starting period 2023-02-13.\n"
      ]
     },
     "metadata": {},
     "output_type": "display_data"
    }
   ],
   "source": [
    "etheur_15min = openbb.stocks.load(symbol = 'ETH-EUR', start_date = '1900-01-01', interval = 15)"
   ]
  },
  {
   "attachments": {},
   "cell_type": "markdown",
   "metadata": {},
   "source": [
    "The continuous front month futures contract is loaded with `=F` attached.  For example, Eurodollar futures:"
   ]
  },
  {
   "cell_type": "code",
   "execution_count": 22,
   "metadata": {},
   "outputs": [
    {
     "data": {
      "text/html": [
       "<pre style=\"white-space:pre;overflow-x:auto;line-height:normal;font-family:Menlo,'DejaVu Sans Mono',consolas,'Courier New',monospace\">Loading Daily data for GE=F with starting period 2000-09-18.\n",
       "</pre>\n"
      ],
      "text/plain": [
       "Loading Daily data for GE=F with starting period 2000-09-18.\n"
      ]
     },
     "metadata": {},
     "output_type": "display_data"
    }
   ],
   "source": [
    "eurodollar = openbb.stocks.load(symbol = 'GE=F', start_date='1900-01-01')"
   ]
  },
  {
   "attachments": {},
   "cell_type": "markdown",
   "metadata": {},
   "source": [
    "An active, individual, contract with trading volume can also be loaded.  For example, the December 2024 contract:"
   ]
  },
  {
   "cell_type": "code",
   "execution_count": 23,
   "metadata": {},
   "outputs": [
    {
     "data": {
      "text/html": [
       "<pre style=\"white-space:pre;overflow-x:auto;line-height:normal;font-family:Menlo,'DejaVu Sans Mono',consolas,'Courier New',monospace\">Loading Daily data for GEZ24.CME with starting period 2020-04-07.\n",
       "</pre>\n"
      ],
      "text/plain": [
       "Loading Daily data for GEZ24.CME with starting period 2020-04-07.\n"
      ]
     },
     "metadata": {},
     "output_type": "display_data"
    }
   ],
   "source": [
    "eurodollar_dec24 = openbb.stocks.load(symbol = 'gez24.cme')"
   ]
  },
  {
   "attachments": {},
   "cell_type": "markdown",
   "metadata": {},
   "source": [
    "What the `load` function **cannot** do is batch download.  For this type of functionality, we need to stretch our wings and use one of the other functions.\n",
    "\n",
    "### openbb.stocks.ca.hist()\n",
    "\n",
    "This function, within the Comparison Analysis sub-module, offers the ability to return data for multiple tickers as a single Pandas DataFrame, and targeting a single data point.  Choices are: open, high, low, close, volume, and return.  It is chosen by using the optional argument, `candle_type`, with the first letter of the candle type as the value - `a` for Adjusted Close.  Multiple tickers must be encapsulated with square brackets [] and quotation marks for each individual symbol. "
   ]
  },
  {
   "cell_type": "code",
   "execution_count": 24,
   "metadata": {},
   "outputs": [
    {
     "data": {
      "text/html": [
       "<div>\n",
       "<style scoped>\n",
       "    .dataframe tbody tr th:only-of-type {\n",
       "        vertical-align: middle;\n",
       "    }\n",
       "\n",
       "    .dataframe tbody tr th {\n",
       "        vertical-align: top;\n",
       "    }\n",
       "\n",
       "    .dataframe thead th {\n",
       "        text-align: right;\n",
       "    }\n",
       "</style>\n",
       "<table border=\"1\" class=\"dataframe\">\n",
       "  <thead>\n",
       "    <tr style=\"text-align: right;\">\n",
       "      <th></th>\n",
       "      <th>META</th>\n",
       "      <th>AAPL</th>\n",
       "      <th>AMZN</th>\n",
       "      <th>NFLX</th>\n",
       "      <th>GOOG</th>\n",
       "      <th>MSFT</th>\n",
       "      <th>TSLA</th>\n",
       "    </tr>\n",
       "    <tr>\n",
       "      <th>Date</th>\n",
       "      <th></th>\n",
       "      <th></th>\n",
       "      <th></th>\n",
       "      <th></th>\n",
       "      <th></th>\n",
       "      <th></th>\n",
       "      <th></th>\n",
       "    </tr>\n",
       "  </thead>\n",
       "  <tbody>\n",
       "    <tr>\n",
       "      <th>2023-04-10</th>\n",
       "      <td>214.750000</td>\n",
       "      <td>162.029999</td>\n",
       "      <td>102.169998</td>\n",
       "      <td>338.989990</td>\n",
       "      <td>106.949997</td>\n",
       "      <td>289.390015</td>\n",
       "      <td>184.509995</td>\n",
       "    </tr>\n",
       "    <tr>\n",
       "      <th>2023-04-11</th>\n",
       "      <td>213.850006</td>\n",
       "      <td>160.800003</td>\n",
       "      <td>99.919998</td>\n",
       "      <td>338.209991</td>\n",
       "      <td>106.120003</td>\n",
       "      <td>282.829987</td>\n",
       "      <td>186.789993</td>\n",
       "    </tr>\n",
       "    <tr>\n",
       "      <th>2023-04-12</th>\n",
       "      <td>214.000000</td>\n",
       "      <td>160.100006</td>\n",
       "      <td>97.830002</td>\n",
       "      <td>331.029999</td>\n",
       "      <td>105.220001</td>\n",
       "      <td>283.489990</td>\n",
       "      <td>180.539993</td>\n",
       "    </tr>\n",
       "  </tbody>\n",
       "</table>\n",
       "</div>"
      ],
      "text/plain": [
       "                  META        AAPL        AMZN        NFLX        GOOG  \\\n",
       "Date                                                                     \n",
       "2023-04-10  214.750000  162.029999  102.169998  338.989990  106.949997   \n",
       "2023-04-11  213.850006  160.800003   99.919998  338.209991  106.120003   \n",
       "2023-04-12  214.000000  160.100006   97.830002  331.029999  105.220001   \n",
       "\n",
       "                  MSFT        TSLA  \n",
       "Date                                \n",
       "2023-04-10  289.390015  184.509995  \n",
       "2023-04-11  282.829987  186.789993  \n",
       "2023-04-12  283.489990  180.539993  "
      ]
     },
     "execution_count": 24,
     "metadata": {},
     "output_type": "execute_result"
    }
   ],
   "source": [
    "tickers = [\"META\", \"AAPL\", \"AMZN\", \"NFLX\", \"GOOG\", \"MSFT\", \"TSLA\"]\n",
    "df_compare = openbb.stocks.ca.hist(similar = tickers, candle_type = 'a')\n",
    "\n",
    "df_compare.tail(3)"
   ]
  },
  {
   "attachments": {},
   "cell_type": "markdown",
   "metadata": {},
   "source": [
    "## The Economy Module\n",
    "\n",
    "It may not be an obvious choice, but it can get the job done in a similar way as `openbb.stocks.ca.hist()`.\n",
    "\n",
    "### openbb.economy.index()\n",
    "\n",
    "This function can be coaxed into completing the same task, with slight differences being the `column` argument, and `returns` is a boolean choice for calculating the cumulative returns over the entire history."
   ]
  },
  {
   "attachments": {},
   "cell_type": "markdown",
   "metadata": {},
   "source": []
  },
  {
   "cell_type": "code",
   "execution_count": 25,
   "metadata": {},
   "outputs": [
    {
     "data": {
      "text/html": [
       "<div>\n",
       "<style scoped>\n",
       "    .dataframe tbody tr th:only-of-type {\n",
       "        vertical-align: middle;\n",
       "    }\n",
       "\n",
       "    .dataframe tbody tr th {\n",
       "        vertical-align: top;\n",
       "    }\n",
       "\n",
       "    .dataframe thead th {\n",
       "        text-align: right;\n",
       "    }\n",
       "</style>\n",
       "<table border=\"1\" class=\"dataframe\">\n",
       "  <thead>\n",
       "    <tr style=\"text-align: right;\">\n",
       "      <th></th>\n",
       "      <th>META</th>\n",
       "      <th>AAPL</th>\n",
       "      <th>AMZN</th>\n",
       "      <th>NFLX</th>\n",
       "      <th>GOOG</th>\n",
       "      <th>MSFT</th>\n",
       "      <th>TSLA</th>\n",
       "    </tr>\n",
       "    <tr>\n",
       "      <th>Date</th>\n",
       "      <th></th>\n",
       "      <th></th>\n",
       "      <th></th>\n",
       "      <th></th>\n",
       "      <th></th>\n",
       "      <th></th>\n",
       "      <th></th>\n",
       "    </tr>\n",
       "  </thead>\n",
       "  <tbody>\n",
       "    <tr>\n",
       "      <th>2023-04-10</th>\n",
       "      <td>214.750000</td>\n",
       "      <td>162.029999</td>\n",
       "      <td>102.169998</td>\n",
       "      <td>338.989990</td>\n",
       "      <td>106.949997</td>\n",
       "      <td>289.390015</td>\n",
       "      <td>184.509995</td>\n",
       "    </tr>\n",
       "    <tr>\n",
       "      <th>2023-04-11</th>\n",
       "      <td>213.850006</td>\n",
       "      <td>160.800003</td>\n",
       "      <td>99.919998</td>\n",
       "      <td>338.209991</td>\n",
       "      <td>106.120003</td>\n",
       "      <td>282.829987</td>\n",
       "      <td>186.789993</td>\n",
       "    </tr>\n",
       "    <tr>\n",
       "      <th>2023-04-12</th>\n",
       "      <td>214.000000</td>\n",
       "      <td>160.100006</td>\n",
       "      <td>97.830002</td>\n",
       "      <td>331.029999</td>\n",
       "      <td>105.220001</td>\n",
       "      <td>283.489990</td>\n",
       "      <td>180.539993</td>\n",
       "    </tr>\n",
       "  </tbody>\n",
       "</table>\n",
       "</div>"
      ],
      "text/plain": [
       "                  META        AAPL        AMZN        NFLX        GOOG  \\\n",
       "Date                                                                     \n",
       "2023-04-10  214.750000  162.029999  102.169998  338.989990  106.949997   \n",
       "2023-04-11  213.850006  160.800003   99.919998  338.209991  106.120003   \n",
       "2023-04-12  214.000000  160.100006   97.830002  331.029999  105.220001   \n",
       "\n",
       "                  MSFT        TSLA  \n",
       "Date                                \n",
       "2023-04-10  289.390015  184.509995  \n",
       "2023-04-11  282.829987  186.789993  \n",
       "2023-04-12  283.489990  180.539993  "
      ]
     },
     "execution_count": 25,
     "metadata": {},
     "output_type": "execute_result"
    }
   ],
   "source": [
    "df_compare2 = openbb.economy.index(indices = tickers, column = 'Adj Close')\n",
    "\n",
    "df_compare2.tail(3)"
   ]
  },
  {
   "attachments": {},
   "cell_type": "markdown",
   "metadata": {},
   "source": [
    "## The Crypto Module\n",
    "\n",
    "Similarly, the `crypto` module has its own nuances.\n",
    "\n",
    "### openbb.crypto.load()\n",
    "\n",
    "This version of the `load` function has three sources: `YahooFinance`, `CoinGecko`, and `CCXT`. Selecting `CCXT` will activate the `--exchange` argument, which allows the user to target a specific venue.  \n",
    "\n",
    "Choices of exchange are: [\n",
    "\n",
    "    ace,alpaca,ascendex,bequant,bigone,binance,binancecoinm,binanceus,binanceusdm,bit2c,bitbank,bitbay,bitcoincom,\n",
    "    bitfinex,bitfinex2,bitflyer,bitforex,bitget,bithumb,bitmart,bitmex,bitopro,bitpanda,bitrue,bitso,bitstamp,bitstamp1,\n",
    "    bittrex,bitvavo,bkex,bl3p,btcalpha,btcbox,btcex,btcmarkets,btctradeua,btcturk,buda,bybit,cex,coinbase,coinbaseprime,coinbasepro,\n",
    "    coincheck,coinex,coinfalcon,coinmate,coinone,coinspot,cryptocom,currencycom,delta,deribit,digifinex,exmo,flowbtc,fmfwio,gate,\n",
    "    gateio,gemini,hitbtc,hitbtc3,hollaex,huobi,huobijp,huobipro,idex,independentreserve,indodax,itbit,kraken,krakenfutures,kucoin,\n",
    "    kucoinfutures,kuna,latoken,lbank,lbank2,lykke,mercado,mexc,mexc3,ndax,novadax,oceanex,okcoin,okex,okex5,okx,paymium,phemex,\n",
    "    poloniex,poloniexfutures,probit,ripio,stex,tidex,timex,tokocrypto,upbit,wavesexchange,wazirx,whitebit,woo,yobit,zaif,zb,zonda\n",
    "]\n",
    "\n",
    "**Note**: Asset coverage and history varies by exchange.  Binance may have access restrictions for US-based users."
   ]
  },
  {
   "cell_type": "code",
   "execution_count": 40,
   "metadata": {},
   "outputs": [],
   "source": [
    "btc_usdt = openbb.crypto.load(symbol = 'BTC', to_symbol = 'USDT', source = 'CCXT', exchange = 'bitcoincom', start_date = '2010-01-01')"
   ]
  },
  {
   "cell_type": "code",
   "execution_count": 41,
   "metadata": {},
   "outputs": [
    {
     "data": {
      "text/html": [
       "<div>\n",
       "<style scoped>\n",
       "    .dataframe tbody tr th:only-of-type {\n",
       "        vertical-align: middle;\n",
       "    }\n",
       "\n",
       "    .dataframe tbody tr th {\n",
       "        vertical-align: top;\n",
       "    }\n",
       "\n",
       "    .dataframe thead th {\n",
       "        text-align: right;\n",
       "    }\n",
       "</style>\n",
       "<table border=\"1\" class=\"dataframe\">\n",
       "  <thead>\n",
       "    <tr style=\"text-align: right;\">\n",
       "      <th></th>\n",
       "      <th>Open</th>\n",
       "      <th>High</th>\n",
       "      <th>Low</th>\n",
       "      <th>Close</th>\n",
       "      <th>Volume</th>\n",
       "    </tr>\n",
       "    <tr>\n",
       "      <th>date</th>\n",
       "      <th></th>\n",
       "      <th></th>\n",
       "      <th></th>\n",
       "      <th></th>\n",
       "      <th></th>\n",
       "    </tr>\n",
       "  </thead>\n",
       "  <tbody>\n",
       "    <tr>\n",
       "      <th>2013-12-27</th>\n",
       "      <td>777.00</td>\n",
       "      <td>779.00</td>\n",
       "      <td>694.84</td>\n",
       "      <td>742.43</td>\n",
       "      <td>1502.36000</td>\n",
       "    </tr>\n",
       "    <tr>\n",
       "      <th>2013-12-28</th>\n",
       "      <td>710.46</td>\n",
       "      <td>752.42</td>\n",
       "      <td>672.80</td>\n",
       "      <td>732.42</td>\n",
       "      <td>4583.78000</td>\n",
       "    </tr>\n",
       "    <tr>\n",
       "      <th>2013-12-29</th>\n",
       "      <td>699.61</td>\n",
       "      <td>750.01</td>\n",
       "      <td>690.50</td>\n",
       "      <td>746.28</td>\n",
       "      <td>4718.43000</td>\n",
       "    </tr>\n",
       "    <tr>\n",
       "      <th>2013-12-30</th>\n",
       "      <td>715.05</td>\n",
       "      <td>758.58</td>\n",
       "      <td>710.40</td>\n",
       "      <td>721.52</td>\n",
       "      <td>4824.67000</td>\n",
       "    </tr>\n",
       "    <tr>\n",
       "      <th>2013-12-31</th>\n",
       "      <td>721.99</td>\n",
       "      <td>756.09</td>\n",
       "      <td>698.17</td>\n",
       "      <td>722.58</td>\n",
       "      <td>4821.72000</td>\n",
       "    </tr>\n",
       "    <tr>\n",
       "      <th>...</th>\n",
       "      <td>...</td>\n",
       "      <td>...</td>\n",
       "      <td>...</td>\n",
       "      <td>...</td>\n",
       "      <td>...</td>\n",
       "    </tr>\n",
       "    <tr>\n",
       "      <th>2023-04-08</th>\n",
       "      <td>27901.31</td>\n",
       "      <td>28149.64</td>\n",
       "      <td>27858.67</td>\n",
       "      <td>27938.79</td>\n",
       "      <td>2412.42480</td>\n",
       "    </tr>\n",
       "    <tr>\n",
       "      <th>2023-04-09</th>\n",
       "      <td>27938.56</td>\n",
       "      <td>28524.38</td>\n",
       "      <td>27803.01</td>\n",
       "      <td>28324.38</td>\n",
       "      <td>3405.00370</td>\n",
       "    </tr>\n",
       "    <tr>\n",
       "      <th>2023-04-10</th>\n",
       "      <td>28330.51</td>\n",
       "      <td>29768.59</td>\n",
       "      <td>28169.23</td>\n",
       "      <td>29639.82</td>\n",
       "      <td>8021.05919</td>\n",
       "    </tr>\n",
       "    <tr>\n",
       "      <th>2023-04-11</th>\n",
       "      <td>29639.50</td>\n",
       "      <td>30542.29</td>\n",
       "      <td>29584.83</td>\n",
       "      <td>30203.64</td>\n",
       "      <td>9411.81865</td>\n",
       "    </tr>\n",
       "    <tr>\n",
       "      <th>2023-04-12</th>\n",
       "      <td>30203.74</td>\n",
       "      <td>30478.23</td>\n",
       "      <td>29655.35</td>\n",
       "      <td>29881.42</td>\n",
       "      <td>8604.39910</td>\n",
       "    </tr>\n",
       "  </tbody>\n",
       "</table>\n",
       "<p>3391 rows × 5 columns</p>\n",
       "</div>"
      ],
      "text/plain": [
       "                Open      High       Low     Close      Volume\n",
       "date                                                          \n",
       "2013-12-27    777.00    779.00    694.84    742.43  1502.36000\n",
       "2013-12-28    710.46    752.42    672.80    732.42  4583.78000\n",
       "2013-12-29    699.61    750.01    690.50    746.28  4718.43000\n",
       "2013-12-30    715.05    758.58    710.40    721.52  4824.67000\n",
       "2013-12-31    721.99    756.09    698.17    722.58  4821.72000\n",
       "...              ...       ...       ...       ...         ...\n",
       "2023-04-08  27901.31  28149.64  27858.67  27938.79  2412.42480\n",
       "2023-04-09  27938.56  28524.38  27803.01  28324.38  3405.00370\n",
       "2023-04-10  28330.51  29768.59  28169.23  29639.82  8021.05919\n",
       "2023-04-11  29639.50  30542.29  29584.83  30203.64  9411.81865\n",
       "2023-04-12  30203.74  30478.23  29655.35  29881.42  8604.39910\n",
       "\n",
       "[3391 rows x 5 columns]"
      ]
     },
     "execution_count": 41,
     "metadata": {},
     "output_type": "execute_result"
    }
   ],
   "source": [
    "btc_usdt"
   ]
  },
  {
   "attachments": {},
   "cell_type": "markdown",
   "metadata": {},
   "source": [
    "### openbb.crypto.dd.mt()\n",
    "\n",
    "This function returns crpyto time-series data from Messari, selectable by `timeseries_id`. Find the appropriate value with, `openbb.crypto.dd.get_mt()`. "
   ]
  },
  {
   "cell_type": "code",
   "execution_count": 28,
   "metadata": {},
   "outputs": [
    {
     "data": {
      "text/html": [
       "<div>\n",
       "<style scoped>\n",
       "    .dataframe tbody tr th:only-of-type {\n",
       "        vertical-align: middle;\n",
       "    }\n",
       "\n",
       "    .dataframe tbody tr th {\n",
       "        vertical-align: top;\n",
       "    }\n",
       "\n",
       "    .dataframe thead th {\n",
       "        text-align: right;\n",
       "    }\n",
       "</style>\n",
       "<table border=\"1\" class=\"dataframe\">\n",
       "  <thead>\n",
       "    <tr style=\"text-align: right;\">\n",
       "      <th></th>\n",
       "      <th>Title</th>\n",
       "      <th>Description</th>\n",
       "      <th>Requires Paid Key</th>\n",
       "      <th>Sources</th>\n",
       "    </tr>\n",
       "    <tr>\n",
       "      <th>id</th>\n",
       "      <th></th>\n",
       "      <th></th>\n",
       "      <th></th>\n",
       "      <th></th>\n",
       "    </tr>\n",
       "  </thead>\n",
       "  <tbody>\n",
       "    <tr>\n",
       "      <th>txn.tfr.erc20.cnt</th>\n",
       "      <td>ERC-20 Transfer Count</td>\n",
       "      <td>The sum count of ERC-20 transfers in that inte...</td>\n",
       "      <td>False</td>\n",
       "      <td>Coinmetrics</td>\n",
       "    </tr>\n",
       "    <tr>\n",
       "      <th>min.rev.ntv</th>\n",
       "      <td>Miner Revenue (Native Units)</td>\n",
       "      <td>The sum of all miner revenue, which constitute...</td>\n",
       "      <td>False</td>\n",
       "      <td>Coinmetrics</td>\n",
       "    </tr>\n",
       "    <tr>\n",
       "      <th>txn.vol</th>\n",
       "      <td>Transaction Volume</td>\n",
       "      <td>The sum USD value of all native units transfer...</td>\n",
       "      <td>False</td>\n",
       "      <td>Coinmetrics</td>\n",
       "    </tr>\n",
       "    <tr>\n",
       "      <th>exch.flow.out.ntv.incl</th>\n",
       "      <td>Withdrawals from Exchanges - Inclusive (Native...</td>\n",
       "      <td>The amount of the asset withdrawn from exchang...</td>\n",
       "      <td>False</td>\n",
       "      <td>Coinmetrics</td>\n",
       "    </tr>\n",
       "    <tr>\n",
       "      <th>min.rev.usd</th>\n",
       "      <td>Miner Revenue</td>\n",
       "      <td>The sum USD value of all miner revenue, which ...</td>\n",
       "      <td>False</td>\n",
       "      <td>Coinmetrics,Kaiko</td>\n",
       "    </tr>\n",
       "    <tr>\n",
       "      <th>...</th>\n",
       "      <td>...</td>\n",
       "      <td>...</td>\n",
       "      <td>...</td>\n",
       "      <td>...</td>\n",
       "    </tr>\n",
       "    <tr>\n",
       "      <th>daily.shp</th>\n",
       "      <td>Sharpe Ratio</td>\n",
       "      <td>The Sharpe ratio (performance of the asset com...</td>\n",
       "      <td>False</td>\n",
       "      <td>Kaiko</td>\n",
       "    </tr>\n",
       "    <tr>\n",
       "      <th>iss.rate</th>\n",
       "      <td>Annual Issuance Rate</td>\n",
       "      <td>The percentage of new native units (continuous...</td>\n",
       "      <td>False</td>\n",
       "      <td>Coinmetrics</td>\n",
       "    </tr>\n",
       "    <tr>\n",
       "      <th>price</th>\n",
       "      <td>Price</td>\n",
       "      <td>Volume weighted average price computed using M...</td>\n",
       "      <td>False</td>\n",
       "      <td>Kaiko</td>\n",
       "    </tr>\n",
       "    <tr>\n",
       "      <th>txn.fee.avg.ntv</th>\n",
       "      <td>Average Transaction Fees (Native Units)</td>\n",
       "      <td>The mean fee per transaction in native units t...</td>\n",
       "      <td>False</td>\n",
       "      <td>Coinmetrics</td>\n",
       "    </tr>\n",
       "    <tr>\n",
       "      <th>txn.tfr.val.med</th>\n",
       "      <td>Median Transfer Value</td>\n",
       "      <td>The median USD value transferred per transfer ...</td>\n",
       "      <td>False</td>\n",
       "      <td>Coinmetrics</td>\n",
       "    </tr>\n",
       "  </tbody>\n",
       "</table>\n",
       "<p>61 rows × 4 columns</p>\n",
       "</div>"
      ],
      "text/plain": [
       "                                                                    Title  \\\n",
       "id                                                                          \n",
       "txn.tfr.erc20.cnt                                   ERC-20 Transfer Count   \n",
       "min.rev.ntv                                  Miner Revenue (Native Units)   \n",
       "txn.vol                                                Transaction Volume   \n",
       "exch.flow.out.ntv.incl  Withdrawals from Exchanges - Inclusive (Native...   \n",
       "min.rev.usd                                                 Miner Revenue   \n",
       "...                                                                   ...   \n",
       "daily.shp                                                    Sharpe Ratio   \n",
       "iss.rate                                             Annual Issuance Rate   \n",
       "price                                                               Price   \n",
       "txn.fee.avg.ntv                   Average Transaction Fees (Native Units)   \n",
       "txn.tfr.val.med                                     Median Transfer Value   \n",
       "\n",
       "                                                              Description  \\\n",
       "id                                                                          \n",
       "txn.tfr.erc20.cnt       The sum count of ERC-20 transfers in that inte...   \n",
       "min.rev.ntv             The sum of all miner revenue, which constitute...   \n",
       "txn.vol                 The sum USD value of all native units transfer...   \n",
       "exch.flow.out.ntv.incl  The amount of the asset withdrawn from exchang...   \n",
       "min.rev.usd             The sum USD value of all miner revenue, which ...   \n",
       "...                                                                   ...   \n",
       "daily.shp               The Sharpe ratio (performance of the asset com...   \n",
       "iss.rate                The percentage of new native units (continuous...   \n",
       "price                   Volume weighted average price computed using M...   \n",
       "txn.fee.avg.ntv         The mean fee per transaction in native units t...   \n",
       "txn.tfr.val.med         The median USD value transferred per transfer ...   \n",
       "\n",
       "                        Requires Paid Key            Sources  \n",
       "id                                                            \n",
       "txn.tfr.erc20.cnt                   False        Coinmetrics  \n",
       "min.rev.ntv                         False        Coinmetrics  \n",
       "txn.vol                             False        Coinmetrics  \n",
       "exch.flow.out.ntv.incl              False        Coinmetrics  \n",
       "min.rev.usd                         False  Coinmetrics,Kaiko  \n",
       "...                                   ...                ...  \n",
       "daily.shp                           False              Kaiko  \n",
       "iss.rate                            False        Coinmetrics  \n",
       "price                               False              Kaiko  \n",
       "txn.fee.avg.ntv                     False        Coinmetrics  \n",
       "txn.tfr.val.med                     False        Coinmetrics  \n",
       "\n",
       "[61 rows x 4 columns]"
      ]
     },
     "execution_count": 28,
     "metadata": {},
     "output_type": "execute_result"
    }
   ],
   "source": [
    "openbb.crypto.dd.get_mt()"
   ]
  },
  {
   "cell_type": "code",
   "execution_count": 29,
   "metadata": {},
   "outputs": [
    {
     "data": {
      "text/html": [
       "<div>\n",
       "<style scoped>\n",
       "    .dataframe tbody tr th:only-of-type {\n",
       "        vertical-align: middle;\n",
       "    }\n",
       "\n",
       "    .dataframe tbody tr th {\n",
       "        vertical-align: top;\n",
       "    }\n",
       "\n",
       "    .dataframe thead th {\n",
       "        text-align: right;\n",
       "    }\n",
       "</style>\n",
       "<table border=\"1\" class=\"dataframe\">\n",
       "  <thead>\n",
       "    <tr style=\"text-align: right;\">\n",
       "      <th></th>\n",
       "      <th>open</th>\n",
       "      <th>high</th>\n",
       "      <th>low</th>\n",
       "      <th>close</th>\n",
       "      <th>volume</th>\n",
       "    </tr>\n",
       "    <tr>\n",
       "      <th>timestamp</th>\n",
       "      <th></th>\n",
       "      <th></th>\n",
       "      <th></th>\n",
       "      <th></th>\n",
       "      <th></th>\n",
       "    </tr>\n",
       "  </thead>\n",
       "  <tbody>\n",
       "    <tr>\n",
       "      <th>2015-08-10</th>\n",
       "      <td>0.648707</td>\n",
       "      <td>2.237367</td>\n",
       "      <td>0.603205</td>\n",
       "      <td>1.608072</td>\n",
       "      <td>2.097282e+06</td>\n",
       "    </tr>\n",
       "    <tr>\n",
       "      <th>2015-08-24</th>\n",
       "      <td>1.322712</td>\n",
       "      <td>1.388551</td>\n",
       "      <td>1.052930</td>\n",
       "      <td>1.317280</td>\n",
       "      <td>5.410970e+05</td>\n",
       "    </tr>\n",
       "    <tr>\n",
       "      <th>2015-09-07</th>\n",
       "      <td>1.306615</td>\n",
       "      <td>1.317278</td>\n",
       "      <td>0.915953</td>\n",
       "      <td>0.934512</td>\n",
       "      <td>4.992946e+05</td>\n",
       "    </tr>\n",
       "    <tr>\n",
       "      <th>2015-09-21</th>\n",
       "      <td>0.958794</td>\n",
       "      <td>0.959938</td>\n",
       "      <td>0.700710</td>\n",
       "      <td>0.725005</td>\n",
       "      <td>2.127151e+05</td>\n",
       "    </tr>\n",
       "    <tr>\n",
       "      <th>2015-10-05</th>\n",
       "      <td>0.670480</td>\n",
       "      <td>0.692221</td>\n",
       "      <td>0.592912</td>\n",
       "      <td>0.640576</td>\n",
       "      <td>1.482326e+05</td>\n",
       "    </tr>\n",
       "    <tr>\n",
       "      <th>...</th>\n",
       "      <td>...</td>\n",
       "      <td>...</td>\n",
       "      <td>...</td>\n",
       "      <td>...</td>\n",
       "      <td>...</td>\n",
       "    </tr>\n",
       "    <tr>\n",
       "      <th>2023-03-06</th>\n",
       "      <td>1564.720953</td>\n",
       "      <td>1607.755943</td>\n",
       "      <td>1370.296009</td>\n",
       "      <td>1591.940871</td>\n",
       "      <td>1.927949e+10</td>\n",
       "    </tr>\n",
       "    <tr>\n",
       "      <th>2023-03-13</th>\n",
       "      <td>1591.384814</td>\n",
       "      <td>1845.873308</td>\n",
       "      <td>1571.116756</td>\n",
       "      <td>1785.852108</td>\n",
       "      <td>2.467113e+10</td>\n",
       "    </tr>\n",
       "    <tr>\n",
       "      <th>2023-03-20</th>\n",
       "      <td>1785.927549</td>\n",
       "      <td>1859.757905</td>\n",
       "      <td>1715.387057</td>\n",
       "      <td>1775.675515</td>\n",
       "      <td>1.842308e+10</td>\n",
       "    </tr>\n",
       "    <tr>\n",
       "      <th>2023-03-27</th>\n",
       "      <td>1775.538456</td>\n",
       "      <td>1846.896743</td>\n",
       "      <td>1687.625419</td>\n",
       "      <td>1795.636074</td>\n",
       "      <td>1.431715e+10</td>\n",
       "    </tr>\n",
       "    <tr>\n",
       "      <th>2023-04-03</th>\n",
       "      <td>1795.493218</td>\n",
       "      <td>1940.066022</td>\n",
       "      <td>1763.769598</td>\n",
       "      <td>1860.226508</td>\n",
       "      <td>1.304167e+10</td>\n",
       "    </tr>\n",
       "  </tbody>\n",
       "</table>\n",
       "<p>206 rows × 5 columns</p>\n",
       "</div>"
      ],
      "text/plain": [
       "                   open         high          low        close        volume\n",
       "timestamp                                                                   \n",
       "2015-08-10     0.648707     2.237367     0.603205     1.608072  2.097282e+06\n",
       "2015-08-24     1.322712     1.388551     1.052930     1.317280  5.410970e+05\n",
       "2015-09-07     1.306615     1.317278     0.915953     0.934512  4.992946e+05\n",
       "2015-09-21     0.958794     0.959938     0.700710     0.725005  2.127151e+05\n",
       "2015-10-05     0.670480     0.692221     0.592912     0.640576  1.482326e+05\n",
       "...                 ...          ...          ...          ...           ...\n",
       "2023-03-06  1564.720953  1607.755943  1370.296009  1591.940871  1.927949e+10\n",
       "2023-03-13  1591.384814  1845.873308  1571.116756  1785.852108  2.467113e+10\n",
       "2023-03-20  1785.927549  1859.757905  1715.387057  1775.675515  1.842308e+10\n",
       "2023-03-27  1775.538456  1846.896743  1687.625419  1795.636074  1.431715e+10\n",
       "2023-04-03  1795.493218  1940.066022  1763.769598  1860.226508  1.304167e+10\n",
       "\n",
       "[206 rows x 5 columns]"
      ]
     },
     "execution_count": 29,
     "metadata": {},
     "output_type": "execute_result"
    }
   ],
   "source": [
    "openbb.crypto.dd.mt('eth', timeseries_id='price', start_date = '2010-01-01', interval = '1w')[0]"
   ]
  }
 ],
 "metadata": {
  "kernelspec": {
   "display_name": "obb",
   "language": "python",
   "name": "python3"
  },
  "language_info": {
   "codemirror_mode": {
    "name": "ipython",
    "version": 3
   },
   "file_extension": ".py",
   "mimetype": "text/x-python",
   "name": "python",
   "nbconvert_exporter": "python",
   "pygments_lexer": "ipython3",
   "version": "3.10.8"
  },
  "orig_nbformat": 4
 },
 "nbformat": 4,
 "nbformat_minor": 2
}
