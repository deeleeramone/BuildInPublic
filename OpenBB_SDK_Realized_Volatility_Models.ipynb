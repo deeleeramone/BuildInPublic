{
 "cells": [
  {
   "attachments": {},
   "cell_type": "markdown",
   "metadata": {},
   "source": [
    "# Realized Volatility Models in the OpenBB SDK\n",
    "\n",
    "The same, six, realized volatility models from the, *Getting Started With Python for Quant Finance*, course have been integrated with the OpenBB SDK, as of version 2.5. Each model is callable through its own function, as well an additional function for realized volatility quantiles of any asset with OHLC data. If you aren't already familiar with his work, Jason's newsletter provides usable, relavant, and practical code to your inbox every week. If you are new, to finance or to Python, the community Jason has built is a valuable resource for any type of user and his style of communication is highly effective. Check out the course [here](​https://gettingstartedwithpythonforquantfinance.com/?ref=ezyapsobd​). This notebook is a sample of what the course has to offer, applied through building in public.\n",
    "\n",
    "To begin, import the OpenBB SDK as well as the Pandas library."
   ]
  },
  {
   "cell_type": "code",
   "execution_count": 1,
   "metadata": {},
   "outputs": [],
   "source": [
    "# Import statements\n",
    "\n",
    "import pandas as pd\n",
    "from openbb_terminal.sdk import openbb\n",
    "\n",
    "%matplotlib inline"
   ]
  },
  {
   "attachments": {},
   "cell_type": "markdown",
   "metadata": {},
   "source": [
    "## End Points\n",
    "\n",
    "The cones function is for the rolling quantiles, while the other functions return historical calculations over a specific window. The `cones` function applies a `for` loop over many windows, grouping the results into selectable quantiles.\n",
    "\n",
    "`windows = [3, 10, 30, 60, 90, 120, 150, 180, 210, 240, 300, 360]`\n",
    "\n",
    "`openbb.ta.cones()`\n",
    "\n",
    "`openbb.ta.rvol_garman_klass()`\n",
    "\n",
    "`openbb.ta.rvol_hodges_tompkins()`\n",
    "\n",
    "`openbb.ta.rvol_parkinson()`\n",
    "\n",
    "`openbb.ta_rvol_rogers_satchell()`\n",
    "\n",
    "`openbb.ta.rvol_std()`\n",
    "\n",
    "`openbb.ta.rvol_yang_zhang()`"
   ]
  },
  {
   "attachments": {},
   "cell_type": "markdown",
   "metadata": {},
   "source": [
    "## Collect Some Data\n",
    "\n",
    "One of the primary steps for most workflows is to capture historical price data. The most robust method is to use the `load` function from the `stocks` module. "
   ]
  },
  {
   "cell_type": "code",
   "execution_count": 2,
   "metadata": {},
   "outputs": [
    {
     "data": {
      "text/html": [
       "<pre style=\"white-space:pre;overflow-x:auto;line-height:normal;font-family:Menlo,'DejaVu Sans Mono',consolas,'Courier New',monospace\">Loading Daily data for SPY with starting period 1993-01-29.\n",
       "</pre>\n"
      ],
      "text/plain": [
       "Loading Daily data for SPY with starting period 1993-01-29.\n"
      ]
     },
     "metadata": {},
     "output_type": "display_data"
    }
   ],
   "source": [
    "# This will obtain daily price data for the complete history of SPY. The start date only needs to be before the first trading day of SPY, no end date is required to obtain the full history.\n",
    "\n",
    "df = openbb.stocks.load(\"SPY\", start_date = '1990-01-01')"
   ]
  },
  {
   "attachments": {},
   "cell_type": "markdown",
   "metadata": {},
   "source": [
    "## Function Inputs and Parameters\n",
    "\n",
    "The primary input for each function is a Pandas DataFrame containing OHLC data. All other parameters have default settings which do not require additional user input. The `is_crypto` boolean provides an easy switch for the number of trading-days-per-year. 252 is the standard for equities and trad-fi, while `is_crypto = True` enforces 365.\n"
   ]
  },
  {
   "cell_type": "code",
   "execution_count": 3,
   "metadata": {},
   "outputs": [
    {
     "name": "stdout",
     "output_type": "stream",
     "text": [
      "\u001b[0;31mSignature:\u001b[0m     \n",
      "\u001b[0mopenbb\u001b[0m\u001b[0;34m.\u001b[0m\u001b[0mta\u001b[0m\u001b[0;34m.\u001b[0m\u001b[0mcones\u001b[0m\u001b[0;34m(\u001b[0m\u001b[0;34m\u001b[0m\n",
      "\u001b[0;34m\u001b[0m    \u001b[0mdata\u001b[0m\u001b[0;34m:\u001b[0m \u001b[0mpandas\u001b[0m\u001b[0;34m.\u001b[0m\u001b[0mcore\u001b[0m\u001b[0;34m.\u001b[0m\u001b[0mframe\u001b[0m\u001b[0;34m.\u001b[0m\u001b[0mDataFrame\u001b[0m\u001b[0;34m,\u001b[0m\u001b[0;34m\u001b[0m\n",
      "\u001b[0;34m\u001b[0m    \u001b[0mlower_q\u001b[0m\u001b[0;34m:\u001b[0m \u001b[0mfloat\u001b[0m \u001b[0;34m=\u001b[0m \u001b[0;36m0.25\u001b[0m\u001b[0;34m,\u001b[0m\u001b[0;34m\u001b[0m\n",
      "\u001b[0;34m\u001b[0m    \u001b[0mupper_q\u001b[0m\u001b[0;34m:\u001b[0m \u001b[0mfloat\u001b[0m \u001b[0;34m=\u001b[0m \u001b[0;36m0.75\u001b[0m\u001b[0;34m,\u001b[0m\u001b[0;34m\u001b[0m\n",
      "\u001b[0;34m\u001b[0m    \u001b[0mis_crypto\u001b[0m\u001b[0;34m:\u001b[0m \u001b[0mbool\u001b[0m \u001b[0;34m=\u001b[0m \u001b[0;32mFalse\u001b[0m\u001b[0;34m,\u001b[0m\u001b[0;34m\u001b[0m\n",
      "\u001b[0;34m\u001b[0m    \u001b[0mmodel\u001b[0m\u001b[0;34m:\u001b[0m \u001b[0mstr\u001b[0m \u001b[0;34m=\u001b[0m \u001b[0;34m'STD'\u001b[0m\u001b[0;34m,\u001b[0m\u001b[0;34m\u001b[0m\n",
      "\u001b[0;34m\u001b[0m\u001b[0;34m)\u001b[0m \u001b[0;34m->\u001b[0m \u001b[0mpandas\u001b[0m\u001b[0;34m.\u001b[0m\u001b[0mcore\u001b[0m\u001b[0;34m.\u001b[0m\u001b[0mframe\u001b[0m\u001b[0;34m.\u001b[0m\u001b[0mDataFrame\u001b[0m\u001b[0;34m\u001b[0m\u001b[0;34m\u001b[0m\u001b[0m\n",
      "\u001b[0;31mCall signature:\u001b[0m \u001b[0mopenbb\u001b[0m\u001b[0;34m.\u001b[0m\u001b[0mta\u001b[0m\u001b[0;34m.\u001b[0m\u001b[0mcones\u001b[0m\u001b[0;34m(\u001b[0m\u001b[0;34m*\u001b[0m\u001b[0margs\u001b[0m\u001b[0;34m:\u001b[0m \u001b[0mAny\u001b[0m\u001b[0;34m,\u001b[0m \u001b[0;34m**\u001b[0m\u001b[0mkwargs\u001b[0m\u001b[0;34m:\u001b[0m \u001b[0mAny\u001b[0m\u001b[0;34m)\u001b[0m \u001b[0;34m->\u001b[0m \u001b[0mAny\u001b[0m\u001b[0;34m\u001b[0m\u001b[0;34m\u001b[0m\u001b[0m\n",
      "\u001b[0;31mType:\u001b[0m           cones\n",
      "\u001b[0;31mString form:\u001b[0m    <openbb_terminal.common.technical_analysis.volatility_model.Operation object at 0x29ee8b1c0>\n",
      "\u001b[0;31mFile:\u001b[0m           ~/GitHub/OpenBBTerminal/openbb_terminal/common/technical_analysis/volatility_model.py\n",
      "\u001b[0;31mDocstring:\u001b[0m     \n",
      "Returns a DataFrame of realized volatility quantiles.\n",
      "\n",
      "Parameters\n",
      "---------\n",
      "data: pd.DataFrame\n",
      "    DataFrame of the OHLC data.\n",
      "lower_q: float (default = 0.25)\n",
      "    The lower quantile to calculate the realized volatility over time for.\n",
      "upper_q: float (default = 0.75)\n",
      "    The upper quantile to calculate the realized volatility over time for.\n",
      "is_crypto: bool (default = False)\n",
      "    If true, volatility is calculated for 365 days instead of 252.\n",
      "model: str (default = \"STD\")\n",
      "    The model to use for volatility calculation. Choices are:\n",
      "    [\"STD\", \"Parkinson\", \"Garman-Klass\", \"Hodges-Tompkins\", \"Rogers-Satchell\", \"Yang-Zhang\"]\n",
      "\n",
      "        Standard deviation measures how widely returns are dispersed from the average return.\n",
      "        It is the most common (and biased) estimator of volatility.\n",
      "\n",
      "        Parkinson volatility uses the high and low price of the day rather than just close to close prices.\n",
      "        It is useful for capturing large price movements during the day.\n",
      "\n",
      "        Garman-Klass volatility extends Parkinson volatility by taking into account the opening and closing price.\n",
      "        As markets are most active during the opening and closing of a trading session,\n",
      "        it makes volatility estimation more accurate.\n",
      "\n",
      "        Hodges-Tompkins volatility is a bias correction for estimation using an overlapping data sample.\n",
      "        It produces unbiased estimates and a substantial gain in efficiency.\n",
      "\n",
      "        Rogers-Satchell is an estimator for measuring the volatility with an average return not equal to zero.\n",
      "        Unlike Parkinson and Garman-Klass estimators, Rogers-Satchell incorporates a drift term,\n",
      "        mean return not equal to zero.\n",
      "\n",
      "        Yang-Zhang volatility is the combination of the overnight (close-to-open volatility).\n",
      "        It is a weighted average of the Rogers-Satchell volatility and the open-to-close volatility.\n",
      "\n",
      "Returns\n",
      "-------\n",
      "pd.DataFrame: cones\n",
      "    DataFrame of realized volatility quantiles.\n",
      "\n",
      "Example\n",
      "-------\n",
      ">>> df = openbb.stocks.load(\"AAPL\")\n",
      ">>> cones_df = openbb.ta.cones(data = df, lower_q = 0.10, upper_q = 0.90)\n",
      "\n",
      ">>> cones_df = openbb.ta.cones(df,0.15,0.85,False,\"Garman-Klass\")"
     ]
    }
   ],
   "source": [
    "openbb.ta.cones?"
   ]
  },
  {
   "cell_type": "code",
   "execution_count": 4,
   "metadata": {},
   "outputs": [
    {
     "name": "stdout",
     "output_type": "stream",
     "text": [
      "\u001b[0;31mSignature:\u001b[0m     \n",
      "\u001b[0mopenbb\u001b[0m\u001b[0;34m.\u001b[0m\u001b[0mta\u001b[0m\u001b[0;34m.\u001b[0m\u001b[0mrvol_parkinson\u001b[0m\u001b[0;34m(\u001b[0m\u001b[0;34m\u001b[0m\n",
      "\u001b[0;34m\u001b[0m    \u001b[0mdata\u001b[0m\u001b[0;34m:\u001b[0m \u001b[0mpandas\u001b[0m\u001b[0;34m.\u001b[0m\u001b[0mcore\u001b[0m\u001b[0;34m.\u001b[0m\u001b[0mframe\u001b[0m\u001b[0;34m.\u001b[0m\u001b[0mDataFrame\u001b[0m\u001b[0;34m,\u001b[0m\u001b[0;34m\u001b[0m\n",
      "\u001b[0;34m\u001b[0m    \u001b[0mwindow\u001b[0m\u001b[0;34m:\u001b[0m \u001b[0mint\u001b[0m \u001b[0;34m=\u001b[0m \u001b[0;36m30\u001b[0m\u001b[0;34m,\u001b[0m\u001b[0;34m\u001b[0m\n",
      "\u001b[0;34m\u001b[0m    \u001b[0mtrading_periods\u001b[0m\u001b[0;34m:\u001b[0m \u001b[0mOptional\u001b[0m\u001b[0;34m[\u001b[0m\u001b[0mint\u001b[0m\u001b[0;34m]\u001b[0m \u001b[0;34m=\u001b[0m \u001b[0;32mNone\u001b[0m\u001b[0;34m,\u001b[0m\u001b[0;34m\u001b[0m\n",
      "\u001b[0;34m\u001b[0m    \u001b[0mis_crypto\u001b[0m\u001b[0;34m:\u001b[0m \u001b[0mbool\u001b[0m \u001b[0;34m=\u001b[0m \u001b[0;32mFalse\u001b[0m\u001b[0;34m,\u001b[0m\u001b[0;34m\u001b[0m\n",
      "\u001b[0;34m\u001b[0m    \u001b[0mclean\u001b[0m\u001b[0;34m=\u001b[0m\u001b[0;32mTrue\u001b[0m\u001b[0;34m,\u001b[0m\u001b[0;34m\u001b[0m\n",
      "\u001b[0;34m\u001b[0m\u001b[0;34m)\u001b[0m \u001b[0;34m->\u001b[0m \u001b[0mpandas\u001b[0m\u001b[0;34m.\u001b[0m\u001b[0mcore\u001b[0m\u001b[0;34m.\u001b[0m\u001b[0mframe\u001b[0m\u001b[0;34m.\u001b[0m\u001b[0mDataFrame\u001b[0m\u001b[0;34m\u001b[0m\u001b[0;34m\u001b[0m\u001b[0m\n",
      "\u001b[0;31mCall signature:\u001b[0m \u001b[0mopenbb\u001b[0m\u001b[0;34m.\u001b[0m\u001b[0mta\u001b[0m\u001b[0;34m.\u001b[0m\u001b[0mrvol_parkinson\u001b[0m\u001b[0;34m(\u001b[0m\u001b[0;34m*\u001b[0m\u001b[0margs\u001b[0m\u001b[0;34m:\u001b[0m \u001b[0mAny\u001b[0m\u001b[0;34m,\u001b[0m \u001b[0;34m**\u001b[0m\u001b[0mkwargs\u001b[0m\u001b[0;34m:\u001b[0m \u001b[0mAny\u001b[0m\u001b[0;34m)\u001b[0m \u001b[0;34m->\u001b[0m \u001b[0mAny\u001b[0m\u001b[0;34m\u001b[0m\u001b[0;34m\u001b[0m\u001b[0m\n",
      "\u001b[0;31mType:\u001b[0m           parkinson\n",
      "\u001b[0;31mString form:\u001b[0m    <openbb_terminal.common.technical_analysis.volatility_model.Operation object at 0x107284280>\n",
      "\u001b[0;31mFile:\u001b[0m           ~/GitHub/OpenBBTerminal/openbb_terminal/common/technical_analysis/volatility_model.py\n",
      "\u001b[0;31mDocstring:\u001b[0m     \n",
      "Parkinson volatility uses the high and low price of the day rather than just close to close prices.\n",
      "It is useful for capturing large price movements during the day.\n",
      "\n",
      "Parameters\n",
      "----------\n",
      "data : pd.DataFrame\n",
      "    Dataframe of OHLC prices.\n",
      "window : int [default: 30]\n",
      "    Length of window to calculate over.\n",
      "trading_periods : Optional[int] [default: 252]\n",
      "    Number of trading periods in a year.\n",
      "is_crypto : bool [default: False]\n",
      "    If true, trading_periods is defined as 365.\n",
      "clean : bool [default: True]\n",
      "    Whether to clean the data or not by dropping NaN values.\n",
      "\n",
      "Returns\n",
      "-------\n",
      "pd.DataFrame : results\n",
      "    Dataframe with results.\n",
      "\n",
      "Example\n",
      "-------\n",
      ">>> data = openbb.stocks.load('BTC-USD')\n",
      ">>> df = openbb.ta.rvol_parkinson(data, is_crypto = True)"
     ]
    }
   ],
   "source": [
    "openbb.ta.rvol_parkinson?"
   ]
  },
  {
   "attachments": {},
   "cell_type": "markdown",
   "metadata": {},
   "source": [
    "## Sample Outputs\n",
    "\n",
    "Let's take a look at what the expected outputs are. The data we have loaded already is the complete daily OHLC history of SPY. "
   ]
  },
  {
   "cell_type": "code",
   "execution_count": 5,
   "metadata": {},
   "outputs": [
    {
     "data": {
      "text/html": [
       "<div>\n",
       "<style scoped>\n",
       "    .dataframe tbody tr th:only-of-type {\n",
       "        vertical-align: middle;\n",
       "    }\n",
       "\n",
       "    .dataframe tbody tr th {\n",
       "        vertical-align: top;\n",
       "    }\n",
       "\n",
       "    .dataframe thead th {\n",
       "        text-align: right;\n",
       "    }\n",
       "</style>\n",
       "<table border=\"1\" class=\"dataframe\">\n",
       "  <thead>\n",
       "    <tr style=\"text-align: right;\">\n",
       "      <th></th>\n",
       "      <th>Open</th>\n",
       "      <th>High</th>\n",
       "      <th>Low</th>\n",
       "      <th>Close</th>\n",
       "      <th>Adj Close</th>\n",
       "      <th>Volume</th>\n",
       "      <th>Dividends</th>\n",
       "      <th>Stock Splits</th>\n",
       "    </tr>\n",
       "    <tr>\n",
       "      <th>date</th>\n",
       "      <th></th>\n",
       "      <th></th>\n",
       "      <th></th>\n",
       "      <th></th>\n",
       "      <th></th>\n",
       "      <th></th>\n",
       "      <th></th>\n",
       "      <th></th>\n",
       "    </tr>\n",
       "  </thead>\n",
       "  <tbody>\n",
       "    <tr>\n",
       "      <th>1993-01-29</th>\n",
       "      <td>25.140226</td>\n",
       "      <td>25.140226</td>\n",
       "      <td>25.015151</td>\n",
       "      <td>25.122358</td>\n",
       "      <td>25.122358</td>\n",
       "      <td>1003200</td>\n",
       "      <td>0.0</td>\n",
       "      <td>0.0</td>\n",
       "    </tr>\n",
       "  </tbody>\n",
       "</table>\n",
       "</div>"
      ],
      "text/plain": [
       "                 Open       High        Low      Close  Adj Close   Volume  \\\n",
       "date                                                                         \n",
       "1993-01-29  25.140226  25.140226  25.015151  25.122358  25.122358  1003200   \n",
       "\n",
       "            Dividends  Stock Splits  \n",
       "date                                 \n",
       "1993-01-29        0.0           0.0  "
      ]
     },
     "execution_count": 5,
     "metadata": {},
     "output_type": "execute_result"
    }
   ],
   "source": [
    "df.head(1)"
   ]
  },
  {
   "attachments": {},
   "cell_type": "markdown",
   "metadata": {},
   "source": [
    "### Standard Deviation Model\n",
    "\n",
    "This model requires a minimum window of two trading periods, the default is thirty. The calculations, by default, are annualized over 252 trading-days-per-year. To change this behaviour:\n",
    "\n",
    "- `is_crypto = True` to annualize over 365 days.\n",
    "- Enter an integer value for the `trading_periods` argument. "
   ]
  },
  {
   "cell_type": "code",
   "execution_count": 6,
   "metadata": {},
   "outputs": [
    {
     "name": "stdout",
     "output_type": "stream",
     "text": [
      "Error: Window must be at least 2, defaulting to 30.\n"
     ]
    },
    {
     "data": {
      "text/plain": [
       "date\n",
       "1993-03-15    0.133722\n",
       "1993-03-16    0.132503\n",
       "1993-03-17    0.133975\n",
       "1993-03-18    0.131751\n",
       "1993-03-19    0.131354\n",
       "                ...   \n",
       "2023-03-20    0.167943\n",
       "2023-03-21    0.172399\n",
       "2023-03-22    0.173647\n",
       "2023-03-23    0.171859\n",
       "2023-03-24    0.171847\n",
       "Name: Close, Length: 7563, dtype: float64"
      ]
     },
     "execution_count": 6,
     "metadata": {},
     "output_type": "execute_result"
    }
   ],
   "source": [
    "openbb.ta.rvol_std(df, window = 1)"
   ]
  },
  {
   "attachments": {},
   "cell_type": "markdown",
   "metadata": {},
   "source": [
    "For each model there is an override for the `is_crypto` boolean that allows any period to be entered. A message will print indicating that 365 has been overridden. "
   ]
  },
  {
   "cell_type": "code",
   "execution_count": 7,
   "metadata": {},
   "outputs": [
    {
     "name": "stdout",
     "output_type": "stream",
     "text": [
      "is_crypto is overridden by trading_periods.\n"
     ]
    },
    {
     "data": {
      "text/plain": [
       "date\n",
       "1994-07-12    0.008657\n",
       "1994-07-13    0.008643\n",
       "1994-07-14    0.008677\n",
       "1994-07-15    0.008643\n",
       "1994-07-18    0.008638\n",
       "                ...   \n",
       "2023-03-20    0.019477\n",
       "2023-03-21    0.019499\n",
       "2023-03-22    0.019529\n",
       "2023-03-23    0.019530\n",
       "2023-03-24    0.019529\n",
       "Name: Close, Length: 7228, dtype: float64"
      ]
     },
     "execution_count": 7,
     "metadata": {},
     "output_type": "execute_result"
    }
   ],
   "source": [
    "openbb.ta.rvol_std(df, trading_periods = 2, window = 365, is_crypto = True)"
   ]
  },
  {
   "cell_type": "code",
   "execution_count": 8,
   "metadata": {},
   "outputs": [
    {
     "data": {
      "text/plain": [
       "date\n",
       "1993-02-02    0.055789\n",
       "1993-02-03    0.094274\n",
       "1993-02-04    0.071170\n",
       "1993-02-05    0.054669\n",
       "1993-02-08    0.007805\n",
       "                ...   \n",
       "2023-03-20    0.239443\n",
       "2023-03-21    0.039011\n",
       "2023-03-22    0.339427\n",
       "2023-03-23    0.223301\n",
       "2023-03-24    0.043113\n",
       "Name: Close, Length: 7591, dtype: float64"
      ]
     },
     "execution_count": 8,
     "metadata": {},
     "output_type": "execute_result"
    }
   ],
   "source": [
    "openbb.ta.rvol_std(df, window = 2)"
   ]
  },
  {
   "attachments": {},
   "cell_type": "markdown",
   "metadata": {},
   "source": [
    "Notice the difference  in the output when the `is_crypto` argument is deployed."
   ]
  },
  {
   "cell_type": "code",
   "execution_count": 9,
   "metadata": {},
   "outputs": [
    {
     "data": {
      "text/plain": [
       "date\n",
       "1993-02-02    0.067142\n",
       "1993-02-03    0.113459\n",
       "1993-02-04    0.085654\n",
       "1993-02-05    0.065794\n",
       "1993-02-08    0.009393\n",
       "                ...   \n",
       "2023-03-20    0.288170\n",
       "2023-03-21    0.046950\n",
       "2023-03-22    0.408500\n",
       "2023-03-23    0.268742\n",
       "2023-03-24    0.051887\n",
       "Name: Close, Length: 7591, dtype: float64"
      ]
     },
     "execution_count": 9,
     "metadata": {},
     "output_type": "execute_result"
    }
   ],
   "source": [
    "openbb.ta.rvol_std(df, is_crypto = True, window = 2)"
   ]
  },
  {
   "cell_type": "code",
   "execution_count": 10,
   "metadata": {},
   "outputs": [
    {
     "data": {
      "text/plain": [
       "date\n",
       "1993-02-12    0.090819\n",
       "1993-02-16    0.157636\n",
       "1993-02-17    0.156309\n",
       "1993-02-18    0.140351\n",
       "1993-02-19    0.139524\n",
       "                ...   \n",
       "2023-03-20    0.210911\n",
       "2023-03-21    0.209704\n",
       "2023-03-22    0.227502\n",
       "2023-03-23    0.206348\n",
       "2023-03-24    0.188904\n",
       "Name: Close, Length: 7583, dtype: float64"
      ]
     },
     "execution_count": 10,
     "metadata": {},
     "output_type": "execute_result"
    }
   ],
   "source": [
    "openbb.ta.rvol_std(df, window = 10, is_crypto = False)"
   ]
  },
  {
   "cell_type": "code",
   "execution_count": 11,
   "metadata": {},
   "outputs": [
    {
     "data": {
      "text/plain": [
       "date\n",
       "1993-02-12    0.109301\n",
       "1993-02-16    0.189714\n",
       "1993-02-17    0.188118\n",
       "1993-02-18    0.168912\n",
       "1993-02-19    0.167918\n",
       "                ...   \n",
       "2023-03-20    0.253831\n",
       "2023-03-21    0.252379\n",
       "2023-03-22    0.273799\n",
       "2023-03-23    0.248340\n",
       "2023-03-24    0.227346\n",
       "Name: Close, Length: 7583, dtype: float64"
      ]
     },
     "execution_count": 11,
     "metadata": {},
     "output_type": "execute_result"
    }
   ],
   "source": [
    "openbb.ta.rvol_std(df, window = 10, is_crypto = True)"
   ]
  },
  {
   "attachments": {},
   "cell_type": "markdown",
   "metadata": {},
   "source": [
    "The other models operate in exactly the same way. Let's examine the difference of output.\n",
    "\n",
    "### Parkinson Model\n",
    "\n",
    "Print the docstrings with: `help(openbb.ta.rvol_parkinson)`, or in a notebook: `openbb.ta.rvol_parkinson?`"
   ]
  },
  {
   "cell_type": "code",
   "execution_count": 12,
   "metadata": {},
   "outputs": [
    {
     "data": {
      "text/plain": [
       "date\n",
       "1993-03-12    0.100296\n",
       "1993-03-15    0.100382\n",
       "1993-03-16    0.099882\n",
       "1993-03-17    0.099987\n",
       "1993-03-18    0.098891\n",
       "                ...   \n",
       "2023-03-20    0.146168\n",
       "2023-03-21    0.146502\n",
       "2023-03-22    0.148752\n",
       "2023-03-23    0.152654\n",
       "2023-03-24    0.150787\n",
       "Length: 7564, dtype: float64"
      ]
     },
     "execution_count": 12,
     "metadata": {},
     "output_type": "execute_result"
    }
   ],
   "source": [
    "openbb.ta.rvol_parkinson(df)"
   ]
  },
  {
   "cell_type": "code",
   "execution_count": 13,
   "metadata": {},
   "outputs": [
    {
     "data": {
      "text/plain": [
       "date\n",
       "1993-03-12    0.120706\n",
       "1993-03-15    0.120810\n",
       "1993-03-16    0.120208\n",
       "1993-03-17    0.120335\n",
       "1993-03-18    0.119015\n",
       "                ...   \n",
       "2023-03-20    0.175913\n",
       "2023-03-21    0.176315\n",
       "2023-03-22    0.179023\n",
       "2023-03-23    0.183719\n",
       "2023-03-24    0.181472\n",
       "Length: 7564, dtype: float64"
      ]
     },
     "execution_count": 13,
     "metadata": {},
     "output_type": "execute_result"
    }
   ],
   "source": [
    "openbb.ta.rvol_parkinson(df, is_crypto = True)"
   ]
  },
  {
   "attachments": {},
   "cell_type": "markdown",
   "metadata": {},
   "source": [
    "### Hodges-Tompkins Model\n",
    "\n",
    "Print the docstrings with: `help(openbb.ta.rvol_hodges_tompkins)`, or in a notebook: `openbb.ta.rvol_hodges_tompkins?`"
   ]
  },
  {
   "cell_type": "code",
   "execution_count": 14,
   "metadata": {},
   "outputs": [
    {
     "data": {
      "text/plain": [
       "date\n",
       "1993-03-15    0.134254\n",
       "1993-03-16    0.133030\n",
       "1993-03-17    0.134508\n",
       "1993-03-18    0.132275\n",
       "1993-03-19    0.131877\n",
       "                ...   \n",
       "2023-03-20    0.168611\n",
       "2023-03-21    0.173084\n",
       "2023-03-22    0.174338\n",
       "2023-03-23    0.172542\n",
       "2023-03-24    0.172531\n",
       "Name: Close, Length: 7563, dtype: float64"
      ]
     },
     "execution_count": 14,
     "metadata": {},
     "output_type": "execute_result"
    }
   ],
   "source": [
    "openbb.ta.rvol_hodges_tompkins(df)"
   ]
  },
  {
   "cell_type": "code",
   "execution_count": 15,
   "metadata": {},
   "outputs": [
    {
     "data": {
      "text/plain": [
       "date\n",
       "1993-03-15    0.161574\n",
       "1993-03-16    0.160102\n",
       "1993-03-17    0.161881\n",
       "1993-03-18    0.159193\n",
       "1993-03-19    0.158713\n",
       "                ...   \n",
       "2023-03-20    0.202923\n",
       "2023-03-21    0.208307\n",
       "2023-03-22    0.209815\n",
       "2023-03-23    0.207654\n",
       "2023-03-24    0.207641\n",
       "Name: Close, Length: 7563, dtype: float64"
      ]
     },
     "execution_count": 15,
     "metadata": {},
     "output_type": "execute_result"
    }
   ],
   "source": [
    "openbb.ta.rvol_hodges_tompkins(df, is_crypto = True)"
   ]
  },
  {
   "attachments": {},
   "cell_type": "markdown",
   "metadata": {},
   "source": [
    "### Garman-Klass Model\n",
    "\n",
    "Print the docstrings with: `help(openbb.ta.rvol_garman_klass)`, or in a notebook: `openbb.ta.rvol_garman_klass?`\n"
   ]
  },
  {
   "cell_type": "code",
   "execution_count": 16,
   "metadata": {},
   "outputs": [
    {
     "data": {
      "text/plain": [
       "date\n",
       "1993-03-12    0.090442\n",
       "1993-03-15    0.090035\n",
       "1993-03-16    0.089996\n",
       "1993-03-17    0.089878\n",
       "1993-03-18    0.089616\n",
       "                ...   \n",
       "2023-03-20    0.141478\n",
       "2023-03-21    0.141754\n",
       "2023-03-22    0.144462\n",
       "2023-03-23    0.150135\n",
       "2023-03-24    0.149885\n",
       "Length: 7564, dtype: float64"
      ]
     },
     "execution_count": 16,
     "metadata": {},
     "output_type": "execute_result"
    }
   ],
   "source": [
    "openbb.ta.rvol_garman_klass(df)"
   ]
  },
  {
   "cell_type": "code",
   "execution_count": 17,
   "metadata": {},
   "outputs": [
    {
     "data": {
      "text/plain": [
       "date\n",
       "1993-03-12    0.108847\n",
       "1993-03-15    0.108357\n",
       "1993-03-16    0.108310\n",
       "1993-03-17    0.108169\n",
       "1993-03-18    0.107853\n",
       "                ...   \n",
       "2023-03-20    0.170269\n",
       "2023-03-21    0.170601\n",
       "2023-03-22    0.173860\n",
       "2023-03-23    0.180687\n",
       "2023-03-24    0.180386\n",
       "Length: 7564, dtype: float64"
      ]
     },
     "execution_count": 17,
     "metadata": {},
     "output_type": "execute_result"
    }
   ],
   "source": [
    "openbb.ta.rvol_garman_klass(df, is_crypto = True)"
   ]
  },
  {
   "attachments": {},
   "cell_type": "markdown",
   "metadata": {},
   "source": [
    "### Rogers-Satchell Model\n",
    "\n",
    "Print the docstrings with: `help(openbb.ta.rvol_rogers_satchell)`, or in a notebook: `openbb.ta.rvol_rogers_satchell?`"
   ]
  },
  {
   "cell_type": "code",
   "execution_count": 18,
   "metadata": {},
   "outputs": [
    {
     "data": {
      "text/plain": [
       "date\n",
       "1993-03-12    0.091722\n",
       "1993-03-15    0.090740\n",
       "1993-03-16    0.091090\n",
       "1993-03-17    0.090891\n",
       "1993-03-18    0.091437\n",
       "                ...   \n",
       "2023-03-20    0.137952\n",
       "2023-03-21    0.138300\n",
       "2023-03-22    0.142200\n",
       "2023-03-23    0.148125\n",
       "2023-03-24    0.148981\n",
       "Length: 7564, dtype: float64"
      ]
     },
     "execution_count": 18,
     "metadata": {},
     "output_type": "execute_result"
    }
   ],
   "source": [
    "openbb.ta.rvol_rogers_satchell(df)"
   ]
  },
  {
   "cell_type": "code",
   "execution_count": 19,
   "metadata": {},
   "outputs": [
    {
     "data": {
      "text/plain": [
       "date\n",
       "1993-03-12    0.110387\n",
       "1993-03-15    0.109205\n",
       "1993-03-16    0.109627\n",
       "1993-03-17    0.109387\n",
       "1993-03-18    0.110045\n",
       "                ...   \n",
       "2023-03-20    0.166026\n",
       "2023-03-21    0.166445\n",
       "2023-03-22    0.171138\n",
       "2023-03-23    0.178268\n",
       "2023-03-24    0.179298\n",
       "Length: 7564, dtype: float64"
      ]
     },
     "execution_count": 19,
     "metadata": {},
     "output_type": "execute_result"
    }
   ],
   "source": [
    "openbb.ta.rvol_rogers_satchell(df, is_crypto = True)"
   ]
  },
  {
   "attachments": {},
   "cell_type": "markdown",
   "metadata": {},
   "source": [
    "### Yang Zhang Model\n",
    "\n",
    "Print the docstrings with: `help(openbb.ta.rvol_yang_zhang)`, or in a notebook: `openbb.ta.rvol_yang_zhang?`"
   ]
  },
  {
   "cell_type": "code",
   "execution_count": 20,
   "metadata": {},
   "outputs": [
    {
     "data": {
      "text/plain": [
       "date\n",
       "1993-03-15    0.111298\n",
       "1993-03-16    0.111256\n",
       "1993-03-17    0.111355\n",
       "1993-03-18    0.111951\n",
       "1993-03-19    0.107311\n",
       "                ...   \n",
       "2023-03-20    0.183293\n",
       "2023-03-21    0.184900\n",
       "2023-03-22    0.187802\n",
       "2023-03-23    0.192201\n",
       "2023-03-24    0.191062\n",
       "Length: 7563, dtype: float64"
      ]
     },
     "execution_count": 20,
     "metadata": {},
     "output_type": "execute_result"
    }
   ],
   "source": [
    "openbb.ta.rvol_yang_zhang(df)"
   ]
  },
  {
   "cell_type": "code",
   "execution_count": 21,
   "metadata": {},
   "outputs": [
    {
     "data": {
      "text/plain": [
       "date\n",
       "1993-03-15    0.133947\n",
       "1993-03-16    0.133896\n",
       "1993-03-17    0.134015\n",
       "1993-03-18    0.134733\n",
       "1993-03-19    0.129149\n",
       "                ...   \n",
       "2023-03-20    0.220593\n",
       "2023-03-21    0.222527\n",
       "2023-03-22    0.226019\n",
       "2023-03-23    0.231315\n",
       "2023-03-24    0.229943\n",
       "Length: 7563, dtype: float64"
      ]
     },
     "execution_count": 21,
     "metadata": {},
     "output_type": "execute_result"
    }
   ],
   "source": [
    "openbb.ta.rvol_yang_zhang(df, is_crypto = True)"
   ]
  },
  {
   "attachments": {},
   "cell_type": "markdown",
   "metadata": {},
   "source": [
    "### Cones\n",
    "\n",
    "This function generates the realized volatility quantiles and returns a DataFrame which can be used for plotting the cones. There are two functions, one is for returning the DataFrame only, the other is for returning a chart.\n",
    "\n",
    "`openbb.ta.cones()`\n",
    "\n",
    "`openbb.ta.cones_chart()`\n",
    "\n",
    "For these functions, the lower and upper quantiles have been parameterized. Use the `lower_q` and `upper_q` arguments as a float between 0 and 1, representing the % value. The default model is \"STD\", `rvol_std`."
   ]
  },
  {
   "cell_type": "code",
   "execution_count": 22,
   "metadata": {},
   "outputs": [
    {
     "data": {
      "text/html": [
       "<div>\n",
       "<style scoped>\n",
       "    .dataframe tbody tr th:only-of-type {\n",
       "        vertical-align: middle;\n",
       "    }\n",
       "\n",
       "    .dataframe tbody tr th {\n",
       "        vertical-align: top;\n",
       "    }\n",
       "\n",
       "    .dataframe thead th {\n",
       "        text-align: right;\n",
       "    }\n",
       "</style>\n",
       "<table border=\"1\" class=\"dataframe\">\n",
       "  <thead>\n",
       "    <tr style=\"text-align: right;\">\n",
       "      <th></th>\n",
       "      <th>Realized</th>\n",
       "      <th>Min</th>\n",
       "      <th>Lower 25%</th>\n",
       "      <th>Median</th>\n",
       "      <th>Upper 75%</th>\n",
       "      <th>Max</th>\n",
       "    </tr>\n",
       "  </thead>\n",
       "  <tbody>\n",
       "    <tr>\n",
       "      <th>3</th>\n",
       "      <td>0.067035</td>\n",
       "      <td>0.000014</td>\n",
       "      <td>0.064378</td>\n",
       "      <td>0.112227</td>\n",
       "      <td>0.186349</td>\n",
       "      <td>1.919684</td>\n",
       "    </tr>\n",
       "    <tr>\n",
       "      <th>10</th>\n",
       "      <td>0.090819</td>\n",
       "      <td>0.020061</td>\n",
       "      <td>0.088670</td>\n",
       "      <td>0.133494</td>\n",
       "      <td>0.194119</td>\n",
       "      <td>1.130632</td>\n",
       "    </tr>\n",
       "    <tr>\n",
       "      <th>30</th>\n",
       "      <td>0.133722</td>\n",
       "      <td>0.035121</td>\n",
       "      <td>0.100864</td>\n",
       "      <td>0.137058</td>\n",
       "      <td>0.199567</td>\n",
       "      <td>0.864873</td>\n",
       "    </tr>\n",
       "    <tr>\n",
       "      <th>60</th>\n",
       "      <td>0.120574</td>\n",
       "      <td>0.049786</td>\n",
       "      <td>0.107493</td>\n",
       "      <td>0.141347</td>\n",
       "      <td>0.200478</td>\n",
       "      <td>0.755842</td>\n",
       "    </tr>\n",
       "    <tr>\n",
       "      <th>90</th>\n",
       "      <td>0.114354</td>\n",
       "      <td>0.054998</td>\n",
       "      <td>0.110153</td>\n",
       "      <td>0.141838</td>\n",
       "      <td>0.202661</td>\n",
       "      <td>0.646355</td>\n",
       "    </tr>\n",
       "    <tr>\n",
       "      <th>120</th>\n",
       "      <td>0.108223</td>\n",
       "      <td>0.062658</td>\n",
       "      <td>0.110640</td>\n",
       "      <td>0.143496</td>\n",
       "      <td>0.206440</td>\n",
       "      <td>0.590355</td>\n",
       "    </tr>\n",
       "    <tr>\n",
       "      <th>150</th>\n",
       "      <td>0.100045</td>\n",
       "      <td>0.064545</td>\n",
       "      <td>0.111828</td>\n",
       "      <td>0.149835</td>\n",
       "      <td>0.205940</td>\n",
       "      <td>0.560031</td>\n",
       "    </tr>\n",
       "    <tr>\n",
       "      <th>180</th>\n",
       "      <td>0.096711</td>\n",
       "      <td>0.066184</td>\n",
       "      <td>0.111466</td>\n",
       "      <td>0.152025</td>\n",
       "      <td>0.208891</td>\n",
       "      <td>0.522603</td>\n",
       "    </tr>\n",
       "    <tr>\n",
       "      <th>210</th>\n",
       "      <td>0.094264</td>\n",
       "      <td>0.067329</td>\n",
       "      <td>0.112871</td>\n",
       "      <td>0.155769</td>\n",
       "      <td>0.212143</td>\n",
       "      <td>0.490693</td>\n",
       "    </tr>\n",
       "    <tr>\n",
       "      <th>240</th>\n",
       "      <td>0.091159</td>\n",
       "      <td>0.067542</td>\n",
       "      <td>0.113351</td>\n",
       "      <td>0.154641</td>\n",
       "      <td>0.217990</td>\n",
       "      <td>0.464773</td>\n",
       "    </tr>\n",
       "    <tr>\n",
       "      <th>300</th>\n",
       "      <td>0.096604</td>\n",
       "      <td>0.068461</td>\n",
       "      <td>0.114617</td>\n",
       "      <td>0.159141</td>\n",
       "      <td>0.216908</td>\n",
       "      <td>0.424524</td>\n",
       "    </tr>\n",
       "    <tr>\n",
       "      <th>360</th>\n",
       "      <td>0.097728</td>\n",
       "      <td>0.075655</td>\n",
       "      <td>0.113915</td>\n",
       "      <td>0.157004</td>\n",
       "      <td>0.216979</td>\n",
       "      <td>0.396574</td>\n",
       "    </tr>\n",
       "  </tbody>\n",
       "</table>\n",
       "</div>"
      ],
      "text/plain": [
       "     Realized       Min  Lower 25%    Median  Upper 75%       Max\n",
       "3    0.067035  0.000014   0.064378  0.112227   0.186349  1.919684\n",
       "10   0.090819  0.020061   0.088670  0.133494   0.194119  1.130632\n",
       "30   0.133722  0.035121   0.100864  0.137058   0.199567  0.864873\n",
       "60   0.120574  0.049786   0.107493  0.141347   0.200478  0.755842\n",
       "90   0.114354  0.054998   0.110153  0.141838   0.202661  0.646355\n",
       "120  0.108223  0.062658   0.110640  0.143496   0.206440  0.590355\n",
       "150  0.100045  0.064545   0.111828  0.149835   0.205940  0.560031\n",
       "180  0.096711  0.066184   0.111466  0.152025   0.208891  0.522603\n",
       "210  0.094264  0.067329   0.112871  0.155769   0.212143  0.490693\n",
       "240  0.091159  0.067542   0.113351  0.154641   0.217990  0.464773\n",
       "300  0.096604  0.068461   0.114617  0.159141   0.216908  0.424524\n",
       "360  0.097728  0.075655   0.113915  0.157004   0.216979  0.396574"
      ]
     },
     "execution_count": 22,
     "metadata": {},
     "output_type": "execute_result"
    }
   ],
   "source": [
    "openbb.ta.cones(df)"
   ]
  },
  {
   "cell_type": "code",
   "execution_count": 23,
   "metadata": {},
   "outputs": [
    {
     "data": {
      "text/html": [
       "<div>\n",
       "<style scoped>\n",
       "    .dataframe tbody tr th:only-of-type {\n",
       "        vertical-align: middle;\n",
       "    }\n",
       "\n",
       "    .dataframe tbody tr th {\n",
       "        vertical-align: top;\n",
       "    }\n",
       "\n",
       "    .dataframe thead th {\n",
       "        text-align: right;\n",
       "    }\n",
       "</style>\n",
       "<table border=\"1\" class=\"dataframe\">\n",
       "  <thead>\n",
       "    <tr style=\"text-align: right;\">\n",
       "      <th></th>\n",
       "      <th>Realized</th>\n",
       "      <th>Min</th>\n",
       "      <th>Lower 5%</th>\n",
       "      <th>Median</th>\n",
       "      <th>Upper 95%</th>\n",
       "      <th>Max</th>\n",
       "    </tr>\n",
       "  </thead>\n",
       "  <tbody>\n",
       "    <tr>\n",
       "      <th>3</th>\n",
       "      <td>0.067035</td>\n",
       "      <td>0.000014</td>\n",
       "      <td>0.025242</td>\n",
       "      <td>0.112227</td>\n",
       "      <td>0.359354</td>\n",
       "      <td>1.919684</td>\n",
       "    </tr>\n",
       "    <tr>\n",
       "      <th>10</th>\n",
       "      <td>0.090819</td>\n",
       "      <td>0.020061</td>\n",
       "      <td>0.056347</td>\n",
       "      <td>0.133494</td>\n",
       "      <td>0.336652</td>\n",
       "      <td>1.130632</td>\n",
       "    </tr>\n",
       "    <tr>\n",
       "      <th>30</th>\n",
       "      <td>0.133722</td>\n",
       "      <td>0.035121</td>\n",
       "      <td>0.068493</td>\n",
       "      <td>0.137058</td>\n",
       "      <td>0.319039</td>\n",
       "      <td>0.864873</td>\n",
       "    </tr>\n",
       "    <tr>\n",
       "      <th>60</th>\n",
       "      <td>0.120574</td>\n",
       "      <td>0.049786</td>\n",
       "      <td>0.073069</td>\n",
       "      <td>0.141347</td>\n",
       "      <td>0.320950</td>\n",
       "      <td>0.755842</td>\n",
       "    </tr>\n",
       "    <tr>\n",
       "      <th>90</th>\n",
       "      <td>0.114354</td>\n",
       "      <td>0.054998</td>\n",
       "      <td>0.075930</td>\n",
       "      <td>0.141838</td>\n",
       "      <td>0.310726</td>\n",
       "      <td>0.646355</td>\n",
       "    </tr>\n",
       "    <tr>\n",
       "      <th>120</th>\n",
       "      <td>0.108223</td>\n",
       "      <td>0.062658</td>\n",
       "      <td>0.082539</td>\n",
       "      <td>0.143496</td>\n",
       "      <td>0.317000</td>\n",
       "      <td>0.590355</td>\n",
       "    </tr>\n",
       "    <tr>\n",
       "      <th>150</th>\n",
       "      <td>0.100045</td>\n",
       "      <td>0.064545</td>\n",
       "      <td>0.086224</td>\n",
       "      <td>0.149835</td>\n",
       "      <td>0.308140</td>\n",
       "      <td>0.560031</td>\n",
       "    </tr>\n",
       "    <tr>\n",
       "      <th>180</th>\n",
       "      <td>0.096711</td>\n",
       "      <td>0.066184</td>\n",
       "      <td>0.085952</td>\n",
       "      <td>0.152025</td>\n",
       "      <td>0.345717</td>\n",
       "      <td>0.522603</td>\n",
       "    </tr>\n",
       "    <tr>\n",
       "      <th>210</th>\n",
       "      <td>0.094264</td>\n",
       "      <td>0.067329</td>\n",
       "      <td>0.088792</td>\n",
       "      <td>0.155769</td>\n",
       "      <td>0.348506</td>\n",
       "      <td>0.490693</td>\n",
       "    </tr>\n",
       "    <tr>\n",
       "      <th>240</th>\n",
       "      <td>0.091159</td>\n",
       "      <td>0.067542</td>\n",
       "      <td>0.091389</td>\n",
       "      <td>0.154641</td>\n",
       "      <td>0.335625</td>\n",
       "      <td>0.464773</td>\n",
       "    </tr>\n",
       "    <tr>\n",
       "      <th>300</th>\n",
       "      <td>0.096604</td>\n",
       "      <td>0.068461</td>\n",
       "      <td>0.093250</td>\n",
       "      <td>0.159141</td>\n",
       "      <td>0.312971</td>\n",
       "      <td>0.424524</td>\n",
       "    </tr>\n",
       "    <tr>\n",
       "      <th>360</th>\n",
       "      <td>0.097728</td>\n",
       "      <td>0.075655</td>\n",
       "      <td>0.095711</td>\n",
       "      <td>0.157004</td>\n",
       "      <td>0.303072</td>\n",
       "      <td>0.396574</td>\n",
       "    </tr>\n",
       "  </tbody>\n",
       "</table>\n",
       "</div>"
      ],
      "text/plain": [
       "     Realized       Min  Lower 5%    Median  Upper 95%       Max\n",
       "3    0.067035  0.000014  0.025242  0.112227   0.359354  1.919684\n",
       "10   0.090819  0.020061  0.056347  0.133494   0.336652  1.130632\n",
       "30   0.133722  0.035121  0.068493  0.137058   0.319039  0.864873\n",
       "60   0.120574  0.049786  0.073069  0.141347   0.320950  0.755842\n",
       "90   0.114354  0.054998  0.075930  0.141838   0.310726  0.646355\n",
       "120  0.108223  0.062658  0.082539  0.143496   0.317000  0.590355\n",
       "150  0.100045  0.064545  0.086224  0.149835   0.308140  0.560031\n",
       "180  0.096711  0.066184  0.085952  0.152025   0.345717  0.522603\n",
       "210  0.094264  0.067329  0.088792  0.155769   0.348506  0.490693\n",
       "240  0.091159  0.067542  0.091389  0.154641   0.335625  0.464773\n",
       "300  0.096604  0.068461  0.093250  0.159141   0.312971  0.424524\n",
       "360  0.097728  0.075655  0.095711  0.157004   0.303072  0.396574"
      ]
     },
     "execution_count": 23,
     "metadata": {},
     "output_type": "execute_result"
    }
   ],
   "source": [
    "openbb.ta.cones(df, lower_q = 0.05, upper_q = 0.95)"
   ]
  },
  {
   "attachments": {},
   "cell_type": "markdown",
   "metadata": {},
   "source": [
    "Sanity checks are in place to ensure that lower and upper are always labeled correctly."
   ]
  },
  {
   "cell_type": "code",
   "execution_count": 24,
   "metadata": {},
   "outputs": [
    {
     "data": {
      "text/html": [
       "<div>\n",
       "<style scoped>\n",
       "    .dataframe tbody tr th:only-of-type {\n",
       "        vertical-align: middle;\n",
       "    }\n",
       "\n",
       "    .dataframe tbody tr th {\n",
       "        vertical-align: top;\n",
       "    }\n",
       "\n",
       "    .dataframe thead th {\n",
       "        text-align: right;\n",
       "    }\n",
       "</style>\n",
       "<table border=\"1\" class=\"dataframe\">\n",
       "  <thead>\n",
       "    <tr style=\"text-align: right;\">\n",
       "      <th></th>\n",
       "      <th>Realized</th>\n",
       "      <th>Min</th>\n",
       "      <th>Lower 75%</th>\n",
       "      <th>Median</th>\n",
       "      <th>Upper 95%</th>\n",
       "      <th>Max</th>\n",
       "    </tr>\n",
       "  </thead>\n",
       "  <tbody>\n",
       "    <tr>\n",
       "      <th>3</th>\n",
       "      <td>0.067035</td>\n",
       "      <td>0.000014</td>\n",
       "      <td>0.186349</td>\n",
       "      <td>0.112227</td>\n",
       "      <td>0.359354</td>\n",
       "      <td>1.919684</td>\n",
       "    </tr>\n",
       "    <tr>\n",
       "      <th>10</th>\n",
       "      <td>0.090819</td>\n",
       "      <td>0.020061</td>\n",
       "      <td>0.194119</td>\n",
       "      <td>0.133494</td>\n",
       "      <td>0.336652</td>\n",
       "      <td>1.130632</td>\n",
       "    </tr>\n",
       "    <tr>\n",
       "      <th>30</th>\n",
       "      <td>0.133722</td>\n",
       "      <td>0.035121</td>\n",
       "      <td>0.199567</td>\n",
       "      <td>0.137058</td>\n",
       "      <td>0.319039</td>\n",
       "      <td>0.864873</td>\n",
       "    </tr>\n",
       "    <tr>\n",
       "      <th>60</th>\n",
       "      <td>0.120574</td>\n",
       "      <td>0.049786</td>\n",
       "      <td>0.200478</td>\n",
       "      <td>0.141347</td>\n",
       "      <td>0.320950</td>\n",
       "      <td>0.755842</td>\n",
       "    </tr>\n",
       "    <tr>\n",
       "      <th>90</th>\n",
       "      <td>0.114354</td>\n",
       "      <td>0.054998</td>\n",
       "      <td>0.202661</td>\n",
       "      <td>0.141838</td>\n",
       "      <td>0.310726</td>\n",
       "      <td>0.646355</td>\n",
       "    </tr>\n",
       "    <tr>\n",
       "      <th>120</th>\n",
       "      <td>0.108223</td>\n",
       "      <td>0.062658</td>\n",
       "      <td>0.206440</td>\n",
       "      <td>0.143496</td>\n",
       "      <td>0.317000</td>\n",
       "      <td>0.590355</td>\n",
       "    </tr>\n",
       "    <tr>\n",
       "      <th>150</th>\n",
       "      <td>0.100045</td>\n",
       "      <td>0.064545</td>\n",
       "      <td>0.205940</td>\n",
       "      <td>0.149835</td>\n",
       "      <td>0.308140</td>\n",
       "      <td>0.560031</td>\n",
       "    </tr>\n",
       "    <tr>\n",
       "      <th>180</th>\n",
       "      <td>0.096711</td>\n",
       "      <td>0.066184</td>\n",
       "      <td>0.208891</td>\n",
       "      <td>0.152025</td>\n",
       "      <td>0.345717</td>\n",
       "      <td>0.522603</td>\n",
       "    </tr>\n",
       "    <tr>\n",
       "      <th>210</th>\n",
       "      <td>0.094264</td>\n",
       "      <td>0.067329</td>\n",
       "      <td>0.212143</td>\n",
       "      <td>0.155769</td>\n",
       "      <td>0.348506</td>\n",
       "      <td>0.490693</td>\n",
       "    </tr>\n",
       "    <tr>\n",
       "      <th>240</th>\n",
       "      <td>0.091159</td>\n",
       "      <td>0.067542</td>\n",
       "      <td>0.217990</td>\n",
       "      <td>0.154641</td>\n",
       "      <td>0.335625</td>\n",
       "      <td>0.464773</td>\n",
       "    </tr>\n",
       "    <tr>\n",
       "      <th>300</th>\n",
       "      <td>0.096604</td>\n",
       "      <td>0.068461</td>\n",
       "      <td>0.216908</td>\n",
       "      <td>0.159141</td>\n",
       "      <td>0.312971</td>\n",
       "      <td>0.424524</td>\n",
       "    </tr>\n",
       "    <tr>\n",
       "      <th>360</th>\n",
       "      <td>0.097728</td>\n",
       "      <td>0.075655</td>\n",
       "      <td>0.216979</td>\n",
       "      <td>0.157004</td>\n",
       "      <td>0.303072</td>\n",
       "      <td>0.396574</td>\n",
       "    </tr>\n",
       "  </tbody>\n",
       "</table>\n",
       "</div>"
      ],
      "text/plain": [
       "     Realized       Min  Lower 75%    Median  Upper 95%       Max\n",
       "3    0.067035  0.000014   0.186349  0.112227   0.359354  1.919684\n",
       "10   0.090819  0.020061   0.194119  0.133494   0.336652  1.130632\n",
       "30   0.133722  0.035121   0.199567  0.137058   0.319039  0.864873\n",
       "60   0.120574  0.049786   0.200478  0.141347   0.320950  0.755842\n",
       "90   0.114354  0.054998   0.202661  0.141838   0.310726  0.646355\n",
       "120  0.108223  0.062658   0.206440  0.143496   0.317000  0.590355\n",
       "150  0.100045  0.064545   0.205940  0.149835   0.308140  0.560031\n",
       "180  0.096711  0.066184   0.208891  0.152025   0.345717  0.522603\n",
       "210  0.094264  0.067329   0.212143  0.155769   0.348506  0.490693\n",
       "240  0.091159  0.067542   0.217990  0.154641   0.335625  0.464773\n",
       "300  0.096604  0.068461   0.216908  0.159141   0.312971  0.424524\n",
       "360  0.097728  0.075655   0.216979  0.157004   0.303072  0.396574"
      ]
     },
     "execution_count": 24,
     "metadata": {},
     "output_type": "execute_result"
    }
   ],
   "source": [
    "openbb.ta.cones(df, lower_q = 0.95)"
   ]
  },
  {
   "attachments": {},
   "cell_type": "markdown",
   "metadata": {},
   "source": [
    "Use the `model` argument to select one of the other models."
   ]
  },
  {
   "cell_type": "code",
   "execution_count": 25,
   "metadata": {},
   "outputs": [
    {
     "data": {
      "text/html": [
       "<div>\n",
       "<style scoped>\n",
       "    .dataframe tbody tr th:only-of-type {\n",
       "        vertical-align: middle;\n",
       "    }\n",
       "\n",
       "    .dataframe tbody tr th {\n",
       "        vertical-align: top;\n",
       "    }\n",
       "\n",
       "    .dataframe thead th {\n",
       "        text-align: right;\n",
       "    }\n",
       "</style>\n",
       "<table border=\"1\" class=\"dataframe\">\n",
       "  <thead>\n",
       "    <tr style=\"text-align: right;\">\n",
       "      <th></th>\n",
       "      <th>Realized</th>\n",
       "      <th>Min</th>\n",
       "      <th>Lower 25%</th>\n",
       "      <th>Median</th>\n",
       "      <th>Upper 75%</th>\n",
       "      <th>Max</th>\n",
       "    </tr>\n",
       "  </thead>\n",
       "  <tbody>\n",
       "    <tr>\n",
       "      <th>3</th>\n",
       "      <td>0.206471</td>\n",
       "      <td>0.036251</td>\n",
       "      <td>0.157431</td>\n",
       "      <td>0.235300</td>\n",
       "      <td>0.357838</td>\n",
       "      <td>2.901300</td>\n",
       "    </tr>\n",
       "    <tr>\n",
       "      <th>10</th>\n",
       "      <td>0.156357</td>\n",
       "      <td>0.041592</td>\n",
       "      <td>0.151380</td>\n",
       "      <td>0.218403</td>\n",
       "      <td>0.316024</td>\n",
       "      <td>1.852406</td>\n",
       "    </tr>\n",
       "    <tr>\n",
       "      <th>30</th>\n",
       "      <td>0.209220</td>\n",
       "      <td>0.069355</td>\n",
       "      <td>0.159135</td>\n",
       "      <td>0.216393</td>\n",
       "      <td>0.310817</td>\n",
       "      <td>1.317697</td>\n",
       "    </tr>\n",
       "    <tr>\n",
       "      <th>60</th>\n",
       "      <td>0.181869</td>\n",
       "      <td>0.080218</td>\n",
       "      <td>0.166172</td>\n",
       "      <td>0.220665</td>\n",
       "      <td>0.313049</td>\n",
       "      <td>1.135740</td>\n",
       "    </tr>\n",
       "    <tr>\n",
       "      <th>90</th>\n",
       "      <td>0.172320</td>\n",
       "      <td>0.091529</td>\n",
       "      <td>0.170102</td>\n",
       "      <td>0.220902</td>\n",
       "      <td>0.316946</td>\n",
       "      <td>0.976417</td>\n",
       "    </tr>\n",
       "    <tr>\n",
       "      <th>120</th>\n",
       "      <td>0.161437</td>\n",
       "      <td>0.096184</td>\n",
       "      <td>0.170877</td>\n",
       "      <td>0.223088</td>\n",
       "      <td>0.326395</td>\n",
       "      <td>0.906004</td>\n",
       "    </tr>\n",
       "    <tr>\n",
       "      <th>150</th>\n",
       "      <td>0.150722</td>\n",
       "      <td>0.098014</td>\n",
       "      <td>0.174250</td>\n",
       "      <td>0.230409</td>\n",
       "      <td>0.330037</td>\n",
       "      <td>0.847694</td>\n",
       "    </tr>\n",
       "    <tr>\n",
       "      <th>180</th>\n",
       "      <td>0.148022</td>\n",
       "      <td>0.101195</td>\n",
       "      <td>0.174870</td>\n",
       "      <td>0.232754</td>\n",
       "      <td>0.329928</td>\n",
       "      <td>0.789501</td>\n",
       "    </tr>\n",
       "    <tr>\n",
       "      <th>210</th>\n",
       "      <td>0.145173</td>\n",
       "      <td>0.103580</td>\n",
       "      <td>0.176812</td>\n",
       "      <td>0.241827</td>\n",
       "      <td>0.333143</td>\n",
       "      <td>0.741163</td>\n",
       "    </tr>\n",
       "    <tr>\n",
       "      <th>240</th>\n",
       "      <td>0.140835</td>\n",
       "      <td>0.103184</td>\n",
       "      <td>0.178492</td>\n",
       "      <td>0.240964</td>\n",
       "      <td>0.338550</td>\n",
       "      <td>0.702874</td>\n",
       "    </tr>\n",
       "    <tr>\n",
       "      <th>300</th>\n",
       "      <td>0.151420</td>\n",
       "      <td>0.106764</td>\n",
       "      <td>0.178514</td>\n",
       "      <td>0.241666</td>\n",
       "      <td>0.339982</td>\n",
       "      <td>0.643042</td>\n",
       "    </tr>\n",
       "    <tr>\n",
       "      <th>360</th>\n",
       "      <td>0.151974</td>\n",
       "      <td>0.116075</td>\n",
       "      <td>0.178586</td>\n",
       "      <td>0.246636</td>\n",
       "      <td>0.344253</td>\n",
       "      <td>0.605023</td>\n",
       "    </tr>\n",
       "  </tbody>\n",
       "</table>\n",
       "</div>"
      ],
      "text/plain": [
       "     Realized       Min  Lower 25%    Median  Upper 75%       Max\n",
       "3    0.206471  0.036251   0.157431  0.235300   0.357838  2.901300\n",
       "10   0.156357  0.041592   0.151380  0.218403   0.316024  1.852406\n",
       "30   0.209220  0.069355   0.159135  0.216393   0.310817  1.317697\n",
       "60   0.181869  0.080218   0.166172  0.220665   0.313049  1.135740\n",
       "90   0.172320  0.091529   0.170102  0.220902   0.316946  0.976417\n",
       "120  0.161437  0.096184   0.170877  0.223088   0.326395  0.906004\n",
       "150  0.150722  0.098014   0.174250  0.230409   0.330037  0.847694\n",
       "180  0.148022  0.101195   0.174870  0.232754   0.329928  0.789501\n",
       "210  0.145173  0.103580   0.176812  0.241827   0.333143  0.741163\n",
       "240  0.140835  0.103184   0.178492  0.240964   0.338550  0.702874\n",
       "300  0.151420  0.106764   0.178514  0.241666   0.339982  0.643042\n",
       "360  0.151974  0.116075   0.178586  0.246636   0.344253  0.605023"
      ]
     },
     "execution_count": 25,
     "metadata": {},
     "output_type": "execute_result"
    }
   ],
   "source": [
    "openbb.ta.cones(df, model = 'Yang-Zhang')"
   ]
  },
  {
   "cell_type": "code",
   "execution_count": 26,
   "metadata": {},
   "outputs": [
    {
     "data": {
      "text/html": [
       "<div>\n",
       "<style scoped>\n",
       "    .dataframe tbody tr th:only-of-type {\n",
       "        vertical-align: middle;\n",
       "    }\n",
       "\n",
       "    .dataframe tbody tr th {\n",
       "        vertical-align: top;\n",
       "    }\n",
       "\n",
       "    .dataframe thead th {\n",
       "        text-align: right;\n",
       "    }\n",
       "</style>\n",
       "<table border=\"1\" class=\"dataframe\">\n",
       "  <thead>\n",
       "    <tr style=\"text-align: right;\">\n",
       "      <th></th>\n",
       "      <th>Realized</th>\n",
       "      <th>Min</th>\n",
       "      <th>Lower 25%</th>\n",
       "      <th>Median</th>\n",
       "      <th>Upper 75%</th>\n",
       "      <th>Max</th>\n",
       "    </tr>\n",
       "  </thead>\n",
       "  <tbody>\n",
       "    <tr>\n",
       "      <th>3</th>\n",
       "      <td>0.053685</td>\n",
       "      <td>0.015730</td>\n",
       "      <td>0.075357</td>\n",
       "      <td>0.108424</td>\n",
       "      <td>0.158737</td>\n",
       "      <td>1.103625</td>\n",
       "    </tr>\n",
       "    <tr>\n",
       "      <th>10</th>\n",
       "      <td>0.085904</td>\n",
       "      <td>0.031829</td>\n",
       "      <td>0.081197</td>\n",
       "      <td>0.115084</td>\n",
       "      <td>0.162327</td>\n",
       "      <td>0.903857</td>\n",
       "    </tr>\n",
       "    <tr>\n",
       "      <th>30</th>\n",
       "      <td>0.091722</td>\n",
       "      <td>0.037450</td>\n",
       "      <td>0.085711</td>\n",
       "      <td>0.119179</td>\n",
       "      <td>0.166582</td>\n",
       "      <td>0.738473</td>\n",
       "    </tr>\n",
       "    <tr>\n",
       "      <th>60</th>\n",
       "      <td>0.085163</td>\n",
       "      <td>0.047437</td>\n",
       "      <td>0.089570</td>\n",
       "      <td>0.123309</td>\n",
       "      <td>0.169933</td>\n",
       "      <td>0.628890</td>\n",
       "    </tr>\n",
       "    <tr>\n",
       "      <th>90</th>\n",
       "      <td>0.082095</td>\n",
       "      <td>0.051270</td>\n",
       "      <td>0.093227</td>\n",
       "      <td>0.127397</td>\n",
       "      <td>0.173304</td>\n",
       "      <td>0.560099</td>\n",
       "    </tr>\n",
       "    <tr>\n",
       "      <th>120</th>\n",
       "      <td>0.076862</td>\n",
       "      <td>0.053294</td>\n",
       "      <td>0.093943</td>\n",
       "      <td>0.129232</td>\n",
       "      <td>0.177705</td>\n",
       "      <td>0.523743</td>\n",
       "    </tr>\n",
       "    <tr>\n",
       "      <th>150</th>\n",
       "      <td>0.072831</td>\n",
       "      <td>0.053766</td>\n",
       "      <td>0.095099</td>\n",
       "      <td>0.131215</td>\n",
       "      <td>0.179658</td>\n",
       "      <td>0.487082</td>\n",
       "    </tr>\n",
       "    <tr>\n",
       "      <th>180</th>\n",
       "      <td>0.072897</td>\n",
       "      <td>0.056494</td>\n",
       "      <td>0.095333</td>\n",
       "      <td>0.130304</td>\n",
       "      <td>0.181622</td>\n",
       "      <td>0.453949</td>\n",
       "    </tr>\n",
       "    <tr>\n",
       "      <th>210</th>\n",
       "      <td>0.072318</td>\n",
       "      <td>0.057753</td>\n",
       "      <td>0.096198</td>\n",
       "      <td>0.131279</td>\n",
       "      <td>0.180789</td>\n",
       "      <td>0.426170</td>\n",
       "    </tr>\n",
       "    <tr>\n",
       "      <th>240</th>\n",
       "      <td>0.069716</td>\n",
       "      <td>0.058269</td>\n",
       "      <td>0.097472</td>\n",
       "      <td>0.132939</td>\n",
       "      <td>0.184689</td>\n",
       "      <td>0.403736</td>\n",
       "    </tr>\n",
       "    <tr>\n",
       "      <th>300</th>\n",
       "      <td>0.073537</td>\n",
       "      <td>0.059851</td>\n",
       "      <td>0.097215</td>\n",
       "      <td>0.134926</td>\n",
       "      <td>0.184451</td>\n",
       "      <td>0.368703</td>\n",
       "    </tr>\n",
       "    <tr>\n",
       "      <th>360</th>\n",
       "      <td>0.076664</td>\n",
       "      <td>0.063863</td>\n",
       "      <td>0.098027</td>\n",
       "      <td>0.137229</td>\n",
       "      <td>0.190176</td>\n",
       "      <td>0.345486</td>\n",
       "    </tr>\n",
       "  </tbody>\n",
       "</table>\n",
       "</div>"
      ],
      "text/plain": [
       "     Realized       Min  Lower 25%    Median  Upper 75%       Max\n",
       "3    0.053685  0.015730   0.075357  0.108424   0.158737  1.103625\n",
       "10   0.085904  0.031829   0.081197  0.115084   0.162327  0.903857\n",
       "30   0.091722  0.037450   0.085711  0.119179   0.166582  0.738473\n",
       "60   0.085163  0.047437   0.089570  0.123309   0.169933  0.628890\n",
       "90   0.082095  0.051270   0.093227  0.127397   0.173304  0.560099\n",
       "120  0.076862  0.053294   0.093943  0.129232   0.177705  0.523743\n",
       "150  0.072831  0.053766   0.095099  0.131215   0.179658  0.487082\n",
       "180  0.072897  0.056494   0.095333  0.130304   0.181622  0.453949\n",
       "210  0.072318  0.057753   0.096198  0.131279   0.180789  0.426170\n",
       "240  0.069716  0.058269   0.097472  0.132939   0.184689  0.403736\n",
       "300  0.073537  0.059851   0.097215  0.134926   0.184451  0.368703\n",
       "360  0.076664  0.063863   0.098027  0.137229   0.190176  0.345486"
      ]
     },
     "execution_count": 26,
     "metadata": {},
     "output_type": "execute_result"
    }
   ],
   "source": [
    "openbb.ta.cones(df, model = 'Rogers-Satchell')"
   ]
  },
  {
   "cell_type": "code",
   "execution_count": 27,
   "metadata": {},
   "outputs": [
    {
     "data": {
      "text/html": [
       "<div>\n",
       "<style scoped>\n",
       "    .dataframe tbody tr th:only-of-type {\n",
       "        vertical-align: middle;\n",
       "    }\n",
       "\n",
       "    .dataframe tbody tr th {\n",
       "        vertical-align: top;\n",
       "    }\n",
       "\n",
       "    .dataframe thead th {\n",
       "        text-align: right;\n",
       "    }\n",
       "</style>\n",
       "<table border=\"1\" class=\"dataframe\">\n",
       "  <thead>\n",
       "    <tr style=\"text-align: right;\">\n",
       "      <th></th>\n",
       "      <th>Realized</th>\n",
       "      <th>Min</th>\n",
       "      <th>Lower 25%</th>\n",
       "      <th>Median</th>\n",
       "      <th>Upper 75%</th>\n",
       "      <th>Max</th>\n",
       "    </tr>\n",
       "  </thead>\n",
       "  <tbody>\n",
       "    <tr>\n",
       "      <th>3</th>\n",
       "      <td>0.049987</td>\n",
       "      <td>0.020195</td>\n",
       "      <td>0.076159</td>\n",
       "      <td>0.109634</td>\n",
       "      <td>0.159132</td>\n",
       "      <td>1.088747</td>\n",
       "    </tr>\n",
       "    <tr>\n",
       "      <th>10</th>\n",
       "      <td>0.077443</td>\n",
       "      <td>0.032200</td>\n",
       "      <td>0.081128</td>\n",
       "      <td>0.114336</td>\n",
       "      <td>0.163166</td>\n",
       "      <td>0.866488</td>\n",
       "    </tr>\n",
       "    <tr>\n",
       "      <th>30</th>\n",
       "      <td>0.090442</td>\n",
       "      <td>0.036694</td>\n",
       "      <td>0.085784</td>\n",
       "      <td>0.117524</td>\n",
       "      <td>0.166249</td>\n",
       "      <td>0.711636</td>\n",
       "    </tr>\n",
       "    <tr>\n",
       "      <th>60</th>\n",
       "      <td>0.083531</td>\n",
       "      <td>0.045660</td>\n",
       "      <td>0.089197</td>\n",
       "      <td>0.122267</td>\n",
       "      <td>0.170582</td>\n",
       "      <td>0.616402</td>\n",
       "    </tr>\n",
       "    <tr>\n",
       "      <th>90</th>\n",
       "      <td>0.080789</td>\n",
       "      <td>0.049871</td>\n",
       "      <td>0.092254</td>\n",
       "      <td>0.125077</td>\n",
       "      <td>0.174357</td>\n",
       "      <td>0.542882</td>\n",
       "    </tr>\n",
       "    <tr>\n",
       "      <th>120</th>\n",
       "      <td>0.075991</td>\n",
       "      <td>0.052002</td>\n",
       "      <td>0.093198</td>\n",
       "      <td>0.127285</td>\n",
       "      <td>0.178380</td>\n",
       "      <td>0.508204</td>\n",
       "    </tr>\n",
       "    <tr>\n",
       "      <th>150</th>\n",
       "      <td>0.072065</td>\n",
       "      <td>0.052709</td>\n",
       "      <td>0.094644</td>\n",
       "      <td>0.129424</td>\n",
       "      <td>0.179889</td>\n",
       "      <td>0.474018</td>\n",
       "    </tr>\n",
       "    <tr>\n",
       "      <th>180</th>\n",
       "      <td>0.071635</td>\n",
       "      <td>0.054395</td>\n",
       "      <td>0.094891</td>\n",
       "      <td>0.128702</td>\n",
       "      <td>0.178840</td>\n",
       "      <td>0.441896</td>\n",
       "    </tr>\n",
       "    <tr>\n",
       "      <th>210</th>\n",
       "      <td>0.071099</td>\n",
       "      <td>0.056442</td>\n",
       "      <td>0.095816</td>\n",
       "      <td>0.131258</td>\n",
       "      <td>0.181090</td>\n",
       "      <td>0.415168</td>\n",
       "    </tr>\n",
       "    <tr>\n",
       "      <th>240</th>\n",
       "      <td>0.068787</td>\n",
       "      <td>0.056761</td>\n",
       "      <td>0.096908</td>\n",
       "      <td>0.132303</td>\n",
       "      <td>0.181481</td>\n",
       "      <td>0.394028</td>\n",
       "    </tr>\n",
       "    <tr>\n",
       "      <th>300</th>\n",
       "      <td>0.072504</td>\n",
       "      <td>0.058295</td>\n",
       "      <td>0.097645</td>\n",
       "      <td>0.133617</td>\n",
       "      <td>0.183357</td>\n",
       "      <td>0.359853</td>\n",
       "    </tr>\n",
       "    <tr>\n",
       "      <th>360</th>\n",
       "      <td>0.075775</td>\n",
       "      <td>0.063257</td>\n",
       "      <td>0.097727</td>\n",
       "      <td>0.136492</td>\n",
       "      <td>0.190415</td>\n",
       "      <td>0.338567</td>\n",
       "    </tr>\n",
       "  </tbody>\n",
       "</table>\n",
       "</div>"
      ],
      "text/plain": [
       "     Realized       Min  Lower 25%    Median  Upper 75%       Max\n",
       "3    0.049987  0.020195   0.076159  0.109634   0.159132  1.088747\n",
       "10   0.077443  0.032200   0.081128  0.114336   0.163166  0.866488\n",
       "30   0.090442  0.036694   0.085784  0.117524   0.166249  0.711636\n",
       "60   0.083531  0.045660   0.089197  0.122267   0.170582  0.616402\n",
       "90   0.080789  0.049871   0.092254  0.125077   0.174357  0.542882\n",
       "120  0.075991  0.052002   0.093198  0.127285   0.178380  0.508204\n",
       "150  0.072065  0.052709   0.094644  0.129424   0.179889  0.474018\n",
       "180  0.071635  0.054395   0.094891  0.128702   0.178840  0.441896\n",
       "210  0.071099  0.056442   0.095816  0.131258   0.181090  0.415168\n",
       "240  0.068787  0.056761   0.096908  0.132303   0.181481  0.394028\n",
       "300  0.072504  0.058295   0.097645  0.133617   0.183357  0.359853\n",
       "360  0.075775  0.063257   0.097727  0.136492   0.190415  0.338567"
      ]
     },
     "execution_count": 27,
     "metadata": {},
     "output_type": "execute_result"
    }
   ],
   "source": [
    "openbb.ta.cones(df, model = 'Garman-Klass')"
   ]
  },
  {
   "attachments": {},
   "cell_type": "markdown",
   "metadata": {},
   "source": [
    "### Chart the Realized Volatility Cones\n",
    "\n",
    "Apply the same syntax to, `openbb.ta.cones_chart()`, to visualize the output."
   ]
  },
  {
   "cell_type": "code",
   "execution_count": 28,
   "metadata": {},
   "outputs": [
    {
     "data": {
      "application/vnd.plotly.v1+json": {
       "config": {
        "displaylogo": false,
        "plotlyServerURL": "https://plot.ly",
        "scrollZoom": true
       },
       "data": [
        {
         "hovertemplate": "%{y}<extra></extra>",
         "name": "Min",
         "type": "scatter",
         "x": [
          3,
          10,
          30,
          60,
          90,
          120,
          150,
          180,
          210,
          240,
          300,
          360
         ],
         "y": [
          0.000014304266568624007,
          0.020060624917201328,
          0.03512092827815034,
          0.04978638111041919,
          0.05499761369616631,
          0.06265825118288364,
          0.06454482787071468,
          0.06618423567522273,
          0.0673294949981593,
          0.06754169841216702,
          0.06846074495440176,
          0.07565548679070229
         ]
        },
        {
         "hovertemplate": "%{y}<extra></extra>",
         "name": "Max",
         "type": "scatter",
         "x": [
          3,
          10,
          30,
          60,
          90,
          120,
          150,
          180,
          210,
          240,
          300,
          360
         ],
         "y": [
          1.919684339324035,
          1.1306317373068342,
          0.8648728447946831,
          0.7558422656873091,
          0.6463551542331657,
          0.5903552367892707,
          0.5600310827829654,
          0.5226028648002622,
          0.49069252486775206,
          0.46477349733887613,
          0.4245244413430377,
          0.396574411527174
         ]
        },
        {
         "hovertemplate": "%{y}<extra></extra>",
         "name": "Median",
         "type": "scatter",
         "x": [
          3,
          10,
          30,
          60,
          90,
          120,
          150,
          180,
          210,
          240,
          300,
          360
         ],
         "y": [
          0.1122269348706308,
          0.1334943066280282,
          0.1370581494168819,
          0.14134667410820995,
          0.14183755516284405,
          0.14349609673787797,
          0.1498349178713917,
          0.1520248866207808,
          0.15576862443346706,
          0.15464090919518045,
          0.15914077723095424,
          0.15700427881584808
         ]
        },
        {
         "hovertemplate": "%{y}<extra></extra>",
         "name": "Upper 75%",
         "type": "scatter",
         "x": [
          3,
          10,
          30,
          60,
          90,
          120,
          150,
          180,
          210,
          240,
          300,
          360
         ],
         "y": [
          0.18634936202336713,
          0.19411881991291308,
          0.19956728214186278,
          0.2004776975506153,
          0.2026613100777001,
          0.2064403067170075,
          0.20593987603528144,
          0.20889096682620242,
          0.21214348061183969,
          0.21799000093556772,
          0.21690820229641655,
          0.2169792143297004
         ]
        },
        {
         "hovertemplate": "%{y}<extra></extra>",
         "name": "Lower 25%",
         "type": "scatter",
         "x": [
          3,
          10,
          30,
          60,
          90,
          120,
          150,
          180,
          210,
          240,
          300,
          360
         ],
         "y": [
          0.06437812382799749,
          0.08867012058872284,
          0.10086390298090214,
          0.1074933534888857,
          0.11015285367721489,
          0.11064031398247873,
          0.11182794091763812,
          0.11146577887320225,
          0.11287087983086677,
          0.11335078318815568,
          0.11461686449938016,
          0.11391535516104312
         ]
        },
        {
         "hovertemplate": "%{y}<extra></extra>",
         "name": "Realized",
         "type": "scatter",
         "x": [
          3,
          10,
          30,
          60,
          90,
          120,
          150,
          180,
          210,
          240,
          300,
          360
         ],
         "y": [
          0.06703507373040343,
          0.09081912584977148,
          0.13372171761015209,
          0.12057405262211535,
          0.11435370343884847,
          0.10822297650202121,
          0.10004524726328706,
          0.09671103980351459,
          0.09426436952514687,
          0.09115861643784862,
          0.09660449222378079,
          0.09772828462311965
         ]
        }
       ],
       "layout": {
        "bargap": 0,
        "bargroupgap": 0,
        "barmode": "overlay",
        "legend": {
         "groupclick": "toggleitem",
         "orientation": "v",
         "tracegroupgap": 133.33333333333334,
         "x": 1,
         "xanchor": "right",
         "y": 1,
         "yanchor": "top"
        },
        "margin": {
         "b": 80,
         "l": 40,
         "r": 50,
         "t": 40
        },
        "modebar": {
         "activecolor": "#d1030d",
         "bgcolor": "#2A2A2A",
         "color": "#FFFFFF",
         "orientation": "v"
        },
        "newshape": {
         "line": {
          "color": "gold"
         }
        },
        "template": {
         "data": {
          "bar": [
           {
            "error_x": {
             "color": "#f2f5fa"
            },
            "error_y": {
             "color": "#f2f5fa"
            },
            "marker": {
             "line": {
              "color": "rgb(17,17,17)",
              "width": 0.5
             },
             "pattern": {
              "fillmode": "overlay",
              "size": 10,
              "solidity": 0.2
             }
            },
            "type": "bar"
           }
          ],
          "barpolar": [
           {
            "marker": {
             "line": {
              "color": "rgb(17,17,17)",
              "width": 0.5
             },
             "pattern": {
              "fillmode": "overlay",
              "size": 10,
              "solidity": 0.2
             }
            },
            "type": "barpolar"
           }
          ],
          "candlestick": [
           {
            "decreasing": {
             "fillcolor": "#e4003a",
             "line": {
              "color": "#e4003a"
             }
            },
            "increasing": {
             "fillcolor": "#00ACFF",
             "line": {
              "color": "#00ACFF"
             }
            },
            "type": "candlestick"
           }
          ],
          "carpet": [
           {
            "aaxis": {
             "endlinecolor": "#A2B1C6",
             "gridcolor": "#506784",
             "linecolor": "#506784",
             "minorgridcolor": "#506784",
             "startlinecolor": "#A2B1C6"
            },
            "baxis": {
             "endlinecolor": "#A2B1C6",
             "gridcolor": "#506784",
             "linecolor": "#506784",
             "minorgridcolor": "#506784",
             "startlinecolor": "#A2B1C6"
            },
            "type": "carpet"
           }
          ],
          "choropleth": [
           {
            "colorbar": {
             "outlinewidth": 0,
             "ticks": ""
            },
            "type": "choropleth"
           }
          ],
          "contour": [
           {
            "colorbar": {
             "outlinewidth": 0,
             "ticks": ""
            },
            "colorscale": [
             [
              0,
              "#0d0887"
             ],
             [
              0.1111111111111111,
              "#46039f"
             ],
             [
              0.2222222222222222,
              "#7201a8"
             ],
             [
              0.3333333333333333,
              "#9c179e"
             ],
             [
              0.4444444444444444,
              "#bd3786"
             ],
             [
              0.5555555555555556,
              "#d8576b"
             ],
             [
              0.6666666666666666,
              "#ed7953"
             ],
             [
              0.7777777777777778,
              "#fb9f3a"
             ],
             [
              0.8888888888888888,
              "#fdca26"
             ],
             [
              1,
              "#f0f921"
             ]
            ],
            "type": "contour"
           }
          ],
          "contourcarpet": [
           {
            "colorbar": {
             "outlinewidth": 0,
             "ticks": ""
            },
            "type": "contourcarpet"
           }
          ],
          "heatmap": [
           {
            "colorbar": {
             "outlinewidth": 0,
             "ticks": ""
            },
            "colorscale": [
             [
              0,
              "#0d0887"
             ],
             [
              0.1111111111111111,
              "#46039f"
             ],
             [
              0.2222222222222222,
              "#7201a8"
             ],
             [
              0.3333333333333333,
              "#9c179e"
             ],
             [
              0.4444444444444444,
              "#bd3786"
             ],
             [
              0.5555555555555556,
              "#d8576b"
             ],
             [
              0.6666666666666666,
              "#ed7953"
             ],
             [
              0.7777777777777778,
              "#fb9f3a"
             ],
             [
              0.8888888888888888,
              "#fdca26"
             ],
             [
              1,
              "#f0f921"
             ]
            ],
            "type": "heatmap"
           }
          ],
          "heatmapgl": [
           {
            "colorbar": {
             "outlinewidth": 0,
             "ticks": ""
            },
            "colorscale": [
             [
              0,
              "#0d0887"
             ],
             [
              0.1111111111111111,
              "#46039f"
             ],
             [
              0.2222222222222222,
              "#7201a8"
             ],
             [
              0.3333333333333333,
              "#9c179e"
             ],
             [
              0.4444444444444444,
              "#bd3786"
             ],
             [
              0.5555555555555556,
              "#d8576b"
             ],
             [
              0.6666666666666666,
              "#ed7953"
             ],
             [
              0.7777777777777778,
              "#fb9f3a"
             ],
             [
              0.8888888888888888,
              "#fdca26"
             ],
             [
              1,
              "#f0f921"
             ]
            ],
            "type": "heatmapgl"
           }
          ],
          "histogram": [
           {
            "marker": {
             "pattern": {
              "fillmode": "overlay",
              "size": 10,
              "solidity": 0.2
             }
            },
            "type": "histogram"
           }
          ],
          "histogram2d": [
           {
            "colorbar": {
             "outlinewidth": 0,
             "ticks": ""
            },
            "colorscale": [
             [
              0,
              "#0d0887"
             ],
             [
              0.1111111111111111,
              "#46039f"
             ],
             [
              0.2222222222222222,
              "#7201a8"
             ],
             [
              0.3333333333333333,
              "#9c179e"
             ],
             [
              0.4444444444444444,
              "#bd3786"
             ],
             [
              0.5555555555555556,
              "#d8576b"
             ],
             [
              0.6666666666666666,
              "#ed7953"
             ],
             [
              0.7777777777777778,
              "#fb9f3a"
             ],
             [
              0.8888888888888888,
              "#fdca26"
             ],
             [
              1,
              "#f0f921"
             ]
            ],
            "type": "histogram2d"
           }
          ],
          "histogram2dcontour": [
           {
            "colorbar": {
             "outlinewidth": 0,
             "ticks": ""
            },
            "colorscale": [
             [
              0,
              "#0d0887"
             ],
             [
              0.1111111111111111,
              "#46039f"
             ],
             [
              0.2222222222222222,
              "#7201a8"
             ],
             [
              0.3333333333333333,
              "#9c179e"
             ],
             [
              0.4444444444444444,
              "#bd3786"
             ],
             [
              0.5555555555555556,
              "#d8576b"
             ],
             [
              0.6666666666666666,
              "#ed7953"
             ],
             [
              0.7777777777777778,
              "#fb9f3a"
             ],
             [
              0.8888888888888888,
              "#fdca26"
             ],
             [
              1,
              "#f0f921"
             ]
            ],
            "type": "histogram2dcontour"
           }
          ],
          "mesh3d": [
           {
            "colorbar": {
             "outlinewidth": 0,
             "ticks": ""
            },
            "type": "mesh3d"
           }
          ],
          "parcoords": [
           {
            "line": {
             "colorbar": {
              "outlinewidth": 0,
              "ticks": ""
             }
            },
            "type": "parcoords"
           }
          ],
          "pie": [
           {
            "automargin": true,
            "type": "pie"
           }
          ],
          "scatter": [
           {
            "marker": {
             "line": {
              "color": "#283442"
             }
            },
            "type": "scatter"
           }
          ],
          "scatter3d": [
           {
            "line": {
             "colorbar": {
              "outlinewidth": 0,
              "ticks": ""
             }
            },
            "marker": {
             "colorbar": {
              "outlinewidth": 0,
              "ticks": ""
             }
            },
            "type": "scatter3d"
           }
          ],
          "scattercarpet": [
           {
            "marker": {
             "colorbar": {
              "outlinewidth": 0,
              "ticks": ""
             }
            },
            "type": "scattercarpet"
           }
          ],
          "scattergeo": [
           {
            "marker": {
             "colorbar": {
              "outlinewidth": 0,
              "ticks": ""
             }
            },
            "type": "scattergeo"
           }
          ],
          "scattergl": [
           {
            "marker": {
             "line": {
              "color": "#283442"
             }
            },
            "type": "scattergl"
           }
          ],
          "scattermapbox": [
           {
            "marker": {
             "colorbar": {
              "outlinewidth": 0,
              "ticks": ""
             }
            },
            "type": "scattermapbox"
           }
          ],
          "scatterpolar": [
           {
            "marker": {
             "colorbar": {
              "outlinewidth": 0,
              "ticks": ""
             }
            },
            "type": "scatterpolar"
           }
          ],
          "scatterpolargl": [
           {
            "marker": {
             "colorbar": {
              "outlinewidth": 0,
              "ticks": ""
             }
            },
            "type": "scatterpolargl"
           }
          ],
          "scatterternary": [
           {
            "marker": {
             "colorbar": {
              "outlinewidth": 0,
              "ticks": ""
             }
            },
            "type": "scatterternary"
           }
          ],
          "surface": [
           {
            "colorbar": {
             "outlinewidth": 0,
             "ticks": ""
            },
            "colorscale": [
             [
              0,
              "#0d0887"
             ],
             [
              0.1111111111111111,
              "#46039f"
             ],
             [
              0.2222222222222222,
              "#7201a8"
             ],
             [
              0.3333333333333333,
              "#9c179e"
             ],
             [
              0.4444444444444444,
              "#bd3786"
             ],
             [
              0.5555555555555556,
              "#d8576b"
             ],
             [
              0.6666666666666666,
              "#ed7953"
             ],
             [
              0.7777777777777778,
              "#fb9f3a"
             ],
             [
              0.8888888888888888,
              "#fdca26"
             ],
             [
              1,
              "#f0f921"
             ]
            ],
            "type": "surface"
           }
          ],
          "table": [
           {
            "cells": {
             "fill": {
              "color": "#506784"
             },
             "line": {
              "color": "rgb(17,17,17)"
             }
            },
            "header": {
             "fill": {
              "color": "#2a3f5f"
             },
             "line": {
              "color": "rgb(17,17,17)"
             }
            },
            "type": "table"
           }
          ]
         },
         "layout": {
          "annotationdefaults": {
           "arrowcolor": "#f2f5fa",
           "arrowhead": 0,
           "arrowwidth": 1,
           "showarrow": false
          },
          "autotypenumbers": "strict",
          "coloraxis": {
           "colorbar": {
            "outlinewidth": 0,
            "ticks": ""
           }
          },
          "colorscale": {
           "diverging": [
            [
             0,
             "#8e0152"
            ],
            [
             0.1,
             "#c51b7d"
            ],
            [
             0.2,
             "#de77ae"
            ],
            [
             0.3,
             "#f1b6da"
            ],
            [
             0.4,
             "#fde0ef"
            ],
            [
             0.5,
             "#f7f7f7"
            ],
            [
             0.6,
             "#e6f5d0"
            ],
            [
             0.7,
             "#b8e186"
            ],
            [
             0.8,
             "#7fbc41"
            ],
            [
             0.9,
             "#4d9221"
            ],
            [
             1,
             "#276419"
            ]
           ],
           "sequential": [
            [
             0,
             "#0d0887"
            ],
            [
             0.1111111111111111,
             "#46039f"
            ],
            [
             0.2222222222222222,
             "#7201a8"
            ],
            [
             0.3333333333333333,
             "#9c179e"
            ],
            [
             0.4444444444444444,
             "#bd3786"
            ],
            [
             0.5555555555555556,
             "#d8576b"
            ],
            [
             0.6666666666666666,
             "#ed7953"
            ],
            [
             0.7777777777777778,
             "#fb9f3a"
            ],
            [
             0.8888888888888888,
             "#fdca26"
            ],
            [
             1,
             "#f0f921"
            ]
           ],
           "sequentialminus": [
            [
             0,
             "#0d0887"
            ],
            [
             0.1111111111111111,
             "#46039f"
            ],
            [
             0.2222222222222222,
             "#7201a8"
            ],
            [
             0.3333333333333333,
             "#9c179e"
            ],
            [
             0.4444444444444444,
             "#bd3786"
            ],
            [
             0.5555555555555556,
             "#d8576b"
            ],
            [
             0.6666666666666666,
             "#ed7953"
            ],
            [
             0.7777777777777778,
             "#fb9f3a"
            ],
            [
             0.8888888888888888,
             "#fdca26"
            ],
            [
             1,
             "#f0f921"
            ]
           ]
          },
          "colorway": [
           "#ffed00",
           "#ef7d00",
           "#e4003a",
           "#c13246",
           "#822661",
           "#48277c",
           "#005ca9",
           "#00aaff",
           "#9b30d9",
           "#af005f",
           "#5f00af",
           "#af87ff"
          ],
          "dragmode": "pan",
          "font": {
           "color": "#f2f5fa",
           "family": "Fira Code",
           "size": 18
          },
          "geo": {
           "bgcolor": "rgb(17,17,17)",
           "lakecolor": "rgb(17,17,17)",
           "landcolor": "rgb(17,17,17)",
           "showlakes": true,
           "showland": true,
           "subunitcolor": "#506784"
          },
          "hoverlabel": {
           "align": "left"
          },
          "hovermode": "x",
          "legend": {
           "bgcolor": "rgba(0, 0, 0, 0)",
           "font": {
            "size": 15
           },
           "x": 0.01,
           "xanchor": "left",
           "y": 0.99,
           "yanchor": "top"
          },
          "mapbox": {
           "style": "dark"
          },
          "paper_bgcolor": "#000000",
          "plot_bgcolor": "#000000",
          "polar": {
           "angularaxis": {
            "gridcolor": "#506784",
            "linecolor": "#506784",
            "ticks": ""
           },
           "bgcolor": "rgb(17,17,17)",
           "radialaxis": {
            "gridcolor": "#506784",
            "linecolor": "#506784",
            "ticks": ""
           }
          },
          "scene": {
           "xaxis": {
            "backgroundcolor": "rgb(17,17,17)",
            "gridcolor": "#506784",
            "gridwidth": 2,
            "linecolor": "#506784",
            "showbackground": true,
            "ticks": "",
            "zerolinecolor": "#C8D4E3"
           },
           "yaxis": {
            "backgroundcolor": "rgb(17,17,17)",
            "gridcolor": "#506784",
            "gridwidth": 2,
            "linecolor": "#506784",
            "showbackground": true,
            "ticks": "",
            "zerolinecolor": "#C8D4E3"
           },
           "zaxis": {
            "backgroundcolor": "rgb(17,17,17)",
            "gridcolor": "#506784",
            "gridwidth": 2,
            "linecolor": "#506784",
            "showbackground": true,
            "ticks": "",
            "zerolinecolor": "#C8D4E3"
           }
          },
          "shapedefaults": {
           "line": {
            "color": "#f2f5fa"
           }
          },
          "sliderdefaults": {
           "bgcolor": "#C8D4E3",
           "bordercolor": "rgb(17,17,17)",
           "borderwidth": 1,
           "tickwidth": 0
          },
          "ternary": {
           "aaxis": {
            "gridcolor": "#506784",
            "linecolor": "#506784",
            "ticks": ""
           },
           "baxis": {
            "gridcolor": "#506784",
            "linecolor": "#506784",
            "ticks": ""
           },
           "bgcolor": "rgb(17,17,17)",
           "caxis": {
            "gridcolor": "#506784",
            "linecolor": "#506784",
            "ticks": ""
           }
          },
          "title": {
           "x": 0.05
          },
          "updatemenudefaults": {
           "bgcolor": "#506784",
           "borderwidth": 0
          },
          "xaxis": {
           "automargin": true,
           "autorange": true,
           "gridcolor": "#283442",
           "linecolor": "#F5EFF3",
           "mirror": true,
           "rangeslider": {
            "visible": false
           },
           "showgrid": true,
           "showline": true,
           "tick0": 1,
           "tickfont": {
            "size": 14
           },
           "ticks": "outside",
           "title": {
            "standoff": 20
           },
           "zeroline": false,
           "zerolinecolor": "#283442",
           "zerolinewidth": 2
          },
          "yaxis": {
           "anchor": "x",
           "automargin": true,
           "fixedrange": false,
           "gridcolor": "#283442",
           "linecolor": "#F5EFF3",
           "mirror": true,
           "showgrid": true,
           "showline": true,
           "side": "right",
           "tick0": 0.5,
           "ticks": "outside",
           "title": {
            "standoff": 20
           },
           "zeroline": false,
           "zerolinecolor": "#283442",
           "zerolinewidth": 2
          }
         }
        },
        "title": {
         "text": " - Realized Volatility Cones - STD Model",
         "x": 0.5
        },
        "xaxis": {
         "tickmode": "array",
         "ticktext": [
          3,
          10,
          30,
          60,
          90,
          120,
          150,
          180,
          210,
          240,
          300,
          360
         ],
         "tickvals": [
          3,
          10,
          30,
          60,
          90,
          120,
          150,
          180,
          210,
          240,
          300,
          360
         ],
         "title": {
          "text": "Window of Time (in days)"
         }
        }
       }
      }
     },
     "metadata": {},
     "output_type": "display_data"
    }
   ],
   "source": [
    "openbb.ta.cones_chart(df)"
   ]
  },
  {
   "cell_type": "code",
   "execution_count": 29,
   "metadata": {},
   "outputs": [
    {
     "data": {
      "application/vnd.plotly.v1+json": {
       "config": {
        "displaylogo": false,
        "plotlyServerURL": "https://plot.ly",
        "scrollZoom": true
       },
       "data": [
        {
         "hovertemplate": "%{y}<extra></extra>",
         "name": "Min",
         "type": "scatter",
         "x": [
          3,
          10,
          30,
          60,
          90,
          120,
          150,
          180,
          210,
          240,
          300,
          360
         ],
         "y": [
          0.02019458764271074,
          0.03219960785963388,
          0.036694294182744495,
          0.04565979157096993,
          0.049870836710608935,
          0.0520024199907043,
          0.05270926722367436,
          0.05439460909651117,
          0.05644165598800779,
          0.05676094202665312,
          0.058294596185348,
          0.06325709472017241
         ]
        },
        {
         "hovertemplate": "%{y}<extra></extra>",
         "name": "Max",
         "type": "scatter",
         "x": [
          3,
          10,
          30,
          60,
          90,
          120,
          150,
          180,
          210,
          240,
          300,
          360
         ],
         "y": [
          1.0887474094137775,
          0.8664880146329754,
          0.7116364186938974,
          0.6164017308090469,
          0.5428815234399461,
          0.5082040968704806,
          0.4740179791110906,
          0.4418961860770007,
          0.4151675941935892,
          0.3940280895633366,
          0.35985297576698777,
          0.3385671485475967
         ]
        },
        {
         "hovertemplate": "%{y}<extra></extra>",
         "name": "Median",
         "type": "scatter",
         "x": [
          3,
          10,
          30,
          60,
          90,
          120,
          150,
          180,
          210,
          240,
          300,
          360
         ],
         "y": [
          0.10963419446217028,
          0.11433629710909735,
          0.11752401930678688,
          0.1222669403148336,
          0.1250773432784018,
          0.12728546645663458,
          0.12942443298828224,
          0.1287021289321036,
          0.1312578601653522,
          0.13230341516585148,
          0.13361721718823175,
          0.13649170049806694
         ]
        },
        {
         "hovertemplate": "%{y}<extra></extra>",
         "name": "Upper 75%",
         "type": "scatter",
         "x": [
          3,
          10,
          30,
          60,
          90,
          120,
          150,
          180,
          210,
          240,
          300,
          360
         ],
         "y": [
          0.15913189571021102,
          0.16316634001663097,
          0.1662489808089926,
          0.17058177199945343,
          0.1743567509819327,
          0.17838021763200165,
          0.1798893749776193,
          0.17884013654862935,
          0.18109021640153874,
          0.1814806148646882,
          0.18335748759991027,
          0.1904149387216475
         ]
        },
        {
         "hovertemplate": "%{y}<extra></extra>",
         "name": "Lower 25%",
         "type": "scatter",
         "x": [
          3,
          10,
          30,
          60,
          90,
          120,
          150,
          180,
          210,
          240,
          300,
          360
         ],
         "y": [
          0.07615850784180736,
          0.08112792314811473,
          0.08578372704749376,
          0.08919655580203596,
          0.09225428458083443,
          0.09319835692204416,
          0.09464439297128101,
          0.09489063676008845,
          0.09581596698817728,
          0.0969078435976011,
          0.09764493070330288,
          0.09772673039360177
         ]
        },
        {
         "hovertemplate": "%{y}<extra></extra>",
         "name": "Realized",
         "type": "scatter",
         "x": [
          3,
          10,
          30,
          60,
          90,
          120,
          150,
          180,
          210,
          240,
          300,
          360
         ],
         "y": [
          0.04998736794894545,
          0.07744313943612302,
          0.09044239249377535,
          0.08353058034540077,
          0.08078886861615919,
          0.07599107952517714,
          0.07206541176923738,
          0.07163452291091964,
          0.07109903606718951,
          0.06878655284129509,
          0.07250364118013819,
          0.07577495784916927
         ]
        }
       ],
       "layout": {
        "bargap": 0,
        "bargroupgap": 0,
        "barmode": "overlay",
        "legend": {
         "groupclick": "toggleitem",
         "orientation": "v",
         "tracegroupgap": 133.33333333333334,
         "x": 1,
         "xanchor": "right",
         "y": 1,
         "yanchor": "top"
        },
        "margin": {
         "b": 80,
         "l": 40,
         "r": 50,
         "t": 40
        },
        "modebar": {
         "activecolor": "#d1030d",
         "bgcolor": "#2A2A2A",
         "color": "#FFFFFF",
         "orientation": "v"
        },
        "newshape": {
         "line": {
          "color": "gold"
         }
        },
        "template": {
         "data": {
          "bar": [
           {
            "error_x": {
             "color": "#f2f5fa"
            },
            "error_y": {
             "color": "#f2f5fa"
            },
            "marker": {
             "line": {
              "color": "rgb(17,17,17)",
              "width": 0.5
             },
             "pattern": {
              "fillmode": "overlay",
              "size": 10,
              "solidity": 0.2
             }
            },
            "type": "bar"
           }
          ],
          "barpolar": [
           {
            "marker": {
             "line": {
              "color": "rgb(17,17,17)",
              "width": 0.5
             },
             "pattern": {
              "fillmode": "overlay",
              "size": 10,
              "solidity": 0.2
             }
            },
            "type": "barpolar"
           }
          ],
          "candlestick": [
           {
            "decreasing": {
             "fillcolor": "#e4003a",
             "line": {
              "color": "#e4003a"
             }
            },
            "increasing": {
             "fillcolor": "#00ACFF",
             "line": {
              "color": "#00ACFF"
             }
            },
            "type": "candlestick"
           }
          ],
          "carpet": [
           {
            "aaxis": {
             "endlinecolor": "#A2B1C6",
             "gridcolor": "#506784",
             "linecolor": "#506784",
             "minorgridcolor": "#506784",
             "startlinecolor": "#A2B1C6"
            },
            "baxis": {
             "endlinecolor": "#A2B1C6",
             "gridcolor": "#506784",
             "linecolor": "#506784",
             "minorgridcolor": "#506784",
             "startlinecolor": "#A2B1C6"
            },
            "type": "carpet"
           }
          ],
          "choropleth": [
           {
            "colorbar": {
             "outlinewidth": 0,
             "ticks": ""
            },
            "type": "choropleth"
           }
          ],
          "contour": [
           {
            "colorbar": {
             "outlinewidth": 0,
             "ticks": ""
            },
            "colorscale": [
             [
              0,
              "#0d0887"
             ],
             [
              0.1111111111111111,
              "#46039f"
             ],
             [
              0.2222222222222222,
              "#7201a8"
             ],
             [
              0.3333333333333333,
              "#9c179e"
             ],
             [
              0.4444444444444444,
              "#bd3786"
             ],
             [
              0.5555555555555556,
              "#d8576b"
             ],
             [
              0.6666666666666666,
              "#ed7953"
             ],
             [
              0.7777777777777778,
              "#fb9f3a"
             ],
             [
              0.8888888888888888,
              "#fdca26"
             ],
             [
              1,
              "#f0f921"
             ]
            ],
            "type": "contour"
           }
          ],
          "contourcarpet": [
           {
            "colorbar": {
             "outlinewidth": 0,
             "ticks": ""
            },
            "type": "contourcarpet"
           }
          ],
          "heatmap": [
           {
            "colorbar": {
             "outlinewidth": 0,
             "ticks": ""
            },
            "colorscale": [
             [
              0,
              "#0d0887"
             ],
             [
              0.1111111111111111,
              "#46039f"
             ],
             [
              0.2222222222222222,
              "#7201a8"
             ],
             [
              0.3333333333333333,
              "#9c179e"
             ],
             [
              0.4444444444444444,
              "#bd3786"
             ],
             [
              0.5555555555555556,
              "#d8576b"
             ],
             [
              0.6666666666666666,
              "#ed7953"
             ],
             [
              0.7777777777777778,
              "#fb9f3a"
             ],
             [
              0.8888888888888888,
              "#fdca26"
             ],
             [
              1,
              "#f0f921"
             ]
            ],
            "type": "heatmap"
           }
          ],
          "heatmapgl": [
           {
            "colorbar": {
             "outlinewidth": 0,
             "ticks": ""
            },
            "colorscale": [
             [
              0,
              "#0d0887"
             ],
             [
              0.1111111111111111,
              "#46039f"
             ],
             [
              0.2222222222222222,
              "#7201a8"
             ],
             [
              0.3333333333333333,
              "#9c179e"
             ],
             [
              0.4444444444444444,
              "#bd3786"
             ],
             [
              0.5555555555555556,
              "#d8576b"
             ],
             [
              0.6666666666666666,
              "#ed7953"
             ],
             [
              0.7777777777777778,
              "#fb9f3a"
             ],
             [
              0.8888888888888888,
              "#fdca26"
             ],
             [
              1,
              "#f0f921"
             ]
            ],
            "type": "heatmapgl"
           }
          ],
          "histogram": [
           {
            "marker": {
             "pattern": {
              "fillmode": "overlay",
              "size": 10,
              "solidity": 0.2
             }
            },
            "type": "histogram"
           }
          ],
          "histogram2d": [
           {
            "colorbar": {
             "outlinewidth": 0,
             "ticks": ""
            },
            "colorscale": [
             [
              0,
              "#0d0887"
             ],
             [
              0.1111111111111111,
              "#46039f"
             ],
             [
              0.2222222222222222,
              "#7201a8"
             ],
             [
              0.3333333333333333,
              "#9c179e"
             ],
             [
              0.4444444444444444,
              "#bd3786"
             ],
             [
              0.5555555555555556,
              "#d8576b"
             ],
             [
              0.6666666666666666,
              "#ed7953"
             ],
             [
              0.7777777777777778,
              "#fb9f3a"
             ],
             [
              0.8888888888888888,
              "#fdca26"
             ],
             [
              1,
              "#f0f921"
             ]
            ],
            "type": "histogram2d"
           }
          ],
          "histogram2dcontour": [
           {
            "colorbar": {
             "outlinewidth": 0,
             "ticks": ""
            },
            "colorscale": [
             [
              0,
              "#0d0887"
             ],
             [
              0.1111111111111111,
              "#46039f"
             ],
             [
              0.2222222222222222,
              "#7201a8"
             ],
             [
              0.3333333333333333,
              "#9c179e"
             ],
             [
              0.4444444444444444,
              "#bd3786"
             ],
             [
              0.5555555555555556,
              "#d8576b"
             ],
             [
              0.6666666666666666,
              "#ed7953"
             ],
             [
              0.7777777777777778,
              "#fb9f3a"
             ],
             [
              0.8888888888888888,
              "#fdca26"
             ],
             [
              1,
              "#f0f921"
             ]
            ],
            "type": "histogram2dcontour"
           }
          ],
          "mesh3d": [
           {
            "colorbar": {
             "outlinewidth": 0,
             "ticks": ""
            },
            "type": "mesh3d"
           }
          ],
          "parcoords": [
           {
            "line": {
             "colorbar": {
              "outlinewidth": 0,
              "ticks": ""
             }
            },
            "type": "parcoords"
           }
          ],
          "pie": [
           {
            "automargin": true,
            "type": "pie"
           }
          ],
          "scatter": [
           {
            "marker": {
             "line": {
              "color": "#283442"
             }
            },
            "type": "scatter"
           }
          ],
          "scatter3d": [
           {
            "line": {
             "colorbar": {
              "outlinewidth": 0,
              "ticks": ""
             }
            },
            "marker": {
             "colorbar": {
              "outlinewidth": 0,
              "ticks": ""
             }
            },
            "type": "scatter3d"
           }
          ],
          "scattercarpet": [
           {
            "marker": {
             "colorbar": {
              "outlinewidth": 0,
              "ticks": ""
             }
            },
            "type": "scattercarpet"
           }
          ],
          "scattergeo": [
           {
            "marker": {
             "colorbar": {
              "outlinewidth": 0,
              "ticks": ""
             }
            },
            "type": "scattergeo"
           }
          ],
          "scattergl": [
           {
            "marker": {
             "line": {
              "color": "#283442"
             }
            },
            "type": "scattergl"
           }
          ],
          "scattermapbox": [
           {
            "marker": {
             "colorbar": {
              "outlinewidth": 0,
              "ticks": ""
             }
            },
            "type": "scattermapbox"
           }
          ],
          "scatterpolar": [
           {
            "marker": {
             "colorbar": {
              "outlinewidth": 0,
              "ticks": ""
             }
            },
            "type": "scatterpolar"
           }
          ],
          "scatterpolargl": [
           {
            "marker": {
             "colorbar": {
              "outlinewidth": 0,
              "ticks": ""
             }
            },
            "type": "scatterpolargl"
           }
          ],
          "scatterternary": [
           {
            "marker": {
             "colorbar": {
              "outlinewidth": 0,
              "ticks": ""
             }
            },
            "type": "scatterternary"
           }
          ],
          "surface": [
           {
            "colorbar": {
             "outlinewidth": 0,
             "ticks": ""
            },
            "colorscale": [
             [
              0,
              "#0d0887"
             ],
             [
              0.1111111111111111,
              "#46039f"
             ],
             [
              0.2222222222222222,
              "#7201a8"
             ],
             [
              0.3333333333333333,
              "#9c179e"
             ],
             [
              0.4444444444444444,
              "#bd3786"
             ],
             [
              0.5555555555555556,
              "#d8576b"
             ],
             [
              0.6666666666666666,
              "#ed7953"
             ],
             [
              0.7777777777777778,
              "#fb9f3a"
             ],
             [
              0.8888888888888888,
              "#fdca26"
             ],
             [
              1,
              "#f0f921"
             ]
            ],
            "type": "surface"
           }
          ],
          "table": [
           {
            "cells": {
             "fill": {
              "color": "#506784"
             },
             "line": {
              "color": "rgb(17,17,17)"
             }
            },
            "header": {
             "fill": {
              "color": "#2a3f5f"
             },
             "line": {
              "color": "rgb(17,17,17)"
             }
            },
            "type": "table"
           }
          ]
         },
         "layout": {
          "annotationdefaults": {
           "arrowcolor": "#f2f5fa",
           "arrowhead": 0,
           "arrowwidth": 1,
           "showarrow": false
          },
          "autotypenumbers": "strict",
          "coloraxis": {
           "colorbar": {
            "outlinewidth": 0,
            "ticks": ""
           }
          },
          "colorscale": {
           "diverging": [
            [
             0,
             "#8e0152"
            ],
            [
             0.1,
             "#c51b7d"
            ],
            [
             0.2,
             "#de77ae"
            ],
            [
             0.3,
             "#f1b6da"
            ],
            [
             0.4,
             "#fde0ef"
            ],
            [
             0.5,
             "#f7f7f7"
            ],
            [
             0.6,
             "#e6f5d0"
            ],
            [
             0.7,
             "#b8e186"
            ],
            [
             0.8,
             "#7fbc41"
            ],
            [
             0.9,
             "#4d9221"
            ],
            [
             1,
             "#276419"
            ]
           ],
           "sequential": [
            [
             0,
             "#0d0887"
            ],
            [
             0.1111111111111111,
             "#46039f"
            ],
            [
             0.2222222222222222,
             "#7201a8"
            ],
            [
             0.3333333333333333,
             "#9c179e"
            ],
            [
             0.4444444444444444,
             "#bd3786"
            ],
            [
             0.5555555555555556,
             "#d8576b"
            ],
            [
             0.6666666666666666,
             "#ed7953"
            ],
            [
             0.7777777777777778,
             "#fb9f3a"
            ],
            [
             0.8888888888888888,
             "#fdca26"
            ],
            [
             1,
             "#f0f921"
            ]
           ],
           "sequentialminus": [
            [
             0,
             "#0d0887"
            ],
            [
             0.1111111111111111,
             "#46039f"
            ],
            [
             0.2222222222222222,
             "#7201a8"
            ],
            [
             0.3333333333333333,
             "#9c179e"
            ],
            [
             0.4444444444444444,
             "#bd3786"
            ],
            [
             0.5555555555555556,
             "#d8576b"
            ],
            [
             0.6666666666666666,
             "#ed7953"
            ],
            [
             0.7777777777777778,
             "#fb9f3a"
            ],
            [
             0.8888888888888888,
             "#fdca26"
            ],
            [
             1,
             "#f0f921"
            ]
           ]
          },
          "colorway": [
           "#ffed00",
           "#ef7d00",
           "#e4003a",
           "#c13246",
           "#822661",
           "#48277c",
           "#005ca9",
           "#00aaff",
           "#9b30d9",
           "#af005f",
           "#5f00af",
           "#af87ff"
          ],
          "dragmode": "pan",
          "font": {
           "color": "#f2f5fa",
           "family": "Fira Code",
           "size": 18
          },
          "geo": {
           "bgcolor": "rgb(17,17,17)",
           "lakecolor": "rgb(17,17,17)",
           "landcolor": "rgb(17,17,17)",
           "showlakes": true,
           "showland": true,
           "subunitcolor": "#506784"
          },
          "hoverlabel": {
           "align": "left"
          },
          "hovermode": "x",
          "legend": {
           "bgcolor": "rgba(0, 0, 0, 0)",
           "font": {
            "size": 15
           },
           "x": 0.01,
           "xanchor": "left",
           "y": 0.99,
           "yanchor": "top"
          },
          "mapbox": {
           "style": "dark"
          },
          "paper_bgcolor": "#000000",
          "plot_bgcolor": "#000000",
          "polar": {
           "angularaxis": {
            "gridcolor": "#506784",
            "linecolor": "#506784",
            "ticks": ""
           },
           "bgcolor": "rgb(17,17,17)",
           "radialaxis": {
            "gridcolor": "#506784",
            "linecolor": "#506784",
            "ticks": ""
           }
          },
          "scene": {
           "xaxis": {
            "backgroundcolor": "rgb(17,17,17)",
            "gridcolor": "#506784",
            "gridwidth": 2,
            "linecolor": "#506784",
            "showbackground": true,
            "ticks": "",
            "zerolinecolor": "#C8D4E3"
           },
           "yaxis": {
            "backgroundcolor": "rgb(17,17,17)",
            "gridcolor": "#506784",
            "gridwidth": 2,
            "linecolor": "#506784",
            "showbackground": true,
            "ticks": "",
            "zerolinecolor": "#C8D4E3"
           },
           "zaxis": {
            "backgroundcolor": "rgb(17,17,17)",
            "gridcolor": "#506784",
            "gridwidth": 2,
            "linecolor": "#506784",
            "showbackground": true,
            "ticks": "",
            "zerolinecolor": "#C8D4E3"
           }
          },
          "shapedefaults": {
           "line": {
            "color": "#f2f5fa"
           }
          },
          "sliderdefaults": {
           "bgcolor": "#C8D4E3",
           "bordercolor": "rgb(17,17,17)",
           "borderwidth": 1,
           "tickwidth": 0
          },
          "ternary": {
           "aaxis": {
            "gridcolor": "#506784",
            "linecolor": "#506784",
            "ticks": ""
           },
           "baxis": {
            "gridcolor": "#506784",
            "linecolor": "#506784",
            "ticks": ""
           },
           "bgcolor": "rgb(17,17,17)",
           "caxis": {
            "gridcolor": "#506784",
            "linecolor": "#506784",
            "ticks": ""
           }
          },
          "title": {
           "x": 0.05
          },
          "updatemenudefaults": {
           "bgcolor": "#506784",
           "borderwidth": 0
          },
          "xaxis": {
           "automargin": true,
           "autorange": true,
           "gridcolor": "#283442",
           "linecolor": "#F5EFF3",
           "mirror": true,
           "rangeslider": {
            "visible": false
           },
           "showgrid": true,
           "showline": true,
           "tick0": 1,
           "tickfont": {
            "size": 14
           },
           "ticks": "outside",
           "title": {
            "standoff": 20
           },
           "zeroline": false,
           "zerolinecolor": "#283442",
           "zerolinewidth": 2
          },
          "yaxis": {
           "anchor": "x",
           "automargin": true,
           "fixedrange": false,
           "gridcolor": "#283442",
           "linecolor": "#F5EFF3",
           "mirror": true,
           "showgrid": true,
           "showline": true,
           "side": "right",
           "tick0": 0.5,
           "ticks": "outside",
           "title": {
            "standoff": 20
           },
           "zeroline": false,
           "zerolinecolor": "#283442",
           "zerolinewidth": 2
          }
         }
        },
        "title": {
         "text": " - Realized Volatility Cones - Garman-Klass Model",
         "x": 0.5
        },
        "xaxis": {
         "tickmode": "array",
         "ticktext": [
          3,
          10,
          30,
          60,
          90,
          120,
          150,
          180,
          210,
          240,
          300,
          360
         ],
         "tickvals": [
          3,
          10,
          30,
          60,
          90,
          120,
          150,
          180,
          210,
          240,
          300,
          360
         ],
         "title": {
          "text": "Window of Time (in days)"
         }
        }
       }
      }
     },
     "metadata": {},
     "output_type": "display_data"
    }
   ],
   "source": [
    "openbb.ta.cones_chart(df, model = 'Garman-Klass')"
   ]
  },
  {
   "attachments": {},
   "cell_type": "markdown",
   "metadata": {},
   "source": [
    "The `data` input can also be the `load` function from the OpenBB SDK. Use the `symbol` argument to add the name of the security to the title. Notice that the values shift with the amount of historical data being fed to the model."
   ]
  },
  {
   "cell_type": "code",
   "execution_count": 30,
   "metadata": {},
   "outputs": [
    {
     "data": {
      "text/html": [
       "<pre style=\"white-space:pre;overflow-x:auto;line-height:normal;font-family:Menlo,'DejaVu Sans Mono',consolas,'Courier New',monospace\">Loading Daily data for SPY with starting period 2020-03-23.\n",
       "</pre>\n"
      ],
      "text/plain": [
       "Loading Daily data for SPY with starting period 2020-03-23.\n"
      ]
     },
     "metadata": {},
     "output_type": "display_data"
    },
    {
     "data": {
      "application/vnd.plotly.v1+json": {
       "config": {
        "displaylogo": false,
        "plotlyServerURL": "https://plot.ly",
        "scrollZoom": true
       },
       "data": [
        {
         "hovertemplate": "%{y}<extra></extra>",
         "name": "Min",
         "type": "scatter",
         "x": [
          3,
          10,
          30,
          60,
          90,
          120,
          150,
          180,
          210,
          240,
          300,
          360
         ],
         "y": [
          0.03382178865382922,
          0.044267519772171936,
          0.06549973887069273,
          0.07723217373722449,
          0.08150919108869131,
          0.08114007016815704,
          0.08702157599352442,
          0.08875703497233711,
          0.09644880957894952,
          0.10689556524836064,
          0.11196012448505573,
          0.12288909193068209
         ]
        },
        {
         "hovertemplate": "%{y}<extra></extra>",
         "name": "Max",
         "type": "scatter",
         "x": [
          3,
          10,
          30,
          60,
          90,
          120,
          150,
          180,
          210,
          240,
          300,
          360
         ],
         "y": [
          0.5591703210189953,
          0.4849941625424713,
          0.35139998605387013,
          0.28519812293108165,
          0.24802311537347357,
          0.22759502682812915,
          0.21447757726384967,
          0.20604289023365702,
          0.19769910151270664,
          0.19285716792963428,
          0.1828839064710221,
          0.17320955749185094
         ]
        },
        {
         "hovertemplate": "%{y}<extra></extra>",
         "name": "Median",
         "type": "scatter",
         "x": [
          3,
          10,
          30,
          60,
          90,
          120,
          150,
          180,
          210,
          240,
          300,
          360
         ],
         "y": [
          0.13515807678564884,
          0.1469005370799662,
          0.1523032688848021,
          0.15273295693118477,
          0.15743837084815493,
          0.15540716370857452,
          0.1533210432247507,
          0.15017405057521502,
          0.15133462494283087,
          0.14620685115944795,
          0.14200627302353375,
          0.14457258698667558
         ]
        },
        {
         "hovertemplate": "%{y}<extra></extra>",
         "name": "Upper 75%",
         "type": "scatter",
         "x": [
          3,
          10,
          30,
          60,
          90,
          120,
          150,
          180,
          210,
          240,
          300,
          360
         ],
         "y": [
          0.18489324221066633,
          0.18504124998153146,
          0.18377019234912054,
          0.18361639886121733,
          0.18117446631372158,
          0.17902874019333095,
          0.1797172800171043,
          0.18001701171272072,
          0.1764831416841385,
          0.17346648536991258,
          0.16738838231414177,
          0.16031432847638882
         ]
        },
        {
         "hovertemplate": "%{y}<extra></extra>",
         "name": "Lower 25%",
         "type": "scatter",
         "x": [
          3,
          10,
          30,
          60,
          90,
          120,
          150,
          180,
          210,
          240,
          300,
          360
         ],
         "y": [
          0.09380534897898127,
          0.10621459256306834,
          0.11907512579854022,
          0.12600055824371548,
          0.1252752503970812,
          0.12676717035278937,
          0.1203974583548526,
          0.12266620900132733,
          0.12310535681073126,
          0.12329912881829827,
          0.12679702733426287,
          0.1313325829047172
         ]
        },
        {
         "hovertemplate": "%{y}<extra></extra>",
         "name": "Realized",
         "type": "scatter",
         "x": [
          3,
          10,
          30,
          60,
          90,
          120,
          150,
          180,
          210,
          240,
          300,
          360
         ],
         "y": [
          0.5591703210189953,
          0.44985464723599083,
          0.35139998605387013,
          0.28519812293108165,
          0.24802311537347357,
          0.22759502682812915,
          0.21447757726384967,
          0.20604289023365702,
          0.19769910151270664,
          0.19285716792963428,
          0.17886750497322532,
          0.16654875054101728
         ]
        }
       ],
       "layout": {
        "bargap": 0,
        "bargroupgap": 0,
        "barmode": "overlay",
        "legend": {
         "groupclick": "toggleitem",
         "orientation": "v",
         "tracegroupgap": 133.33333333333334,
         "x": 1,
         "xanchor": "right",
         "y": 1,
         "yanchor": "top"
        },
        "margin": {
         "b": 80,
         "l": 40,
         "r": 50,
         "t": 40
        },
        "modebar": {
         "activecolor": "#d1030d",
         "bgcolor": "#2A2A2A",
         "color": "#FFFFFF",
         "orientation": "v"
        },
        "newshape": {
         "line": {
          "color": "gold"
         }
        },
        "template": {
         "data": {
          "bar": [
           {
            "error_x": {
             "color": "#f2f5fa"
            },
            "error_y": {
             "color": "#f2f5fa"
            },
            "marker": {
             "line": {
              "color": "rgb(17,17,17)",
              "width": 0.5
             },
             "pattern": {
              "fillmode": "overlay",
              "size": 10,
              "solidity": 0.2
             }
            },
            "type": "bar"
           }
          ],
          "barpolar": [
           {
            "marker": {
             "line": {
              "color": "rgb(17,17,17)",
              "width": 0.5
             },
             "pattern": {
              "fillmode": "overlay",
              "size": 10,
              "solidity": 0.2
             }
            },
            "type": "barpolar"
           }
          ],
          "candlestick": [
           {
            "decreasing": {
             "fillcolor": "#e4003a",
             "line": {
              "color": "#e4003a"
             }
            },
            "increasing": {
             "fillcolor": "#00ACFF",
             "line": {
              "color": "#00ACFF"
             }
            },
            "type": "candlestick"
           }
          ],
          "carpet": [
           {
            "aaxis": {
             "endlinecolor": "#A2B1C6",
             "gridcolor": "#506784",
             "linecolor": "#506784",
             "minorgridcolor": "#506784",
             "startlinecolor": "#A2B1C6"
            },
            "baxis": {
             "endlinecolor": "#A2B1C6",
             "gridcolor": "#506784",
             "linecolor": "#506784",
             "minorgridcolor": "#506784",
             "startlinecolor": "#A2B1C6"
            },
            "type": "carpet"
           }
          ],
          "choropleth": [
           {
            "colorbar": {
             "outlinewidth": 0,
             "ticks": ""
            },
            "type": "choropleth"
           }
          ],
          "contour": [
           {
            "colorbar": {
             "outlinewidth": 0,
             "ticks": ""
            },
            "colorscale": [
             [
              0,
              "#0d0887"
             ],
             [
              0.1111111111111111,
              "#46039f"
             ],
             [
              0.2222222222222222,
              "#7201a8"
             ],
             [
              0.3333333333333333,
              "#9c179e"
             ],
             [
              0.4444444444444444,
              "#bd3786"
             ],
             [
              0.5555555555555556,
              "#d8576b"
             ],
             [
              0.6666666666666666,
              "#ed7953"
             ],
             [
              0.7777777777777778,
              "#fb9f3a"
             ],
             [
              0.8888888888888888,
              "#fdca26"
             ],
             [
              1,
              "#f0f921"
             ]
            ],
            "type": "contour"
           }
          ],
          "contourcarpet": [
           {
            "colorbar": {
             "outlinewidth": 0,
             "ticks": ""
            },
            "type": "contourcarpet"
           }
          ],
          "heatmap": [
           {
            "colorbar": {
             "outlinewidth": 0,
             "ticks": ""
            },
            "colorscale": [
             [
              0,
              "#0d0887"
             ],
             [
              0.1111111111111111,
              "#46039f"
             ],
             [
              0.2222222222222222,
              "#7201a8"
             ],
             [
              0.3333333333333333,
              "#9c179e"
             ],
             [
              0.4444444444444444,
              "#bd3786"
             ],
             [
              0.5555555555555556,
              "#d8576b"
             ],
             [
              0.6666666666666666,
              "#ed7953"
             ],
             [
              0.7777777777777778,
              "#fb9f3a"
             ],
             [
              0.8888888888888888,
              "#fdca26"
             ],
             [
              1,
              "#f0f921"
             ]
            ],
            "type": "heatmap"
           }
          ],
          "heatmapgl": [
           {
            "colorbar": {
             "outlinewidth": 0,
             "ticks": ""
            },
            "colorscale": [
             [
              0,
              "#0d0887"
             ],
             [
              0.1111111111111111,
              "#46039f"
             ],
             [
              0.2222222222222222,
              "#7201a8"
             ],
             [
              0.3333333333333333,
              "#9c179e"
             ],
             [
              0.4444444444444444,
              "#bd3786"
             ],
             [
              0.5555555555555556,
              "#d8576b"
             ],
             [
              0.6666666666666666,
              "#ed7953"
             ],
             [
              0.7777777777777778,
              "#fb9f3a"
             ],
             [
              0.8888888888888888,
              "#fdca26"
             ],
             [
              1,
              "#f0f921"
             ]
            ],
            "type": "heatmapgl"
           }
          ],
          "histogram": [
           {
            "marker": {
             "pattern": {
              "fillmode": "overlay",
              "size": 10,
              "solidity": 0.2
             }
            },
            "type": "histogram"
           }
          ],
          "histogram2d": [
           {
            "colorbar": {
             "outlinewidth": 0,
             "ticks": ""
            },
            "colorscale": [
             [
              0,
              "#0d0887"
             ],
             [
              0.1111111111111111,
              "#46039f"
             ],
             [
              0.2222222222222222,
              "#7201a8"
             ],
             [
              0.3333333333333333,
              "#9c179e"
             ],
             [
              0.4444444444444444,
              "#bd3786"
             ],
             [
              0.5555555555555556,
              "#d8576b"
             ],
             [
              0.6666666666666666,
              "#ed7953"
             ],
             [
              0.7777777777777778,
              "#fb9f3a"
             ],
             [
              0.8888888888888888,
              "#fdca26"
             ],
             [
              1,
              "#f0f921"
             ]
            ],
            "type": "histogram2d"
           }
          ],
          "histogram2dcontour": [
           {
            "colorbar": {
             "outlinewidth": 0,
             "ticks": ""
            },
            "colorscale": [
             [
              0,
              "#0d0887"
             ],
             [
              0.1111111111111111,
              "#46039f"
             ],
             [
              0.2222222222222222,
              "#7201a8"
             ],
             [
              0.3333333333333333,
              "#9c179e"
             ],
             [
              0.4444444444444444,
              "#bd3786"
             ],
             [
              0.5555555555555556,
              "#d8576b"
             ],
             [
              0.6666666666666666,
              "#ed7953"
             ],
             [
              0.7777777777777778,
              "#fb9f3a"
             ],
             [
              0.8888888888888888,
              "#fdca26"
             ],
             [
              1,
              "#f0f921"
             ]
            ],
            "type": "histogram2dcontour"
           }
          ],
          "mesh3d": [
           {
            "colorbar": {
             "outlinewidth": 0,
             "ticks": ""
            },
            "type": "mesh3d"
           }
          ],
          "parcoords": [
           {
            "line": {
             "colorbar": {
              "outlinewidth": 0,
              "ticks": ""
             }
            },
            "type": "parcoords"
           }
          ],
          "pie": [
           {
            "automargin": true,
            "type": "pie"
           }
          ],
          "scatter": [
           {
            "marker": {
             "line": {
              "color": "#283442"
             }
            },
            "type": "scatter"
           }
          ],
          "scatter3d": [
           {
            "line": {
             "colorbar": {
              "outlinewidth": 0,
              "ticks": ""
             }
            },
            "marker": {
             "colorbar": {
              "outlinewidth": 0,
              "ticks": ""
             }
            },
            "type": "scatter3d"
           }
          ],
          "scattercarpet": [
           {
            "marker": {
             "colorbar": {
              "outlinewidth": 0,
              "ticks": ""
             }
            },
            "type": "scattercarpet"
           }
          ],
          "scattergeo": [
           {
            "marker": {
             "colorbar": {
              "outlinewidth": 0,
              "ticks": ""
             }
            },
            "type": "scattergeo"
           }
          ],
          "scattergl": [
           {
            "marker": {
             "line": {
              "color": "#283442"
             }
            },
            "type": "scattergl"
           }
          ],
          "scattermapbox": [
           {
            "marker": {
             "colorbar": {
              "outlinewidth": 0,
              "ticks": ""
             }
            },
            "type": "scattermapbox"
           }
          ],
          "scatterpolar": [
           {
            "marker": {
             "colorbar": {
              "outlinewidth": 0,
              "ticks": ""
             }
            },
            "type": "scatterpolar"
           }
          ],
          "scatterpolargl": [
           {
            "marker": {
             "colorbar": {
              "outlinewidth": 0,
              "ticks": ""
             }
            },
            "type": "scatterpolargl"
           }
          ],
          "scatterternary": [
           {
            "marker": {
             "colorbar": {
              "outlinewidth": 0,
              "ticks": ""
             }
            },
            "type": "scatterternary"
           }
          ],
          "surface": [
           {
            "colorbar": {
             "outlinewidth": 0,
             "ticks": ""
            },
            "colorscale": [
             [
              0,
              "#0d0887"
             ],
             [
              0.1111111111111111,
              "#46039f"
             ],
             [
              0.2222222222222222,
              "#7201a8"
             ],
             [
              0.3333333333333333,
              "#9c179e"
             ],
             [
              0.4444444444444444,
              "#bd3786"
             ],
             [
              0.5555555555555556,
              "#d8576b"
             ],
             [
              0.6666666666666666,
              "#ed7953"
             ],
             [
              0.7777777777777778,
              "#fb9f3a"
             ],
             [
              0.8888888888888888,
              "#fdca26"
             ],
             [
              1,
              "#f0f921"
             ]
            ],
            "type": "surface"
           }
          ],
          "table": [
           {
            "cells": {
             "fill": {
              "color": "#506784"
             },
             "line": {
              "color": "rgb(17,17,17)"
             }
            },
            "header": {
             "fill": {
              "color": "#2a3f5f"
             },
             "line": {
              "color": "rgb(17,17,17)"
             }
            },
            "type": "table"
           }
          ]
         },
         "layout": {
          "annotationdefaults": {
           "arrowcolor": "#f2f5fa",
           "arrowhead": 0,
           "arrowwidth": 1,
           "showarrow": false
          },
          "autotypenumbers": "strict",
          "coloraxis": {
           "colorbar": {
            "outlinewidth": 0,
            "ticks": ""
           }
          },
          "colorscale": {
           "diverging": [
            [
             0,
             "#8e0152"
            ],
            [
             0.1,
             "#c51b7d"
            ],
            [
             0.2,
             "#de77ae"
            ],
            [
             0.3,
             "#f1b6da"
            ],
            [
             0.4,
             "#fde0ef"
            ],
            [
             0.5,
             "#f7f7f7"
            ],
            [
             0.6,
             "#e6f5d0"
            ],
            [
             0.7,
             "#b8e186"
            ],
            [
             0.8,
             "#7fbc41"
            ],
            [
             0.9,
             "#4d9221"
            ],
            [
             1,
             "#276419"
            ]
           ],
           "sequential": [
            [
             0,
             "#0d0887"
            ],
            [
             0.1111111111111111,
             "#46039f"
            ],
            [
             0.2222222222222222,
             "#7201a8"
            ],
            [
             0.3333333333333333,
             "#9c179e"
            ],
            [
             0.4444444444444444,
             "#bd3786"
            ],
            [
             0.5555555555555556,
             "#d8576b"
            ],
            [
             0.6666666666666666,
             "#ed7953"
            ],
            [
             0.7777777777777778,
             "#fb9f3a"
            ],
            [
             0.8888888888888888,
             "#fdca26"
            ],
            [
             1,
             "#f0f921"
            ]
           ],
           "sequentialminus": [
            [
             0,
             "#0d0887"
            ],
            [
             0.1111111111111111,
             "#46039f"
            ],
            [
             0.2222222222222222,
             "#7201a8"
            ],
            [
             0.3333333333333333,
             "#9c179e"
            ],
            [
             0.4444444444444444,
             "#bd3786"
            ],
            [
             0.5555555555555556,
             "#d8576b"
            ],
            [
             0.6666666666666666,
             "#ed7953"
            ],
            [
             0.7777777777777778,
             "#fb9f3a"
            ],
            [
             0.8888888888888888,
             "#fdca26"
            ],
            [
             1,
             "#f0f921"
            ]
           ]
          },
          "colorway": [
           "#ffed00",
           "#ef7d00",
           "#e4003a",
           "#c13246",
           "#822661",
           "#48277c",
           "#005ca9",
           "#00aaff",
           "#9b30d9",
           "#af005f",
           "#5f00af",
           "#af87ff"
          ],
          "dragmode": "pan",
          "font": {
           "color": "#f2f5fa",
           "family": "Fira Code",
           "size": 18
          },
          "geo": {
           "bgcolor": "rgb(17,17,17)",
           "lakecolor": "rgb(17,17,17)",
           "landcolor": "rgb(17,17,17)",
           "showlakes": true,
           "showland": true,
           "subunitcolor": "#506784"
          },
          "hoverlabel": {
           "align": "left"
          },
          "hovermode": "x",
          "legend": {
           "bgcolor": "rgba(0, 0, 0, 0)",
           "font": {
            "size": 15
           },
           "x": 0.01,
           "xanchor": "left",
           "y": 0.99,
           "yanchor": "top"
          },
          "mapbox": {
           "style": "dark"
          },
          "paper_bgcolor": "#000000",
          "plot_bgcolor": "#000000",
          "polar": {
           "angularaxis": {
            "gridcolor": "#506784",
            "linecolor": "#506784",
            "ticks": ""
           },
           "bgcolor": "rgb(17,17,17)",
           "radialaxis": {
            "gridcolor": "#506784",
            "linecolor": "#506784",
            "ticks": ""
           }
          },
          "scene": {
           "xaxis": {
            "backgroundcolor": "rgb(17,17,17)",
            "gridcolor": "#506784",
            "gridwidth": 2,
            "linecolor": "#506784",
            "showbackground": true,
            "ticks": "",
            "zerolinecolor": "#C8D4E3"
           },
           "yaxis": {
            "backgroundcolor": "rgb(17,17,17)",
            "gridcolor": "#506784",
            "gridwidth": 2,
            "linecolor": "#506784",
            "showbackground": true,
            "ticks": "",
            "zerolinecolor": "#C8D4E3"
           },
           "zaxis": {
            "backgroundcolor": "rgb(17,17,17)",
            "gridcolor": "#506784",
            "gridwidth": 2,
            "linecolor": "#506784",
            "showbackground": true,
            "ticks": "",
            "zerolinecolor": "#C8D4E3"
           }
          },
          "shapedefaults": {
           "line": {
            "color": "#f2f5fa"
           }
          },
          "sliderdefaults": {
           "bgcolor": "#C8D4E3",
           "bordercolor": "rgb(17,17,17)",
           "borderwidth": 1,
           "tickwidth": 0
          },
          "ternary": {
           "aaxis": {
            "gridcolor": "#506784",
            "linecolor": "#506784",
            "ticks": ""
           },
           "baxis": {
            "gridcolor": "#506784",
            "linecolor": "#506784",
            "ticks": ""
           },
           "bgcolor": "rgb(17,17,17)",
           "caxis": {
            "gridcolor": "#506784",
            "linecolor": "#506784",
            "ticks": ""
           }
          },
          "title": {
           "x": 0.05
          },
          "updatemenudefaults": {
           "bgcolor": "#506784",
           "borderwidth": 0
          },
          "xaxis": {
           "automargin": true,
           "autorange": true,
           "gridcolor": "#283442",
           "linecolor": "#F5EFF3",
           "mirror": true,
           "rangeslider": {
            "visible": false
           },
           "showgrid": true,
           "showline": true,
           "tick0": 1,
           "tickfont": {
            "size": 14
           },
           "ticks": "outside",
           "title": {
            "standoff": 20
           },
           "zeroline": false,
           "zerolinecolor": "#283442",
           "zerolinewidth": 2
          },
          "yaxis": {
           "anchor": "x",
           "automargin": true,
           "fixedrange": false,
           "gridcolor": "#283442",
           "linecolor": "#F5EFF3",
           "mirror": true,
           "showgrid": true,
           "showline": true,
           "side": "right",
           "tick0": 0.5,
           "ticks": "outside",
           "title": {
            "standoff": 20
           },
           "zeroline": false,
           "zerolinecolor": "#283442",
           "zerolinewidth": 2
          }
         }
        },
        "title": {
         "text": "SPY - Realized Volatility Cones - Garman-Klass Model",
         "x": 0.5
        },
        "xaxis": {
         "tickmode": "array",
         "ticktext": [
          3,
          10,
          30,
          60,
          90,
          120,
          150,
          180,
          210,
          240,
          300,
          360
         ],
         "tickvals": [
          3,
          10,
          30,
          60,
          90,
          120,
          150,
          180,
          210,
          240,
          300,
          360
         ],
         "title": {
          "text": "Window of Time (in days)"
         }
        }
       }
      }
     },
     "metadata": {},
     "output_type": "display_data"
    }
   ],
   "source": [
    "openbb.ta.cones_chart(\n",
    "    data = openbb.stocks.load('SPY'),\n",
    "    symbol = 'SPY',\n",
    "    model = 'Garman-Klass',\n",
    ")"
   ]
  },
  {
   "cell_type": "code",
   "execution_count": 39,
   "metadata": {},
   "outputs": [
    {
     "data": {
      "text/html": [
       "<pre style=\"white-space:pre;overflow-x:auto;line-height:normal;font-family:Menlo,'DejaVu Sans Mono',consolas,'Courier New',monospace\">Loading Daily data for VOO with starting period 2020-03-23.\n",
       "</pre>\n"
      ],
      "text/plain": [
       "Loading Daily data for VOO with starting period 2020-03-23.\n"
      ]
     },
     "metadata": {},
     "output_type": "display_data"
    },
    {
     "data": {
      "application/vnd.plotly.v1+json": {
       "config": {
        "displaylogo": false,
        "plotlyServerURL": "https://plot.ly",
        "scrollZoom": true
       },
       "data": [
        {
         "hovertemplate": "%{y}<extra></extra>",
         "name": "Min",
         "type": "scatter",
         "x": [
          3,
          10,
          30,
          60,
          90,
          120,
          150,
          180,
          210,
          240,
          300,
          360
         ],
         "y": [
          0.03311133317783028,
          0.04433428796961274,
          0.06247079005540758,
          0.06938537372746306,
          0.07517878201645269,
          0.07619241980125718,
          0.08286824359681519,
          0.08539756063634774,
          0.09245814831096959,
          0.09996389572082724,
          0.10462537007834471,
          0.11375190463064339
         ]
        },
        {
         "hovertemplate": "%{y}<extra></extra>",
         "name": "Max",
         "type": "scatter",
         "x": [
          3,
          10,
          30,
          60,
          90,
          120,
          150,
          180,
          210,
          240,
          300,
          360
         ],
         "y": [
          0.5559420218353742,
          0.4162908053747798,
          0.2931228193067311,
          0.24292843959083352,
          0.2149099248424304,
          0.1994914419977488,
          0.18974844115943765,
          0.18645245640983577,
          0.18863328526868872,
          0.18402417205362465,
          0.17761845014419875,
          0.16814469843171748
         ]
        },
        {
         "hovertemplate": "%{y}<extra></extra>",
         "name": "Median",
         "type": "scatter",
         "x": [
          3,
          10,
          30,
          60,
          90,
          120,
          150,
          180,
          210,
          240,
          300,
          360
         ],
         "y": [
          0.13021561662413458,
          0.13934813651579253,
          0.14630759558342554,
          0.1471371044921263,
          0.14760648558335404,
          0.1512116097703866,
          0.14413545716830917,
          0.13955424497180233,
          0.14160244240581618,
          0.13753026880618088,
          0.13501718682275424,
          0.13807850410020306
         ]
        },
        {
         "hovertemplate": "%{y}<extra></extra>",
         "name": "Upper 75%",
         "type": "scatter",
         "x": [
          3,
          10,
          30,
          60,
          90,
          120,
          150,
          180,
          210,
          240,
          300,
          360
         ],
         "y": [
          0.17707569945946733,
          0.1747810765009208,
          0.17508931349047563,
          0.17376061964648687,
          0.17224995149969247,
          0.17049135552814104,
          0.17209687251365677,
          0.17387618297964202,
          0.16999740784908413,
          0.16639900991134998,
          0.15908758454837768,
          0.15339914399623117
         ]
        },
        {
         "hovertemplate": "%{y}<extra></extra>",
         "name": "Lower 25%",
         "type": "scatter",
         "x": [
          3,
          10,
          30,
          60,
          90,
          120,
          150,
          180,
          210,
          240,
          300,
          360
         ],
         "y": [
          0.09272473795130969,
          0.09966530193872046,
          0.1085699747650863,
          0.113386829693229,
          0.11876125290138972,
          0.11485808529431009,
          0.11000175605336952,
          0.1144476617110714,
          0.114207651603649,
          0.11699722487505748,
          0.11817213657698047,
          0.12358315744733497
         ]
        },
        {
         "hovertemplate": "%{y}<extra></extra>",
         "name": "Realized",
         "type": "scatter",
         "x": [
          3,
          10,
          30,
          60,
          90,
          120,
          150,
          180,
          210,
          240,
          300,
          360
         ],
         "y": [
          0.5559420218353742,
          0.4162908053747798,
          0.2931228193067311,
          0.24292843959083352,
          0.2149099248424304,
          0.1994914419977488,
          0.18974844115943765,
          0.18227938214985884,
          0.1736879133905886,
          0.16988824540101977,
          0.1589816378291044,
          0.14806918533460417
         ]
        }
       ],
       "layout": {
        "bargap": 0,
        "bargroupgap": 0,
        "barmode": "overlay",
        "legend": {
         "groupclick": "toggleitem",
         "orientation": "v",
         "tracegroupgap": 133.33333333333334,
         "x": 1,
         "xanchor": "right",
         "y": 1,
         "yanchor": "top"
        },
        "margin": {
         "b": 80,
         "l": 40,
         "r": 50,
         "t": 40
        },
        "modebar": {
         "activecolor": "#d1030d",
         "bgcolor": "#2A2A2A",
         "color": "#FFFFFF",
         "orientation": "v"
        },
        "newshape": {
         "line": {
          "color": "gold"
         }
        },
        "template": {
         "data": {
          "bar": [
           {
            "error_x": {
             "color": "#f2f5fa"
            },
            "error_y": {
             "color": "#f2f5fa"
            },
            "marker": {
             "line": {
              "color": "rgb(17,17,17)",
              "width": 0.5
             },
             "pattern": {
              "fillmode": "overlay",
              "size": 10,
              "solidity": 0.2
             }
            },
            "type": "bar"
           }
          ],
          "barpolar": [
           {
            "marker": {
             "line": {
              "color": "rgb(17,17,17)",
              "width": 0.5
             },
             "pattern": {
              "fillmode": "overlay",
              "size": 10,
              "solidity": 0.2
             }
            },
            "type": "barpolar"
           }
          ],
          "candlestick": [
           {
            "decreasing": {
             "fillcolor": "#e4003a",
             "line": {
              "color": "#e4003a"
             }
            },
            "increasing": {
             "fillcolor": "#00ACFF",
             "line": {
              "color": "#00ACFF"
             }
            },
            "type": "candlestick"
           }
          ],
          "carpet": [
           {
            "aaxis": {
             "endlinecolor": "#A2B1C6",
             "gridcolor": "#506784",
             "linecolor": "#506784",
             "minorgridcolor": "#506784",
             "startlinecolor": "#A2B1C6"
            },
            "baxis": {
             "endlinecolor": "#A2B1C6",
             "gridcolor": "#506784",
             "linecolor": "#506784",
             "minorgridcolor": "#506784",
             "startlinecolor": "#A2B1C6"
            },
            "type": "carpet"
           }
          ],
          "choropleth": [
           {
            "colorbar": {
             "outlinewidth": 0,
             "ticks": ""
            },
            "type": "choropleth"
           }
          ],
          "contour": [
           {
            "colorbar": {
             "outlinewidth": 0,
             "ticks": ""
            },
            "colorscale": [
             [
              0,
              "#0d0887"
             ],
             [
              0.1111111111111111,
              "#46039f"
             ],
             [
              0.2222222222222222,
              "#7201a8"
             ],
             [
              0.3333333333333333,
              "#9c179e"
             ],
             [
              0.4444444444444444,
              "#bd3786"
             ],
             [
              0.5555555555555556,
              "#d8576b"
             ],
             [
              0.6666666666666666,
              "#ed7953"
             ],
             [
              0.7777777777777778,
              "#fb9f3a"
             ],
             [
              0.8888888888888888,
              "#fdca26"
             ],
             [
              1,
              "#f0f921"
             ]
            ],
            "type": "contour"
           }
          ],
          "contourcarpet": [
           {
            "colorbar": {
             "outlinewidth": 0,
             "ticks": ""
            },
            "type": "contourcarpet"
           }
          ],
          "heatmap": [
           {
            "colorbar": {
             "outlinewidth": 0,
             "ticks": ""
            },
            "colorscale": [
             [
              0,
              "#0d0887"
             ],
             [
              0.1111111111111111,
              "#46039f"
             ],
             [
              0.2222222222222222,
              "#7201a8"
             ],
             [
              0.3333333333333333,
              "#9c179e"
             ],
             [
              0.4444444444444444,
              "#bd3786"
             ],
             [
              0.5555555555555556,
              "#d8576b"
             ],
             [
              0.6666666666666666,
              "#ed7953"
             ],
             [
              0.7777777777777778,
              "#fb9f3a"
             ],
             [
              0.8888888888888888,
              "#fdca26"
             ],
             [
              1,
              "#f0f921"
             ]
            ],
            "type": "heatmap"
           }
          ],
          "heatmapgl": [
           {
            "colorbar": {
             "outlinewidth": 0,
             "ticks": ""
            },
            "colorscale": [
             [
              0,
              "#0d0887"
             ],
             [
              0.1111111111111111,
              "#46039f"
             ],
             [
              0.2222222222222222,
              "#7201a8"
             ],
             [
              0.3333333333333333,
              "#9c179e"
             ],
             [
              0.4444444444444444,
              "#bd3786"
             ],
             [
              0.5555555555555556,
              "#d8576b"
             ],
             [
              0.6666666666666666,
              "#ed7953"
             ],
             [
              0.7777777777777778,
              "#fb9f3a"
             ],
             [
              0.8888888888888888,
              "#fdca26"
             ],
             [
              1,
              "#f0f921"
             ]
            ],
            "type": "heatmapgl"
           }
          ],
          "histogram": [
           {
            "marker": {
             "pattern": {
              "fillmode": "overlay",
              "size": 10,
              "solidity": 0.2
             }
            },
            "type": "histogram"
           }
          ],
          "histogram2d": [
           {
            "colorbar": {
             "outlinewidth": 0,
             "ticks": ""
            },
            "colorscale": [
             [
              0,
              "#0d0887"
             ],
             [
              0.1111111111111111,
              "#46039f"
             ],
             [
              0.2222222222222222,
              "#7201a8"
             ],
             [
              0.3333333333333333,
              "#9c179e"
             ],
             [
              0.4444444444444444,
              "#bd3786"
             ],
             [
              0.5555555555555556,
              "#d8576b"
             ],
             [
              0.6666666666666666,
              "#ed7953"
             ],
             [
              0.7777777777777778,
              "#fb9f3a"
             ],
             [
              0.8888888888888888,
              "#fdca26"
             ],
             [
              1,
              "#f0f921"
             ]
            ],
            "type": "histogram2d"
           }
          ],
          "histogram2dcontour": [
           {
            "colorbar": {
             "outlinewidth": 0,
             "ticks": ""
            },
            "colorscale": [
             [
              0,
              "#0d0887"
             ],
             [
              0.1111111111111111,
              "#46039f"
             ],
             [
              0.2222222222222222,
              "#7201a8"
             ],
             [
              0.3333333333333333,
              "#9c179e"
             ],
             [
              0.4444444444444444,
              "#bd3786"
             ],
             [
              0.5555555555555556,
              "#d8576b"
             ],
             [
              0.6666666666666666,
              "#ed7953"
             ],
             [
              0.7777777777777778,
              "#fb9f3a"
             ],
             [
              0.8888888888888888,
              "#fdca26"
             ],
             [
              1,
              "#f0f921"
             ]
            ],
            "type": "histogram2dcontour"
           }
          ],
          "mesh3d": [
           {
            "colorbar": {
             "outlinewidth": 0,
             "ticks": ""
            },
            "type": "mesh3d"
           }
          ],
          "parcoords": [
           {
            "line": {
             "colorbar": {
              "outlinewidth": 0,
              "ticks": ""
             }
            },
            "type": "parcoords"
           }
          ],
          "pie": [
           {
            "automargin": true,
            "type": "pie"
           }
          ],
          "scatter": [
           {
            "marker": {
             "line": {
              "color": "#283442"
             }
            },
            "type": "scatter"
           }
          ],
          "scatter3d": [
           {
            "line": {
             "colorbar": {
              "outlinewidth": 0,
              "ticks": ""
             }
            },
            "marker": {
             "colorbar": {
              "outlinewidth": 0,
              "ticks": ""
             }
            },
            "type": "scatter3d"
           }
          ],
          "scattercarpet": [
           {
            "marker": {
             "colorbar": {
              "outlinewidth": 0,
              "ticks": ""
             }
            },
            "type": "scattercarpet"
           }
          ],
          "scattergeo": [
           {
            "marker": {
             "colorbar": {
              "outlinewidth": 0,
              "ticks": ""
             }
            },
            "type": "scattergeo"
           }
          ],
          "scattergl": [
           {
            "marker": {
             "line": {
              "color": "#283442"
             }
            },
            "type": "scattergl"
           }
          ],
          "scattermapbox": [
           {
            "marker": {
             "colorbar": {
              "outlinewidth": 0,
              "ticks": ""
             }
            },
            "type": "scattermapbox"
           }
          ],
          "scatterpolar": [
           {
            "marker": {
             "colorbar": {
              "outlinewidth": 0,
              "ticks": ""
             }
            },
            "type": "scatterpolar"
           }
          ],
          "scatterpolargl": [
           {
            "marker": {
             "colorbar": {
              "outlinewidth": 0,
              "ticks": ""
             }
            },
            "type": "scatterpolargl"
           }
          ],
          "scatterternary": [
           {
            "marker": {
             "colorbar": {
              "outlinewidth": 0,
              "ticks": ""
             }
            },
            "type": "scatterternary"
           }
          ],
          "surface": [
           {
            "colorbar": {
             "outlinewidth": 0,
             "ticks": ""
            },
            "colorscale": [
             [
              0,
              "#0d0887"
             ],
             [
              0.1111111111111111,
              "#46039f"
             ],
             [
              0.2222222222222222,
              "#7201a8"
             ],
             [
              0.3333333333333333,
              "#9c179e"
             ],
             [
              0.4444444444444444,
              "#bd3786"
             ],
             [
              0.5555555555555556,
              "#d8576b"
             ],
             [
              0.6666666666666666,
              "#ed7953"
             ],
             [
              0.7777777777777778,
              "#fb9f3a"
             ],
             [
              0.8888888888888888,
              "#fdca26"
             ],
             [
              1,
              "#f0f921"
             ]
            ],
            "type": "surface"
           }
          ],
          "table": [
           {
            "cells": {
             "fill": {
              "color": "#506784"
             },
             "line": {
              "color": "rgb(17,17,17)"
             }
            },
            "header": {
             "fill": {
              "color": "#2a3f5f"
             },
             "line": {
              "color": "rgb(17,17,17)"
             }
            },
            "type": "table"
           }
          ]
         },
         "layout": {
          "annotationdefaults": {
           "arrowcolor": "#f2f5fa",
           "arrowhead": 0,
           "arrowwidth": 1,
           "showarrow": false
          },
          "autotypenumbers": "strict",
          "coloraxis": {
           "colorbar": {
            "outlinewidth": 0,
            "ticks": ""
           }
          },
          "colorscale": {
           "diverging": [
            [
             0,
             "#8e0152"
            ],
            [
             0.1,
             "#c51b7d"
            ],
            [
             0.2,
             "#de77ae"
            ],
            [
             0.3,
             "#f1b6da"
            ],
            [
             0.4,
             "#fde0ef"
            ],
            [
             0.5,
             "#f7f7f7"
            ],
            [
             0.6,
             "#e6f5d0"
            ],
            [
             0.7,
             "#b8e186"
            ],
            [
             0.8,
             "#7fbc41"
            ],
            [
             0.9,
             "#4d9221"
            ],
            [
             1,
             "#276419"
            ]
           ],
           "sequential": [
            [
             0,
             "#0d0887"
            ],
            [
             0.1111111111111111,
             "#46039f"
            ],
            [
             0.2222222222222222,
             "#7201a8"
            ],
            [
             0.3333333333333333,
             "#9c179e"
            ],
            [
             0.4444444444444444,
             "#bd3786"
            ],
            [
             0.5555555555555556,
             "#d8576b"
            ],
            [
             0.6666666666666666,
             "#ed7953"
            ],
            [
             0.7777777777777778,
             "#fb9f3a"
            ],
            [
             0.8888888888888888,
             "#fdca26"
            ],
            [
             1,
             "#f0f921"
            ]
           ],
           "sequentialminus": [
            [
             0,
             "#0d0887"
            ],
            [
             0.1111111111111111,
             "#46039f"
            ],
            [
             0.2222222222222222,
             "#7201a8"
            ],
            [
             0.3333333333333333,
             "#9c179e"
            ],
            [
             0.4444444444444444,
             "#bd3786"
            ],
            [
             0.5555555555555556,
             "#d8576b"
            ],
            [
             0.6666666666666666,
             "#ed7953"
            ],
            [
             0.7777777777777778,
             "#fb9f3a"
            ],
            [
             0.8888888888888888,
             "#fdca26"
            ],
            [
             1,
             "#f0f921"
            ]
           ]
          },
          "colorway": [
           "#ffed00",
           "#ef7d00",
           "#e4003a",
           "#c13246",
           "#822661",
           "#48277c",
           "#005ca9",
           "#00aaff",
           "#9b30d9",
           "#af005f",
           "#5f00af",
           "#af87ff"
          ],
          "dragmode": "pan",
          "font": {
           "color": "#f2f5fa",
           "family": "Fira Code",
           "size": 18
          },
          "geo": {
           "bgcolor": "rgb(17,17,17)",
           "lakecolor": "rgb(17,17,17)",
           "landcolor": "rgb(17,17,17)",
           "showlakes": true,
           "showland": true,
           "subunitcolor": "#506784"
          },
          "hoverlabel": {
           "align": "left"
          },
          "hovermode": "x",
          "legend": {
           "bgcolor": "rgba(0, 0, 0, 0)",
           "font": {
            "size": 15
           },
           "x": 0.01,
           "xanchor": "left",
           "y": 0.99,
           "yanchor": "top"
          },
          "mapbox": {
           "style": "dark"
          },
          "paper_bgcolor": "#000000",
          "plot_bgcolor": "#000000",
          "polar": {
           "angularaxis": {
            "gridcolor": "#506784",
            "linecolor": "#506784",
            "ticks": ""
           },
           "bgcolor": "rgb(17,17,17)",
           "radialaxis": {
            "gridcolor": "#506784",
            "linecolor": "#506784",
            "ticks": ""
           }
          },
          "scene": {
           "xaxis": {
            "backgroundcolor": "rgb(17,17,17)",
            "gridcolor": "#506784",
            "gridwidth": 2,
            "linecolor": "#506784",
            "showbackground": true,
            "ticks": "",
            "zerolinecolor": "#C8D4E3"
           },
           "yaxis": {
            "backgroundcolor": "rgb(17,17,17)",
            "gridcolor": "#506784",
            "gridwidth": 2,
            "linecolor": "#506784",
            "showbackground": true,
            "ticks": "",
            "zerolinecolor": "#C8D4E3"
           },
           "zaxis": {
            "backgroundcolor": "rgb(17,17,17)",
            "gridcolor": "#506784",
            "gridwidth": 2,
            "linecolor": "#506784",
            "showbackground": true,
            "ticks": "",
            "zerolinecolor": "#C8D4E3"
           }
          },
          "shapedefaults": {
           "line": {
            "color": "#f2f5fa"
           }
          },
          "sliderdefaults": {
           "bgcolor": "#C8D4E3",
           "bordercolor": "rgb(17,17,17)",
           "borderwidth": 1,
           "tickwidth": 0
          },
          "ternary": {
           "aaxis": {
            "gridcolor": "#506784",
            "linecolor": "#506784",
            "ticks": ""
           },
           "baxis": {
            "gridcolor": "#506784",
            "linecolor": "#506784",
            "ticks": ""
           },
           "bgcolor": "rgb(17,17,17)",
           "caxis": {
            "gridcolor": "#506784",
            "linecolor": "#506784",
            "ticks": ""
           }
          },
          "title": {
           "x": 0.05
          },
          "updatemenudefaults": {
           "bgcolor": "#506784",
           "borderwidth": 0
          },
          "xaxis": {
           "automargin": true,
           "autorange": true,
           "gridcolor": "#283442",
           "linecolor": "#F5EFF3",
           "mirror": true,
           "rangeslider": {
            "visible": false
           },
           "showgrid": true,
           "showline": true,
           "tick0": 1,
           "tickfont": {
            "size": 14
           },
           "ticks": "outside",
           "title": {
            "standoff": 20
           },
           "zeroline": false,
           "zerolinecolor": "#283442",
           "zerolinewidth": 2
          },
          "yaxis": {
           "anchor": "x",
           "automargin": true,
           "fixedrange": false,
           "gridcolor": "#283442",
           "linecolor": "#F5EFF3",
           "mirror": true,
           "showgrid": true,
           "showline": true,
           "side": "right",
           "tick0": 0.5,
           "ticks": "outside",
           "title": {
            "standoff": 20
           },
           "zeroline": false,
           "zerolinecolor": "#283442",
           "zerolinewidth": 2
          }
         }
        },
        "title": {
         "text": "VOO - Realized Volatility Cones - Garman-Klass Model",
         "x": 0.5
        },
        "xaxis": {
         "tickmode": "array",
         "ticktext": [
          3,
          10,
          30,
          60,
          90,
          120,
          150,
          180,
          210,
          240,
          300,
          360
         ],
         "tickvals": [
          3,
          10,
          30,
          60,
          90,
          120,
          150,
          180,
          210,
          240,
          300,
          360
         ],
         "title": {
          "text": "Window of Time (in days)"
         }
        }
       }
      }
     },
     "metadata": {},
     "output_type": "display_data"
    }
   ],
   "source": [
    "openbb.ta.cones_chart(\n",
    "    data = openbb.stocks.load('VOO'),\n",
    "    symbol = 'VOO',\n",
    "    model = 'Garman-Klass',    \n",
    ")"
   ]
  },
  {
   "attachments": {},
   "cell_type": "markdown",
   "metadata": {},
   "source": [
    "## Advanced Use\n",
    "\n",
    "A chart or a table is nice and all, but what are we supposed to do with it? Becoming a Script-Kitty can start with simply being curious. Curiousity runs hot with motivation, keep those burning questions in mind to begin down the path towards answering them. Here's a really basic example of what curiousity can look like: \n",
    "\n",
    "### How can I compare the difference between all models within one table?"
   ]
  },
  {
   "cell_type": "code",
   "execution_count": 32,
   "metadata": {},
   "outputs": [
    {
     "data": {
      "text/html": [
       "<pre style=\"white-space:pre;overflow-x:auto;line-height:normal;font-family:Menlo,'DejaVu Sans Mono',consolas,'Courier New',monospace\">Loading Daily data for TLT with starting period 2002-07-30.\n",
       "</pre>\n"
      ],
      "text/plain": [
       "Loading Daily data for TLT with starting period 2002-07-30.\n"
      ]
     },
     "metadata": {},
     "output_type": "display_data"
    }
   ],
   "source": [
    "# Get some data - TLT is the iShares 20 Plus Year Treasury Bond ETF. \n",
    "\n",
    "data = openbb.stocks.load('TLT', start_date = '2000-01-01')"
   ]
  },
  {
   "cell_type": "code",
   "execution_count": 33,
   "metadata": {},
   "outputs": [
    {
     "data": {
      "image/png": "[encoded data removed]",
      "image/svg+xml": "<?xml version=\"1.0\" encoding=\"utf-8\" standalone=\"no\"?>\n<!DOCTYPE svg PUBLIC \"-//W3C//DTD SVG 1.1//EN\"\n  \"http://www.w3.org/Graphics/SVG/1.1/DTD/svg11.dtd\">\n<svg xmlns:xlink=\"http://www.w3.org/1999/xlink\" width=\"942.0925pt\" height=\"279.701963pt\" viewBox=\"0 0 942.0925 279.701963\" xmlns=\"http://www.w3.org/2000/svg\" version=\"1.1\">\n <metadata>\n  <rdf:RDF xmlns:dc=\"http://purl.org/dc/elements/1.1/\" xmlns:cc=\"http://creativecommons.org/ns#\" xmlns:rdf=\"http://www.w3.org/1999/02/22-rdf-syntax-ns#\">\n   <cc:Work>\n    <dc:type rdf:resource=\"http://purl.org/dc/dcmitype/StillImage\"/>\n    <dc:date>2023-03-27T19:22:23.980365</dc:date>\n    <dc:format>image/svg+xml</dc:format>\n    <dc:creator>\n     <cc:Agent>\n      <dc:title>Matplotlib v3.7.1, https://matplotlib.org/</dc:title>\n     </cc:Agent>\n    </dc:creator>\n   </cc:Work>\n  </rdf:RDF>\n </metadata>\n <defs>\n  <style type=\"text/css\">*{stroke-linejoin: round; stroke-linecap: butt}</style>\n </defs>\n <g id=\"figure_1\">\n  <g id=\"patch_1\">\n   <path d=\"M 0 279.701963 \nL 942.0925 279.701963 \nL 942.0925 0 \nL 0 0 \nz\n\"/>\n  </g>\n  <g id=\"axes_1\">\n   <g id=\"patch_2\">\n    <path d=\"M 7.2 239.0708 \nL 900 239.0708 \nL 900 43.2308 \nL 7.2 43.2308 \nz\n\" style=\"fill-opacity: 0.921569\"/>\n   </g>\n   <g id=\"matplotlib.axis_1\">\n    <g id=\"xtick_1\">\n     <g id=\"line2d_1\">\n      <path d=\"M 76.302045 239.0708 \nL 76.302045 43.2308 \n\" clip-path=\"url(#p819f27ffea)\" style=\"fill: none; stroke-dasharray: 1.11,0.48; stroke-dashoffset: 0; stroke: #e1e1e1; stroke-opacity: 0.3; stroke-width: 0.3; stroke-linejoin: miter; stroke-linecap: square\"/>\n     </g>\n     <g id=\"text_1\">\n      <!-- 2004 -->\n      <g style=\"fill: #f5eff3\" transform=\"translate(49.582167 270.191682) rotate(-30) scale(0.13328 -0.13328)\">\n       <defs>\n        <path id=\"Consolas-32\" d=\"M 3150 0 \nL 459 0 \nL 459 488 \nL 1516 1538 \nQ 1775 1794 1937 1981 \nQ 2100 2169 2190 2323 \nQ 2281 2478 2312 2615 \nQ 2344 2753 2344 2913 \nQ 2344 3063 2303 3198 \nQ 2263 3334 2178 3437 \nQ 2094 3541 1959 3600 \nQ 1825 3659 1638 3659 \nQ 1378 3659 1165 3543 \nQ 953 3428 775 3244 \nL 475 3603 \nQ 706 3847 1007 3994 \nQ 1309 4141 1709 4141 \nQ 1981 4141 2204 4059 \nQ 2428 3978 2590 3825 \nQ 2753 3672 2842 3450 \nQ 2931 3228 2931 2950 \nQ 2931 2716 2868 2516 \nQ 2806 2316 2679 2117 \nQ 2553 1919 2361 1706 \nQ 2169 1494 1906 1241 \nL 1166 519 \nL 3150 519 \nL 3150 0 \nz\n\" transform=\"scale(0.015625)\"/>\n        <path id=\"Consolas-30\" d=\"M 3244 2041 \nQ 3244 1572 3150 1186 \nQ 3056 800 2865 523 \nQ 2675 247 2392 95 \nQ 2109 -56 1728 -56 \nQ 1400 -56 1131 67 \nQ 863 191 672 447 \nQ 481 703 378 1100 \nQ 275 1497 275 2041 \nQ 275 2509 370 2896 \nQ 466 3284 655 3561 \nQ 844 3838 1128 3989 \nQ 1413 4141 1791 4141 \nQ 2119 4141 2387 4017 \nQ 2656 3894 2847 3636 \nQ 3038 3378 3141 2981 \nQ 3244 2584 3244 2041 \nz\nM 2694 2022 \nQ 2694 2128 2686 2233 \nQ 2678 2338 2669 2438 \nL 941 1153 \nQ 988 991 1059 853 \nQ 1131 716 1232 617 \nQ 1334 519 1464 464 \nQ 1594 409 1759 409 \nQ 1972 409 2145 512 \nQ 2319 616 2441 819 \nQ 2563 1022 2628 1323 \nQ 2694 1625 2694 2022 \nz\nM 825 2059 \nQ 825 1963 826 1866 \nQ 828 1769 838 1678 \nL 2566 2956 \nQ 2519 3116 2447 3247 \nQ 2375 3378 2275 3473 \nQ 2175 3569 2047 3622 \nQ 1919 3675 1759 3675 \nQ 1547 3675 1373 3572 \nQ 1200 3469 1078 3264 \nQ 956 3059 890 2757 \nQ 825 2456 825 2059 \nz\n\" transform=\"scale(0.015625)\"/>\n        <path id=\"Consolas-34\" d=\"M 3353 903 \nL 2656 903 \nL 2656 0 \nL 2100 0 \nL 2100 903 \nL 134 903 \nL 134 1381 \nL 1875 4084 \nL 2656 4084 \nL 2656 1381 \nL 3353 1381 \nL 3353 903 \nz\nM 2100 3559 \nL 678 1381 \nL 2100 1381 \nL 2100 3559 \nz\n\" transform=\"scale(0.015625)\"/>\n       </defs>\n       <use xlink:href=\"#Consolas-32\"/>\n       <use xlink:href=\"#Consolas-30\" x=\"54.980469\"/>\n       <use xlink:href=\"#Consolas-30\" x=\"109.960938\"/>\n       <use xlink:href=\"#Consolas-34\" x=\"164.941406\"/>\n      </g>\n     </g>\n    </g>\n    <g id=\"xtick_2\">\n     <g id=\"line2d_2\">\n      <path d=\"M 245.859816 239.0708 \nL 245.859816 43.2308 \n\" clip-path=\"url(#p819f27ffea)\" style=\"fill: none; stroke-dasharray: 1.11,0.48; stroke-dashoffset: 0; stroke: #e1e1e1; stroke-opacity: 0.3; stroke-width: 0.3; stroke-linejoin: miter; stroke-linecap: square\"/>\n     </g>\n     <g id=\"text_2\">\n      <!-- 2008 -->\n      <g style=\"fill: #f5eff3\" transform=\"translate(219.139938 270.191682) rotate(-30) scale(0.13328 -0.13328)\">\n       <defs>\n        <path id=\"Consolas-38\" d=\"M 3150 1025 \nQ 3150 766 3044 564 \nQ 2938 363 2747 225 \nQ 2556 88 2297 16 \nQ 2038 -56 1734 -56 \nQ 1400 -56 1145 19 \nQ 891 94 719 228 \nQ 547 363 459 547 \nQ 372 731 372 953 \nQ 372 1328 581 1600 \nQ 791 1872 1228 2094 \nQ 828 2297 643 2545 \nQ 459 2794 459 3116 \nQ 459 3313 540 3497 \nQ 622 3681 786 3825 \nQ 950 3969 1197 4055 \nQ 1444 4141 1778 4141 \nQ 2094 4141 2333 4073 \nQ 2572 4006 2734 3881 \nQ 2897 3756 2978 3578 \nQ 3059 3400 3059 3181 \nQ 3059 2825 2861 2575 \nQ 2663 2325 2297 2138 \nQ 2478 2047 2634 1937 \nQ 2791 1828 2906 1693 \nQ 3022 1559 3086 1393 \nQ 3150 1228 3150 1025 \nz\nM 2503 3138 \nQ 2503 3416 2308 3552 \nQ 2113 3688 1759 3688 \nQ 1409 3688 1214 3553 \nQ 1019 3419 1019 3150 \nQ 1019 3028 1066 2925 \nQ 1113 2822 1211 2731 \nQ 1309 2641 1456 2553 \nQ 1603 2466 1806 2375 \nQ 2159 2541 2331 2720 \nQ 2503 2900 2503 3138 \nz\nM 2559 984 \nQ 2559 1100 2521 1209 \nQ 2484 1319 2387 1425 \nQ 2291 1531 2128 1637 \nQ 1966 1744 1716 1856 \nQ 1503 1753 1358 1651 \nQ 1213 1550 1123 1445 \nQ 1034 1341 996 1228 \nQ 959 1116 959 991 \nQ 959 850 1020 742 \nQ 1081 634 1187 559 \nQ 1294 484 1441 446 \nQ 1588 409 1759 409 \nQ 1925 409 2072 443 \nQ 2219 478 2326 548 \nQ 2434 619 2496 726 \nQ 2559 834 2559 984 \nz\n\" transform=\"scale(0.015625)\"/>\n       </defs>\n       <use xlink:href=\"#Consolas-32\"/>\n       <use xlink:href=\"#Consolas-30\" x=\"54.980469\"/>\n       <use xlink:href=\"#Consolas-30\" x=\"109.960938\"/>\n       <use xlink:href=\"#Consolas-38\" x=\"164.941406\"/>\n      </g>\n     </g>\n    </g>\n    <g id=\"xtick_3\">\n     <g id=\"line2d_3\">\n      <path d=\"M 415.417586 239.0708 \nL 415.417586 43.2308 \n\" clip-path=\"url(#p819f27ffea)\" style=\"fill: none; stroke-dasharray: 1.11,0.48; stroke-dashoffset: 0; stroke: #e1e1e1; stroke-opacity: 0.3; stroke-width: 0.3; stroke-linejoin: miter; stroke-linecap: square\"/>\n     </g>\n     <g id=\"text_3\">\n      <!-- 2012 -->\n      <g style=\"fill: #f5eff3\" transform=\"translate(388.697708 270.191682) rotate(-30) scale(0.13328 -0.13328)\">\n       <defs>\n        <path id=\"Consolas-31\" d=\"M 3116 0 \nL 550 0 \nL 550 506 \nL 1600 506 \nL 1600 3488 \nL 622 2956 \nL 422 3419 \nL 1722 4103 \nL 2203 4103 \nL 2203 506 \nL 3116 506 \nL 3116 0 \nz\n\" transform=\"scale(0.015625)\"/>\n       </defs>\n       <use xlink:href=\"#Consolas-32\"/>\n       <use xlink:href=\"#Consolas-30\" x=\"54.980469\"/>\n       <use xlink:href=\"#Consolas-31\" x=\"109.960938\"/>\n       <use xlink:href=\"#Consolas-32\" x=\"164.941406\"/>\n      </g>\n     </g>\n    </g>\n    <g id=\"xtick_4\">\n     <g id=\"line2d_4\">\n      <path d=\"M 584.975357 239.0708 \nL 584.975357 43.2308 \n\" clip-path=\"url(#p819f27ffea)\" style=\"fill: none; stroke-dasharray: 1.11,0.48; stroke-dashoffset: 0; stroke: #e1e1e1; stroke-opacity: 0.3; stroke-width: 0.3; stroke-linejoin: miter; stroke-linecap: square\"/>\n     </g>\n     <g id=\"text_4\">\n      <!-- 2016 -->\n      <g style=\"fill: #f5eff3\" transform=\"translate(558.255479 270.191682) rotate(-30) scale(0.13328 -0.13328)\">\n       <defs>\n        <path id=\"Consolas-36\" d=\"M 3200 1294 \nQ 3200 1013 3098 766 \nQ 2997 519 2809 336 \nQ 2622 153 2358 48 \nQ 2094 -56 1772 -56 \nQ 1434 -56 1175 51 \nQ 916 159 741 382 \nQ 566 606 475 947 \nQ 384 1288 384 1753 \nQ 384 2066 425 2359 \nQ 466 2653 559 2912 \nQ 653 3172 809 3387 \nQ 966 3603 1198 3758 \nQ 1431 3913 1747 3998 \nQ 2063 4084 2478 4084 \nL 2881 4084 \nL 2881 3609 \nL 2444 3609 \nQ 2078 3609 1809 3521 \nQ 1541 3434 1359 3275 \nQ 1178 3116 1081 2891 \nQ 984 2666 959 2388 \nL 947 2259 \nQ 1144 2375 1401 2445 \nQ 1659 2516 1959 2516 \nQ 2269 2516 2501 2425 \nQ 2734 2334 2889 2173 \nQ 3044 2013 3122 1788 \nQ 3200 1563 3200 1294 \nz\nM 2631 1259 \nQ 2631 1447 2586 1598 \nQ 2541 1750 2444 1854 \nQ 2347 1959 2198 2017 \nQ 2050 2075 1844 2075 \nQ 1725 2075 1603 2053 \nQ 1481 2031 1364 1992 \nQ 1247 1953 1140 1903 \nQ 1034 1853 947 1797 \nQ 947 1394 1003 1123 \nQ 1059 853 1170 690 \nQ 1281 528 1443 459 \nQ 1606 391 1819 391 \nQ 1997 391 2145 448 \nQ 2294 506 2401 618 \nQ 2509 731 2570 892 \nQ 2631 1053 2631 1259 \nz\n\" transform=\"scale(0.015625)\"/>\n       </defs>\n       <use xlink:href=\"#Consolas-32\"/>\n       <use xlink:href=\"#Consolas-30\" x=\"54.980469\"/>\n       <use xlink:href=\"#Consolas-31\" x=\"109.960938\"/>\n       <use xlink:href=\"#Consolas-36\" x=\"164.941406\"/>\n      </g>\n     </g>\n    </g>\n    <g id=\"xtick_5\">\n     <g id=\"line2d_5\">\n      <path d=\"M 754.533127 239.0708 \nL 754.533127 43.2308 \n\" clip-path=\"url(#p819f27ffea)\" style=\"fill: none; stroke-dasharray: 1.11,0.48; stroke-dashoffset: 0; stroke: #e1e1e1; stroke-opacity: 0.3; stroke-width: 0.3; stroke-linejoin: miter; stroke-linecap: square\"/>\n     </g>\n     <g id=\"text_5\">\n      <!-- 2020 -->\n      <g style=\"fill: #f5eff3\" transform=\"translate(727.81325 270.191682) rotate(-30) scale(0.13328 -0.13328)\">\n       <use xlink:href=\"#Consolas-32\"/>\n       <use xlink:href=\"#Consolas-30\" x=\"54.980469\"/>\n       <use xlink:href=\"#Consolas-32\" x=\"109.960938\"/>\n       <use xlink:href=\"#Consolas-30\" x=\"164.941406\"/>\n      </g>\n     </g>\n    </g>\n    <g id=\"xtick_6\"/>\n    <g id=\"xtick_7\"/>\n    <g id=\"xtick_8\"/>\n    <g id=\"xtick_9\"/>\n    <g id=\"xtick_10\"/>\n    <g id=\"xtick_11\"/>\n    <g id=\"xtick_12\"/>\n    <g id=\"xtick_13\"/>\n    <g id=\"xtick_14\"/>\n    <g id=\"xtick_15\"/>\n    <g id=\"xtick_16\"/>\n    <g id=\"xtick_17\"/>\n    <g id=\"xtick_18\"/>\n    <g id=\"xtick_19\"/>\n    <g id=\"xtick_20\"/>\n    <g id=\"xtick_21\"/>\n   </g>\n   <g id=\"matplotlib.axis_2\">\n    <g id=\"ytick_1\">\n     <g id=\"line2d_6\">\n      <path d=\"M 7.2 217.115904 \nL 900 217.115904 \n\" clip-path=\"url(#p819f27ffea)\" style=\"fill: none; stroke-dasharray: 1.11,0.48; stroke-dashoffset: 0; stroke: #e1e1e1; stroke-opacity: 0.3; stroke-width: 0.3; stroke-linejoin: miter; stroke-linecap: square\"/>\n     </g>\n     <g id=\"line2d_7\">\n      <defs>\n       <path id=\"m729c187756\" d=\"M 0 0 \nL 5 0 \n\" style=\"stroke: #f5eff3; stroke-width: 0.5\"/>\n      </defs>\n      <g>\n       <use xlink:href=\"#m729c187756\" x=\"900\" y=\"217.115904\" style=\"fill: #f5eff3; stroke: #f5eff3; stroke-width: 0.5\"/>\n      </g>\n     </g>\n     <g id=\"text_6\">\n      <!-- 50 -->\n      <g style=\"fill: #f5eff3\" transform=\"translate(908.5 221.034654) scale(0.16 -0.16)\">\n       <defs>\n        <path id=\"Consolas-35\" d=\"M 3047 1306 \nQ 3047 1003 2915 753 \nQ 2784 503 2554 323 \nQ 2325 144 2012 44 \nQ 1700 -56 1338 -56 \nQ 1247 -56 1142 -51 \nQ 1038 -47 934 -39 \nQ 831 -31 732 -22 \nQ 634 -13 556 0 \nL 556 494 \nQ 725 453 942 434 \nQ 1159 416 1381 416 \nQ 1631 416 1831 475 \nQ 2031 534 2172 645 \nQ 2313 756 2388 914 \nQ 2463 1072 2463 1269 \nQ 2463 1650 2189 1823 \nQ 1916 1997 1403 1997 \nL 628 1997 \nL 628 4084 \nL 2828 4084 \nL 2828 3609 \nL 1141 3609 \nL 1141 2463 \nL 1497 2463 \nQ 1791 2463 2069 2409 \nQ 2347 2356 2564 2223 \nQ 2781 2091 2914 1867 \nQ 3047 1644 3047 1306 \nz\n\" transform=\"scale(0.015625)\"/>\n       </defs>\n       <use xlink:href=\"#Consolas-35\"/>\n       <use xlink:href=\"#Consolas-30\" x=\"54.980469\"/>\n      </g>\n     </g>\n    </g>\n    <g id=\"ytick_2\">\n     <g id=\"line2d_8\">\n      <path d=\"M 7.2 180.738013 \nL 900 180.738013 \n\" clip-path=\"url(#p819f27ffea)\" style=\"fill: none; stroke-dasharray: 1.11,0.48; stroke-dashoffset: 0; stroke: #e1e1e1; stroke-opacity: 0.3; stroke-width: 0.3; stroke-linejoin: miter; stroke-linecap: square\"/>\n     </g>\n     <g id=\"line2d_9\">\n      <g>\n       <use xlink:href=\"#m729c187756\" x=\"900\" y=\"180.738013\" style=\"fill: #f5eff3; stroke: #f5eff3; stroke-width: 0.5\"/>\n      </g>\n     </g>\n     <g id=\"text_7\">\n      <!-- 75 -->\n      <g style=\"fill: #f5eff3\" transform=\"translate(908.5 184.656763) scale(0.16 -0.16)\">\n       <defs>\n        <path id=\"Consolas-37\" d=\"M 3128 3578 \nL 1416 0 \nL 794 0 \nL 2572 3578 \nL 366 3578 \nL 366 4084 \nL 3128 4084 \nL 3128 3578 \nz\n\" transform=\"scale(0.015625)\"/>\n       </defs>\n       <use xlink:href=\"#Consolas-37\"/>\n       <use xlink:href=\"#Consolas-35\" x=\"54.980469\"/>\n      </g>\n     </g>\n    </g>\n    <g id=\"ytick_3\">\n     <g id=\"line2d_10\">\n      <path d=\"M 7.2 144.360121 \nL 900 144.360121 \n\" clip-path=\"url(#p819f27ffea)\" style=\"fill: none; stroke-dasharray: 1.11,0.48; stroke-dashoffset: 0; stroke: #e1e1e1; stroke-opacity: 0.3; stroke-width: 0.3; stroke-linejoin: miter; stroke-linecap: square\"/>\n     </g>\n     <g id=\"line2d_11\">\n      <g>\n       <use xlink:href=\"#m729c187756\" x=\"900\" y=\"144.360121\" style=\"fill: #f5eff3; stroke: #f5eff3; stroke-width: 0.5\"/>\n      </g>\n     </g>\n     <g id=\"text_8\">\n      <!-- 100 -->\n      <g style=\"fill: #f5eff3\" transform=\"translate(908.5 148.278871) scale(0.16 -0.16)\">\n       <use xlink:href=\"#Consolas-31\"/>\n       <use xlink:href=\"#Consolas-30\" x=\"54.980469\"/>\n       <use xlink:href=\"#Consolas-30\" x=\"109.960938\"/>\n      </g>\n     </g>\n    </g>\n    <g id=\"ytick_4\">\n     <g id=\"line2d_12\">\n      <path d=\"M 7.2 107.982229 \nL 900 107.982229 \n\" clip-path=\"url(#p819f27ffea)\" style=\"fill: none; stroke-dasharray: 1.11,0.48; stroke-dashoffset: 0; stroke: #e1e1e1; stroke-opacity: 0.3; stroke-width: 0.3; stroke-linejoin: miter; stroke-linecap: square\"/>\n     </g>\n     <g id=\"line2d_13\">\n      <g>\n       <use xlink:href=\"#m729c187756\" x=\"900\" y=\"107.982229\" style=\"fill: #f5eff3; stroke: #f5eff3; stroke-width: 0.5\"/>\n      </g>\n     </g>\n     <g id=\"text_9\">\n      <!-- 125 -->\n      <g style=\"fill: #f5eff3\" transform=\"translate(908.5 111.900979) scale(0.16 -0.16)\">\n       <use xlink:href=\"#Consolas-31\"/>\n       <use xlink:href=\"#Consolas-32\" x=\"54.980469\"/>\n       <use xlink:href=\"#Consolas-35\" x=\"109.960938\"/>\n      </g>\n     </g>\n    </g>\n    <g id=\"ytick_5\">\n     <g id=\"line2d_14\">\n      <path d=\"M 7.2 71.604338 \nL 900 71.604338 \n\" clip-path=\"url(#p819f27ffea)\" style=\"fill: none; stroke-dasharray: 1.11,0.48; stroke-dashoffset: 0; stroke: #e1e1e1; stroke-opacity: 0.3; stroke-width: 0.3; stroke-linejoin: miter; stroke-linecap: square\"/>\n     </g>\n     <g id=\"line2d_15\">\n      <g>\n       <use xlink:href=\"#m729c187756\" x=\"900\" y=\"71.604338\" style=\"fill: #f5eff3; stroke: #f5eff3; stroke-width: 0.5\"/>\n      </g>\n     </g>\n     <g id=\"text_10\">\n      <!-- 150 -->\n      <g style=\"fill: #f5eff3\" transform=\"translate(908.5 75.523088) scale(0.16 -0.16)\">\n       <use xlink:href=\"#Consolas-31\"/>\n       <use xlink:href=\"#Consolas-35\" x=\"54.980469\"/>\n       <use xlink:href=\"#Consolas-30\" x=\"109.960938\"/>\n      </g>\n     </g>\n    </g>\n    <g id=\"ytick_6\">\n     <g id=\"line2d_16\">\n      <defs>\n       <path id=\"mcb66b40b8d\" d=\"M 0 0 \nL 2.5 0 \n\" style=\"stroke: #f5eff3; stroke-width: 0.25\"/>\n      </defs>\n      <g>\n       <use xlink:href=\"#mcb66b40b8d\" x=\"900\" y=\"238.942639\" style=\"fill: #f5eff3; stroke: #f5eff3; stroke-width: 0.25\"/>\n      </g>\n     </g>\n    </g>\n    <g id=\"ytick_7\">\n     <g id=\"line2d_17\">\n      <g>\n       <use xlink:href=\"#mcb66b40b8d\" x=\"900\" y=\"231.667061\" style=\"fill: #f5eff3; stroke: #f5eff3; stroke-width: 0.25\"/>\n      </g>\n     </g>\n    </g>\n    <g id=\"ytick_8\">\n     <g id=\"line2d_18\">\n      <g>\n       <use xlink:href=\"#mcb66b40b8d\" x=\"900\" y=\"224.391483\" style=\"fill: #f5eff3; stroke: #f5eff3; stroke-width: 0.25\"/>\n      </g>\n     </g>\n    </g>\n    <g id=\"ytick_9\">\n     <g id=\"line2d_19\">\n      <g>\n       <use xlink:href=\"#mcb66b40b8d\" x=\"900\" y=\"209.840326\" style=\"fill: #f5eff3; stroke: #f5eff3; stroke-width: 0.25\"/>\n      </g>\n     </g>\n    </g>\n    <g id=\"ytick_10\">\n     <g id=\"line2d_20\">\n      <g>\n       <use xlink:href=\"#mcb66b40b8d\" x=\"900\" y=\"202.564748\" style=\"fill: #f5eff3; stroke: #f5eff3; stroke-width: 0.25\"/>\n      </g>\n     </g>\n    </g>\n    <g id=\"ytick_11\">\n     <g id=\"line2d_21\">\n      <g>\n       <use xlink:href=\"#mcb66b40b8d\" x=\"900\" y=\"195.289169\" style=\"fill: #f5eff3; stroke: #f5eff3; stroke-width: 0.25\"/>\n      </g>\n     </g>\n    </g>\n    <g id=\"ytick_12\">\n     <g id=\"line2d_22\">\n      <g>\n       <use xlink:href=\"#mcb66b40b8d\" x=\"900\" y=\"188.013591\" style=\"fill: #f5eff3; stroke: #f5eff3; stroke-width: 0.25\"/>\n      </g>\n     </g>\n    </g>\n    <g id=\"ytick_13\">\n     <g id=\"line2d_23\">\n      <g>\n       <use xlink:href=\"#mcb66b40b8d\" x=\"900\" y=\"173.462434\" style=\"fill: #f5eff3; stroke: #f5eff3; stroke-width: 0.25\"/>\n      </g>\n     </g>\n    </g>\n    <g id=\"ytick_14\">\n     <g id=\"line2d_24\">\n      <g>\n       <use xlink:href=\"#mcb66b40b8d\" x=\"900\" y=\"166.186856\" style=\"fill: #f5eff3; stroke: #f5eff3; stroke-width: 0.25\"/>\n      </g>\n     </g>\n    </g>\n    <g id=\"ytick_15\">\n     <g id=\"line2d_25\">\n      <g>\n       <use xlink:href=\"#mcb66b40b8d\" x=\"900\" y=\"158.911278\" style=\"fill: #f5eff3; stroke: #f5eff3; stroke-width: 0.25\"/>\n      </g>\n     </g>\n    </g>\n    <g id=\"ytick_16\">\n     <g id=\"line2d_26\">\n      <g>\n       <use xlink:href=\"#mcb66b40b8d\" x=\"900\" y=\"151.635699\" style=\"fill: #f5eff3; stroke: #f5eff3; stroke-width: 0.25\"/>\n      </g>\n     </g>\n    </g>\n    <g id=\"ytick_17\">\n     <g id=\"line2d_27\">\n      <g>\n       <use xlink:href=\"#mcb66b40b8d\" x=\"900\" y=\"137.084543\" style=\"fill: #f5eff3; stroke: #f5eff3; stroke-width: 0.25\"/>\n      </g>\n     </g>\n    </g>\n    <g id=\"ytick_18\">\n     <g id=\"line2d_28\">\n      <g>\n       <use xlink:href=\"#mcb66b40b8d\" x=\"900\" y=\"129.808964\" style=\"fill: #f5eff3; stroke: #f5eff3; stroke-width: 0.25\"/>\n      </g>\n     </g>\n    </g>\n    <g id=\"ytick_19\">\n     <g id=\"line2d_29\">\n      <g>\n       <use xlink:href=\"#mcb66b40b8d\" x=\"900\" y=\"122.533386\" style=\"fill: #f5eff3; stroke: #f5eff3; stroke-width: 0.25\"/>\n      </g>\n     </g>\n    </g>\n    <g id=\"ytick_20\">\n     <g id=\"line2d_30\">\n      <g>\n       <use xlink:href=\"#mcb66b40b8d\" x=\"900\" y=\"115.257808\" style=\"fill: #f5eff3; stroke: #f5eff3; stroke-width: 0.25\"/>\n      </g>\n     </g>\n    </g>\n    <g id=\"ytick_21\">\n     <g id=\"line2d_31\">\n      <g>\n       <use xlink:href=\"#mcb66b40b8d\" x=\"900\" y=\"100.706651\" style=\"fill: #f5eff3; stroke: #f5eff3; stroke-width: 0.25\"/>\n      </g>\n     </g>\n    </g>\n    <g id=\"ytick_22\">\n     <g id=\"line2d_32\">\n      <g>\n       <use xlink:href=\"#mcb66b40b8d\" x=\"900\" y=\"93.431073\" style=\"fill: #f5eff3; stroke: #f5eff3; stroke-width: 0.25\"/>\n      </g>\n     </g>\n    </g>\n    <g id=\"ytick_23\">\n     <g id=\"line2d_33\">\n      <g>\n       <use xlink:href=\"#mcb66b40b8d\" x=\"900\" y=\"86.155494\" style=\"fill: #f5eff3; stroke: #f5eff3; stroke-width: 0.25\"/>\n      </g>\n     </g>\n    </g>\n    <g id=\"ytick_24\">\n     <g id=\"line2d_34\">\n      <g>\n       <use xlink:href=\"#mcb66b40b8d\" x=\"900\" y=\"78.879916\" style=\"fill: #f5eff3; stroke: #f5eff3; stroke-width: 0.25\"/>\n      </g>\n     </g>\n    </g>\n    <g id=\"ytick_25\">\n     <g id=\"line2d_35\">\n      <g>\n       <use xlink:href=\"#mcb66b40b8d\" x=\"900\" y=\"64.328759\" style=\"fill: #f5eff3; stroke: #f5eff3; stroke-width: 0.25\"/>\n      </g>\n     </g>\n    </g>\n    <g id=\"ytick_26\">\n     <g id=\"line2d_36\">\n      <g>\n       <use xlink:href=\"#mcb66b40b8d\" x=\"900\" y=\"57.053181\" style=\"fill: #f5eff3; stroke: #f5eff3; stroke-width: 0.25\"/>\n      </g>\n     </g>\n    </g>\n    <g id=\"ytick_27\">\n     <g id=\"line2d_37\">\n      <g>\n       <use xlink:href=\"#mcb66b40b8d\" x=\"900\" y=\"49.777603\" style=\"fill: #f5eff3; stroke: #f5eff3; stroke-width: 0.25\"/>\n      </g>\n     </g>\n    </g>\n   </g>\n   <g id=\"line2d_38\">\n    <path d=\"M 15.952941 230.168982 \nL 17.113501 227.708306 \nL 18.390117 226.690274 \nL 18.506172 227.027181 \nL 18.622228 227.576452 \nL 18.738284 226.961271 \nL 19.318564 226.983263 \nL 20.247012 224.778308 \nL 20.363068 225.543201 \nL 20.943348 225.668245 \nL 21.059404 225.168076 \nL 22.452075 223.174875 \nL 23.264467 224.205491 \nL 23.496579 223.991368 \nL 24.192915 223.31213 \nL 24.308971 223.836333 \nL 25.701643 227.6313 \nL 25.817699 227.609185 \nL 26.746146 225.837178 \nL 26.862202 226.104895 \nL 27.326426 226.631496 \nL 27.442482 226.379344 \nL 28.022762 223.924486 \nL 28.486986 225.266892 \nL 28.95121 224.740324 \nL 29.067266 225.378103 \nL 29.879657 226.831775 \nL 30.111769 226.423834 \nL 31.272329 225.314474 \nL 31.620497 224.770609 \nL 32.084721 225.888152 \nL 32.316833 225.388994 \nL 33.709504 223.384824 \nL 35.334288 225.716548 \nL 35.798512 224.765619 \nL 38.235687 223.432511 \nL 39.512303 223.808224 \nL 41.02103 221.809144 \nL 42.065534 221.0851 \nL 42.297646 222.020359 \nL 43.110038 224.969423 \nL 43.92243 223.68721 \nL 44.270598 222.819811 \nL 44.734821 223.934816 \nL 45.895381 223.957558 \nL 46.011437 223.601539 \nL 47.171997 222.518356 \nL 48.448612 221.924213 \nL 49.609172 218.505187 \nL 49.95734 218.748857 \nL 50.073396 217.697953 \nL 50.189452 217.705613 \nL 50.421564 216.883269 \nL 51.001844 218.322482 \nL 51.1179 217.697953 \nL 51.930292 218.142474 \nL 52.046348 217.882445 \nL 52.858739 215.557826 \nL 53.322963 216.842559 \nL 54.483523 219.465452 \nL 55.063803 219.310817 \nL 55.644083 220.769369 \nL 56.108306 220.178339 \nL 59.009706 226.614449 \nL 59.357874 225.357532 \nL 61.330825 226.082358 \nL 61.678993 225.21099 \nL 62.259273 226.308704 \nL 64.92856 222.714622 \nL 65.50884 221.537226 \nL 65.740952 222.107357 \nL 66.553344 224.495272 \nL 66.6694 224.106387 \nL 67.365735 225.389793 \nL 67.946015 224.433053 \nL 68.758407 223.328527 \nL 69.106575 223.608561 \nL 70.383191 224.703572 \nL 70.499247 224.227111 \nL 71.195582 222.251156 \nL 71.54375 222.313598 \nL 72.936422 223.738361 \nL 73.052478 223.589227 \nL 73.168534 222.529697 \nL 73.980926 222.757258 \nL 74.561205 222.121578 \nL 75.257541 222.49043 \nL 75.605709 221.603491 \nL 76.766269 223.460337 \nL 77.114437 222.482554 \nL 77.926829 220.298248 \nL 78.042885 220.787226 \nL 82.801179 220.272254 \nL 84.193851 217.710004 \nL 86.863138 218.912906 \nL 87.67553 221.195506 \nL 88.952146 222.528342 \nL 89.300314 222.416576 \nL 90.112705 223.390258 \nL 90.576929 223.034794 \nL 90.925097 223.852042 \nL 91.737489 225.254175 \nL 91.853545 224.725348 \nL 93.362272 223.106899 \nL 93.478328 223.291159 \nL 95.45128 224.857968 \nL 95.799448 223.305669 \nL 96.495784 223.474575 \nL 97.076063 223.691762 \nL 97.540287 221.753175 \nL 99.049015 221.737006 \nL 99.513239 220.784051 \nL 99.977463 221.268605 \nL 100.557743 222.504202 \nL 101.254078 221.194496 \nL 101.48619 220.967528 \nL 102.414638 219.629779 \nL 103.691254 220.07571 \nL 103.80731 219.832467 \nL 104.619701 218.640361 \nL 104.851813 219.33226 \nL 106.244485 218.754425 \nL 107.056877 216.874049 \nL 107.288989 217.077537 \nL 107.637157 216.760096 \nL 107.869269 217.761315 \nL 108.797716 218.928154 \nL 108.913772 217.988211 \nL 110.306444 216.680497 \nL 111.350948 216.770415 \nL 112.859675 218.529966 \nL 112.975731 217.75849 \nL 114.948683 218.218109 \nL 115.296851 218.921382 \nL 115.761074 217.569934 \nL 117.501914 216.383312 \nL 117.734026 216.869531 \nL 118.430362 217.569934 \nL 118.662474 216.624689 \nL 121.099649 214.589779 \nL 123.304712 211.723299 \nL 124.001048 212.977086 \nL 125.857944 215.292486 \nL 126.322168 214.184641 \nL 126.55428 216.125409 \nL 126.670336 215.675643 \nL 127.250615 216.241988 \nL 127.598783 216.017124 \nL 128.759343 216.80004 \nL 128.991455 216.00046 \nL 129.803847 215.166438 \nL 130.035959 215.509157 \nL 132.937358 212.398557 \nL 133.16947 212.901995 \nL 133.285526 213.472459 \nL 133.981862 212.314612 \nL 135.374533 210.644985 \nL 135.606645 211.223925 \nL 136.186925 210.166837 \nL 136.999317 208.601354 \nL 137.231429 209.056133 \nL 137.811709 210.967671 \nL 138.159876 210.437117 \nL 138.508044 210.571897 \nL 138.6241 209.99077 \nL 139.668604 208.441373 \nL 140.248884 210.188768 \nL 140.597052 209.909944 \nL 141.409444 210.467603 \nL 142.802115 211.109911 \nL 142.918171 210.408542 \nL 143.498451 211.741412 \nL 143.730563 211.520888 \nL 144.194787 212.275773 \nL 144.542955 211.52937 \nL 145.471402 210.333489 \nL 146.631962 209.646463 \nL 146.864074 208.459081 \nL 147.56041 209.451491 \nL 148.72097 211.485646 \nL 150.113641 210.770711 \nL 150.345753 211.400546 \nL 150.693921 212.014085 \nL 151.506313 211.450121 \nL 153.363208 213.586201 \nL 153.943488 213.158959 \nL 155.568272 213.642181 \nL 156.844887 212.191767 \nL 157.193055 211.80554 \nL 157.657279 212.724224 \nL 158.817839 212.836273 \nL 160.79079 210.144556 \nL 160.906846 210.326256 \nL 167.057813 210.999211 \nL 167.870205 210.521407 \nL 167.98626 211.000876 \nL 169.378932 212.979573 \nL 169.7271 212.186393 \nL 170.423436 212.53508 \nL 170.655548 212.212521 \nL 172.628499 215.269478 \nL 172.744555 215.006951 \nL 172.976667 215.986933 \nL 173.556947 215.584393 \nL 174.485395 216.380636 \nL 174.253283 215.374427 \nL 174.717507 216.231946 \nL 175.413842 216.873189 \nL 175.994122 216.434002 \nL 176.34229 217.268452 \nL 177.734962 215.555573 \nL 178.547354 216.372465 \nL 178.66341 216.044395 \nL 179.591857 214.271711 \nL 180.056081 214.157081 \nL 180.172137 214.915474 \nL 181.564809 216.441301 \nL 182.841424 215.243466 \nL 185.974936 213.602581 \nL 186.43916 213.09588 \nL 186.903383 213.95815 \nL 187.251551 214.09152 \nL 187.367607 213.451454 \nL 188.528167 212.144768 \nL 191.545622 210.951102 \nL 192.125902 209.273309 \nL 192.590126 210.076491 \nL 193.170406 209.382999 \nL 193.286462 209.94754 \nL 194.214909 211.775349 \nL 197.9287 208.748861 \nL 198.044756 209.05459 \nL 198.160812 209.423376 \nL 198.857148 208.505957 \nL 201.178268 207.875739 \nL 202.338827 209.166811 \nL 204.427835 208.91134 \nL 205.588394 210.161508 \nL 205.936562 209.971187 \nL 206.168674 210.505665 \nL 206.748954 211.311928 \nL 207.097122 210.655481 \nL 211.739361 207.431145 \nL 211.855417 207.805565 \nL 213.364144 208.837269 \nL 215.337096 210.030714 \nL 217.774271 208.376895 \nL 218.470607 208.468817 \nL 218.586663 208.754024 \nL 221.604118 211.01165 \nL 222.300454 213.828145 \nL 222.648622 212.590716 \nL 223.925237 212.082821 \nL 228.219308 208.584873 \nL 228.335364 208.045172 \nL 228.915644 209.692296 \nL 233.557883 205.458587 \nL 233.673939 206.094013 \nL 233.906051 208.439364 \nL 234.718443 207.159222 \nL 235.530834 206.160944 \nL 235.64689 207.061466 \nL 236.923506 207.624286 \nL 237.039562 206.723709 \nL 237.851954 204.491217 \nL 238.54829 204.697602 \nL 238.664346 205.46673 \nL 238.896457 204.096875 \nL 239.476737 204.398335 \nL 239.592793 204.549096 \nL 239.708849 203.823653 \nL 241.333633 201.562424 \nL 241.681801 199.819404 \nL 242.610248 200.253844 \nL 243.770808 204.16051 \nL 244.351088 201.682194 \nL 244.931368 203.56454 \nL 245.16348 204.321406 \nL 245.395592 202.040061 \nL 248.296991 198.2126 \nL 248.413047 198.421617 \nL 249.225439 200.292606 \nL 249.457551 199.113927 \nL 251.546558 203.193012 \nL 251.662614 202.592557 \nL 252.242894 203.069123 \nL 252.707118 200.066987 \nL 253.171342 201.169009 \nL 253.287398 202.230721 \nL 253.867677 200.346377 \nL 253.983733 201.111652 \nL 255.028237 196.912247 \nL 256.420909 199.639013 \nL 256.653021 199.245159 \nL 257.581468 197.967593 \nL 260.482868 202.185288 \nL 260.71498 201.018765 \nL 260.831036 200.690922 \nL 261.295259 201.799622 \nL 261.643427 201.327213 \nL 262.455819 201.394722 \nL 263.964547 203.172874 \nL 264.080603 202.050441 \nL 264.660883 202.824498 \nL 265.241162 203.859838 \nL 265.58933 203.472852 \nL 267.098058 200.267189 \nL 267.214114 200.461301 \nL 268.606786 199.61646 \nL 269.767345 202.335654 \nL 270.579737 200.652954 \nL 271.043961 201.520326 \nL 271.160017 201.88098 \nL 271.392129 200.204525 \nL 271.740297 201.062322 \nL 272.552688 198.830363 \nL 273.016912 199.151972 \nL 275.10592 195.153907 \nL 275.338032 195.789698 \nL 276.034368 193.530101 \nL 276.266479 197.951495 \nL 277.078871 197.433104 \nL 278.239431 192.567522 \nL 278.471543 194.255117 \nL 279.516047 197.767852 \nL 279.864215 197.031951 \nL 280.212382 193.941151 \nL 280.908718 196.747393 \nL 281.14083 198.788254 \nL 281.72111 195.724565 \nL 281.953222 197.015049 \nL 282.533502 195.685165 \nL 282.649558 197.941065 \nL 283.345894 192.050096 \nL 284.390397 185.725652 \nL 285.667013 178.752316 \nL 285.899125 178.801696 \nL 286.015181 178.801696 \nL 286.479405 174.759052 \nL 286.827573 169.02607 \nL 287.639964 169.975039 \nL 287.988132 170.118828 \nL 288.104188 168.978266 \nL 288.452356 174.482543 \nL 288.91658 178.5883 \nL 289.728972 176.793152 \nL 289.961084 174.740379 \nL 290.541364 176.535438 \nL 291.701923 186.978395 \nL 292.050091 185.064071 \nL 292.282203 187.918261 \nL 292.398259 187.828726 \nL 292.514315 188.146933 \nL 292.862483 187.818757 \nL 293.094595 184.248621 \nL 293.326707 188.027612 \nL 293.906987 185.750264 \nL 294.487267 185.571216 \nL 294.95149 188.554696 \nL 295.647826 185.201931 \nL 296.11205 186.508307 \nL 297.040498 189.589837 \nL 297.27261 185.660707 \nL 298.085002 186.36877 \nL 298.781337 183.491955 \nL 298.897393 184.792025 \nL 299.709785 187.512274 \nL 300.290065 186.032201 \nL 300.522177 187.032249 \nL 300.986401 186.622199 \nL 301.450625 189.292534 \nL 301.798793 188.862434 \nL 302.959352 194.865341 \nL 303.075408 194.63466 \nL 303.771744 191.494847 \nL 304.46808 192.548127 \nL 305.280472 199.098479 \nL 305.512584 195.40708 \nL 306.905255 201.118241 \nL 307.021311 200.132009 \nL 308.762151 194.677435 \nL 310.038766 194.2099 \nL 310.154822 192.443061 \nL 310.851158 194.866074 \nL 311.895662 197.985866 \nL 312.82411 194.149274 \nL 312.359886 198.601741 \nL 313.288334 196.349566 \nL 313.636501 198.203381 \nL 314.100725 195.984888 \nL 314.216781 196.987811 \nL 315.145229 192.885095 \nL 315.261285 194.880695 \nL 316.653957 190.827882 \nL 316.770013 191.437618 \nL 317.466348 193.907114 \nL 317.69846 191.600224 \nL 318.162684 193.073757 \nL 318.85902 192.331911 \nL 319.671412 189.425455 \nL 319.903524 189.608365 \nL 320.01958 188.235258 \nL 320.59986 189.927449 \nL 320.831972 189.815289 \nL 321.644363 193.352664 \nL 321.760419 192.567777 \nL 322.224643 191.273125 \nL 322.572811 193.077465 \nL 322.920979 194.331341 \nL 323.153091 192.567777 \nL 323.269147 193.627951 \nL 323.385203 192.231319 \nL 323.965483 194.514041 \nL 324.197595 194.422041 \nL 325.009986 193.818578 \nL 326.63477 191.282295 \nL 326.982938 191.047006 \nL 327.098994 192.147924 \nL 327.21505 192.065794 \nL 328.259554 195.389994 \nL 328.955889 194.261412 \nL 329.071945 194.671762 \nL 330.232505 198.08829 \nL 330.580673 197.318129 \nL 332.089401 197.956508 \nL 332.205457 196.669426 \nL 333.017848 194.980921 \nL 333.133904 195.145592 \nL 334.526576 196.515824 \nL 335.106856 194.707598 \nL 335.455024 197.063463 \nL 336.035303 196.505466 \nL 336.151359 197.569737 \nL 336.383471 197.445759 \nL 336.731639 197.828039 \nL 337.892199 195.058643 \nL 338.588535 197.007311 \nL 338.820647 196.084791 \nL 339.168815 196.209152 \nL 339.284871 195.46281 \nL 339.981206 195.172635 \nL 340.097262 195.618378 \nL 340.793598 198.023084 \nL 341.141766 197.32736 \nL 341.60599 198.867237 \nL 342.070214 197.296181 \nL 345.087669 191.847346 \nL 345.203725 188.819637 \nL 345.900061 193.141954 \nL 346.016117 192.505064 \nL 346.944565 187.107452 \nL 347.292732 187.462349 \nL 347.408788 186.961265 \nL 347.6409 189.581766 \nL 347.756956 189.122368 \nL 348.22118 188.414272 \nL 348.337236 189.378039 \nL 348.453292 190.111237 \nL 348.569348 187.429522 \nL 348.917516 186.643836 \nL 349.149628 187.272411 \nL 349.265684 189.10566 \nL 350.078076 187.366642 \nL 350.5423 187.827572 \nL 350.658356 186.612363 \nL 351.702859 183.113033 \nL 351.818915 183.964097 \nL 352.283139 183.091996 \nL 352.399195 184.342397 \nL 353.095531 186.54905 \nL 353.327643 184.468534 \nL 354.023979 182.661252 \nL 353.791867 184.60514 \nL 354.140035 183.901084 \nL 354.720314 186.212781 \nL 355.068482 184.289842 \nL 355.648762 185.972297 \nL 355.880874 184.348947 \nL 356.229042 184.738915 \nL 356.345098 184.517537 \nL 357.969882 176.273927 \nL 358.31805 178.814496 \nL 358.201994 175.578165 \nL 358.666217 176.685099 \nL 358.782273 175.430679 \nL 359.130441 180.355527 \nL 359.594665 178.11406 \nL 359.826777 181.190793 \nL 360.639169 182.808448 \nL 360.407057 180.112346 \nL 360.755225 182.374995 \nL 361.219449 180.249773 \nL 362.031841 177.775692 \nL 361.567617 180.440177 \nL 362.380008 178.854107 \nL 362.960288 177.845866 \nL 363.1924 179.26791 \nL 363.540568 179.246783 \nL 364.004792 183.459938 \nL 364.817184 182.281919 \nL 365.165352 181.974115 \nL 366.209855 184.558046 \nL 366.325911 183.738223 \nL 366.441967 185.558838 \nL 366.790135 185.090448 \nL 367.602527 189.998344 \nL 367.834639 188.081955 \nL 369.343367 185.101017 \nL 370.503926 190.357172 \nL 370.852094 189.983257 \nL 371.084206 192.718127 \nL 371.780542 189.673377 \nL 372.592934 191.667255 \nL 372.825046 190.080696 \nL 372.941102 188.976504 \nL 373.521381 191.828018 \nL 373.637437 191.399228 \nL 374.101661 190.338021 \nL 374.333773 191.667255 \nL 374.565885 191.420677 \nL 375.262221 192.53556 \nL 375.726445 191.720843 \nL 375.842501 190.788249 \nL 375.958557 192.288992 \nL 376.538837 192.085288 \nL 377.699396 195.000604 \nL 377.815452 193.63439 \nL 378.627844 193.602151 \nL 379.90446 190.183564 \nL 380.020516 191.716014 \nL 380.716852 193.086624 \nL 380.832907 192.147735 \nL 381.645299 188.499865 \nL 381.877411 189.007111 \nL 383.154027 191.02528 \nL 383.502195 189.959144 \nL 383.850363 189.850792 \nL 383.966419 190.25175 \nL 384.314587 192.462711 \nL 384.894866 190.706918 \nL 385.010922 190.782831 \nL 385.591202 188.777862 \nL 385.823314 189.514812 \nL 387.215986 187.376678 \nL 387.448098 185.940013 \nL 388.376545 186.386111 \nL 390.581609 183.211594 \nL 391.161889 185.440028 \nL 391.510057 184.566128 \nL 392.322448 183.517411 \nL 392.090336 185.887935 \nL 392.438504 184.019927 \nL 393.13484 183.484672 \nL 393.250896 183.932557 \nL 394.063288 187.243036 \nL 394.759624 186.793586 \nL 395.45596 183.110735 \nL 395.688072 184.458975 \nL 396.152295 183.307989 \nL 396.848631 185.741371 \nL 399.75003 167.578526 \nL 400.214254 169.569074 \nL 400.33031 172.989282 \nL 401.142702 172.16444 \nL 402.187206 164.440699 \nL 402.535374 164.308401 \nL 402.883542 166.955701 \nL 403.347765 163.701662 \nL 403.579877 158.980485 \nL 403.695933 154.060788 \nL 404.392269 160.778509 \nL 404.624381 156.619919 \nL 404.972549 152.952799 \nL 405.320717 158.139358 \nL 407.061556 164.763646 \nL 407.409724 164.55347 \nL 408.338172 157.432782 \nL 407.757892 167.89328 \nL 408.454228 159.084796 \nL 409.26662 158.907348 \nL 409.498732 161.645947 \nL 410.891403 153.962394 \nL 411.123515 155.936013 \nL 411.471683 156.002489 \nL 411.819851 159.829229 \nL 412.516187 159.062271 \nL 412.748299 160.151543 \nL 413.908859 152.193391 \nL 414.373083 158.417632 \nL 414.953362 155.351255 \nL 415.185474 154.67108 \nL 415.88181 158.518002 \nL 416.46209 157.93814 \nL 417.274482 154.459238 \nL 417.390538 156.09833 \nL 418.202929 160.335586 \nL 418.435041 158.205868 \nL 418.899265 155.117077 \nL 419.131377 156.716514 \nL 419.943769 160.78507 \nL 420.059825 159.108498 \nL 420.640105 158.482498 \nL 420.872217 159.566719 \nL 421.336441 161.008635 \nL 421.568553 159.387938 \nL 422.032776 157.375975 \nL 422.380944 159.852331 \nL 422.497 158.63125 \nL 424.469952 166.529209 \nL 422.961224 158.09353 \nL 424.934176 163.045111 \nL 425.282344 163.69489 \nL 425.3984 162.787453 \nL 425.514456 162.966744 \nL 425.630511 162.0145 \nL 425.746567 164.176647 \nL 426.094735 163.480262 \nL 426.210791 165.670418 \nL 426.907127 160.088275 \nL 427.255295 160.72844 \nL 427.951631 158.526994 \nL 429.344302 158.100235 \nL 429.460358 158.783664 \nL 429.808526 156.858371 \nL 430.504862 156.430558 \nL 431.43331 150.035429 \nL 432.01359 150.924927 \nL 432.709926 151.363931 \nL 433.058093 142.796797 \nL 433.754429 148.573275 \nL 434.334709 149.261511 \nL 434.566821 148.054284 \nL 435.031045 146.497411 \nL 435.147101 148.370248 \nL 435.379213 146.914811 \nL 435.495269 148.821464 \nL 435.843437 146.768102 \nL 436.307661 148.618381 \nL 438.280612 143.147199 \nL 438.62878 144.594399 \nL 439.093004 141.993915 \nL 439.325116 140.444946 \nL 439.557228 144.605723 \nL 439.905396 143.520336 \nL 440.137508 143.959418 \nL 440.253564 143.132334 \nL 441.065955 148.162947 \nL 441.182011 147.449167 \nL 441.530179 147.687086 \nL 441.878347 152.76305 \nL 442.574683 148.910754 \nL 443.619187 145.160395 \nL 444.083411 145.305726 \nL 445.24397 155.54751 \nL 446.056362 151.857299 \nL 446.636642 147.894609 \nL 447.56509 150.213789 \nL 447.681146 152.022947 \nL 448.377481 149.166958 \nL 448.493537 148.814292 \nL 448.841705 149.132876 \nL 449.189873 153.206283 \nL 450.002265 152.352888 \nL 450.698601 149.508345 \nL 450.930713 150.759945 \nL 451.394937 151.294768 \nL 451.510993 148.780088 \nL 452.323384 145.673835 \nL 452.555496 146.083497 \nL 453.367888 148.541181 \nL 454.18028 147.881265 \nL 455.34084 147.385277 \nL 455.456896 148.468398 \nL 456.269287 152.481501 \nL 456.501399 152.002587 \nL 457.429847 148.979873 \nL 458.126183 155.115445 \nL 458.938575 154.144284 \nL 459.63491 152.396129 \nL 459.867022 152.716068 \nL 460.331246 152.453236 \nL 460.563358 153.138818 \nL 461.491806 157.564481 \nL 462.304198 155.7552 \nL 462.768422 156.190341 \nL 462.884478 157.278147 \nL 463.000533 156.075783 \nL 463.696869 156.728582 \nL 464.277149 153.224501 \nL 465.089541 154.14737 \nL 465.553765 158.18685 \nL 466.366157 157.027838 \nL 468.339108 153.714861 \nL 468.455164 154.266868 \nL 468.687276 151.414699 \nL 468.803332 148.620002 \nL 469.383612 151.966684 \nL 469.615724 149.643575 \nL 470.31206 148.309467 \nL 470.776283 148.505022 \nL 471.124451 149.252552 \nL 471.240507 147.964439 \nL 471.704731 148.4015 \nL 471.820787 146.94826 \nL 472.401067 150.843741 \nL 473.329515 155.534488 \nL 474.025851 155.119486 \nL 474.141907 154.059234 \nL 474.257962 156.076116 \nL 474.490074 155.257835 \nL 474.954298 158.669273 \nL 475.76669 158.491902 \nL 475.882746 156.678069 \nL 476.463026 159.76273 \nL 476.579082 158.214616 \nL 476.811194 158.064455 \nL 477.739642 164.638087 \nL 478.900201 162.024158 \nL 478.203865 165.238786 \nL 479.132313 162.487375 \nL 479.364425 166.829619 \nL 480.176817 165.139049 \nL 481.337377 163.240022 \nL 481.453433 163.772691 \nL 482.497936 167.565148 \nL 482.613992 166.218518 \nL 482.96216 167.17044 \nL 483.310328 165.55687 \nL 483.426384 165.359561 \nL 483.774552 166.206928 \nL 484.819056 171.314631 \nL 484.935112 170.10736 \nL 485.515391 166.671276 \nL 485.863559 166.83386 \nL 487.140175 170.710757 \nL 487.488343 169.34905 \nL 487.836511 170.152077 \nL 487.952567 169.16282 \nL 488.881015 165.275388 \nL 489.113126 165.845669 \nL 491.202134 167.878048 \nL 491.31819 166.349329 \nL 492.362694 163.501899 \nL 493.523253 165.503072 \nL 494.335645 169.329256 \nL 494.683813 167.574107 \nL 495.148037 166.591211 \nL 495.264093 167.527314 \nL 495.380149 169.610028 \nL 496.076485 167.480554 \nL 496.192541 167.69113 \nL 496.888876 168.160696 \nL 497.120988 169.66285 \nL 497.701268 167.937686 \nL 497.93338 169.334241 \nL 498.861828 167.526925 \nL 500.138444 169.94109 \nL 500.486611 169.576024 \nL 502.575619 165.584658 \nL 502.691675 165.890819 \nL 503.736179 162.382098 \nL 504.084346 160.828677 \nL 504.316458 163.378382 \nL 505.12885 164.842135 \nL 505.360962 164.063021 \nL 506.753634 162.481291 \nL 507.333914 160.858485 \nL 507.44997 162.799087 \nL 507.566026 162.526897 \nL 507.798137 164.574008 \nL 508.378417 163.189532 \nL 508.610529 161.46196 \nL 509.422921 161.805123 \nL 510.119257 159.722542 \nL 510.583481 160.775722 \nL 510.815593 162.614478 \nL 511.511928 160.123145 \nL 511.627984 160.763744 \nL 511.860096 158.509764 \nL 512.208264 158.85376 \nL 512.440376 157.869132 \nL 513.020656 159.423241 \nL 513.252768 158.23693 \nL 514.297272 155.836309 \nL 513.949104 158.616518 \nL 514.877552 156.585448 \nL 515.457831 158.119574 \nL 515.573887 156.977947 \nL 515.805999 154.468696 \nL 516.502335 156.371453 \nL 516.618391 156.561768 \nL 516.734447 155.848188 \nL 517.314727 153.398442 \nL 517.895007 155.192002 \nL 518.823455 157.505031 \nL 518.939511 157.266546 \nL 519.51979 155.823875 \nL 519.867958 157.57657 \nL 519.984014 156.575057 \nL 520.332182 156.992279 \nL 520.448238 155.645072 \nL 521.144574 154.524338 \nL 521.26063 155.657495 \nL 521.492742 157.570087 \nL 522.189078 154.999999 \nL 523.001469 154.247052 \nL 524.045973 151.605247 \nL 524.394141 151.796496 \nL 524.510197 151.29439 \nL 524.742309 153.625371 \nL 525.438645 152.40299 \nL 526.483148 148.795464 \nL 527.063428 150.856863 \nL 527.29554 149.298802 \nL 528.107932 147.189455 \nL 530.312995 154.371668 \nL 533.562563 142.316762 \nL 534.142842 143.545115 \nL 535.07129 146.338924 \nL 535.303402 145.893381 \nL 536.115794 146.954799 \nL 536.23185 145.31302 \nL 537.044242 145.626886 \nL 537.624522 146.508157 \nL 537.740577 145.759706 \nL 538.669025 142.005361 \nL 539.017193 142.86807 \nL 539.133249 144.295798 \nL 539.829585 141.573473 \nL 540.758033 135.487648 \nL 541.454368 137.375051 \nL 541.570424 140.399829 \nL 542.382816 137.488743 \nL 543.079152 133.075314 \nL 544.239712 126.297556 \nL 545.052104 128.710456 \nL 544.819992 126.236975 \nL 545.168159 126.4674 \nL 545.516327 126.964488 \nL 545.632383 126.709883 \nL 545.980551 122.211582 \nL 546.560831 126.100513 \nL 548.069559 136.475961 \nL 548.998006 131.652771 \nL 548.301671 136.585324 \nL 549.230118 132.503191 \nL 550.04251 139.536664 \nL 550.506734 136.152648 \nL 552.131518 128.435002 \nL 552.36363 132.293847 \nL 553.176021 130.402592 \nL 553.988413 131.988374 \nL 553.756301 129.963422 \nL 554.452637 131.537014 \nL 554.916861 129.52434 \nL 555.381085 131.659043 \nL 556.541644 138.301594 \nL 558.630652 145.036667 \nL 558.746708 144.792197 \nL 559.5591 139.841727 \nL 559.791212 139.878395 \nL 561.183883 148.36261 \nL 561.764163 145.153156 \nL 562.228387 144.001649 \nL 562.576555 146.97839 \nL 562.808667 146.610892 \nL 563.040779 148.717808 \nL 564.43345 142.195055 \nL 565.01373 147.842343 \nL 565.477954 144.122534 \nL 565.826122 144.736323 \nL 565.942178 143.950648 \nL 567.450906 137.861647 \nL 567.566961 139.067397 \nL 567.683017 140.199322 \nL 567.915129 136.889664 \nL 568.263297 138.784294 \nL 569.423857 134.822637 \nL 569.888081 134.404337 \nL 570.932585 140.700506 \nL 571.048641 139.97307 \nL 571.164697 138.604392 \nL 571.861032 141.132105 \nL 571.977088 140.194992 \nL 572.325256 139.960681 \nL 572.557368 143.388527 \nL 572.78948 139.319483 \nL 573.253704 139.714091 \nL 573.36976 139.726514 \nL 573.601872 140.010039 \nL 574.414264 135.967406 \nL 575.110599 139.179879 \nL 575.574823 137.635451 \nL 575.806935 136.04152 \nL 576.387215 137.165907 \nL 576.503271 138.104906 \nL 576.735383 136.338056 \nL 577.199607 136.634604 \nL 577.315663 136.251575 \nL 577.431719 136.869326 \nL 578.476223 142.516814 \nL 578.82439 143.346451 \nL 579.172558 142.516814 \nL 580.449174 140.263145 \nL 581.261566 139.482977 \nL 581.493678 137.401994 \nL 581.609734 141.546652 \nL 582.190014 138.717385 \nL 582.30607 138.878725 \nL 582.422126 138.680094 \nL 582.538181 136.297602 \nL 583.118461 139.499152 \nL 583.350573 136.955297 \nL 583.698741 136.992543 \nL 584.743245 140.601424 \nL 584.859301 139.929907 \nL 588.689148 129.130431 \nL 589.037316 129.504246 \nL 589.733652 123.274887 \nL 589.849708 126.040731 \nL 590.429987 128.76915 \nL 591.010267 126.738336 \nL 591.358435 125.816477 \nL 591.474491 127.398674 \nL 591.822659 126.688556 \nL 591.938715 129.561986 \nL 592.867163 128.613361 \nL 593.099275 130.89757 \nL 593.79561 129.112691 \nL 594.259834 130.01137 \nL 595.188282 126.26666 \nL 595.304338 127.989248 \nL 596.000674 124.526821 \nL 596.11673 125.727598 \nL 596.232786 123.701235 \nL 597.045178 126.315485 \nL 597.161234 124.914568 \nL 597.741513 127.941567 \nL 598.437849 130.705822 \nL 598.669961 128.454352 \nL 599.134185 129.670949 \nL 600.410801 124.081112 \nL 601.803472 127.728259 \nL 602.035584 127.126739 \nL 602.615864 126.076345 \nL 604.356704 118.490564 \nL 605.169095 123.80316 \nL 605.285151 119.344636 \nL 606.909935 109.191732 \nL 608.302607 115.885417 \nL 608.998942 115.08027 \nL 609.34711 111.758478 \nL 609.811334 115.504742 \nL 610.043446 114.093 \nL 610.159502 115.920665 \nL 610.739782 113.197985 \nL 610.971894 113.298855 \nL 611.436118 115.429084 \nL 611.784286 115.025683 \nL 612.944845 113.135005 \nL 612.596677 115.466963 \nL 613.060901 113.81567 \nL 613.873293 113.53331 \nL 613.409069 114.808724 \nL 613.989349 113.659569 \nL 614.917797 121.072253 \nL 615.033853 119.708382 \nL 615.382021 120.263997 \nL 615.498077 119.670448 \nL 616.54258 114.657197 \nL 616.658636 116.223052 \nL 617.12286 118.820217 \nL 618.28342 123.399803 \nL 618.631588 122.337175 \nL 619.095812 121.223891 \nL 619.560036 121.514932 \nL 619.908203 124.84203 \nL 620.604539 124.374983 \nL 620.720595 122.892003 \nL 621.184819 124.983354 \nL 622.345379 136.69503 \nL 623.621994 134.958543 \nL 624.782554 140.639513 \nL 625.246778 139.82675 \nL 625.362834 141.503155 \nL 625.943114 139.496476 \nL 626.175226 139.585445 \nL 626.871562 140.032331 \nL 627.916065 134.544052 \nL 628.380289 134.735078 \nL 628.612401 134.314825 \nL 628.844513 135.397203 \nL 629.308737 133.780003 \nL 629.424793 135.779244 \nL 630.237185 138.593435 \nL 630.005073 135.613685 \nL 630.469297 137.536513 \nL 630.933521 136.938034 \nL 631.281688 138.011253 \nL 631.861968 133.876565 \nL 632.558304 137.36033 \nL 632.67436 138.062243 \nL 632.906472 136.326755 \nL 633.370696 136.594749 \nL 633.718864 134.170059 \nL 634.183088 134.514632 \nL 635.227591 140.480604 \nL 635.343647 139.95634 \nL 635.691815 140.902456 \nL 635.807871 140.186422 \nL 636.968431 135.31505 \nL 638.128991 133.975614 \nL 637.664767 135.979895 \nL 638.361103 134.347208 \nL 638.593214 135.205688 \nL 638.941382 134.488133 \nL 639.86983 130.093266 \nL 640.101942 131.579578 \nL 640.566166 132.36119 \nL 641.378558 134.407557 \nL 641.61067 133.508801 \nL 642.539117 135.177978 \nL 642.655173 134.009518 \nL 643.003341 134.433268 \nL 643.119397 133.855439 \nL 643.467565 131.030701 \nL 644.163901 131.595642 \nL 645.556573 128.365272 \nL 645.904741 129.806311 \nL 646.368964 129.832045 \nL 647.413468 125.380071 \nL 647.529524 125.457317 \nL 647.877692 124.839699 \nL 647.993748 126.602474 \nL 649.154308 131.641692 \nL 649.850643 131.048608 \nL 650.779091 127.812332 \nL 651.359371 130.287901 \nL 651.475427 131.074386 \nL 652.055707 128.816887 \nL 652.171763 128.726464 \nL 652.868099 128.842732 \nL 653.216267 126.503947 \nL 653.68049 128.028648 \nL 654.028658 126.25839 \nL 656.349778 122.477267 \nL 656.465834 122.839847 \nL 657.974561 126.931516 \nL 658.090617 126.465347 \nL 658.438785 125.442474 \nL 658.554841 125.740209 \nL 659.715401 129.520921 \nL 660.992016 126.497908 \nL 661.224128 127.289356 \nL 662.03652 131.025961 \nL 662.152576 129.975023 \nL 663.429192 125.215767 \nL 663.661304 126.047902 \nL 663.77736 128.51832 \nL 664.35764 125.319867 \nL 664.589752 125.540879 \nL 665.053975 125.085778 \nL 665.170031 124.552732 \nL 665.750311 125.2418 \nL 665.866367 125.020811 \nL 666.098479 127.192061 \nL 666.678759 124.097831 \nL 666.794815 123.524564 \nL 667.375095 125.153143 \nL 667.491151 125.218276 \nL 667.839319 122.651674 \nL 668.303543 126.325688 \nL 668.419598 128.136623 \nL 669.115934 126.488971 \nL 669.464102 124.243296 \nL 670.160438 125.274739 \nL 670.856774 128.238502 \nL 671.088886 127.298459 \nL 671.55311 126.619526 \nL 671.669166 126.841493 \nL 672.481557 129.230713 \nL 672.713669 128.51268 \nL 675.731125 137.138674 \nL 675.84718 136.680742 \nL 676.659572 133.448419 \nL 676.775628 134.720035 \nL 677.58802 135.296844 \nL 680.373363 129.750836 \nL 680.721531 132.496596 \nL 681.417867 130.236922 \nL 682.462371 134.243885 \nL 682.810539 134.204419 \nL 683.042651 135.951774 \nL 683.62293 133.403124 \nL 683.738986 133.96661 \nL 684.087154 133.202917 \nL 684.667434 134.532761 \nL 684.899546 132.886942 \nL 685.479826 136.086404 \nL 685.595882 136.863231 \nL 686.060106 135.467576 \nL 686.176162 135.704585 \nL 686.988554 128.923785 \nL 687.336721 131.1101 \nL 687.917001 133.16889 \nL 688.729393 132.456175 \nL 689.425729 130.225887 \nL 689.773897 130.806581 \nL 690.238121 130.225887 \nL 691.39868 127.50999 \nL 692.791352 129.176559 \nL 692.907408 128.158104 \nL 693.371632 132.112979 \nL 693.487688 131.570696 \nL 694.416136 132.834098 \nL 694.648247 131.82659 \nL 695.344583 131.070956 \nL 696.273031 129.493411 \nL 697.085423 127.756846 \nL 697.433591 128.684789 \nL 698.710206 131.590069 \nL 699.058374 131.005489 \nL 699.17443 132.214537 \nL 699.406542 131.603391 \nL 700.799214 134.845306 \nL 701.031326 133.649514 \nL 701.49555 135.205244 \nL 701.611606 134.259761 \nL 702.307941 139.852551 \nL 702.656109 136.909714 \nL 703.932725 138.654094 \nL 704.396949 136.749928 \nL 704.861173 137.855175 \nL 705.209341 140.369421 \nL 705.905676 139.688635 \nL 707.182292 136.338245 \nL 708.11074 136.351556 \nL 708.226796 137.099041 \nL 708.807076 134.831318 \nL 709.619467 130.790772 \nL 709.851579 131.52659 \nL 709.967635 131.901193 \nL 710.431859 130.429513 \nL 711.244251 127.167915 \nL 711.708475 127.530028 \nL 712.288755 126.054841 \nL 712.404811 124.190629 \nL 713.101147 127.275212 \nL 714.14565 129.528303 \nL 715.654378 126.296202 \nL 715.770434 127.284149 \nL 716.118602 128.009986 \nL 716.350714 127.19004 \nL 716.582826 125.415741 \nL 717.395217 125.913095 \nL 717.859441 125.496395 \nL 717.975497 125.966816 \nL 719.020001 130.038724 \nL 720.296617 125.458982 \nL 720.992952 125.970835 \nL 721.109008 126.334503 \nL 721.34112 124.26017 \nL 722.153512 119.397536 \nL 722.269568 119.559198 \nL 722.849848 123.12577 \nL 723.546184 122.504766 \nL 723.66224 122.0998 \nL 723.894352 124.273248 \nL 724.358576 124.894219 \nL 724.590687 123.962746 \nL 725.054911 124.759245 \nL 725.170967 124.408233 \nL 726.099415 122.261695 \nL 726.215471 123.059826 \nL 727.724199 119.244988 \nL 727.956311 119.434382 \nL 728.420534 120.056674 \nL 728.53659 119.08266 \nL 729.929262 110.341208 \nL 730.161374 113.391265 \nL 730.973766 112.727031 \nL 732.482493 109.826114 \nL 732.598549 110.978398 \nL 733.294885 108.875357 \nL 733.410941 107.585045 \nL 733.643053 110.002652 \nL 734.107277 109.826069 \nL 734.339389 113.208076 \nL 735.151781 110.586754 \nL 735.964172 111.727571 \nL 736.080228 111.306486 \nL 736.544452 110.817591 \nL 738.401348 89.39409 \nL 738.981628 91.816537 \nL 739.21374 94.443077 \nL 739.329795 91.231325 \nL 739.677963 92.034285 \nL 739.910075 88.727258 \nL 740.722467 88.875998 \nL 741.766971 103.722603 \nL 742.115139 101.350414 \nL 744.204146 90.490734 \nL 746.989489 102.413463 \nL 747.105545 102.290568 \nL 747.337657 96.977961 \nL 748.033993 101.101426 \nL 748.266105 105.301436 \nL 748.962441 101.197189 \nL 749.078497 101.402369 \nL 749.426665 101.06035 \nL 750.355113 96.791876 \nL 750.471169 97.352731 \nL 751.051448 100.324532 \nL 751.167504 96.350341 \nL 752.095952 98.351147 \nL 752.908344 102.846272 \nL 753.140456 102.299893 \nL 753.488624 102.574348 \nL 753.836792 101.586146 \nL 753.952848 101.38021 \nL 754.301015 102.066581 \nL 754.417071 103.90598 \nL 754.765239 98.909516 \nL 755.229463 100.927285 \nL 755.345519 102.176332 \nL 756.041855 99.444771 \nL 756.390023 100.419362 \nL 757.550583 91.81294 \nL 758.014806 89.602957 \nL 758.595086 94.618705 \nL 761.960709 71.596766 \nL 762.424933 54.013149 \nL 762.889157 77.903304 \nL 764.049717 61.297209 \nL 763.469437 91.108274 \nL 764.165773 65.551984 \nL 764.281829 66.061483 \nL 764.397885 64.95991 \nL 765.326333 57.519628 \nL 765.6745 58.126444 \nL 766.602948 63.945508 \nL 767.41534 53.672351 \nL 767.763508 54.292911 \nL 769.15618 64.246141 \nL 770.084627 59.095974 \nL 769.736459 65.226439 \nL 770.200683 59.689757 \nL 770.548851 64.743184 \nL 771.477299 64.356624 \nL 771.825467 63.997664 \nL 772.405747 69.306429 \nL 772.637859 74.048455 \nL 773.218138 67.509205 \nL 773.334194 63.306364 \nL 773.914474 68.808786 \nL 774.262642 65.366275 \nL 774.61081 65.338699 \nL 774.726866 66.873258 \nL 775.075034 61.412378 \nL 776.235594 64.36948 \nL 776.583762 58.486937 \nL 777.396153 58.542245 \nL 777.512209 59.026766 \nL 778.092489 57.628713 \nL 779.020937 53.033428 \nL 779.136993 53.185743 \nL 779.601217 52.132618 \nL 780.529664 60.418891 \nL 780.761776 63.758379 \nL 781.458112 60.945442 \nL 781.574168 59.573656 \nL 782.154448 62.580493 \nL 782.38656 66.612857 \nL 782.96684 60.395577 \nL 783.082896 59.743511 \nL 783.198952 64.113365 \nL 784.359511 61.71341 \nL 784.707679 62.254438 \nL 784.823735 62.96188 \nL 785.404015 61.685745 \nL 785.636127 60.811667 \nL 786.100351 61.200114 \nL 787.028799 68.712024 \nL 787.260911 67.559295 \nL 787.841191 64.740364 \nL 788.42147 66.601179 \nL 788.769638 71.780876 \nL 789.349918 66.920551 \nL 789.465974 66.712306 \nL 789.698086 71.058869 \nL 790.394422 65.555203 \nL 790.510478 68.266004 \nL 790.974702 74.174148 \nL 791.671037 70.531896 \nL 792.135261 65.34667 \nL 792.947653 67.139919 \nL 793.295821 67.417971 \nL 793.760045 73.898561 \nL 794.340325 71.644193 \nL 794.572437 68.930682 \nL 795.268773 71.444452 \nL 795.384828 72.099116 \nL 795.849052 70.107125 \nL 796.081164 70.761878 \nL 797.35778 70.413619 \nL 798.286228 79.593663 \nL 798.634396 78.381785 \nL 800.027067 75.665255 \nL 799.330731 78.980741 \nL 800.143123 76.849424 \nL 801.071571 83.422268 \nL 801.535795 82.362326 \nL 801.651851 80.981658 \nL 801.883963 84.705352 \nL 804.669306 97.416343 \nL 804.901418 94.358438 \nL 805.13353 99.887815 \nL 805.481698 98.770834 \nL 805.829866 102.876002 \nL 806.29409 99.608587 \nL 806.526202 96.857819 \nL 807.106481 100.669816 \nL 807.222537 99.678372 \nL 807.338593 100.739601 \nL 807.454649 97.600609 \nL 807.918873 98.439516 \nL 809.079433 93.62957 \nL 808.150985 98.481436 \nL 809.195489 95.153694 \nL 809.543657 95.71295 \nL 809.775769 94.426602 \nL 809.891825 93.573684 \nL 810.472104 96.020577 \nL 811.516608 93.943925 \nL 810.704216 96.467996 \nL 811.632664 94.910168 \nL 812.212944 99.99317 \nL 813.141392 97.710715 \nL 813.721672 94.588042 \nL 814.069839 96.016359 \nL 814.766175 96.340327 \nL 815.578567 89.987873 \nL 815.694623 90.310443 \nL 816.274903 92.245594 \nL 816.390959 89.286782 \nL 816.507015 85.514529 \nL 817.319407 90.731129 \nL 818.828134 81.190147 \nL 819.292358 84.391531 \nL 819.408414 85.964168 \nL 819.640526 81.372659 \nL 819.756582 81.765812 \nL 820.10475 77.202412 \nL 820.336862 81.920303 \nL 820.568974 81.358604 \nL 820.917142 81.976411 \nL 821.961645 77.505532 \nL 822.077701 78.588009 \nL 822.890093 84.281647 \nL 823.006149 81.034191 \nL 824.166709 78.363134 \nL 824.282765 80.007933 \nL 824.398821 81.75118 \nL 824.979101 79.206549 \nL 825.211213 80.290092 \nL 825.327268 79.375138 \nL 825.443324 81.289463 \nL 825.907548 83.04903 \nL 826.023604 81.641407 \nL 826.71994 77.165133 \nL 827.068108 79.895961 \nL 827.648388 76.20797 \nL 827.764444 81.036079 \nL 828.344724 87.046668 \nL 828.692892 85.013268 \nL 829.157115 87.50792 \nL 829.273171 86.366359 \nL 829.853451 90.411357 \nL 830.085563 85.027389 \nL 830.201619 84.266282 \nL 830.317675 85.46435 \nL 830.665843 84.505922 \nL 831.014011 88.945561 \nL 831.594291 85.365612 \nL 832.75485 79.177906 \nL 833.103018 79.573059 \nL 833.219074 76.835325 \nL 833.567242 81.958004 \nL 834.031466 85.09089 \nL 834.379634 80.504465 \nL 834.843858 85.951712 \nL 834.959914 82.677702 \nL 836.004418 71.786538 \nL 836.584697 80.207629 \nL 837.513145 78.910468 \nL 837.629201 76.519949 \nL 838.325537 79.787476 \nL 838.789761 79.278243 \nL 838.905817 80.112821 \nL 840.066377 88.642397 \nL 840.5306 86.803498 \nL 840.646656 87.581457 \nL 840.762712 85.784988 \nL 841.342992 91.697705 \nL 841.459048 90.325608 \nL 841.69116 86.704493 \nL 842.27144 91.131898 \nL 842.503552 87.411757 \nL 843.780168 94.155611 \nL 843.896224 93.787258 \nL 844.592559 98.674183 \nL 844.824671 96.110367 \nL 845.404951 93.560629 \nL 845.521007 96.266124 \nL 845.753119 95.99702 \nL 846.217343 89.456837 \nL 846.333399 96.307622 \nL 846.913679 92.47804 \nL 848.654518 107.356651 \nL 849.002686 107.385016 \nL 849.815078 101.821057 \nL 850.279302 107.346993 \nL 851.904085 120.472764 \nL 852.136197 118.341946 \nL 853.412813 123.129878 \nL 852.716477 115.983845 \nL 853.528869 122.005747 \nL 853.644925 121.080813 \nL 853.760981 125.705428 \nL 853.877037 128.124455 \nL 854.457317 122.048455 \nL 854.689429 124.837423 \nL 855.037597 125.008188 \nL 855.153652 127.000335 \nL 855.50182 121.237357 \nL 855.849988 124.012137 \nL 856.0821 120.07054 \nL 856.778436 124.012137 \nL 857.126604 124.472556 \nL 858.40322 134.764564 \nL 858.751388 130.103191 \nL 859.215611 132.81165 \nL 859.331667 128.492408 \nL 859.911947 130.787453 \nL 860.376171 124.445002 \nL 860.840395 123.145231 \nL 861.188563 129.186983 \nL 861.884899 124.916333 \nL 862.813346 120.545713 \nL 862.465179 126.601742 \nL 863.161514 122.202557 \nL 863.509682 121.68835 \nL 863.393626 123.016685 \nL 863.625738 122.145405 \nL 863.973906 118.10597 \nL 864.43813 123.214306 \nL 864.786298 120.524209 \nL 865.01841 122.28422 \nL 866.062914 128.122313 \nL 866.643193 130.72656 \nL 866.759249 128.508661 \nL 866.875305 127.292375 \nL 867.455585 129.782154 \nL 868.151921 135.738712 \nL 868.500089 134.562869 \nL 869.776705 137.516763 \nL 869.892761 134.964371 \nL 870.47304 141.201968 \nL 870.589096 145.116587 \nL 870.705152 140.269884 \nL 871.401488 141.048276 \nL 872.910216 148.881835 \nL 873.026272 148.55125 \nL 873.142328 151.124113 \nL 873.722608 157.060366 \nL 874.070775 149.772998 \nL 875.347391 155.465469 \nL 875.463447 153.995755 \nL 875.579503 153.54908 \nL 876.391895 143.765428 \nL 876.624007 146.301411 \nL 877.088231 143.650159 \nL 878.24879 135.199393 \nL 878.596958 137.365881 \nL 878.713014 135.401599 \nL 878.82907 131.761911 \nL 879.061182 136.29708 \nL 879.757518 133.044441 \nL 881.498357 145.7273 \nL 883.703421 132.595623 \nL 883.935533 136.113814 \nL 884.283701 136.83772 \nL 885.44426 132.640984 \nL 886.372708 139.797065 \nL 886.720876 138.53423 \nL 888.693828 145.116776 \nL 889.970443 135.876794 \nL 890.086499 138.408703 \nL 890.434667 134.392581 \nL 890.898891 137.084543 \nL 891.247059 134.392581 \nL 891.247059 134.392581 \n\" clip-path=\"url(#p819f27ffea)\" style=\"fill: none; stroke: #ffee00; stroke-linecap: square\"/>\n   </g>\n   <g id=\"patch_3\">\n    <path d=\"M 900 239.0708 \nL 900 43.2308 \n\" style=\"fill: none; stroke: #ffffff; stroke-width: 0.3; stroke-linejoin: miter; stroke-linecap: square\"/>\n   </g>\n   <g id=\"patch_4\">\n    <path d=\"M 7.2 239.0708 \nL 900 239.0708 \n\" style=\"fill: none; stroke: #ffffff; stroke-width: 0.3; stroke-linejoin: miter; stroke-linecap: square\"/>\n   </g>\n   <g id=\"text_11\">\n    <!-- iShares 20 Plus Year Treasury Bond ETF -->\n    <g style=\"fill: #ffffff\" transform=\"translate(212.9004 23.2308) scale(0.2304 -0.2304)\">\n     <defs>\n      <path id=\"Consolas-69\" d=\"M 1569 2688 \nL 641 2688 \nL 641 3138 \nL 2119 3138 \nL 2119 453 \nL 3053 453 \nL 3053 0 \nL 538 0 \nL 538 453 \nL 1569 453 \nL 1569 2688 \nz\nM 1759 4453 \nQ 1850 4453 1928 4420 \nQ 2006 4388 2064 4328 \nQ 2122 4269 2155 4192 \nQ 2188 4116 2188 4025 \nQ 2188 3938 2155 3859 \nQ 2122 3781 2064 3722 \nQ 2006 3663 1928 3630 \nQ 1850 3597 1759 3597 \nQ 1669 3597 1591 3630 \nQ 1513 3663 1455 3722 \nQ 1397 3781 1364 3859 \nQ 1331 3938 1331 4025 \nQ 1331 4116 1364 4192 \nQ 1397 4269 1455 4328 \nQ 1513 4388 1591 4420 \nQ 1669 4453 1759 4453 \nz\n\" transform=\"scale(0.015625)\"/>\n      <path id=\"Consolas-53\" d=\"M 3116 1106 \nQ 3116 816 2997 597 \nQ 2878 378 2665 233 \nQ 2453 88 2154 16 \nQ 1856 -56 1497 -56 \nQ 1334 -56 1173 -43 \nQ 1013 -31 864 -12 \nQ 716 6 584 31 \nQ 453 56 347 84 \nL 347 622 \nQ 581 534 873 484 \nQ 1166 434 1538 434 \nQ 1806 434 1995 476 \nQ 2184 519 2304 601 \nQ 2425 684 2479 803 \nQ 2534 922 2534 1075 \nQ 2534 1241 2442 1358 \nQ 2350 1475 2200 1567 \nQ 2050 1659 1858 1736 \nQ 1666 1813 1466 1894 \nQ 1266 1975 1073 2070 \nQ 881 2166 731 2295 \nQ 581 2425 489 2600 \nQ 397 2775 397 3016 \nQ 397 3225 484 3428 \nQ 572 3631 756 3789 \nQ 941 3947 1230 4044 \nQ 1519 4141 1919 4141 \nQ 2022 4141 2142 4131 \nQ 2263 4122 2386 4105 \nQ 2509 4088 2629 4066 \nQ 2750 4044 2853 4019 \nL 2853 3519 \nQ 2613 3588 2372 3623 \nQ 2131 3659 1906 3659 \nQ 1428 3659 1203 3500 \nQ 978 3341 978 3072 \nQ 978 2906 1070 2787 \nQ 1163 2669 1313 2575 \nQ 1463 2481 1655 2404 \nQ 1847 2328 2047 2247 \nQ 2247 2166 2439 2069 \nQ 2631 1972 2781 1839 \nQ 2931 1706 3023 1528 \nQ 3116 1350 3116 1106 \nz\n\" transform=\"scale(0.015625)\"/>\n      <path id=\"Consolas-68\" d=\"M 3022 0 \nL 2478 0 \nL 2478 2003 \nQ 2478 2366 2342 2545 \nQ 2206 2725 1953 2725 \nQ 1844 2725 1748 2695 \nQ 1653 2666 1550 2592 \nQ 1447 2519 1325 2394 \nQ 1203 2269 1044 2081 \nL 1044 0 \nL 500 0 \nL 500 4416 \nL 1044 4416 \nL 1044 3138 \nL 1025 2644 \nQ 1153 2797 1276 2901 \nQ 1400 3006 1523 3072 \nQ 1647 3138 1775 3166 \nQ 1903 3194 2041 3194 \nQ 2509 3194 2765 2908 \nQ 3022 2622 3022 2047 \nL 3022 0 \nz\n\" transform=\"scale(0.015625)\"/>\n      <path id=\"Consolas-61\" d=\"M 2516 0 \nL 2503 422 \nQ 2247 169 1983 56 \nQ 1719 -56 1428 -56 \nQ 1159 -56 968 12 \nQ 778 81 654 201 \nQ 531 322 473 484 \nQ 416 647 416 838 \nQ 416 1309 767 1576 \nQ 1119 1844 1806 1844 \nL 2456 1844 \nL 2456 2119 \nQ 2456 2397 2278 2564 \nQ 2100 2731 1734 2731 \nQ 1469 2731 1211 2672 \nQ 953 2613 678 2503 \nL 678 2994 \nQ 781 3031 907 3067 \nQ 1034 3103 1175 3131 \nQ 1316 3159 1469 3176 \nQ 1622 3194 1778 3194 \nQ 2063 3194 2291 3131 \nQ 2519 3069 2676 2941 \nQ 2834 2813 2918 2619 \nQ 3003 2425 3003 2163 \nL 3003 0 \nL 2516 0 \nz\nM 2456 1428 \nL 1766 1428 \nQ 1563 1428 1416 1387 \nQ 1269 1347 1175 1272 \nQ 1081 1197 1036 1092 \nQ 991 988 991 856 \nQ 991 766 1019 683 \nQ 1047 600 1109 536 \nQ 1172 472 1272 434 \nQ 1372 397 1516 397 \nQ 1703 397 1945 511 \nQ 2188 625 2456 872 \nL 2456 1428 \nz\n\" transform=\"scale(0.015625)\"/>\n      <path id=\"Consolas-72\" d=\"M 628 3138 \nL 1125 3138 \nL 1141 2559 \nQ 1419 2894 1689 3044 \nQ 1959 3194 2234 3194 \nQ 2722 3194 2973 2878 \nQ 3225 2563 3206 1941 \nL 2656 1941 \nQ 2666 2353 2536 2539 \nQ 2406 2725 2156 2725 \nQ 2047 2725 1936 2686 \nQ 1825 2647 1708 2561 \nQ 1591 2475 1459 2340 \nQ 1328 2206 1178 2016 \nL 1178 0 \nL 628 0 \nL 628 3138 \nz\n\" transform=\"scale(0.015625)\"/>\n      <path id=\"Consolas-65\" d=\"M 3150 1734 \nQ 3150 1619 3147 1541 \nQ 3144 1463 3138 1394 \nL 934 1394 \nQ 934 913 1203 655 \nQ 1472 397 1978 397 \nQ 2116 397 2253 408 \nQ 2391 419 2519 437 \nQ 2647 456 2764 479 \nQ 2881 503 2981 531 \nL 2981 84 \nQ 2759 22 2479 -17 \nQ 2200 -56 1900 -56 \nQ 1497 -56 1206 53 \nQ 916 163 730 370 \nQ 544 578 455 879 \nQ 366 1181 366 1563 \nQ 366 1894 461 2189 \nQ 556 2484 739 2707 \nQ 922 2931 1187 3062 \nQ 1453 3194 1791 3194 \nQ 2119 3194 2372 3091 \nQ 2625 2988 2798 2798 \nQ 2972 2609 3061 2339 \nQ 3150 2069 3150 1734 \nz\nM 2584 1813 \nQ 2594 2022 2544 2195 \nQ 2494 2369 2389 2494 \nQ 2284 2619 2128 2689 \nQ 1972 2759 1766 2759 \nQ 1588 2759 1441 2690 \nQ 1294 2622 1187 2497 \nQ 1081 2372 1015 2197 \nQ 950 2022 934 1813 \nL 2584 1813 \nz\n\" transform=\"scale(0.015625)\"/>\n      <path id=\"Consolas-73\" d=\"M 2984 856 \nQ 2984 691 2928 559 \nQ 2872 428 2775 326 \nQ 2678 225 2550 153 \nQ 2422 81 2276 34 \nQ 2131 -13 1978 -34 \nQ 1825 -56 1678 -56 \nQ 1359 -56 1092 -28 \nQ 825 0 569 63 \nL 569 563 \nQ 844 484 1116 443 \nQ 1388 403 1656 403 \nQ 2047 403 2234 509 \nQ 2422 616 2422 813 \nQ 2422 897 2392 964 \nQ 2363 1031 2284 1092 \nQ 2206 1153 2042 1218 \nQ 1878 1284 1594 1369 \nQ 1381 1431 1201 1511 \nQ 1022 1591 890 1700 \nQ 759 1809 684 1956 \nQ 609 2103 609 2303 \nQ 609 2434 670 2590 \nQ 731 2747 878 2881 \nQ 1025 3016 1275 3105 \nQ 1525 3194 1900 3194 \nQ 2084 3194 2309 3173 \nQ 2534 3153 2778 3103 \nL 2778 2619 \nQ 2522 2681 2292 2711 \nQ 2063 2741 1894 2741 \nQ 1691 2741 1552 2709 \nQ 1413 2678 1327 2623 \nQ 1241 2569 1203 2495 \nQ 1166 2422 1166 2338 \nQ 1166 2253 1198 2184 \nQ 1231 2116 1320 2052 \nQ 1409 1988 1568 1923 \nQ 1728 1859 1984 1784 \nQ 2263 1703 2453 1614 \nQ 2644 1525 2762 1415 \nQ 2881 1306 2932 1168 \nQ 2984 1031 2984 856 \nz\n\" transform=\"scale(0.015625)\"/>\n      <path id=\"Consolas-20\" transform=\"scale(0.015625)\"/>\n      <path id=\"Consolas-50\" d=\"M 3175 2834 \nQ 3175 2584 3081 2339 \nQ 2988 2094 2791 1900 \nQ 2594 1706 2287 1586 \nQ 1981 1466 1556 1466 \nL 1050 1466 \nL 1050 0 \nL 494 0 \nL 494 4084 \nL 1644 4084 \nQ 1947 4084 2225 4017 \nQ 2503 3950 2714 3800 \nQ 2925 3650 3050 3412 \nQ 3175 3175 3175 2834 \nz\nM 2597 2809 \nQ 2597 3203 2339 3412 \nQ 2081 3622 1619 3622 \nL 1050 3622 \nL 1050 1941 \nL 1569 1941 \nQ 2063 1941 2330 2156 \nQ 2597 2372 2597 2809 \nz\n\" transform=\"scale(0.015625)\"/>\n      <path id=\"Consolas-6c\" d=\"M 1569 3969 \nL 641 3969 \nL 641 4416 \nL 2119 4416 \nL 2119 453 \nL 3053 453 \nL 3053 0 \nL 538 0 \nL 538 453 \nL 1569 453 \nL 1569 3969 \nz\n\" transform=\"scale(0.015625)\"/>\n      <path id=\"Consolas-75\" d=\"M 3022 0 \nL 2534 0 \nL 2516 506 \nQ 2375 344 2248 236 \nQ 2122 128 1997 62 \nQ 1872 -3 1745 -29 \nQ 1619 -56 1478 -56 \nQ 994 -56 747 228 \nQ 500 513 500 1088 \nL 500 3138 \nL 1044 3138 \nL 1044 1131 \nQ 1044 409 1588 409 \nQ 1688 409 1783 439 \nQ 1878 469 1983 542 \nQ 2088 616 2208 741 \nQ 2328 866 2478 1056 \nL 2478 3138 \nL 3022 3138 \nL 3022 0 \nz\n\" transform=\"scale(0.015625)\"/>\n      <path id=\"Consolas-59\" d=\"M 3519 4084 \nL 2041 1459 \nL 2041 0 \nL 1478 0 \nL 1478 1472 \nL 0 4084 \nL 672 4084 \nL 1484 2591 \nL 1784 1991 \nL 2059 2534 \nL 2881 4084 \nL 3519 4084 \nz\n\" transform=\"scale(0.015625)\"/>\n      <path id=\"Consolas-54\" d=\"M 3250 3609 \nL 2041 3609 \nL 2041 0 \nL 1478 0 \nL 1478 3609 \nL 269 3609 \nL 269 4084 \nL 3250 4084 \nL 3250 3609 \nz\n\" transform=\"scale(0.015625)\"/>\n      <path id=\"Consolas-79\" d=\"M 3291 3138 \nL 2222 331 \nQ 2056 -97 1879 -406 \nQ 1703 -716 1493 -914 \nQ 1284 -1113 1034 -1206 \nQ 784 -1300 475 -1300 \nQ 394 -1300 328 -1297 \nQ 263 -1294 184 -1288 \nL 184 -794 \nQ 253 -803 334 -811 \nQ 416 -819 506 -819 \nQ 656 -819 786 -775 \nQ 916 -731 1031 -632 \nQ 1147 -534 1253 -378 \nQ 1359 -222 1459 0 \nL 206 3138 \nL 825 3138 \nL 1619 1063 \nL 1778 575 \nL 1959 1075 \nL 2694 3138 \nL 3291 3138 \nz\n\" transform=\"scale(0.015625)\"/>\n      <path id=\"Consolas-42\" d=\"M 3175 1222 \nQ 3175 928 3061 701 \nQ 2947 475 2736 319 \nQ 2525 163 2226 81 \nQ 1928 0 1563 0 \nL 494 0 \nL 494 4084 \nL 1663 4084 \nQ 3028 4084 3028 3091 \nQ 3028 2759 2870 2521 \nQ 2713 2284 2356 2169 \nQ 2522 2138 2670 2063 \nQ 2819 1988 2931 1869 \nQ 3044 1750 3109 1587 \nQ 3175 1425 3175 1222 \nz\nM 2450 3016 \nQ 2450 3141 2412 3252 \nQ 2375 3363 2281 3442 \nQ 2188 3522 2028 3569 \nQ 1869 3616 1625 3616 \nL 1050 3616 \nL 1050 2338 \nL 1606 2338 \nQ 1797 2338 1951 2378 \nQ 2106 2419 2217 2503 \nQ 2328 2588 2389 2714 \nQ 2450 2841 2450 3016 \nz\nM 2584 1203 \nQ 2584 1359 2518 1484 \nQ 2453 1609 2328 1695 \nQ 2203 1781 2023 1828 \nQ 1844 1875 1619 1875 \nL 1050 1875 \nL 1050 469 \nL 1638 469 \nQ 2116 469 2350 647 \nQ 2584 825 2584 1203 \nz\n\" transform=\"scale(0.015625)\"/>\n      <path id=\"Consolas-6f\" d=\"M 3231 1594 \nQ 3231 1228 3128 923 \nQ 3025 619 2831 401 \nQ 2638 184 2359 64 \nQ 2081 -56 1728 -56 \nQ 1391 -56 1123 48 \nQ 856 153 670 356 \nQ 484 559 386 859 \nQ 288 1159 288 1550 \nQ 288 1916 391 2217 \nQ 494 2519 687 2736 \nQ 881 2953 1159 3073 \nQ 1438 3194 1791 3194 \nQ 2128 3194 2395 3089 \nQ 2663 2984 2848 2782 \nQ 3034 2581 3132 2281 \nQ 3231 1981 3231 1594 \nz\nM 2675 1569 \nQ 2675 1859 2611 2076 \nQ 2547 2294 2428 2439 \nQ 2309 2584 2139 2657 \nQ 1969 2731 1759 2731 \nQ 1516 2731 1342 2636 \nQ 1169 2541 1058 2381 \nQ 947 2222 895 2011 \nQ 844 1800 844 1569 \nQ 844 1278 908 1059 \nQ 972 841 1090 695 \nQ 1209 550 1378 476 \nQ 1547 403 1759 403 \nQ 2003 403 2176 498 \nQ 2350 594 2461 753 \nQ 2572 913 2623 1123 \nQ 2675 1334 2675 1569 \nz\n\" transform=\"scale(0.015625)\"/>\n      <path id=\"Consolas-6e\" d=\"M 500 3138 \nL 984 3138 \nL 1006 2631 \nQ 1144 2794 1272 2901 \nQ 1400 3009 1523 3075 \nQ 1647 3141 1775 3167 \nQ 1903 3194 2041 3194 \nQ 2525 3194 2773 2908 \nQ 3022 2622 3022 2047 \nL 3022 0 \nL 2478 0 \nL 2478 2003 \nQ 2478 2372 2340 2548 \nQ 2203 2725 1931 2725 \nQ 1831 2725 1736 2695 \nQ 1641 2666 1537 2592 \nQ 1434 2519 1314 2394 \nQ 1194 2269 1044 2081 \nL 1044 0 \nL 500 0 \nL 500 3138 \nz\n\" transform=\"scale(0.015625)\"/>\n      <path id=\"Consolas-64\" d=\"M 341 1503 \nQ 341 1903 450 2214 \nQ 559 2525 761 2739 \nQ 963 2953 1245 3064 \nQ 1528 3175 1875 3175 \nQ 2025 3175 2170 3156 \nQ 2316 3138 2456 3097 \nL 2456 4416 \nL 3003 4416 \nL 3003 0 \nL 2516 0 \nL 2497 594 \nQ 2269 263 2003 103 \nQ 1738 -56 1428 -56 \nQ 1159 -56 954 56 \nQ 750 169 614 373 \nQ 478 578 409 865 \nQ 341 1153 341 1503 \nz\nM 897 1538 \nQ 897 969 1064 689 \nQ 1231 409 1538 409 \nQ 1744 409 1973 593 \nQ 2203 778 2456 1141 \nL 2456 2597 \nQ 2322 2659 2159 2692 \nQ 1997 2725 1838 2725 \nQ 1394 2725 1145 2437 \nQ 897 2150 897 1538 \nz\n\" transform=\"scale(0.015625)\"/>\n      <path id=\"Consolas-45\" d=\"M 2950 0 \nL 628 0 \nL 628 4084 \nL 2950 4084 \nL 2950 3616 \nL 1184 3616 \nL 1184 2350 \nL 2881 2350 \nL 2881 1881 \nL 1184 1881 \nL 1184 475 \nL 2950 475 \nL 2950 0 \nz\n\" transform=\"scale(0.015625)\"/>\n      <path id=\"Consolas-46\" d=\"M 2944 3609 \nL 1209 3609 \nL 1209 2284 \nL 2853 2284 \nL 2853 1819 \nL 1209 1819 \nL 1209 0 \nL 641 0 \nL 641 4084 \nL 2944 4084 \nL 2944 3609 \nz\n\" transform=\"scale(0.015625)\"/>\n     </defs>\n     <use xlink:href=\"#Consolas-69\"/>\n     <use xlink:href=\"#Consolas-53\" x=\"54.980469\"/>\n     <use xlink:href=\"#Consolas-68\" x=\"109.960938\"/>\n     <use xlink:href=\"#Consolas-61\" x=\"164.941406\"/>\n     <use xlink:href=\"#Consolas-72\" x=\"219.921875\"/>\n     <use xlink:href=\"#Consolas-65\" x=\"274.902344\"/>\n     <use xlink:href=\"#Consolas-73\" x=\"329.882812\"/>\n     <use xlink:href=\"#Consolas-20\" x=\"384.863281\"/>\n     <use xlink:href=\"#Consolas-32\" x=\"439.84375\"/>\n     <use xlink:href=\"#Consolas-30\" x=\"494.824219\"/>\n     <use xlink:href=\"#Consolas-20\" x=\"549.804688\"/>\n     <use xlink:href=\"#Consolas-50\" x=\"604.785156\"/>\n     <use xlink:href=\"#Consolas-6c\" x=\"659.765625\"/>\n     <use xlink:href=\"#Consolas-75\" x=\"714.746094\"/>\n     <use xlink:href=\"#Consolas-73\" x=\"769.726562\"/>\n     <use xlink:href=\"#Consolas-20\" x=\"824.707031\"/>\n     <use xlink:href=\"#Consolas-59\" x=\"879.6875\"/>\n     <use xlink:href=\"#Consolas-65\" x=\"934.667969\"/>\n     <use xlink:href=\"#Consolas-61\" x=\"989.648438\"/>\n     <use xlink:href=\"#Consolas-72\" x=\"1044.628906\"/>\n     <use xlink:href=\"#Consolas-20\" x=\"1099.609375\"/>\n     <use xlink:href=\"#Consolas-54\" x=\"1154.589844\"/>\n     <use xlink:href=\"#Consolas-72\" x=\"1209.570312\"/>\n     <use xlink:href=\"#Consolas-65\" x=\"1264.550781\"/>\n     <use xlink:href=\"#Consolas-61\" x=\"1319.53125\"/>\n     <use xlink:href=\"#Consolas-73\" x=\"1374.511719\"/>\n     <use xlink:href=\"#Consolas-75\" x=\"1429.492188\"/>\n     <use xlink:href=\"#Consolas-72\" x=\"1484.472656\"/>\n     <use xlink:href=\"#Consolas-79\" x=\"1539.453125\"/>\n     <use xlink:href=\"#Consolas-20\" x=\"1594.433594\"/>\n     <use xlink:href=\"#Consolas-42\" x=\"1649.414062\"/>\n     <use xlink:href=\"#Consolas-6f\" x=\"1704.394531\"/>\n     <use xlink:href=\"#Consolas-6e\" x=\"1759.375\"/>\n     <use xlink:href=\"#Consolas-64\" x=\"1814.355469\"/>\n     <use xlink:href=\"#Consolas-20\" x=\"1869.335938\"/>\n     <use xlink:href=\"#Consolas-45\" x=\"1924.316406\"/>\n     <use xlink:href=\"#Consolas-54\" x=\"1979.296875\"/>\n     <use xlink:href=\"#Consolas-46\" x=\"2034.277344\"/>\n    </g>\n   </g>\n  </g>\n </g>\n <defs>\n  <clipPath id=\"p819f27ffea\">\n   <rect x=\"7.2\" y=\"43.2308\" width=\"892.8\" height=\"195.84\"/>\n  </clipPath>\n </defs>\n</svg>\n",
      "text/plain": [
       "<Figure size 1600x400 with 1 Axes>"
      ]
     },
     "metadata": {},
     "output_type": "display_data"
    }
   ],
   "source": [
    "# Visualize the data, if desired.\n",
    "\n",
    "data['Adj Close'].plot(figsize = [16, 4], title = 'iShares 20 Plus Year Treasury Bond ETF', xlabel = '');"
   ]
  },
  {
   "cell_type": "code",
   "execution_count": 34,
   "metadata": {},
   "outputs": [
    {
     "data": {
      "text/html": [
       "<div>\n",
       "<style scoped>\n",
       "    .dataframe tbody tr th:only-of-type {\n",
       "        vertical-align: middle;\n",
       "    }\n",
       "\n",
       "    .dataframe tbody tr th {\n",
       "        vertical-align: top;\n",
       "    }\n",
       "\n",
       "    .dataframe thead th {\n",
       "        text-align: right;\n",
       "    }\n",
       "</style>\n",
       "<table border=\"1\" class=\"dataframe\">\n",
       "  <thead>\n",
       "    <tr style=\"text-align: right;\">\n",
       "      <th></th>\n",
       "      <th>Standard Deviation</th>\n",
       "      <th>Parkinson</th>\n",
       "      <th>Hodges-Tompkins</th>\n",
       "      <th>Garman-Klass</th>\n",
       "      <th>Rogers-Satchell</th>\n",
       "      <th>Yang-Zhang</th>\n",
       "    </tr>\n",
       "    <tr>\n",
       "      <th>date</th>\n",
       "      <th></th>\n",
       "      <th></th>\n",
       "      <th></th>\n",
       "      <th></th>\n",
       "      <th></th>\n",
       "      <th></th>\n",
       "    </tr>\n",
       "  </thead>\n",
       "  <tbody>\n",
       "    <tr>\n",
       "      <th>2002-08-01</th>\n",
       "      <td>0.074450</td>\n",
       "      <td>0.083403</td>\n",
       "      <td>0.074479</td>\n",
       "      <td>0.075624</td>\n",
       "      <td>0.070795</td>\n",
       "      <td>0.140866</td>\n",
       "    </tr>\n",
       "    <tr>\n",
       "      <th>2002-08-02</th>\n",
       "      <td>0.050610</td>\n",
       "      <td>0.105981</td>\n",
       "      <td>0.050630</td>\n",
       "      <td>0.103655</td>\n",
       "      <td>0.096629</td>\n",
       "      <td>0.144345</td>\n",
       "    </tr>\n",
       "    <tr>\n",
       "      <th>2002-08-05</th>\n",
       "      <td>0.064949</td>\n",
       "      <td>0.109263</td>\n",
       "      <td>0.064974</td>\n",
       "      <td>0.114035</td>\n",
       "      <td>0.109442</td>\n",
       "      <td>0.163508</td>\n",
       "    </tr>\n",
       "    <tr>\n",
       "      <th>2002-08-06</th>\n",
       "      <td>0.145792</td>\n",
       "      <td>0.072415</td>\n",
       "      <td>0.145848</td>\n",
       "      <td>0.078072</td>\n",
       "      <td>0.079528</td>\n",
       "      <td>0.138409</td>\n",
       "    </tr>\n",
       "    <tr>\n",
       "      <th>2002-08-07</th>\n",
       "      <td>0.123239</td>\n",
       "      <td>0.083376</td>\n",
       "      <td>0.123286</td>\n",
       "      <td>0.092822</td>\n",
       "      <td>0.096105</td>\n",
       "      <td>0.152727</td>\n",
       "    </tr>\n",
       "    <tr>\n",
       "      <th>...</th>\n",
       "      <td>...</td>\n",
       "      <td>...</td>\n",
       "      <td>...</td>\n",
       "      <td>...</td>\n",
       "      <td>...</td>\n",
       "      <td>...</td>\n",
       "    </tr>\n",
       "    <tr>\n",
       "      <th>2023-03-20</th>\n",
       "      <td>0.266411</td>\n",
       "      <td>0.112118</td>\n",
       "      <td>0.266514</td>\n",
       "      <td>0.114933</td>\n",
       "      <td>0.120969</td>\n",
       "      <td>0.275068</td>\n",
       "    </tr>\n",
       "    <tr>\n",
       "      <th>2023-03-21</th>\n",
       "      <td>0.002322</td>\n",
       "      <td>0.096812</td>\n",
       "      <td>0.002323</td>\n",
       "      <td>0.094442</td>\n",
       "      <td>0.088736</td>\n",
       "      <td>0.182058</td>\n",
       "    </tr>\n",
       "    <tr>\n",
       "      <th>2023-03-22</th>\n",
       "      <td>0.245542</td>\n",
       "      <td>0.140382</td>\n",
       "      <td>0.245636</td>\n",
       "      <td>0.118570</td>\n",
       "      <td>0.102022</td>\n",
       "      <td>0.205839</td>\n",
       "    </tr>\n",
       "    <tr>\n",
       "      <th>2023-03-23</th>\n",
       "      <td>0.148677</td>\n",
       "      <td>0.169386</td>\n",
       "      <td>0.148735</td>\n",
       "      <td>0.147805</td>\n",
       "      <td>0.132716</td>\n",
       "      <td>0.250789</td>\n",
       "    </tr>\n",
       "    <tr>\n",
       "      <th>2023-03-24</th>\n",
       "      <td>0.047374</td>\n",
       "      <td>0.132768</td>\n",
       "      <td>0.047392</td>\n",
       "      <td>0.139627</td>\n",
       "      <td>0.138819</td>\n",
       "      <td>0.265925</td>\n",
       "    </tr>\n",
       "  </tbody>\n",
       "</table>\n",
       "<p>5198 rows × 6 columns</p>\n",
       "</div>"
      ],
      "text/plain": [
       "            Standard Deviation  Parkinson  Hodges-Tompkins  Garman-Klass  \\\n",
       "date                                                                       \n",
       "2002-08-01            0.074450   0.083403         0.074479      0.075624   \n",
       "2002-08-02            0.050610   0.105981         0.050630      0.103655   \n",
       "2002-08-05            0.064949   0.109263         0.064974      0.114035   \n",
       "2002-08-06            0.145792   0.072415         0.145848      0.078072   \n",
       "2002-08-07            0.123239   0.083376         0.123286      0.092822   \n",
       "...                        ...        ...              ...           ...   \n",
       "2023-03-20            0.266411   0.112118         0.266514      0.114933   \n",
       "2023-03-21            0.002322   0.096812         0.002323      0.094442   \n",
       "2023-03-22            0.245542   0.140382         0.245636      0.118570   \n",
       "2023-03-23            0.148677   0.169386         0.148735      0.147805   \n",
       "2023-03-24            0.047374   0.132768         0.047392      0.139627   \n",
       "\n",
       "            Rogers-Satchell  Yang-Zhang  \n",
       "date                                     \n",
       "2002-08-01         0.070795    0.140866  \n",
       "2002-08-02         0.096629    0.144345  \n",
       "2002-08-05         0.109442    0.163508  \n",
       "2002-08-06         0.079528    0.138409  \n",
       "2002-08-07         0.096105    0.152727  \n",
       "...                     ...         ...  \n",
       "2023-03-20         0.120969    0.275068  \n",
       "2023-03-21         0.088736    0.182058  \n",
       "2023-03-22         0.102022    0.205839  \n",
       "2023-03-23         0.132716    0.250789  \n",
       "2023-03-24         0.138819    0.265925  \n",
       "\n",
       "[5198 rows x 6 columns]"
      ]
     },
     "execution_count": 34,
     "metadata": {},
     "output_type": "execute_result"
    }
   ],
   "source": [
    "# Create a Pandas DataFrame and then assign columns to each model.\n",
    "\n",
    "results = pd.DataFrame()\n",
    "\n",
    "results['Standard Deviation'] = openbb.ta.rvol_std(data, window = 2)\n",
    "results['Parkinson'] = openbb.ta.rvol_parkinson(data, window = 2)\n",
    "results['Hodges-Tompkins'] = openbb.ta.rvol_hodges_tompkins(data, window = 2)\n",
    "results['Garman-Klass'] = openbb.ta.rvol_garman_klass(data, window = 2)\n",
    "results['Rogers-Satchell'] = openbb.ta.rvol_rogers_satchell(data, window = 2)\n",
    "results['Yang-Zhang'] = openbb.ta.rvol_yang_zhang(data, window = 2)\n",
    "\n",
    "results"
   ]
  },
  {
   "attachments": {},
   "cell_type": "markdown",
   "metadata": {},
   "source": [
    "The \"problem\" has been solved; achieving a sense of accomplishment is important for maintaining the motivation required to keep driving forward. Breaking large workflows down to a series of smaller items will make them easier to manage, make the undertaking seem less overwhelming, and provide the satisfaction associated with completing a task or chore.\n",
    "\n",
    "With the question answered, what is the next task? \n",
    "\n",
    "### How do I parametize this table so that it can be called as a one-liner function, sporting a variable ticker input?\n",
    "\n",
    "The first step is to wrap the DataFrame above in a function, with the input parameters of the function corresponding to those belonging to the individual model one-liners."
   ]
  },
  {
   "cell_type": "code",
   "execution_count": 35,
   "metadata": {},
   "outputs": [
    {
     "data": {
      "text/html": [
       "<div>\n",
       "<style scoped>\n",
       "    .dataframe tbody tr th:only-of-type {\n",
       "        vertical-align: middle;\n",
       "    }\n",
       "\n",
       "    .dataframe tbody tr th {\n",
       "        vertical-align: top;\n",
       "    }\n",
       "\n",
       "    .dataframe thead th {\n",
       "        text-align: right;\n",
       "    }\n",
       "</style>\n",
       "<table border=\"1\" class=\"dataframe\">\n",
       "  <thead>\n",
       "    <tr style=\"text-align: right;\">\n",
       "      <th></th>\n",
       "      <th>Standard Deviation</th>\n",
       "      <th>Parkinson</th>\n",
       "      <th>Hodges-Tompkins</th>\n",
       "      <th>Garman-Klass</th>\n",
       "      <th>Rogers-Satchell</th>\n",
       "      <th>Yang-Zhang</th>\n",
       "    </tr>\n",
       "    <tr>\n",
       "      <th>date</th>\n",
       "      <th></th>\n",
       "      <th></th>\n",
       "      <th></th>\n",
       "      <th></th>\n",
       "      <th></th>\n",
       "      <th></th>\n",
       "    </tr>\n",
       "  </thead>\n",
       "  <tbody>\n",
       "    <tr>\n",
       "      <th>2002-08-01</th>\n",
       "      <td>0.074450</td>\n",
       "      <td>0.083403</td>\n",
       "      <td>0.074479</td>\n",
       "      <td>0.075624</td>\n",
       "      <td>0.070795</td>\n",
       "      <td>0.140866</td>\n",
       "    </tr>\n",
       "    <tr>\n",
       "      <th>2002-08-02</th>\n",
       "      <td>0.050610</td>\n",
       "      <td>0.105981</td>\n",
       "      <td>0.050630</td>\n",
       "      <td>0.103655</td>\n",
       "      <td>0.096629</td>\n",
       "      <td>0.144345</td>\n",
       "    </tr>\n",
       "    <tr>\n",
       "      <th>2002-08-05</th>\n",
       "      <td>0.064949</td>\n",
       "      <td>0.109263</td>\n",
       "      <td>0.064974</td>\n",
       "      <td>0.114035</td>\n",
       "      <td>0.109442</td>\n",
       "      <td>0.163508</td>\n",
       "    </tr>\n",
       "    <tr>\n",
       "      <th>2002-08-06</th>\n",
       "      <td>0.145792</td>\n",
       "      <td>0.072415</td>\n",
       "      <td>0.145848</td>\n",
       "      <td>0.078072</td>\n",
       "      <td>0.079528</td>\n",
       "      <td>0.138409</td>\n",
       "    </tr>\n",
       "    <tr>\n",
       "      <th>2002-08-07</th>\n",
       "      <td>0.123239</td>\n",
       "      <td>0.083376</td>\n",
       "      <td>0.123286</td>\n",
       "      <td>0.092822</td>\n",
       "      <td>0.096105</td>\n",
       "      <td>0.152727</td>\n",
       "    </tr>\n",
       "    <tr>\n",
       "      <th>...</th>\n",
       "      <td>...</td>\n",
       "      <td>...</td>\n",
       "      <td>...</td>\n",
       "      <td>...</td>\n",
       "      <td>...</td>\n",
       "      <td>...</td>\n",
       "    </tr>\n",
       "    <tr>\n",
       "      <th>2023-03-20</th>\n",
       "      <td>0.266411</td>\n",
       "      <td>0.112118</td>\n",
       "      <td>0.266514</td>\n",
       "      <td>0.114933</td>\n",
       "      <td>0.120969</td>\n",
       "      <td>0.275068</td>\n",
       "    </tr>\n",
       "    <tr>\n",
       "      <th>2023-03-21</th>\n",
       "      <td>0.002322</td>\n",
       "      <td>0.096812</td>\n",
       "      <td>0.002323</td>\n",
       "      <td>0.094442</td>\n",
       "      <td>0.088736</td>\n",
       "      <td>0.182058</td>\n",
       "    </tr>\n",
       "    <tr>\n",
       "      <th>2023-03-22</th>\n",
       "      <td>0.245542</td>\n",
       "      <td>0.140382</td>\n",
       "      <td>0.245636</td>\n",
       "      <td>0.118570</td>\n",
       "      <td>0.102022</td>\n",
       "      <td>0.205839</td>\n",
       "    </tr>\n",
       "    <tr>\n",
       "      <th>2023-03-23</th>\n",
       "      <td>0.148677</td>\n",
       "      <td>0.169386</td>\n",
       "      <td>0.148735</td>\n",
       "      <td>0.147805</td>\n",
       "      <td>0.132716</td>\n",
       "      <td>0.250789</td>\n",
       "    </tr>\n",
       "    <tr>\n",
       "      <th>2023-03-24</th>\n",
       "      <td>0.047374</td>\n",
       "      <td>0.132768</td>\n",
       "      <td>0.047392</td>\n",
       "      <td>0.139627</td>\n",
       "      <td>0.138819</td>\n",
       "      <td>0.265925</td>\n",
       "    </tr>\n",
       "  </tbody>\n",
       "</table>\n",
       "<p>5198 rows × 6 columns</p>\n",
       "</div>"
      ],
      "text/plain": [
       "            Standard Deviation  Parkinson  Hodges-Tompkins  Garman-Klass  \\\n",
       "date                                                                       \n",
       "2002-08-01            0.074450   0.083403         0.074479      0.075624   \n",
       "2002-08-02            0.050610   0.105981         0.050630      0.103655   \n",
       "2002-08-05            0.064949   0.109263         0.064974      0.114035   \n",
       "2002-08-06            0.145792   0.072415         0.145848      0.078072   \n",
       "2002-08-07            0.123239   0.083376         0.123286      0.092822   \n",
       "...                        ...        ...              ...           ...   \n",
       "2023-03-20            0.266411   0.112118         0.266514      0.114933   \n",
       "2023-03-21            0.002322   0.096812         0.002323      0.094442   \n",
       "2023-03-22            0.245542   0.140382         0.245636      0.118570   \n",
       "2023-03-23            0.148677   0.169386         0.148735      0.147805   \n",
       "2023-03-24            0.047374   0.132768         0.047392      0.139627   \n",
       "\n",
       "            Rogers-Satchell  Yang-Zhang  \n",
       "date                                     \n",
       "2002-08-01         0.070795    0.140866  \n",
       "2002-08-02         0.096629    0.144345  \n",
       "2002-08-05         0.109442    0.163508  \n",
       "2002-08-06         0.079528    0.138409  \n",
       "2002-08-07         0.096105    0.152727  \n",
       "...                     ...         ...  \n",
       "2023-03-20         0.120969    0.275068  \n",
       "2023-03-21         0.088736    0.182058  \n",
       "2023-03-22         0.102022    0.205839  \n",
       "2023-03-23         0.132716    0.250789  \n",
       "2023-03-24         0.138819    0.265925  \n",
       "\n",
       "[5198 rows x 6 columns]"
      ]
     },
     "execution_count": 35,
     "metadata": {},
     "output_type": "execute_result"
    }
   ],
   "source": [
    "from typing import Optional\n",
    "\n",
    "def rvol(\n",
    "    data: pd.DataFrame, \n",
    "    window:int = 2,\n",
    "    trading_periods: Optional[int] = None,\n",
    "    is_crypto: bool = False\n",
    ")-> pd.DataFrame:\n",
    "    \n",
    "    results = pd.DataFrame()\n",
    "\n",
    "    results['Standard Deviation'] = openbb.ta.rvol_std(data, window, trading_periods, is_crypto)\n",
    "    results['Parkinson'] = openbb.ta.rvol_parkinson(data, window, trading_periods, is_crypto)\n",
    "    results['Hodges-Tompkins'] = openbb.ta.rvol_hodges_tompkins(data, window, trading_periods, is_crypto)\n",
    "    results['Garman-Klass'] = openbb.ta.rvol_garman_klass(data, window, trading_periods, is_crypto)\n",
    "    results['Rogers-Satchell'] = openbb.ta.rvol_rogers_satchell(data, window, trading_periods, is_crypto)\n",
    "    results['Yang-Zhang'] = openbb.ta.rvol_yang_zhang(data, window, trading_periods, is_crypto)\n",
    "    \n",
    "    return results\n",
    "\n",
    "rvol(data)"
   ]
  },
  {
   "attachments": {},
   "cell_type": "markdown",
   "metadata": {},
   "source": [
    "Then, because the `data` argument will accept a function as an input, the `load` function can be passed through, instead of a Pandas DataFrame. First, setup the parameters as a separate block."
   ]
  },
  {
   "cell_type": "code",
   "execution_count": 40,
   "metadata": {
    "notebookRunGroups": {
     "groupValue": "1"
    }
   },
   "outputs": [],
   "source": [
    "symbol = 'SPY'\n",
    "window = 2\n",
    "trading_periods = 252\n",
    "is_crypto: bool = False"
   ]
  },
  {
   "attachments": {},
   "cell_type": "markdown",
   "metadata": {},
   "source": [
    "Now make the function to wrap both the `load` and `rvol` together."
   ]
  },
  {
   "cell_type": "code",
   "execution_count": 41,
   "metadata": {
    "notebookRunGroups": {
     "groupValue": "1"
    }
   },
   "outputs": [
    {
     "data": {
      "text/html": [
       "<pre style=\"white-space:pre;overflow-x:auto;line-height:normal;font-family:Menlo,'DejaVu Sans Mono',consolas,'Courier New',monospace\">Loading Daily data for SPY with starting period 2020-03-23.\n",
       "</pre>\n"
      ],
      "text/plain": [
       "Loading Daily data for SPY with starting period 2020-03-23.\n"
      ]
     },
     "metadata": {},
     "output_type": "display_data"
    },
    {
     "data": {
      "text/html": [
       "<div>\n",
       "<style scoped>\n",
       "    .dataframe tbody tr th:only-of-type {\n",
       "        vertical-align: middle;\n",
       "    }\n",
       "\n",
       "    .dataframe tbody tr th {\n",
       "        vertical-align: top;\n",
       "    }\n",
       "\n",
       "    .dataframe thead th {\n",
       "        text-align: right;\n",
       "    }\n",
       "</style>\n",
       "<table border=\"1\" class=\"dataframe\">\n",
       "  <thead>\n",
       "    <tr style=\"text-align: right;\">\n",
       "      <th></th>\n",
       "      <th>Standard Deviation</th>\n",
       "      <th>Parkinson</th>\n",
       "      <th>Hodges-Tompkins</th>\n",
       "      <th>Garman-Klass</th>\n",
       "      <th>Rogers-Satchell</th>\n",
       "      <th>Yang-Zhang</th>\n",
       "    </tr>\n",
       "    <tr>\n",
       "      <th>date</th>\n",
       "      <th></th>\n",
       "      <th></th>\n",
       "      <th></th>\n",
       "      <th></th>\n",
       "      <th></th>\n",
       "      <th></th>\n",
       "    </tr>\n",
       "  </thead>\n",
       "  <tbody>\n",
       "    <tr>\n",
       "      <th>2020-03-25</th>\n",
       "      <td>0.806760</td>\n",
       "      <td>0.536792</td>\n",
       "      <td>0.808899</td>\n",
       "      <td>0.575684</td>\n",
       "      <td>0.573954</td>\n",
       "      <td>1.186099</td>\n",
       "    </tr>\n",
       "    <tr>\n",
       "      <th>2020-03-26</th>\n",
       "      <td>0.470209</td>\n",
       "      <td>0.578724</td>\n",
       "      <td>0.471456</td>\n",
       "      <td>0.599556</td>\n",
       "      <td>0.589638</td>\n",
       "      <td>0.867080</td>\n",
       "    </tr>\n",
       "    <tr>\n",
       "      <th>2020-03-27</th>\n",
       "      <td>0.976426</td>\n",
       "      <td>0.444240</td>\n",
       "      <td>0.979014</td>\n",
       "      <td>0.414370</td>\n",
       "      <td>0.409739</td>\n",
       "      <td>0.813094</td>\n",
       "    </tr>\n",
       "    <tr>\n",
       "      <th>2020-03-30</th>\n",
       "      <td>0.698166</td>\n",
       "      <td>0.346705</td>\n",
       "      <td>0.700017</td>\n",
       "      <td>0.375323</td>\n",
       "      <td>0.400335</td>\n",
       "      <td>0.770314</td>\n",
       "    </tr>\n",
       "    <tr>\n",
       "      <th>2020-03-31</th>\n",
       "      <td>0.527312</td>\n",
       "      <td>0.296892</td>\n",
       "      <td>0.528710</td>\n",
       "      <td>0.301194</td>\n",
       "      <td>0.291094</td>\n",
       "      <td>0.453230</td>\n",
       "    </tr>\n",
       "    <tr>\n",
       "      <th>...</th>\n",
       "      <td>...</td>\n",
       "      <td>...</td>\n",
       "      <td>...</td>\n",
       "      <td>...</td>\n",
       "      <td>...</td>\n",
       "      <td>...</td>\n",
       "    </tr>\n",
       "    <tr>\n",
       "      <th>2023-03-20</th>\n",
       "      <td>0.239443</td>\n",
       "      <td>0.122952</td>\n",
       "      <td>0.240078</td>\n",
       "      <td>0.122112</td>\n",
       "      <td>0.114896</td>\n",
       "      <td>0.181847</td>\n",
       "    </tr>\n",
       "    <tr>\n",
       "      <th>2023-03-21</th>\n",
       "      <td>0.039011</td>\n",
       "      <td>0.095852</td>\n",
       "      <td>0.039114</td>\n",
       "      <td>0.095635</td>\n",
       "      <td>0.093113</td>\n",
       "      <td>0.204867</td>\n",
       "    </tr>\n",
       "    <tr>\n",
       "      <th>2023-03-22</th>\n",
       "      <td>0.339427</td>\n",
       "      <td>0.188376</td>\n",
       "      <td>0.340326</td>\n",
       "      <td>0.186262</td>\n",
       "      <td>0.190783</td>\n",
       "      <td>0.309962</td>\n",
       "    </tr>\n",
       "    <tr>\n",
       "      <th>2023-03-23</th>\n",
       "      <td>0.223301</td>\n",
       "      <td>0.233599</td>\n",
       "      <td>0.223893</td>\n",
       "      <td>0.246678</td>\n",
       "      <td>0.250284</td>\n",
       "      <td>0.368708</td>\n",
       "    </tr>\n",
       "    <tr>\n",
       "      <th>2023-03-24</th>\n",
       "      <td>0.043113</td>\n",
       "      <td>0.188493</td>\n",
       "      <td>0.043227</td>\n",
       "      <td>0.208089</td>\n",
       "      <td>0.211066</td>\n",
       "      <td>0.316931</td>\n",
       "    </tr>\n",
       "  </tbody>\n",
       "</table>\n",
       "<p>756 rows × 6 columns</p>\n",
       "</div>"
      ],
      "text/plain": [
       "            Standard Deviation  Parkinson  Hodges-Tompkins  Garman-Klass  \\\n",
       "date                                                                       \n",
       "2020-03-25            0.806760   0.536792         0.808899      0.575684   \n",
       "2020-03-26            0.470209   0.578724         0.471456      0.599556   \n",
       "2020-03-27            0.976426   0.444240         0.979014      0.414370   \n",
       "2020-03-30            0.698166   0.346705         0.700017      0.375323   \n",
       "2020-03-31            0.527312   0.296892         0.528710      0.301194   \n",
       "...                        ...        ...              ...           ...   \n",
       "2023-03-20            0.239443   0.122952         0.240078      0.122112   \n",
       "2023-03-21            0.039011   0.095852         0.039114      0.095635   \n",
       "2023-03-22            0.339427   0.188376         0.340326      0.186262   \n",
       "2023-03-23            0.223301   0.233599         0.223893      0.246678   \n",
       "2023-03-24            0.043113   0.188493         0.043227      0.208089   \n",
       "\n",
       "            Rogers-Satchell  Yang-Zhang  \n",
       "date                                     \n",
       "2020-03-25         0.573954    1.186099  \n",
       "2020-03-26         0.589638    0.867080  \n",
       "2020-03-27         0.409739    0.813094  \n",
       "2020-03-30         0.400335    0.770314  \n",
       "2020-03-31         0.291094    0.453230  \n",
       "...                     ...         ...  \n",
       "2023-03-20         0.114896    0.181847  \n",
       "2023-03-21         0.093113    0.204867  \n",
       "2023-03-22         0.190783    0.309962  \n",
       "2023-03-23         0.250284    0.368708  \n",
       "2023-03-24         0.211066    0.316931  \n",
       "\n",
       "[756 rows x 6 columns]"
      ]
     },
     "execution_count": 41,
     "metadata": {},
     "output_type": "execute_result"
    }
   ],
   "source": [
    "def realized_vol(symbol) -> pd.DataFrame:\n",
    "    data = openbb.stocks.load(f\"{symbol}\")\n",
    "    \n",
    "    rvol_df = rvol(data, window, trading_periods, is_crypto)\n",
    "    \n",
    "    return rvol_df\n",
    "    \n",
    "rvol_df = realized_vol(symbol)\n",
    "\n",
    "rvol_df"
   ]
  },
  {
   "cell_type": "code",
   "execution_count": 42,
   "metadata": {},
   "outputs": [
    {
     "data": {
      "text/html": [
       "<pre style=\"white-space:pre;overflow-x:auto;line-height:normal;font-family:Menlo,'DejaVu Sans Mono',consolas,'Courier New',monospace\">Loading Daily data for AAPL with starting period 2020-03-23.\n",
       "</pre>\n"
      ],
      "text/plain": [
       "Loading Daily data for AAPL with starting period 2020-03-23.\n"
      ]
     },
     "metadata": {},
     "output_type": "display_data"
    },
    {
     "data": {
      "text/html": [
       "<div>\n",
       "<style scoped>\n",
       "    .dataframe tbody tr th:only-of-type {\n",
       "        vertical-align: middle;\n",
       "    }\n",
       "\n",
       "    .dataframe tbody tr th {\n",
       "        vertical-align: top;\n",
       "    }\n",
       "\n",
       "    .dataframe thead th {\n",
       "        text-align: right;\n",
       "    }\n",
       "</style>\n",
       "<table border=\"1\" class=\"dataframe\">\n",
       "  <thead>\n",
       "    <tr style=\"text-align: right;\">\n",
       "      <th></th>\n",
       "      <th>Standard Deviation</th>\n",
       "      <th>Parkinson</th>\n",
       "      <th>Hodges-Tompkins</th>\n",
       "      <th>Garman-Klass</th>\n",
       "      <th>Rogers-Satchell</th>\n",
       "      <th>Yang-Zhang</th>\n",
       "    </tr>\n",
       "    <tr>\n",
       "      <th>date</th>\n",
       "      <th></th>\n",
       "      <th></th>\n",
       "      <th></th>\n",
       "      <th></th>\n",
       "      <th></th>\n",
       "      <th></th>\n",
       "    </tr>\n",
       "  </thead>\n",
       "  <tbody>\n",
       "    <tr>\n",
       "      <th>2020-03-25</th>\n",
       "      <td>1.135181</td>\n",
       "      <td>0.529624</td>\n",
       "      <td>1.138190</td>\n",
       "      <td>0.524343</td>\n",
       "      <td>0.530169</td>\n",
       "      <td>1.201295</td>\n",
       "    </tr>\n",
       "    <tr>\n",
       "      <th>2020-03-26</th>\n",
       "      <td>0.637681</td>\n",
       "      <td>0.498351</td>\n",
       "      <td>0.639372</td>\n",
       "      <td>0.462749</td>\n",
       "      <td>0.462187</td>\n",
       "      <td>0.715136</td>\n",
       "    </tr>\n",
       "    <tr>\n",
       "      <th>2020-03-27</th>\n",
       "      <td>1.050309</td>\n",
       "      <td>0.405136</td>\n",
       "      <td>1.053093</td>\n",
       "      <td>0.315437</td>\n",
       "      <td>0.259765</td>\n",
       "      <td>0.583667</td>\n",
       "    </tr>\n",
       "    <tr>\n",
       "      <th>2020-03-30</th>\n",
       "      <td>0.790484</td>\n",
       "      <td>0.287453</td>\n",
       "      <td>0.792580</td>\n",
       "      <td>0.287087</td>\n",
       "      <td>0.281142</td>\n",
       "      <td>0.598359</td>\n",
       "    </tr>\n",
       "    <tr>\n",
       "      <th>2020-03-31</th>\n",
       "      <td>0.338780</td>\n",
       "      <td>0.319840</td>\n",
       "      <td>0.339678</td>\n",
       "      <td>0.357646</td>\n",
       "      <td>0.379008</td>\n",
       "      <td>0.565177</td>\n",
       "    </tr>\n",
       "    <tr>\n",
       "      <th>...</th>\n",
       "      <td>...</td>\n",
       "      <td>...</td>\n",
       "      <td>...</td>\n",
       "      <td>...</td>\n",
       "      <td>...</td>\n",
       "      <td>...</td>\n",
       "    </tr>\n",
       "    <tr>\n",
       "      <th>2023-03-20</th>\n",
       "      <td>0.233862</td>\n",
       "      <td>0.191133</td>\n",
       "      <td>0.234482</td>\n",
       "      <td>0.193575</td>\n",
       "      <td>0.185165</td>\n",
       "      <td>0.262775</td>\n",
       "    </tr>\n",
       "    <tr>\n",
       "      <th>2023-03-21</th>\n",
       "      <td>0.039196</td>\n",
       "      <td>0.200140</td>\n",
       "      <td>0.039300</td>\n",
       "      <td>0.192981</td>\n",
       "      <td>0.183465</td>\n",
       "      <td>0.263828</td>\n",
       "    </tr>\n",
       "    <tr>\n",
       "      <th>2023-03-22</th>\n",
       "      <td>0.235932</td>\n",
       "      <td>0.219532</td>\n",
       "      <td>0.236557</td>\n",
       "      <td>0.234875</td>\n",
       "      <td>0.268794</td>\n",
       "      <td>0.371057</td>\n",
       "    </tr>\n",
       "    <tr>\n",
       "      <th>2023-03-23</th>\n",
       "      <td>0.180615</td>\n",
       "      <td>0.244980</td>\n",
       "      <td>0.181093</td>\n",
       "      <td>0.281063</td>\n",
       "      <td>0.319921</td>\n",
       "      <td>0.448690</td>\n",
       "    </tr>\n",
       "    <tr>\n",
       "      <th>2023-03-24</th>\n",
       "      <td>0.014884</td>\n",
       "      <td>0.194552</td>\n",
       "      <td>0.014924</td>\n",
       "      <td>0.220813</td>\n",
       "      <td>0.234511</td>\n",
       "      <td>0.337311</td>\n",
       "    </tr>\n",
       "  </tbody>\n",
       "</table>\n",
       "<p>756 rows × 6 columns</p>\n",
       "</div>"
      ],
      "text/plain": [
       "            Standard Deviation  Parkinson  Hodges-Tompkins  Garman-Klass  \\\n",
       "date                                                                       \n",
       "2020-03-25            1.135181   0.529624         1.138190      0.524343   \n",
       "2020-03-26            0.637681   0.498351         0.639372      0.462749   \n",
       "2020-03-27            1.050309   0.405136         1.053093      0.315437   \n",
       "2020-03-30            0.790484   0.287453         0.792580      0.287087   \n",
       "2020-03-31            0.338780   0.319840         0.339678      0.357646   \n",
       "...                        ...        ...              ...           ...   \n",
       "2023-03-20            0.233862   0.191133         0.234482      0.193575   \n",
       "2023-03-21            0.039196   0.200140         0.039300      0.192981   \n",
       "2023-03-22            0.235932   0.219532         0.236557      0.234875   \n",
       "2023-03-23            0.180615   0.244980         0.181093      0.281063   \n",
       "2023-03-24            0.014884   0.194552         0.014924      0.220813   \n",
       "\n",
       "            Rogers-Satchell  Yang-Zhang  \n",
       "date                                     \n",
       "2020-03-25         0.530169    1.201295  \n",
       "2020-03-26         0.462187    0.715136  \n",
       "2020-03-27         0.259765    0.583667  \n",
       "2020-03-30         0.281142    0.598359  \n",
       "2020-03-31         0.379008    0.565177  \n",
       "...                     ...         ...  \n",
       "2023-03-20         0.185165    0.262775  \n",
       "2023-03-21         0.183465    0.263828  \n",
       "2023-03-22         0.268794    0.371057  \n",
       "2023-03-23         0.319921    0.448690  \n",
       "2023-03-24         0.234511    0.337311  \n",
       "\n",
       "[756 rows x 6 columns]"
      ]
     },
     "execution_count": 42,
     "metadata": {},
     "output_type": "execute_result"
    }
   ],
   "source": [
    "realized_vol('AAPL')"
   ]
  },
  {
   "attachments": {},
   "cell_type": "markdown",
   "metadata": {},
   "source": [
    "Thanks for reading, and if you want more actionable code snippets and notebooks, check out what else, *Getting Started with Python for Quant Finance*, has to [offer!](​https://gettingstartedwithpythonforquantfinance.com/?ref=ezyapsobd​) "
   ]
  }
 ],
 "metadata": {
  "kernelspec": {
   "display_name": "Python 3",
   "language": "python",
   "name": "python3"
  },
  "language_info": {
   "codemirror_mode": {
    "name": "ipython",
    "version": 3
   },
   "file_extension": ".py",
   "mimetype": "text/x-python",
   "name": "python",
   "nbconvert_exporter": "python",
   "pygments_lexer": "ipython3",
   "version": "3.10.8"
  },
  "orig_nbformat": 4,
  "vscode": {
   "interpreter": {
    "hash": "17ccf7182494c499ea5a15d05a855ffa6236155afe63e1777a9e5d31c18c392b"
   }
  }
 },
 "nbformat": 4,
 "nbformat_minor": 2
}
