{
 "cells": [
  {
   "attachments": {},
   "cell_type": "markdown",
   "metadata": {},
   "source": [
    "# Realized Volatility Models in the OpenBB SDK\n",
    "\n",
    "The same, six, realized volatility models from the, *Getting Started With Python for Quant Finance*, course have been integrated with the OpenBB SDK, as of version 2.5. Each model is callable through its own function, as well an additional function for realized volatility quantiles of any asset with OHLC data. If you aren't already familiar with his work, Jason's newsletter provides usable, relavant, and practical code to your inbox every week. If you are new, to finance or to Python, the community Jason has built is a valuable resource for any type of user and his style of communication is highly effective. Check out the course [here](​https://gettingstartedwithpythonforquantfinance.com/?ref=ezyapsobd​). This notebook is a sample of what the course has to offer, applied through building in public.\n",
    "\n",
    "To begin, import the OpenBB SDK as well as the Pandas library."
   ]
  },
  {
   "cell_type": "code",
   "execution_count": 1,
   "metadata": {},
   "outputs": [],
   "source": [
    "# Import statements\n",
    "\n",
    "import pandas as pd\n",
    "from openbb_terminal.sdk import openbb\n",
    "\n",
    "%matplotlib inline"
   ]
  },
  {
   "attachments": {},
   "cell_type": "markdown",
   "metadata": {},
   "source": [
    "## End Points\n",
    "\n",
    "The cones function is for the rolling quantiles, while the other functions return historical calculations over a specific window. The `cones` function applies a `for` loop over many windows, grouping the results into selectable quantiles.\n",
    "\n",
    "`windows = [3, 10, 30, 60, 90, 120, 150, 180, 210, 240, 300, 360]`\n",
    "\n",
    "`openbb.ta.cones()`\n",
    "\n",
    "`openbb.ta.rvol_garman_klass()`\n",
    "\n",
    "`openbb.ta.rvol_hodges_tompkins()`\n",
    "\n",
    "`openbb.ta.rvol_parkinson()`\n",
    "\n",
    "`openbb.ta_rvol_rogers_satchell()`\n",
    "\n",
    "`openbb.ta.rvol_std()`\n",
    "\n",
    "`openbb.ta.rvol_yang_zhang()`"
   ]
  },
  {
   "attachments": {},
   "cell_type": "markdown",
   "metadata": {},
   "source": [
    "## Collect Some Data\n",
    "\n",
    "One of the primary steps for most workflows is to capture historical price data. The most robust method is to use the `load` function from the `stocks` module. "
   ]
  },
  {
   "cell_type": "code",
   "execution_count": 2,
   "metadata": {},
   "outputs": [
    {
     "data": {
      "text/html": [
       "<pre style=\"white-space:pre;overflow-x:auto;line-height:normal;font-family:Menlo,'DejaVu Sans Mono',consolas,'Courier New',monospace\">Loading Daily data for SPY with starting period 1993-01-29.\n",
       "</pre>\n"
      ],
      "text/plain": [
       "Loading Daily data for SPY with starting period 1993-01-29.\n"
      ]
     },
     "metadata": {},
     "output_type": "display_data"
    }
   ],
   "source": [
    "# This will obtain daily price data for the complete history of SPY. The start date only needs to be before the first trading day of SPY, no end date is required to obtain the full history.\n",
    "\n",
    "df = openbb.stocks.load(\"SPY\", start_date = '1990-01-01')"
   ]
  },
  {
   "attachments": {},
   "cell_type": "markdown",
   "metadata": {},
   "source": [
    "## Function Inputs and Parameters\n",
    "\n",
    "The primary input for each function is a Pandas DataFrame containing OHLC data. All other parameters have default settings which do not require additional user input. The `is_crypto` boolean provides an easy switch for the number of trading-days-per-year. 252 is the standard for equities and trad-fi, while `is_crypto = True` enforces 365.\n"
   ]
  },
  {
   "cell_type": "code",
   "execution_count": 3,
   "metadata": {},
   "outputs": [
    {
     "name": "stdout",
     "output_type": "stream",
     "text": [
      "\u001b[0;31mSignature:\u001b[0m     \n",
      "\u001b[0mopenbb\u001b[0m\u001b[0;34m.\u001b[0m\u001b[0mta\u001b[0m\u001b[0;34m.\u001b[0m\u001b[0mcones\u001b[0m\u001b[0;34m(\u001b[0m\u001b[0;34m\u001b[0m\n",
      "\u001b[0;34m\u001b[0m    \u001b[0mdata\u001b[0m\u001b[0;34m:\u001b[0m \u001b[0mpandas\u001b[0m\u001b[0;34m.\u001b[0m\u001b[0mcore\u001b[0m\u001b[0;34m.\u001b[0m\u001b[0mframe\u001b[0m\u001b[0;34m.\u001b[0m\u001b[0mDataFrame\u001b[0m\u001b[0;34m,\u001b[0m\u001b[0;34m\u001b[0m\n",
      "\u001b[0;34m\u001b[0m    \u001b[0mlower_q\u001b[0m\u001b[0;34m:\u001b[0m \u001b[0mfloat\u001b[0m \u001b[0;34m=\u001b[0m \u001b[0;36m0.25\u001b[0m\u001b[0;34m,\u001b[0m\u001b[0;34m\u001b[0m\n",
      "\u001b[0;34m\u001b[0m    \u001b[0mupper_q\u001b[0m\u001b[0;34m:\u001b[0m \u001b[0mfloat\u001b[0m \u001b[0;34m=\u001b[0m \u001b[0;36m0.75\u001b[0m\u001b[0;34m,\u001b[0m\u001b[0;34m\u001b[0m\n",
      "\u001b[0;34m\u001b[0m    \u001b[0mis_crypto\u001b[0m\u001b[0;34m:\u001b[0m \u001b[0mbool\u001b[0m \u001b[0;34m=\u001b[0m \u001b[0;32mFalse\u001b[0m\u001b[0;34m,\u001b[0m\u001b[0;34m\u001b[0m\n",
      "\u001b[0;34m\u001b[0m    \u001b[0mmodel\u001b[0m\u001b[0;34m:\u001b[0m \u001b[0mstr\u001b[0m \u001b[0;34m=\u001b[0m \u001b[0;34m'STD'\u001b[0m\u001b[0;34m,\u001b[0m\u001b[0;34m\u001b[0m\n",
      "\u001b[0;34m\u001b[0m\u001b[0;34m)\u001b[0m \u001b[0;34m->\u001b[0m \u001b[0mpandas\u001b[0m\u001b[0;34m.\u001b[0m\u001b[0mcore\u001b[0m\u001b[0;34m.\u001b[0m\u001b[0mframe\u001b[0m\u001b[0;34m.\u001b[0m\u001b[0mDataFrame\u001b[0m\u001b[0;34m\u001b[0m\u001b[0;34m\u001b[0m\u001b[0m\n",
      "\u001b[0;31mCall signature:\u001b[0m \u001b[0mopenbb\u001b[0m\u001b[0;34m.\u001b[0m\u001b[0mta\u001b[0m\u001b[0;34m.\u001b[0m\u001b[0mcones\u001b[0m\u001b[0;34m(\u001b[0m\u001b[0;34m*\u001b[0m\u001b[0margs\u001b[0m\u001b[0;34m:\u001b[0m \u001b[0mAny\u001b[0m\u001b[0;34m,\u001b[0m \u001b[0;34m**\u001b[0m\u001b[0mkwargs\u001b[0m\u001b[0;34m:\u001b[0m \u001b[0mAny\u001b[0m\u001b[0;34m)\u001b[0m \u001b[0;34m->\u001b[0m \u001b[0mAny\u001b[0m\u001b[0;34m\u001b[0m\u001b[0;34m\u001b[0m\u001b[0m\n",
      "\u001b[0;31mType:\u001b[0m           cones\n",
      "\u001b[0;31mString form:\u001b[0m    <openbb_terminal.common.technical_analysis.volatility_model.Operation object at 0x2ac319e40>\n",
      "\u001b[0;31mFile:\u001b[0m           ~/GitHub/OpenBBTerminal/openbb_terminal/common/technical_analysis/volatility_model.py\n",
      "\u001b[0;31mDocstring:\u001b[0m     \n",
      "Returns a DataFrame of realized volatility quantiles.\n",
      "\n",
      "Parameters\n",
      "---------\n",
      "data: pd.DataFrame\n",
      "    DataFrame of the OHLC data.\n",
      "lower_q: float (default = 0.25)\n",
      "    The lower quantile to calculate the realized volatility over time for.\n",
      "upper_q: float (default = 0.75)\n",
      "    The upper quantile to calculate the realized volatility over time for.\n",
      "is_crypto: bool (default = False)\n",
      "    If true, volatility is calculated for 365 days instead of 252.\n",
      "model: str (default = \"STD\")\n",
      "    The model to use for volatility calculation. Choices are:\n",
      "    [\"STD\", \"Parkinson\", \"Garman-Klass\", \"Hodges-Tompkins\", \"Rogers-Satchell\", \"Yang-Zhang\"]\n",
      "\n",
      "        Standard deviation measures how widely returns are dispersed from the average return.\n",
      "        It is the most common (and biased) estimator of volatility.\n",
      "\n",
      "        Parkinson volatility uses the high and low price of the day rather than just close to close prices.\n",
      "        It is useful for capturing large price movements during the day.\n",
      "\n",
      "        Garman-Klass volatility extends Parkinson volatility by taking into account the opening and closing price.\n",
      "        As markets are most active during the opening and closing of a trading session,\n",
      "        it makes volatility estimation more accurate.\n",
      "\n",
      "        Hodges-Tompkins volatility is a bias correction for estimation using an overlapping data sample.\n",
      "        It produces unbiased estimates and a substantial gain in efficiency.\n",
      "\n",
      "        Rogers-Satchell is an estimator for measuring the volatility with an average return not equal to zero.\n",
      "        Unlike Parkinson and Garman-Klass estimators, Rogers-Satchell incorporates a drift term,\n",
      "        mean return not equal to zero.\n",
      "\n",
      "        Yang-Zhang volatility is the combination of the overnight (close-to-open volatility).\n",
      "        It is a weighted average of the Rogers-Satchell volatility and the open-to-close volatility.\n",
      "\n",
      "Returns\n",
      "-------\n",
      "pd.DataFrame: cones\n",
      "    DataFrame of realized volatility quantiles.\n",
      "\n",
      "Example\n",
      "-------\n",
      ">>> df = openbb.stocks.load(\"AAPL\")\n",
      ">>> cones_df = openbb.ta.cones(data = df, lower_q = 0.10, upper_q = 0.90)\n",
      "\n",
      ">>> cones_df = openbb.ta.cones(df,0.15,0.85,False,\"Garman-Klass\")\n"
     ]
    }
   ],
   "source": [
    "openbb.ta.cones?"
   ]
  },
  {
   "cell_type": "code",
   "execution_count": 4,
   "metadata": {},
   "outputs": [
    {
     "name": "stdout",
     "output_type": "stream",
     "text": [
      "\u001b[0;31mSignature:\u001b[0m     \n",
      "\u001b[0mopenbb\u001b[0m\u001b[0;34m.\u001b[0m\u001b[0mta\u001b[0m\u001b[0;34m.\u001b[0m\u001b[0mrvol_parkinson\u001b[0m\u001b[0;34m(\u001b[0m\u001b[0;34m\u001b[0m\n",
      "\u001b[0;34m\u001b[0m    \u001b[0mdata\u001b[0m\u001b[0;34m:\u001b[0m \u001b[0mpandas\u001b[0m\u001b[0;34m.\u001b[0m\u001b[0mcore\u001b[0m\u001b[0;34m.\u001b[0m\u001b[0mframe\u001b[0m\u001b[0;34m.\u001b[0m\u001b[0mDataFrame\u001b[0m\u001b[0;34m,\u001b[0m\u001b[0;34m\u001b[0m\n",
      "\u001b[0;34m\u001b[0m    \u001b[0mwindow\u001b[0m\u001b[0;34m:\u001b[0m \u001b[0mint\u001b[0m \u001b[0;34m=\u001b[0m \u001b[0;36m30\u001b[0m\u001b[0;34m,\u001b[0m\u001b[0;34m\u001b[0m\n",
      "\u001b[0;34m\u001b[0m    \u001b[0mtrading_periods\u001b[0m\u001b[0;34m:\u001b[0m \u001b[0mOptional\u001b[0m\u001b[0;34m[\u001b[0m\u001b[0mint\u001b[0m\u001b[0;34m]\u001b[0m \u001b[0;34m=\u001b[0m \u001b[0;32mNone\u001b[0m\u001b[0;34m,\u001b[0m\u001b[0;34m\u001b[0m\n",
      "\u001b[0;34m\u001b[0m    \u001b[0mis_crypto\u001b[0m\u001b[0;34m:\u001b[0m \u001b[0mbool\u001b[0m \u001b[0;34m=\u001b[0m \u001b[0;32mFalse\u001b[0m\u001b[0;34m,\u001b[0m\u001b[0;34m\u001b[0m\n",
      "\u001b[0;34m\u001b[0m    \u001b[0mclean\u001b[0m\u001b[0;34m=\u001b[0m\u001b[0;32mTrue\u001b[0m\u001b[0;34m,\u001b[0m\u001b[0;34m\u001b[0m\n",
      "\u001b[0;34m\u001b[0m\u001b[0;34m)\u001b[0m \u001b[0;34m->\u001b[0m \u001b[0mpandas\u001b[0m\u001b[0;34m.\u001b[0m\u001b[0mcore\u001b[0m\u001b[0;34m.\u001b[0m\u001b[0mframe\u001b[0m\u001b[0;34m.\u001b[0m\u001b[0mDataFrame\u001b[0m\u001b[0;34m\u001b[0m\u001b[0;34m\u001b[0m\u001b[0m\n",
      "\u001b[0;31mCall signature:\u001b[0m \u001b[0mopenbb\u001b[0m\u001b[0;34m.\u001b[0m\u001b[0mta\u001b[0m\u001b[0;34m.\u001b[0m\u001b[0mrvol_parkinson\u001b[0m\u001b[0;34m(\u001b[0m\u001b[0;34m*\u001b[0m\u001b[0margs\u001b[0m\u001b[0;34m:\u001b[0m \u001b[0mAny\u001b[0m\u001b[0;34m,\u001b[0m \u001b[0;34m**\u001b[0m\u001b[0mkwargs\u001b[0m\u001b[0;34m:\u001b[0m \u001b[0mAny\u001b[0m\u001b[0;34m)\u001b[0m \u001b[0;34m->\u001b[0m \u001b[0mAny\u001b[0m\u001b[0;34m\u001b[0m\u001b[0;34m\u001b[0m\u001b[0m\n",
      "\u001b[0;31mType:\u001b[0m           parkinson\n",
      "\u001b[0;31mString form:\u001b[0m    <openbb_terminal.common.technical_analysis.volatility_model.Operation object at 0x2ac31a470>\n",
      "\u001b[0;31mFile:\u001b[0m           ~/GitHub/OpenBBTerminal/openbb_terminal/common/technical_analysis/volatility_model.py\n",
      "\u001b[0;31mDocstring:\u001b[0m     \n",
      "Parkinson volatility uses the high and low price of the day rather than just close to close prices.\n",
      "It is useful for capturing large price movements during the day.\n",
      "\n",
      "Parameters\n",
      "----------\n",
      "data : pd.DataFrame\n",
      "    Dataframe of OHLC prices.\n",
      "window : int [default: 30]\n",
      "    Length of window to calculate over.\n",
      "trading_periods : Optional[int] [default: 252]\n",
      "    Number of trading periods in a year.\n",
      "is_crypto : bool [default: False]\n",
      "    If true, trading_periods is defined as 365.\n",
      "clean : bool [default: True]\n",
      "    Whether to clean the data or not by dropping NaN values.\n",
      "\n",
      "Returns\n",
      "-------\n",
      "pd.DataFrame : results\n",
      "    Dataframe with results.\n",
      "\n",
      "Example\n",
      "-------\n",
      ">>> data = openbb.stocks.load('BTC-USD')\n",
      ">>> df = openbb.ta.rvol_parkinson(data, is_crypto = True)\n"
     ]
    }
   ],
   "source": [
    "openbb.ta.rvol_parkinson?"
   ]
  },
  {
   "attachments": {},
   "cell_type": "markdown",
   "metadata": {},
   "source": [
    "## Sample Outputs\n",
    "\n",
    "Let's take a look at what the expected outputs are. The data we have loaded already is the complete daily OHLC history of SPY. "
   ]
  },
  {
   "cell_type": "code",
   "execution_count": 5,
   "metadata": {},
   "outputs": [
    {
     "data": {
      "text/html": [
       "<div>\n",
       "<style scoped>\n",
       "    .dataframe tbody tr th:only-of-type {\n",
       "        vertical-align: middle;\n",
       "    }\n",
       "\n",
       "    .dataframe tbody tr th {\n",
       "        vertical-align: top;\n",
       "    }\n",
       "\n",
       "    .dataframe thead th {\n",
       "        text-align: right;\n",
       "    }\n",
       "</style>\n",
       "<table border=\"1\" class=\"dataframe\">\n",
       "  <thead>\n",
       "    <tr style=\"text-align: right;\">\n",
       "      <th></th>\n",
       "      <th>Open</th>\n",
       "      <th>High</th>\n",
       "      <th>Low</th>\n",
       "      <th>Close</th>\n",
       "      <th>Adj Close</th>\n",
       "      <th>Volume</th>\n",
       "      <th>Dividends</th>\n",
       "      <th>Stock Splits</th>\n",
       "    </tr>\n",
       "    <tr>\n",
       "      <th>date</th>\n",
       "      <th></th>\n",
       "      <th></th>\n",
       "      <th></th>\n",
       "      <th></th>\n",
       "      <th></th>\n",
       "      <th></th>\n",
       "      <th></th>\n",
       "      <th></th>\n",
       "    </tr>\n",
       "  </thead>\n",
       "  <tbody>\n",
       "    <tr>\n",
       "      <th>1993-01-29</th>\n",
       "      <td>25.236156</td>\n",
       "      <td>25.236156</td>\n",
       "      <td>25.110603</td>\n",
       "      <td>25.21822</td>\n",
       "      <td>25.21822</td>\n",
       "      <td>1003200</td>\n",
       "      <td>0.0</td>\n",
       "      <td>0.0</td>\n",
       "    </tr>\n",
       "  </tbody>\n",
       "</table>\n",
       "</div>"
      ],
      "text/plain": [
       "                 Open       High        Low     Close  Adj Close   Volume  \\\n",
       "date                                                                        \n",
       "1993-01-29  25.236156  25.236156  25.110603  25.21822   25.21822  1003200   \n",
       "\n",
       "            Dividends  Stock Splits  \n",
       "date                                 \n",
       "1993-01-29        0.0           0.0  "
      ]
     },
     "execution_count": 5,
     "metadata": {},
     "output_type": "execute_result"
    }
   ],
   "source": [
    "df.head(1)"
   ]
  },
  {
   "attachments": {},
   "cell_type": "markdown",
   "metadata": {},
   "source": [
    "### Standard Deviation Model\n",
    "\n",
    "This model requires a minimum window of two trading periods, the default is thirty. The calculations, by default, are annualized over 252 trading-days-per-year. To change this behaviour:\n",
    "\n",
    "- `is_crypto = True` to annualize over 365 days.\n",
    "- Enter an integer value for the `trading_periods` argument. "
   ]
  },
  {
   "cell_type": "code",
   "execution_count": 6,
   "metadata": {},
   "outputs": [
    {
     "name": "stdout",
     "output_type": "stream",
     "text": [
      "Error: Window must be at least 2, defaulting to 30.\n"
     ]
    },
    {
     "data": {
      "text/plain": [
       "date\n",
       "1993-03-15    0.133722\n",
       "1993-03-16    0.132503\n",
       "1993-03-17    0.133976\n",
       "1993-03-18    0.131751\n",
       "1993-03-19    0.131355\n",
       "                ...   \n",
       "2023-02-23    0.163743\n",
       "2023-02-24    0.163181\n",
       "2023-02-27    0.163138\n",
       "2023-02-28    0.163079\n",
       "2023-03-01    0.163359\n",
       "Name: Close, Length: 7546, dtype: float64"
      ]
     },
     "execution_count": 6,
     "metadata": {},
     "output_type": "execute_result"
    }
   ],
   "source": [
    "openbb.ta.rvol_std(df, window = 1)"
   ]
  },
  {
   "attachments": {},
   "cell_type": "markdown",
   "metadata": {},
   "source": [
    "For each model there is an override for the `is_crypto` boolean that allows any period to be entered. A message will print indicating that 365 has been overridden. "
   ]
  },
  {
   "cell_type": "code",
   "execution_count": 7,
   "metadata": {},
   "outputs": [
    {
     "name": "stdout",
     "output_type": "stream",
     "text": [
      "is_crypto is overridden by trading_periods.\n"
     ]
    },
    {
     "data": {
      "text/plain": [
       "date\n",
       "1994-07-12    0.008657\n",
       "1994-07-13    0.008643\n",
       "1994-07-14    0.008677\n",
       "1994-07-15    0.008643\n",
       "1994-07-18    0.008638\n",
       "                ...   \n",
       "2023-02-23    0.019422\n",
       "2023-02-24    0.019436\n",
       "2023-02-27    0.019434\n",
       "2023-02-28    0.019426\n",
       "2023-03-01    0.019427\n",
       "Name: Close, Length: 7211, dtype: float64"
      ]
     },
     "execution_count": 7,
     "metadata": {},
     "output_type": "execute_result"
    }
   ],
   "source": [
    "openbb.ta.rvol_std(df, trading_periods = 2, window = 365, is_crypto = True)"
   ]
  },
  {
   "cell_type": "code",
   "execution_count": 8,
   "metadata": {},
   "outputs": [
    {
     "data": {
      "text/plain": [
       "date\n",
       "1993-02-02    0.055806\n",
       "1993-02-03    0.094284\n",
       "1993-02-04    0.071162\n",
       "1993-02-05    0.054680\n",
       "1993-02-08    0.007806\n",
       "                ...   \n",
       "2023-02-23    0.075032\n",
       "2023-02-24    0.180106\n",
       "2023-02-27    0.158720\n",
       "2023-02-28    0.079730\n",
       "2023-03-01    0.001577\n",
       "Name: Close, Length: 7574, dtype: float64"
      ]
     },
     "execution_count": 8,
     "metadata": {},
     "output_type": "execute_result"
    }
   ],
   "source": [
    "openbb.ta.rvol_std(df, window = 2)"
   ]
  },
  {
   "attachments": {},
   "cell_type": "markdown",
   "metadata": {},
   "source": [
    "Notice the difference  in the output when the `is_crypto` argument is deployed."
   ]
  },
  {
   "cell_type": "code",
   "execution_count": 9,
   "metadata": {},
   "outputs": [
    {
     "data": {
      "text/plain": [
       "date\n",
       "1993-02-02    0.067162\n",
       "1993-02-03    0.113471\n",
       "1993-02-04    0.085644\n",
       "1993-02-05    0.065808\n",
       "1993-02-08    0.009395\n",
       "                ...   \n",
       "2023-02-23    0.090301\n",
       "2023-02-24    0.216758\n",
       "2023-02-27    0.191019\n",
       "2023-02-28    0.095955\n",
       "2023-03-01    0.001898\n",
       "Name: Close, Length: 7574, dtype: float64"
      ]
     },
     "execution_count": 9,
     "metadata": {},
     "output_type": "execute_result"
    }
   ],
   "source": [
    "openbb.ta.rvol_std(df, is_crypto = True, window = 2)"
   ]
  },
  {
   "cell_type": "code",
   "execution_count": 10,
   "metadata": {},
   "outputs": [
    {
     "data": {
      "text/plain": [
       "date\n",
       "1993-02-12    0.090819\n",
       "1993-02-16    0.157638\n",
       "1993-02-17    0.156312\n",
       "1993-02-18    0.140354\n",
       "1993-02-19    0.139527\n",
       "                ...   \n",
       "2023-02-23    0.150293\n",
       "2023-02-24    0.152980\n",
       "2023-02-27    0.154048\n",
       "2023-02-28    0.132046\n",
       "2023-03-01    0.130521\n",
       "Name: Close, Length: 7566, dtype: float64"
      ]
     },
     "execution_count": 10,
     "metadata": {},
     "output_type": "execute_result"
    }
   ],
   "source": [
    "openbb.ta.rvol_std(df, window = 10, is_crypto = False)"
   ]
  },
  {
   "cell_type": "code",
   "execution_count": 11,
   "metadata": {},
   "outputs": [
    {
     "data": {
      "text/plain": [
       "date\n",
       "1993-02-12    0.109301\n",
       "1993-02-16    0.189717\n",
       "1993-02-17    0.188122\n",
       "1993-02-18    0.168917\n",
       "1993-02-19    0.167920\n",
       "                ...   \n",
       "2023-02-23    0.180877\n",
       "2023-02-24    0.184112\n",
       "2023-02-27    0.185397\n",
       "2023-02-28    0.158917\n",
       "2023-03-01    0.157081\n",
       "Name: Close, Length: 7566, dtype: float64"
      ]
     },
     "execution_count": 11,
     "metadata": {},
     "output_type": "execute_result"
    }
   ],
   "source": [
    "openbb.ta.rvol_std(df, window = 10, is_crypto = True)"
   ]
  },
  {
   "attachments": {},
   "cell_type": "markdown",
   "metadata": {},
   "source": [
    "The other models operate in exactly the same way. Let's examine the difference of output.\n",
    "\n",
    "### Parkinson Model\n",
    "\n",
    "Print the docstrings with: `help(openbb.ta.rvol_parkinson)`, or in a notebook: `openbb.ta.rvol_parkinson?`"
   ]
  },
  {
   "cell_type": "code",
   "execution_count": 12,
   "metadata": {},
   "outputs": [
    {
     "data": {
      "text/plain": [
       "date\n",
       "1993-03-12    0.100296\n",
       "1993-03-15    0.100382\n",
       "1993-03-16    0.099882\n",
       "1993-03-17    0.099987\n",
       "1993-03-18    0.098891\n",
       "                ...   \n",
       "2023-02-23    0.140126\n",
       "2023-02-24    0.139783\n",
       "2023-02-27    0.138628\n",
       "2023-02-28    0.136986\n",
       "2023-03-01    0.137063\n",
       "Length: 7547, dtype: float64"
      ]
     },
     "execution_count": 12,
     "metadata": {},
     "output_type": "execute_result"
    }
   ],
   "source": [
    "openbb.ta.rvol_parkinson(df)"
   ]
  },
  {
   "cell_type": "code",
   "execution_count": 13,
   "metadata": {},
   "outputs": [
    {
     "data": {
      "text/plain": [
       "date\n",
       "1993-03-12    0.120706\n",
       "1993-03-15    0.120810\n",
       "1993-03-16    0.120208\n",
       "1993-03-17    0.120335\n",
       "1993-03-18    0.119015\n",
       "                ...   \n",
       "2023-02-23    0.168642\n",
       "2023-02-24    0.168229\n",
       "2023-02-27    0.166839\n",
       "2023-02-28    0.164862\n",
       "2023-03-01    0.164955\n",
       "Length: 7547, dtype: float64"
      ]
     },
     "execution_count": 13,
     "metadata": {},
     "output_type": "execute_result"
    }
   ],
   "source": [
    "openbb.ta.rvol_parkinson(df, is_crypto = True)"
   ]
  },
  {
   "attachments": {},
   "cell_type": "markdown",
   "metadata": {},
   "source": [
    "### Hodges-Tompkins Model\n",
    "\n",
    "Print the docstrings with: `help(openbb.ta.rvol_hodges_tompkins)`, or in a notebook: `openbb.ta.rvol_hodges_tompkins?`"
   ]
  },
  {
   "cell_type": "code",
   "execution_count": 14,
   "metadata": {},
   "outputs": [
    {
     "data": {
      "text/plain": [
       "date\n",
       "1993-03-15    0.134255\n",
       "1993-03-16    0.133031\n",
       "1993-03-17    0.134510\n",
       "1993-03-18    0.132277\n",
       "1993-03-19    0.131878\n",
       "                ...   \n",
       "2023-02-23    0.164395\n",
       "2023-02-24    0.163831\n",
       "2023-02-27    0.163788\n",
       "2023-02-28    0.163729\n",
       "2023-03-01    0.164010\n",
       "Name: Close, Length: 7546, dtype: float64"
      ]
     },
     "execution_count": 14,
     "metadata": {},
     "output_type": "execute_result"
    }
   ],
   "source": [
    "openbb.ta.rvol_hodges_tompkins(df)"
   ]
  },
  {
   "cell_type": "code",
   "execution_count": 15,
   "metadata": {},
   "outputs": [
    {
     "data": {
      "text/plain": [
       "date\n",
       "1993-03-15    0.161576\n",
       "1993-03-16    0.160103\n",
       "1993-03-17    0.161882\n",
       "1993-03-18    0.159195\n",
       "1993-03-19    0.158715\n",
       "                ...   \n",
       "2023-02-23    0.197850\n",
       "2023-02-24    0.197171\n",
       "2023-02-27    0.197119\n",
       "2023-02-28    0.197047\n",
       "2023-03-01    0.197386\n",
       "Name: Close, Length: 7546, dtype: float64"
      ]
     },
     "execution_count": 15,
     "metadata": {},
     "output_type": "execute_result"
    }
   ],
   "source": [
    "openbb.ta.rvol_hodges_tompkins(df, is_crypto = True)"
   ]
  },
  {
   "attachments": {},
   "cell_type": "markdown",
   "metadata": {},
   "source": [
    "### Garman-Klass Model\n",
    "\n",
    "Print the docstrings with: `help(openbb.ta.rvol_garman_klass)`, or in a notebook: `openbb.ta.rvol_garman_klass?`\n"
   ]
  },
  {
   "cell_type": "code",
   "execution_count": 16,
   "metadata": {},
   "outputs": [
    {
     "data": {
      "text/plain": [
       "date\n",
       "1993-03-12    0.090442\n",
       "1993-03-15    0.090035\n",
       "1993-03-16    0.089996\n",
       "1993-03-17    0.089878\n",
       "1993-03-18    0.089616\n",
       "                ...   \n",
       "2023-02-23    0.139145\n",
       "2023-02-24    0.139412\n",
       "2023-02-27    0.137471\n",
       "2023-02-28    0.136908\n",
       "2023-03-01    0.137019\n",
       "Length: 7547, dtype: float64"
      ]
     },
     "execution_count": 16,
     "metadata": {},
     "output_type": "execute_result"
    }
   ],
   "source": [
    "openbb.ta.rvol_garman_klass(df)"
   ]
  },
  {
   "cell_type": "code",
   "execution_count": 17,
   "metadata": {},
   "outputs": [
    {
     "data": {
      "text/plain": [
       "date\n",
       "1993-03-12    0.108847\n",
       "1993-03-15    0.108357\n",
       "1993-03-16    0.108310\n",
       "1993-03-17    0.108169\n",
       "1993-03-18    0.107853\n",
       "                ...   \n",
       "2023-02-23    0.167462\n",
       "2023-02-24    0.167782\n",
       "2023-02-27    0.165446\n",
       "2023-02-28    0.164769\n",
       "2023-03-01    0.164902\n",
       "Length: 7547, dtype: float64"
      ]
     },
     "execution_count": 17,
     "metadata": {},
     "output_type": "execute_result"
    }
   ],
   "source": [
    "openbb.ta.rvol_garman_klass(df, is_crypto = True)"
   ]
  },
  {
   "attachments": {},
   "cell_type": "markdown",
   "metadata": {},
   "source": [
    "### Rogers-Satchell Model\n",
    "\n",
    "Print the docstrings with: `help(openbb.ta.rvol_rogers_satchell)`, or in a notebook: `openbb.ta.rvol_rogers_satchell?`"
   ]
  },
  {
   "cell_type": "code",
   "execution_count": 18,
   "metadata": {},
   "outputs": [
    {
     "data": {
      "text/plain": [
       "date\n",
       "1993-03-12    0.091722\n",
       "1993-03-15    0.090740\n",
       "1993-03-16    0.091090\n",
       "1993-03-17    0.090891\n",
       "1993-03-18    0.091437\n",
       "                ...   \n",
       "2023-02-23    0.139103\n",
       "2023-02-24    0.139611\n",
       "2023-02-27    0.136858\n",
       "2023-02-28    0.137157\n",
       "2023-03-01    0.137167\n",
       "Length: 7547, dtype: float64"
      ]
     },
     "execution_count": 18,
     "metadata": {},
     "output_type": "execute_result"
    }
   ],
   "source": [
    "openbb.ta.rvol_rogers_satchell(df)"
   ]
  },
  {
   "cell_type": "code",
   "execution_count": 19,
   "metadata": {},
   "outputs": [
    {
     "data": {
      "text/plain": [
       "date\n",
       "1993-03-12    0.110387\n",
       "1993-03-15    0.109205\n",
       "1993-03-16    0.109627\n",
       "1993-03-17    0.109387\n",
       "1993-03-18    0.110045\n",
       "                ...   \n",
       "2023-02-23    0.167410\n",
       "2023-02-24    0.168022\n",
       "2023-02-27    0.164709\n",
       "2023-02-28    0.165069\n",
       "2023-03-01    0.165080\n",
       "Length: 7547, dtype: float64"
      ]
     },
     "execution_count": 19,
     "metadata": {},
     "output_type": "execute_result"
    }
   ],
   "source": [
    "openbb.ta.rvol_rogers_satchell(df, is_crypto = True)"
   ]
  },
  {
   "attachments": {},
   "cell_type": "markdown",
   "metadata": {},
   "source": [
    "### Yang Zhang Model\n",
    "\n",
    "Print the docstrings with: `help(openbb.ta.rvol_yang_zhang)`, or in a notebook: `openbb.ta.rvol_yang_zhang?`"
   ]
  },
  {
   "cell_type": "code",
   "execution_count": 20,
   "metadata": {},
   "outputs": [
    {
     "data": {
      "text/plain": [
       "date\n",
       "1993-03-15    0.111297\n",
       "1993-03-16    0.111255\n",
       "1993-03-17    0.111354\n",
       "1993-03-18    0.111951\n",
       "1993-03-19    0.107311\n",
       "                ...   \n",
       "2023-02-23    0.177882\n",
       "2023-02-24    0.181844\n",
       "2023-02-27    0.181614\n",
       "2023-02-28    0.180134\n",
       "2023-03-01    0.180290\n",
       "Length: 7546, dtype: float64"
      ]
     },
     "execution_count": 20,
     "metadata": {},
     "output_type": "execute_result"
    }
   ],
   "source": [
    "openbb.ta.rvol_yang_zhang(df)"
   ]
  },
  {
   "cell_type": "code",
   "execution_count": 21,
   "metadata": {},
   "outputs": [
    {
     "data": {
      "text/plain": [
       "date\n",
       "1993-03-15    0.133946\n",
       "1993-03-16    0.133896\n",
       "1993-03-17    0.134015\n",
       "1993-03-18    0.134733\n",
       "1993-03-19    0.129149\n",
       "                ...   \n",
       "2023-02-23    0.214081\n",
       "2023-02-24    0.218849\n",
       "2023-02-27    0.218572\n",
       "2023-02-28    0.216791\n",
       "2023-03-01    0.216979\n",
       "Length: 7546, dtype: float64"
      ]
     },
     "execution_count": 21,
     "metadata": {},
     "output_type": "execute_result"
    }
   ],
   "source": [
    "openbb.ta.rvol_yang_zhang(df, is_crypto = True)"
   ]
  },
  {
   "attachments": {},
   "cell_type": "markdown",
   "metadata": {},
   "source": [
    "### Cones\n",
    "\n",
    "This function generates the realized volatility quantiles and returns a DataFrame which can be used for plotting the cones. There are two functions, one is for returning the DataFrame only, the other is for returning a chart.\n",
    "\n",
    "`openbb.ta.cones()`\n",
    "\n",
    "`openbb.ta.cones_chart()`\n",
    "\n",
    "For these functions, the lower and upper quantiles have been parameterized. Use the `lower_q` and `upper_q` arguments as a float between 0 and 1, representing the % value. The default model is \"STD\", `rvol_std`."
   ]
  },
  {
   "cell_type": "code",
   "execution_count": 22,
   "metadata": {},
   "outputs": [
    {
     "data": {
      "text/html": [
       "<div>\n",
       "<style scoped>\n",
       "    .dataframe tbody tr th:only-of-type {\n",
       "        vertical-align: middle;\n",
       "    }\n",
       "\n",
       "    .dataframe tbody tr th {\n",
       "        vertical-align: top;\n",
       "    }\n",
       "\n",
       "    .dataframe thead th {\n",
       "        text-align: right;\n",
       "    }\n",
       "</style>\n",
       "<table border=\"1\" class=\"dataframe\">\n",
       "  <thead>\n",
       "    <tr style=\"text-align: right;\">\n",
       "      <th></th>\n",
       "      <th>Realized</th>\n",
       "      <th>Min</th>\n",
       "      <th>Lower 25%</th>\n",
       "      <th>Median</th>\n",
       "      <th>Upper 75%</th>\n",
       "      <th>Max</th>\n",
       "    </tr>\n",
       "  </thead>\n",
       "  <tbody>\n",
       "    <tr>\n",
       "      <th>3</th>\n",
       "      <td>0.067043</td>\n",
       "      <td>0.000006</td>\n",
       "      <td>0.064333</td>\n",
       "      <td>0.112039</td>\n",
       "      <td>0.186044</td>\n",
       "      <td>1.919685</td>\n",
       "    </tr>\n",
       "    <tr>\n",
       "      <th>10</th>\n",
       "      <td>0.090819</td>\n",
       "      <td>0.020060</td>\n",
       "      <td>0.088644</td>\n",
       "      <td>0.133295</td>\n",
       "      <td>0.193938</td>\n",
       "      <td>1.130634</td>\n",
       "    </tr>\n",
       "    <tr>\n",
       "      <th>30</th>\n",
       "      <td>0.133722</td>\n",
       "      <td>0.035120</td>\n",
       "      <td>0.100796</td>\n",
       "      <td>0.136745</td>\n",
       "      <td>0.199695</td>\n",
       "      <td>0.864874</td>\n",
       "    </tr>\n",
       "    <tr>\n",
       "      <th>60</th>\n",
       "      <td>0.120574</td>\n",
       "      <td>0.049786</td>\n",
       "      <td>0.107396</td>\n",
       "      <td>0.141217</td>\n",
       "      <td>0.200625</td>\n",
       "      <td>0.755843</td>\n",
       "    </tr>\n",
       "    <tr>\n",
       "      <th>90</th>\n",
       "      <td>0.114353</td>\n",
       "      <td>0.054997</td>\n",
       "      <td>0.110069</td>\n",
       "      <td>0.141659</td>\n",
       "      <td>0.202718</td>\n",
       "      <td>0.646355</td>\n",
       "    </tr>\n",
       "    <tr>\n",
       "      <th>120</th>\n",
       "      <td>0.108222</td>\n",
       "      <td>0.062658</td>\n",
       "      <td>0.110613</td>\n",
       "      <td>0.143009</td>\n",
       "      <td>0.206155</td>\n",
       "      <td>0.590355</td>\n",
       "    </tr>\n",
       "    <tr>\n",
       "      <th>150</th>\n",
       "      <td>0.100044</td>\n",
       "      <td>0.064545</td>\n",
       "      <td>0.111775</td>\n",
       "      <td>0.149569</td>\n",
       "      <td>0.205815</td>\n",
       "      <td>0.560031</td>\n",
       "    </tr>\n",
       "    <tr>\n",
       "      <th>180</th>\n",
       "      <td>0.096711</td>\n",
       "      <td>0.066184</td>\n",
       "      <td>0.111435</td>\n",
       "      <td>0.151655</td>\n",
       "      <td>0.207663</td>\n",
       "      <td>0.522603</td>\n",
       "    </tr>\n",
       "    <tr>\n",
       "      <th>210</th>\n",
       "      <td>0.094264</td>\n",
       "      <td>0.067330</td>\n",
       "      <td>0.112798</td>\n",
       "      <td>0.155516</td>\n",
       "      <td>0.211390</td>\n",
       "      <td>0.490693</td>\n",
       "    </tr>\n",
       "    <tr>\n",
       "      <th>240</th>\n",
       "      <td>0.091158</td>\n",
       "      <td>0.067542</td>\n",
       "      <td>0.113281</td>\n",
       "      <td>0.154275</td>\n",
       "      <td>0.217639</td>\n",
       "      <td>0.464773</td>\n",
       "    </tr>\n",
       "    <tr>\n",
       "      <th>300</th>\n",
       "      <td>0.096604</td>\n",
       "      <td>0.068461</td>\n",
       "      <td>0.114588</td>\n",
       "      <td>0.159008</td>\n",
       "      <td>0.216674</td>\n",
       "      <td>0.424525</td>\n",
       "    </tr>\n",
       "    <tr>\n",
       "      <th>360</th>\n",
       "      <td>0.097728</td>\n",
       "      <td>0.075656</td>\n",
       "      <td>0.113879</td>\n",
       "      <td>0.156737</td>\n",
       "      <td>0.216782</td>\n",
       "      <td>0.396574</td>\n",
       "    </tr>\n",
       "  </tbody>\n",
       "</table>\n",
       "</div>"
      ],
      "text/plain": [
       "     Realized       Min  Lower 25%    Median  Upper 75%       Max\n",
       "3    0.067043  0.000006   0.064333  0.112039   0.186044  1.919685\n",
       "10   0.090819  0.020060   0.088644  0.133295   0.193938  1.130634\n",
       "30   0.133722  0.035120   0.100796  0.136745   0.199695  0.864874\n",
       "60   0.120574  0.049786   0.107396  0.141217   0.200625  0.755843\n",
       "90   0.114353  0.054997   0.110069  0.141659   0.202718  0.646355\n",
       "120  0.108222  0.062658   0.110613  0.143009   0.206155  0.590355\n",
       "150  0.100044  0.064545   0.111775  0.149569   0.205815  0.560031\n",
       "180  0.096711  0.066184   0.111435  0.151655   0.207663  0.522603\n",
       "210  0.094264  0.067330   0.112798  0.155516   0.211390  0.490693\n",
       "240  0.091158  0.067542   0.113281  0.154275   0.217639  0.464773\n",
       "300  0.096604  0.068461   0.114588  0.159008   0.216674  0.424525\n",
       "360  0.097728  0.075656   0.113879  0.156737   0.216782  0.396574"
      ]
     },
     "execution_count": 22,
     "metadata": {},
     "output_type": "execute_result"
    }
   ],
   "source": [
    "openbb.ta.cones(df)"
   ]
  },
  {
   "cell_type": "code",
   "execution_count": 23,
   "metadata": {},
   "outputs": [
    {
     "data": {
      "text/html": [
       "<div>\n",
       "<style scoped>\n",
       "    .dataframe tbody tr th:only-of-type {\n",
       "        vertical-align: middle;\n",
       "    }\n",
       "\n",
       "    .dataframe tbody tr th {\n",
       "        vertical-align: top;\n",
       "    }\n",
       "\n",
       "    .dataframe thead th {\n",
       "        text-align: right;\n",
       "    }\n",
       "</style>\n",
       "<table border=\"1\" class=\"dataframe\">\n",
       "  <thead>\n",
       "    <tr style=\"text-align: right;\">\n",
       "      <th></th>\n",
       "      <th>Realized</th>\n",
       "      <th>Min</th>\n",
       "      <th>Lower 5%</th>\n",
       "      <th>Median</th>\n",
       "      <th>Upper 95%</th>\n",
       "      <th>Max</th>\n",
       "    </tr>\n",
       "  </thead>\n",
       "  <tbody>\n",
       "    <tr>\n",
       "      <th>3</th>\n",
       "      <td>0.067043</td>\n",
       "      <td>0.000006</td>\n",
       "      <td>0.025215</td>\n",
       "      <td>0.112039</td>\n",
       "      <td>0.359641</td>\n",
       "      <td>1.919685</td>\n",
       "    </tr>\n",
       "    <tr>\n",
       "      <th>10</th>\n",
       "      <td>0.090819</td>\n",
       "      <td>0.020060</td>\n",
       "      <td>0.056333</td>\n",
       "      <td>0.133295</td>\n",
       "      <td>0.336777</td>\n",
       "      <td>1.130634</td>\n",
       "    </tr>\n",
       "    <tr>\n",
       "      <th>30</th>\n",
       "      <td>0.133722</td>\n",
       "      <td>0.035120</td>\n",
       "      <td>0.068478</td>\n",
       "      <td>0.136745</td>\n",
       "      <td>0.319203</td>\n",
       "      <td>0.864874</td>\n",
       "    </tr>\n",
       "    <tr>\n",
       "      <th>60</th>\n",
       "      <td>0.120574</td>\n",
       "      <td>0.049786</td>\n",
       "      <td>0.073048</td>\n",
       "      <td>0.141217</td>\n",
       "      <td>0.321400</td>\n",
       "      <td>0.755843</td>\n",
       "    </tr>\n",
       "    <tr>\n",
       "      <th>90</th>\n",
       "      <td>0.114353</td>\n",
       "      <td>0.054997</td>\n",
       "      <td>0.075902</td>\n",
       "      <td>0.141659</td>\n",
       "      <td>0.310874</td>\n",
       "      <td>0.646355</td>\n",
       "    </tr>\n",
       "    <tr>\n",
       "      <th>120</th>\n",
       "      <td>0.108222</td>\n",
       "      <td>0.062658</td>\n",
       "      <td>0.082487</td>\n",
       "      <td>0.143009</td>\n",
       "      <td>0.317047</td>\n",
       "      <td>0.590355</td>\n",
       "    </tr>\n",
       "    <tr>\n",
       "      <th>150</th>\n",
       "      <td>0.100044</td>\n",
       "      <td>0.064545</td>\n",
       "      <td>0.086182</td>\n",
       "      <td>0.149569</td>\n",
       "      <td>0.308319</td>\n",
       "      <td>0.560031</td>\n",
       "    </tr>\n",
       "    <tr>\n",
       "      <th>180</th>\n",
       "      <td>0.096711</td>\n",
       "      <td>0.066184</td>\n",
       "      <td>0.085933</td>\n",
       "      <td>0.151655</td>\n",
       "      <td>0.346286</td>\n",
       "      <td>0.522603</td>\n",
       "    </tr>\n",
       "    <tr>\n",
       "      <th>210</th>\n",
       "      <td>0.094264</td>\n",
       "      <td>0.067330</td>\n",
       "      <td>0.088785</td>\n",
       "      <td>0.155516</td>\n",
       "      <td>0.348805</td>\n",
       "      <td>0.490693</td>\n",
       "    </tr>\n",
       "    <tr>\n",
       "      <th>240</th>\n",
       "      <td>0.091158</td>\n",
       "      <td>0.067542</td>\n",
       "      <td>0.091366</td>\n",
       "      <td>0.154275</td>\n",
       "      <td>0.335777</td>\n",
       "      <td>0.464773</td>\n",
       "    </tr>\n",
       "    <tr>\n",
       "      <th>300</th>\n",
       "      <td>0.096604</td>\n",
       "      <td>0.068461</td>\n",
       "      <td>0.093240</td>\n",
       "      <td>0.159008</td>\n",
       "      <td>0.312977</td>\n",
       "      <td>0.424525</td>\n",
       "    </tr>\n",
       "    <tr>\n",
       "      <th>360</th>\n",
       "      <td>0.097728</td>\n",
       "      <td>0.075656</td>\n",
       "      <td>0.095703</td>\n",
       "      <td>0.156737</td>\n",
       "      <td>0.303835</td>\n",
       "      <td>0.396574</td>\n",
       "    </tr>\n",
       "  </tbody>\n",
       "</table>\n",
       "</div>"
      ],
      "text/plain": [
       "     Realized       Min  Lower 5%    Median  Upper 95%       Max\n",
       "3    0.067043  0.000006  0.025215  0.112039   0.359641  1.919685\n",
       "10   0.090819  0.020060  0.056333  0.133295   0.336777  1.130634\n",
       "30   0.133722  0.035120  0.068478  0.136745   0.319203  0.864874\n",
       "60   0.120574  0.049786  0.073048  0.141217   0.321400  0.755843\n",
       "90   0.114353  0.054997  0.075902  0.141659   0.310874  0.646355\n",
       "120  0.108222  0.062658  0.082487  0.143009   0.317047  0.590355\n",
       "150  0.100044  0.064545  0.086182  0.149569   0.308319  0.560031\n",
       "180  0.096711  0.066184  0.085933  0.151655   0.346286  0.522603\n",
       "210  0.094264  0.067330  0.088785  0.155516   0.348805  0.490693\n",
       "240  0.091158  0.067542  0.091366  0.154275   0.335777  0.464773\n",
       "300  0.096604  0.068461  0.093240  0.159008   0.312977  0.424525\n",
       "360  0.097728  0.075656  0.095703  0.156737   0.303835  0.396574"
      ]
     },
     "execution_count": 23,
     "metadata": {},
     "output_type": "execute_result"
    }
   ],
   "source": [
    "openbb.ta.cones(df, lower_q = 0.05, upper_q = 0.95)"
   ]
  },
  {
   "attachments": {},
   "cell_type": "markdown",
   "metadata": {},
   "source": [
    "Sanity checks are in place to ensure that lower and upper are always labeled correctly."
   ]
  },
  {
   "cell_type": "code",
   "execution_count": 24,
   "metadata": {},
   "outputs": [
    {
     "data": {
      "text/html": [
       "<div>\n",
       "<style scoped>\n",
       "    .dataframe tbody tr th:only-of-type {\n",
       "        vertical-align: middle;\n",
       "    }\n",
       "\n",
       "    .dataframe tbody tr th {\n",
       "        vertical-align: top;\n",
       "    }\n",
       "\n",
       "    .dataframe thead th {\n",
       "        text-align: right;\n",
       "    }\n",
       "</style>\n",
       "<table border=\"1\" class=\"dataframe\">\n",
       "  <thead>\n",
       "    <tr style=\"text-align: right;\">\n",
       "      <th></th>\n",
       "      <th>Realized</th>\n",
       "      <th>Min</th>\n",
       "      <th>Lower 75%</th>\n",
       "      <th>Median</th>\n",
       "      <th>Upper 95%</th>\n",
       "      <th>Max</th>\n",
       "    </tr>\n",
       "  </thead>\n",
       "  <tbody>\n",
       "    <tr>\n",
       "      <th>3</th>\n",
       "      <td>0.067043</td>\n",
       "      <td>0.000006</td>\n",
       "      <td>0.186044</td>\n",
       "      <td>0.112039</td>\n",
       "      <td>0.359641</td>\n",
       "      <td>1.919685</td>\n",
       "    </tr>\n",
       "    <tr>\n",
       "      <th>10</th>\n",
       "      <td>0.090819</td>\n",
       "      <td>0.020060</td>\n",
       "      <td>0.193938</td>\n",
       "      <td>0.133295</td>\n",
       "      <td>0.336777</td>\n",
       "      <td>1.130634</td>\n",
       "    </tr>\n",
       "    <tr>\n",
       "      <th>30</th>\n",
       "      <td>0.133722</td>\n",
       "      <td>0.035120</td>\n",
       "      <td>0.199695</td>\n",
       "      <td>0.136745</td>\n",
       "      <td>0.319203</td>\n",
       "      <td>0.864874</td>\n",
       "    </tr>\n",
       "    <tr>\n",
       "      <th>60</th>\n",
       "      <td>0.120574</td>\n",
       "      <td>0.049786</td>\n",
       "      <td>0.200625</td>\n",
       "      <td>0.141217</td>\n",
       "      <td>0.321400</td>\n",
       "      <td>0.755843</td>\n",
       "    </tr>\n",
       "    <tr>\n",
       "      <th>90</th>\n",
       "      <td>0.114353</td>\n",
       "      <td>0.054997</td>\n",
       "      <td>0.202718</td>\n",
       "      <td>0.141659</td>\n",
       "      <td>0.310874</td>\n",
       "      <td>0.646355</td>\n",
       "    </tr>\n",
       "    <tr>\n",
       "      <th>120</th>\n",
       "      <td>0.108222</td>\n",
       "      <td>0.062658</td>\n",
       "      <td>0.206155</td>\n",
       "      <td>0.143009</td>\n",
       "      <td>0.317047</td>\n",
       "      <td>0.590355</td>\n",
       "    </tr>\n",
       "    <tr>\n",
       "      <th>150</th>\n",
       "      <td>0.100044</td>\n",
       "      <td>0.064545</td>\n",
       "      <td>0.205815</td>\n",
       "      <td>0.149569</td>\n",
       "      <td>0.308319</td>\n",
       "      <td>0.560031</td>\n",
       "    </tr>\n",
       "    <tr>\n",
       "      <th>180</th>\n",
       "      <td>0.096711</td>\n",
       "      <td>0.066184</td>\n",
       "      <td>0.207663</td>\n",
       "      <td>0.151655</td>\n",
       "      <td>0.346286</td>\n",
       "      <td>0.522603</td>\n",
       "    </tr>\n",
       "    <tr>\n",
       "      <th>210</th>\n",
       "      <td>0.094264</td>\n",
       "      <td>0.067330</td>\n",
       "      <td>0.211390</td>\n",
       "      <td>0.155516</td>\n",
       "      <td>0.348805</td>\n",
       "      <td>0.490693</td>\n",
       "    </tr>\n",
       "    <tr>\n",
       "      <th>240</th>\n",
       "      <td>0.091158</td>\n",
       "      <td>0.067542</td>\n",
       "      <td>0.217639</td>\n",
       "      <td>0.154275</td>\n",
       "      <td>0.335777</td>\n",
       "      <td>0.464773</td>\n",
       "    </tr>\n",
       "    <tr>\n",
       "      <th>300</th>\n",
       "      <td>0.096604</td>\n",
       "      <td>0.068461</td>\n",
       "      <td>0.216674</td>\n",
       "      <td>0.159008</td>\n",
       "      <td>0.312977</td>\n",
       "      <td>0.424525</td>\n",
       "    </tr>\n",
       "    <tr>\n",
       "      <th>360</th>\n",
       "      <td>0.097728</td>\n",
       "      <td>0.075656</td>\n",
       "      <td>0.216782</td>\n",
       "      <td>0.156737</td>\n",
       "      <td>0.303835</td>\n",
       "      <td>0.396574</td>\n",
       "    </tr>\n",
       "  </tbody>\n",
       "</table>\n",
       "</div>"
      ],
      "text/plain": [
       "     Realized       Min  Lower 75%    Median  Upper 95%       Max\n",
       "3    0.067043  0.000006   0.186044  0.112039   0.359641  1.919685\n",
       "10   0.090819  0.020060   0.193938  0.133295   0.336777  1.130634\n",
       "30   0.133722  0.035120   0.199695  0.136745   0.319203  0.864874\n",
       "60   0.120574  0.049786   0.200625  0.141217   0.321400  0.755843\n",
       "90   0.114353  0.054997   0.202718  0.141659   0.310874  0.646355\n",
       "120  0.108222  0.062658   0.206155  0.143009   0.317047  0.590355\n",
       "150  0.100044  0.064545   0.205815  0.149569   0.308319  0.560031\n",
       "180  0.096711  0.066184   0.207663  0.151655   0.346286  0.522603\n",
       "210  0.094264  0.067330   0.211390  0.155516   0.348805  0.490693\n",
       "240  0.091158  0.067542   0.217639  0.154275   0.335777  0.464773\n",
       "300  0.096604  0.068461   0.216674  0.159008   0.312977  0.424525\n",
       "360  0.097728  0.075656   0.216782  0.156737   0.303835  0.396574"
      ]
     },
     "execution_count": 24,
     "metadata": {},
     "output_type": "execute_result"
    }
   ],
   "source": [
    "openbb.ta.cones(df, lower_q = 0.95)"
   ]
  },
  {
   "attachments": {},
   "cell_type": "markdown",
   "metadata": {},
   "source": [
    "Use the `model` argument to select one of the other models."
   ]
  },
  {
   "cell_type": "code",
   "execution_count": 25,
   "metadata": {},
   "outputs": [
    {
     "data": {
      "text/html": [
       "<div>\n",
       "<style scoped>\n",
       "    .dataframe tbody tr th:only-of-type {\n",
       "        vertical-align: middle;\n",
       "    }\n",
       "\n",
       "    .dataframe tbody tr th {\n",
       "        vertical-align: top;\n",
       "    }\n",
       "\n",
       "    .dataframe thead th {\n",
       "        text-align: right;\n",
       "    }\n",
       "</style>\n",
       "<table border=\"1\" class=\"dataframe\">\n",
       "  <thead>\n",
       "    <tr style=\"text-align: right;\">\n",
       "      <th></th>\n",
       "      <th>Realized</th>\n",
       "      <th>Min</th>\n",
       "      <th>Lower 25%</th>\n",
       "      <th>Median</th>\n",
       "      <th>Upper 75%</th>\n",
       "      <th>Max</th>\n",
       "    </tr>\n",
       "  </thead>\n",
       "  <tbody>\n",
       "    <tr>\n",
       "      <th>3</th>\n",
       "      <td>0.206471</td>\n",
       "      <td>0.036251</td>\n",
       "      <td>0.157265</td>\n",
       "      <td>0.234954</td>\n",
       "      <td>0.357559</td>\n",
       "      <td>2.901305</td>\n",
       "    </tr>\n",
       "    <tr>\n",
       "      <th>10</th>\n",
       "      <td>0.156358</td>\n",
       "      <td>0.041592</td>\n",
       "      <td>0.151348</td>\n",
       "      <td>0.217878</td>\n",
       "      <td>0.315162</td>\n",
       "      <td>1.852407</td>\n",
       "    </tr>\n",
       "    <tr>\n",
       "      <th>30</th>\n",
       "      <td>0.209219</td>\n",
       "      <td>0.069354</td>\n",
       "      <td>0.159104</td>\n",
       "      <td>0.215974</td>\n",
       "      <td>0.311320</td>\n",
       "      <td>1.317697</td>\n",
       "    </tr>\n",
       "    <tr>\n",
       "      <th>60</th>\n",
       "      <td>0.181869</td>\n",
       "      <td>0.080218</td>\n",
       "      <td>0.166005</td>\n",
       "      <td>0.220253</td>\n",
       "      <td>0.313193</td>\n",
       "      <td>1.135741</td>\n",
       "    </tr>\n",
       "    <tr>\n",
       "      <th>90</th>\n",
       "      <td>0.172319</td>\n",
       "      <td>0.091529</td>\n",
       "      <td>0.170029</td>\n",
       "      <td>0.220638</td>\n",
       "      <td>0.317362</td>\n",
       "      <td>0.976418</td>\n",
       "    </tr>\n",
       "    <tr>\n",
       "      <th>120</th>\n",
       "      <td>0.161436</td>\n",
       "      <td>0.096184</td>\n",
       "      <td>0.170757</td>\n",
       "      <td>0.222521</td>\n",
       "      <td>0.326031</td>\n",
       "      <td>0.906004</td>\n",
       "    </tr>\n",
       "    <tr>\n",
       "      <th>150</th>\n",
       "      <td>0.150721</td>\n",
       "      <td>0.098014</td>\n",
       "      <td>0.174171</td>\n",
       "      <td>0.230173</td>\n",
       "      <td>0.329608</td>\n",
       "      <td>0.847694</td>\n",
       "    </tr>\n",
       "    <tr>\n",
       "      <th>180</th>\n",
       "      <td>0.148022</td>\n",
       "      <td>0.101195</td>\n",
       "      <td>0.174734</td>\n",
       "      <td>0.232416</td>\n",
       "      <td>0.329970</td>\n",
       "      <td>0.789501</td>\n",
       "    </tr>\n",
       "    <tr>\n",
       "      <th>210</th>\n",
       "      <td>0.145172</td>\n",
       "      <td>0.103581</td>\n",
       "      <td>0.176755</td>\n",
       "      <td>0.241554</td>\n",
       "      <td>0.332302</td>\n",
       "      <td>0.741163</td>\n",
       "    </tr>\n",
       "    <tr>\n",
       "      <th>240</th>\n",
       "      <td>0.140835</td>\n",
       "      <td>0.103185</td>\n",
       "      <td>0.178178</td>\n",
       "      <td>0.240763</td>\n",
       "      <td>0.338379</td>\n",
       "      <td>0.702874</td>\n",
       "    </tr>\n",
       "    <tr>\n",
       "      <th>300</th>\n",
       "      <td>0.151419</td>\n",
       "      <td>0.106764</td>\n",
       "      <td>0.178362</td>\n",
       "      <td>0.241210</td>\n",
       "      <td>0.339872</td>\n",
       "      <td>0.643042</td>\n",
       "    </tr>\n",
       "    <tr>\n",
       "      <th>360</th>\n",
       "      <td>0.151974</td>\n",
       "      <td>0.116075</td>\n",
       "      <td>0.178530</td>\n",
       "      <td>0.246161</td>\n",
       "      <td>0.344344</td>\n",
       "      <td>0.605023</td>\n",
       "    </tr>\n",
       "  </tbody>\n",
       "</table>\n",
       "</div>"
      ],
      "text/plain": [
       "     Realized       Min  Lower 25%    Median  Upper 75%       Max\n",
       "3    0.206471  0.036251   0.157265  0.234954   0.357559  2.901305\n",
       "10   0.156358  0.041592   0.151348  0.217878   0.315162  1.852407\n",
       "30   0.209219  0.069354   0.159104  0.215974   0.311320  1.317697\n",
       "60   0.181869  0.080218   0.166005  0.220253   0.313193  1.135741\n",
       "90   0.172319  0.091529   0.170029  0.220638   0.317362  0.976418\n",
       "120  0.161436  0.096184   0.170757  0.222521   0.326031  0.906004\n",
       "150  0.150721  0.098014   0.174171  0.230173   0.329608  0.847694\n",
       "180  0.148022  0.101195   0.174734  0.232416   0.329970  0.789501\n",
       "210  0.145172  0.103581   0.176755  0.241554   0.332302  0.741163\n",
       "240  0.140835  0.103185   0.178178  0.240763   0.338379  0.702874\n",
       "300  0.151419  0.106764   0.178362  0.241210   0.339872  0.643042\n",
       "360  0.151974  0.116075   0.178530  0.246161   0.344344  0.605023"
      ]
     },
     "execution_count": 25,
     "metadata": {},
     "output_type": "execute_result"
    }
   ],
   "source": [
    "openbb.ta.cones(df, model = 'Yang-Zhang')"
   ]
  },
  {
   "cell_type": "code",
   "execution_count": 26,
   "metadata": {},
   "outputs": [
    {
     "data": {
      "text/html": [
       "<div>\n",
       "<style scoped>\n",
       "    .dataframe tbody tr th:only-of-type {\n",
       "        vertical-align: middle;\n",
       "    }\n",
       "\n",
       "    .dataframe tbody tr th {\n",
       "        vertical-align: top;\n",
       "    }\n",
       "\n",
       "    .dataframe thead th {\n",
       "        text-align: right;\n",
       "    }\n",
       "</style>\n",
       "<table border=\"1\" class=\"dataframe\">\n",
       "  <thead>\n",
       "    <tr style=\"text-align: right;\">\n",
       "      <th></th>\n",
       "      <th>Realized</th>\n",
       "      <th>Min</th>\n",
       "      <th>Lower 25%</th>\n",
       "      <th>Median</th>\n",
       "      <th>Upper 75%</th>\n",
       "      <th>Max</th>\n",
       "    </tr>\n",
       "  </thead>\n",
       "  <tbody>\n",
       "    <tr>\n",
       "      <th>3</th>\n",
       "      <td>0.053685</td>\n",
       "      <td>0.015730</td>\n",
       "      <td>0.075322</td>\n",
       "      <td>0.108376</td>\n",
       "      <td>0.158615</td>\n",
       "      <td>1.103625</td>\n",
       "    </tr>\n",
       "    <tr>\n",
       "      <th>10</th>\n",
       "      <td>0.085904</td>\n",
       "      <td>0.031829</td>\n",
       "      <td>0.081169</td>\n",
       "      <td>0.114898</td>\n",
       "      <td>0.162183</td>\n",
       "      <td>0.903857</td>\n",
       "    </tr>\n",
       "    <tr>\n",
       "      <th>30</th>\n",
       "      <td>0.091722</td>\n",
       "      <td>0.037450</td>\n",
       "      <td>0.085686</td>\n",
       "      <td>0.118897</td>\n",
       "      <td>0.166663</td>\n",
       "      <td>0.738473</td>\n",
       "    </tr>\n",
       "    <tr>\n",
       "      <th>60</th>\n",
       "      <td>0.085163</td>\n",
       "      <td>0.047437</td>\n",
       "      <td>0.089457</td>\n",
       "      <td>0.123129</td>\n",
       "      <td>0.170202</td>\n",
       "      <td>0.628890</td>\n",
       "    </tr>\n",
       "    <tr>\n",
       "      <th>90</th>\n",
       "      <td>0.082095</td>\n",
       "      <td>0.051270</td>\n",
       "      <td>0.093153</td>\n",
       "      <td>0.127249</td>\n",
       "      <td>0.173387</td>\n",
       "      <td>0.560099</td>\n",
       "    </tr>\n",
       "    <tr>\n",
       "      <th>120</th>\n",
       "      <td>0.076862</td>\n",
       "      <td>0.053294</td>\n",
       "      <td>0.093904</td>\n",
       "      <td>0.129005</td>\n",
       "      <td>0.177764</td>\n",
       "      <td>0.523743</td>\n",
       "    </tr>\n",
       "    <tr>\n",
       "      <th>150</th>\n",
       "      <td>0.072831</td>\n",
       "      <td>0.053766</td>\n",
       "      <td>0.095072</td>\n",
       "      <td>0.130974</td>\n",
       "      <td>0.179780</td>\n",
       "      <td>0.487082</td>\n",
       "    </tr>\n",
       "    <tr>\n",
       "      <th>180</th>\n",
       "      <td>0.072897</td>\n",
       "      <td>0.056494</td>\n",
       "      <td>0.095299</td>\n",
       "      <td>0.130210</td>\n",
       "      <td>0.181662</td>\n",
       "      <td>0.453949</td>\n",
       "    </tr>\n",
       "    <tr>\n",
       "      <th>210</th>\n",
       "      <td>0.072318</td>\n",
       "      <td>0.057753</td>\n",
       "      <td>0.096131</td>\n",
       "      <td>0.131152</td>\n",
       "      <td>0.180866</td>\n",
       "      <td>0.426170</td>\n",
       "    </tr>\n",
       "    <tr>\n",
       "      <th>240</th>\n",
       "      <td>0.069716</td>\n",
       "      <td>0.058269</td>\n",
       "      <td>0.097452</td>\n",
       "      <td>0.132680</td>\n",
       "      <td>0.184866</td>\n",
       "      <td>0.403736</td>\n",
       "    </tr>\n",
       "    <tr>\n",
       "      <th>300</th>\n",
       "      <td>0.073537</td>\n",
       "      <td>0.059851</td>\n",
       "      <td>0.097204</td>\n",
       "      <td>0.134771</td>\n",
       "      <td>0.184545</td>\n",
       "      <td>0.368703</td>\n",
       "    </tr>\n",
       "    <tr>\n",
       "      <th>360</th>\n",
       "      <td>0.076664</td>\n",
       "      <td>0.063863</td>\n",
       "      <td>0.098006</td>\n",
       "      <td>0.136898</td>\n",
       "      <td>0.190196</td>\n",
       "      <td>0.345486</td>\n",
       "    </tr>\n",
       "  </tbody>\n",
       "</table>\n",
       "</div>"
      ],
      "text/plain": [
       "     Realized       Min  Lower 25%    Median  Upper 75%       Max\n",
       "3    0.053685  0.015730   0.075322  0.108376   0.158615  1.103625\n",
       "10   0.085904  0.031829   0.081169  0.114898   0.162183  0.903857\n",
       "30   0.091722  0.037450   0.085686  0.118897   0.166663  0.738473\n",
       "60   0.085163  0.047437   0.089457  0.123129   0.170202  0.628890\n",
       "90   0.082095  0.051270   0.093153  0.127249   0.173387  0.560099\n",
       "120  0.076862  0.053294   0.093904  0.129005   0.177764  0.523743\n",
       "150  0.072831  0.053766   0.095072  0.130974   0.179780  0.487082\n",
       "180  0.072897  0.056494   0.095299  0.130210   0.181662  0.453949\n",
       "210  0.072318  0.057753   0.096131  0.131152   0.180866  0.426170\n",
       "240  0.069716  0.058269   0.097452  0.132680   0.184866  0.403736\n",
       "300  0.073537  0.059851   0.097204  0.134771   0.184545  0.368703\n",
       "360  0.076664  0.063863   0.098006  0.136898   0.190196  0.345486"
      ]
     },
     "execution_count": 26,
     "metadata": {},
     "output_type": "execute_result"
    }
   ],
   "source": [
    "openbb.ta.cones(df, model = 'Rogers-Satchell')"
   ]
  },
  {
   "cell_type": "code",
   "execution_count": 27,
   "metadata": {},
   "outputs": [
    {
     "data": {
      "text/html": [
       "<div>\n",
       "<style scoped>\n",
       "    .dataframe tbody tr th:only-of-type {\n",
       "        vertical-align: middle;\n",
       "    }\n",
       "\n",
       "    .dataframe tbody tr th {\n",
       "        vertical-align: top;\n",
       "    }\n",
       "\n",
       "    .dataframe thead th {\n",
       "        text-align: right;\n",
       "    }\n",
       "</style>\n",
       "<table border=\"1\" class=\"dataframe\">\n",
       "  <thead>\n",
       "    <tr style=\"text-align: right;\">\n",
       "      <th></th>\n",
       "      <th>Realized</th>\n",
       "      <th>Min</th>\n",
       "      <th>Lower 25%</th>\n",
       "      <th>Median</th>\n",
       "      <th>Upper 75%</th>\n",
       "      <th>Max</th>\n",
       "    </tr>\n",
       "  </thead>\n",
       "  <tbody>\n",
       "    <tr>\n",
       "      <th>3</th>\n",
       "      <td>0.049987</td>\n",
       "      <td>0.020195</td>\n",
       "      <td>0.076025</td>\n",
       "      <td>0.109588</td>\n",
       "      <td>0.158962</td>\n",
       "      <td>1.088747</td>\n",
       "    </tr>\n",
       "    <tr>\n",
       "      <th>10</th>\n",
       "      <td>0.077443</td>\n",
       "      <td>0.032200</td>\n",
       "      <td>0.081046</td>\n",
       "      <td>0.114242</td>\n",
       "      <td>0.162938</td>\n",
       "      <td>0.866488</td>\n",
       "    </tr>\n",
       "    <tr>\n",
       "      <th>30</th>\n",
       "      <td>0.090442</td>\n",
       "      <td>0.036694</td>\n",
       "      <td>0.085748</td>\n",
       "      <td>0.117400</td>\n",
       "      <td>0.166318</td>\n",
       "      <td>0.711636</td>\n",
       "    </tr>\n",
       "    <tr>\n",
       "      <th>60</th>\n",
       "      <td>0.083531</td>\n",
       "      <td>0.045660</td>\n",
       "      <td>0.089171</td>\n",
       "      <td>0.122055</td>\n",
       "      <td>0.170629</td>\n",
       "      <td>0.616402</td>\n",
       "    </tr>\n",
       "    <tr>\n",
       "      <th>90</th>\n",
       "      <td>0.080789</td>\n",
       "      <td>0.049871</td>\n",
       "      <td>0.092190</td>\n",
       "      <td>0.124921</td>\n",
       "      <td>0.174570</td>\n",
       "      <td>0.542882</td>\n",
       "    </tr>\n",
       "    <tr>\n",
       "      <th>120</th>\n",
       "      <td>0.075991</td>\n",
       "      <td>0.052002</td>\n",
       "      <td>0.093179</td>\n",
       "      <td>0.127119</td>\n",
       "      <td>0.178403</td>\n",
       "      <td>0.508204</td>\n",
       "    </tr>\n",
       "    <tr>\n",
       "      <th>150</th>\n",
       "      <td>0.072065</td>\n",
       "      <td>0.052709</td>\n",
       "      <td>0.094585</td>\n",
       "      <td>0.129181</td>\n",
       "      <td>0.179918</td>\n",
       "      <td>0.474018</td>\n",
       "    </tr>\n",
       "    <tr>\n",
       "      <th>180</th>\n",
       "      <td>0.071635</td>\n",
       "      <td>0.054395</td>\n",
       "      <td>0.094829</td>\n",
       "      <td>0.128652</td>\n",
       "      <td>0.178974</td>\n",
       "      <td>0.441896</td>\n",
       "    </tr>\n",
       "    <tr>\n",
       "      <th>210</th>\n",
       "      <td>0.071099</td>\n",
       "      <td>0.056442</td>\n",
       "      <td>0.095776</td>\n",
       "      <td>0.131197</td>\n",
       "      <td>0.181160</td>\n",
       "      <td>0.415168</td>\n",
       "    </tr>\n",
       "    <tr>\n",
       "      <th>240</th>\n",
       "      <td>0.068787</td>\n",
       "      <td>0.056761</td>\n",
       "      <td>0.096860</td>\n",
       "      <td>0.132072</td>\n",
       "      <td>0.181550</td>\n",
       "      <td>0.394028</td>\n",
       "    </tr>\n",
       "    <tr>\n",
       "      <th>300</th>\n",
       "      <td>0.072504</td>\n",
       "      <td>0.058295</td>\n",
       "      <td>0.097638</td>\n",
       "      <td>0.133456</td>\n",
       "      <td>0.183433</td>\n",
       "      <td>0.359853</td>\n",
       "    </tr>\n",
       "    <tr>\n",
       "      <th>360</th>\n",
       "      <td>0.075775</td>\n",
       "      <td>0.063257</td>\n",
       "      <td>0.097612</td>\n",
       "      <td>0.136072</td>\n",
       "      <td>0.190460</td>\n",
       "      <td>0.338567</td>\n",
       "    </tr>\n",
       "  </tbody>\n",
       "</table>\n",
       "</div>"
      ],
      "text/plain": [
       "     Realized       Min  Lower 25%    Median  Upper 75%       Max\n",
       "3    0.049987  0.020195   0.076025  0.109588   0.158962  1.088747\n",
       "10   0.077443  0.032200   0.081046  0.114242   0.162938  0.866488\n",
       "30   0.090442  0.036694   0.085748  0.117400   0.166318  0.711636\n",
       "60   0.083531  0.045660   0.089171  0.122055   0.170629  0.616402\n",
       "90   0.080789  0.049871   0.092190  0.124921   0.174570  0.542882\n",
       "120  0.075991  0.052002   0.093179  0.127119   0.178403  0.508204\n",
       "150  0.072065  0.052709   0.094585  0.129181   0.179918  0.474018\n",
       "180  0.071635  0.054395   0.094829  0.128652   0.178974  0.441896\n",
       "210  0.071099  0.056442   0.095776  0.131197   0.181160  0.415168\n",
       "240  0.068787  0.056761   0.096860  0.132072   0.181550  0.394028\n",
       "300  0.072504  0.058295   0.097638  0.133456   0.183433  0.359853\n",
       "360  0.075775  0.063257   0.097612  0.136072   0.190460  0.338567"
      ]
     },
     "execution_count": 27,
     "metadata": {},
     "output_type": "execute_result"
    }
   ],
   "source": [
    "openbb.ta.cones(df, model = 'Garman-Klass')"
   ]
  },
  {
   "attachments": {},
   "cell_type": "markdown",
   "metadata": {},
   "source": [
    "### Chart the Realized Volatility Cones\n",
    "\n",
    "Apply the same syntax to, `openbb.ta.cones_chart()`, to visualize the output."
   ]
  },
  {
   "cell_type": "code",
   "execution_count": 28,
   "metadata": {},
   "outputs": [
    {
     "data": {
      "application/vnd.plotly.v1+json": {
       "config": {
        "displaylogo": false,
        "plotlyServerURL": "https://plot.ly",
        "scrollZoom": true
       },
       "data": [
        {
         "name": "Min",
         "type": "scatter",
         "x": [
          3,
          10,
          30,
          60,
          90,
          120,
          150,
          180,
          210,
          240,
          300,
          360
         ],
         "y": [
          0.0000064640846239373295,
          0.020059678684214623,
          0.03511966746585866,
          0.04978600239198891,
          0.05499737866722714,
          0.06265796671692442,
          0.06454461910047203,
          0.0661842594452602,
          0.06732964332077816,
          0.06754181647251005,
          0.06846113959180962,
          0.075655694725112
         ]
        },
        {
         "name": "Max",
         "type": "scatter",
         "x": [
          3,
          10,
          30,
          60,
          90,
          120,
          150,
          180,
          210,
          240,
          300,
          360
         ],
         "y": [
          1.9196848322232332,
          1.1306336837464668,
          0.8648737491077065,
          0.7558425990336034,
          0.6463554224458155,
          0.59035522351565,
          0.5600312432918501,
          0.5226029017515992,
          0.4906925098585706,
          0.46477347844581757,
          0.4245245313906252,
          0.3965744123962553
         ]
        },
        {
         "name": "Median",
         "type": "scatter",
         "x": [
          3,
          10,
          30,
          60,
          90,
          120,
          150,
          180,
          210,
          240,
          300,
          360
         ],
         "y": [
          0.11203893080373185,
          0.1332948167166932,
          0.13674491091687827,
          0.14121695777084126,
          0.14165939569354236,
          0.14300908729731437,
          0.14956936481269495,
          0.151655029525222,
          0.15551644026241312,
          0.15427504598333885,
          0.1590083299449949,
          0.1567371169220586
         ]
        },
        {
         "name": "Upper 75%",
         "type": "scatter",
         "x": [
          3,
          10,
          30,
          60,
          90,
          120,
          150,
          180,
          210,
          240,
          300,
          360
         ],
         "y": [
          0.1860437201509448,
          0.19393764110073347,
          0.19969549002139583,
          0.20062456468774234,
          0.20271797165690655,
          0.20615485665528768,
          0.2058149274434452,
          0.20766288121553658,
          0.21139030193549377,
          0.21763942138357112,
          0.21667432361879677,
          0.21678178291557718
         ]
        },
        {
         "name": "Lower 25%",
         "type": "scatter",
         "x": [
          3,
          10,
          30,
          60,
          90,
          120,
          150,
          180,
          210,
          240,
          300,
          360
         ],
         "y": [
          0.06433264927571872,
          0.08864426893386812,
          0.10079624761457699,
          0.10739613362815373,
          0.11006879021032934,
          0.11061286993422667,
          0.11177457225292922,
          0.11143454506728068,
          0.11279790551948175,
          0.11328061766223112,
          0.11458802438800769,
          0.11387923336626951
         ]
        },
        {
         "name": "Realized",
         "type": "scatter",
         "x": [
          3,
          10,
          30,
          60,
          90,
          120,
          150,
          180,
          210,
          240,
          300,
          360
         ],
         "y": [
          0.06704321571977884,
          0.09081937079786602,
          0.1337216640582483,
          0.12057430720051107,
          0.11435310677567123,
          0.10822245884722756,
          0.10004447788185268,
          0.09671071547282352,
          0.09426413674164295,
          0.09115827639901176,
          0.09660417161823893,
          0.09772841654096485
         ]
        }
       ],
       "layout": {
        "bargap": 0,
        "bargroupgap": 0,
        "barmode": "overlay",
        "legend": {
         "groupclick": "toggleitem",
         "orientation": "v",
         "tracegroupgap": 133.33333333333334,
         "x": 1,
         "xanchor": "right",
         "y": 1,
         "yanchor": "top"
        },
        "margin": {
         "b": 80,
         "l": 40,
         "r": 50,
         "t": 40
        },
        "modebar": {
         "activecolor": "#d1030d",
         "bgcolor": "#2A2A2A",
         "color": "#FFFFFF",
         "orientation": "v"
        },
        "newshape": {
         "line": {
          "color": "gold"
         }
        },
        "template": {
         "data": {
          "bar": [
           {
            "error_x": {
             "color": "#f2f5fa"
            },
            "error_y": {
             "color": "#f2f5fa"
            },
            "marker": {
             "line": {
              "color": "rgb(17,17,17)",
              "width": 0.5
             },
             "pattern": {
              "fillmode": "overlay",
              "size": 10,
              "solidity": 0.2
             }
            },
            "type": "bar"
           }
          ],
          "barpolar": [
           {
            "marker": {
             "line": {
              "color": "rgb(17,17,17)",
              "width": 0.5
             },
             "pattern": {
              "fillmode": "overlay",
              "size": 10,
              "solidity": 0.2
             }
            },
            "type": "barpolar"
           }
          ],
          "candlestick": [
           {
            "decreasing": {
             "fillcolor": "#e4003a",
             "line": {
              "color": "#e4003a"
             }
            },
            "increasing": {
             "fillcolor": "#00ACFF",
             "line": {
              "color": "#00ACFF"
             }
            },
            "type": "candlestick"
           }
          ],
          "carpet": [
           {
            "aaxis": {
             "endlinecolor": "#A2B1C6",
             "gridcolor": "#506784",
             "linecolor": "#506784",
             "minorgridcolor": "#506784",
             "startlinecolor": "#A2B1C6"
            },
            "baxis": {
             "endlinecolor": "#A2B1C6",
             "gridcolor": "#506784",
             "linecolor": "#506784",
             "minorgridcolor": "#506784",
             "startlinecolor": "#A2B1C6"
            },
            "type": "carpet"
           }
          ],
          "choropleth": [
           {
            "colorbar": {
             "outlinewidth": 0,
             "ticks": ""
            },
            "type": "choropleth"
           }
          ],
          "contour": [
           {
            "colorbar": {
             "outlinewidth": 0,
             "ticks": ""
            },
            "colorscale": [
             [
              0,
              "#0d0887"
             ],
             [
              0.1111111111111111,
              "#46039f"
             ],
             [
              0.2222222222222222,
              "#7201a8"
             ],
             [
              0.3333333333333333,
              "#9c179e"
             ],
             [
              0.4444444444444444,
              "#bd3786"
             ],
             [
              0.5555555555555556,
              "#d8576b"
             ],
             [
              0.6666666666666666,
              "#ed7953"
             ],
             [
              0.7777777777777778,
              "#fb9f3a"
             ],
             [
              0.8888888888888888,
              "#fdca26"
             ],
             [
              1,
              "#f0f921"
             ]
            ],
            "type": "contour"
           }
          ],
          "contourcarpet": [
           {
            "colorbar": {
             "outlinewidth": 0,
             "ticks": ""
            },
            "type": "contourcarpet"
           }
          ],
          "heatmap": [
           {
            "colorbar": {
             "outlinewidth": 0,
             "ticks": ""
            },
            "colorscale": [
             [
              0,
              "#0d0887"
             ],
             [
              0.1111111111111111,
              "#46039f"
             ],
             [
              0.2222222222222222,
              "#7201a8"
             ],
             [
              0.3333333333333333,
              "#9c179e"
             ],
             [
              0.4444444444444444,
              "#bd3786"
             ],
             [
              0.5555555555555556,
              "#d8576b"
             ],
             [
              0.6666666666666666,
              "#ed7953"
             ],
             [
              0.7777777777777778,
              "#fb9f3a"
             ],
             [
              0.8888888888888888,
              "#fdca26"
             ],
             [
              1,
              "#f0f921"
             ]
            ],
            "type": "heatmap"
           }
          ],
          "heatmapgl": [
           {
            "colorbar": {
             "outlinewidth": 0,
             "ticks": ""
            },
            "colorscale": [
             [
              0,
              "#0d0887"
             ],
             [
              0.1111111111111111,
              "#46039f"
             ],
             [
              0.2222222222222222,
              "#7201a8"
             ],
             [
              0.3333333333333333,
              "#9c179e"
             ],
             [
              0.4444444444444444,
              "#bd3786"
             ],
             [
              0.5555555555555556,
              "#d8576b"
             ],
             [
              0.6666666666666666,
              "#ed7953"
             ],
             [
              0.7777777777777778,
              "#fb9f3a"
             ],
             [
              0.8888888888888888,
              "#fdca26"
             ],
             [
              1,
              "#f0f921"
             ]
            ],
            "type": "heatmapgl"
           }
          ],
          "histogram": [
           {
            "marker": {
             "pattern": {
              "fillmode": "overlay",
              "size": 10,
              "solidity": 0.2
             }
            },
            "type": "histogram"
           }
          ],
          "histogram2d": [
           {
            "colorbar": {
             "outlinewidth": 0,
             "ticks": ""
            },
            "colorscale": [
             [
              0,
              "#0d0887"
             ],
             [
              0.1111111111111111,
              "#46039f"
             ],
             [
              0.2222222222222222,
              "#7201a8"
             ],
             [
              0.3333333333333333,
              "#9c179e"
             ],
             [
              0.4444444444444444,
              "#bd3786"
             ],
             [
              0.5555555555555556,
              "#d8576b"
             ],
             [
              0.6666666666666666,
              "#ed7953"
             ],
             [
              0.7777777777777778,
              "#fb9f3a"
             ],
             [
              0.8888888888888888,
              "#fdca26"
             ],
             [
              1,
              "#f0f921"
             ]
            ],
            "type": "histogram2d"
           }
          ],
          "histogram2dcontour": [
           {
            "colorbar": {
             "outlinewidth": 0,
             "ticks": ""
            },
            "colorscale": [
             [
              0,
              "#0d0887"
             ],
             [
              0.1111111111111111,
              "#46039f"
             ],
             [
              0.2222222222222222,
              "#7201a8"
             ],
             [
              0.3333333333333333,
              "#9c179e"
             ],
             [
              0.4444444444444444,
              "#bd3786"
             ],
             [
              0.5555555555555556,
              "#d8576b"
             ],
             [
              0.6666666666666666,
              "#ed7953"
             ],
             [
              0.7777777777777778,
              "#fb9f3a"
             ],
             [
              0.8888888888888888,
              "#fdca26"
             ],
             [
              1,
              "#f0f921"
             ]
            ],
            "type": "histogram2dcontour"
           }
          ],
          "mesh3d": [
           {
            "colorbar": {
             "outlinewidth": 0,
             "ticks": ""
            },
            "type": "mesh3d"
           }
          ],
          "parcoords": [
           {
            "line": {
             "colorbar": {
              "outlinewidth": 0,
              "ticks": ""
             }
            },
            "type": "parcoords"
           }
          ],
          "pie": [
           {
            "automargin": true,
            "type": "pie"
           }
          ],
          "scatter": [
           {
            "marker": {
             "line": {
              "color": "#283442"
             }
            },
            "type": "scatter"
           }
          ],
          "scatter3d": [
           {
            "line": {
             "colorbar": {
              "outlinewidth": 0,
              "ticks": ""
             }
            },
            "marker": {
             "colorbar": {
              "outlinewidth": 0,
              "ticks": ""
             }
            },
            "type": "scatter3d"
           }
          ],
          "scattercarpet": [
           {
            "marker": {
             "colorbar": {
              "outlinewidth": 0,
              "ticks": ""
             }
            },
            "type": "scattercarpet"
           }
          ],
          "scattergeo": [
           {
            "marker": {
             "colorbar": {
              "outlinewidth": 0,
              "ticks": ""
             }
            },
            "type": "scattergeo"
           }
          ],
          "scattergl": [
           {
            "marker": {
             "line": {
              "color": "#283442"
             }
            },
            "type": "scattergl"
           }
          ],
          "scattermapbox": [
           {
            "marker": {
             "colorbar": {
              "outlinewidth": 0,
              "ticks": ""
             }
            },
            "type": "scattermapbox"
           }
          ],
          "scatterpolar": [
           {
            "marker": {
             "colorbar": {
              "outlinewidth": 0,
              "ticks": ""
             }
            },
            "type": "scatterpolar"
           }
          ],
          "scatterpolargl": [
           {
            "marker": {
             "colorbar": {
              "outlinewidth": 0,
              "ticks": ""
             }
            },
            "type": "scatterpolargl"
           }
          ],
          "scatterternary": [
           {
            "marker": {
             "colorbar": {
              "outlinewidth": 0,
              "ticks": ""
             }
            },
            "type": "scatterternary"
           }
          ],
          "surface": [
           {
            "colorbar": {
             "outlinewidth": 0,
             "ticks": ""
            },
            "colorscale": [
             [
              0,
              "#0d0887"
             ],
             [
              0.1111111111111111,
              "#46039f"
             ],
             [
              0.2222222222222222,
              "#7201a8"
             ],
             [
              0.3333333333333333,
              "#9c179e"
             ],
             [
              0.4444444444444444,
              "#bd3786"
             ],
             [
              0.5555555555555556,
              "#d8576b"
             ],
             [
              0.6666666666666666,
              "#ed7953"
             ],
             [
              0.7777777777777778,
              "#fb9f3a"
             ],
             [
              0.8888888888888888,
              "#fdca26"
             ],
             [
              1,
              "#f0f921"
             ]
            ],
            "type": "surface"
           }
          ],
          "table": [
           {
            "cells": {
             "fill": {
              "color": "#506784"
             },
             "line": {
              "color": "rgb(17,17,17)"
             }
            },
            "header": {
             "fill": {
              "color": "#2a3f5f"
             },
             "line": {
              "color": "rgb(17,17,17)"
             }
            },
            "type": "table"
           }
          ]
         },
         "layout": {
          "annotationdefaults": {
           "arrowcolor": "#f2f5fa",
           "arrowhead": 0,
           "arrowwidth": 1,
           "showarrow": false
          },
          "autotypenumbers": "strict",
          "coloraxis": {
           "colorbar": {
            "outlinewidth": 0,
            "ticks": ""
           }
          },
          "colorscale": {
           "diverging": [
            [
             0,
             "#8e0152"
            ],
            [
             0.1,
             "#c51b7d"
            ],
            [
             0.2,
             "#de77ae"
            ],
            [
             0.3,
             "#f1b6da"
            ],
            [
             0.4,
             "#fde0ef"
            ],
            [
             0.5,
             "#f7f7f7"
            ],
            [
             0.6,
             "#e6f5d0"
            ],
            [
             0.7,
             "#b8e186"
            ],
            [
             0.8,
             "#7fbc41"
            ],
            [
             0.9,
             "#4d9221"
            ],
            [
             1,
             "#276419"
            ]
           ],
           "sequential": [
            [
             0,
             "#0d0887"
            ],
            [
             0.1111111111111111,
             "#46039f"
            ],
            [
             0.2222222222222222,
             "#7201a8"
            ],
            [
             0.3333333333333333,
             "#9c179e"
            ],
            [
             0.4444444444444444,
             "#bd3786"
            ],
            [
             0.5555555555555556,
             "#d8576b"
            ],
            [
             0.6666666666666666,
             "#ed7953"
            ],
            [
             0.7777777777777778,
             "#fb9f3a"
            ],
            [
             0.8888888888888888,
             "#fdca26"
            ],
            [
             1,
             "#f0f921"
            ]
           ],
           "sequentialminus": [
            [
             0,
             "#0d0887"
            ],
            [
             0.1111111111111111,
             "#46039f"
            ],
            [
             0.2222222222222222,
             "#7201a8"
            ],
            [
             0.3333333333333333,
             "#9c179e"
            ],
            [
             0.4444444444444444,
             "#bd3786"
            ],
            [
             0.5555555555555556,
             "#d8576b"
            ],
            [
             0.6666666666666666,
             "#ed7953"
            ],
            [
             0.7777777777777778,
             "#fb9f3a"
            ],
            [
             0.8888888888888888,
             "#fdca26"
            ],
            [
             1,
             "#f0f921"
            ]
           ]
          },
          "colorway": [
           "#ffed00",
           "#ef7d00",
           "#e4003a",
           "#c13246",
           "#822661",
           "#48277c",
           "#005ca9",
           "#00aaff",
           "#9b30d9",
           "#af005f",
           "#5f00af",
           "#af87ff"
          ],
          "dragmode": "pan",
          "font": {
           "color": "#f2f5fa",
           "family": "Fira Code",
           "size": 18
          },
          "geo": {
           "bgcolor": "rgb(17,17,17)",
           "lakecolor": "rgb(17,17,17)",
           "landcolor": "rgb(17,17,17)",
           "showlakes": true,
           "showland": true,
           "subunitcolor": "#506784"
          },
          "hoverlabel": {
           "align": "left"
          },
          "hovermode": "x",
          "legend": {
           "bgcolor": "rgba(0, 0, 0, 0)",
           "font": {
            "size": 15
           },
           "x": 0.01,
           "xanchor": "left",
           "y": 0.99,
           "yanchor": "top"
          },
          "mapbox": {
           "style": "dark"
          },
          "paper_bgcolor": "#000000",
          "plot_bgcolor": "#000000",
          "polar": {
           "angularaxis": {
            "gridcolor": "#506784",
            "linecolor": "#506784",
            "ticks": ""
           },
           "bgcolor": "rgb(17,17,17)",
           "radialaxis": {
            "gridcolor": "#506784",
            "linecolor": "#506784",
            "ticks": ""
           }
          },
          "scene": {
           "xaxis": {
            "backgroundcolor": "rgb(17,17,17)",
            "gridcolor": "#506784",
            "gridwidth": 2,
            "linecolor": "#506784",
            "showbackground": true,
            "ticks": "",
            "zerolinecolor": "#C8D4E3"
           },
           "yaxis": {
            "backgroundcolor": "rgb(17,17,17)",
            "gridcolor": "#506784",
            "gridwidth": 2,
            "linecolor": "#506784",
            "showbackground": true,
            "ticks": "",
            "zerolinecolor": "#C8D4E3"
           },
           "zaxis": {
            "backgroundcolor": "rgb(17,17,17)",
            "gridcolor": "#506784",
            "gridwidth": 2,
            "linecolor": "#506784",
            "showbackground": true,
            "ticks": "",
            "zerolinecolor": "#C8D4E3"
           }
          },
          "shapedefaults": {
           "line": {
            "color": "#f2f5fa"
           }
          },
          "sliderdefaults": {
           "bgcolor": "#C8D4E3",
           "bordercolor": "rgb(17,17,17)",
           "borderwidth": 1,
           "tickwidth": 0
          },
          "ternary": {
           "aaxis": {
            "gridcolor": "#506784",
            "linecolor": "#506784",
            "ticks": ""
           },
           "baxis": {
            "gridcolor": "#506784",
            "linecolor": "#506784",
            "ticks": ""
           },
           "bgcolor": "rgb(17,17,17)",
           "caxis": {
            "gridcolor": "#506784",
            "linecolor": "#506784",
            "ticks": ""
           }
          },
          "title": {
           "x": 0.05
          },
          "updatemenudefaults": {
           "bgcolor": "#506784",
           "borderwidth": 0
          },
          "xaxis": {
           "automargin": true,
           "autorange": true,
           "gridcolor": "#283442",
           "linecolor": "#F5EFF3",
           "mirror": true,
           "rangeslider": {
            "visible": false
           },
           "showgrid": true,
           "showline": true,
           "tick0": 1,
           "tickfont": {
            "size": 14
           },
           "ticks": "outside",
           "title": {
            "standoff": 20
           },
           "zeroline": false,
           "zerolinecolor": "#283442",
           "zerolinewidth": 2
          },
          "yaxis": {
           "anchor": "x",
           "automargin": true,
           "fixedrange": false,
           "gridcolor": "#283442",
           "linecolor": "#F5EFF3",
           "mirror": true,
           "showgrid": true,
           "showline": true,
           "side": "right",
           "tick0": 0.5,
           "ticks": "outside",
           "title": {
            "standoff": 20
           },
           "zeroline": false,
           "zerolinecolor": "#283442",
           "zerolinewidth": 2
          }
         }
        },
        "title": {
         "text": " - Realized Volatility Cones - STD Model",
         "x": 0.5
        },
        "xaxis": {
         "tickmode": "array",
         "ticktext": [
          3,
          10,
          30,
          60,
          90,
          120,
          150,
          180,
          210,
          240,
          300,
          360
         ],
         "tickvals": [
          3,
          10,
          30,
          60,
          90,
          120,
          150,
          180,
          210,
          240,
          300,
          360
         ],
         "title": {
          "text": "Window of Time (in days)"
         }
        }
       }
      }
     },
     "metadata": {},
     "output_type": "display_data"
    }
   ],
   "source": [
    "openbb.ta.cones_chart(df)"
   ]
  },
  {
   "cell_type": "code",
   "execution_count": 29,
   "metadata": {},
   "outputs": [
    {
     "data": {
      "application/vnd.plotly.v1+json": {
       "config": {
        "displaylogo": false,
        "plotlyServerURL": "https://plot.ly",
        "scrollZoom": true
       },
       "data": [
        {
         "name": "Min",
         "type": "scatter",
         "x": [
          3,
          10,
          30,
          60,
          90,
          120,
          150,
          180,
          210,
          240,
          300,
          360
         ],
         "y": [
          0.020194587642709802,
          0.03219960785963441,
          0.036694294182744676,
          0.045659791570970214,
          0.04987083671060913,
          0.05200241999070455,
          0.05270926722367455,
          0.054394609096511205,
          0.056441655988007995,
          0.056760942026653334,
          0.05829459618534813,
          0.0632570947201725
         ]
        },
        {
         "name": "Max",
         "type": "scatter",
         "x": [
          3,
          10,
          30,
          60,
          90,
          120,
          150,
          180,
          210,
          240,
          300,
          360
         ],
         "y": [
          1.0887474094137792,
          0.8664880146329754,
          0.7116364186938973,
          0.6164017308090466,
          0.5428815234399461,
          0.5082040968704805,
          0.47401797911109045,
          0.4418961860770006,
          0.4151675941935891,
          0.3940280895633365,
          0.35985297576698766,
          0.3385671485475966
         ]
        },
        {
         "name": "Median",
         "type": "scatter",
         "x": [
          3,
          10,
          30,
          60,
          90,
          120,
          150,
          180,
          210,
          240,
          300,
          360
         ],
         "y": [
          0.10958826997745871,
          0.11424234003764838,
          0.11739982395531028,
          0.12205536871087076,
          0.12492072788948243,
          0.12711899157153742,
          0.12918127104085098,
          0.12865241844647596,
          0.1311965640878347,
          0.13207235933973593,
          0.1334559073614939,
          0.1360717054980737
         ]
        },
        {
         "name": "Upper 75%",
         "type": "scatter",
         "x": [
          3,
          10,
          30,
          60,
          90,
          120,
          150,
          180,
          210,
          240,
          300,
          360
         ],
         "y": [
          0.15896231479744707,
          0.1629375487900564,
          0.1663183924559699,
          0.17062850988329398,
          0.17457015161191325,
          0.17840254076286938,
          0.17991832408938413,
          0.17897445973083073,
          0.18116045495870758,
          0.18154954649624294,
          0.18343281272585232,
          0.19045979907629848
         ]
        },
        {
         "name": "Lower 25%",
         "type": "scatter",
         "x": [
          3,
          10,
          30,
          60,
          90,
          120,
          150,
          180,
          210,
          240,
          300,
          360
         ],
         "y": [
          0.07602539144184303,
          0.0810460570683359,
          0.08574840357536316,
          0.08917117940861753,
          0.09219023958655247,
          0.09317886655818426,
          0.09458525249069744,
          0.0948290890050937,
          0.09577645645593674,
          0.09685984223278163,
          0.09763791267980103,
          0.09761190508544576
         ]
        },
        {
         "name": "Realized",
         "type": "scatter",
         "x": [
          3,
          10,
          30,
          60,
          90,
          120,
          150,
          180,
          210,
          240,
          300,
          360
         ],
         "y": [
          0.0499873679489444,
          0.07744313943612281,
          0.09044239249377545,
          0.08353058034540077,
          0.08078886861615919,
          0.0759910795251771,
          0.07206541176923736,
          0.07163452291091962,
          0.07109903606718948,
          0.06878655284129508,
          0.07250364118013819,
          0.07577495784916924
         ]
        }
       ],
       "layout": {
        "bargap": 0,
        "bargroupgap": 0,
        "barmode": "overlay",
        "legend": {
         "groupclick": "toggleitem",
         "orientation": "v",
         "tracegroupgap": 133.33333333333334,
         "x": 1,
         "xanchor": "right",
         "y": 1,
         "yanchor": "top"
        },
        "margin": {
         "b": 80,
         "l": 40,
         "r": 50,
         "t": 40
        },
        "modebar": {
         "activecolor": "#d1030d",
         "bgcolor": "#2A2A2A",
         "color": "#FFFFFF",
         "orientation": "v"
        },
        "newshape": {
         "line": {
          "color": "gold"
         }
        },
        "template": {
         "data": {
          "bar": [
           {
            "error_x": {
             "color": "#f2f5fa"
            },
            "error_y": {
             "color": "#f2f5fa"
            },
            "marker": {
             "line": {
              "color": "rgb(17,17,17)",
              "width": 0.5
             },
             "pattern": {
              "fillmode": "overlay",
              "size": 10,
              "solidity": 0.2
             }
            },
            "type": "bar"
           }
          ],
          "barpolar": [
           {
            "marker": {
             "line": {
              "color": "rgb(17,17,17)",
              "width": 0.5
             },
             "pattern": {
              "fillmode": "overlay",
              "size": 10,
              "solidity": 0.2
             }
            },
            "type": "barpolar"
           }
          ],
          "candlestick": [
           {
            "decreasing": {
             "fillcolor": "#e4003a",
             "line": {
              "color": "#e4003a"
             }
            },
            "increasing": {
             "fillcolor": "#00ACFF",
             "line": {
              "color": "#00ACFF"
             }
            },
            "type": "candlestick"
           }
          ],
          "carpet": [
           {
            "aaxis": {
             "endlinecolor": "#A2B1C6",
             "gridcolor": "#506784",
             "linecolor": "#506784",
             "minorgridcolor": "#506784",
             "startlinecolor": "#A2B1C6"
            },
            "baxis": {
             "endlinecolor": "#A2B1C6",
             "gridcolor": "#506784",
             "linecolor": "#506784",
             "minorgridcolor": "#506784",
             "startlinecolor": "#A2B1C6"
            },
            "type": "carpet"
           }
          ],
          "choropleth": [
           {
            "colorbar": {
             "outlinewidth": 0,
             "ticks": ""
            },
            "type": "choropleth"
           }
          ],
          "contour": [
           {
            "colorbar": {
             "outlinewidth": 0,
             "ticks": ""
            },
            "colorscale": [
             [
              0,
              "#0d0887"
             ],
             [
              0.1111111111111111,
              "#46039f"
             ],
             [
              0.2222222222222222,
              "#7201a8"
             ],
             [
              0.3333333333333333,
              "#9c179e"
             ],
             [
              0.4444444444444444,
              "#bd3786"
             ],
             [
              0.5555555555555556,
              "#d8576b"
             ],
             [
              0.6666666666666666,
              "#ed7953"
             ],
             [
              0.7777777777777778,
              "#fb9f3a"
             ],
             [
              0.8888888888888888,
              "#fdca26"
             ],
             [
              1,
              "#f0f921"
             ]
            ],
            "type": "contour"
           }
          ],
          "contourcarpet": [
           {
            "colorbar": {
             "outlinewidth": 0,
             "ticks": ""
            },
            "type": "contourcarpet"
           }
          ],
          "heatmap": [
           {
            "colorbar": {
             "outlinewidth": 0,
             "ticks": ""
            },
            "colorscale": [
             [
              0,
              "#0d0887"
             ],
             [
              0.1111111111111111,
              "#46039f"
             ],
             [
              0.2222222222222222,
              "#7201a8"
             ],
             [
              0.3333333333333333,
              "#9c179e"
             ],
             [
              0.4444444444444444,
              "#bd3786"
             ],
             [
              0.5555555555555556,
              "#d8576b"
             ],
             [
              0.6666666666666666,
              "#ed7953"
             ],
             [
              0.7777777777777778,
              "#fb9f3a"
             ],
             [
              0.8888888888888888,
              "#fdca26"
             ],
             [
              1,
              "#f0f921"
             ]
            ],
            "type": "heatmap"
           }
          ],
          "heatmapgl": [
           {
            "colorbar": {
             "outlinewidth": 0,
             "ticks": ""
            },
            "colorscale": [
             [
              0,
              "#0d0887"
             ],
             [
              0.1111111111111111,
              "#46039f"
             ],
             [
              0.2222222222222222,
              "#7201a8"
             ],
             [
              0.3333333333333333,
              "#9c179e"
             ],
             [
              0.4444444444444444,
              "#bd3786"
             ],
             [
              0.5555555555555556,
              "#d8576b"
             ],
             [
              0.6666666666666666,
              "#ed7953"
             ],
             [
              0.7777777777777778,
              "#fb9f3a"
             ],
             [
              0.8888888888888888,
              "#fdca26"
             ],
             [
              1,
              "#f0f921"
             ]
            ],
            "type": "heatmapgl"
           }
          ],
          "histogram": [
           {
            "marker": {
             "pattern": {
              "fillmode": "overlay",
              "size": 10,
              "solidity": 0.2
             }
            },
            "type": "histogram"
           }
          ],
          "histogram2d": [
           {
            "colorbar": {
             "outlinewidth": 0,
             "ticks": ""
            },
            "colorscale": [
             [
              0,
              "#0d0887"
             ],
             [
              0.1111111111111111,
              "#46039f"
             ],
             [
              0.2222222222222222,
              "#7201a8"
             ],
             [
              0.3333333333333333,
              "#9c179e"
             ],
             [
              0.4444444444444444,
              "#bd3786"
             ],
             [
              0.5555555555555556,
              "#d8576b"
             ],
             [
              0.6666666666666666,
              "#ed7953"
             ],
             [
              0.7777777777777778,
              "#fb9f3a"
             ],
             [
              0.8888888888888888,
              "#fdca26"
             ],
             [
              1,
              "#f0f921"
             ]
            ],
            "type": "histogram2d"
           }
          ],
          "histogram2dcontour": [
           {
            "colorbar": {
             "outlinewidth": 0,
             "ticks": ""
            },
            "colorscale": [
             [
              0,
              "#0d0887"
             ],
             [
              0.1111111111111111,
              "#46039f"
             ],
             [
              0.2222222222222222,
              "#7201a8"
             ],
             [
              0.3333333333333333,
              "#9c179e"
             ],
             [
              0.4444444444444444,
              "#bd3786"
             ],
             [
              0.5555555555555556,
              "#d8576b"
             ],
             [
              0.6666666666666666,
              "#ed7953"
             ],
             [
              0.7777777777777778,
              "#fb9f3a"
             ],
             [
              0.8888888888888888,
              "#fdca26"
             ],
             [
              1,
              "#f0f921"
             ]
            ],
            "type": "histogram2dcontour"
           }
          ],
          "mesh3d": [
           {
            "colorbar": {
             "outlinewidth": 0,
             "ticks": ""
            },
            "type": "mesh3d"
           }
          ],
          "parcoords": [
           {
            "line": {
             "colorbar": {
              "outlinewidth": 0,
              "ticks": ""
             }
            },
            "type": "parcoords"
           }
          ],
          "pie": [
           {
            "automargin": true,
            "type": "pie"
           }
          ],
          "scatter": [
           {
            "marker": {
             "line": {
              "color": "#283442"
             }
            },
            "type": "scatter"
           }
          ],
          "scatter3d": [
           {
            "line": {
             "colorbar": {
              "outlinewidth": 0,
              "ticks": ""
             }
            },
            "marker": {
             "colorbar": {
              "outlinewidth": 0,
              "ticks": ""
             }
            },
            "type": "scatter3d"
           }
          ],
          "scattercarpet": [
           {
            "marker": {
             "colorbar": {
              "outlinewidth": 0,
              "ticks": ""
             }
            },
            "type": "scattercarpet"
           }
          ],
          "scattergeo": [
           {
            "marker": {
             "colorbar": {
              "outlinewidth": 0,
              "ticks": ""
             }
            },
            "type": "scattergeo"
           }
          ],
          "scattergl": [
           {
            "marker": {
             "line": {
              "color": "#283442"
             }
            },
            "type": "scattergl"
           }
          ],
          "scattermapbox": [
           {
            "marker": {
             "colorbar": {
              "outlinewidth": 0,
              "ticks": ""
             }
            },
            "type": "scattermapbox"
           }
          ],
          "scatterpolar": [
           {
            "marker": {
             "colorbar": {
              "outlinewidth": 0,
              "ticks": ""
             }
            },
            "type": "scatterpolar"
           }
          ],
          "scatterpolargl": [
           {
            "marker": {
             "colorbar": {
              "outlinewidth": 0,
              "ticks": ""
             }
            },
            "type": "scatterpolargl"
           }
          ],
          "scatterternary": [
           {
            "marker": {
             "colorbar": {
              "outlinewidth": 0,
              "ticks": ""
             }
            },
            "type": "scatterternary"
           }
          ],
          "surface": [
           {
            "colorbar": {
             "outlinewidth": 0,
             "ticks": ""
            },
            "colorscale": [
             [
              0,
              "#0d0887"
             ],
             [
              0.1111111111111111,
              "#46039f"
             ],
             [
              0.2222222222222222,
              "#7201a8"
             ],
             [
              0.3333333333333333,
              "#9c179e"
             ],
             [
              0.4444444444444444,
              "#bd3786"
             ],
             [
              0.5555555555555556,
              "#d8576b"
             ],
             [
              0.6666666666666666,
              "#ed7953"
             ],
             [
              0.7777777777777778,
              "#fb9f3a"
             ],
             [
              0.8888888888888888,
              "#fdca26"
             ],
             [
              1,
              "#f0f921"
             ]
            ],
            "type": "surface"
           }
          ],
          "table": [
           {
            "cells": {
             "fill": {
              "color": "#506784"
             },
             "line": {
              "color": "rgb(17,17,17)"
             }
            },
            "header": {
             "fill": {
              "color": "#2a3f5f"
             },
             "line": {
              "color": "rgb(17,17,17)"
             }
            },
            "type": "table"
           }
          ]
         },
         "layout": {
          "annotationdefaults": {
           "arrowcolor": "#f2f5fa",
           "arrowhead": 0,
           "arrowwidth": 1,
           "showarrow": false
          },
          "autotypenumbers": "strict",
          "coloraxis": {
           "colorbar": {
            "outlinewidth": 0,
            "ticks": ""
           }
          },
          "colorscale": {
           "diverging": [
            [
             0,
             "#8e0152"
            ],
            [
             0.1,
             "#c51b7d"
            ],
            [
             0.2,
             "#de77ae"
            ],
            [
             0.3,
             "#f1b6da"
            ],
            [
             0.4,
             "#fde0ef"
            ],
            [
             0.5,
             "#f7f7f7"
            ],
            [
             0.6,
             "#e6f5d0"
            ],
            [
             0.7,
             "#b8e186"
            ],
            [
             0.8,
             "#7fbc41"
            ],
            [
             0.9,
             "#4d9221"
            ],
            [
             1,
             "#276419"
            ]
           ],
           "sequential": [
            [
             0,
             "#0d0887"
            ],
            [
             0.1111111111111111,
             "#46039f"
            ],
            [
             0.2222222222222222,
             "#7201a8"
            ],
            [
             0.3333333333333333,
             "#9c179e"
            ],
            [
             0.4444444444444444,
             "#bd3786"
            ],
            [
             0.5555555555555556,
             "#d8576b"
            ],
            [
             0.6666666666666666,
             "#ed7953"
            ],
            [
             0.7777777777777778,
             "#fb9f3a"
            ],
            [
             0.8888888888888888,
             "#fdca26"
            ],
            [
             1,
             "#f0f921"
            ]
           ],
           "sequentialminus": [
            [
             0,
             "#0d0887"
            ],
            [
             0.1111111111111111,
             "#46039f"
            ],
            [
             0.2222222222222222,
             "#7201a8"
            ],
            [
             0.3333333333333333,
             "#9c179e"
            ],
            [
             0.4444444444444444,
             "#bd3786"
            ],
            [
             0.5555555555555556,
             "#d8576b"
            ],
            [
             0.6666666666666666,
             "#ed7953"
            ],
            [
             0.7777777777777778,
             "#fb9f3a"
            ],
            [
             0.8888888888888888,
             "#fdca26"
            ],
            [
             1,
             "#f0f921"
            ]
           ]
          },
          "colorway": [
           "#ffed00",
           "#ef7d00",
           "#e4003a",
           "#c13246",
           "#822661",
           "#48277c",
           "#005ca9",
           "#00aaff",
           "#9b30d9",
           "#af005f",
           "#5f00af",
           "#af87ff"
          ],
          "dragmode": "pan",
          "font": {
           "color": "#f2f5fa",
           "family": "Fira Code",
           "size": 18
          },
          "geo": {
           "bgcolor": "rgb(17,17,17)",
           "lakecolor": "rgb(17,17,17)",
           "landcolor": "rgb(17,17,17)",
           "showlakes": true,
           "showland": true,
           "subunitcolor": "#506784"
          },
          "hoverlabel": {
           "align": "left"
          },
          "hovermode": "x",
          "legend": {
           "bgcolor": "rgba(0, 0, 0, 0)",
           "font": {
            "size": 15
           },
           "x": 0.01,
           "xanchor": "left",
           "y": 0.99,
           "yanchor": "top"
          },
          "mapbox": {
           "style": "dark"
          },
          "paper_bgcolor": "#000000",
          "plot_bgcolor": "#000000",
          "polar": {
           "angularaxis": {
            "gridcolor": "#506784",
            "linecolor": "#506784",
            "ticks": ""
           },
           "bgcolor": "rgb(17,17,17)",
           "radialaxis": {
            "gridcolor": "#506784",
            "linecolor": "#506784",
            "ticks": ""
           }
          },
          "scene": {
           "xaxis": {
            "backgroundcolor": "rgb(17,17,17)",
            "gridcolor": "#506784",
            "gridwidth": 2,
            "linecolor": "#506784",
            "showbackground": true,
            "ticks": "",
            "zerolinecolor": "#C8D4E3"
           },
           "yaxis": {
            "backgroundcolor": "rgb(17,17,17)",
            "gridcolor": "#506784",
            "gridwidth": 2,
            "linecolor": "#506784",
            "showbackground": true,
            "ticks": "",
            "zerolinecolor": "#C8D4E3"
           },
           "zaxis": {
            "backgroundcolor": "rgb(17,17,17)",
            "gridcolor": "#506784",
            "gridwidth": 2,
            "linecolor": "#506784",
            "showbackground": true,
            "ticks": "",
            "zerolinecolor": "#C8D4E3"
           }
          },
          "shapedefaults": {
           "line": {
            "color": "#f2f5fa"
           }
          },
          "sliderdefaults": {
           "bgcolor": "#C8D4E3",
           "bordercolor": "rgb(17,17,17)",
           "borderwidth": 1,
           "tickwidth": 0
          },
          "ternary": {
           "aaxis": {
            "gridcolor": "#506784",
            "linecolor": "#506784",
            "ticks": ""
           },
           "baxis": {
            "gridcolor": "#506784",
            "linecolor": "#506784",
            "ticks": ""
           },
           "bgcolor": "rgb(17,17,17)",
           "caxis": {
            "gridcolor": "#506784",
            "linecolor": "#506784",
            "ticks": ""
           }
          },
          "title": {
           "x": 0.05
          },
          "updatemenudefaults": {
           "bgcolor": "#506784",
           "borderwidth": 0
          },
          "xaxis": {
           "automargin": true,
           "autorange": true,
           "gridcolor": "#283442",
           "linecolor": "#F5EFF3",
           "mirror": true,
           "rangeslider": {
            "visible": false
           },
           "showgrid": true,
           "showline": true,
           "tick0": 1,
           "tickfont": {
            "size": 14
           },
           "ticks": "outside",
           "title": {
            "standoff": 20
           },
           "zeroline": false,
           "zerolinecolor": "#283442",
           "zerolinewidth": 2
          },
          "yaxis": {
           "anchor": "x",
           "automargin": true,
           "fixedrange": false,
           "gridcolor": "#283442",
           "linecolor": "#F5EFF3",
           "mirror": true,
           "showgrid": true,
           "showline": true,
           "side": "right",
           "tick0": 0.5,
           "ticks": "outside",
           "title": {
            "standoff": 20
           },
           "zeroline": false,
           "zerolinecolor": "#283442",
           "zerolinewidth": 2
          }
         }
        },
        "title": {
         "text": " - Realized Volatility Cones - Garman-Klass Model",
         "x": 0.5
        },
        "xaxis": {
         "tickmode": "array",
         "ticktext": [
          3,
          10,
          30,
          60,
          90,
          120,
          150,
          180,
          210,
          240,
          300,
          360
         ],
         "tickvals": [
          3,
          10,
          30,
          60,
          90,
          120,
          150,
          180,
          210,
          240,
          300,
          360
         ],
         "title": {
          "text": "Window of Time (in days)"
         }
        }
       }
      }
     },
     "metadata": {},
     "output_type": "display_data"
    }
   ],
   "source": [
    "openbb.ta.cones_chart(df, model = 'Garman-Klass')"
   ]
  },
  {
   "attachments": {},
   "cell_type": "markdown",
   "metadata": {},
   "source": [
    "The `data` input can also be the `load` function from the OpenBB SDK. Use the `symbol` argument to add the name of the security to the title. Notice that the values shift with the amount of historical data being fed to the model."
   ]
  },
  {
   "cell_type": "code",
   "execution_count": 30,
   "metadata": {},
   "outputs": [
    {
     "data": {
      "text/html": [
       "<pre style=\"white-space:pre;overflow-x:auto;line-height:normal;font-family:Menlo,'DejaVu Sans Mono',consolas,'Courier New',monospace\">Loading Daily data for SPY with starting period 2020-02-26.\n",
       "</pre>\n"
      ],
      "text/plain": [
       "Loading Daily data for SPY with starting period 2020-02-26.\n"
      ]
     },
     "metadata": {},
     "output_type": "display_data"
    },
    {
     "data": {
      "application/vnd.plotly.v1+json": {
       "config": {
        "displaylogo": false,
        "plotlyServerURL": "https://plot.ly",
        "scrollZoom": true
       },
       "data": [
        {
         "name": "Min",
         "type": "scatter",
         "x": [
          3,
          10,
          30,
          60,
          90,
          120,
          150,
          180,
          210,
          240,
          300,
          360
         ],
         "y": [
          0.033821788653827574,
          0.04426751977217226,
          0.06549973887069291,
          0.07723217373722462,
          0.08150919108869138,
          0.08114007016815708,
          0.08702157599352453,
          0.0887570349723373,
          0.09644880957894973,
          0.10689556524836079,
          0.11196012448505588,
          0.12288909193068222
         ]
        },
        {
         "name": "Max",
         "type": "scatter",
         "x": [
          3,
          10,
          30,
          60,
          90,
          120,
          150,
          180,
          210,
          240,
          300,
          360
         ],
         "y": [
          0.8903154370018314,
          0.7449736285750903,
          0.5536470873236399,
          0.4202544815373009,
          0.3591943391499554,
          0.3171457107707073,
          0.2944128867575398,
          0.277657187144803,
          0.2617366789498382,
          0.2489751939902937,
          0.22978183282526282,
          0.2128010607054209
         ]
        },
        {
         "name": "Median",
         "type": "scatter",
         "x": [
          3,
          10,
          30,
          60,
          90,
          120,
          150,
          180,
          210,
          240,
          300,
          360
         ],
         "y": [
          0.1373318317014875,
          0.14830030452492404,
          0.15539900930435158,
          0.15416333595461576,
          0.16004357256470952,
          0.15545221793153063,
          0.15335789192201715,
          0.15039914643611926,
          0.15137738016772823,
          0.14622506021980575,
          0.14213741275077846,
          0.14460377723551623
         ]
        },
        {
         "name": "Upper 75%",
         "type": "scatter",
         "x": [
          3,
          10,
          30,
          60,
          90,
          120,
          150,
          180,
          210,
          240,
          300,
          360
         ],
         "y": [
          0.18893814171651263,
          0.1887241147652308,
          0.18560835790982194,
          0.18675979639878784,
          0.18288178478988076,
          0.18084259276835268,
          0.1815093996829371,
          0.18252607714262367,
          0.17842023236134788,
          0.173817554529698,
          0.16800979951387918,
          0.16054957339467812
         ]
        },
        {
         "name": "Lower 25%",
         "type": "scatter",
         "x": [
          3,
          10,
          30,
          60,
          90,
          120,
          150,
          180,
          210,
          240,
          300,
          360
         ],
         "y": [
          0.09391936338645944,
          0.1063119371579704,
          0.1190904014266781,
          0.12606848612614513,
          0.12527674308181025,
          0.12676769680140743,
          0.12045954800798916,
          0.12279867654064879,
          0.12313630926614508,
          0.12333033490342704,
          0.12680899100587167,
          0.13134087118683827
         ]
        },
        {
         "name": "Realized",
         "type": "scatter",
         "x": [
          3,
          10,
          30,
          60,
          90,
          120,
          150,
          180,
          210,
          240,
          300,
          360
         ],
         "y": [
          0.3760748329735902,
          0.4063190344848622,
          0.5510166080108109,
          0.4202544815373009,
          0.3591943391499554,
          0.3171457107707073,
          0.2944128867575398,
          0.277657187144803,
          0.2617366789498382,
          0.2489751939902937,
          0.22978183282526282,
          0.2128010607054209
         ]
        }
       ],
       "layout": {
        "bargap": 0,
        "bargroupgap": 0,
        "barmode": "overlay",
        "legend": {
         "groupclick": "toggleitem",
         "orientation": "v",
         "tracegroupgap": 133.33333333333334,
         "x": 1,
         "xanchor": "right",
         "y": 1,
         "yanchor": "top"
        },
        "margin": {
         "b": 80,
         "l": 40,
         "r": 50,
         "t": 40
        },
        "modebar": {
         "activecolor": "#d1030d",
         "bgcolor": "#2A2A2A",
         "color": "#FFFFFF",
         "orientation": "v"
        },
        "newshape": {
         "line": {
          "color": "gold"
         }
        },
        "template": {
         "data": {
          "bar": [
           {
            "error_x": {
             "color": "#f2f5fa"
            },
            "error_y": {
             "color": "#f2f5fa"
            },
            "marker": {
             "line": {
              "color": "rgb(17,17,17)",
              "width": 0.5
             },
             "pattern": {
              "fillmode": "overlay",
              "size": 10,
              "solidity": 0.2
             }
            },
            "type": "bar"
           }
          ],
          "barpolar": [
           {
            "marker": {
             "line": {
              "color": "rgb(17,17,17)",
              "width": 0.5
             },
             "pattern": {
              "fillmode": "overlay",
              "size": 10,
              "solidity": 0.2
             }
            },
            "type": "barpolar"
           }
          ],
          "candlestick": [
           {
            "decreasing": {
             "fillcolor": "#e4003a",
             "line": {
              "color": "#e4003a"
             }
            },
            "increasing": {
             "fillcolor": "#00ACFF",
             "line": {
              "color": "#00ACFF"
             }
            },
            "type": "candlestick"
           }
          ],
          "carpet": [
           {
            "aaxis": {
             "endlinecolor": "#A2B1C6",
             "gridcolor": "#506784",
             "linecolor": "#506784",
             "minorgridcolor": "#506784",
             "startlinecolor": "#A2B1C6"
            },
            "baxis": {
             "endlinecolor": "#A2B1C6",
             "gridcolor": "#506784",
             "linecolor": "#506784",
             "minorgridcolor": "#506784",
             "startlinecolor": "#A2B1C6"
            },
            "type": "carpet"
           }
          ],
          "choropleth": [
           {
            "colorbar": {
             "outlinewidth": 0,
             "ticks": ""
            },
            "type": "choropleth"
           }
          ],
          "contour": [
           {
            "colorbar": {
             "outlinewidth": 0,
             "ticks": ""
            },
            "colorscale": [
             [
              0,
              "#0d0887"
             ],
             [
              0.1111111111111111,
              "#46039f"
             ],
             [
              0.2222222222222222,
              "#7201a8"
             ],
             [
              0.3333333333333333,
              "#9c179e"
             ],
             [
              0.4444444444444444,
              "#bd3786"
             ],
             [
              0.5555555555555556,
              "#d8576b"
             ],
             [
              0.6666666666666666,
              "#ed7953"
             ],
             [
              0.7777777777777778,
              "#fb9f3a"
             ],
             [
              0.8888888888888888,
              "#fdca26"
             ],
             [
              1,
              "#f0f921"
             ]
            ],
            "type": "contour"
           }
          ],
          "contourcarpet": [
           {
            "colorbar": {
             "outlinewidth": 0,
             "ticks": ""
            },
            "type": "contourcarpet"
           }
          ],
          "heatmap": [
           {
            "colorbar": {
             "outlinewidth": 0,
             "ticks": ""
            },
            "colorscale": [
             [
              0,
              "#0d0887"
             ],
             [
              0.1111111111111111,
              "#46039f"
             ],
             [
              0.2222222222222222,
              "#7201a8"
             ],
             [
              0.3333333333333333,
              "#9c179e"
             ],
             [
              0.4444444444444444,
              "#bd3786"
             ],
             [
              0.5555555555555556,
              "#d8576b"
             ],
             [
              0.6666666666666666,
              "#ed7953"
             ],
             [
              0.7777777777777778,
              "#fb9f3a"
             ],
             [
              0.8888888888888888,
              "#fdca26"
             ],
             [
              1,
              "#f0f921"
             ]
            ],
            "type": "heatmap"
           }
          ],
          "heatmapgl": [
           {
            "colorbar": {
             "outlinewidth": 0,
             "ticks": ""
            },
            "colorscale": [
             [
              0,
              "#0d0887"
             ],
             [
              0.1111111111111111,
              "#46039f"
             ],
             [
              0.2222222222222222,
              "#7201a8"
             ],
             [
              0.3333333333333333,
              "#9c179e"
             ],
             [
              0.4444444444444444,
              "#bd3786"
             ],
             [
              0.5555555555555556,
              "#d8576b"
             ],
             [
              0.6666666666666666,
              "#ed7953"
             ],
             [
              0.7777777777777778,
              "#fb9f3a"
             ],
             [
              0.8888888888888888,
              "#fdca26"
             ],
             [
              1,
              "#f0f921"
             ]
            ],
            "type": "heatmapgl"
           }
          ],
          "histogram": [
           {
            "marker": {
             "pattern": {
              "fillmode": "overlay",
              "size": 10,
              "solidity": 0.2
             }
            },
            "type": "histogram"
           }
          ],
          "histogram2d": [
           {
            "colorbar": {
             "outlinewidth": 0,
             "ticks": ""
            },
            "colorscale": [
             [
              0,
              "#0d0887"
             ],
             [
              0.1111111111111111,
              "#46039f"
             ],
             [
              0.2222222222222222,
              "#7201a8"
             ],
             [
              0.3333333333333333,
              "#9c179e"
             ],
             [
              0.4444444444444444,
              "#bd3786"
             ],
             [
              0.5555555555555556,
              "#d8576b"
             ],
             [
              0.6666666666666666,
              "#ed7953"
             ],
             [
              0.7777777777777778,
              "#fb9f3a"
             ],
             [
              0.8888888888888888,
              "#fdca26"
             ],
             [
              1,
              "#f0f921"
             ]
            ],
            "type": "histogram2d"
           }
          ],
          "histogram2dcontour": [
           {
            "colorbar": {
             "outlinewidth": 0,
             "ticks": ""
            },
            "colorscale": [
             [
              0,
              "#0d0887"
             ],
             [
              0.1111111111111111,
              "#46039f"
             ],
             [
              0.2222222222222222,
              "#7201a8"
             ],
             [
              0.3333333333333333,
              "#9c179e"
             ],
             [
              0.4444444444444444,
              "#bd3786"
             ],
             [
              0.5555555555555556,
              "#d8576b"
             ],
             [
              0.6666666666666666,
              "#ed7953"
             ],
             [
              0.7777777777777778,
              "#fb9f3a"
             ],
             [
              0.8888888888888888,
              "#fdca26"
             ],
             [
              1,
              "#f0f921"
             ]
            ],
            "type": "histogram2dcontour"
           }
          ],
          "mesh3d": [
           {
            "colorbar": {
             "outlinewidth": 0,
             "ticks": ""
            },
            "type": "mesh3d"
           }
          ],
          "parcoords": [
           {
            "line": {
             "colorbar": {
              "outlinewidth": 0,
              "ticks": ""
             }
            },
            "type": "parcoords"
           }
          ],
          "pie": [
           {
            "automargin": true,
            "type": "pie"
           }
          ],
          "scatter": [
           {
            "marker": {
             "line": {
              "color": "#283442"
             }
            },
            "type": "scatter"
           }
          ],
          "scatter3d": [
           {
            "line": {
             "colorbar": {
              "outlinewidth": 0,
              "ticks": ""
             }
            },
            "marker": {
             "colorbar": {
              "outlinewidth": 0,
              "ticks": ""
             }
            },
            "type": "scatter3d"
           }
          ],
          "scattercarpet": [
           {
            "marker": {
             "colorbar": {
              "outlinewidth": 0,
              "ticks": ""
             }
            },
            "type": "scattercarpet"
           }
          ],
          "scattergeo": [
           {
            "marker": {
             "colorbar": {
              "outlinewidth": 0,
              "ticks": ""
             }
            },
            "type": "scattergeo"
           }
          ],
          "scattergl": [
           {
            "marker": {
             "line": {
              "color": "#283442"
             }
            },
            "type": "scattergl"
           }
          ],
          "scattermapbox": [
           {
            "marker": {
             "colorbar": {
              "outlinewidth": 0,
              "ticks": ""
             }
            },
            "type": "scattermapbox"
           }
          ],
          "scatterpolar": [
           {
            "marker": {
             "colorbar": {
              "outlinewidth": 0,
              "ticks": ""
             }
            },
            "type": "scatterpolar"
           }
          ],
          "scatterpolargl": [
           {
            "marker": {
             "colorbar": {
              "outlinewidth": 0,
              "ticks": ""
             }
            },
            "type": "scatterpolargl"
           }
          ],
          "scatterternary": [
           {
            "marker": {
             "colorbar": {
              "outlinewidth": 0,
              "ticks": ""
             }
            },
            "type": "scatterternary"
           }
          ],
          "surface": [
           {
            "colorbar": {
             "outlinewidth": 0,
             "ticks": ""
            },
            "colorscale": [
             [
              0,
              "#0d0887"
             ],
             [
              0.1111111111111111,
              "#46039f"
             ],
             [
              0.2222222222222222,
              "#7201a8"
             ],
             [
              0.3333333333333333,
              "#9c179e"
             ],
             [
              0.4444444444444444,
              "#bd3786"
             ],
             [
              0.5555555555555556,
              "#d8576b"
             ],
             [
              0.6666666666666666,
              "#ed7953"
             ],
             [
              0.7777777777777778,
              "#fb9f3a"
             ],
             [
              0.8888888888888888,
              "#fdca26"
             ],
             [
              1,
              "#f0f921"
             ]
            ],
            "type": "surface"
           }
          ],
          "table": [
           {
            "cells": {
             "fill": {
              "color": "#506784"
             },
             "line": {
              "color": "rgb(17,17,17)"
             }
            },
            "header": {
             "fill": {
              "color": "#2a3f5f"
             },
             "line": {
              "color": "rgb(17,17,17)"
             }
            },
            "type": "table"
           }
          ]
         },
         "layout": {
          "annotationdefaults": {
           "arrowcolor": "#f2f5fa",
           "arrowhead": 0,
           "arrowwidth": 1,
           "showarrow": false
          },
          "autotypenumbers": "strict",
          "coloraxis": {
           "colorbar": {
            "outlinewidth": 0,
            "ticks": ""
           }
          },
          "colorscale": {
           "diverging": [
            [
             0,
             "#8e0152"
            ],
            [
             0.1,
             "#c51b7d"
            ],
            [
             0.2,
             "#de77ae"
            ],
            [
             0.3,
             "#f1b6da"
            ],
            [
             0.4,
             "#fde0ef"
            ],
            [
             0.5,
             "#f7f7f7"
            ],
            [
             0.6,
             "#e6f5d0"
            ],
            [
             0.7,
             "#b8e186"
            ],
            [
             0.8,
             "#7fbc41"
            ],
            [
             0.9,
             "#4d9221"
            ],
            [
             1,
             "#276419"
            ]
           ],
           "sequential": [
            [
             0,
             "#0d0887"
            ],
            [
             0.1111111111111111,
             "#46039f"
            ],
            [
             0.2222222222222222,
             "#7201a8"
            ],
            [
             0.3333333333333333,
             "#9c179e"
            ],
            [
             0.4444444444444444,
             "#bd3786"
            ],
            [
             0.5555555555555556,
             "#d8576b"
            ],
            [
             0.6666666666666666,
             "#ed7953"
            ],
            [
             0.7777777777777778,
             "#fb9f3a"
            ],
            [
             0.8888888888888888,
             "#fdca26"
            ],
            [
             1,
             "#f0f921"
            ]
           ],
           "sequentialminus": [
            [
             0,
             "#0d0887"
            ],
            [
             0.1111111111111111,
             "#46039f"
            ],
            [
             0.2222222222222222,
             "#7201a8"
            ],
            [
             0.3333333333333333,
             "#9c179e"
            ],
            [
             0.4444444444444444,
             "#bd3786"
            ],
            [
             0.5555555555555556,
             "#d8576b"
            ],
            [
             0.6666666666666666,
             "#ed7953"
            ],
            [
             0.7777777777777778,
             "#fb9f3a"
            ],
            [
             0.8888888888888888,
             "#fdca26"
            ],
            [
             1,
             "#f0f921"
            ]
           ]
          },
          "colorway": [
           "#ffed00",
           "#ef7d00",
           "#e4003a",
           "#c13246",
           "#822661",
           "#48277c",
           "#005ca9",
           "#00aaff",
           "#9b30d9",
           "#af005f",
           "#5f00af",
           "#af87ff"
          ],
          "dragmode": "pan",
          "font": {
           "color": "#f2f5fa",
           "family": "Fira Code",
           "size": 18
          },
          "geo": {
           "bgcolor": "rgb(17,17,17)",
           "lakecolor": "rgb(17,17,17)",
           "landcolor": "rgb(17,17,17)",
           "showlakes": true,
           "showland": true,
           "subunitcolor": "#506784"
          },
          "hoverlabel": {
           "align": "left"
          },
          "hovermode": "x",
          "legend": {
           "bgcolor": "rgba(0, 0, 0, 0)",
           "font": {
            "size": 15
           },
           "x": 0.01,
           "xanchor": "left",
           "y": 0.99,
           "yanchor": "top"
          },
          "mapbox": {
           "style": "dark"
          },
          "paper_bgcolor": "#000000",
          "plot_bgcolor": "#000000",
          "polar": {
           "angularaxis": {
            "gridcolor": "#506784",
            "linecolor": "#506784",
            "ticks": ""
           },
           "bgcolor": "rgb(17,17,17)",
           "radialaxis": {
            "gridcolor": "#506784",
            "linecolor": "#506784",
            "ticks": ""
           }
          },
          "scene": {
           "xaxis": {
            "backgroundcolor": "rgb(17,17,17)",
            "gridcolor": "#506784",
            "gridwidth": 2,
            "linecolor": "#506784",
            "showbackground": true,
            "ticks": "",
            "zerolinecolor": "#C8D4E3"
           },
           "yaxis": {
            "backgroundcolor": "rgb(17,17,17)",
            "gridcolor": "#506784",
            "gridwidth": 2,
            "linecolor": "#506784",
            "showbackground": true,
            "ticks": "",
            "zerolinecolor": "#C8D4E3"
           },
           "zaxis": {
            "backgroundcolor": "rgb(17,17,17)",
            "gridcolor": "#506784",
            "gridwidth": 2,
            "linecolor": "#506784",
            "showbackground": true,
            "ticks": "",
            "zerolinecolor": "#C8D4E3"
           }
          },
          "shapedefaults": {
           "line": {
            "color": "#f2f5fa"
           }
          },
          "sliderdefaults": {
           "bgcolor": "#C8D4E3",
           "bordercolor": "rgb(17,17,17)",
           "borderwidth": 1,
           "tickwidth": 0
          },
          "ternary": {
           "aaxis": {
            "gridcolor": "#506784",
            "linecolor": "#506784",
            "ticks": ""
           },
           "baxis": {
            "gridcolor": "#506784",
            "linecolor": "#506784",
            "ticks": ""
           },
           "bgcolor": "rgb(17,17,17)",
           "caxis": {
            "gridcolor": "#506784",
            "linecolor": "#506784",
            "ticks": ""
           }
          },
          "title": {
           "x": 0.05
          },
          "updatemenudefaults": {
           "bgcolor": "#506784",
           "borderwidth": 0
          },
          "xaxis": {
           "automargin": true,
           "autorange": true,
           "gridcolor": "#283442",
           "linecolor": "#F5EFF3",
           "mirror": true,
           "rangeslider": {
            "visible": false
           },
           "showgrid": true,
           "showline": true,
           "tick0": 1,
           "tickfont": {
            "size": 14
           },
           "ticks": "outside",
           "title": {
            "standoff": 20
           },
           "zeroline": false,
           "zerolinecolor": "#283442",
           "zerolinewidth": 2
          },
          "yaxis": {
           "anchor": "x",
           "automargin": true,
           "fixedrange": false,
           "gridcolor": "#283442",
           "linecolor": "#F5EFF3",
           "mirror": true,
           "showgrid": true,
           "showline": true,
           "side": "right",
           "tick0": 0.5,
           "ticks": "outside",
           "title": {
            "standoff": 20
           },
           "zeroline": false,
           "zerolinecolor": "#283442",
           "zerolinewidth": 2
          }
         }
        },
        "title": {
         "text": "SPY - Realized Volatility Cones - Garman-Klass Model",
         "x": 0.5
        },
        "xaxis": {
         "tickmode": "array",
         "ticktext": [
          3,
          10,
          30,
          60,
          90,
          120,
          150,
          180,
          210,
          240,
          300,
          360
         ],
         "tickvals": [
          3,
          10,
          30,
          60,
          90,
          120,
          150,
          180,
          210,
          240,
          300,
          360
         ],
         "title": {
          "text": "Window of Time (in days)"
         }
        }
       }
      }
     },
     "metadata": {},
     "output_type": "display_data"
    }
   ],
   "source": [
    "openbb.ta.cones_chart(\n",
    "    data = openbb.stocks.load('SPY'),\n",
    "    symbol = 'SPY',\n",
    "    model = 'Garman-Klass',\n",
    ")"
   ]
  },
  {
   "cell_type": "code",
   "execution_count": 31,
   "metadata": {},
   "outputs": [
    {
     "data": {
      "text/html": [
       "<pre style=\"white-space:pre;overflow-x:auto;line-height:normal;font-family:Menlo,'DejaVu Sans Mono',consolas,'Courier New',monospace\">Loading Weekly data for SPY with starting period 1993-01-25.\n",
       "</pre>\n"
      ],
      "text/plain": [
       "Loading Weekly data for SPY with starting period 1993-01-25.\n"
      ]
     },
     "metadata": {},
     "output_type": "display_data"
    },
    {
     "data": {
      "application/vnd.plotly.v1+json": {
       "config": {
        "displaylogo": false,
        "plotlyServerURL": "https://plot.ly",
        "scrollZoom": true
       },
       "data": [
        {
         "name": "Min",
         "type": "scatter",
         "x": [
          3,
          10,
          30,
          60,
          90,
          120,
          150,
          180,
          210,
          240,
          300,
          360
         ],
         "y": [
          0.0828952271837564,
          0.10701001081618808,
          0.1370303980281986,
          0.1415609835140488,
          0.16837721732769395,
          0.19608166769436672,
          0.19831417102476162,
          0.2132906621327431,
          0.22119736698893958,
          0.2309488470730558,
          0.237660788047171,
          0.24581156271374222
         ]
        },
        {
         "name": "Max",
         "type": "scatter",
         "x": [
          3,
          10,
          30,
          60,
          90,
          120,
          150,
          180,
          210,
          240,
          300,
          360
         ],
         "y": [
          2.006737297025804,
          1.5223618899274272,
          1.1030736079056471,
          0.8362286930230307,
          0.7258578194482158,
          0.6573768304934934,
          0.6178833899076762,
          0.5856225774095911,
          0.5648309599052442,
          0.5433880420154159,
          0.49953508683267467,
          0.46447564648624273
         ]
        },
        {
         "name": "Median",
         "type": "scatter",
         "x": [
          3,
          10,
          30,
          60,
          90,
          120,
          150,
          180,
          210,
          240,
          300,
          360
         ],
         "y": [
          0.27575029239883353,
          0.28621295746471787,
          0.30417380833261337,
          0.31746388997350683,
          0.34008346460451244,
          0.3532145988897612,
          0.37581115822220884,
          0.37170067366310955,
          0.37572235973691837,
          0.36779933965174244,
          0.3810712546239063,
          0.39532760110031895
         ]
        },
        {
         "name": "Upper 75%",
         "type": "scatter",
         "x": [
          3,
          10,
          30,
          60,
          90,
          120,
          150,
          180,
          210,
          240,
          300,
          360
         ],
         "y": [
          0.3914666292190806,
          0.4033450151648059,
          0.4274664980889251,
          0.44574507957796866,
          0.4569999383460406,
          0.4538883377529684,
          0.4544520623134625,
          0.45394892938111286,
          0.4584763526479488,
          0.4590594631291044,
          0.450390777043208,
          0.4463562579331593
         ]
        },
        {
         "name": "Lower 25%",
         "type": "scatter",
         "x": [
          3,
          10,
          30,
          60,
          90,
          120,
          150,
          180,
          210,
          240,
          300,
          360
         ],
         "y": [
          0.19182938328607177,
          0.2102572085642837,
          0.22718115178191375,
          0.23460140120922449,
          0.2387618843509463,
          0.24886285822036955,
          0.25665136219580426,
          0.25889534992699403,
          0.26869656606764314,
          0.2927195061537642,
          0.3217647694192437,
          0.33811092444586105
         ]
        },
        {
         "name": "Realized",
         "type": "scatter",
         "x": [
          3,
          10,
          30,
          60,
          90,
          120,
          150,
          180,
          210,
          240,
          300,
          360
         ],
         "y": [
          0.12852625765259784,
          0.21696490436959653,
          0.18653449157699292,
          0.1772575403710941,
          0.19541564030218647,
          0.1963134047058293,
          0.1990620739345693,
          0.21772458709898038,
          0.2391163095942725,
          0.25813900346840507,
          0.31359210995753556,
          0.3287978930426395
         ]
        }
       ],
       "layout": {
        "bargap": 0,
        "bargroupgap": 0,
        "barmode": "overlay",
        "legend": {
         "groupclick": "toggleitem",
         "orientation": "v",
         "tracegroupgap": 133.33333333333334,
         "x": 1,
         "xanchor": "right",
         "y": 1,
         "yanchor": "top"
        },
        "margin": {
         "b": 80,
         "l": 40,
         "r": 50,
         "t": 40
        },
        "modebar": {
         "activecolor": "#d1030d",
         "bgcolor": "#2A2A2A",
         "color": "#FFFFFF",
         "orientation": "v"
        },
        "newshape": {
         "line": {
          "color": "gold"
         }
        },
        "template": {
         "data": {
          "bar": [
           {
            "error_x": {
             "color": "#f2f5fa"
            },
            "error_y": {
             "color": "#f2f5fa"
            },
            "marker": {
             "line": {
              "color": "rgb(17,17,17)",
              "width": 0.5
             },
             "pattern": {
              "fillmode": "overlay",
              "size": 10,
              "solidity": 0.2
             }
            },
            "type": "bar"
           }
          ],
          "barpolar": [
           {
            "marker": {
             "line": {
              "color": "rgb(17,17,17)",
              "width": 0.5
             },
             "pattern": {
              "fillmode": "overlay",
              "size": 10,
              "solidity": 0.2
             }
            },
            "type": "barpolar"
           }
          ],
          "candlestick": [
           {
            "decreasing": {
             "fillcolor": "#e4003a",
             "line": {
              "color": "#e4003a"
             }
            },
            "increasing": {
             "fillcolor": "#00ACFF",
             "line": {
              "color": "#00ACFF"
             }
            },
            "type": "candlestick"
           }
          ],
          "carpet": [
           {
            "aaxis": {
             "endlinecolor": "#A2B1C6",
             "gridcolor": "#506784",
             "linecolor": "#506784",
             "minorgridcolor": "#506784",
             "startlinecolor": "#A2B1C6"
            },
            "baxis": {
             "endlinecolor": "#A2B1C6",
             "gridcolor": "#506784",
             "linecolor": "#506784",
             "minorgridcolor": "#506784",
             "startlinecolor": "#A2B1C6"
            },
            "type": "carpet"
           }
          ],
          "choropleth": [
           {
            "colorbar": {
             "outlinewidth": 0,
             "ticks": ""
            },
            "type": "choropleth"
           }
          ],
          "contour": [
           {
            "colorbar": {
             "outlinewidth": 0,
             "ticks": ""
            },
            "colorscale": [
             [
              0,
              "#0d0887"
             ],
             [
              0.1111111111111111,
              "#46039f"
             ],
             [
              0.2222222222222222,
              "#7201a8"
             ],
             [
              0.3333333333333333,
              "#9c179e"
             ],
             [
              0.4444444444444444,
              "#bd3786"
             ],
             [
              0.5555555555555556,
              "#d8576b"
             ],
             [
              0.6666666666666666,
              "#ed7953"
             ],
             [
              0.7777777777777778,
              "#fb9f3a"
             ],
             [
              0.8888888888888888,
              "#fdca26"
             ],
             [
              1,
              "#f0f921"
             ]
            ],
            "type": "contour"
           }
          ],
          "contourcarpet": [
           {
            "colorbar": {
             "outlinewidth": 0,
             "ticks": ""
            },
            "type": "contourcarpet"
           }
          ],
          "heatmap": [
           {
            "colorbar": {
             "outlinewidth": 0,
             "ticks": ""
            },
            "colorscale": [
             [
              0,
              "#0d0887"
             ],
             [
              0.1111111111111111,
              "#46039f"
             ],
             [
              0.2222222222222222,
              "#7201a8"
             ],
             [
              0.3333333333333333,
              "#9c179e"
             ],
             [
              0.4444444444444444,
              "#bd3786"
             ],
             [
              0.5555555555555556,
              "#d8576b"
             ],
             [
              0.6666666666666666,
              "#ed7953"
             ],
             [
              0.7777777777777778,
              "#fb9f3a"
             ],
             [
              0.8888888888888888,
              "#fdca26"
             ],
             [
              1,
              "#f0f921"
             ]
            ],
            "type": "heatmap"
           }
          ],
          "heatmapgl": [
           {
            "colorbar": {
             "outlinewidth": 0,
             "ticks": ""
            },
            "colorscale": [
             [
              0,
              "#0d0887"
             ],
             [
              0.1111111111111111,
              "#46039f"
             ],
             [
              0.2222222222222222,
              "#7201a8"
             ],
             [
              0.3333333333333333,
              "#9c179e"
             ],
             [
              0.4444444444444444,
              "#bd3786"
             ],
             [
              0.5555555555555556,
              "#d8576b"
             ],
             [
              0.6666666666666666,
              "#ed7953"
             ],
             [
              0.7777777777777778,
              "#fb9f3a"
             ],
             [
              0.8888888888888888,
              "#fdca26"
             ],
             [
              1,
              "#f0f921"
             ]
            ],
            "type": "heatmapgl"
           }
          ],
          "histogram": [
           {
            "marker": {
             "pattern": {
              "fillmode": "overlay",
              "size": 10,
              "solidity": 0.2
             }
            },
            "type": "histogram"
           }
          ],
          "histogram2d": [
           {
            "colorbar": {
             "outlinewidth": 0,
             "ticks": ""
            },
            "colorscale": [
             [
              0,
              "#0d0887"
             ],
             [
              0.1111111111111111,
              "#46039f"
             ],
             [
              0.2222222222222222,
              "#7201a8"
             ],
             [
              0.3333333333333333,
              "#9c179e"
             ],
             [
              0.4444444444444444,
              "#bd3786"
             ],
             [
              0.5555555555555556,
              "#d8576b"
             ],
             [
              0.6666666666666666,
              "#ed7953"
             ],
             [
              0.7777777777777778,
              "#fb9f3a"
             ],
             [
              0.8888888888888888,
              "#fdca26"
             ],
             [
              1,
              "#f0f921"
             ]
            ],
            "type": "histogram2d"
           }
          ],
          "histogram2dcontour": [
           {
            "colorbar": {
             "outlinewidth": 0,
             "ticks": ""
            },
            "colorscale": [
             [
              0,
              "#0d0887"
             ],
             [
              0.1111111111111111,
              "#46039f"
             ],
             [
              0.2222222222222222,
              "#7201a8"
             ],
             [
              0.3333333333333333,
              "#9c179e"
             ],
             [
              0.4444444444444444,
              "#bd3786"
             ],
             [
              0.5555555555555556,
              "#d8576b"
             ],
             [
              0.6666666666666666,
              "#ed7953"
             ],
             [
              0.7777777777777778,
              "#fb9f3a"
             ],
             [
              0.8888888888888888,
              "#fdca26"
             ],
             [
              1,
              "#f0f921"
             ]
            ],
            "type": "histogram2dcontour"
           }
          ],
          "mesh3d": [
           {
            "colorbar": {
             "outlinewidth": 0,
             "ticks": ""
            },
            "type": "mesh3d"
           }
          ],
          "parcoords": [
           {
            "line": {
             "colorbar": {
              "outlinewidth": 0,
              "ticks": ""
             }
            },
            "type": "parcoords"
           }
          ],
          "pie": [
           {
            "automargin": true,
            "type": "pie"
           }
          ],
          "scatter": [
           {
            "marker": {
             "line": {
              "color": "#283442"
             }
            },
            "type": "scatter"
           }
          ],
          "scatter3d": [
           {
            "line": {
             "colorbar": {
              "outlinewidth": 0,
              "ticks": ""
             }
            },
            "marker": {
             "colorbar": {
              "outlinewidth": 0,
              "ticks": ""
             }
            },
            "type": "scatter3d"
           }
          ],
          "scattercarpet": [
           {
            "marker": {
             "colorbar": {
              "outlinewidth": 0,
              "ticks": ""
             }
            },
            "type": "scattercarpet"
           }
          ],
          "scattergeo": [
           {
            "marker": {
             "colorbar": {
              "outlinewidth": 0,
              "ticks": ""
             }
            },
            "type": "scattergeo"
           }
          ],
          "scattergl": [
           {
            "marker": {
             "line": {
              "color": "#283442"
             }
            },
            "type": "scattergl"
           }
          ],
          "scattermapbox": [
           {
            "marker": {
             "colorbar": {
              "outlinewidth": 0,
              "ticks": ""
             }
            },
            "type": "scattermapbox"
           }
          ],
          "scatterpolar": [
           {
            "marker": {
             "colorbar": {
              "outlinewidth": 0,
              "ticks": ""
             }
            },
            "type": "scatterpolar"
           }
          ],
          "scatterpolargl": [
           {
            "marker": {
             "colorbar": {
              "outlinewidth": 0,
              "ticks": ""
             }
            },
            "type": "scatterpolargl"
           }
          ],
          "scatterternary": [
           {
            "marker": {
             "colorbar": {
              "outlinewidth": 0,
              "ticks": ""
             }
            },
            "type": "scatterternary"
           }
          ],
          "surface": [
           {
            "colorbar": {
             "outlinewidth": 0,
             "ticks": ""
            },
            "colorscale": [
             [
              0,
              "#0d0887"
             ],
             [
              0.1111111111111111,
              "#46039f"
             ],
             [
              0.2222222222222222,
              "#7201a8"
             ],
             [
              0.3333333333333333,
              "#9c179e"
             ],
             [
              0.4444444444444444,
              "#bd3786"
             ],
             [
              0.5555555555555556,
              "#d8576b"
             ],
             [
              0.6666666666666666,
              "#ed7953"
             ],
             [
              0.7777777777777778,
              "#fb9f3a"
             ],
             [
              0.8888888888888888,
              "#fdca26"
             ],
             [
              1,
              "#f0f921"
             ]
            ],
            "type": "surface"
           }
          ],
          "table": [
           {
            "cells": {
             "fill": {
              "color": "#506784"
             },
             "line": {
              "color": "rgb(17,17,17)"
             }
            },
            "header": {
             "fill": {
              "color": "#2a3f5f"
             },
             "line": {
              "color": "rgb(17,17,17)"
             }
            },
            "type": "table"
           }
          ]
         },
         "layout": {
          "annotationdefaults": {
           "arrowcolor": "#f2f5fa",
           "arrowhead": 0,
           "arrowwidth": 1,
           "showarrow": false
          },
          "autotypenumbers": "strict",
          "coloraxis": {
           "colorbar": {
            "outlinewidth": 0,
            "ticks": ""
           }
          },
          "colorscale": {
           "diverging": [
            [
             0,
             "#8e0152"
            ],
            [
             0.1,
             "#c51b7d"
            ],
            [
             0.2,
             "#de77ae"
            ],
            [
             0.3,
             "#f1b6da"
            ],
            [
             0.4,
             "#fde0ef"
            ],
            [
             0.5,
             "#f7f7f7"
            ],
            [
             0.6,
             "#e6f5d0"
            ],
            [
             0.7,
             "#b8e186"
            ],
            [
             0.8,
             "#7fbc41"
            ],
            [
             0.9,
             "#4d9221"
            ],
            [
             1,
             "#276419"
            ]
           ],
           "sequential": [
            [
             0,
             "#0d0887"
            ],
            [
             0.1111111111111111,
             "#46039f"
            ],
            [
             0.2222222222222222,
             "#7201a8"
            ],
            [
             0.3333333333333333,
             "#9c179e"
            ],
            [
             0.4444444444444444,
             "#bd3786"
            ],
            [
             0.5555555555555556,
             "#d8576b"
            ],
            [
             0.6666666666666666,
             "#ed7953"
            ],
            [
             0.7777777777777778,
             "#fb9f3a"
            ],
            [
             0.8888888888888888,
             "#fdca26"
            ],
            [
             1,
             "#f0f921"
            ]
           ],
           "sequentialminus": [
            [
             0,
             "#0d0887"
            ],
            [
             0.1111111111111111,
             "#46039f"
            ],
            [
             0.2222222222222222,
             "#7201a8"
            ],
            [
             0.3333333333333333,
             "#9c179e"
            ],
            [
             0.4444444444444444,
             "#bd3786"
            ],
            [
             0.5555555555555556,
             "#d8576b"
            ],
            [
             0.6666666666666666,
             "#ed7953"
            ],
            [
             0.7777777777777778,
             "#fb9f3a"
            ],
            [
             0.8888888888888888,
             "#fdca26"
            ],
            [
             1,
             "#f0f921"
            ]
           ]
          },
          "colorway": [
           "#ffed00",
           "#ef7d00",
           "#e4003a",
           "#c13246",
           "#822661",
           "#48277c",
           "#005ca9",
           "#00aaff",
           "#9b30d9",
           "#af005f",
           "#5f00af",
           "#af87ff"
          ],
          "dragmode": "pan",
          "font": {
           "color": "#f2f5fa",
           "family": "Fira Code",
           "size": 18
          },
          "geo": {
           "bgcolor": "rgb(17,17,17)",
           "lakecolor": "rgb(17,17,17)",
           "landcolor": "rgb(17,17,17)",
           "showlakes": true,
           "showland": true,
           "subunitcolor": "#506784"
          },
          "hoverlabel": {
           "align": "left"
          },
          "hovermode": "x",
          "legend": {
           "bgcolor": "rgba(0, 0, 0, 0)",
           "font": {
            "size": 15
           },
           "x": 0.01,
           "xanchor": "left",
           "y": 0.99,
           "yanchor": "top"
          },
          "mapbox": {
           "style": "dark"
          },
          "paper_bgcolor": "#000000",
          "plot_bgcolor": "#000000",
          "polar": {
           "angularaxis": {
            "gridcolor": "#506784",
            "linecolor": "#506784",
            "ticks": ""
           },
           "bgcolor": "rgb(17,17,17)",
           "radialaxis": {
            "gridcolor": "#506784",
            "linecolor": "#506784",
            "ticks": ""
           }
          },
          "scene": {
           "xaxis": {
            "backgroundcolor": "rgb(17,17,17)",
            "gridcolor": "#506784",
            "gridwidth": 2,
            "linecolor": "#506784",
            "showbackground": true,
            "ticks": "",
            "zerolinecolor": "#C8D4E3"
           },
           "yaxis": {
            "backgroundcolor": "rgb(17,17,17)",
            "gridcolor": "#506784",
            "gridwidth": 2,
            "linecolor": "#506784",
            "showbackground": true,
            "ticks": "",
            "zerolinecolor": "#C8D4E3"
           },
           "zaxis": {
            "backgroundcolor": "rgb(17,17,17)",
            "gridcolor": "#506784",
            "gridwidth": 2,
            "linecolor": "#506784",
            "showbackground": true,
            "ticks": "",
            "zerolinecolor": "#C8D4E3"
           }
          },
          "shapedefaults": {
           "line": {
            "color": "#f2f5fa"
           }
          },
          "sliderdefaults": {
           "bgcolor": "#C8D4E3",
           "bordercolor": "rgb(17,17,17)",
           "borderwidth": 1,
           "tickwidth": 0
          },
          "ternary": {
           "aaxis": {
            "gridcolor": "#506784",
            "linecolor": "#506784",
            "ticks": ""
           },
           "baxis": {
            "gridcolor": "#506784",
            "linecolor": "#506784",
            "ticks": ""
           },
           "bgcolor": "rgb(17,17,17)",
           "caxis": {
            "gridcolor": "#506784",
            "linecolor": "#506784",
            "ticks": ""
           }
          },
          "title": {
           "x": 0.05
          },
          "updatemenudefaults": {
           "bgcolor": "#506784",
           "borderwidth": 0
          },
          "xaxis": {
           "automargin": true,
           "autorange": true,
           "gridcolor": "#283442",
           "linecolor": "#F5EFF3",
           "mirror": true,
           "rangeslider": {
            "visible": false
           },
           "showgrid": true,
           "showline": true,
           "tick0": 1,
           "tickfont": {
            "size": 14
           },
           "ticks": "outside",
           "title": {
            "standoff": 20
           },
           "zeroline": false,
           "zerolinecolor": "#283442",
           "zerolinewidth": 2
          },
          "yaxis": {
           "anchor": "x",
           "automargin": true,
           "fixedrange": false,
           "gridcolor": "#283442",
           "linecolor": "#F5EFF3",
           "mirror": true,
           "showgrid": true,
           "showline": true,
           "side": "right",
           "tick0": 0.5,
           "ticks": "outside",
           "title": {
            "standoff": 20
           },
           "zeroline": false,
           "zerolinecolor": "#283442",
           "zerolinewidth": 2
          }
         }
        },
        "title": {
         "text": "Weekly SPY - Realized Volatility Cones - Garman-Klass Model",
         "x": 0.5
        },
        "xaxis": {
         "tickmode": "array",
         "ticktext": [
          3,
          10,
          30,
          60,
          90,
          120,
          150,
          180,
          210,
          240,
          300,
          360
         ],
         "tickvals": [
          3,
          10,
          30,
          60,
          90,
          120,
          150,
          180,
          210,
          240,
          300,
          360
         ],
         "title": {
          "text": "Window of Time (in days)"
         }
        }
       }
      }
     },
     "metadata": {},
     "output_type": "display_data"
    }
   ],
   "source": [
    "openbb.ta.cones_chart(\n",
    "    data = openbb.stocks.load('SPY', weekly = True, start_date = '1990-01-01'),\n",
    "    symbol = 'Weekly SPY',\n",
    "    model = 'Garman-Klass',    \n",
    ")"
   ]
  },
  {
   "attachments": {},
   "cell_type": "markdown",
   "metadata": {},
   "source": [
    "## Advanced Use\n",
    "\n",
    "A chart or a table is nice and all, but what are we supposed to do with it? Becoming a Script-Kitty can start with simply being curious. Curiousity runs hot with motivation, keep those burning questions in mind to begin down the path towards answering them. Here's a really basic example of what curiousity can look like: \n",
    "\n",
    "### How can I compare the difference between all models within one table?"
   ]
  },
  {
   "cell_type": "code",
   "execution_count": 32,
   "metadata": {},
   "outputs": [
    {
     "data": {
      "text/html": [
       "<pre style=\"white-space:pre;overflow-x:auto;line-height:normal;font-family:Menlo,'DejaVu Sans Mono',consolas,'Courier New',monospace\">Loading Daily data for TLT with starting period 2002-07-30.\n",
       "</pre>\n"
      ],
      "text/plain": [
       "Loading Daily data for TLT with starting period 2002-07-30.\n"
      ]
     },
     "metadata": {},
     "output_type": "display_data"
    }
   ],
   "source": [
    "# Get some data - TLT is the iShares 20 Plus Year Treasury Bond ETF. \n",
    "\n",
    "data = openbb.stocks.load('TLT', start_date = '2000-01-01')"
   ]
  },
  {
   "cell_type": "code",
   "execution_count": 33,
   "metadata": {},
   "outputs": [
    {
     "data": {
      "image/png": "[encoded data removed]",
      "image/svg+xml": "<?xml version=\"1.0\" encoding=\"utf-8\" standalone=\"no\"?>\n<!DOCTYPE svg PUBLIC \"-//W3C//DTD SVG 1.1//EN\"\n  \"http://www.w3.org/Graphics/SVG/1.1/DTD/svg11.dtd\">\n<svg xmlns:xlink=\"http://www.w3.org/1999/xlink\" width=\"942.0925pt\" height=\"279.701963pt\" viewBox=\"0 0 942.0925 279.701963\" xmlns=\"http://www.w3.org/2000/svg\" version=\"1.1\">\n <metadata>\n  <rdf:RDF xmlns:dc=\"http://purl.org/dc/elements/1.1/\" xmlns:cc=\"http://creativecommons.org/ns#\" xmlns:rdf=\"http://www.w3.org/1999/02/22-rdf-syntax-ns#\">\n   <cc:Work>\n    <dc:type rdf:resource=\"http://purl.org/dc/dcmitype/StillImage\"/>\n    <dc:date>2023-03-02T21:17:29.818709</dc:date>\n    <dc:format>image/svg+xml</dc:format>\n    <dc:creator>\n     <cc:Agent>\n      <dc:title>Matplotlib v3.7.0, https://matplotlib.org/</dc:title>\n     </cc:Agent>\n    </dc:creator>\n   </cc:Work>\n  </rdf:RDF>\n </metadata>\n <defs>\n  <style type=\"text/css\">*{stroke-linejoin: round; stroke-linecap: butt}</style>\n </defs>\n <g id=\"figure_1\">\n  <g id=\"patch_1\">\n   <path d=\"M 0 279.701963 \nL 942.0925 279.701963 \nL 942.0925 0 \nL 0 0 \nz\n\"/>\n  </g>\n  <g id=\"axes_1\">\n   <g id=\"patch_2\">\n    <path d=\"M 7.2 239.0708 \nL 900 239.0708 \nL 900 43.2308 \nL 7.2 43.2308 \nz\n\" style=\"fill-opacity: 0.921569\"/>\n   </g>\n   <g id=\"matplotlib.axis_1\">\n    <g id=\"xtick_1\">\n     <g id=\"line2d_1\">\n      <path d=\"M 76.486648 239.0708 \nL 76.486648 43.2308 \n\" clip-path=\"url(#p7c3c9dc49a)\" style=\"fill: none; stroke-dasharray: 1.11,0.48; stroke-dashoffset: 0; stroke: #e1e1e1; stroke-opacity: 0.3; stroke-width: 0.3; stroke-linejoin: miter; stroke-linecap: square\"/>\n     </g>\n     <g id=\"text_1\">\n      <!-- 2004 -->\n      <g style=\"fill: #f5eff3\" transform=\"translate(49.76677 270.191682) rotate(-30) scale(0.13328 -0.13328)\">\n       <defs>\n        <path id=\"Consolas-32\" d=\"M 3150 0 \nL 459 0 \nL 459 488 \nL 1516 1538 \nQ 1775 1794 1937 1981 \nQ 2100 2169 2190 2323 \nQ 2281 2478 2312 2615 \nQ 2344 2753 2344 2913 \nQ 2344 3063 2303 3198 \nQ 2263 3334 2178 3437 \nQ 2094 3541 1959 3600 \nQ 1825 3659 1638 3659 \nQ 1378 3659 1165 3543 \nQ 953 3428 775 3244 \nL 475 3603 \nQ 706 3847 1007 3994 \nQ 1309 4141 1709 4141 \nQ 1981 4141 2204 4059 \nQ 2428 3978 2590 3825 \nQ 2753 3672 2842 3450 \nQ 2931 3228 2931 2950 \nQ 2931 2716 2868 2516 \nQ 2806 2316 2679 2117 \nQ 2553 1919 2361 1706 \nQ 2169 1494 1906 1241 \nL 1166 519 \nL 3150 519 \nL 3150 0 \nz\n\" transform=\"scale(0.015625)\"/>\n        <path id=\"Consolas-30\" d=\"M 3244 2041 \nQ 3244 1572 3150 1186 \nQ 3056 800 2865 523 \nQ 2675 247 2392 95 \nQ 2109 -56 1728 -56 \nQ 1400 -56 1131 67 \nQ 863 191 672 447 \nQ 481 703 378 1100 \nQ 275 1497 275 2041 \nQ 275 2509 370 2896 \nQ 466 3284 655 3561 \nQ 844 3838 1128 3989 \nQ 1413 4141 1791 4141 \nQ 2119 4141 2387 4017 \nQ 2656 3894 2847 3636 \nQ 3038 3378 3141 2981 \nQ 3244 2584 3244 2041 \nz\nM 2694 2022 \nQ 2694 2128 2686 2233 \nQ 2678 2338 2669 2438 \nL 941 1153 \nQ 988 991 1059 853 \nQ 1131 716 1232 617 \nQ 1334 519 1464 464 \nQ 1594 409 1759 409 \nQ 1972 409 2145 512 \nQ 2319 616 2441 819 \nQ 2563 1022 2628 1323 \nQ 2694 1625 2694 2022 \nz\nM 825 2059 \nQ 825 1963 826 1866 \nQ 828 1769 838 1678 \nL 2566 2956 \nQ 2519 3116 2447 3247 \nQ 2375 3378 2275 3473 \nQ 2175 3569 2047 3622 \nQ 1919 3675 1759 3675 \nQ 1547 3675 1373 3572 \nQ 1200 3469 1078 3264 \nQ 956 3059 890 2757 \nQ 825 2456 825 2059 \nz\n\" transform=\"scale(0.015625)\"/>\n        <path id=\"Consolas-34\" d=\"M 3353 903 \nL 2656 903 \nL 2656 0 \nL 2100 0 \nL 2100 903 \nL 134 903 \nL 134 1381 \nL 1875 4084 \nL 2656 4084 \nL 2656 1381 \nL 3353 1381 \nL 3353 903 \nz\nM 2100 3559 \nL 678 1381 \nL 2100 1381 \nL 2100 3559 \nz\n\" transform=\"scale(0.015625)\"/>\n       </defs>\n       <use xlink:href=\"#Consolas-32\"/>\n       <use xlink:href=\"#Consolas-30\" x=\"54.980469\"/>\n       <use xlink:href=\"#Consolas-30\" x=\"109.960938\"/>\n       <use xlink:href=\"#Consolas-34\" x=\"164.941406\"/>\n      </g>\n     </g>\n    </g>\n    <g id=\"xtick_2\">\n     <g id=\"line2d_2\">\n      <path d=\"M 161.58307 239.0708 \nL 161.58307 43.2308 \n\" clip-path=\"url(#p7c3c9dc49a)\" style=\"fill: none; stroke-dasharray: 1.11,0.48; stroke-dashoffset: 0; stroke: #e1e1e1; stroke-opacity: 0.3; stroke-width: 0.3; stroke-linejoin: miter; stroke-linecap: square\"/>\n     </g>\n     <g id=\"text_2\">\n      <!-- 2006 -->\n      <g style=\"fill: #f5eff3\" transform=\"translate(134.863193 270.191682) rotate(-30) scale(0.13328 -0.13328)\">\n       <defs>\n        <path id=\"Consolas-36\" d=\"M 3200 1294 \nQ 3200 1013 3098 766 \nQ 2997 519 2809 336 \nQ 2622 153 2358 48 \nQ 2094 -56 1772 -56 \nQ 1434 -56 1175 51 \nQ 916 159 741 382 \nQ 566 606 475 947 \nQ 384 1288 384 1753 \nQ 384 2066 425 2359 \nQ 466 2653 559 2912 \nQ 653 3172 809 3387 \nQ 966 3603 1198 3758 \nQ 1431 3913 1747 3998 \nQ 2063 4084 2478 4084 \nL 2881 4084 \nL 2881 3609 \nL 2444 3609 \nQ 2078 3609 1809 3521 \nQ 1541 3434 1359 3275 \nQ 1178 3116 1081 2891 \nQ 984 2666 959 2388 \nL 947 2259 \nQ 1144 2375 1401 2445 \nQ 1659 2516 1959 2516 \nQ 2269 2516 2501 2425 \nQ 2734 2334 2889 2173 \nQ 3044 2013 3122 1788 \nQ 3200 1563 3200 1294 \nz\nM 2631 1259 \nQ 2631 1447 2586 1598 \nQ 2541 1750 2444 1854 \nQ 2347 1959 2198 2017 \nQ 2050 2075 1844 2075 \nQ 1725 2075 1603 2053 \nQ 1481 2031 1364 1992 \nQ 1247 1953 1140 1903 \nQ 1034 1853 947 1797 \nQ 947 1394 1003 1123 \nQ 1059 853 1170 690 \nQ 1281 528 1443 459 \nQ 1606 391 1819 391 \nQ 1997 391 2145 448 \nQ 2294 506 2401 618 \nQ 2509 731 2570 892 \nQ 2631 1053 2631 1259 \nz\n\" transform=\"scale(0.015625)\"/>\n       </defs>\n       <use xlink:href=\"#Consolas-32\"/>\n       <use xlink:href=\"#Consolas-30\" x=\"54.980469\"/>\n       <use xlink:href=\"#Consolas-30\" x=\"109.960938\"/>\n       <use xlink:href=\"#Consolas-36\" x=\"164.941406\"/>\n      </g>\n     </g>\n    </g>\n    <g id=\"xtick_3\">\n     <g id=\"line2d_3\">\n      <path d=\"M 246.563082 239.0708 \nL 246.563082 43.2308 \n\" clip-path=\"url(#p7c3c9dc49a)\" style=\"fill: none; stroke-dasharray: 1.11,0.48; stroke-dashoffset: 0; stroke: #e1e1e1; stroke-opacity: 0.3; stroke-width: 0.3; stroke-linejoin: miter; stroke-linecap: square\"/>\n     </g>\n     <g id=\"text_3\">\n      <!-- 2008 -->\n      <g style=\"fill: #f5eff3\" transform=\"translate(219.843204 270.191682) rotate(-30) scale(0.13328 -0.13328)\">\n       <defs>\n        <path id=\"Consolas-38\" d=\"M 3150 1025 \nQ 3150 766 3044 564 \nQ 2938 363 2747 225 \nQ 2556 88 2297 16 \nQ 2038 -56 1734 -56 \nQ 1400 -56 1145 19 \nQ 891 94 719 228 \nQ 547 363 459 547 \nQ 372 731 372 953 \nQ 372 1328 581 1600 \nQ 791 1872 1228 2094 \nQ 828 2297 643 2545 \nQ 459 2794 459 3116 \nQ 459 3313 540 3497 \nQ 622 3681 786 3825 \nQ 950 3969 1197 4055 \nQ 1444 4141 1778 4141 \nQ 2094 4141 2333 4073 \nQ 2572 4006 2734 3881 \nQ 2897 3756 2978 3578 \nQ 3059 3400 3059 3181 \nQ 3059 2825 2861 2575 \nQ 2663 2325 2297 2138 \nQ 2478 2047 2634 1937 \nQ 2791 1828 2906 1693 \nQ 3022 1559 3086 1393 \nQ 3150 1228 3150 1025 \nz\nM 2503 3138 \nQ 2503 3416 2308 3552 \nQ 2113 3688 1759 3688 \nQ 1409 3688 1214 3553 \nQ 1019 3419 1019 3150 \nQ 1019 3028 1066 2925 \nQ 1113 2822 1211 2731 \nQ 1309 2641 1456 2553 \nQ 1603 2466 1806 2375 \nQ 2159 2541 2331 2720 \nQ 2503 2900 2503 3138 \nz\nM 2559 984 \nQ 2559 1100 2521 1209 \nQ 2484 1319 2387 1425 \nQ 2291 1531 2128 1637 \nQ 1966 1744 1716 1856 \nQ 1503 1753 1358 1651 \nQ 1213 1550 1123 1445 \nQ 1034 1341 996 1228 \nQ 959 1116 959 991 \nQ 959 850 1020 742 \nQ 1081 634 1187 559 \nQ 1294 484 1441 446 \nQ 1588 409 1759 409 \nQ 1925 409 2072 443 \nQ 2219 478 2326 548 \nQ 2434 619 2496 726 \nQ 2559 834 2559 984 \nz\n\" transform=\"scale(0.015625)\"/>\n       </defs>\n       <use xlink:href=\"#Consolas-32\"/>\n       <use xlink:href=\"#Consolas-30\" x=\"54.980469\"/>\n       <use xlink:href=\"#Consolas-30\" x=\"109.960938\"/>\n       <use xlink:href=\"#Consolas-38\" x=\"164.941406\"/>\n      </g>\n     </g>\n    </g>\n    <g id=\"xtick_4\">\n     <g id=\"line2d_4\">\n      <path d=\"M 331.659504 239.0708 \nL 331.659504 43.2308 \n\" clip-path=\"url(#p7c3c9dc49a)\" style=\"fill: none; stroke-dasharray: 1.11,0.48; stroke-dashoffset: 0; stroke: #e1e1e1; stroke-opacity: 0.3; stroke-width: 0.3; stroke-linejoin: miter; stroke-linecap: square\"/>\n     </g>\n     <g id=\"text_4\">\n      <!-- 2010 -->\n      <g style=\"fill: #f5eff3\" transform=\"translate(304.939626 270.191682) rotate(-30) scale(0.13328 -0.13328)\">\n       <defs>\n        <path id=\"Consolas-31\" d=\"M 3116 0 \nL 550 0 \nL 550 506 \nL 1600 506 \nL 1600 3488 \nL 622 2956 \nL 422 3419 \nL 1722 4103 \nL 2203 4103 \nL 2203 506 \nL 3116 506 \nL 3116 0 \nz\n\" transform=\"scale(0.015625)\"/>\n       </defs>\n       <use xlink:href=\"#Consolas-32\"/>\n       <use xlink:href=\"#Consolas-30\" x=\"54.980469\"/>\n       <use xlink:href=\"#Consolas-31\" x=\"109.960938\"/>\n       <use xlink:href=\"#Consolas-30\" x=\"164.941406\"/>\n      </g>\n     </g>\n    </g>\n    <g id=\"xtick_5\">\n     <g id=\"line2d_5\">\n      <path d=\"M 416.639516 239.0708 \nL 416.639516 43.2308 \n\" clip-path=\"url(#p7c3c9dc49a)\" style=\"fill: none; stroke-dasharray: 1.11,0.48; stroke-dashoffset: 0; stroke: #e1e1e1; stroke-opacity: 0.3; stroke-width: 0.3; stroke-linejoin: miter; stroke-linecap: square\"/>\n     </g>\n     <g id=\"text_5\">\n      <!-- 2012 -->\n      <g style=\"fill: #f5eff3\" transform=\"translate(389.919638 270.191682) rotate(-30) scale(0.13328 -0.13328)\">\n       <use xlink:href=\"#Consolas-32\"/>\n       <use xlink:href=\"#Consolas-30\" x=\"54.980469\"/>\n       <use xlink:href=\"#Consolas-31\" x=\"109.960938\"/>\n       <use xlink:href=\"#Consolas-32\" x=\"164.941406\"/>\n      </g>\n     </g>\n    </g>\n    <g id=\"xtick_6\">\n     <g id=\"line2d_6\">\n      <path d=\"M 501.735938 239.0708 \nL 501.735938 43.2308 \n\" clip-path=\"url(#p7c3c9dc49a)\" style=\"fill: none; stroke-dasharray: 1.11,0.48; stroke-dashoffset: 0; stroke: #e1e1e1; stroke-opacity: 0.3; stroke-width: 0.3; stroke-linejoin: miter; stroke-linecap: square\"/>\n     </g>\n     <g id=\"text_6\">\n      <!-- 2014 -->\n      <g style=\"fill: #f5eff3\" transform=\"translate(475.01606 270.191682) rotate(-30) scale(0.13328 -0.13328)\">\n       <use xlink:href=\"#Consolas-32\"/>\n       <use xlink:href=\"#Consolas-30\" x=\"54.980469\"/>\n       <use xlink:href=\"#Consolas-31\" x=\"109.960938\"/>\n       <use xlink:href=\"#Consolas-34\" x=\"164.941406\"/>\n      </g>\n     </g>\n    </g>\n    <g id=\"xtick_7\">\n     <g id=\"line2d_7\">\n      <path d=\"M 586.715949 239.0708 \nL 586.715949 43.2308 \n\" clip-path=\"url(#p7c3c9dc49a)\" style=\"fill: none; stroke-dasharray: 1.11,0.48; stroke-dashoffset: 0; stroke: #e1e1e1; stroke-opacity: 0.3; stroke-width: 0.3; stroke-linejoin: miter; stroke-linecap: square\"/>\n     </g>\n     <g id=\"text_7\">\n      <!-- 2016 -->\n      <g style=\"fill: #f5eff3\" transform=\"translate(559.996072 270.191682) rotate(-30) scale(0.13328 -0.13328)\">\n       <use xlink:href=\"#Consolas-32\"/>\n       <use xlink:href=\"#Consolas-30\" x=\"54.980469\"/>\n       <use xlink:href=\"#Consolas-31\" x=\"109.960938\"/>\n       <use xlink:href=\"#Consolas-36\" x=\"164.941406\"/>\n      </g>\n     </g>\n    </g>\n    <g id=\"xtick_8\">\n     <g id=\"line2d_8\">\n      <path d=\"M 671.812372 239.0708 \nL 671.812372 43.2308 \n\" clip-path=\"url(#p7c3c9dc49a)\" style=\"fill: none; stroke-dasharray: 1.11,0.48; stroke-dashoffset: 0; stroke: #e1e1e1; stroke-opacity: 0.3; stroke-width: 0.3; stroke-linejoin: miter; stroke-linecap: square\"/>\n     </g>\n     <g id=\"text_8\">\n      <!-- 2018 -->\n      <g style=\"fill: #f5eff3\" transform=\"translate(645.092494 270.191682) rotate(-30) scale(0.13328 -0.13328)\">\n       <use xlink:href=\"#Consolas-32\"/>\n       <use xlink:href=\"#Consolas-30\" x=\"54.980469\"/>\n       <use xlink:href=\"#Consolas-31\" x=\"109.960938\"/>\n       <use xlink:href=\"#Consolas-38\" x=\"164.941406\"/>\n      </g>\n     </g>\n    </g>\n    <g id=\"xtick_9\">\n     <g id=\"line2d_9\">\n      <path d=\"M 756.792383 239.0708 \nL 756.792383 43.2308 \n\" clip-path=\"url(#p7c3c9dc49a)\" style=\"fill: none; stroke-dasharray: 1.11,0.48; stroke-dashoffset: 0; stroke: #e1e1e1; stroke-opacity: 0.3; stroke-width: 0.3; stroke-linejoin: miter; stroke-linecap: square\"/>\n     </g>\n     <g id=\"text_9\">\n      <!-- 2020 -->\n      <g style=\"fill: #f5eff3\" transform=\"translate(730.072505 270.191682) rotate(-30) scale(0.13328 -0.13328)\">\n       <use xlink:href=\"#Consolas-32\"/>\n       <use xlink:href=\"#Consolas-30\" x=\"54.980469\"/>\n       <use xlink:href=\"#Consolas-32\" x=\"109.960938\"/>\n       <use xlink:href=\"#Consolas-30\" x=\"164.941406\"/>\n      </g>\n     </g>\n    </g>\n    <g id=\"xtick_10\">\n     <g id=\"line2d_10\">\n      <path d=\"M 841.888806 239.0708 \nL 841.888806 43.2308 \n\" clip-path=\"url(#p7c3c9dc49a)\" style=\"fill: none; stroke-dasharray: 1.11,0.48; stroke-dashoffset: 0; stroke: #e1e1e1; stroke-opacity: 0.3; stroke-width: 0.3; stroke-linejoin: miter; stroke-linecap: square\"/>\n     </g>\n     <g id=\"text_10\">\n      <!-- 2022 -->\n      <g style=\"fill: #f5eff3\" transform=\"translate(815.168928 270.191682) rotate(-30) scale(0.13328 -0.13328)\">\n       <use xlink:href=\"#Consolas-32\"/>\n       <use xlink:href=\"#Consolas-30\" x=\"54.980469\"/>\n       <use xlink:href=\"#Consolas-32\" x=\"109.960938\"/>\n       <use xlink:href=\"#Consolas-32\" x=\"164.941406\"/>\n      </g>\n     </g>\n    </g>\n    <g id=\"xtick_11\"/>\n    <g id=\"xtick_12\"/>\n    <g id=\"xtick_13\"/>\n    <g id=\"xtick_14\"/>\n    <g id=\"xtick_15\"/>\n    <g id=\"xtick_16\"/>\n    <g id=\"xtick_17\"/>\n    <g id=\"xtick_18\"/>\n    <g id=\"xtick_19\"/>\n    <g id=\"xtick_20\"/>\n    <g id=\"xtick_21\"/>\n    <g id=\"xtick_22\"/>\n    <g id=\"xtick_23\"/>\n    <g id=\"xtick_24\"/>\n    <g id=\"xtick_25\"/>\n    <g id=\"xtick_26\"/>\n    <g id=\"xtick_27\"/>\n    <g id=\"xtick_28\"/>\n    <g id=\"xtick_29\"/>\n    <g id=\"xtick_30\"/>\n    <g id=\"xtick_31\"/>\n    <g id=\"xtick_32\"/>\n    <g id=\"xtick_33\"/>\n    <g id=\"xtick_34\"/>\n    <g id=\"xtick_35\"/>\n    <g id=\"xtick_36\"/>\n    <g id=\"xtick_37\"/>\n    <g id=\"xtick_38\"/>\n    <g id=\"xtick_39\"/>\n    <g id=\"xtick_40\"/>\n    <g id=\"xtick_41\"/>\n    <g id=\"xtick_42\"/>\n    <g id=\"xtick_43\"/>\n    <g id=\"xtick_44\"/>\n    <g id=\"xtick_45\"/>\n    <g id=\"xtick_46\"/>\n    <g id=\"xtick_47\"/>\n    <g id=\"xtick_48\"/>\n    <g id=\"xtick_49\"/>\n    <g id=\"xtick_50\"/>\n    <g id=\"xtick_51\"/>\n   </g>\n   <g id=\"matplotlib.axis_2\">\n    <g id=\"ytick_1\">\n     <g id=\"line2d_11\">\n      <path d=\"M 7.2 217.11587 \nL 900 217.11587 \n\" clip-path=\"url(#p7c3c9dc49a)\" style=\"fill: none; stroke-dasharray: 1.11,0.48; stroke-dashoffset: 0; stroke: #e1e1e1; stroke-opacity: 0.3; stroke-width: 0.3; stroke-linejoin: miter; stroke-linecap: square\"/>\n     </g>\n     <g id=\"line2d_12\">\n      <defs>\n       <path id=\"mad13c6ad95\" d=\"M 0 0 \nL 5 0 \n\" style=\"stroke: #f5eff3; stroke-width: 0.5\"/>\n      </defs>\n      <g>\n       <use xlink:href=\"#mad13c6ad95\" x=\"900\" y=\"217.11587\" style=\"fill: #f5eff3; stroke: #f5eff3; stroke-width: 0.5\"/>\n      </g>\n     </g>\n     <g id=\"text_11\">\n      <!-- 50 -->\n      <g style=\"fill: #f5eff3\" transform=\"translate(908.5 221.03462) scale(0.16 -0.16)\">\n       <defs>\n        <path id=\"Consolas-35\" d=\"M 3047 1306 \nQ 3047 1003 2915 753 \nQ 2784 503 2554 323 \nQ 2325 144 2012 44 \nQ 1700 -56 1338 -56 \nQ 1247 -56 1142 -51 \nQ 1038 -47 934 -39 \nQ 831 -31 732 -22 \nQ 634 -13 556 0 \nL 556 494 \nQ 725 453 942 434 \nQ 1159 416 1381 416 \nQ 1631 416 1831 475 \nQ 2031 534 2172 645 \nQ 2313 756 2388 914 \nQ 2463 1072 2463 1269 \nQ 2463 1650 2189 1823 \nQ 1916 1997 1403 1997 \nL 628 1997 \nL 628 4084 \nL 2828 4084 \nL 2828 3609 \nL 1141 3609 \nL 1141 2463 \nL 1497 2463 \nQ 1791 2463 2069 2409 \nQ 2347 2356 2564 2223 \nQ 2781 2091 2914 1867 \nQ 3047 1644 3047 1306 \nz\n\" transform=\"scale(0.015625)\"/>\n       </defs>\n       <use xlink:href=\"#Consolas-35\"/>\n       <use xlink:href=\"#Consolas-30\" x=\"54.980469\"/>\n      </g>\n     </g>\n    </g>\n    <g id=\"ytick_2\">\n     <g id=\"line2d_13\">\n      <path d=\"M 7.2 180.737991 \nL 900 180.737991 \n\" clip-path=\"url(#p7c3c9dc49a)\" style=\"fill: none; stroke-dasharray: 1.11,0.48; stroke-dashoffset: 0; stroke: #e1e1e1; stroke-opacity: 0.3; stroke-width: 0.3; stroke-linejoin: miter; stroke-linecap: square\"/>\n     </g>\n     <g id=\"line2d_14\">\n      <g>\n       <use xlink:href=\"#mad13c6ad95\" x=\"900\" y=\"180.737991\" style=\"fill: #f5eff3; stroke: #f5eff3; stroke-width: 0.5\"/>\n      </g>\n     </g>\n     <g id=\"text_12\">\n      <!-- 75 -->\n      <g style=\"fill: #f5eff3\" transform=\"translate(908.5 184.656741) scale(0.16 -0.16)\">\n       <defs>\n        <path id=\"Consolas-37\" d=\"M 3128 3578 \nL 1416 0 \nL 794 0 \nL 2572 3578 \nL 366 3578 \nL 366 4084 \nL 3128 4084 \nL 3128 3578 \nz\n\" transform=\"scale(0.015625)\"/>\n       </defs>\n       <use xlink:href=\"#Consolas-37\"/>\n       <use xlink:href=\"#Consolas-35\" x=\"54.980469\"/>\n      </g>\n     </g>\n    </g>\n    <g id=\"ytick_3\">\n     <g id=\"line2d_15\">\n      <path d=\"M 7.2 144.360111 \nL 900 144.360111 \n\" clip-path=\"url(#p7c3c9dc49a)\" style=\"fill: none; stroke-dasharray: 1.11,0.48; stroke-dashoffset: 0; stroke: #e1e1e1; stroke-opacity: 0.3; stroke-width: 0.3; stroke-linejoin: miter; stroke-linecap: square\"/>\n     </g>\n     <g id=\"line2d_16\">\n      <g>\n       <use xlink:href=\"#mad13c6ad95\" x=\"900\" y=\"144.360111\" style=\"fill: #f5eff3; stroke: #f5eff3; stroke-width: 0.5\"/>\n      </g>\n     </g>\n     <g id=\"text_13\">\n      <!-- 100 -->\n      <g style=\"fill: #f5eff3\" transform=\"translate(908.5 148.278861) scale(0.16 -0.16)\">\n       <use xlink:href=\"#Consolas-31\"/>\n       <use xlink:href=\"#Consolas-30\" x=\"54.980469\"/>\n       <use xlink:href=\"#Consolas-30\" x=\"109.960938\"/>\n      </g>\n     </g>\n    </g>\n    <g id=\"ytick_4\">\n     <g id=\"line2d_17\">\n      <path d=\"M 7.2 107.982232 \nL 900 107.982232 \n\" clip-path=\"url(#p7c3c9dc49a)\" style=\"fill: none; stroke-dasharray: 1.11,0.48; stroke-dashoffset: 0; stroke: #e1e1e1; stroke-opacity: 0.3; stroke-width: 0.3; stroke-linejoin: miter; stroke-linecap: square\"/>\n     </g>\n     <g id=\"line2d_18\">\n      <g>\n       <use xlink:href=\"#mad13c6ad95\" x=\"900\" y=\"107.982232\" style=\"fill: #f5eff3; stroke: #f5eff3; stroke-width: 0.5\"/>\n      </g>\n     </g>\n     <g id=\"text_14\">\n      <!-- 125 -->\n      <g style=\"fill: #f5eff3\" transform=\"translate(908.5 111.900982) scale(0.16 -0.16)\">\n       <use xlink:href=\"#Consolas-31\"/>\n       <use xlink:href=\"#Consolas-32\" x=\"54.980469\"/>\n       <use xlink:href=\"#Consolas-35\" x=\"109.960938\"/>\n      </g>\n     </g>\n    </g>\n    <g id=\"ytick_5\">\n     <g id=\"line2d_19\">\n      <path d=\"M 7.2 71.604353 \nL 900 71.604353 \n\" clip-path=\"url(#p7c3c9dc49a)\" style=\"fill: none; stroke-dasharray: 1.11,0.48; stroke-dashoffset: 0; stroke: #e1e1e1; stroke-opacity: 0.3; stroke-width: 0.3; stroke-linejoin: miter; stroke-linecap: square\"/>\n     </g>\n     <g id=\"line2d_20\">\n      <g>\n       <use xlink:href=\"#mad13c6ad95\" x=\"900\" y=\"71.604353\" style=\"fill: #f5eff3; stroke: #f5eff3; stroke-width: 0.5\"/>\n      </g>\n     </g>\n     <g id=\"text_15\">\n      <!-- 150 -->\n      <g style=\"fill: #f5eff3\" transform=\"translate(908.5 75.523103) scale(0.16 -0.16)\">\n       <use xlink:href=\"#Consolas-31\"/>\n       <use xlink:href=\"#Consolas-35\" x=\"54.980469\"/>\n       <use xlink:href=\"#Consolas-30\" x=\"109.960938\"/>\n      </g>\n     </g>\n    </g>\n    <g id=\"ytick_6\">\n     <g id=\"line2d_21\">\n      <defs>\n       <path id=\"m15c3ef12c7\" d=\"M 0 0 \nL 2.5 0 \n\" style=\"stroke: #f5eff3; stroke-width: 0.25\"/>\n      </defs>\n      <g>\n       <use xlink:href=\"#m15c3ef12c7\" x=\"900\" y=\"238.942597\" style=\"fill: #f5eff3; stroke: #f5eff3; stroke-width: 0.25\"/>\n      </g>\n     </g>\n    </g>\n    <g id=\"ytick_7\">\n     <g id=\"line2d_22\">\n      <g>\n       <use xlink:href=\"#m15c3ef12c7\" x=\"900\" y=\"231.667022\" style=\"fill: #f5eff3; stroke: #f5eff3; stroke-width: 0.25\"/>\n      </g>\n     </g>\n    </g>\n    <g id=\"ytick_8\">\n     <g id=\"line2d_23\">\n      <g>\n       <use xlink:href=\"#m15c3ef12c7\" x=\"900\" y=\"224.391446\" style=\"fill: #f5eff3; stroke: #f5eff3; stroke-width: 0.25\"/>\n      </g>\n     </g>\n    </g>\n    <g id=\"ytick_9\">\n     <g id=\"line2d_24\">\n      <g>\n       <use xlink:href=\"#m15c3ef12c7\" x=\"900\" y=\"209.840294\" style=\"fill: #f5eff3; stroke: #f5eff3; stroke-width: 0.25\"/>\n      </g>\n     </g>\n    </g>\n    <g id=\"ytick_10\">\n     <g id=\"line2d_25\">\n      <g>\n       <use xlink:href=\"#m15c3ef12c7\" x=\"900\" y=\"202.564718\" style=\"fill: #f5eff3; stroke: #f5eff3; stroke-width: 0.25\"/>\n      </g>\n     </g>\n    </g>\n    <g id=\"ytick_11\">\n     <g id=\"line2d_26\">\n      <g>\n       <use xlink:href=\"#m15c3ef12c7\" x=\"900\" y=\"195.289142\" style=\"fill: #f5eff3; stroke: #f5eff3; stroke-width: 0.25\"/>\n      </g>\n     </g>\n    </g>\n    <g id=\"ytick_12\">\n     <g id=\"line2d_27\">\n      <g>\n       <use xlink:href=\"#m15c3ef12c7\" x=\"900\" y=\"188.013567\" style=\"fill: #f5eff3; stroke: #f5eff3; stroke-width: 0.25\"/>\n      </g>\n     </g>\n    </g>\n    <g id=\"ytick_13\">\n     <g id=\"line2d_28\">\n      <g>\n       <use xlink:href=\"#m15c3ef12c7\" x=\"900\" y=\"173.462415\" style=\"fill: #f5eff3; stroke: #f5eff3; stroke-width: 0.25\"/>\n      </g>\n     </g>\n    </g>\n    <g id=\"ytick_14\">\n     <g id=\"line2d_29\">\n      <g>\n       <use xlink:href=\"#m15c3ef12c7\" x=\"900\" y=\"166.186839\" style=\"fill: #f5eff3; stroke: #f5eff3; stroke-width: 0.25\"/>\n      </g>\n     </g>\n    </g>\n    <g id=\"ytick_15\">\n     <g id=\"line2d_30\">\n      <g>\n       <use xlink:href=\"#m15c3ef12c7\" x=\"900\" y=\"158.911263\" style=\"fill: #f5eff3; stroke: #f5eff3; stroke-width: 0.25\"/>\n      </g>\n     </g>\n    </g>\n    <g id=\"ytick_16\">\n     <g id=\"line2d_31\">\n      <g>\n       <use xlink:href=\"#m15c3ef12c7\" x=\"900\" y=\"151.635687\" style=\"fill: #f5eff3; stroke: #f5eff3; stroke-width: 0.25\"/>\n      </g>\n     </g>\n    </g>\n    <g id=\"ytick_17\">\n     <g id=\"line2d_32\">\n      <g>\n       <use xlink:href=\"#m15c3ef12c7\" x=\"900\" y=\"137.084536\" style=\"fill: #f5eff3; stroke: #f5eff3; stroke-width: 0.25\"/>\n      </g>\n     </g>\n    </g>\n    <g id=\"ytick_18\">\n     <g id=\"line2d_33\">\n      <g>\n       <use xlink:href=\"#m15c3ef12c7\" x=\"900\" y=\"129.80896\" style=\"fill: #f5eff3; stroke: #f5eff3; stroke-width: 0.25\"/>\n      </g>\n     </g>\n    </g>\n    <g id=\"ytick_19\">\n     <g id=\"line2d_34\">\n      <g>\n       <use xlink:href=\"#m15c3ef12c7\" x=\"900\" y=\"122.533384\" style=\"fill: #f5eff3; stroke: #f5eff3; stroke-width: 0.25\"/>\n      </g>\n     </g>\n    </g>\n    <g id=\"ytick_20\">\n     <g id=\"line2d_35\">\n      <g>\n       <use xlink:href=\"#m15c3ef12c7\" x=\"900\" y=\"115.257808\" style=\"fill: #f5eff3; stroke: #f5eff3; stroke-width: 0.25\"/>\n      </g>\n     </g>\n    </g>\n    <g id=\"ytick_21\">\n     <g id=\"line2d_36\">\n      <g>\n       <use xlink:href=\"#m15c3ef12c7\" x=\"900\" y=\"100.706656\" style=\"fill: #f5eff3; stroke: #f5eff3; stroke-width: 0.25\"/>\n      </g>\n     </g>\n    </g>\n    <g id=\"ytick_22\">\n     <g id=\"line2d_37\">\n      <g>\n       <use xlink:href=\"#m15c3ef12c7\" x=\"900\" y=\"93.431081\" style=\"fill: #f5eff3; stroke: #f5eff3; stroke-width: 0.25\"/>\n      </g>\n     </g>\n    </g>\n    <g id=\"ytick_23\">\n     <g id=\"line2d_38\">\n      <g>\n       <use xlink:href=\"#m15c3ef12c7\" x=\"900\" y=\"86.155505\" style=\"fill: #f5eff3; stroke: #f5eff3; stroke-width: 0.25\"/>\n      </g>\n     </g>\n    </g>\n    <g id=\"ytick_24\">\n     <g id=\"line2d_39\">\n      <g>\n       <use xlink:href=\"#m15c3ef12c7\" x=\"900\" y=\"78.879929\" style=\"fill: #f5eff3; stroke: #f5eff3; stroke-width: 0.25\"/>\n      </g>\n     </g>\n    </g>\n    <g id=\"ytick_25\">\n     <g id=\"line2d_40\">\n      <g>\n       <use xlink:href=\"#m15c3ef12c7\" x=\"900\" y=\"64.328777\" style=\"fill: #f5eff3; stroke: #f5eff3; stroke-width: 0.25\"/>\n      </g>\n     </g>\n    </g>\n    <g id=\"ytick_26\">\n     <g id=\"line2d_41\">\n      <g>\n       <use xlink:href=\"#m15c3ef12c7\" x=\"900\" y=\"57.053201\" style=\"fill: #f5eff3; stroke: #f5eff3; stroke-width: 0.25\"/>\n      </g>\n     </g>\n    </g>\n    <g id=\"ytick_27\">\n     <g id=\"line2d_42\">\n      <g>\n       <use xlink:href=\"#m15c3ef12c7\" x=\"900\" y=\"49.777626\" style=\"fill: #f5eff3; stroke: #f5eff3; stroke-width: 0.25\"/>\n      </g>\n     </g>\n    </g>\n   </g>\n   <g id=\"line2d_43\">\n    <path d=\"M 15.952941 230.168982 \nL 17.117051 227.708246 \nL 18.397572 226.690253 \nL 18.513983 227.027138 \nL 18.630394 227.576442 \nL 18.746805 226.961227 \nL 19.328859 226.983236 \nL 20.260147 224.77821 \nL 20.376558 225.543164 \nL 20.958613 225.668224 \nL 21.075024 225.16805 \nL 22.471956 223.174844 \nL 23.286833 224.205465 \nL 23.519655 223.99137 \nL 24.21812 223.312127 \nL 24.334531 223.836341 \nL 25.731463 227.631278 \nL 25.847874 227.609147 \nL 26.779162 225.837147 \nL 26.895573 226.104907 \nL 27.361217 226.63147 \nL 27.477628 226.379273 \nL 28.059683 223.92441 \nL 28.525326 225.266827 \nL 28.99097 224.740304 \nL 29.107381 225.378066 \nL 29.922258 226.831749 \nL 30.15508 226.423752 \nL 31.31919 225.314431 \nL 31.668423 224.770534 \nL 32.134067 225.88812 \nL 32.366889 225.388962 \nL 33.76382 223.38477 \nL 35.393574 225.716477 \nL 35.859218 224.765482 \nL 38.303848 223.432435 \nL 39.584369 223.808182 \nL 41.097712 221.809086 \nL 42.14541 221.085059 \nL 42.378232 222.020345 \nL 43.193109 224.969409 \nL 44.007986 223.687185 \nL 44.357219 222.819797 \nL 44.822863 223.934796 \nL 45.986973 223.957504 \nL 46.103384 223.601513 \nL 47.267493 222.518298 \nL 48.548014 221.924254 \nL 49.712124 218.505141 \nL 50.061357 218.748867 \nL 50.177768 217.698029 \nL 50.294179 217.705612 \nL 50.527001 216.883185 \nL 51.109055 218.322414 \nL 51.225466 217.698029 \nL 52.040343 218.142417 \nL 52.156754 217.882477 \nL 52.971631 215.557809 \nL 53.437275 216.84252 \nL 54.601385 219.465384 \nL 55.18344 219.310899 \nL 55.765494 220.769328 \nL 56.231138 220.178187 \nL 59.141413 226.614484 \nL 59.490646 225.357478 \nL 61.469632 226.082332 \nL 61.818865 225.210986 \nL 62.40092 226.308634 \nL 65.078372 222.714536 \nL 65.660427 221.537107 \nL 65.893249 222.107354 \nL 66.708126 224.495229 \nL 66.824537 224.106322 \nL 67.523003 225.389756 \nL 68.105058 224.433038 \nL 68.919935 223.328507 \nL 69.269168 223.608502 \nL 70.549688 224.703519 \nL 70.666099 224.227086 \nL 71.364565 222.251131 \nL 71.713798 222.313584 \nL 73.11073 223.738363 \nL 73.227141 223.589202 \nL 73.343552 222.529694 \nL 74.158428 222.757272 \nL 74.740483 222.121497 \nL 75.438949 222.490427 \nL 75.788182 221.603528 \nL 76.952292 223.460312 \nL 77.301525 222.482501 \nL 78.116402 220.298229 \nL 78.232813 220.787168 \nL 83.005663 220.272213 \nL 84.402594 217.709997 \nL 87.080047 218.912916 \nL 87.894923 221.195509 \nL 89.175444 222.528295 \nL 89.524677 222.416546 \nL 90.339554 223.390205 \nL 90.805198 223.034741 \nL 91.154431 223.852033 \nL 91.969308 225.254121 \nL 92.085719 224.7253 \nL 93.599061 223.106807 \nL 93.715472 223.291139 \nL 95.694459 224.857931 \nL 96.043692 223.305632 \nL 96.742158 223.474516 \nL 97.324212 223.691692 \nL 97.789856 221.753134 \nL 99.303199 221.736958 \nL 99.768843 220.784026 \nL 100.234487 221.268585 \nL 100.816542 222.504138 \nL 101.515007 221.194493 \nL 101.747829 220.967487 \nL 102.679117 219.629721 \nL 103.959638 220.075713 \nL 104.076049 219.832482 \nL 104.890926 218.640393 \nL 105.123748 219.33228 \nL 106.520679 218.754351 \nL 107.335556 216.874065 \nL 107.568378 217.077564 \nL 107.917611 216.760106 \nL 108.150433 217.761286 \nL 109.081721 218.92807 \nL 109.198132 217.988193 \nL 110.595063 216.680485 \nL 111.642762 216.770392 \nL 113.156105 218.529914 \nL 113.272516 217.758422 \nL 115.251502 218.217964 \nL 115.600735 218.921392 \nL 116.066379 217.569916 \nL 117.812544 216.383333 \nL 118.045366 216.869497 \nL 118.743832 217.569916 \nL 118.976654 216.624622 \nL 121.421284 214.589757 \nL 123.633093 211.723278 \nL 124.331558 212.977004 \nL 126.194134 215.292408 \nL 126.659778 214.184668 \nL 126.8926 216.125336 \nL 127.009011 215.675592 \nL 127.591066 216.241943 \nL 127.940299 216.017106 \nL 129.104408 216.800061 \nL 129.33723 216.000398 \nL 130.152107 215.166387 \nL 130.384929 215.509123 \nL 133.295204 212.398591 \nL 133.528025 212.901956 \nL 133.644436 213.47247 \nL 134.342902 212.314624 \nL 135.739834 210.645008 \nL 135.972656 211.223959 \nL 136.554711 210.16676 \nL 137.369588 208.601311 \nL 137.60241 209.05604 \nL 138.184464 210.967633 \nL 138.533697 210.437124 \nL 138.88293 210.571865 \nL 138.999341 209.990788 \nL 140.04704 208.441298 \nL 140.629095 210.188775 \nL 140.978328 209.909924 \nL 141.793205 210.467659 \nL 143.190136 211.10979 \nL 143.306547 210.408504 \nL 143.888602 211.741346 \nL 144.121424 211.520911 \nL 144.587068 212.275674 \nL 144.936301 211.529365 \nL 145.867589 210.333446 \nL 147.031699 209.646459 \nL 147.26452 208.45906 \nL 147.962986 209.451442 \nL 149.127096 211.485603 \nL 150.524028 210.770645 \nL 150.75685 211.400453 \nL 151.106083 212.014041 \nL 151.920959 211.450011 \nL 153.783535 213.58614 \nL 154.36559 213.158921 \nL 155.995344 213.642137 \nL 157.275864 212.191673 \nL 157.625097 211.805474 \nL 158.090741 212.72418 \nL 159.254851 212.836273 \nL 161.233837 210.144451 \nL 161.350248 210.326246 \nL 167.52003 210.999184 \nL 168.334907 210.521419 \nL 168.451318 211.000849 \nL 169.84825 212.979568 \nL 170.197482 212.18635 \nL 170.895948 212.534986 \nL 171.12877 212.212483 \nL 173.107757 215.26941 \nL 173.224168 215.006951 \nL 173.45699 215.986904 \nL 174.039045 215.584359 \nL 174.970332 216.380663 \nL 174.73751 215.374404 \nL 175.203154 216.231879 \nL 175.90162 216.873193 \nL 176.483675 216.433918 \nL 176.832908 217.268451 \nL 177.298552 216.433918 \nL 177.414963 216.890712 \nL 177.997018 215.546713 \nL 178.113429 215.590653 \nL 178.928306 215.933245 \nL 179.044717 216.372404 \nL 179.277538 215.091845 \nL 179.626771 215.188879 \nL 180.558059 214.157031 \nL 180.67447 214.915434 \nL 182.071402 216.441234 \nL 183.351923 215.243433 \nL 186.495019 213.602542 \nL 186.960663 213.095874 \nL 187.426307 213.958139 \nL 187.77554 214.091465 \nL 187.891951 213.451444 \nL 189.05606 212.144724 \nL 192.082746 210.951114 \nL 192.664801 209.273327 \nL 193.130444 210.076487 \nL 193.712499 209.382989 \nL 193.82891 209.947486 \nL 194.760198 211.775278 \nL 198.485349 208.748774 \nL 198.60176 209.054547 \nL 198.718171 209.423266 \nL 199.416637 208.505937 \nL 201.744857 207.875735 \nL 202.908966 209.166801 \nL 205.004364 208.911264 \nL 206.168474 210.161348 \nL 206.517707 209.971149 \nL 206.750528 210.505594 \nL 207.332583 211.311912 \nL 207.681816 210.655527 \nL 212.338255 207.431142 \nL 212.454666 207.805512 \nL 213.968009 208.837271 \nL 215.946995 210.030693 \nL 218.158804 208.524049 \nL 219.555736 208.965556 \nL 220.487023 210.087716 \nL 221.651133 210.836223 \nL 222.000366 210.476085 \nL 222.233188 211.01164 \nL 222.931654 213.828067 \nL 223.280887 212.590633 \nL 224.561408 212.082816 \nL 228.868614 208.584848 \nL 228.985025 208.045085 \nL 229.567079 209.692248 \nL 234.223518 205.458618 \nL 234.339929 206.093982 \nL 234.572751 208.439283 \nL 235.387628 207.159213 \nL 236.202505 206.16093 \nL 236.318916 207.061474 \nL 237.599437 207.624283 \nL 237.715848 206.723723 \nL 238.530725 204.491154 \nL 239.22919 204.697522 \nL 239.345601 205.466794 \nL 239.578423 204.096829 \nL 240.160478 204.398366 \nL 240.276889 204.549093 \nL 240.3933 203.823667 \nL 242.023054 201.562417 \nL 242.372287 199.819364 \nL 243.303574 200.253733 \nL 244.467684 204.160525 \nL 245.049739 201.682165 \nL 245.631794 203.564588 \nL 245.864616 204.32131 \nL 246.097438 202.04001 \nL 249.007712 198.212606 \nL 249.124123 198.421567 \nL 249.939 200.292666 \nL 250.055411 199.656264 \nL 250.171822 199.11396 \nL 250.521055 200.047975 \nL 250.753877 199.638135 \nL 251.685165 202.973664 \nL 251.801576 202.306649 \nL 253.082096 203.040435 \nL 252.500041 201.66811 \nL 253.198507 202.964183 \nL 253.431329 200.067003 \nL 254.246206 201.647217 \nL 255.759549 196.912203 \nL 257.15648 199.639079 \nL 257.389302 199.245137 \nL 258.32059 197.967498 \nL 261.230865 202.185258 \nL 261.463687 201.018714 \nL 261.580097 200.690904 \nL 262.045741 201.799698 \nL 262.394974 201.327245 \nL 263.209851 201.394688 \nL 264.723194 203.17285 \nL 264.839605 202.050312 \nL 265.42166 202.824425 \nL 266.003715 203.859836 \nL 266.352947 203.472811 \nL 267.86629 200.267071 \nL 267.982701 200.461339 \nL 269.379633 199.616442 \nL 270.543743 202.335536 \nL 271.358619 200.652931 \nL 271.824263 201.520331 \nL 271.940674 201.88094 \nL 272.173496 200.20458 \nL 272.522729 201.062238 \nL 273.337606 198.830313 \nL 273.686839 199.093444 \nL 273.80325 199.151922 \nL 274.152483 198.245517 \nL 275.782236 196.083054 \nL 276.24788 197.002637 \nL 276.829935 193.530164 \nL 277.528401 198.313437 \nL 277.877634 197.433043 \nL 279.041744 192.567473 \nL 279.274566 194.255079 \nL 280.322264 197.767752 \nL 280.671497 197.031968 \nL 281.02073 193.941103 \nL 281.719196 196.747388 \nL 281.952018 198.788137 \nL 282.534073 195.724527 \nL 282.650484 196.404214 \nL 283.465361 197.941048 \nL 283.34895 195.68506 \nL 283.581772 196.118535 \nL 284.047416 194.493121 \nL 285.560758 181.737272 \nL 287.423334 171.635494 \nL 287.656156 169.026052 \nL 288.471033 169.974988 \nL 288.820266 170.118776 \nL 288.936676 168.978271 \nL 289.285909 174.482501 \nL 289.751553 178.588301 \nL 290.450019 176.912241 \nL 290.56643 176.793198 \nL 290.799252 174.740281 \nL 291.381307 176.535373 \nL 292.545417 186.978427 \nL 292.89465 185.064036 \nL 293.127472 187.918226 \nL 293.243883 187.828702 \nL 293.360294 188.146853 \nL 293.709526 187.81881 \nL 293.942348 184.248598 \nL 294.17517 188.027588 \nL 294.757225 185.750274 \nL 295.33928 185.571193 \nL 295.804924 188.55465 \nL 296.50339 185.20193 \nL 296.969034 186.508261 \nL 297.900322 189.589801 \nL 298.133143 185.660683 \nL 298.94802 186.368702 \nL 299.646486 183.49191 \nL 299.762897 184.792024 \nL 300.577774 187.512327 \nL 301.159829 186.032144 \nL 301.392651 187.032247 \nL 301.858295 186.622264 \nL 302.323939 189.292454 \nL 302.673171 188.862465 \nL 303.837281 194.86527 \nL 303.953692 194.634567 \nL 304.652158 191.494799 \nL 305.350624 192.548057 \nL 306.165501 199.098517 \nL 306.398323 195.406964 \nL 307.795254 201.118229 \nL 307.911665 200.132014 \nL 309.65783 194.677342 \nL 310.938351 194.209785 \nL 311.054762 192.443068 \nL 311.753228 194.866125 \nL 312.800926 197.985844 \nL 313.732214 194.149247 \nL 313.26657 198.601696 \nL 314.197858 196.349494 \nL 314.547091 198.20343 \nL 315.012735 195.984827 \nL 315.129146 196.987739 \nL 316.060434 192.884981 \nL 316.176845 194.880657 \nL 317.573776 190.827845 \nL 317.690187 191.437637 \nL 318.388653 193.907154 \nL 318.621475 191.600209 \nL 319.087119 193.073753 \nL 319.785585 192.331874 \nL 320.600462 189.425407 \nL 320.833284 189.608385 \nL 320.949694 188.235178 \nL 321.531749 189.927368 \nL 321.764571 189.815231 \nL 322.579448 193.352593 \nL 322.695859 192.567762 \nL 323.161503 191.272999 \nL 323.510736 193.077439 \nL 323.859969 194.331403 \nL 324.092791 192.567762 \nL 324.209202 193.627892 \nL 324.325613 192.231282 \nL 324.907668 194.513948 \nL 325.14049 194.421959 \nL 325.955366 193.818507 \nL 327.58512 191.282258 \nL 327.934353 191.047025 \nL 328.050764 192.147842 \nL 328.167175 192.065834 \nL 329.214874 195.389968 \nL 329.91334 194.261385 \nL 330.029751 194.67178 \nL 331.19386 198.088256 \nL 331.543093 197.318102 \nL 333.056436 197.956463 \nL 333.172847 196.669443 \nL 333.987724 194.980838 \nL 334.104135 195.145598 \nL 335.501066 196.515774 \nL 336.083121 194.707538 \nL 336.432354 197.063447 \nL 337.014409 196.505406 \nL 337.13082 197.569804 \nL 337.363642 197.445687 \nL 337.712875 197.828056 \nL 338.876985 195.05865 \nL 339.57545 197.007317 \nL 339.808272 196.084786 \nL 340.157505 196.209147 \nL 340.273916 195.462828 \nL 340.972382 195.172597 \nL 341.088793 195.618284 \nL 341.787259 198.023106 \nL 342.136492 197.327416 \nL 342.602136 198.867159 \nL 343.06778 197.296181 \nL 346.094465 191.847299 \nL 346.210876 188.819557 \nL 346.909342 193.141917 \nL 347.025753 192.505049 \nL 347.957041 187.107361 \nL 348.306274 187.462314 \nL 348.422684 186.961241 \nL 348.655506 189.581752 \nL 348.771917 189.122421 \nL 349.237561 188.414214 \nL 349.353972 189.378015 \nL 349.470383 190.111289 \nL 349.586794 187.429476 \nL 349.936027 186.643879 \nL 350.168849 187.272321 \nL 350.28526 189.105624 \nL 351.100137 187.366685 \nL 351.565781 187.827614 \nL 351.682192 186.612428 \nL 352.729891 183.112955 \nL 352.846302 183.964107 \nL 353.311945 183.092006 \nL 353.428356 184.342363 \nL 354.126822 186.549059 \nL 354.359644 184.468444 \nL 355.05811 182.661151 \nL 354.825288 184.605072 \nL 355.174521 183.901072 \nL 355.756576 186.212768 \nL 356.105809 184.289819 \nL 356.687864 185.972295 \nL 356.920686 184.348879 \nL 357.269919 184.738958 \nL 357.38633 184.51748 \nL 359.016083 176.273963 \nL 359.365316 178.814475 \nL 359.248905 175.578167 \nL 359.714549 176.685057 \nL 359.83096 175.430559 \nL 360.180193 180.355617 \nL 360.645837 178.11405 \nL 360.878659 181.190871 \nL 361.693536 182.808492 \nL 361.460714 180.112402 \nL 361.809947 182.374973 \nL 362.27559 180.249807 \nL 363.090467 177.775683 \nL 362.624823 180.440089 \nL 363.4397 178.853997 \nL 364.021755 177.845878 \nL 364.254577 179.267922 \nL 364.60381 179.246729 \nL 365.069454 183.459893 \nL 365.884331 182.281841 \nL 366.233564 181.974093 \nL 367.281262 184.558023 \nL 367.397673 183.738333 \nL 367.514084 185.558748 \nL 367.863317 185.090336 \nL 368.678194 189.998297 \nL 368.911016 188.081875 \nL 370.424359 185.100949 \nL 371.588468 190.357124 \nL 371.937701 189.983254 \nL 372.170523 192.718134 \nL 372.868989 189.673385 \nL 373.683866 191.667174 \nL 373.916688 190.080649 \nL 374.033099 188.976501 \nL 374.615154 191.827993 \nL 374.731565 191.399258 \nL 375.197209 190.337963 \nL 375.430031 191.667174 \nL 375.662853 191.420596 \nL 376.361318 192.535456 \nL 376.826962 191.720795 \nL 376.943373 190.788146 \nL 377.059784 192.288978 \nL 377.641839 192.085285 \nL 378.805949 195.000555 \nL 378.92236 193.634375 \nL 379.737237 193.602047 \nL 381.017757 190.183539 \nL 381.134168 191.715966 \nL 381.832634 193.086609 \nL 381.949045 192.147687 \nL 382.763922 188.499852 \nL 382.996744 189.007131 \nL 384.277265 191.025255 \nL 384.626498 189.95913 \nL 384.975731 189.850756 \nL 385.092141 190.251747 \nL 385.441374 192.462618 \nL 386.023429 190.706948 \nL 386.13984 190.782773 \nL 386.721895 188.777893 \nL 386.954717 189.514842 \nL 388.351649 187.376654 \nL 388.584471 185.939967 \nL 389.515759 186.386132 \nL 391.727567 183.21156 \nL 392.309622 185.439994 \nL 392.658855 184.566083 \nL 393.473732 183.517399 \nL 393.24091 185.887867 \nL 393.590143 184.019971 \nL 394.288608 183.484627 \nL 394.405019 183.932579 \nL 395.219896 187.243012 \nL 395.918362 186.793629 \nL 396.616828 183.110679 \nL 396.84965 184.458852 \nL 397.315294 183.307955 \nL 398.01376 185.741303 \nL 400.924034 167.578475 \nL 401.389678 169.569034 \nL 401.506089 172.989351 \nL 402.320966 172.164499 \nL 403.368664 164.440716 \nL 403.717897 164.30834 \nL 404.06713 166.955761 \nL 404.532774 163.70168 \nL 404.765596 158.980449 \nL 404.882007 154.060798 \nL 405.580473 160.778471 \nL 405.813295 156.619939 \nL 406.162528 152.95282 \nL 406.511761 158.139377 \nL 408.257925 164.763597 \nL 408.607158 164.55342 \nL 409.538446 157.432757 \nL 408.956391 167.893262 \nL 409.654857 159.084738 \nL 410.469734 158.907322 \nL 410.702556 161.645877 \nL 412.099488 153.962337 \nL 412.33231 155.935988 \nL 412.681542 156.002387 \nL 413.030775 159.829225 \nL 413.729241 159.062312 \nL 413.962063 160.151573 \nL 415.126173 152.193379 \nL 415.591817 158.417628 \nL 416.173872 155.35122 \nL 416.406694 154.671067 \nL 417.105159 158.517965 \nL 417.687214 157.938159 \nL 418.502091 154.45918 \nL 418.618502 156.098294 \nL 419.433379 160.33556 \nL 419.666201 158.205776 \nL 420.131845 155.117097 \nL 420.364667 156.716578 \nL 421.179544 160.785099 \nL 421.295955 159.108495 \nL 421.878009 158.482495 \nL 422.110831 159.566782 \nL 422.576475 161.008586 \nL 422.809297 159.387879 \nL 423.274941 157.376039 \nL 423.624174 159.852328 \nL 423.740585 158.631246 \nL 425.719572 166.529181 \nL 424.206229 158.093516 \nL 426.185215 163.045106 \nL 426.534448 163.69493 \nL 426.650859 162.787448 \nL 426.76727 162.966773 \nL 426.883681 162.014485 \nL 427.000092 164.176575 \nL 427.349325 163.480224 \nL 427.465736 165.670435 \nL 428.164202 160.08826 \nL 428.513435 160.728481 \nL 429.211901 158.527035 \nL 430.608833 158.100199 \nL 430.725244 158.783628 \nL 431.074476 156.858335 \nL 431.772942 156.430556 \nL 432.70423 150.035418 \nL 433.286285 150.924893 \nL 433.984751 151.363986 \nL 434.333984 142.796755 \nL 435.03245 148.573242 \nL 435.614504 149.261478 \nL 435.847326 148.054251 \nL 436.31297 146.497412 \nL 436.429381 148.370193 \nL 436.662203 146.914778 \nL 436.778614 148.821475 \nL 437.127847 146.768081 \nL 437.593491 148.618371 \nL 439.572478 143.147157 \nL 439.92171 144.594378 \nL 440.387354 141.993929 \nL 440.620176 140.444871 \nL 440.852998 144.605713 \nL 441.202231 143.520294 \nL 441.435053 143.959375 \nL 441.551464 143.132269 \nL 442.366341 148.162925 \nL 442.482752 147.449156 \nL 442.831985 147.687087 \nL 443.181218 152.763071 \nL 443.879684 148.910732 \nL 444.927382 145.160385 \nL 445.393026 145.305794 \nL 446.557136 155.547542 \nL 447.372013 151.857365 \nL 447.954068 147.894599 \nL 448.885356 150.213855 \nL 449.001767 152.022946 \nL 449.700232 149.166981 \nL 449.816643 148.814226 \nL 450.165876 149.132876 \nL 450.515109 153.206293 \nL 451.329986 152.35292 \nL 452.028452 149.50839 \nL 452.261274 150.759989 \nL 452.726918 151.2947 \nL 452.843329 148.780155 \nL 453.658205 145.673858 \nL 453.891027 146.083442 \nL 454.705904 148.541214 \nL 455.520781 147.881221 \nL 456.684891 147.385344 \nL 456.801302 148.468409 \nL 457.616179 152.481522 \nL 457.849001 152.002575 \nL 458.780288 148.979818 \nL 459.478754 155.115477 \nL 460.293631 154.144271 \nL 460.992097 152.396084 \nL 461.224919 152.716089 \nL 461.806974 152.658893 \nL 461.923385 153.138806 \nL 462.854672 157.564433 \nL 463.669549 155.755187 \nL 464.135193 156.190294 \nL 464.251604 157.278189 \nL 464.368015 156.075802 \nL 465.066481 156.728502 \nL 465.648536 153.224455 \nL 466.463413 154.147435 \nL 466.929057 158.186803 \nL 467.743933 157.027791 \nL 469.72292 153.714826 \nL 469.839331 154.2669 \nL 470.072153 151.41472 \nL 470.188564 148.620002 \nL 470.770619 151.966694 \nL 471.003441 149.643597 \nL 471.701907 148.309523 \nL 472.16755 148.505023 \nL 472.516783 149.25253 \nL 472.633194 147.964506 \nL 473.098838 148.401478 \nL 473.215249 146.948194 \nL 473.797304 150.843685 \nL 474.728592 155.534431 \nL 475.427058 155.119551 \nL 475.543469 154.059199 \nL 475.65988 156.076069 \nL 475.892702 155.257789 \nL 476.358346 158.669303 \nL 477.173222 158.491932 \nL 477.289633 156.678133 \nL 477.871688 159.762748 \nL 477.988099 158.214635 \nL 478.220921 158.064396 \nL 479.152209 164.638004 \nL 480.316319 162.024198 \nL 479.617853 165.238769 \nL 480.549141 162.48737 \nL 480.781963 166.829558 \nL 481.596839 165.139054 \nL 482.760949 163.240018 \nL 482.87736 163.772641 \nL 483.925059 167.565153 \nL 484.04147 166.218512 \nL 484.390703 167.170478 \nL 484.739936 165.556876 \nL 484.856347 165.359544 \nL 485.20558 166.206966 \nL 486.253278 171.314623 \nL 486.369689 170.10733 \nL 486.951744 166.671315 \nL 487.300977 166.833788 \nL 488.581498 170.710738 \nL 488.930731 169.348977 \nL 489.279964 170.152103 \nL 489.396375 169.162769 \nL 490.327662 165.275338 \nL 490.560484 165.845563 \nL 492.655882 167.87802 \nL 492.772293 166.349312 \nL 493.819992 163.501928 \nL 494.984101 165.503033 \nL 495.798978 169.329216 \nL 496.148211 167.57409 \nL 496.613855 166.591239 \nL 496.730266 167.527274 \nL 496.846677 169.610076 \nL 497.545143 167.480481 \nL 497.661554 167.691112 \nL 498.36002 168.160701 \nL 498.592842 169.66282 \nL 499.174897 167.937647 \nL 499.407718 169.334256 \nL 500.339006 167.526908 \nL 501.619527 169.941072 \nL 501.96876 169.57605 \nL 504.064157 165.584652 \nL 504.180568 165.890736 \nL 505.228267 162.382127 \nL 505.5775 160.828706 \nL 505.810322 163.378389 \nL 506.625199 164.842085 \nL 506.858021 164.063005 \nL 508.254953 162.481276 \nL 508.837007 160.858492 \nL 508.953418 162.799082 \nL 509.069829 162.52687 \nL 509.302651 164.573958 \nL 509.884706 163.189483 \nL 510.117528 161.461911 \nL 510.932405 161.805085 \nL 511.630871 159.722505 \nL 512.096515 160.775707 \nL 512.329337 162.614473 \nL 513.027803 160.123152 \nL 513.144213 160.763784 \nL 513.377035 158.509828 \nL 513.726268 158.85379 \nL 513.95909 157.869107 \nL 514.541145 159.423238 \nL 514.773967 158.236849 \nL 515.821666 155.836329 \nL 515.472433 158.616492 \nL 516.403721 156.58549 \nL 516.985776 158.119549 \nL 517.102187 156.977978 \nL 517.335009 154.468695 \nL 518.033474 156.371406 \nL 518.149885 156.561733 \nL 518.266296 155.848163 \nL 518.848351 153.398374 \nL 519.430406 155.191989 \nL 520.361694 157.504995 \nL 520.478105 157.266532 \nL 521.06016 155.823862 \nL 521.409393 157.576534 \nL 521.525804 156.574988 \nL 521.875037 156.992332 \nL 521.991448 155.645003 \nL 522.689913 154.524292 \nL 522.806324 155.657503 \nL 523.039146 157.570029 \nL 523.737612 155.000064 \nL 524.552489 154.24695 \nL 525.600188 151.605213 \nL 525.949421 151.79645 \nL 526.065832 151.294445 \nL 526.298654 153.625347 \nL 526.997119 152.4029 \nL 528.044818 148.795408 \nL 528.626873 150.856829 \nL 528.859695 149.298779 \nL 529.674572 147.189433 \nL 531.88638 154.371655 \nL 535.145888 142.316776 \nL 535.727943 143.545173 \nL 536.65923 146.338958 \nL 536.892052 145.893338 \nL 537.706929 146.954789 \nL 537.82334 145.313055 \nL 538.638217 145.626921 \nL 539.220272 146.50808 \nL 539.336683 145.759619 \nL 540.267971 142.005374 \nL 540.617203 142.868039 \nL 540.733614 144.295722 \nL 541.43208 141.573431 \nL 542.363368 135.487619 \nL 543.061834 137.375044 \nL 543.178245 140.399854 \nL 543.993122 137.488702 \nL 544.691588 133.075331 \nL 545.855697 126.297575 \nL 546.670574 128.71043 \nL 546.437752 126.236982 \nL 546.786985 126.467375 \nL 547.136218 126.964473 \nL 547.252629 126.709846 \nL 547.601862 122.211725 \nL 548.183917 126.100532 \nL 549.697259 136.475954 \nL 550.628547 131.652733 \nL 549.930081 136.585306 \nL 550.861369 132.503174 \nL 551.676246 139.536679 \nL 552.14189 136.152608 \nL 553.771644 128.434998 \nL 554.004466 132.293808 \nL 554.819342 130.402576 \nL 555.634219 131.988369 \nL 555.401397 129.963428 \nL 556.099863 131.53702 \nL 556.565507 129.524302 \nL 557.031151 131.659072 \nL 558.195261 138.301498 \nL 560.290658 145.036701 \nL 560.407069 144.79221 \nL 561.221946 139.841752 \nL 561.454768 139.878432 \nL 562.8517 148.362522 \nL 563.433754 145.153147 \nL 563.899398 144.001684 \nL 564.248631 146.97838 \nL 564.481453 146.610882 \nL 564.714275 148.717819 \nL 566.111207 142.195057 \nL 566.693262 147.84241 \nL 567.158906 144.122558 \nL 567.508139 144.736369 \nL 567.62455 143.950594 \nL 569.137892 137.861662 \nL 569.254303 139.067334 \nL 569.370714 140.199292 \nL 569.603536 136.889624 \nL 569.952769 138.784364 \nL 571.116879 134.822642 \nL 571.582523 134.404331 \nL 572.630221 140.700498 \nL 572.746632 139.973051 \nL 572.863043 138.604385 \nL 573.561509 141.132074 \nL 573.67792 140.194973 \nL 574.027153 139.960762 \nL 574.259975 143.388517 \nL 574.492797 139.319542 \nL 574.958441 139.71405 \nL 575.074852 139.72645 \nL 575.307674 140.009997 \nL 576.122551 135.967332 \nL 576.821017 139.179883 \nL 577.28666 137.635399 \nL 577.519482 136.041491 \nL 578.101537 137.165889 \nL 578.217948 138.104933 \nL 578.45077 136.337994 \nL 578.916414 136.634586 \nL 579.032825 136.251501 \nL 579.149236 136.869352 \nL 580.196935 142.516838 \nL 580.546168 143.346376 \nL 580.895401 142.516838 \nL 582.175921 140.263104 \nL 582.990798 139.483024 \nL 583.22362 137.401998 \nL 583.340031 141.546665 \nL 583.922086 138.717399 \nL 584.038497 138.878706 \nL 584.154908 138.68012 \nL 584.271319 136.297629 \nL 584.853374 139.499155 \nL 585.086196 136.95529 \nL 585.435429 136.992536 \nL 586.483127 140.601427 \nL 586.599538 139.929932 \nL 590.441101 129.130438 \nL 590.790334 129.504164 \nL 591.488799 123.274919 \nL 591.60521 126.040739 \nL 592.187265 128.76918 \nL 592.76932 126.7384 \nL 593.118553 125.816385 \nL 593.234964 127.398737 \nL 593.584197 126.688609 \nL 593.700608 129.561981 \nL 594.631896 128.613312 \nL 594.864718 130.897543 \nL 595.563183 129.112609 \nL 596.028827 130.011332 \nL 596.960115 126.266679 \nL 597.076526 127.989156 \nL 597.774992 124.526862 \nL 597.891403 125.727661 \nL 598.007814 123.701244 \nL 598.822691 126.31546 \nL 598.939102 124.914576 \nL 599.521157 127.941541 \nL 600.219622 130.705884 \nL 600.452444 128.454381 \nL 600.918088 129.670955 \nL 602.198609 124.08112 \nL 603.595541 127.728333 \nL 603.828363 127.12668 \nL 604.410418 126.076297 \nL 606.156582 118.490619 \nL 606.971459 123.803102 \nL 607.08787 119.344591 \nL 608.717624 109.191812 \nL 610.114555 115.885518 \nL 610.813021 115.080193 \nL 611.162254 111.758547 \nL 611.627898 115.504753 \nL 611.86072 114.092946 \nL 611.977131 115.920665 \nL 612.559186 113.197997 \nL 612.792008 113.2989 \nL 613.257652 115.42914 \nL 613.606885 115.025784 \nL 614.770994 113.135073 \nL 614.421761 115.466941 \nL 614.887405 113.815715 \nL 615.702282 113.533289 \nL 615.236638 114.808691 \nL 615.818693 113.659604 \nL 616.749981 121.072196 \nL 616.866392 119.708381 \nL 617.215625 120.263985 \nL 617.332036 119.670524 \nL 618.379734 114.657165 \nL 618.496145 116.223019 \nL 618.961789 118.820205 \nL 620.125899 123.399868 \nL 620.475132 122.337185 \nL 620.940776 121.223922 \nL 621.40642 121.51483 \nL 621.755653 124.842038 \nL 622.454119 124.375025 \nL 622.57053 122.892023 \nL 623.036173 124.983384 \nL 624.200283 136.695023 \nL 625.480804 134.958526 \nL 626.644914 140.639527 \nL 627.110558 139.826687 \nL 627.226969 141.503158 \nL 627.809023 139.496513 \nL 628.041845 139.585404 \nL 628.740311 140.032356 \nL 629.78801 134.544012 \nL 630.253654 134.735027 \nL 630.486476 134.314808 \nL 630.719298 135.397263 \nL 631.184942 133.780019 \nL 631.301353 135.779215 \nL 632.116229 138.593383 \nL 631.883408 135.613756 \nL 632.349051 137.536473 \nL 632.814695 136.937994 \nL 633.163928 138.011268 \nL 633.745983 133.876581 \nL 634.444449 137.360378 \nL 634.56086 138.06228 \nL 634.793682 136.326737 \nL 635.259326 136.594709 \nL 635.608559 134.170087 \nL 636.074203 134.51466 \nL 637.121901 140.480552 \nL 637.238312 139.95631 \nL 637.587545 140.902492 \nL 637.703956 140.186458 \nL 638.868066 135.315044 \nL 640.032176 133.975575 \nL 639.566532 135.979911 \nL 640.264998 134.347191 \nL 640.49782 135.20566 \nL 640.847053 134.488149 \nL 641.77834 130.093262 \nL 642.011162 131.579584 \nL 642.476806 132.361173 \nL 643.291683 134.40754 \nL 643.524505 133.508762 \nL 644.455793 135.17795 \nL 644.572204 134.009535 \nL 644.921437 134.433262 \nL 645.037848 133.855444 \nL 645.387081 131.030729 \nL 646.085546 131.595637 \nL 647.482478 128.365235 \nL 647.831711 129.806329 \nL 648.297355 129.832073 \nL 649.345054 125.380113 \nL 649.461465 125.45728 \nL 649.810698 124.839718 \nL 649.927109 126.60246 \nL 651.091218 131.641698 \nL 651.789684 131.048603 \nL 652.720972 127.812328 \nL 653.303027 130.287874 \nL 653.419438 131.074359 \nL 654.001493 128.816917 \nL 654.117904 128.726449 \nL 654.81637 128.842717 \nL 655.165602 126.503933 \nL 655.631246 128.028644 \nL 655.980479 126.25842 \nL 658.308699 122.477287 \nL 658.42511 122.839812 \nL 659.938452 126.931435 \nL 660.054863 126.46531 \nL 660.404096 125.442438 \nL 660.520507 125.740273 \nL 661.684617 129.520939 \nL 662.965138 126.49786 \nL 663.19796 127.289341 \nL 664.012837 131.025934 \nL 664.129247 129.975085 \nL 665.409768 125.215797 \nL 665.64259 126.047933 \nL 665.759001 128.518249 \nL 666.341056 125.319775 \nL 666.573878 125.540898 \nL 667.039522 125.085764 \nL 667.155933 124.552685 \nL 667.737988 125.241831 \nL 667.854399 125.02073 \nL 668.087221 127.192124 \nL 668.669275 124.09785 \nL 668.785686 123.524584 \nL 669.367741 125.153073 \nL 669.484152 125.218273 \nL 669.833385 122.651661 \nL 670.299029 126.325729 \nL 670.41544 128.136619 \nL 671.113906 126.488945 \nL 671.463139 124.24336 \nL 672.161605 125.274736 \nL 672.860071 128.238465 \nL 673.092893 127.298455 \nL 673.558536 126.619556 \nL 673.674947 126.841467 \nL 674.489824 129.230708 \nL 674.722646 128.512676 \nL 677.749331 137.138667 \nL 677.865742 136.680769 \nL 678.680619 133.448357 \nL 678.79703 134.719996 \nL 679.611907 135.296848 \nL 682.40577 129.750854 \nL 682.755003 132.496558 \nL 683.453469 130.236862 \nL 684.501168 134.243857 \nL 684.850401 134.204435 \nL 685.083223 135.951746 \nL 685.665278 133.403085 \nL 685.781689 133.966605 \nL 686.130922 133.202956 \nL 686.712977 134.532755 \nL 686.945798 132.886936 \nL 687.527853 136.086398 \nL 687.644264 136.863269 \nL 688.109908 135.467581 \nL 688.226319 135.704556 \nL 689.041196 128.923803 \nL 689.390429 131.110073 \nL 689.972484 133.168874 \nL 690.787361 132.456203 \nL 691.485826 130.22586 \nL 691.835059 130.806565 \nL 692.300703 130.22586 \nL 693.464813 127.509964 \nL 694.861745 129.176577 \nL 694.978156 128.1581 \nL 695.4438 132.113029 \nL 695.560211 131.570703 \nL 696.491498 132.834114 \nL 696.72432 131.826573 \nL 697.422786 131.070951 \nL 698.354074 129.49344 \nL 699.168951 127.756854 \nL 699.518184 128.684785 \nL 700.798704 131.590108 \nL 701.147937 131.005484 \nL 701.264348 132.214565 \nL 701.49717 131.603364 \nL 702.894102 134.845267 \nL 703.126924 133.649497 \nL 703.592568 135.20526 \nL 703.708979 134.259777 \nL 704.407445 139.852487 \nL 704.756678 136.909718 \nL 706.037198 138.654109 \nL 706.502842 136.749876 \nL 706.968486 137.855112 \nL 707.317719 140.369436 \nL 708.016185 139.688638 \nL 709.296706 136.338194 \nL 710.227993 136.35156 \nL 710.344404 137.099079 \nL 710.926459 134.831301 \nL 711.741336 130.790734 \nL 711.974158 131.526607 \nL 712.090569 131.901199 \nL 712.556213 130.429509 \nL 713.37109 127.167856 \nL 713.836734 127.530002 \nL 714.418788 126.05476 \nL 714.535199 124.190616 \nL 715.233665 127.275186 \nL 716.281364 129.528244 \nL 717.794707 126.29621 \nL 717.911118 127.284101 \nL 718.260351 128.009982 \nL 718.493173 127.190015 \nL 718.725995 125.415749 \nL 719.540871 125.913103 \nL 720.006515 125.496436 \nL 720.122926 125.966857 \nL 721.170625 130.038742 \nL 722.451146 125.459012 \nL 723.149612 125.970843 \nL 723.266023 126.334533 \nL 723.498844 124.260201 \nL 724.313721 119.397568 \nL 724.430132 119.55923 \nL 725.012187 123.125779 \nL 725.710653 122.504786 \nL 725.827064 122.09982 \nL 726.059886 124.273234 \nL 726.52553 124.894172 \nL 726.758352 123.962743 \nL 727.223996 124.75922 \nL 727.340407 124.408219 \nL 728.271694 122.261716 \nL 728.388105 123.05988 \nL 729.901448 119.245009 \nL 730.13427 119.43437 \nL 730.599914 120.056673 \nL 730.716325 119.082681 \nL 732.113257 110.341277 \nL 732.346079 113.391233 \nL 733.160955 112.727054 \nL 734.674298 109.826205 \nL 734.790709 110.978312 \nL 735.489175 108.87536 \nL 735.605586 107.584971 \nL 735.838408 110.00271 \nL 736.304052 109.826116 \nL 736.536874 113.208111 \nL 737.35175 110.586745 \nL 738.166627 111.727629 \nL 738.283038 111.306599 \nL 738.748682 110.817615 \nL 740.611258 89.394077 \nL 741.193313 91.81659 \nL 741.426135 94.443062 \nL 741.542546 91.231311 \nL 741.891778 92.034316 \nL 742.1246 88.727179 \nL 742.939477 88.87603 \nL 743.987176 103.722674 \nL 744.336409 101.350397 \nL 746.431806 90.490765 \nL 749.22567 102.413535 \nL 749.342081 102.290617 \nL 749.574903 96.977968 \nL 750.273369 101.101387 \nL 750.506191 105.301484 \nL 751.204656 101.197105 \nL 751.321067 101.402397 \nL 751.6703 101.060355 \nL 752.601588 96.791816 \nL 752.717999 97.352849 \nL 753.300054 100.324604 \nL 753.416465 96.350303 \nL 754.347753 98.351175 \nL 755.16263 102.846233 \nL 755.395452 102.299965 \nL 755.744684 102.574487 \nL 756.093917 101.586173 \nL 756.210328 101.38026 \nL 756.559561 102.066497 \nL 756.675972 103.905929 \nL 757.025205 98.909433 \nL 757.374438 99.993886 \nL 757.60726 102.176404 \nL 758.305726 99.444821 \nL 758.654959 100.419368 \nL 759.819069 91.812927 \nL 760.284712 89.603077 \nL 760.866767 94.618624 \nL 764.242686 71.596893 \nL 764.708329 54.013104 \nL 765.173973 77.903339 \nL 766.338083 61.297162 \nL 765.756028 91.108305 \nL 766.454494 65.552023 \nL 766.570905 66.061567 \nL 766.687316 64.95995 \nL 767.618604 57.519648 \nL 767.967837 58.126353 \nL 768.899125 63.945526 \nL 769.714001 53.672395 \nL 770.063234 54.292977 \nL 771.460166 64.246159 \nL 772.391454 59.09606 \nL 772.042221 65.226501 \nL 772.507865 59.689798 \nL 772.857098 64.743291 \nL 773.788386 64.35662 \nL 774.137618 63.99766 \nL 774.719673 69.30649 \nL 774.952495 74.04847 \nL 775.53455 67.5092 \nL 775.650961 63.30636 \nL 776.233016 68.808825 \nL 776.582249 65.366337 \nL 776.931482 65.338628 \nL 777.047893 66.873253 \nL 777.397126 61.412397 \nL 778.561235 64.369476 \nL 778.910468 58.487024 \nL 779.725345 58.542265 \nL 779.841756 59.026786 \nL 780.423811 57.628755 \nL 781.355099 53.033472 \nL 781.47151 53.185787 \nL 781.937154 52.132618 \nL 782.868442 60.41891 \nL 783.101263 63.758419 \nL 783.799729 60.945417 \nL 783.91614 59.573609 \nL 784.498195 62.580579 \nL 784.731017 66.612875 \nL 785.313072 60.395575 \nL 785.429483 59.743597 \nL 785.545894 64.113317 \nL 786.710004 61.713429 \nL 787.059237 62.254457 \nL 787.175648 62.961898 \nL 787.757702 61.685697 \nL 787.990524 60.811753 \nL 788.456168 61.200178 \nL 789.387456 68.711996 \nL 789.620278 67.559401 \nL 790.202333 64.740382 \nL 790.784388 66.601151 \nL 791.133621 71.780936 \nL 791.715676 66.920568 \nL 791.832087 66.712323 \nL 792.064909 71.058863 \nL 792.763374 65.555199 \nL 792.879785 68.266043 \nL 793.345429 74.174207 \nL 794.043895 70.531956 \nL 794.509539 65.346665 \nL 795.091594 69.280823 \nL 795.324416 67.139959 \nL 795.79006 70.697926 \nL 796.139293 73.898575 \nL 796.721347 71.644186 \nL 796.954169 68.930677 \nL 797.652635 71.444489 \nL 797.769046 72.099198 \nL 798.23469 70.107141 \nL 798.467512 70.761849 \nL 799.748033 70.413635 \nL 800.679321 79.593676 \nL 801.028554 78.381731 \nL 802.425485 75.665358 \nL 801.727019 78.980732 \nL 802.541896 76.849415 \nL 803.473184 83.422301 \nL 803.938828 82.362383 \nL 804.055239 80.981671 \nL 804.288061 84.705297 \nL 807.081924 97.416328 \nL 807.314746 94.358401 \nL 807.547568 99.887843 \nL 807.896801 98.770751 \nL 808.246034 102.875963 \nL 808.711678 99.608593 \nL 808.9445 96.857826 \nL 809.526555 100.669799 \nL 809.642966 99.6784 \nL 809.759377 100.739584 \nL 809.875788 97.600593 \nL 810.341432 98.439522 \nL 811.505541 93.629645 \nL 810.574253 98.481464 \nL 811.621952 95.153635 \nL 811.971185 95.712936 \nL 812.204007 94.42661 \nL 812.320418 93.573692 \nL 812.902473 96.02054 \nL 813.950172 93.943932 \nL 813.135295 96.468003 \nL 814.066583 94.910175 \nL 814.648638 99.993154 \nL 815.463514 99.278985 \nL 816.16198 94.588028 \nL 816.511213 96.016366 \nL 817.209679 96.34029 \nL 818.024556 89.987927 \nL 818.140967 90.31043 \nL 818.723022 92.245602 \nL 818.839433 89.286725 \nL 818.955844 85.51454 \nL 819.77072 90.731116 \nL 821.284063 81.190137 \nL 821.749707 84.391542 \nL 821.866118 85.964179 \nL 822.09894 81.372671 \nL 822.215351 81.765847 \nL 822.564584 77.202381 \nL 822.797406 81.920248 \nL 823.030228 81.358572 \nL 823.379461 81.976445 \nL 824.427159 77.505567 \nL 824.54357 78.588044 \nL 825.358447 84.281613 \nL 825.474858 81.034159 \nL 826.638968 78.363147 \nL 826.755379 80.007945 \nL 826.87179 81.75117 \nL 827.453845 79.206628 \nL 827.686667 80.290105 \nL 827.803078 79.375151 \nL 827.919489 81.289519 \nL 828.385133 83.04902 \nL 828.501544 81.641375 \nL 829.200009 77.165191 \nL 829.549242 79.895952 \nL 830.131297 76.207962 \nL 830.247708 81.036113 \nL 830.829763 87.046745 \nL 831.178996 85.013301 \nL 831.528229 85.534767 \nL 832.343106 90.411388 \nL 832.459517 87.000584 \nL 832.692339 84.266315 \nL 833.274393 87.338852 \nL 833.507215 88.945571 \nL 834.08927 85.365689 \nL 835.25338 79.177942 \nL 835.602613 79.573071 \nL 835.719024 76.835316 \nL 836.068257 81.958061 \nL 836.533901 85.090923 \nL 836.766723 82.691857 \nL 837.348778 85.951767 \nL 837.698011 77.442132 \nL 838.047243 79.149721 \nL 838.163654 75.946296 \nL 838.512887 71.78662 \nL 838.978531 76.519919 \nL 839.094942 80.207642 \nL 839.676997 76.435124 \nL 840.02623 78.910481 \nL 840.142641 76.519985 \nL 840.841107 79.787444 \nL 841.306751 79.278256 \nL 841.423162 80.112856 \nL 842.587271 88.642363 \nL 843.052915 86.803486 \nL 843.169326 87.581489 \nL 843.285737 85.785043 \nL 843.867792 91.697736 \nL 843.984203 90.325617 \nL 844.217025 86.704481 \nL 844.79908 91.131952 \nL 845.031902 87.411723 \nL 846.312423 94.155596 \nL 846.428834 93.787333 \nL 847.127299 98.674189 \nL 847.360121 96.11033 \nL 847.942176 93.560659 \nL 848.058587 96.266153 \nL 848.291409 95.997027 \nL 848.757053 89.456957 \nL 848.873464 96.307584 \nL 849.455519 92.478026 \nL 851.201684 107.356688 \nL 851.550917 107.38503 \nL 852.249382 102.534232 \nL 852.365793 101.821084 \nL 852.715026 103.127992 \nL 853.879136 118.341924 \nL 854.461191 120.472741 \nL 855.276068 115.983856 \nL 855.50889 117.958395 \nL 856.440177 128.12444 \nL 856.78941 126.701498 \nL 857.720698 127.000332 \nL 858.069931 121.237344 \nL 858.651986 120.070539 \nL 859.350452 124.01209 \nL 859.699685 124.472542 \nL 860.980205 134.764569 \nL 861.329438 130.103198 \nL 861.795082 132.811622 \nL 861.911493 128.492393 \nL 862.493548 130.787426 \nL 862.959192 124.444988 \nL 863.424836 123.145218 \nL 863.774069 129.186968 \nL 864.472535 124.91633 \nL 865.403822 120.545712 \nL 865.05459 126.601738 \nL 865.753055 122.202566 \nL 866.102288 121.68836 \nL 865.985877 123.016683 \nL 866.218699 122.145426 \nL 866.567932 118.10598 \nL 867.033576 123.214292 \nL 867.382809 120.524208 \nL 867.615631 122.284219 \nL 868.66333 128.122298 \nL 869.245385 130.726533 \nL 869.361796 128.508646 \nL 869.478207 127.292372 \nL 870.060261 129.78216 \nL 870.758727 135.738683 \nL 871.10796 134.562852 \nL 872.388481 137.516767 \nL 872.504892 134.964365 \nL 873.086947 141.201959 \nL 873.203358 145.116589 \nL 873.319769 140.269898 \nL 874.018235 141.048279 \nL 875.531577 148.881835 \nL 875.647988 148.551239 \nL 875.764399 151.124101 \nL 876.346454 157.060363 \nL 876.695687 149.772986 \nL 877.976208 155.465456 \nL 878.092619 153.995742 \nL 878.20903 153.549079 \nL 879.023906 143.765418 \nL 879.256728 146.30139 \nL 879.722372 143.65015 \nL 880.886482 135.199387 \nL 881.235715 137.365874 \nL 881.352126 135.401592 \nL 881.468537 131.761906 \nL 881.701359 136.297074 \nL 882.399825 133.044435 \nL 884.145989 145.727279 \nL 886.357798 132.595618 \nL 886.59062 136.113808 \nL 886.939853 136.837713 \nL 888.103963 132.640979 \nL 889.03525 139.797057 \nL 889.384483 138.534222 \nL 890.315771 144.151678 \nL 891.247059 143.821715 \n\" clip-path=\"url(#p7c3c9dc49a)\" style=\"fill: none; stroke: #ffee00; stroke-linecap: square\"/>\n   </g>\n   <g id=\"patch_3\">\n    <path d=\"M 900 239.0708 \nL 900 43.2308 \n\" style=\"fill: none; stroke: #ffffff; stroke-width: 0.3; stroke-linejoin: miter; stroke-linecap: square\"/>\n   </g>\n   <g id=\"patch_4\">\n    <path d=\"M 7.2 239.0708 \nL 900 239.0708 \n\" style=\"fill: none; stroke: #ffffff; stroke-width: 0.3; stroke-linejoin: miter; stroke-linecap: square\"/>\n   </g>\n   <g id=\"text_16\">\n    <!-- iShares 20 Plus Year Treasury Bond ETF -->\n    <g style=\"fill: #ffffff\" transform=\"translate(212.9004 23.2308) scale(0.2304 -0.2304)\">\n     <defs>\n      <path id=\"Consolas-69\" d=\"M 1569 2688 \nL 641 2688 \nL 641 3138 \nL 2119 3138 \nL 2119 453 \nL 3053 453 \nL 3053 0 \nL 538 0 \nL 538 453 \nL 1569 453 \nL 1569 2688 \nz\nM 1759 4453 \nQ 1850 4453 1928 4420 \nQ 2006 4388 2064 4328 \nQ 2122 4269 2155 4192 \nQ 2188 4116 2188 4025 \nQ 2188 3938 2155 3859 \nQ 2122 3781 2064 3722 \nQ 2006 3663 1928 3630 \nQ 1850 3597 1759 3597 \nQ 1669 3597 1591 3630 \nQ 1513 3663 1455 3722 \nQ 1397 3781 1364 3859 \nQ 1331 3938 1331 4025 \nQ 1331 4116 1364 4192 \nQ 1397 4269 1455 4328 \nQ 1513 4388 1591 4420 \nQ 1669 4453 1759 4453 \nz\n\" transform=\"scale(0.015625)\"/>\n      <path id=\"Consolas-53\" d=\"M 3116 1106 \nQ 3116 816 2997 597 \nQ 2878 378 2665 233 \nQ 2453 88 2154 16 \nQ 1856 -56 1497 -56 \nQ 1334 -56 1173 -43 \nQ 1013 -31 864 -12 \nQ 716 6 584 31 \nQ 453 56 347 84 \nL 347 622 \nQ 581 534 873 484 \nQ 1166 434 1538 434 \nQ 1806 434 1995 476 \nQ 2184 519 2304 601 \nQ 2425 684 2479 803 \nQ 2534 922 2534 1075 \nQ 2534 1241 2442 1358 \nQ 2350 1475 2200 1567 \nQ 2050 1659 1858 1736 \nQ 1666 1813 1466 1894 \nQ 1266 1975 1073 2070 \nQ 881 2166 731 2295 \nQ 581 2425 489 2600 \nQ 397 2775 397 3016 \nQ 397 3225 484 3428 \nQ 572 3631 756 3789 \nQ 941 3947 1230 4044 \nQ 1519 4141 1919 4141 \nQ 2022 4141 2142 4131 \nQ 2263 4122 2386 4105 \nQ 2509 4088 2629 4066 \nQ 2750 4044 2853 4019 \nL 2853 3519 \nQ 2613 3588 2372 3623 \nQ 2131 3659 1906 3659 \nQ 1428 3659 1203 3500 \nQ 978 3341 978 3072 \nQ 978 2906 1070 2787 \nQ 1163 2669 1313 2575 \nQ 1463 2481 1655 2404 \nQ 1847 2328 2047 2247 \nQ 2247 2166 2439 2069 \nQ 2631 1972 2781 1839 \nQ 2931 1706 3023 1528 \nQ 3116 1350 3116 1106 \nz\n\" transform=\"scale(0.015625)\"/>\n      <path id=\"Consolas-68\" d=\"M 3022 0 \nL 2478 0 \nL 2478 2003 \nQ 2478 2366 2342 2545 \nQ 2206 2725 1953 2725 \nQ 1844 2725 1748 2695 \nQ 1653 2666 1550 2592 \nQ 1447 2519 1325 2394 \nQ 1203 2269 1044 2081 \nL 1044 0 \nL 500 0 \nL 500 4416 \nL 1044 4416 \nL 1044 3138 \nL 1025 2644 \nQ 1153 2797 1276 2901 \nQ 1400 3006 1523 3072 \nQ 1647 3138 1775 3166 \nQ 1903 3194 2041 3194 \nQ 2509 3194 2765 2908 \nQ 3022 2622 3022 2047 \nL 3022 0 \nz\n\" transform=\"scale(0.015625)\"/>\n      <path id=\"Consolas-61\" d=\"M 2516 0 \nL 2503 422 \nQ 2247 169 1983 56 \nQ 1719 -56 1428 -56 \nQ 1159 -56 968 12 \nQ 778 81 654 201 \nQ 531 322 473 484 \nQ 416 647 416 838 \nQ 416 1309 767 1576 \nQ 1119 1844 1806 1844 \nL 2456 1844 \nL 2456 2119 \nQ 2456 2397 2278 2564 \nQ 2100 2731 1734 2731 \nQ 1469 2731 1211 2672 \nQ 953 2613 678 2503 \nL 678 2994 \nQ 781 3031 907 3067 \nQ 1034 3103 1175 3131 \nQ 1316 3159 1469 3176 \nQ 1622 3194 1778 3194 \nQ 2063 3194 2291 3131 \nQ 2519 3069 2676 2941 \nQ 2834 2813 2918 2619 \nQ 3003 2425 3003 2163 \nL 3003 0 \nL 2516 0 \nz\nM 2456 1428 \nL 1766 1428 \nQ 1563 1428 1416 1387 \nQ 1269 1347 1175 1272 \nQ 1081 1197 1036 1092 \nQ 991 988 991 856 \nQ 991 766 1019 683 \nQ 1047 600 1109 536 \nQ 1172 472 1272 434 \nQ 1372 397 1516 397 \nQ 1703 397 1945 511 \nQ 2188 625 2456 872 \nL 2456 1428 \nz\n\" transform=\"scale(0.015625)\"/>\n      <path id=\"Consolas-72\" d=\"M 628 3138 \nL 1125 3138 \nL 1141 2559 \nQ 1419 2894 1689 3044 \nQ 1959 3194 2234 3194 \nQ 2722 3194 2973 2878 \nQ 3225 2563 3206 1941 \nL 2656 1941 \nQ 2666 2353 2536 2539 \nQ 2406 2725 2156 2725 \nQ 2047 2725 1936 2686 \nQ 1825 2647 1708 2561 \nQ 1591 2475 1459 2340 \nQ 1328 2206 1178 2016 \nL 1178 0 \nL 628 0 \nL 628 3138 \nz\n\" transform=\"scale(0.015625)\"/>\n      <path id=\"Consolas-65\" d=\"M 3150 1734 \nQ 3150 1619 3147 1541 \nQ 3144 1463 3138 1394 \nL 934 1394 \nQ 934 913 1203 655 \nQ 1472 397 1978 397 \nQ 2116 397 2253 408 \nQ 2391 419 2519 437 \nQ 2647 456 2764 479 \nQ 2881 503 2981 531 \nL 2981 84 \nQ 2759 22 2479 -17 \nQ 2200 -56 1900 -56 \nQ 1497 -56 1206 53 \nQ 916 163 730 370 \nQ 544 578 455 879 \nQ 366 1181 366 1563 \nQ 366 1894 461 2189 \nQ 556 2484 739 2707 \nQ 922 2931 1187 3062 \nQ 1453 3194 1791 3194 \nQ 2119 3194 2372 3091 \nQ 2625 2988 2798 2798 \nQ 2972 2609 3061 2339 \nQ 3150 2069 3150 1734 \nz\nM 2584 1813 \nQ 2594 2022 2544 2195 \nQ 2494 2369 2389 2494 \nQ 2284 2619 2128 2689 \nQ 1972 2759 1766 2759 \nQ 1588 2759 1441 2690 \nQ 1294 2622 1187 2497 \nQ 1081 2372 1015 2197 \nQ 950 2022 934 1813 \nL 2584 1813 \nz\n\" transform=\"scale(0.015625)\"/>\n      <path id=\"Consolas-73\" d=\"M 2984 856 \nQ 2984 691 2928 559 \nQ 2872 428 2775 326 \nQ 2678 225 2550 153 \nQ 2422 81 2276 34 \nQ 2131 -13 1978 -34 \nQ 1825 -56 1678 -56 \nQ 1359 -56 1092 -28 \nQ 825 0 569 63 \nL 569 563 \nQ 844 484 1116 443 \nQ 1388 403 1656 403 \nQ 2047 403 2234 509 \nQ 2422 616 2422 813 \nQ 2422 897 2392 964 \nQ 2363 1031 2284 1092 \nQ 2206 1153 2042 1218 \nQ 1878 1284 1594 1369 \nQ 1381 1431 1201 1511 \nQ 1022 1591 890 1700 \nQ 759 1809 684 1956 \nQ 609 2103 609 2303 \nQ 609 2434 670 2590 \nQ 731 2747 878 2881 \nQ 1025 3016 1275 3105 \nQ 1525 3194 1900 3194 \nQ 2084 3194 2309 3173 \nQ 2534 3153 2778 3103 \nL 2778 2619 \nQ 2522 2681 2292 2711 \nQ 2063 2741 1894 2741 \nQ 1691 2741 1552 2709 \nQ 1413 2678 1327 2623 \nQ 1241 2569 1203 2495 \nQ 1166 2422 1166 2338 \nQ 1166 2253 1198 2184 \nQ 1231 2116 1320 2052 \nQ 1409 1988 1568 1923 \nQ 1728 1859 1984 1784 \nQ 2263 1703 2453 1614 \nQ 2644 1525 2762 1415 \nQ 2881 1306 2932 1168 \nQ 2984 1031 2984 856 \nz\n\" transform=\"scale(0.015625)\"/>\n      <path id=\"Consolas-20\" transform=\"scale(0.015625)\"/>\n      <path id=\"Consolas-50\" d=\"M 3175 2834 \nQ 3175 2584 3081 2339 \nQ 2988 2094 2791 1900 \nQ 2594 1706 2287 1586 \nQ 1981 1466 1556 1466 \nL 1050 1466 \nL 1050 0 \nL 494 0 \nL 494 4084 \nL 1644 4084 \nQ 1947 4084 2225 4017 \nQ 2503 3950 2714 3800 \nQ 2925 3650 3050 3412 \nQ 3175 3175 3175 2834 \nz\nM 2597 2809 \nQ 2597 3203 2339 3412 \nQ 2081 3622 1619 3622 \nL 1050 3622 \nL 1050 1941 \nL 1569 1941 \nQ 2063 1941 2330 2156 \nQ 2597 2372 2597 2809 \nz\n\" transform=\"scale(0.015625)\"/>\n      <path id=\"Consolas-6c\" d=\"M 1569 3969 \nL 641 3969 \nL 641 4416 \nL 2119 4416 \nL 2119 453 \nL 3053 453 \nL 3053 0 \nL 538 0 \nL 538 453 \nL 1569 453 \nL 1569 3969 \nz\n\" transform=\"scale(0.015625)\"/>\n      <path id=\"Consolas-75\" d=\"M 3022 0 \nL 2534 0 \nL 2516 506 \nQ 2375 344 2248 236 \nQ 2122 128 1997 62 \nQ 1872 -3 1745 -29 \nQ 1619 -56 1478 -56 \nQ 994 -56 747 228 \nQ 500 513 500 1088 \nL 500 3138 \nL 1044 3138 \nL 1044 1131 \nQ 1044 409 1588 409 \nQ 1688 409 1783 439 \nQ 1878 469 1983 542 \nQ 2088 616 2208 741 \nQ 2328 866 2478 1056 \nL 2478 3138 \nL 3022 3138 \nL 3022 0 \nz\n\" transform=\"scale(0.015625)\"/>\n      <path id=\"Consolas-59\" d=\"M 3519 4084 \nL 2041 1459 \nL 2041 0 \nL 1478 0 \nL 1478 1472 \nL 0 4084 \nL 672 4084 \nL 1484 2591 \nL 1784 1991 \nL 2059 2534 \nL 2881 4084 \nL 3519 4084 \nz\n\" transform=\"scale(0.015625)\"/>\n      <path id=\"Consolas-54\" d=\"M 3250 3609 \nL 2041 3609 \nL 2041 0 \nL 1478 0 \nL 1478 3609 \nL 269 3609 \nL 269 4084 \nL 3250 4084 \nL 3250 3609 \nz\n\" transform=\"scale(0.015625)\"/>\n      <path id=\"Consolas-79\" d=\"M 3291 3138 \nL 2222 331 \nQ 2056 -97 1879 -406 \nQ 1703 -716 1493 -914 \nQ 1284 -1113 1034 -1206 \nQ 784 -1300 475 -1300 \nQ 394 -1300 328 -1297 \nQ 263 -1294 184 -1288 \nL 184 -794 \nQ 253 -803 334 -811 \nQ 416 -819 506 -819 \nQ 656 -819 786 -775 \nQ 916 -731 1031 -632 \nQ 1147 -534 1253 -378 \nQ 1359 -222 1459 0 \nL 206 3138 \nL 825 3138 \nL 1619 1063 \nL 1778 575 \nL 1959 1075 \nL 2694 3138 \nL 3291 3138 \nz\n\" transform=\"scale(0.015625)\"/>\n      <path id=\"Consolas-42\" d=\"M 3175 1222 \nQ 3175 928 3061 701 \nQ 2947 475 2736 319 \nQ 2525 163 2226 81 \nQ 1928 0 1563 0 \nL 494 0 \nL 494 4084 \nL 1663 4084 \nQ 3028 4084 3028 3091 \nQ 3028 2759 2870 2521 \nQ 2713 2284 2356 2169 \nQ 2522 2138 2670 2063 \nQ 2819 1988 2931 1869 \nQ 3044 1750 3109 1587 \nQ 3175 1425 3175 1222 \nz\nM 2450 3016 \nQ 2450 3141 2412 3252 \nQ 2375 3363 2281 3442 \nQ 2188 3522 2028 3569 \nQ 1869 3616 1625 3616 \nL 1050 3616 \nL 1050 2338 \nL 1606 2338 \nQ 1797 2338 1951 2378 \nQ 2106 2419 2217 2503 \nQ 2328 2588 2389 2714 \nQ 2450 2841 2450 3016 \nz\nM 2584 1203 \nQ 2584 1359 2518 1484 \nQ 2453 1609 2328 1695 \nQ 2203 1781 2023 1828 \nQ 1844 1875 1619 1875 \nL 1050 1875 \nL 1050 469 \nL 1638 469 \nQ 2116 469 2350 647 \nQ 2584 825 2584 1203 \nz\n\" transform=\"scale(0.015625)\"/>\n      <path id=\"Consolas-6f\" d=\"M 3231 1594 \nQ 3231 1228 3128 923 \nQ 3025 619 2831 401 \nQ 2638 184 2359 64 \nQ 2081 -56 1728 -56 \nQ 1391 -56 1123 48 \nQ 856 153 670 356 \nQ 484 559 386 859 \nQ 288 1159 288 1550 \nQ 288 1916 391 2217 \nQ 494 2519 687 2736 \nQ 881 2953 1159 3073 \nQ 1438 3194 1791 3194 \nQ 2128 3194 2395 3089 \nQ 2663 2984 2848 2782 \nQ 3034 2581 3132 2281 \nQ 3231 1981 3231 1594 \nz\nM 2675 1569 \nQ 2675 1859 2611 2076 \nQ 2547 2294 2428 2439 \nQ 2309 2584 2139 2657 \nQ 1969 2731 1759 2731 \nQ 1516 2731 1342 2636 \nQ 1169 2541 1058 2381 \nQ 947 2222 895 2011 \nQ 844 1800 844 1569 \nQ 844 1278 908 1059 \nQ 972 841 1090 695 \nQ 1209 550 1378 476 \nQ 1547 403 1759 403 \nQ 2003 403 2176 498 \nQ 2350 594 2461 753 \nQ 2572 913 2623 1123 \nQ 2675 1334 2675 1569 \nz\n\" transform=\"scale(0.015625)\"/>\n      <path id=\"Consolas-6e\" d=\"M 500 3138 \nL 984 3138 \nL 1006 2631 \nQ 1144 2794 1272 2901 \nQ 1400 3009 1523 3075 \nQ 1647 3141 1775 3167 \nQ 1903 3194 2041 3194 \nQ 2525 3194 2773 2908 \nQ 3022 2622 3022 2047 \nL 3022 0 \nL 2478 0 \nL 2478 2003 \nQ 2478 2372 2340 2548 \nQ 2203 2725 1931 2725 \nQ 1831 2725 1736 2695 \nQ 1641 2666 1537 2592 \nQ 1434 2519 1314 2394 \nQ 1194 2269 1044 2081 \nL 1044 0 \nL 500 0 \nL 500 3138 \nz\n\" transform=\"scale(0.015625)\"/>\n      <path id=\"Consolas-64\" d=\"M 341 1503 \nQ 341 1903 450 2214 \nQ 559 2525 761 2739 \nQ 963 2953 1245 3064 \nQ 1528 3175 1875 3175 \nQ 2025 3175 2170 3156 \nQ 2316 3138 2456 3097 \nL 2456 4416 \nL 3003 4416 \nL 3003 0 \nL 2516 0 \nL 2497 594 \nQ 2269 263 2003 103 \nQ 1738 -56 1428 -56 \nQ 1159 -56 954 56 \nQ 750 169 614 373 \nQ 478 578 409 865 \nQ 341 1153 341 1503 \nz\nM 897 1538 \nQ 897 969 1064 689 \nQ 1231 409 1538 409 \nQ 1744 409 1973 593 \nQ 2203 778 2456 1141 \nL 2456 2597 \nQ 2322 2659 2159 2692 \nQ 1997 2725 1838 2725 \nQ 1394 2725 1145 2437 \nQ 897 2150 897 1538 \nz\n\" transform=\"scale(0.015625)\"/>\n      <path id=\"Consolas-45\" d=\"M 2950 0 \nL 628 0 \nL 628 4084 \nL 2950 4084 \nL 2950 3616 \nL 1184 3616 \nL 1184 2350 \nL 2881 2350 \nL 2881 1881 \nL 1184 1881 \nL 1184 475 \nL 2950 475 \nL 2950 0 \nz\n\" transform=\"scale(0.015625)\"/>\n      <path id=\"Consolas-46\" d=\"M 2944 3609 \nL 1209 3609 \nL 1209 2284 \nL 2853 2284 \nL 2853 1819 \nL 1209 1819 \nL 1209 0 \nL 641 0 \nL 641 4084 \nL 2944 4084 \nL 2944 3609 \nz\n\" transform=\"scale(0.015625)\"/>\n     </defs>\n     <use xlink:href=\"#Consolas-69\"/>\n     <use xlink:href=\"#Consolas-53\" x=\"54.980469\"/>\n     <use xlink:href=\"#Consolas-68\" x=\"109.960938\"/>\n     <use xlink:href=\"#Consolas-61\" x=\"164.941406\"/>\n     <use xlink:href=\"#Consolas-72\" x=\"219.921875\"/>\n     <use xlink:href=\"#Consolas-65\" x=\"274.902344\"/>\n     <use xlink:href=\"#Consolas-73\" x=\"329.882812\"/>\n     <use xlink:href=\"#Consolas-20\" x=\"384.863281\"/>\n     <use xlink:href=\"#Consolas-32\" x=\"439.84375\"/>\n     <use xlink:href=\"#Consolas-30\" x=\"494.824219\"/>\n     <use xlink:href=\"#Consolas-20\" x=\"549.804688\"/>\n     <use xlink:href=\"#Consolas-50\" x=\"604.785156\"/>\n     <use xlink:href=\"#Consolas-6c\" x=\"659.765625\"/>\n     <use xlink:href=\"#Consolas-75\" x=\"714.746094\"/>\n     <use xlink:href=\"#Consolas-73\" x=\"769.726562\"/>\n     <use xlink:href=\"#Consolas-20\" x=\"824.707031\"/>\n     <use xlink:href=\"#Consolas-59\" x=\"879.6875\"/>\n     <use xlink:href=\"#Consolas-65\" x=\"934.667969\"/>\n     <use xlink:href=\"#Consolas-61\" x=\"989.648438\"/>\n     <use xlink:href=\"#Consolas-72\" x=\"1044.628906\"/>\n     <use xlink:href=\"#Consolas-20\" x=\"1099.609375\"/>\n     <use xlink:href=\"#Consolas-54\" x=\"1154.589844\"/>\n     <use xlink:href=\"#Consolas-72\" x=\"1209.570312\"/>\n     <use xlink:href=\"#Consolas-65\" x=\"1264.550781\"/>\n     <use xlink:href=\"#Consolas-61\" x=\"1319.53125\"/>\n     <use xlink:href=\"#Consolas-73\" x=\"1374.511719\"/>\n     <use xlink:href=\"#Consolas-75\" x=\"1429.492188\"/>\n     <use xlink:href=\"#Consolas-72\" x=\"1484.472656\"/>\n     <use xlink:href=\"#Consolas-79\" x=\"1539.453125\"/>\n     <use xlink:href=\"#Consolas-20\" x=\"1594.433594\"/>\n     <use xlink:href=\"#Consolas-42\" x=\"1649.414062\"/>\n     <use xlink:href=\"#Consolas-6f\" x=\"1704.394531\"/>\n     <use xlink:href=\"#Consolas-6e\" x=\"1759.375\"/>\n     <use xlink:href=\"#Consolas-64\" x=\"1814.355469\"/>\n     <use xlink:href=\"#Consolas-20\" x=\"1869.335938\"/>\n     <use xlink:href=\"#Consolas-45\" x=\"1924.316406\"/>\n     <use xlink:href=\"#Consolas-54\" x=\"1979.296875\"/>\n     <use xlink:href=\"#Consolas-46\" x=\"2034.277344\"/>\n    </g>\n   </g>\n  </g>\n </g>\n <defs>\n  <clipPath id=\"p7c3c9dc49a\">\n   <rect x=\"7.2\" y=\"43.2308\" width=\"892.8\" height=\"195.84\"/>\n  </clipPath>\n </defs>\n</svg>\n",
      "text/plain": [
       "<Figure size 1600x400 with 1 Axes>"
      ]
     },
     "metadata": {},
     "output_type": "display_data"
    }
   ],
   "source": [
    "# Visualize the data, if desired.\n",
    "\n",
    "data['Adj Close'].plot(figsize = [16, 4], title = 'iShares 20 Plus Year Treasury Bond ETF', xlabel = '');"
   ]
  },
  {
   "cell_type": "code",
   "execution_count": 34,
   "metadata": {},
   "outputs": [
    {
     "data": {
      "text/html": [
       "<div>\n",
       "<style scoped>\n",
       "    .dataframe tbody tr th:only-of-type {\n",
       "        vertical-align: middle;\n",
       "    }\n",
       "\n",
       "    .dataframe tbody tr th {\n",
       "        vertical-align: top;\n",
       "    }\n",
       "\n",
       "    .dataframe thead th {\n",
       "        text-align: right;\n",
       "    }\n",
       "</style>\n",
       "<table border=\"1\" class=\"dataframe\">\n",
       "  <thead>\n",
       "    <tr style=\"text-align: right;\">\n",
       "      <th></th>\n",
       "      <th>Standard Deviation</th>\n",
       "      <th>Parkinson</th>\n",
       "      <th>Hodges-Tompkins</th>\n",
       "      <th>Garman-Klass</th>\n",
       "      <th>Rogers-Satchell</th>\n",
       "      <th>Yang-Zhang</th>\n",
       "    </tr>\n",
       "    <tr>\n",
       "      <th>date</th>\n",
       "      <th></th>\n",
       "      <th></th>\n",
       "      <th></th>\n",
       "      <th></th>\n",
       "      <th></th>\n",
       "      <th></th>\n",
       "    </tr>\n",
       "  </thead>\n",
       "  <tbody>\n",
       "    <tr>\n",
       "      <th>2002-08-01</th>\n",
       "      <td>0.074482</td>\n",
       "      <td>0.083403</td>\n",
       "      <td>0.074511</td>\n",
       "      <td>0.075624</td>\n",
       "      <td>0.070795</td>\n",
       "      <td>0.140883</td>\n",
       "    </tr>\n",
       "    <tr>\n",
       "      <th>2002-08-02</th>\n",
       "      <td>0.050616</td>\n",
       "      <td>0.105981</td>\n",
       "      <td>0.050636</td>\n",
       "      <td>0.103655</td>\n",
       "      <td>0.096629</td>\n",
       "      <td>0.144341</td>\n",
       "    </tr>\n",
       "    <tr>\n",
       "      <th>2002-08-05</th>\n",
       "      <td>0.064933</td>\n",
       "      <td>0.109263</td>\n",
       "      <td>0.064958</td>\n",
       "      <td>0.114035</td>\n",
       "      <td>0.109442</td>\n",
       "      <td>0.163509</td>\n",
       "    </tr>\n",
       "    <tr>\n",
       "      <th>2002-08-06</th>\n",
       "      <td>0.145795</td>\n",
       "      <td>0.072415</td>\n",
       "      <td>0.145851</td>\n",
       "      <td>0.078072</td>\n",
       "      <td>0.079528</td>\n",
       "      <td>0.138408</td>\n",
       "    </tr>\n",
       "    <tr>\n",
       "      <th>2002-08-07</th>\n",
       "      <td>0.123230</td>\n",
       "      <td>0.083376</td>\n",
       "      <td>0.123277</td>\n",
       "      <td>0.092822</td>\n",
       "      <td>0.096105</td>\n",
       "      <td>0.152722</td>\n",
       "    </tr>\n",
       "    <tr>\n",
       "      <th>...</th>\n",
       "      <td>...</td>\n",
       "      <td>...</td>\n",
       "      <td>...</td>\n",
       "      <td>...</td>\n",
       "      <td>...</td>\n",
       "      <td>...</td>\n",
       "    </tr>\n",
       "    <tr>\n",
       "      <th>2023-02-23</th>\n",
       "      <td>0.006758</td>\n",
       "      <td>0.088884</td>\n",
       "      <td>0.006761</td>\n",
       "      <td>0.088082</td>\n",
       "      <td>0.088393</td>\n",
       "      <td>0.167799</td>\n",
       "    </tr>\n",
       "    <tr>\n",
       "      <th>2023-02-24</th>\n",
       "      <td>0.256052</td>\n",
       "      <td>0.110914</td>\n",
       "      <td>0.256150</td>\n",
       "      <td>0.115316</td>\n",
       "      <td>0.111796</td>\n",
       "      <td>0.218043</td>\n",
       "    </tr>\n",
       "    <tr>\n",
       "      <th>2023-02-27</th>\n",
       "      <td>0.177978</td>\n",
       "      <td>0.097925</td>\n",
       "      <td>0.178047</td>\n",
       "      <td>0.110618</td>\n",
       "      <td>0.109414</td>\n",
       "      <td>0.214669</td>\n",
       "    </tr>\n",
       "    <tr>\n",
       "      <th>2023-02-28</th>\n",
       "      <td>0.019797</td>\n",
       "      <td>0.109552</td>\n",
       "      <td>0.019805</td>\n",
       "      <td>0.102208</td>\n",
       "      <td>0.095619</td>\n",
       "      <td>0.177135</td>\n",
       "    </tr>\n",
       "    <tr>\n",
       "      <th>2023-03-01</th>\n",
       "      <td>0.172126</td>\n",
       "      <td>0.119959</td>\n",
       "      <td>0.172192</td>\n",
       "      <td>0.113097</td>\n",
       "      <td>0.106909</td>\n",
       "      <td>0.212863</td>\n",
       "    </tr>\n",
       "  </tbody>\n",
       "</table>\n",
       "<p>5181 rows × 6 columns</p>\n",
       "</div>"
      ],
      "text/plain": [
       "            Standard Deviation  Parkinson  Hodges-Tompkins  Garman-Klass  \\\n",
       "date                                                                       \n",
       "2002-08-01            0.074482   0.083403         0.074511      0.075624   \n",
       "2002-08-02            0.050616   0.105981         0.050636      0.103655   \n",
       "2002-08-05            0.064933   0.109263         0.064958      0.114035   \n",
       "2002-08-06            0.145795   0.072415         0.145851      0.078072   \n",
       "2002-08-07            0.123230   0.083376         0.123277      0.092822   \n",
       "...                        ...        ...              ...           ...   \n",
       "2023-02-23            0.006758   0.088884         0.006761      0.088082   \n",
       "2023-02-24            0.256052   0.110914         0.256150      0.115316   \n",
       "2023-02-27            0.177978   0.097925         0.178047      0.110618   \n",
       "2023-02-28            0.019797   0.109552         0.019805      0.102208   \n",
       "2023-03-01            0.172126   0.119959         0.172192      0.113097   \n",
       "\n",
       "            Rogers-Satchell  Yang-Zhang  \n",
       "date                                     \n",
       "2002-08-01         0.070795    0.140883  \n",
       "2002-08-02         0.096629    0.144341  \n",
       "2002-08-05         0.109442    0.163509  \n",
       "2002-08-06         0.079528    0.138408  \n",
       "2002-08-07         0.096105    0.152722  \n",
       "...                     ...         ...  \n",
       "2023-02-23         0.088393    0.167799  \n",
       "2023-02-24         0.111796    0.218043  \n",
       "2023-02-27         0.109414    0.214669  \n",
       "2023-02-28         0.095619    0.177135  \n",
       "2023-03-01         0.106909    0.212863  \n",
       "\n",
       "[5181 rows x 6 columns]"
      ]
     },
     "execution_count": 34,
     "metadata": {},
     "output_type": "execute_result"
    }
   ],
   "source": [
    "# Create a Pandas DataFrame and then assign columns to each model.\n",
    "\n",
    "results = pd.DataFrame()\n",
    "\n",
    "results['Standard Deviation'] = openbb.ta.rvol_std(data, window = 2)\n",
    "results['Parkinson'] = openbb.ta.rvol_parkinson(data, window = 2)\n",
    "results['Hodges-Tompkins'] = openbb.ta.rvol_hodges_tompkins(data, window = 2)\n",
    "results['Garman-Klass'] = openbb.ta.rvol_garman_klass(data, window = 2)\n",
    "results['Rogers-Satchell'] = openbb.ta.rvol_rogers_satchell(data, window = 2)\n",
    "results['Yang-Zhang'] = openbb.ta.rvol_yang_zhang(data, window = 2)\n",
    "\n",
    "results"
   ]
  },
  {
   "attachments": {},
   "cell_type": "markdown",
   "metadata": {},
   "source": [
    "The \"problem\" has been solved; achieving a sense of accomplishment is important for maintaining the motivation required to keep driving forward. Breaking large workflows down to a series of smaller items will make them easier to manage, make the undertaking seem less overwhelming, and provide the satisfaction associated with completing a task or chore.\n",
    "\n",
    "With the question answered, what is the next task? \n",
    "\n",
    "### How do I parametize this table so that it can be called as a one-liner function, sporting a variable ticker input?\n",
    "\n",
    "The first step is to wrap the DataFrame above in a function, with the input parameters of the function corresponding to those belonging to the individual model one-liners."
   ]
  },
  {
   "cell_type": "code",
   "execution_count": 35,
   "metadata": {},
   "outputs": [
    {
     "data": {
      "text/html": [
       "<div>\n",
       "<style scoped>\n",
       "    .dataframe tbody tr th:only-of-type {\n",
       "        vertical-align: middle;\n",
       "    }\n",
       "\n",
       "    .dataframe tbody tr th {\n",
       "        vertical-align: top;\n",
       "    }\n",
       "\n",
       "    .dataframe thead th {\n",
       "        text-align: right;\n",
       "    }\n",
       "</style>\n",
       "<table border=\"1\" class=\"dataframe\">\n",
       "  <thead>\n",
       "    <tr style=\"text-align: right;\">\n",
       "      <th></th>\n",
       "      <th>Standard Deviation</th>\n",
       "      <th>Parkinson</th>\n",
       "      <th>Hodges-Tompkins</th>\n",
       "      <th>Garman-Klass</th>\n",
       "      <th>Rogers-Satchell</th>\n",
       "      <th>Yang-Zhang</th>\n",
       "    </tr>\n",
       "    <tr>\n",
       "      <th>date</th>\n",
       "      <th></th>\n",
       "      <th></th>\n",
       "      <th></th>\n",
       "      <th></th>\n",
       "      <th></th>\n",
       "      <th></th>\n",
       "    </tr>\n",
       "  </thead>\n",
       "  <tbody>\n",
       "    <tr>\n",
       "      <th>2002-08-01</th>\n",
       "      <td>0.074482</td>\n",
       "      <td>0.083403</td>\n",
       "      <td>0.074511</td>\n",
       "      <td>0.075624</td>\n",
       "      <td>0.070795</td>\n",
       "      <td>0.140883</td>\n",
       "    </tr>\n",
       "    <tr>\n",
       "      <th>2002-08-02</th>\n",
       "      <td>0.050616</td>\n",
       "      <td>0.105981</td>\n",
       "      <td>0.050636</td>\n",
       "      <td>0.103655</td>\n",
       "      <td>0.096629</td>\n",
       "      <td>0.144341</td>\n",
       "    </tr>\n",
       "    <tr>\n",
       "      <th>2002-08-05</th>\n",
       "      <td>0.064933</td>\n",
       "      <td>0.109263</td>\n",
       "      <td>0.064958</td>\n",
       "      <td>0.114035</td>\n",
       "      <td>0.109442</td>\n",
       "      <td>0.163509</td>\n",
       "    </tr>\n",
       "    <tr>\n",
       "      <th>2002-08-06</th>\n",
       "      <td>0.145795</td>\n",
       "      <td>0.072415</td>\n",
       "      <td>0.145851</td>\n",
       "      <td>0.078072</td>\n",
       "      <td>0.079528</td>\n",
       "      <td>0.138408</td>\n",
       "    </tr>\n",
       "    <tr>\n",
       "      <th>2002-08-07</th>\n",
       "      <td>0.123230</td>\n",
       "      <td>0.083376</td>\n",
       "      <td>0.123277</td>\n",
       "      <td>0.092822</td>\n",
       "      <td>0.096105</td>\n",
       "      <td>0.152722</td>\n",
       "    </tr>\n",
       "    <tr>\n",
       "      <th>...</th>\n",
       "      <td>...</td>\n",
       "      <td>...</td>\n",
       "      <td>...</td>\n",
       "      <td>...</td>\n",
       "      <td>...</td>\n",
       "      <td>...</td>\n",
       "    </tr>\n",
       "    <tr>\n",
       "      <th>2023-02-23</th>\n",
       "      <td>0.006758</td>\n",
       "      <td>0.088884</td>\n",
       "      <td>0.006761</td>\n",
       "      <td>0.088082</td>\n",
       "      <td>0.088393</td>\n",
       "      <td>0.167799</td>\n",
       "    </tr>\n",
       "    <tr>\n",
       "      <th>2023-02-24</th>\n",
       "      <td>0.256052</td>\n",
       "      <td>0.110914</td>\n",
       "      <td>0.256150</td>\n",
       "      <td>0.115316</td>\n",
       "      <td>0.111796</td>\n",
       "      <td>0.218043</td>\n",
       "    </tr>\n",
       "    <tr>\n",
       "      <th>2023-02-27</th>\n",
       "      <td>0.177978</td>\n",
       "      <td>0.097925</td>\n",
       "      <td>0.178047</td>\n",
       "      <td>0.110618</td>\n",
       "      <td>0.109414</td>\n",
       "      <td>0.214669</td>\n",
       "    </tr>\n",
       "    <tr>\n",
       "      <th>2023-02-28</th>\n",
       "      <td>0.019797</td>\n",
       "      <td>0.109552</td>\n",
       "      <td>0.019805</td>\n",
       "      <td>0.102208</td>\n",
       "      <td>0.095619</td>\n",
       "      <td>0.177135</td>\n",
       "    </tr>\n",
       "    <tr>\n",
       "      <th>2023-03-01</th>\n",
       "      <td>0.172126</td>\n",
       "      <td>0.119959</td>\n",
       "      <td>0.172192</td>\n",
       "      <td>0.113097</td>\n",
       "      <td>0.106909</td>\n",
       "      <td>0.212863</td>\n",
       "    </tr>\n",
       "  </tbody>\n",
       "</table>\n",
       "<p>5181 rows × 6 columns</p>\n",
       "</div>"
      ],
      "text/plain": [
       "            Standard Deviation  Parkinson  Hodges-Tompkins  Garman-Klass  \\\n",
       "date                                                                       \n",
       "2002-08-01            0.074482   0.083403         0.074511      0.075624   \n",
       "2002-08-02            0.050616   0.105981         0.050636      0.103655   \n",
       "2002-08-05            0.064933   0.109263         0.064958      0.114035   \n",
       "2002-08-06            0.145795   0.072415         0.145851      0.078072   \n",
       "2002-08-07            0.123230   0.083376         0.123277      0.092822   \n",
       "...                        ...        ...              ...           ...   \n",
       "2023-02-23            0.006758   0.088884         0.006761      0.088082   \n",
       "2023-02-24            0.256052   0.110914         0.256150      0.115316   \n",
       "2023-02-27            0.177978   0.097925         0.178047      0.110618   \n",
       "2023-02-28            0.019797   0.109552         0.019805      0.102208   \n",
       "2023-03-01            0.172126   0.119959         0.172192      0.113097   \n",
       "\n",
       "            Rogers-Satchell  Yang-Zhang  \n",
       "date                                     \n",
       "2002-08-01         0.070795    0.140883  \n",
       "2002-08-02         0.096629    0.144341  \n",
       "2002-08-05         0.109442    0.163509  \n",
       "2002-08-06         0.079528    0.138408  \n",
       "2002-08-07         0.096105    0.152722  \n",
       "...                     ...         ...  \n",
       "2023-02-23         0.088393    0.167799  \n",
       "2023-02-24         0.111796    0.218043  \n",
       "2023-02-27         0.109414    0.214669  \n",
       "2023-02-28         0.095619    0.177135  \n",
       "2023-03-01         0.106909    0.212863  \n",
       "\n",
       "[5181 rows x 6 columns]"
      ]
     },
     "execution_count": 35,
     "metadata": {},
     "output_type": "execute_result"
    }
   ],
   "source": [
    "from typing import Optional\n",
    "\n",
    "def rvol(\n",
    "    data: pd.DataFrame, \n",
    "    window:int = 2,\n",
    "    trading_periods: Optional[int] = None,\n",
    "    is_crypto: bool = False\n",
    ")-> pd.DataFrame:\n",
    "    \n",
    "    results = pd.DataFrame()\n",
    "\n",
    "    results['Standard Deviation'] = openbb.ta.rvol_std(data, window, trading_periods, is_crypto)\n",
    "    results['Parkinson'] = openbb.ta.rvol_parkinson(data, window, trading_periods, is_crypto)\n",
    "    results['Hodges-Tompkins'] = openbb.ta.rvol_hodges_tompkins(data, window, trading_periods, is_crypto)\n",
    "    results['Garman-Klass'] = openbb.ta.rvol_garman_klass(data, window, trading_periods, is_crypto)\n",
    "    results['Rogers-Satchell'] = openbb.ta.rvol_rogers_satchell(data, window, trading_periods, is_crypto)\n",
    "    results['Yang-Zhang'] = openbb.ta.rvol_yang_zhang(data, window, trading_periods, is_crypto)\n",
    "    \n",
    "    return results\n",
    "\n",
    "rvol(data)"
   ]
  },
  {
   "attachments": {},
   "cell_type": "markdown",
   "metadata": {},
   "source": [
    "Then, because the `data` argument will accept a function as an input, the `load` function can be passed through, instead of a Pandas DataFrame. First, setup the parameters as a separate block."
   ]
  },
  {
   "cell_type": "code",
   "execution_count": 36,
   "metadata": {
    "notebookRunGroups": {
     "groupValue": "1"
    }
   },
   "outputs": [],
   "source": [
    "symbol = 'SPY'\n",
    "window = 30\n",
    "trading_periods = 252\n",
    "is_crypto: bool = False"
   ]
  },
  {
   "attachments": {},
   "cell_type": "markdown",
   "metadata": {},
   "source": [
    "Now make the function to wrap both the `load` and `rvol` together."
   ]
  },
  {
   "cell_type": "code",
   "execution_count": 37,
   "metadata": {
    "notebookRunGroups": {
     "groupValue": "1"
    }
   },
   "outputs": [
    {
     "data": {
      "text/html": [
       "<pre style=\"white-space:pre;overflow-x:auto;line-height:normal;font-family:Menlo,'DejaVu Sans Mono',consolas,'Courier New',monospace\">Loading Daily data for SPY with starting period 2020-02-26.\n",
       "</pre>\n"
      ],
      "text/plain": [
       "Loading Daily data for SPY with starting period 2020-02-26.\n"
      ]
     },
     "metadata": {},
     "output_type": "display_data"
    },
    {
     "data": {
      "text/html": [
       "<div>\n",
       "<style scoped>\n",
       "    .dataframe tbody tr th:only-of-type {\n",
       "        vertical-align: middle;\n",
       "    }\n",
       "\n",
       "    .dataframe tbody tr th {\n",
       "        vertical-align: top;\n",
       "    }\n",
       "\n",
       "    .dataframe thead th {\n",
       "        text-align: right;\n",
       "    }\n",
       "</style>\n",
       "<table border=\"1\" class=\"dataframe\">\n",
       "  <thead>\n",
       "    <tr style=\"text-align: right;\">\n",
       "      <th></th>\n",
       "      <th>Standard Deviation</th>\n",
       "      <th>Parkinson</th>\n",
       "      <th>Hodges-Tompkins</th>\n",
       "      <th>Garman-Klass</th>\n",
       "      <th>Rogers-Satchell</th>\n",
       "      <th>Yang-Zhang</th>\n",
       "    </tr>\n",
       "    <tr>\n",
       "      <th>date</th>\n",
       "      <th></th>\n",
       "      <th></th>\n",
       "      <th></th>\n",
       "      <th></th>\n",
       "      <th></th>\n",
       "      <th></th>\n",
       "    </tr>\n",
       "  </thead>\n",
       "  <tbody>\n",
       "    <tr>\n",
       "      <th>2020-04-08</th>\n",
       "      <td>0.826918</td>\n",
       "      <td>0.515688</td>\n",
       "      <td>0.861901</td>\n",
       "      <td>0.553647</td>\n",
       "      <td>0.585802</td>\n",
       "      <td>0.891325</td>\n",
       "    </tr>\n",
       "    <tr>\n",
       "      <th>2020-04-09</th>\n",
       "      <td>0.818946</td>\n",
       "      <td>0.510654</td>\n",
       "      <td>0.853592</td>\n",
       "      <td>0.549184</td>\n",
       "      <td>0.580775</td>\n",
       "      <td>0.886029</td>\n",
       "    </tr>\n",
       "    <tr>\n",
       "      <th>2020-04-13</th>\n",
       "      <td>0.819186</td>\n",
       "      <td>0.506786</td>\n",
       "      <td>0.853842</td>\n",
       "      <td>0.546098</td>\n",
       "      <td>0.579007</td>\n",
       "      <td>0.880671</td>\n",
       "    </tr>\n",
       "    <tr>\n",
       "      <th>2020-04-14</th>\n",
       "      <td>0.813773</td>\n",
       "      <td>0.503036</td>\n",
       "      <td>0.848200</td>\n",
       "      <td>0.544810</td>\n",
       "      <td>0.579112</td>\n",
       "      <td>0.881659</td>\n",
       "    </tr>\n",
       "    <tr>\n",
       "      <th>2020-04-15</th>\n",
       "      <td>0.811932</td>\n",
       "      <td>0.497237</td>\n",
       "      <td>0.846281</td>\n",
       "      <td>0.540157</td>\n",
       "      <td>0.576165</td>\n",
       "      <td>0.882089</td>\n",
       "    </tr>\n",
       "    <tr>\n",
       "      <th>...</th>\n",
       "      <td>...</td>\n",
       "      <td>...</td>\n",
       "      <td>...</td>\n",
       "      <td>...</td>\n",
       "      <td>...</td>\n",
       "      <td>...</td>\n",
       "    </tr>\n",
       "    <tr>\n",
       "      <th>2023-02-23</th>\n",
       "      <td>0.163743</td>\n",
       "      <td>0.140126</td>\n",
       "      <td>0.170670</td>\n",
       "      <td>0.139145</td>\n",
       "      <td>0.139103</td>\n",
       "      <td>0.177882</td>\n",
       "    </tr>\n",
       "    <tr>\n",
       "      <th>2023-02-24</th>\n",
       "      <td>0.163181</td>\n",
       "      <td>0.139783</td>\n",
       "      <td>0.170084</td>\n",
       "      <td>0.139412</td>\n",
       "      <td>0.139611</td>\n",
       "      <td>0.181844</td>\n",
       "    </tr>\n",
       "    <tr>\n",
       "      <th>2023-02-27</th>\n",
       "      <td>0.163138</td>\n",
       "      <td>0.138628</td>\n",
       "      <td>0.170039</td>\n",
       "      <td>0.137471</td>\n",
       "      <td>0.136858</td>\n",
       "      <td>0.181614</td>\n",
       "    </tr>\n",
       "    <tr>\n",
       "      <th>2023-02-28</th>\n",
       "      <td>0.163079</td>\n",
       "      <td>0.136986</td>\n",
       "      <td>0.169978</td>\n",
       "      <td>0.136908</td>\n",
       "      <td>0.137157</td>\n",
       "      <td>0.180134</td>\n",
       "    </tr>\n",
       "    <tr>\n",
       "      <th>2023-03-01</th>\n",
       "      <td>0.163359</td>\n",
       "      <td>0.137063</td>\n",
       "      <td>0.170270</td>\n",
       "      <td>0.137019</td>\n",
       "      <td>0.137167</td>\n",
       "      <td>0.180290</td>\n",
       "    </tr>\n",
       "  </tbody>\n",
       "</table>\n",
       "<p>729 rows × 6 columns</p>\n",
       "</div>"
      ],
      "text/plain": [
       "            Standard Deviation  Parkinson  Hodges-Tompkins  Garman-Klass  \\\n",
       "date                                                                       \n",
       "2020-04-08            0.826918   0.515688         0.861901      0.553647   \n",
       "2020-04-09            0.818946   0.510654         0.853592      0.549184   \n",
       "2020-04-13            0.819186   0.506786         0.853842      0.546098   \n",
       "2020-04-14            0.813773   0.503036         0.848200      0.544810   \n",
       "2020-04-15            0.811932   0.497237         0.846281      0.540157   \n",
       "...                        ...        ...              ...           ...   \n",
       "2023-02-23            0.163743   0.140126         0.170670      0.139145   \n",
       "2023-02-24            0.163181   0.139783         0.170084      0.139412   \n",
       "2023-02-27            0.163138   0.138628         0.170039      0.137471   \n",
       "2023-02-28            0.163079   0.136986         0.169978      0.136908   \n",
       "2023-03-01            0.163359   0.137063         0.170270      0.137019   \n",
       "\n",
       "            Rogers-Satchell  Yang-Zhang  \n",
       "date                                     \n",
       "2020-04-08         0.585802    0.891325  \n",
       "2020-04-09         0.580775    0.886029  \n",
       "2020-04-13         0.579007    0.880671  \n",
       "2020-04-14         0.579112    0.881659  \n",
       "2020-04-15         0.576165    0.882089  \n",
       "...                     ...         ...  \n",
       "2023-02-23         0.139103    0.177882  \n",
       "2023-02-24         0.139611    0.181844  \n",
       "2023-02-27         0.136858    0.181614  \n",
       "2023-02-28         0.137157    0.180134  \n",
       "2023-03-01         0.137167    0.180290  \n",
       "\n",
       "[729 rows x 6 columns]"
      ]
     },
     "execution_count": 37,
     "metadata": {},
     "output_type": "execute_result"
    }
   ],
   "source": [
    "def realized_vol(symbol) -> pd.DataFrame:\n",
    "    data = openbb.stocks.load(f\"{symbol}\")\n",
    "    \n",
    "    rvol_df = rvol(data, window, trading_periods, is_crypto)\n",
    "    \n",
    "    return rvol_df\n",
    "    \n",
    "rvol_df = realized_vol(symbol)\n",
    "\n",
    "rvol_df"
   ]
  },
  {
   "attachments": {},
   "cell_type": "markdown",
   "metadata": {},
   "source": [
    "Thanks for reading, and if you want more actionable code snippets and notebooks, check out what else, *Getting Started with Python for Quant Finance*, has to [offer!](​https://gettingstartedwithpythonforquantfinance.com/?ref=ezyapsobd​) "
   ]
  }
 ],
 "metadata": {
  "kernelspec": {
   "display_name": "Python 3",
   "language": "python",
   "name": "python3"
  },
  "language_info": {
   "codemirror_mode": {
    "name": "ipython",
    "version": 3
   },
   "file_extension": ".py",
   "mimetype": "text/x-python",
   "name": "python",
   "nbconvert_exporter": "python",
   "pygments_lexer": "ipython3",
   "version": "3.10.9"
  },
  "orig_nbformat": 4,
  "vscode": {
   "interpreter": {
    "hash": "17ccf7182494c499ea5a15d05a855ffa6236155afe63e1777a9e5d31c18c392b"
   }
  }
 },
 "nbformat": 4,
 "nbformat_minor": 2
}
