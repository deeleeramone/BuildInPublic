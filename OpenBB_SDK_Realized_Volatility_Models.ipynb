{
 "cells": [
  {
   "attachments": {},
   "cell_type": "markdown",
   "metadata": {},
   "source": [
    "# Realized Volatility Models in the OpenBB SDK\n",
    "\n",
    "The same, six, realized volatility models from the, *Getting Started With Python for Quant Finance*, course have been integrated with the OpenBB SDK, as of version 2.5. Each model is callable through its own function, as well an input parameter to get a chart of the realized volatility quantiles for any asset. If you aren't already familiar with his work, Jason's newsletter provides usable, relavant, and practical code to your inbox every week. If you are new, to finance or to Python, the community Jason has built is a valuable resource for any type of user and his style of communication is highly effective. Check out the course [here](​https://gettingstartedwithpythonforquantfinance.com/?ref=ezyapsobd​). This notebook is a sample of what this course has to offer, applied through building in public.\n",
    "\n",
    "To begin, import the OpenBB SDK as well as the Pandas library."
   ]
  },
  {
   "cell_type": "code",
   "execution_count": 50,
   "metadata": {},
   "outputs": [],
   "source": [
    "# Import statements\n",
    "\n",
    "import pandas as pd\n",
    "from openbb_terminal.sdk import openbb\n",
    "\n",
    "%matplotlib inline"
   ]
  },
  {
   "attachments": {},
   "cell_type": "markdown",
   "metadata": {},
   "source": [
    "## End Points\n",
    "\n",
    "The cones function is for the rolling quantiles, while the other functions return historical calculations over a specific window. The `cones` function applies a `for` loop over many windows, grouping the results into selectable quantiles.\n",
    "\n",
    "`windows = [3, 10, 30, 60, 90, 120, 150, 180, 210, 240, 300, 360]`\n",
    "\n",
    "`openbb.ta.cones()`\n",
    "\n",
    "`openbb.ta.rvol_garman_klass()`\n",
    "\n",
    "`openbb.ta.rvol_hodges_tompkins()`\n",
    "\n",
    "`openbb.ta.rvol_parkinson()`\n",
    "\n",
    "`openbb.ta_rvol_rogers_satchell()`\n",
    "\n",
    "`openbb.ta.rvol_std()`\n",
    "\n",
    "`openbb.ta.rvol_yang_zhang()`"
   ]
  },
  {
   "attachments": {},
   "cell_type": "markdown",
   "metadata": {},
   "source": [
    "## Collect Some Data\n",
    "\n",
    "One of the primary steps for most workflows is to capture historical price data. The most robust method is to use the `load` function from the `stocks` module. "
   ]
  },
  {
   "cell_type": "code",
   "execution_count": 51,
   "metadata": {},
   "outputs": [
    {
     "data": {
      "text/html": [
       "<pre style=\"white-space:pre;overflow-x:auto;line-height:normal;font-family:Menlo,'DejaVu Sans Mono',consolas,'Courier New',monospace\">Loading Daily data for SPY with starting period 1993-01-29.\n",
       "</pre>\n"
      ],
      "text/plain": [
       "Loading Daily data for SPY with starting period 1993-01-29.\n"
      ]
     },
     "metadata": {},
     "output_type": "display_data"
    }
   ],
   "source": [
    "# This will obtain daily price data for the complete history of SPY. The start date only needs to be before the first trading day of SPY, no end date is required to obtain the full history.\n",
    "\n",
    "df = openbb.stocks.load(\"SPY\", start_date = '1990-01-01')"
   ]
  },
  {
   "attachments": {},
   "cell_type": "markdown",
   "metadata": {},
   "source": [
    "## Function Inputs and Parameters\n",
    "\n",
    "The primary input for each function is a Pandas DataFrame containing OHLC data. All other parameters have default settings which do not require additional user input. The `is_crypto` boolean provides an easy switch for the number of trading-days-per-year. 252 is the standard for equities and trad-fi, while `is_crypto = True` enforces 365.\n"
   ]
  },
  {
   "cell_type": "code",
   "execution_count": 52,
   "metadata": {},
   "outputs": [
    {
     "name": "stdout",
     "output_type": "stream",
     "text": [
      "\u001b[0;31mSignature:\u001b[0m     \n",
      "\u001b[0mopenbb\u001b[0m\u001b[0;34m.\u001b[0m\u001b[0mta\u001b[0m\u001b[0;34m.\u001b[0m\u001b[0mcones\u001b[0m\u001b[0;34m(\u001b[0m\u001b[0;34m\u001b[0m\n",
      "\u001b[0;34m\u001b[0m    \u001b[0mdata\u001b[0m\u001b[0;34m:\u001b[0m \u001b[0mpandas\u001b[0m\u001b[0;34m.\u001b[0m\u001b[0mcore\u001b[0m\u001b[0;34m.\u001b[0m\u001b[0mframe\u001b[0m\u001b[0;34m.\u001b[0m\u001b[0mDataFrame\u001b[0m\u001b[0;34m,\u001b[0m\u001b[0;34m\u001b[0m\n",
      "\u001b[0;34m\u001b[0m    \u001b[0mlower_q\u001b[0m\u001b[0;34m:\u001b[0m \u001b[0mfloat\u001b[0m \u001b[0;34m=\u001b[0m \u001b[0;36m0.25\u001b[0m\u001b[0;34m,\u001b[0m\u001b[0;34m\u001b[0m\n",
      "\u001b[0;34m\u001b[0m    \u001b[0mupper_q\u001b[0m\u001b[0;34m:\u001b[0m \u001b[0mfloat\u001b[0m \u001b[0;34m=\u001b[0m \u001b[0;36m0.75\u001b[0m\u001b[0;34m,\u001b[0m\u001b[0;34m\u001b[0m\n",
      "\u001b[0;34m\u001b[0m    \u001b[0mis_crypto\u001b[0m\u001b[0;34m:\u001b[0m \u001b[0mbool\u001b[0m \u001b[0;34m=\u001b[0m \u001b[0;32mFalse\u001b[0m\u001b[0;34m,\u001b[0m\u001b[0;34m\u001b[0m\n",
      "\u001b[0;34m\u001b[0m    \u001b[0mmodel\u001b[0m\u001b[0;34m:\u001b[0m \u001b[0mstr\u001b[0m \u001b[0;34m=\u001b[0m \u001b[0;34m'STD'\u001b[0m\u001b[0;34m,\u001b[0m\u001b[0;34m\u001b[0m\n",
      "\u001b[0;34m\u001b[0m\u001b[0;34m)\u001b[0m \u001b[0;34m->\u001b[0m \u001b[0mpandas\u001b[0m\u001b[0;34m.\u001b[0m\u001b[0mcore\u001b[0m\u001b[0;34m.\u001b[0m\u001b[0mframe\u001b[0m\u001b[0;34m.\u001b[0m\u001b[0mDataFrame\u001b[0m\u001b[0;34m\u001b[0m\u001b[0;34m\u001b[0m\u001b[0m\n",
      "\u001b[0;31mCall signature:\u001b[0m \u001b[0mopenbb\u001b[0m\u001b[0;34m.\u001b[0m\u001b[0mta\u001b[0m\u001b[0;34m.\u001b[0m\u001b[0mcones\u001b[0m\u001b[0;34m(\u001b[0m\u001b[0;34m*\u001b[0m\u001b[0margs\u001b[0m\u001b[0;34m:\u001b[0m \u001b[0mAny\u001b[0m\u001b[0;34m,\u001b[0m \u001b[0;34m**\u001b[0m\u001b[0mkwargs\u001b[0m\u001b[0;34m:\u001b[0m \u001b[0mAny\u001b[0m\u001b[0;34m)\u001b[0m \u001b[0;34m->\u001b[0m \u001b[0mAny\u001b[0m\u001b[0;34m\u001b[0m\u001b[0;34m\u001b[0m\u001b[0m\n",
      "\u001b[0;31mType:\u001b[0m           cones\n",
      "\u001b[0;31mString form:\u001b[0m    <openbb_terminal.common.technical_analysis.volatility_model.Operation object at 0x2b8b81300>\n",
      "\u001b[0;31mFile:\u001b[0m           ~/GitHub/OpenBBTerminal/openbb_terminal/common/technical_analysis/volatility_model.py\n",
      "\u001b[0;31mDocstring:\u001b[0m     \n",
      "Returns a DataFrame of realized volatility quantiles.\n",
      "\n",
      "Parameters\n",
      "---------\n",
      "data: pd.DataFrame\n",
      "    DataFrame of the OHLC data.\n",
      "lower_q: float (default = 0.25)\n",
      "    The lower quantile to calculate the realized volatility over time for.\n",
      "upper_q: float (default = 0.75)\n",
      "    The upper quantile to calculate the realized volatility over time for.\n",
      "is_crypto: bool (default = False)\n",
      "    If true, volatility is calculated for 365 days instead of 252.\n",
      "model: str (default = \"STD\")\n",
      "    The model to use for volatility calculation. Choices are:\n",
      "    [\"STD\", \"Parkinson\", \"Garman-Klass\", \"Hodges-Tompkins\", \"Rogers-Satchell\", \"Yang-Zhang\"]\n",
      "\n",
      "        Standard deviation measures how widely returns are dispersed from the average return.\n",
      "        It is the most common (and biased) estimator of volatility.\n",
      "\n",
      "        Parkinson volatility uses the high and low price of the day rather than just close to close prices.\n",
      "        It is useful for capturing large price movements during the day.\n",
      "\n",
      "        Garman-Klass volatility extends Parkinson volatility by taking into account the opening and closing price.\n",
      "        As markets are most active during the opening and closing of a trading session,\n",
      "        it makes volatility estimation more accurate.\n",
      "\n",
      "        Hodges-Tompkins volatility is a bias correction for estimation using an overlapping data sample.\n",
      "        It produces unbiased estimates and a substantial gain in efficiency.\n",
      "\n",
      "        Rogers-Satchell is an estimator for measuring the volatility with an average return not equal to zero.\n",
      "        Unlike Parkinson and Garman-Klass estimators, Rogers-Satchell incorporates a drift term,\n",
      "        mean return not equal to zero.\n",
      "\n",
      "        Yang-Zhang volatility is the combination of the overnight (close-to-open volatility).\n",
      "        It is a weighted average of the Rogers-Satchell volatility and the open-to-close volatility.\n",
      "\n",
      "Returns\n",
      "-------\n",
      "pd.DataFrame: cones\n",
      "    DataFrame of realized volatility quantiles.\n",
      "\n",
      "Example\n",
      "-------\n",
      ">>> df = openbb.stocks.load(\"AAPL\")\n",
      ">>> cones_df = openbb.ta.cones(data = df, lower_q = 0.10, upper_q = 0.90)\n",
      "\n",
      ">>> cones_df = openbb.ta.cones(df,0.15,0.85,False,\"Garman-Klass\")\n"
     ]
    }
   ],
   "source": [
    "openbb.ta.cones?"
   ]
  },
  {
   "cell_type": "code",
   "execution_count": 53,
   "metadata": {},
   "outputs": [
    {
     "name": "stdout",
     "output_type": "stream",
     "text": [
      "\u001b[0;31mSignature:\u001b[0m     \n",
      "\u001b[0mopenbb\u001b[0m\u001b[0;34m.\u001b[0m\u001b[0mta\u001b[0m\u001b[0;34m.\u001b[0m\u001b[0mrvol_parkinson\u001b[0m\u001b[0;34m(\u001b[0m\u001b[0;34m\u001b[0m\n",
      "\u001b[0;34m\u001b[0m    \u001b[0mdata\u001b[0m\u001b[0;34m:\u001b[0m \u001b[0mpandas\u001b[0m\u001b[0;34m.\u001b[0m\u001b[0mcore\u001b[0m\u001b[0;34m.\u001b[0m\u001b[0mframe\u001b[0m\u001b[0;34m.\u001b[0m\u001b[0mDataFrame\u001b[0m\u001b[0;34m,\u001b[0m\u001b[0;34m\u001b[0m\n",
      "\u001b[0;34m\u001b[0m    \u001b[0mwindow\u001b[0m\u001b[0;34m:\u001b[0m \u001b[0mint\u001b[0m \u001b[0;34m=\u001b[0m \u001b[0;36m30\u001b[0m\u001b[0;34m,\u001b[0m\u001b[0;34m\u001b[0m\n",
      "\u001b[0;34m\u001b[0m    \u001b[0mtrading_periods\u001b[0m\u001b[0;34m:\u001b[0m \u001b[0mOptional\u001b[0m\u001b[0;34m[\u001b[0m\u001b[0mint\u001b[0m\u001b[0;34m]\u001b[0m \u001b[0;34m=\u001b[0m \u001b[0;32mNone\u001b[0m\u001b[0;34m,\u001b[0m\u001b[0;34m\u001b[0m\n",
      "\u001b[0;34m\u001b[0m    \u001b[0mis_crypto\u001b[0m\u001b[0;34m:\u001b[0m \u001b[0mbool\u001b[0m \u001b[0;34m=\u001b[0m \u001b[0;32mFalse\u001b[0m\u001b[0;34m,\u001b[0m\u001b[0;34m\u001b[0m\n",
      "\u001b[0;34m\u001b[0m    \u001b[0mclean\u001b[0m\u001b[0;34m=\u001b[0m\u001b[0;32mTrue\u001b[0m\u001b[0;34m,\u001b[0m\u001b[0;34m\u001b[0m\n",
      "\u001b[0;34m\u001b[0m\u001b[0;34m)\u001b[0m \u001b[0;34m->\u001b[0m \u001b[0mpandas\u001b[0m\u001b[0;34m.\u001b[0m\u001b[0mcore\u001b[0m\u001b[0;34m.\u001b[0m\u001b[0mframe\u001b[0m\u001b[0;34m.\u001b[0m\u001b[0mDataFrame\u001b[0m\u001b[0;34m\u001b[0m\u001b[0;34m\u001b[0m\u001b[0m\n",
      "\u001b[0;31mCall signature:\u001b[0m \u001b[0mopenbb\u001b[0m\u001b[0;34m.\u001b[0m\u001b[0mta\u001b[0m\u001b[0;34m.\u001b[0m\u001b[0mrvol_parkinson\u001b[0m\u001b[0;34m(\u001b[0m\u001b[0;34m*\u001b[0m\u001b[0margs\u001b[0m\u001b[0;34m:\u001b[0m \u001b[0mAny\u001b[0m\u001b[0;34m,\u001b[0m \u001b[0;34m**\u001b[0m\u001b[0mkwargs\u001b[0m\u001b[0;34m:\u001b[0m \u001b[0mAny\u001b[0m\u001b[0;34m)\u001b[0m \u001b[0;34m->\u001b[0m \u001b[0mAny\u001b[0m\u001b[0;34m\u001b[0m\u001b[0;34m\u001b[0m\u001b[0m\n",
      "\u001b[0;31mType:\u001b[0m           parkinson\n",
      "\u001b[0;31mString form:\u001b[0m    <openbb_terminal.common.technical_analysis.volatility_model.Operation object at 0x2b8b61e70>\n",
      "\u001b[0;31mFile:\u001b[0m           ~/GitHub/OpenBBTerminal/openbb_terminal/common/technical_analysis/volatility_model.py\n",
      "\u001b[0;31mDocstring:\u001b[0m     \n",
      "Parkinson volatility uses the high and low price of the day rather than just close to close prices.\n",
      "It is useful for capturing large price movements during the day.\n",
      "\n",
      "Parameters\n",
      "----------\n",
      "data : pd.DataFrame\n",
      "    Dataframe of OHLC prices.\n",
      "window : int [default: 30]\n",
      "    Length of window to calculate over.\n",
      "trading_periods : Optional[int] [default: 252]\n",
      "    Number of trading periods in a year.\n",
      "is_crypto : bool [default: False]\n",
      "    If true, trading_periods is defined as 365.\n",
      "clean : bool [default: True]\n",
      "    Whether to clean the data or not by dropping NaN values.\n",
      "\n",
      "Returns\n",
      "-------\n",
      "pd.DataFrame : results\n",
      "    Dataframe with results.\n",
      "\n",
      "Example\n",
      "-------\n",
      ">>> data = openbb.stocks.load('BTC-USD')\n",
      ">>> df = openbb.ta.rvol_parkinson(data, is_crypto = True)\n"
     ]
    }
   ],
   "source": [
    "openbb.ta.rvol_parkinson?"
   ]
  },
  {
   "attachments": {},
   "cell_type": "markdown",
   "metadata": {},
   "source": [
    "## Sample Outputs\n",
    "\n",
    "Let's take a look at what the expected outputs are. The data we have loaded already is the complete daily OHLC history of SPY. "
   ]
  },
  {
   "cell_type": "code",
   "execution_count": 54,
   "metadata": {},
   "outputs": [
    {
     "data": {
      "text/html": [
       "<div>\n",
       "<style scoped>\n",
       "    .dataframe tbody tr th:only-of-type {\n",
       "        vertical-align: middle;\n",
       "    }\n",
       "\n",
       "    .dataframe tbody tr th {\n",
       "        vertical-align: top;\n",
       "    }\n",
       "\n",
       "    .dataframe thead th {\n",
       "        text-align: right;\n",
       "    }\n",
       "</style>\n",
       "<table border=\"1\" class=\"dataframe\">\n",
       "  <thead>\n",
       "    <tr style=\"text-align: right;\">\n",
       "      <th></th>\n",
       "      <th>Open</th>\n",
       "      <th>High</th>\n",
       "      <th>Low</th>\n",
       "      <th>Close</th>\n",
       "      <th>Adj Close</th>\n",
       "      <th>Volume</th>\n",
       "      <th>Dividends</th>\n",
       "      <th>Stock Splits</th>\n",
       "    </tr>\n",
       "    <tr>\n",
       "      <th>date</th>\n",
       "      <th></th>\n",
       "      <th></th>\n",
       "      <th></th>\n",
       "      <th></th>\n",
       "      <th></th>\n",
       "      <th></th>\n",
       "      <th></th>\n",
       "      <th></th>\n",
       "    </tr>\n",
       "  </thead>\n",
       "  <tbody>\n",
       "    <tr>\n",
       "      <th>1993-01-29</th>\n",
       "      <td>25.23615</td>\n",
       "      <td>25.23615</td>\n",
       "      <td>25.110597</td>\n",
       "      <td>25.218214</td>\n",
       "      <td>25.218214</td>\n",
       "      <td>1003200</td>\n",
       "      <td>0.0</td>\n",
       "      <td>0.0</td>\n",
       "    </tr>\n",
       "  </tbody>\n",
       "</table>\n",
       "</div>"
      ],
      "text/plain": [
       "                Open      High        Low      Close  Adj Close   Volume  \\\n",
       "date                                                                       \n",
       "1993-01-29  25.23615  25.23615  25.110597  25.218214  25.218214  1003200   \n",
       "\n",
       "            Dividends  Stock Splits  \n",
       "date                                 \n",
       "1993-01-29        0.0           0.0  "
      ]
     },
     "execution_count": 54,
     "metadata": {},
     "output_type": "execute_result"
    }
   ],
   "source": [
    "df.head(1)"
   ]
  },
  {
   "attachments": {},
   "cell_type": "markdown",
   "metadata": {},
   "source": [
    "### Standard Deviation Model\n",
    "\n",
    "This model requires a minimum window of two trading periods, the default is thirty. The calculations, by default, are annualized over 252 trading-days-per-year. To change this behaviour:\n",
    "\n",
    "- `is_crypto = True` to annualize over 365 days.\n",
    "- Enter an integer value for the `trading_periods` argument. "
   ]
  },
  {
   "cell_type": "code",
   "execution_count": 55,
   "metadata": {},
   "outputs": [
    {
     "name": "stdout",
     "output_type": "stream",
     "text": [
      "Error: Window must be at least 2, defaulting to 30.\n"
     ]
    },
    {
     "data": {
      "text/plain": [
       "date\n",
       "1993-03-15    0.133722\n",
       "1993-03-16    0.132503\n",
       "1993-03-17    0.133976\n",
       "1993-03-18    0.131751\n",
       "1993-03-19    0.131355\n",
       "                ...   \n",
       "2023-02-23    0.163743\n",
       "2023-02-24    0.163181\n",
       "2023-02-27    0.163138\n",
       "2023-02-28    0.163079\n",
       "2023-03-01    0.163359\n",
       "Name: Close, Length: 7546, dtype: float64"
      ]
     },
     "execution_count": 55,
     "metadata": {},
     "output_type": "execute_result"
    }
   ],
   "source": [
    "openbb.ta.rvol_std(df, window = 1)"
   ]
  },
  {
   "attachments": {},
   "cell_type": "markdown",
   "metadata": {},
   "source": [
    "For each model there is an override for the `is_crypto` boolean that allows any period to be entered. A message will print indicating that 365 has been overridden. "
   ]
  },
  {
   "cell_type": "code",
   "execution_count": 56,
   "metadata": {},
   "outputs": [
    {
     "name": "stdout",
     "output_type": "stream",
     "text": [
      "is_crypto is overridden by trading_periods.\n"
     ]
    },
    {
     "data": {
      "text/plain": [
       "date\n",
       "1994-07-12    0.008657\n",
       "1994-07-13    0.008643\n",
       "1994-07-14    0.008677\n",
       "1994-07-15    0.008643\n",
       "1994-07-18    0.008638\n",
       "                ...   \n",
       "2023-02-23    0.019422\n",
       "2023-02-24    0.019436\n",
       "2023-02-27    0.019434\n",
       "2023-02-28    0.019426\n",
       "2023-03-01    0.019427\n",
       "Name: Close, Length: 7211, dtype: float64"
      ]
     },
     "execution_count": 56,
     "metadata": {},
     "output_type": "execute_result"
    }
   ],
   "source": [
    "openbb.ta.rvol_std(df, trading_periods = 2, window = 365, is_crypto = True)"
   ]
  },
  {
   "cell_type": "code",
   "execution_count": 57,
   "metadata": {},
   "outputs": [
    {
     "data": {
      "text/plain": [
       "date\n",
       "1993-02-02    0.055798\n",
       "1993-02-03    0.094279\n",
       "1993-02-04    0.071167\n",
       "1993-02-05    0.054672\n",
       "1993-02-08    0.007802\n",
       "                ...   \n",
       "2023-02-23    0.075032\n",
       "2023-02-24    0.180106\n",
       "2023-02-27    0.158720\n",
       "2023-02-28    0.079730\n",
       "2023-03-01    0.001577\n",
       "Name: Close, Length: 7574, dtype: float64"
      ]
     },
     "execution_count": 57,
     "metadata": {},
     "output_type": "execute_result"
    }
   ],
   "source": [
    "openbb.ta.rvol_std(df, window = 2)"
   ]
  },
  {
   "attachments": {},
   "cell_type": "markdown",
   "metadata": {},
   "source": [
    "Notice the difference  in the output when the `is_crypto` argument is deployed."
   ]
  },
  {
   "cell_type": "code",
   "execution_count": 58,
   "metadata": {},
   "outputs": [
    {
     "data": {
      "text/plain": [
       "date\n",
       "1993-02-02    0.067153\n",
       "1993-02-03    0.113465\n",
       "1993-02-04    0.085650\n",
       "1993-02-05    0.065798\n",
       "1993-02-08    0.009390\n",
       "                ...   \n",
       "2023-02-23    0.090301\n",
       "2023-02-24    0.216758\n",
       "2023-02-27    0.191019\n",
       "2023-02-28    0.095955\n",
       "2023-03-01    0.001898\n",
       "Name: Close, Length: 7574, dtype: float64"
      ]
     },
     "execution_count": 58,
     "metadata": {},
     "output_type": "execute_result"
    }
   ],
   "source": [
    "openbb.ta.rvol_std(df, is_crypto = True, window = 2)"
   ]
  },
  {
   "cell_type": "code",
   "execution_count": 59,
   "metadata": {},
   "outputs": [
    {
     "data": {
      "text/plain": [
       "date\n",
       "1993-02-12    0.090819\n",
       "1993-02-16    0.157640\n",
       "1993-02-17    0.156314\n",
       "1993-02-18    0.140355\n",
       "1993-02-19    0.139528\n",
       "                ...   \n",
       "2023-02-23    0.150293\n",
       "2023-02-24    0.152980\n",
       "2023-02-27    0.154048\n",
       "2023-02-28    0.132046\n",
       "2023-03-01    0.130521\n",
       "Name: Close, Length: 7566, dtype: float64"
      ]
     },
     "execution_count": 59,
     "metadata": {},
     "output_type": "execute_result"
    }
   ],
   "source": [
    "openbb.ta.rvol_std(df, window = 10, is_crypto = False)"
   ]
  },
  {
   "cell_type": "code",
   "execution_count": 60,
   "metadata": {},
   "outputs": [
    {
     "data": {
      "text/plain": [
       "date\n",
       "1993-02-12    0.109301\n",
       "1993-02-16    0.189719\n",
       "1993-02-17    0.188123\n",
       "1993-02-18    0.168918\n",
       "1993-02-19    0.167922\n",
       "                ...   \n",
       "2023-02-23    0.180877\n",
       "2023-02-24    0.184112\n",
       "2023-02-27    0.185397\n",
       "2023-02-28    0.158917\n",
       "2023-03-01    0.157081\n",
       "Name: Close, Length: 7566, dtype: float64"
      ]
     },
     "execution_count": 60,
     "metadata": {},
     "output_type": "execute_result"
    }
   ],
   "source": [
    "openbb.ta.rvol_std(df, window = 10, is_crypto = True)"
   ]
  },
  {
   "attachments": {},
   "cell_type": "markdown",
   "metadata": {},
   "source": [
    "The other models operate in exactly the same way. Let's examine the difference of output.\n",
    "\n",
    "### Parkinson Model\n",
    "\n",
    "Print the docstrings with: `help(openbb.ta.rvol_parkinson)`, or in a notebook: `openbb.ta.rvol_parkinson?`"
   ]
  },
  {
   "cell_type": "code",
   "execution_count": 61,
   "metadata": {},
   "outputs": [
    {
     "data": {
      "text/plain": [
       "date\n",
       "1993-03-12    0.100296\n",
       "1993-03-15    0.100382\n",
       "1993-03-16    0.099882\n",
       "1993-03-17    0.099987\n",
       "1993-03-18    0.098891\n",
       "                ...   \n",
       "2023-02-23    0.140126\n",
       "2023-02-24    0.139783\n",
       "2023-02-27    0.138628\n",
       "2023-02-28    0.136986\n",
       "2023-03-01    0.137063\n",
       "Length: 7547, dtype: float64"
      ]
     },
     "execution_count": 61,
     "metadata": {},
     "output_type": "execute_result"
    }
   ],
   "source": [
    "openbb.ta.rvol_parkinson(df)"
   ]
  },
  {
   "cell_type": "code",
   "execution_count": 62,
   "metadata": {},
   "outputs": [
    {
     "data": {
      "text/plain": [
       "date\n",
       "1993-03-12    0.120706\n",
       "1993-03-15    0.120810\n",
       "1993-03-16    0.120208\n",
       "1993-03-17    0.120335\n",
       "1993-03-18    0.119015\n",
       "                ...   \n",
       "2023-02-23    0.168642\n",
       "2023-02-24    0.168229\n",
       "2023-02-27    0.166839\n",
       "2023-02-28    0.164862\n",
       "2023-03-01    0.164955\n",
       "Length: 7547, dtype: float64"
      ]
     },
     "execution_count": 62,
     "metadata": {},
     "output_type": "execute_result"
    }
   ],
   "source": [
    "openbb.ta.rvol_parkinson(df, is_crypto = True)"
   ]
  },
  {
   "attachments": {},
   "cell_type": "markdown",
   "metadata": {},
   "source": [
    "### Hodges-Tompkins Model\n",
    "\n",
    "Print the docstrings with: `help(openbb.ta.rvol_hodges_tompkins)`, or in a notebook: `openbb.ta.rvol_hodges_tompkins?`"
   ]
  },
  {
   "cell_type": "code",
   "execution_count": 63,
   "metadata": {},
   "outputs": [
    {
     "data": {
      "text/plain": [
       "date\n",
       "1993-03-15    0.134255\n",
       "1993-03-16    0.133031\n",
       "1993-03-17    0.134510\n",
       "1993-03-18    0.132277\n",
       "1993-03-19    0.131878\n",
       "                ...   \n",
       "2023-02-23    0.164395\n",
       "2023-02-24    0.163831\n",
       "2023-02-27    0.163788\n",
       "2023-02-28    0.163729\n",
       "2023-03-01    0.164010\n",
       "Name: Close, Length: 7546, dtype: float64"
      ]
     },
     "execution_count": 63,
     "metadata": {},
     "output_type": "execute_result"
    }
   ],
   "source": [
    "openbb.ta.rvol_hodges_tompkins(df)"
   ]
  },
  {
   "cell_type": "code",
   "execution_count": 64,
   "metadata": {},
   "outputs": [
    {
     "data": {
      "text/plain": [
       "date\n",
       "1993-03-15    0.161576\n",
       "1993-03-16    0.160103\n",
       "1993-03-17    0.161883\n",
       "1993-03-18    0.159195\n",
       "1993-03-19    0.158716\n",
       "                ...   \n",
       "2023-02-23    0.197850\n",
       "2023-02-24    0.197171\n",
       "2023-02-27    0.197119\n",
       "2023-02-28    0.197047\n",
       "2023-03-01    0.197386\n",
       "Name: Close, Length: 7546, dtype: float64"
      ]
     },
     "execution_count": 64,
     "metadata": {},
     "output_type": "execute_result"
    }
   ],
   "source": [
    "openbb.ta.rvol_hodges_tompkins(df, is_crypto = True)"
   ]
  },
  {
   "attachments": {},
   "cell_type": "markdown",
   "metadata": {},
   "source": [
    "### Garman-Klass Model\n",
    "\n",
    "Print the docstrings with: `help(openbb.ta.rvol_garman_klass)`, or in a notebook: `openbb.ta.rvol_garman_klass?`\n"
   ]
  },
  {
   "cell_type": "code",
   "execution_count": 65,
   "metadata": {},
   "outputs": [
    {
     "data": {
      "text/plain": [
       "date\n",
       "1993-03-12    0.090442\n",
       "1993-03-15    0.090035\n",
       "1993-03-16    0.089996\n",
       "1993-03-17    0.089878\n",
       "1993-03-18    0.089616\n",
       "                ...   \n",
       "2023-02-23    0.139145\n",
       "2023-02-24    0.139412\n",
       "2023-02-27    0.137471\n",
       "2023-02-28    0.136908\n",
       "2023-03-01    0.137019\n",
       "Length: 7547, dtype: float64"
      ]
     },
     "execution_count": 65,
     "metadata": {},
     "output_type": "execute_result"
    }
   ],
   "source": [
    "openbb.ta.rvol_garman_klass(df)"
   ]
  },
  {
   "cell_type": "code",
   "execution_count": 66,
   "metadata": {},
   "outputs": [
    {
     "data": {
      "text/plain": [
       "date\n",
       "1993-03-12    0.108847\n",
       "1993-03-15    0.108357\n",
       "1993-03-16    0.108310\n",
       "1993-03-17    0.108169\n",
       "1993-03-18    0.107853\n",
       "                ...   \n",
       "2023-02-23    0.167462\n",
       "2023-02-24    0.167782\n",
       "2023-02-27    0.165446\n",
       "2023-02-28    0.164769\n",
       "2023-03-01    0.164902\n",
       "Length: 7547, dtype: float64"
      ]
     },
     "execution_count": 66,
     "metadata": {},
     "output_type": "execute_result"
    }
   ],
   "source": [
    "openbb.ta.rvol_garman_klass(df, is_crypto = True)"
   ]
  },
  {
   "attachments": {},
   "cell_type": "markdown",
   "metadata": {},
   "source": [
    "### Rogers-Satchell Model\n",
    "\n",
    "Print the docstrings with: `help(openbb.ta.rvol_rogers_satchell)`, or in a notebook: `openbb.ta.rvol_rogers_satchell?`"
   ]
  },
  {
   "cell_type": "code",
   "execution_count": 67,
   "metadata": {},
   "outputs": [
    {
     "data": {
      "text/plain": [
       "date\n",
       "1993-03-12    0.091722\n",
       "1993-03-15    0.090740\n",
       "1993-03-16    0.091090\n",
       "1993-03-17    0.090891\n",
       "1993-03-18    0.091437\n",
       "                ...   \n",
       "2023-02-23    0.139103\n",
       "2023-02-24    0.139611\n",
       "2023-02-27    0.136858\n",
       "2023-02-28    0.137157\n",
       "2023-03-01    0.137167\n",
       "Length: 7547, dtype: float64"
      ]
     },
     "execution_count": 67,
     "metadata": {},
     "output_type": "execute_result"
    }
   ],
   "source": [
    "openbb.ta.rvol_rogers_satchell(df)"
   ]
  },
  {
   "cell_type": "code",
   "execution_count": 68,
   "metadata": {},
   "outputs": [
    {
     "data": {
      "text/plain": [
       "date\n",
       "1993-03-12    0.110387\n",
       "1993-03-15    0.109205\n",
       "1993-03-16    0.109627\n",
       "1993-03-17    0.109387\n",
       "1993-03-18    0.110045\n",
       "                ...   \n",
       "2023-02-23    0.167410\n",
       "2023-02-24    0.168022\n",
       "2023-02-27    0.164709\n",
       "2023-02-28    0.165069\n",
       "2023-03-01    0.165080\n",
       "Length: 7547, dtype: float64"
      ]
     },
     "execution_count": 68,
     "metadata": {},
     "output_type": "execute_result"
    }
   ],
   "source": [
    "openbb.ta.rvol_rogers_satchell(df, is_crypto = True)"
   ]
  },
  {
   "attachments": {},
   "cell_type": "markdown",
   "metadata": {},
   "source": [
    "### Yang Zhang Model\n",
    "\n",
    "Print the docstrings with: `help(openbb.ta.rvol_yang_zhang)`, or in a notebook: `openbb.ta.rvol_yang_zhang?`"
   ]
  },
  {
   "cell_type": "code",
   "execution_count": 69,
   "metadata": {},
   "outputs": [
    {
     "data": {
      "text/plain": [
       "date\n",
       "1993-03-15    0.111298\n",
       "1993-03-16    0.111256\n",
       "1993-03-17    0.111355\n",
       "1993-03-18    0.111951\n",
       "1993-03-19    0.107311\n",
       "                ...   \n",
       "2023-02-23    0.177882\n",
       "2023-02-24    0.181844\n",
       "2023-02-27    0.181614\n",
       "2023-02-28    0.180134\n",
       "2023-03-01    0.180290\n",
       "Length: 7546, dtype: float64"
      ]
     },
     "execution_count": 69,
     "metadata": {},
     "output_type": "execute_result"
    }
   ],
   "source": [
    "openbb.ta.rvol_yang_zhang(df)"
   ]
  },
  {
   "cell_type": "code",
   "execution_count": 70,
   "metadata": {},
   "outputs": [
    {
     "data": {
      "text/plain": [
       "date\n",
       "1993-03-15    0.133947\n",
       "1993-03-16    0.133896\n",
       "1993-03-17    0.134015\n",
       "1993-03-18    0.134734\n",
       "1993-03-19    0.129149\n",
       "                ...   \n",
       "2023-02-23    0.214081\n",
       "2023-02-24    0.218849\n",
       "2023-02-27    0.218572\n",
       "2023-02-28    0.216791\n",
       "2023-03-01    0.216979\n",
       "Length: 7546, dtype: float64"
      ]
     },
     "execution_count": 70,
     "metadata": {},
     "output_type": "execute_result"
    }
   ],
   "source": [
    "openbb.ta.rvol_yang_zhang(df, is_crypto = True)"
   ]
  },
  {
   "attachments": {},
   "cell_type": "markdown",
   "metadata": {},
   "source": [
    "### Cones\n",
    "\n",
    "This function generates the realized volatility quantiles and returns a DataFrame which can be used for plotting the cones. There are two functions, one is for returning the DataFrame only, the other is for returning a chart.\n",
    "\n",
    "`openbb.ta.cones()`\n",
    "\n",
    "`openbb.ta.cones_chart()`\n",
    "\n",
    "For these functions, the lower and upper quantiles have been parameterized. Use the `lower_q` and `upper_q` arguments as a float between 0 and 1, representing the % value. The default model is \"STD\", `rvol_std`."
   ]
  },
  {
   "cell_type": "code",
   "execution_count": 71,
   "metadata": {},
   "outputs": [
    {
     "data": {
      "text/html": [
       "<div>\n",
       "<style scoped>\n",
       "    .dataframe tbody tr th:only-of-type {\n",
       "        vertical-align: middle;\n",
       "    }\n",
       "\n",
       "    .dataframe tbody tr th {\n",
       "        vertical-align: top;\n",
       "    }\n",
       "\n",
       "    .dataframe thead th {\n",
       "        text-align: right;\n",
       "    }\n",
       "</style>\n",
       "<table border=\"1\" class=\"dataframe\">\n",
       "  <thead>\n",
       "    <tr style=\"text-align: right;\">\n",
       "      <th></th>\n",
       "      <th>Realized</th>\n",
       "      <th>Min</th>\n",
       "      <th>Lower 25%</th>\n",
       "      <th>Median</th>\n",
       "      <th>Upper 75%</th>\n",
       "      <th>Max</th>\n",
       "    </tr>\n",
       "  </thead>\n",
       "  <tbody>\n",
       "    <tr>\n",
       "      <th>3</th>\n",
       "      <td>0.067039</td>\n",
       "      <td>0.000017</td>\n",
       "      <td>0.064330</td>\n",
       "      <td>0.112034</td>\n",
       "      <td>0.186047</td>\n",
       "      <td>1.919683</td>\n",
       "    </tr>\n",
       "    <tr>\n",
       "      <th>10</th>\n",
       "      <td>0.090819</td>\n",
       "      <td>0.020061</td>\n",
       "      <td>0.088643</td>\n",
       "      <td>0.133296</td>\n",
       "      <td>0.193940</td>\n",
       "      <td>1.130633</td>\n",
       "    </tr>\n",
       "    <tr>\n",
       "      <th>30</th>\n",
       "      <td>0.133722</td>\n",
       "      <td>0.035119</td>\n",
       "      <td>0.100795</td>\n",
       "      <td>0.136745</td>\n",
       "      <td>0.199697</td>\n",
       "      <td>0.864873</td>\n",
       "    </tr>\n",
       "    <tr>\n",
       "      <th>60</th>\n",
       "      <td>0.120575</td>\n",
       "      <td>0.049786</td>\n",
       "      <td>0.107396</td>\n",
       "      <td>0.141217</td>\n",
       "      <td>0.200625</td>\n",
       "      <td>0.755842</td>\n",
       "    </tr>\n",
       "    <tr>\n",
       "      <th>90</th>\n",
       "      <td>0.114354</td>\n",
       "      <td>0.054997</td>\n",
       "      <td>0.110068</td>\n",
       "      <td>0.141659</td>\n",
       "      <td>0.202717</td>\n",
       "      <td>0.646355</td>\n",
       "    </tr>\n",
       "    <tr>\n",
       "      <th>120</th>\n",
       "      <td>0.108223</td>\n",
       "      <td>0.062658</td>\n",
       "      <td>0.110613</td>\n",
       "      <td>0.143009</td>\n",
       "      <td>0.206154</td>\n",
       "      <td>0.590355</td>\n",
       "    </tr>\n",
       "    <tr>\n",
       "      <th>150</th>\n",
       "      <td>0.100045</td>\n",
       "      <td>0.064545</td>\n",
       "      <td>0.111774</td>\n",
       "      <td>0.149569</td>\n",
       "      <td>0.205816</td>\n",
       "      <td>0.560031</td>\n",
       "    </tr>\n",
       "    <tr>\n",
       "      <th>180</th>\n",
       "      <td>0.096711</td>\n",
       "      <td>0.066184</td>\n",
       "      <td>0.111434</td>\n",
       "      <td>0.151656</td>\n",
       "      <td>0.207663</td>\n",
       "      <td>0.522603</td>\n",
       "    </tr>\n",
       "    <tr>\n",
       "      <th>210</th>\n",
       "      <td>0.094264</td>\n",
       "      <td>0.067329</td>\n",
       "      <td>0.112799</td>\n",
       "      <td>0.155516</td>\n",
       "      <td>0.211390</td>\n",
       "      <td>0.490692</td>\n",
       "    </tr>\n",
       "    <tr>\n",
       "      <th>240</th>\n",
       "      <td>0.091158</td>\n",
       "      <td>0.067541</td>\n",
       "      <td>0.113280</td>\n",
       "      <td>0.154274</td>\n",
       "      <td>0.217639</td>\n",
       "      <td>0.464773</td>\n",
       "    </tr>\n",
       "    <tr>\n",
       "      <th>300</th>\n",
       "      <td>0.096604</td>\n",
       "      <td>0.068461</td>\n",
       "      <td>0.114588</td>\n",
       "      <td>0.159008</td>\n",
       "      <td>0.216675</td>\n",
       "      <td>0.424524</td>\n",
       "    </tr>\n",
       "    <tr>\n",
       "      <th>360</th>\n",
       "      <td>0.097728</td>\n",
       "      <td>0.075655</td>\n",
       "      <td>0.113878</td>\n",
       "      <td>0.156737</td>\n",
       "      <td>0.216782</td>\n",
       "      <td>0.396574</td>\n",
       "    </tr>\n",
       "  </tbody>\n",
       "</table>\n",
       "</div>"
      ],
      "text/plain": [
       "     Realized       Min  Lower 25%    Median  Upper 75%       Max\n",
       "3    0.067039  0.000017   0.064330  0.112034   0.186047  1.919683\n",
       "10   0.090819  0.020061   0.088643  0.133296   0.193940  1.130633\n",
       "30   0.133722  0.035119   0.100795  0.136745   0.199697  0.864873\n",
       "60   0.120575  0.049786   0.107396  0.141217   0.200625  0.755842\n",
       "90   0.114354  0.054997   0.110068  0.141659   0.202717  0.646355\n",
       "120  0.108223  0.062658   0.110613  0.143009   0.206154  0.590355\n",
       "150  0.100045  0.064545   0.111774  0.149569   0.205816  0.560031\n",
       "180  0.096711  0.066184   0.111434  0.151656   0.207663  0.522603\n",
       "210  0.094264  0.067329   0.112799  0.155516   0.211390  0.490692\n",
       "240  0.091158  0.067541   0.113280  0.154274   0.217639  0.464773\n",
       "300  0.096604  0.068461   0.114588  0.159008   0.216675  0.424524\n",
       "360  0.097728  0.075655   0.113878  0.156737   0.216782  0.396574"
      ]
     },
     "execution_count": 71,
     "metadata": {},
     "output_type": "execute_result"
    }
   ],
   "source": [
    "openbb.ta.cones(df)"
   ]
  },
  {
   "cell_type": "code",
   "execution_count": 72,
   "metadata": {},
   "outputs": [
    {
     "data": {
      "text/html": [
       "<div>\n",
       "<style scoped>\n",
       "    .dataframe tbody tr th:only-of-type {\n",
       "        vertical-align: middle;\n",
       "    }\n",
       "\n",
       "    .dataframe tbody tr th {\n",
       "        vertical-align: top;\n",
       "    }\n",
       "\n",
       "    .dataframe thead th {\n",
       "        text-align: right;\n",
       "    }\n",
       "</style>\n",
       "<table border=\"1\" class=\"dataframe\">\n",
       "  <thead>\n",
       "    <tr style=\"text-align: right;\">\n",
       "      <th></th>\n",
       "      <th>Realized</th>\n",
       "      <th>Min</th>\n",
       "      <th>Lower 5%</th>\n",
       "      <th>Median</th>\n",
       "      <th>Upper 95%</th>\n",
       "      <th>Max</th>\n",
       "    </tr>\n",
       "  </thead>\n",
       "  <tbody>\n",
       "    <tr>\n",
       "      <th>3</th>\n",
       "      <td>0.067039</td>\n",
       "      <td>0.000017</td>\n",
       "      <td>0.025217</td>\n",
       "      <td>0.112034</td>\n",
       "      <td>0.359641</td>\n",
       "      <td>1.919683</td>\n",
       "    </tr>\n",
       "    <tr>\n",
       "      <th>10</th>\n",
       "      <td>0.090819</td>\n",
       "      <td>0.020061</td>\n",
       "      <td>0.056332</td>\n",
       "      <td>0.133296</td>\n",
       "      <td>0.336777</td>\n",
       "      <td>1.130633</td>\n",
       "    </tr>\n",
       "    <tr>\n",
       "      <th>30</th>\n",
       "      <td>0.133722</td>\n",
       "      <td>0.035119</td>\n",
       "      <td>0.068477</td>\n",
       "      <td>0.136745</td>\n",
       "      <td>0.319202</td>\n",
       "      <td>0.864873</td>\n",
       "    </tr>\n",
       "    <tr>\n",
       "      <th>60</th>\n",
       "      <td>0.120575</td>\n",
       "      <td>0.049786</td>\n",
       "      <td>0.073048</td>\n",
       "      <td>0.141217</td>\n",
       "      <td>0.321400</td>\n",
       "      <td>0.755842</td>\n",
       "    </tr>\n",
       "    <tr>\n",
       "      <th>90</th>\n",
       "      <td>0.114354</td>\n",
       "      <td>0.054997</td>\n",
       "      <td>0.075902</td>\n",
       "      <td>0.141659</td>\n",
       "      <td>0.310874</td>\n",
       "      <td>0.646355</td>\n",
       "    </tr>\n",
       "    <tr>\n",
       "      <th>120</th>\n",
       "      <td>0.108223</td>\n",
       "      <td>0.062658</td>\n",
       "      <td>0.082487</td>\n",
       "      <td>0.143009</td>\n",
       "      <td>0.317047</td>\n",
       "      <td>0.590355</td>\n",
       "    </tr>\n",
       "    <tr>\n",
       "      <th>150</th>\n",
       "      <td>0.100045</td>\n",
       "      <td>0.064545</td>\n",
       "      <td>0.086182</td>\n",
       "      <td>0.149569</td>\n",
       "      <td>0.308319</td>\n",
       "      <td>0.560031</td>\n",
       "    </tr>\n",
       "    <tr>\n",
       "      <th>180</th>\n",
       "      <td>0.096711</td>\n",
       "      <td>0.066184</td>\n",
       "      <td>0.085933</td>\n",
       "      <td>0.151656</td>\n",
       "      <td>0.346286</td>\n",
       "      <td>0.522603</td>\n",
       "    </tr>\n",
       "    <tr>\n",
       "      <th>210</th>\n",
       "      <td>0.094264</td>\n",
       "      <td>0.067329</td>\n",
       "      <td>0.088785</td>\n",
       "      <td>0.155516</td>\n",
       "      <td>0.348805</td>\n",
       "      <td>0.490692</td>\n",
       "    </tr>\n",
       "    <tr>\n",
       "      <th>240</th>\n",
       "      <td>0.091158</td>\n",
       "      <td>0.067541</td>\n",
       "      <td>0.091366</td>\n",
       "      <td>0.154274</td>\n",
       "      <td>0.335777</td>\n",
       "      <td>0.464773</td>\n",
       "    </tr>\n",
       "    <tr>\n",
       "      <th>300</th>\n",
       "      <td>0.096604</td>\n",
       "      <td>0.068461</td>\n",
       "      <td>0.093240</td>\n",
       "      <td>0.159008</td>\n",
       "      <td>0.312977</td>\n",
       "      <td>0.424524</td>\n",
       "    </tr>\n",
       "    <tr>\n",
       "      <th>360</th>\n",
       "      <td>0.097728</td>\n",
       "      <td>0.075655</td>\n",
       "      <td>0.095702</td>\n",
       "      <td>0.156737</td>\n",
       "      <td>0.303835</td>\n",
       "      <td>0.396574</td>\n",
       "    </tr>\n",
       "  </tbody>\n",
       "</table>\n",
       "</div>"
      ],
      "text/plain": [
       "     Realized       Min  Lower 5%    Median  Upper 95%       Max\n",
       "3    0.067039  0.000017  0.025217  0.112034   0.359641  1.919683\n",
       "10   0.090819  0.020061  0.056332  0.133296   0.336777  1.130633\n",
       "30   0.133722  0.035119  0.068477  0.136745   0.319202  0.864873\n",
       "60   0.120575  0.049786  0.073048  0.141217   0.321400  0.755842\n",
       "90   0.114354  0.054997  0.075902  0.141659   0.310874  0.646355\n",
       "120  0.108223  0.062658  0.082487  0.143009   0.317047  0.590355\n",
       "150  0.100045  0.064545  0.086182  0.149569   0.308319  0.560031\n",
       "180  0.096711  0.066184  0.085933  0.151656   0.346286  0.522603\n",
       "210  0.094264  0.067329  0.088785  0.155516   0.348805  0.490692\n",
       "240  0.091158  0.067541  0.091366  0.154274   0.335777  0.464773\n",
       "300  0.096604  0.068461  0.093240  0.159008   0.312977  0.424524\n",
       "360  0.097728  0.075655  0.095702  0.156737   0.303835  0.396574"
      ]
     },
     "execution_count": 72,
     "metadata": {},
     "output_type": "execute_result"
    }
   ],
   "source": [
    "openbb.ta.cones(df, lower_q = 0.05, upper_q = 0.95)"
   ]
  },
  {
   "attachments": {},
   "cell_type": "markdown",
   "metadata": {},
   "source": [
    "Sanity checks are in place to ensure that lower and upper are always labeled correctly."
   ]
  },
  {
   "cell_type": "code",
   "execution_count": 73,
   "metadata": {},
   "outputs": [
    {
     "data": {
      "text/html": [
       "<div>\n",
       "<style scoped>\n",
       "    .dataframe tbody tr th:only-of-type {\n",
       "        vertical-align: middle;\n",
       "    }\n",
       "\n",
       "    .dataframe tbody tr th {\n",
       "        vertical-align: top;\n",
       "    }\n",
       "\n",
       "    .dataframe thead th {\n",
       "        text-align: right;\n",
       "    }\n",
       "</style>\n",
       "<table border=\"1\" class=\"dataframe\">\n",
       "  <thead>\n",
       "    <tr style=\"text-align: right;\">\n",
       "      <th></th>\n",
       "      <th>Realized</th>\n",
       "      <th>Min</th>\n",
       "      <th>Lower 75%</th>\n",
       "      <th>Median</th>\n",
       "      <th>Upper 95%</th>\n",
       "      <th>Max</th>\n",
       "    </tr>\n",
       "  </thead>\n",
       "  <tbody>\n",
       "    <tr>\n",
       "      <th>3</th>\n",
       "      <td>0.067039</td>\n",
       "      <td>0.000017</td>\n",
       "      <td>0.186047</td>\n",
       "      <td>0.112034</td>\n",
       "      <td>0.359641</td>\n",
       "      <td>1.919683</td>\n",
       "    </tr>\n",
       "    <tr>\n",
       "      <th>10</th>\n",
       "      <td>0.090819</td>\n",
       "      <td>0.020061</td>\n",
       "      <td>0.193940</td>\n",
       "      <td>0.133296</td>\n",
       "      <td>0.336777</td>\n",
       "      <td>1.130633</td>\n",
       "    </tr>\n",
       "    <tr>\n",
       "      <th>30</th>\n",
       "      <td>0.133722</td>\n",
       "      <td>0.035119</td>\n",
       "      <td>0.199697</td>\n",
       "      <td>0.136745</td>\n",
       "      <td>0.319202</td>\n",
       "      <td>0.864873</td>\n",
       "    </tr>\n",
       "    <tr>\n",
       "      <th>60</th>\n",
       "      <td>0.120575</td>\n",
       "      <td>0.049786</td>\n",
       "      <td>0.200625</td>\n",
       "      <td>0.141217</td>\n",
       "      <td>0.321400</td>\n",
       "      <td>0.755842</td>\n",
       "    </tr>\n",
       "    <tr>\n",
       "      <th>90</th>\n",
       "      <td>0.114354</td>\n",
       "      <td>0.054997</td>\n",
       "      <td>0.202717</td>\n",
       "      <td>0.141659</td>\n",
       "      <td>0.310874</td>\n",
       "      <td>0.646355</td>\n",
       "    </tr>\n",
       "    <tr>\n",
       "      <th>120</th>\n",
       "      <td>0.108223</td>\n",
       "      <td>0.062658</td>\n",
       "      <td>0.206154</td>\n",
       "      <td>0.143009</td>\n",
       "      <td>0.317047</td>\n",
       "      <td>0.590355</td>\n",
       "    </tr>\n",
       "    <tr>\n",
       "      <th>150</th>\n",
       "      <td>0.100045</td>\n",
       "      <td>0.064545</td>\n",
       "      <td>0.205816</td>\n",
       "      <td>0.149569</td>\n",
       "      <td>0.308319</td>\n",
       "      <td>0.560031</td>\n",
       "    </tr>\n",
       "    <tr>\n",
       "      <th>180</th>\n",
       "      <td>0.096711</td>\n",
       "      <td>0.066184</td>\n",
       "      <td>0.207663</td>\n",
       "      <td>0.151656</td>\n",
       "      <td>0.346286</td>\n",
       "      <td>0.522603</td>\n",
       "    </tr>\n",
       "    <tr>\n",
       "      <th>210</th>\n",
       "      <td>0.094264</td>\n",
       "      <td>0.067329</td>\n",
       "      <td>0.211390</td>\n",
       "      <td>0.155516</td>\n",
       "      <td>0.348805</td>\n",
       "      <td>0.490692</td>\n",
       "    </tr>\n",
       "    <tr>\n",
       "      <th>240</th>\n",
       "      <td>0.091158</td>\n",
       "      <td>0.067541</td>\n",
       "      <td>0.217639</td>\n",
       "      <td>0.154274</td>\n",
       "      <td>0.335777</td>\n",
       "      <td>0.464773</td>\n",
       "    </tr>\n",
       "    <tr>\n",
       "      <th>300</th>\n",
       "      <td>0.096604</td>\n",
       "      <td>0.068461</td>\n",
       "      <td>0.216675</td>\n",
       "      <td>0.159008</td>\n",
       "      <td>0.312977</td>\n",
       "      <td>0.424524</td>\n",
       "    </tr>\n",
       "    <tr>\n",
       "      <th>360</th>\n",
       "      <td>0.097728</td>\n",
       "      <td>0.075655</td>\n",
       "      <td>0.216782</td>\n",
       "      <td>0.156737</td>\n",
       "      <td>0.303835</td>\n",
       "      <td>0.396574</td>\n",
       "    </tr>\n",
       "  </tbody>\n",
       "</table>\n",
       "</div>"
      ],
      "text/plain": [
       "     Realized       Min  Lower 75%    Median  Upper 95%       Max\n",
       "3    0.067039  0.000017   0.186047  0.112034   0.359641  1.919683\n",
       "10   0.090819  0.020061   0.193940  0.133296   0.336777  1.130633\n",
       "30   0.133722  0.035119   0.199697  0.136745   0.319202  0.864873\n",
       "60   0.120575  0.049786   0.200625  0.141217   0.321400  0.755842\n",
       "90   0.114354  0.054997   0.202717  0.141659   0.310874  0.646355\n",
       "120  0.108223  0.062658   0.206154  0.143009   0.317047  0.590355\n",
       "150  0.100045  0.064545   0.205816  0.149569   0.308319  0.560031\n",
       "180  0.096711  0.066184   0.207663  0.151656   0.346286  0.522603\n",
       "210  0.094264  0.067329   0.211390  0.155516   0.348805  0.490692\n",
       "240  0.091158  0.067541   0.217639  0.154274   0.335777  0.464773\n",
       "300  0.096604  0.068461   0.216675  0.159008   0.312977  0.424524\n",
       "360  0.097728  0.075655   0.216782  0.156737   0.303835  0.396574"
      ]
     },
     "execution_count": 73,
     "metadata": {},
     "output_type": "execute_result"
    }
   ],
   "source": [
    "openbb.ta.cones(df, lower_q = 0.95)"
   ]
  },
  {
   "attachments": {},
   "cell_type": "markdown",
   "metadata": {},
   "source": [
    "Use the `model` argument to select one of the other models."
   ]
  },
  {
   "cell_type": "code",
   "execution_count": 74,
   "metadata": {},
   "outputs": [
    {
     "data": {
      "text/html": [
       "<div>\n",
       "<style scoped>\n",
       "    .dataframe tbody tr th:only-of-type {\n",
       "        vertical-align: middle;\n",
       "    }\n",
       "\n",
       "    .dataframe tbody tr th {\n",
       "        vertical-align: top;\n",
       "    }\n",
       "\n",
       "    .dataframe thead th {\n",
       "        text-align: right;\n",
       "    }\n",
       "</style>\n",
       "<table border=\"1\" class=\"dataframe\">\n",
       "  <thead>\n",
       "    <tr style=\"text-align: right;\">\n",
       "      <th></th>\n",
       "      <th>Realized</th>\n",
       "      <th>Min</th>\n",
       "      <th>Lower 25%</th>\n",
       "      <th>Median</th>\n",
       "      <th>Upper 75%</th>\n",
       "      <th>Max</th>\n",
       "    </tr>\n",
       "  </thead>\n",
       "  <tbody>\n",
       "    <tr>\n",
       "      <th>3</th>\n",
       "      <td>0.206474</td>\n",
       "      <td>0.036251</td>\n",
       "      <td>0.157266</td>\n",
       "      <td>0.234954</td>\n",
       "      <td>0.357560</td>\n",
       "      <td>2.901303</td>\n",
       "    </tr>\n",
       "    <tr>\n",
       "      <th>10</th>\n",
       "      <td>0.156358</td>\n",
       "      <td>0.041593</td>\n",
       "      <td>0.151349</td>\n",
       "      <td>0.217879</td>\n",
       "      <td>0.315162</td>\n",
       "      <td>1.852407</td>\n",
       "    </tr>\n",
       "    <tr>\n",
       "      <th>30</th>\n",
       "      <td>0.209220</td>\n",
       "      <td>0.069354</td>\n",
       "      <td>0.159105</td>\n",
       "      <td>0.215975</td>\n",
       "      <td>0.311320</td>\n",
       "      <td>1.317697</td>\n",
       "    </tr>\n",
       "    <tr>\n",
       "      <th>60</th>\n",
       "      <td>0.181870</td>\n",
       "      <td>0.080217</td>\n",
       "      <td>0.166006</td>\n",
       "      <td>0.220254</td>\n",
       "      <td>0.313193</td>\n",
       "      <td>1.135740</td>\n",
       "    </tr>\n",
       "    <tr>\n",
       "      <th>90</th>\n",
       "      <td>0.172319</td>\n",
       "      <td>0.091529</td>\n",
       "      <td>0.170029</td>\n",
       "      <td>0.220638</td>\n",
       "      <td>0.317362</td>\n",
       "      <td>0.976417</td>\n",
       "    </tr>\n",
       "    <tr>\n",
       "      <th>120</th>\n",
       "      <td>0.161437</td>\n",
       "      <td>0.096184</td>\n",
       "      <td>0.170757</td>\n",
       "      <td>0.222521</td>\n",
       "      <td>0.326031</td>\n",
       "      <td>0.906004</td>\n",
       "    </tr>\n",
       "    <tr>\n",
       "      <th>150</th>\n",
       "      <td>0.150722</td>\n",
       "      <td>0.098014</td>\n",
       "      <td>0.174171</td>\n",
       "      <td>0.230173</td>\n",
       "      <td>0.329608</td>\n",
       "      <td>0.847694</td>\n",
       "    </tr>\n",
       "    <tr>\n",
       "      <th>180</th>\n",
       "      <td>0.148022</td>\n",
       "      <td>0.101195</td>\n",
       "      <td>0.174735</td>\n",
       "      <td>0.232416</td>\n",
       "      <td>0.329971</td>\n",
       "      <td>0.789501</td>\n",
       "    </tr>\n",
       "    <tr>\n",
       "      <th>210</th>\n",
       "      <td>0.145173</td>\n",
       "      <td>0.103581</td>\n",
       "      <td>0.176755</td>\n",
       "      <td>0.241554</td>\n",
       "      <td>0.332302</td>\n",
       "      <td>0.741163</td>\n",
       "    </tr>\n",
       "    <tr>\n",
       "      <th>240</th>\n",
       "      <td>0.140835</td>\n",
       "      <td>0.103184</td>\n",
       "      <td>0.178179</td>\n",
       "      <td>0.240763</td>\n",
       "      <td>0.338378</td>\n",
       "      <td>0.702874</td>\n",
       "    </tr>\n",
       "    <tr>\n",
       "      <th>300</th>\n",
       "      <td>0.151419</td>\n",
       "      <td>0.106764</td>\n",
       "      <td>0.178361</td>\n",
       "      <td>0.241210</td>\n",
       "      <td>0.339872</td>\n",
       "      <td>0.643042</td>\n",
       "    </tr>\n",
       "    <tr>\n",
       "      <th>360</th>\n",
       "      <td>0.151974</td>\n",
       "      <td>0.116075</td>\n",
       "      <td>0.178530</td>\n",
       "      <td>0.246161</td>\n",
       "      <td>0.344344</td>\n",
       "      <td>0.605023</td>\n",
       "    </tr>\n",
       "  </tbody>\n",
       "</table>\n",
       "</div>"
      ],
      "text/plain": [
       "     Realized       Min  Lower 25%    Median  Upper 75%       Max\n",
       "3    0.206474  0.036251   0.157266  0.234954   0.357560  2.901303\n",
       "10   0.156358  0.041593   0.151349  0.217879   0.315162  1.852407\n",
       "30   0.209220  0.069354   0.159105  0.215975   0.311320  1.317697\n",
       "60   0.181870  0.080217   0.166006  0.220254   0.313193  1.135740\n",
       "90   0.172319  0.091529   0.170029  0.220638   0.317362  0.976417\n",
       "120  0.161437  0.096184   0.170757  0.222521   0.326031  0.906004\n",
       "150  0.150722  0.098014   0.174171  0.230173   0.329608  0.847694\n",
       "180  0.148022  0.101195   0.174735  0.232416   0.329971  0.789501\n",
       "210  0.145173  0.103581   0.176755  0.241554   0.332302  0.741163\n",
       "240  0.140835  0.103184   0.178179  0.240763   0.338378  0.702874\n",
       "300  0.151419  0.106764   0.178361  0.241210   0.339872  0.643042\n",
       "360  0.151974  0.116075   0.178530  0.246161   0.344344  0.605023"
      ]
     },
     "execution_count": 74,
     "metadata": {},
     "output_type": "execute_result"
    }
   ],
   "source": [
    "openbb.ta.cones(df, model = 'Yang-Zhang')"
   ]
  },
  {
   "cell_type": "code",
   "execution_count": 75,
   "metadata": {},
   "outputs": [
    {
     "data": {
      "text/html": [
       "<div>\n",
       "<style scoped>\n",
       "    .dataframe tbody tr th:only-of-type {\n",
       "        vertical-align: middle;\n",
       "    }\n",
       "\n",
       "    .dataframe tbody tr th {\n",
       "        vertical-align: top;\n",
       "    }\n",
       "\n",
       "    .dataframe thead th {\n",
       "        text-align: right;\n",
       "    }\n",
       "</style>\n",
       "<table border=\"1\" class=\"dataframe\">\n",
       "  <thead>\n",
       "    <tr style=\"text-align: right;\">\n",
       "      <th></th>\n",
       "      <th>Realized</th>\n",
       "      <th>Min</th>\n",
       "      <th>Lower 25%</th>\n",
       "      <th>Median</th>\n",
       "      <th>Upper 75%</th>\n",
       "      <th>Max</th>\n",
       "    </tr>\n",
       "  </thead>\n",
       "  <tbody>\n",
       "    <tr>\n",
       "      <th>3</th>\n",
       "      <td>0.053685</td>\n",
       "      <td>0.015730</td>\n",
       "      <td>0.075322</td>\n",
       "      <td>0.108376</td>\n",
       "      <td>0.158615</td>\n",
       "      <td>1.103625</td>\n",
       "    </tr>\n",
       "    <tr>\n",
       "      <th>10</th>\n",
       "      <td>0.085904</td>\n",
       "      <td>0.031829</td>\n",
       "      <td>0.081169</td>\n",
       "      <td>0.114898</td>\n",
       "      <td>0.162183</td>\n",
       "      <td>0.903857</td>\n",
       "    </tr>\n",
       "    <tr>\n",
       "      <th>30</th>\n",
       "      <td>0.091722</td>\n",
       "      <td>0.037450</td>\n",
       "      <td>0.085686</td>\n",
       "      <td>0.118897</td>\n",
       "      <td>0.166663</td>\n",
       "      <td>0.738473</td>\n",
       "    </tr>\n",
       "    <tr>\n",
       "      <th>60</th>\n",
       "      <td>0.085163</td>\n",
       "      <td>0.047437</td>\n",
       "      <td>0.089457</td>\n",
       "      <td>0.123129</td>\n",
       "      <td>0.170202</td>\n",
       "      <td>0.628890</td>\n",
       "    </tr>\n",
       "    <tr>\n",
       "      <th>90</th>\n",
       "      <td>0.082095</td>\n",
       "      <td>0.051270</td>\n",
       "      <td>0.093153</td>\n",
       "      <td>0.127249</td>\n",
       "      <td>0.173387</td>\n",
       "      <td>0.560099</td>\n",
       "    </tr>\n",
       "    <tr>\n",
       "      <th>120</th>\n",
       "      <td>0.076862</td>\n",
       "      <td>0.053294</td>\n",
       "      <td>0.093904</td>\n",
       "      <td>0.129005</td>\n",
       "      <td>0.177764</td>\n",
       "      <td>0.523743</td>\n",
       "    </tr>\n",
       "    <tr>\n",
       "      <th>150</th>\n",
       "      <td>0.072831</td>\n",
       "      <td>0.053766</td>\n",
       "      <td>0.095072</td>\n",
       "      <td>0.130974</td>\n",
       "      <td>0.179780</td>\n",
       "      <td>0.487082</td>\n",
       "    </tr>\n",
       "    <tr>\n",
       "      <th>180</th>\n",
       "      <td>0.072897</td>\n",
       "      <td>0.056494</td>\n",
       "      <td>0.095299</td>\n",
       "      <td>0.130210</td>\n",
       "      <td>0.181662</td>\n",
       "      <td>0.453949</td>\n",
       "    </tr>\n",
       "    <tr>\n",
       "      <th>210</th>\n",
       "      <td>0.072318</td>\n",
       "      <td>0.057753</td>\n",
       "      <td>0.096131</td>\n",
       "      <td>0.131152</td>\n",
       "      <td>0.180866</td>\n",
       "      <td>0.426170</td>\n",
       "    </tr>\n",
       "    <tr>\n",
       "      <th>240</th>\n",
       "      <td>0.069716</td>\n",
       "      <td>0.058269</td>\n",
       "      <td>0.097452</td>\n",
       "      <td>0.132680</td>\n",
       "      <td>0.184866</td>\n",
       "      <td>0.403736</td>\n",
       "    </tr>\n",
       "    <tr>\n",
       "      <th>300</th>\n",
       "      <td>0.073537</td>\n",
       "      <td>0.059851</td>\n",
       "      <td>0.097204</td>\n",
       "      <td>0.134771</td>\n",
       "      <td>0.184545</td>\n",
       "      <td>0.368703</td>\n",
       "    </tr>\n",
       "    <tr>\n",
       "      <th>360</th>\n",
       "      <td>0.076664</td>\n",
       "      <td>0.063863</td>\n",
       "      <td>0.098006</td>\n",
       "      <td>0.136898</td>\n",
       "      <td>0.190196</td>\n",
       "      <td>0.345486</td>\n",
       "    </tr>\n",
       "  </tbody>\n",
       "</table>\n",
       "</div>"
      ],
      "text/plain": [
       "     Realized       Min  Lower 25%    Median  Upper 75%       Max\n",
       "3    0.053685  0.015730   0.075322  0.108376   0.158615  1.103625\n",
       "10   0.085904  0.031829   0.081169  0.114898   0.162183  0.903857\n",
       "30   0.091722  0.037450   0.085686  0.118897   0.166663  0.738473\n",
       "60   0.085163  0.047437   0.089457  0.123129   0.170202  0.628890\n",
       "90   0.082095  0.051270   0.093153  0.127249   0.173387  0.560099\n",
       "120  0.076862  0.053294   0.093904  0.129005   0.177764  0.523743\n",
       "150  0.072831  0.053766   0.095072  0.130974   0.179780  0.487082\n",
       "180  0.072897  0.056494   0.095299  0.130210   0.181662  0.453949\n",
       "210  0.072318  0.057753   0.096131  0.131152   0.180866  0.426170\n",
       "240  0.069716  0.058269   0.097452  0.132680   0.184866  0.403736\n",
       "300  0.073537  0.059851   0.097204  0.134771   0.184545  0.368703\n",
       "360  0.076664  0.063863   0.098006  0.136898   0.190196  0.345486"
      ]
     },
     "execution_count": 75,
     "metadata": {},
     "output_type": "execute_result"
    }
   ],
   "source": [
    "openbb.ta.cones(df, model = 'Rogers-Satchell')"
   ]
  },
  {
   "cell_type": "code",
   "execution_count": 76,
   "metadata": {},
   "outputs": [
    {
     "data": {
      "text/html": [
       "<div>\n",
       "<style scoped>\n",
       "    .dataframe tbody tr th:only-of-type {\n",
       "        vertical-align: middle;\n",
       "    }\n",
       "\n",
       "    .dataframe tbody tr th {\n",
       "        vertical-align: top;\n",
       "    }\n",
       "\n",
       "    .dataframe thead th {\n",
       "        text-align: right;\n",
       "    }\n",
       "</style>\n",
       "<table border=\"1\" class=\"dataframe\">\n",
       "  <thead>\n",
       "    <tr style=\"text-align: right;\">\n",
       "      <th></th>\n",
       "      <th>Realized</th>\n",
       "      <th>Min</th>\n",
       "      <th>Lower 25%</th>\n",
       "      <th>Median</th>\n",
       "      <th>Upper 75%</th>\n",
       "      <th>Max</th>\n",
       "    </tr>\n",
       "  </thead>\n",
       "  <tbody>\n",
       "    <tr>\n",
       "      <th>3</th>\n",
       "      <td>0.049987</td>\n",
       "      <td>0.020195</td>\n",
       "      <td>0.076025</td>\n",
       "      <td>0.109588</td>\n",
       "      <td>0.158962</td>\n",
       "      <td>1.088747</td>\n",
       "    </tr>\n",
       "    <tr>\n",
       "      <th>10</th>\n",
       "      <td>0.077443</td>\n",
       "      <td>0.032200</td>\n",
       "      <td>0.081046</td>\n",
       "      <td>0.114242</td>\n",
       "      <td>0.162938</td>\n",
       "      <td>0.866488</td>\n",
       "    </tr>\n",
       "    <tr>\n",
       "      <th>30</th>\n",
       "      <td>0.090442</td>\n",
       "      <td>0.036694</td>\n",
       "      <td>0.085748</td>\n",
       "      <td>0.117400</td>\n",
       "      <td>0.166318</td>\n",
       "      <td>0.711636</td>\n",
       "    </tr>\n",
       "    <tr>\n",
       "      <th>60</th>\n",
       "      <td>0.083531</td>\n",
       "      <td>0.045660</td>\n",
       "      <td>0.089171</td>\n",
       "      <td>0.122055</td>\n",
       "      <td>0.170629</td>\n",
       "      <td>0.616402</td>\n",
       "    </tr>\n",
       "    <tr>\n",
       "      <th>90</th>\n",
       "      <td>0.080789</td>\n",
       "      <td>0.049871</td>\n",
       "      <td>0.092190</td>\n",
       "      <td>0.124921</td>\n",
       "      <td>0.174570</td>\n",
       "      <td>0.542882</td>\n",
       "    </tr>\n",
       "    <tr>\n",
       "      <th>120</th>\n",
       "      <td>0.075991</td>\n",
       "      <td>0.052002</td>\n",
       "      <td>0.093179</td>\n",
       "      <td>0.127119</td>\n",
       "      <td>0.178403</td>\n",
       "      <td>0.508204</td>\n",
       "    </tr>\n",
       "    <tr>\n",
       "      <th>150</th>\n",
       "      <td>0.072065</td>\n",
       "      <td>0.052709</td>\n",
       "      <td>0.094585</td>\n",
       "      <td>0.129181</td>\n",
       "      <td>0.179918</td>\n",
       "      <td>0.474018</td>\n",
       "    </tr>\n",
       "    <tr>\n",
       "      <th>180</th>\n",
       "      <td>0.071635</td>\n",
       "      <td>0.054395</td>\n",
       "      <td>0.094829</td>\n",
       "      <td>0.128652</td>\n",
       "      <td>0.178974</td>\n",
       "      <td>0.441896</td>\n",
       "    </tr>\n",
       "    <tr>\n",
       "      <th>210</th>\n",
       "      <td>0.071099</td>\n",
       "      <td>0.056442</td>\n",
       "      <td>0.095776</td>\n",
       "      <td>0.131197</td>\n",
       "      <td>0.181160</td>\n",
       "      <td>0.415168</td>\n",
       "    </tr>\n",
       "    <tr>\n",
       "      <th>240</th>\n",
       "      <td>0.068787</td>\n",
       "      <td>0.056761</td>\n",
       "      <td>0.096860</td>\n",
       "      <td>0.132072</td>\n",
       "      <td>0.181550</td>\n",
       "      <td>0.394028</td>\n",
       "    </tr>\n",
       "    <tr>\n",
       "      <th>300</th>\n",
       "      <td>0.072504</td>\n",
       "      <td>0.058295</td>\n",
       "      <td>0.097638</td>\n",
       "      <td>0.133456</td>\n",
       "      <td>0.183433</td>\n",
       "      <td>0.359853</td>\n",
       "    </tr>\n",
       "    <tr>\n",
       "      <th>360</th>\n",
       "      <td>0.075775</td>\n",
       "      <td>0.063257</td>\n",
       "      <td>0.097612</td>\n",
       "      <td>0.136072</td>\n",
       "      <td>0.190460</td>\n",
       "      <td>0.338567</td>\n",
       "    </tr>\n",
       "  </tbody>\n",
       "</table>\n",
       "</div>"
      ],
      "text/plain": [
       "     Realized       Min  Lower 25%    Median  Upper 75%       Max\n",
       "3    0.049987  0.020195   0.076025  0.109588   0.158962  1.088747\n",
       "10   0.077443  0.032200   0.081046  0.114242   0.162938  0.866488\n",
       "30   0.090442  0.036694   0.085748  0.117400   0.166318  0.711636\n",
       "60   0.083531  0.045660   0.089171  0.122055   0.170629  0.616402\n",
       "90   0.080789  0.049871   0.092190  0.124921   0.174570  0.542882\n",
       "120  0.075991  0.052002   0.093179  0.127119   0.178403  0.508204\n",
       "150  0.072065  0.052709   0.094585  0.129181   0.179918  0.474018\n",
       "180  0.071635  0.054395   0.094829  0.128652   0.178974  0.441896\n",
       "210  0.071099  0.056442   0.095776  0.131197   0.181160  0.415168\n",
       "240  0.068787  0.056761   0.096860  0.132072   0.181550  0.394028\n",
       "300  0.072504  0.058295   0.097638  0.133456   0.183433  0.359853\n",
       "360  0.075775  0.063257   0.097612  0.136072   0.190460  0.338567"
      ]
     },
     "execution_count": 76,
     "metadata": {},
     "output_type": "execute_result"
    }
   ],
   "source": [
    "openbb.ta.cones(df, model = 'Garman-Klass')"
   ]
  },
  {
   "attachments": {},
   "cell_type": "markdown",
   "metadata": {},
   "source": [
    "### Chart the Realized Volatility Cones\n",
    "\n",
    "Apply the same syntax to, `openbb.ta.cones_chart()`, to visualize the output."
   ]
  },
  {
   "cell_type": "code",
   "execution_count": 77,
   "metadata": {},
   "outputs": [
    {
     "data": {
      "application/vnd.plotly.v1+json": {
       "config": {
        "displaylogo": false,
        "plotlyServerURL": "https://plot.ly",
        "scrollZoom": true
       },
       "data": [
        {
         "name": "Min",
         "type": "scatter",
         "x": [
          3,
          10,
          30,
          60,
          90,
          120,
          150,
          180,
          210,
          240,
          300,
          360
         ],
         "y": [
          0.0000170237306502924,
          0.020060775583269685,
          0.03511939050829527,
          0.04978555855414685,
          0.054997176329515875,
          0.06265776924075965,
          0.06454456719471557,
          0.06618416711644334,
          0.06732944013683262,
          0.0675414561655133,
          0.06846076113379061,
          0.0756554359203401
         ]
        },
        {
         "name": "Max",
         "type": "scatter",
         "x": [
          3,
          10,
          30,
          60,
          90,
          120,
          150,
          180,
          210,
          240,
          300,
          360
         ],
         "y": [
          1.9196834771131246,
          1.1306330850411113,
          0.8648731331949071,
          0.7558422344922591,
          0.6463552118719701,
          0.5903550786090506,
          0.5600308113258523,
          0.5226025115147972,
          0.4906921615691119,
          0.4647731951552365,
          0.4245243622413195,
          0.3965743278950008
         ]
        },
        {
         "name": "Median",
         "type": "scatter",
         "x": [
          3,
          10,
          30,
          60,
          90,
          120,
          150,
          180,
          210,
          240,
          300,
          360
         ],
         "y": [
          0.11203368591743788,
          0.1332959195350738,
          0.1367453793312925,
          0.1412173927204607,
          0.14165913408774405,
          0.14300946981856588,
          0.14956935968322627,
          0.15165556874358127,
          0.15551636956619252,
          0.15427438990488823,
          0.15900821159921474,
          0.15673720876998018
         ]
        },
        {
         "name": "Upper 75%",
         "type": "scatter",
         "x": [
          3,
          10,
          30,
          60,
          90,
          120,
          150,
          180,
          210,
          240,
          300,
          360
         ],
         "y": [
          0.1860470610272563,
          0.1939396934103344,
          0.19969657039545144,
          0.20062450402991458,
          0.20271703047837486,
          0.2061543291718227,
          0.2058163032607247,
          0.2076625304651101,
          0.21138998300160514,
          0.21763927023423701,
          0.21667481984511144,
          0.21678238424820392
         ]
        },
        {
         "name": "Lower 25%",
         "type": "scatter",
         "x": [
          3,
          10,
          30,
          60,
          90,
          120,
          150,
          180,
          210,
          240,
          300,
          360
         ],
         "y": [
          0.0643299047406078,
          0.08864312595851681,
          0.10079482905574894,
          0.10739606085627006,
          0.11006819397164615,
          0.11061321508688829,
          0.11177386686422555,
          0.11143440258690165,
          0.11279856392897936,
          0.11328034074051671,
          0.11458789324393438,
          0.11387842592307396
         ]
        },
        {
         "name": "Realized",
         "type": "scatter",
         "x": [
          3,
          10,
          30,
          60,
          90,
          120,
          150,
          180,
          210,
          240,
          300,
          360
         ],
         "y": [
          0.06703920915301298,
          0.09081919632811793,
          0.13372218745300193,
          0.12057526365720375,
          0.11435409547181162,
          0.10822257630897751,
          0.10004483162210154,
          0.09671069933441766,
          0.0942643161406602,
          0.09115838467599148,
          0.0966043545994513,
          0.09772836401612649
         ]
        }
       ],
       "layout": {
        "bargap": 0,
        "bargroupgap": 0,
        "barmode": "overlay",
        "legend": {
         "groupclick": "toggleitem",
         "orientation": "v",
         "tracegroupgap": 133.33333333333334,
         "x": 1,
         "xanchor": "right",
         "y": 1,
         "yanchor": "top"
        },
        "margin": {
         "b": 80,
         "l": 40,
         "r": 50,
         "t": 40
        },
        "modebar": {
         "activecolor": "#d1030d",
         "bgcolor": "#2A2A2A",
         "color": "#FFFFFF",
         "orientation": "v"
        },
        "newshape": {
         "line": {
          "color": "gold"
         }
        },
        "template": {
         "data": {
          "bar": [
           {
            "error_x": {
             "color": "#f2f5fa"
            },
            "error_y": {
             "color": "#f2f5fa"
            },
            "marker": {
             "line": {
              "color": "rgb(17,17,17)",
              "width": 0.5
             },
             "pattern": {
              "fillmode": "overlay",
              "size": 10,
              "solidity": 0.2
             }
            },
            "type": "bar"
           }
          ],
          "barpolar": [
           {
            "marker": {
             "line": {
              "color": "rgb(17,17,17)",
              "width": 0.5
             },
             "pattern": {
              "fillmode": "overlay",
              "size": 10,
              "solidity": 0.2
             }
            },
            "type": "barpolar"
           }
          ],
          "candlestick": [
           {
            "decreasing": {
             "fillcolor": "#e4003a",
             "line": {
              "color": "#e4003a"
             }
            },
            "increasing": {
             "fillcolor": "#00ACFF",
             "line": {
              "color": "#00ACFF"
             }
            },
            "type": "candlestick"
           }
          ],
          "carpet": [
           {
            "aaxis": {
             "endlinecolor": "#A2B1C6",
             "gridcolor": "#506784",
             "linecolor": "#506784",
             "minorgridcolor": "#506784",
             "startlinecolor": "#A2B1C6"
            },
            "baxis": {
             "endlinecolor": "#A2B1C6",
             "gridcolor": "#506784",
             "linecolor": "#506784",
             "minorgridcolor": "#506784",
             "startlinecolor": "#A2B1C6"
            },
            "type": "carpet"
           }
          ],
          "choropleth": [
           {
            "colorbar": {
             "outlinewidth": 0,
             "ticks": ""
            },
            "type": "choropleth"
           }
          ],
          "contour": [
           {
            "colorbar": {
             "outlinewidth": 0,
             "ticks": ""
            },
            "colorscale": [
             [
              0,
              "#0d0887"
             ],
             [
              0.1111111111111111,
              "#46039f"
             ],
             [
              0.2222222222222222,
              "#7201a8"
             ],
             [
              0.3333333333333333,
              "#9c179e"
             ],
             [
              0.4444444444444444,
              "#bd3786"
             ],
             [
              0.5555555555555556,
              "#d8576b"
             ],
             [
              0.6666666666666666,
              "#ed7953"
             ],
             [
              0.7777777777777778,
              "#fb9f3a"
             ],
             [
              0.8888888888888888,
              "#fdca26"
             ],
             [
              1,
              "#f0f921"
             ]
            ],
            "type": "contour"
           }
          ],
          "contourcarpet": [
           {
            "colorbar": {
             "outlinewidth": 0,
             "ticks": ""
            },
            "type": "contourcarpet"
           }
          ],
          "heatmap": [
           {
            "colorbar": {
             "outlinewidth": 0,
             "ticks": ""
            },
            "colorscale": [
             [
              0,
              "#0d0887"
             ],
             [
              0.1111111111111111,
              "#46039f"
             ],
             [
              0.2222222222222222,
              "#7201a8"
             ],
             [
              0.3333333333333333,
              "#9c179e"
             ],
             [
              0.4444444444444444,
              "#bd3786"
             ],
             [
              0.5555555555555556,
              "#d8576b"
             ],
             [
              0.6666666666666666,
              "#ed7953"
             ],
             [
              0.7777777777777778,
              "#fb9f3a"
             ],
             [
              0.8888888888888888,
              "#fdca26"
             ],
             [
              1,
              "#f0f921"
             ]
            ],
            "type": "heatmap"
           }
          ],
          "heatmapgl": [
           {
            "colorbar": {
             "outlinewidth": 0,
             "ticks": ""
            },
            "colorscale": [
             [
              0,
              "#0d0887"
             ],
             [
              0.1111111111111111,
              "#46039f"
             ],
             [
              0.2222222222222222,
              "#7201a8"
             ],
             [
              0.3333333333333333,
              "#9c179e"
             ],
             [
              0.4444444444444444,
              "#bd3786"
             ],
             [
              0.5555555555555556,
              "#d8576b"
             ],
             [
              0.6666666666666666,
              "#ed7953"
             ],
             [
              0.7777777777777778,
              "#fb9f3a"
             ],
             [
              0.8888888888888888,
              "#fdca26"
             ],
             [
              1,
              "#f0f921"
             ]
            ],
            "type": "heatmapgl"
           }
          ],
          "histogram": [
           {
            "marker": {
             "pattern": {
              "fillmode": "overlay",
              "size": 10,
              "solidity": 0.2
             }
            },
            "type": "histogram"
           }
          ],
          "histogram2d": [
           {
            "colorbar": {
             "outlinewidth": 0,
             "ticks": ""
            },
            "colorscale": [
             [
              0,
              "#0d0887"
             ],
             [
              0.1111111111111111,
              "#46039f"
             ],
             [
              0.2222222222222222,
              "#7201a8"
             ],
             [
              0.3333333333333333,
              "#9c179e"
             ],
             [
              0.4444444444444444,
              "#bd3786"
             ],
             [
              0.5555555555555556,
              "#d8576b"
             ],
             [
              0.6666666666666666,
              "#ed7953"
             ],
             [
              0.7777777777777778,
              "#fb9f3a"
             ],
             [
              0.8888888888888888,
              "#fdca26"
             ],
             [
              1,
              "#f0f921"
             ]
            ],
            "type": "histogram2d"
           }
          ],
          "histogram2dcontour": [
           {
            "colorbar": {
             "outlinewidth": 0,
             "ticks": ""
            },
            "colorscale": [
             [
              0,
              "#0d0887"
             ],
             [
              0.1111111111111111,
              "#46039f"
             ],
             [
              0.2222222222222222,
              "#7201a8"
             ],
             [
              0.3333333333333333,
              "#9c179e"
             ],
             [
              0.4444444444444444,
              "#bd3786"
             ],
             [
              0.5555555555555556,
              "#d8576b"
             ],
             [
              0.6666666666666666,
              "#ed7953"
             ],
             [
              0.7777777777777778,
              "#fb9f3a"
             ],
             [
              0.8888888888888888,
              "#fdca26"
             ],
             [
              1,
              "#f0f921"
             ]
            ],
            "type": "histogram2dcontour"
           }
          ],
          "mesh3d": [
           {
            "colorbar": {
             "outlinewidth": 0,
             "ticks": ""
            },
            "type": "mesh3d"
           }
          ],
          "parcoords": [
           {
            "line": {
             "colorbar": {
              "outlinewidth": 0,
              "ticks": ""
             }
            },
            "type": "parcoords"
           }
          ],
          "pie": [
           {
            "automargin": true,
            "type": "pie"
           }
          ],
          "scatter": [
           {
            "marker": {
             "line": {
              "color": "#283442"
             }
            },
            "type": "scatter"
           }
          ],
          "scatter3d": [
           {
            "line": {
             "colorbar": {
              "outlinewidth": 0,
              "ticks": ""
             }
            },
            "marker": {
             "colorbar": {
              "outlinewidth": 0,
              "ticks": ""
             }
            },
            "type": "scatter3d"
           }
          ],
          "scattercarpet": [
           {
            "marker": {
             "colorbar": {
              "outlinewidth": 0,
              "ticks": ""
             }
            },
            "type": "scattercarpet"
           }
          ],
          "scattergeo": [
           {
            "marker": {
             "colorbar": {
              "outlinewidth": 0,
              "ticks": ""
             }
            },
            "type": "scattergeo"
           }
          ],
          "scattergl": [
           {
            "marker": {
             "line": {
              "color": "#283442"
             }
            },
            "type": "scattergl"
           }
          ],
          "scattermapbox": [
           {
            "marker": {
             "colorbar": {
              "outlinewidth": 0,
              "ticks": ""
             }
            },
            "type": "scattermapbox"
           }
          ],
          "scatterpolar": [
           {
            "marker": {
             "colorbar": {
              "outlinewidth": 0,
              "ticks": ""
             }
            },
            "type": "scatterpolar"
           }
          ],
          "scatterpolargl": [
           {
            "marker": {
             "colorbar": {
              "outlinewidth": 0,
              "ticks": ""
             }
            },
            "type": "scatterpolargl"
           }
          ],
          "scatterternary": [
           {
            "marker": {
             "colorbar": {
              "outlinewidth": 0,
              "ticks": ""
             }
            },
            "type": "scatterternary"
           }
          ],
          "surface": [
           {
            "colorbar": {
             "outlinewidth": 0,
             "ticks": ""
            },
            "colorscale": [
             [
              0,
              "#0d0887"
             ],
             [
              0.1111111111111111,
              "#46039f"
             ],
             [
              0.2222222222222222,
              "#7201a8"
             ],
             [
              0.3333333333333333,
              "#9c179e"
             ],
             [
              0.4444444444444444,
              "#bd3786"
             ],
             [
              0.5555555555555556,
              "#d8576b"
             ],
             [
              0.6666666666666666,
              "#ed7953"
             ],
             [
              0.7777777777777778,
              "#fb9f3a"
             ],
             [
              0.8888888888888888,
              "#fdca26"
             ],
             [
              1,
              "#f0f921"
             ]
            ],
            "type": "surface"
           }
          ],
          "table": [
           {
            "cells": {
             "fill": {
              "color": "#506784"
             },
             "line": {
              "color": "rgb(17,17,17)"
             }
            },
            "header": {
             "fill": {
              "color": "#2a3f5f"
             },
             "line": {
              "color": "rgb(17,17,17)"
             }
            },
            "type": "table"
           }
          ]
         },
         "layout": {
          "annotationdefaults": {
           "arrowcolor": "#f2f5fa",
           "arrowhead": 0,
           "arrowwidth": 1,
           "showarrow": false
          },
          "autotypenumbers": "strict",
          "coloraxis": {
           "colorbar": {
            "outlinewidth": 0,
            "ticks": ""
           }
          },
          "colorscale": {
           "diverging": [
            [
             0,
             "#8e0152"
            ],
            [
             0.1,
             "#c51b7d"
            ],
            [
             0.2,
             "#de77ae"
            ],
            [
             0.3,
             "#f1b6da"
            ],
            [
             0.4,
             "#fde0ef"
            ],
            [
             0.5,
             "#f7f7f7"
            ],
            [
             0.6,
             "#e6f5d0"
            ],
            [
             0.7,
             "#b8e186"
            ],
            [
             0.8,
             "#7fbc41"
            ],
            [
             0.9,
             "#4d9221"
            ],
            [
             1,
             "#276419"
            ]
           ],
           "sequential": [
            [
             0,
             "#0d0887"
            ],
            [
             0.1111111111111111,
             "#46039f"
            ],
            [
             0.2222222222222222,
             "#7201a8"
            ],
            [
             0.3333333333333333,
             "#9c179e"
            ],
            [
             0.4444444444444444,
             "#bd3786"
            ],
            [
             0.5555555555555556,
             "#d8576b"
            ],
            [
             0.6666666666666666,
             "#ed7953"
            ],
            [
             0.7777777777777778,
             "#fb9f3a"
            ],
            [
             0.8888888888888888,
             "#fdca26"
            ],
            [
             1,
             "#f0f921"
            ]
           ],
           "sequentialminus": [
            [
             0,
             "#0d0887"
            ],
            [
             0.1111111111111111,
             "#46039f"
            ],
            [
             0.2222222222222222,
             "#7201a8"
            ],
            [
             0.3333333333333333,
             "#9c179e"
            ],
            [
             0.4444444444444444,
             "#bd3786"
            ],
            [
             0.5555555555555556,
             "#d8576b"
            ],
            [
             0.6666666666666666,
             "#ed7953"
            ],
            [
             0.7777777777777778,
             "#fb9f3a"
            ],
            [
             0.8888888888888888,
             "#fdca26"
            ],
            [
             1,
             "#f0f921"
            ]
           ]
          },
          "colorway": [
           "#ffed00",
           "#ef7d00",
           "#e4003a",
           "#c13246",
           "#822661",
           "#48277c",
           "#005ca9",
           "#00aaff",
           "#9b30d9",
           "#af005f",
           "#5f00af",
           "#af87ff"
          ],
          "dragmode": "pan",
          "font": {
           "color": "#f2f5fa",
           "family": "Fira Code",
           "size": 18
          },
          "geo": {
           "bgcolor": "rgb(17,17,17)",
           "lakecolor": "rgb(17,17,17)",
           "landcolor": "rgb(17,17,17)",
           "showlakes": true,
           "showland": true,
           "subunitcolor": "#506784"
          },
          "hoverlabel": {
           "align": "left"
          },
          "hovermode": "x",
          "legend": {
           "bgcolor": "rgba(0, 0, 0, 0)",
           "font": {
            "size": 15
           },
           "x": 0.01,
           "xanchor": "left",
           "y": 0.99,
           "yanchor": "top"
          },
          "mapbox": {
           "style": "dark"
          },
          "paper_bgcolor": "#000000",
          "plot_bgcolor": "#000000",
          "polar": {
           "angularaxis": {
            "gridcolor": "#506784",
            "linecolor": "#506784",
            "ticks": ""
           },
           "bgcolor": "rgb(17,17,17)",
           "radialaxis": {
            "gridcolor": "#506784",
            "linecolor": "#506784",
            "ticks": ""
           }
          },
          "scene": {
           "xaxis": {
            "backgroundcolor": "rgb(17,17,17)",
            "gridcolor": "#506784",
            "gridwidth": 2,
            "linecolor": "#506784",
            "showbackground": true,
            "ticks": "",
            "zerolinecolor": "#C8D4E3"
           },
           "yaxis": {
            "backgroundcolor": "rgb(17,17,17)",
            "gridcolor": "#506784",
            "gridwidth": 2,
            "linecolor": "#506784",
            "showbackground": true,
            "ticks": "",
            "zerolinecolor": "#C8D4E3"
           },
           "zaxis": {
            "backgroundcolor": "rgb(17,17,17)",
            "gridcolor": "#506784",
            "gridwidth": 2,
            "linecolor": "#506784",
            "showbackground": true,
            "ticks": "",
            "zerolinecolor": "#C8D4E3"
           }
          },
          "shapedefaults": {
           "line": {
            "color": "#f2f5fa"
           }
          },
          "sliderdefaults": {
           "bgcolor": "#C8D4E3",
           "bordercolor": "rgb(17,17,17)",
           "borderwidth": 1,
           "tickwidth": 0
          },
          "ternary": {
           "aaxis": {
            "gridcolor": "#506784",
            "linecolor": "#506784",
            "ticks": ""
           },
           "baxis": {
            "gridcolor": "#506784",
            "linecolor": "#506784",
            "ticks": ""
           },
           "bgcolor": "rgb(17,17,17)",
           "caxis": {
            "gridcolor": "#506784",
            "linecolor": "#506784",
            "ticks": ""
           }
          },
          "title": {
           "x": 0.05
          },
          "updatemenudefaults": {
           "bgcolor": "#506784",
           "borderwidth": 0
          },
          "xaxis": {
           "automargin": true,
           "autorange": true,
           "gridcolor": "#283442",
           "linecolor": "#F5EFF3",
           "mirror": true,
           "rangeslider": {
            "visible": false
           },
           "showgrid": true,
           "showline": true,
           "tick0": 1,
           "tickfont": {
            "size": 14
           },
           "ticks": "outside",
           "title": {
            "standoff": 20
           },
           "zeroline": false,
           "zerolinecolor": "#283442",
           "zerolinewidth": 2
          },
          "yaxis": {
           "anchor": "x",
           "automargin": true,
           "fixedrange": false,
           "gridcolor": "#283442",
           "linecolor": "#F5EFF3",
           "mirror": true,
           "showgrid": true,
           "showline": true,
           "side": "right",
           "tick0": 0.5,
           "ticks": "outside",
           "title": {
            "standoff": 20
           },
           "zeroline": false,
           "zerolinecolor": "#283442",
           "zerolinewidth": 2
          }
         }
        },
        "title": {
         "text": " - Realized Volatility Cones - STD Model",
         "x": 0.5
        },
        "xaxis": {
         "tickmode": "array",
         "ticktext": [
          3,
          10,
          30,
          60,
          90,
          120,
          150,
          180,
          210,
          240,
          300,
          360
         ],
         "tickvals": [
          3,
          10,
          30,
          60,
          90,
          120,
          150,
          180,
          210,
          240,
          300,
          360
         ],
         "title": {
          "text": "Window of Time (in days)"
         }
        }
       }
      }
     },
     "metadata": {},
     "output_type": "display_data"
    }
   ],
   "source": [
    "openbb.ta.cones_chart(df)"
   ]
  },
  {
   "cell_type": "code",
   "execution_count": 78,
   "metadata": {},
   "outputs": [
    {
     "data": {
      "application/vnd.plotly.v1+json": {
       "config": {
        "displaylogo": false,
        "plotlyServerURL": "https://plot.ly",
        "scrollZoom": true
       },
       "data": [
        {
         "name": "Min",
         "type": "scatter",
         "x": [
          3,
          10,
          30,
          60,
          90,
          120,
          150,
          180,
          210,
          240,
          300,
          360
         ],
         "y": [
          0.02019458764270918,
          0.03219960785963436,
          0.03669429418274484,
          0.045659791570970255,
          0.04987083671060906,
          0.05200241999070442,
          0.05270926722367448,
          0.05439460909651118,
          0.05644165598800789,
          0.056760942026653306,
          0.05829459618534816,
          0.06325709472017259
         ]
        },
        {
         "name": "Max",
         "type": "scatter",
         "x": [
          3,
          10,
          30,
          60,
          90,
          120,
          150,
          180,
          210,
          240,
          300,
          360
         ],
         "y": [
          1.0887474094137792,
          0.8664880146329756,
          0.7116364186938975,
          0.616401730809047,
          0.5428815234399463,
          0.508204096870481,
          0.4740179791110907,
          0.4418961860770009,
          0.41516759419358934,
          0.39402808956333674,
          0.359852975766988,
          0.3385671485475969
         ]
        },
        {
         "name": "Median",
         "type": "scatter",
         "x": [
          3,
          10,
          30,
          60,
          90,
          120,
          150,
          180,
          210,
          240,
          300,
          360
         ],
         "y": [
          0.10958826997745852,
          0.1142423400376485,
          0.11739982395531048,
          0.12205536871087087,
          0.12492072788948275,
          0.12711899157153742,
          0.129181271040851,
          0.12865241844647604,
          0.13119656408783475,
          0.13207235933973605,
          0.13345590736149393,
          0.13607170549807374
         ]
        },
        {
         "name": "Upper 75%",
         "type": "scatter",
         "x": [
          3,
          10,
          30,
          60,
          90,
          120,
          150,
          180,
          210,
          240,
          300,
          360
         ],
         "y": [
          0.15896231479744655,
          0.16293754879005656,
          0.16631839245597008,
          0.17062850988329362,
          0.17457015161191328,
          0.17840254076286946,
          0.17991832408938407,
          0.1789744597308308,
          0.1811604549587078,
          0.18154954649624302,
          0.1834328127258522,
          0.19045979907629845
         ]
        },
        {
         "name": "Lower 25%",
         "type": "scatter",
         "x": [
          3,
          10,
          30,
          60,
          90,
          120,
          150,
          180,
          210,
          240,
          300,
          360
         ],
         "y": [
          0.07602539144184256,
          0.08104605706833604,
          0.08574840357536317,
          0.08917117940861766,
          0.09219023958655248,
          0.09317886655818426,
          0.09458525249069746,
          0.09482908900509386,
          0.0957764564559367,
          0.0968598422327818,
          0.09763791267980118,
          0.09761190508544573
         ]
        },
        {
         "name": "Realized",
         "type": "scatter",
         "x": [
          3,
          10,
          30,
          60,
          90,
          120,
          150,
          180,
          210,
          240,
          300,
          360
         ],
         "y": [
          0.0499873679489455,
          0.07744313943612288,
          0.09044239249377538,
          0.08353058034540063,
          0.08078886861615917,
          0.07599107952517704,
          0.07206541176923732,
          0.07163452291091954,
          0.07109903606718938,
          0.06878655284129503,
          0.07250364118013805,
          0.07577495784916909
         ]
        }
       ],
       "layout": {
        "bargap": 0,
        "bargroupgap": 0,
        "barmode": "overlay",
        "legend": {
         "groupclick": "toggleitem",
         "orientation": "v",
         "tracegroupgap": 133.33333333333334,
         "x": 1,
         "xanchor": "right",
         "y": 1,
         "yanchor": "top"
        },
        "margin": {
         "b": 80,
         "l": 40,
         "r": 50,
         "t": 40
        },
        "modebar": {
         "activecolor": "#d1030d",
         "bgcolor": "#2A2A2A",
         "color": "#FFFFFF",
         "orientation": "v"
        },
        "newshape": {
         "line": {
          "color": "gold"
         }
        },
        "template": {
         "data": {
          "bar": [
           {
            "error_x": {
             "color": "#f2f5fa"
            },
            "error_y": {
             "color": "#f2f5fa"
            },
            "marker": {
             "line": {
              "color": "rgb(17,17,17)",
              "width": 0.5
             },
             "pattern": {
              "fillmode": "overlay",
              "size": 10,
              "solidity": 0.2
             }
            },
            "type": "bar"
           }
          ],
          "barpolar": [
           {
            "marker": {
             "line": {
              "color": "rgb(17,17,17)",
              "width": 0.5
             },
             "pattern": {
              "fillmode": "overlay",
              "size": 10,
              "solidity": 0.2
             }
            },
            "type": "barpolar"
           }
          ],
          "candlestick": [
           {
            "decreasing": {
             "fillcolor": "#e4003a",
             "line": {
              "color": "#e4003a"
             }
            },
            "increasing": {
             "fillcolor": "#00ACFF",
             "line": {
              "color": "#00ACFF"
             }
            },
            "type": "candlestick"
           }
          ],
          "carpet": [
           {
            "aaxis": {
             "endlinecolor": "#A2B1C6",
             "gridcolor": "#506784",
             "linecolor": "#506784",
             "minorgridcolor": "#506784",
             "startlinecolor": "#A2B1C6"
            },
            "baxis": {
             "endlinecolor": "#A2B1C6",
             "gridcolor": "#506784",
             "linecolor": "#506784",
             "minorgridcolor": "#506784",
             "startlinecolor": "#A2B1C6"
            },
            "type": "carpet"
           }
          ],
          "choropleth": [
           {
            "colorbar": {
             "outlinewidth": 0,
             "ticks": ""
            },
            "type": "choropleth"
           }
          ],
          "contour": [
           {
            "colorbar": {
             "outlinewidth": 0,
             "ticks": ""
            },
            "colorscale": [
             [
              0,
              "#0d0887"
             ],
             [
              0.1111111111111111,
              "#46039f"
             ],
             [
              0.2222222222222222,
              "#7201a8"
             ],
             [
              0.3333333333333333,
              "#9c179e"
             ],
             [
              0.4444444444444444,
              "#bd3786"
             ],
             [
              0.5555555555555556,
              "#d8576b"
             ],
             [
              0.6666666666666666,
              "#ed7953"
             ],
             [
              0.7777777777777778,
              "#fb9f3a"
             ],
             [
              0.8888888888888888,
              "#fdca26"
             ],
             [
              1,
              "#f0f921"
             ]
            ],
            "type": "contour"
           }
          ],
          "contourcarpet": [
           {
            "colorbar": {
             "outlinewidth": 0,
             "ticks": ""
            },
            "type": "contourcarpet"
           }
          ],
          "heatmap": [
           {
            "colorbar": {
             "outlinewidth": 0,
             "ticks": ""
            },
            "colorscale": [
             [
              0,
              "#0d0887"
             ],
             [
              0.1111111111111111,
              "#46039f"
             ],
             [
              0.2222222222222222,
              "#7201a8"
             ],
             [
              0.3333333333333333,
              "#9c179e"
             ],
             [
              0.4444444444444444,
              "#bd3786"
             ],
             [
              0.5555555555555556,
              "#d8576b"
             ],
             [
              0.6666666666666666,
              "#ed7953"
             ],
             [
              0.7777777777777778,
              "#fb9f3a"
             ],
             [
              0.8888888888888888,
              "#fdca26"
             ],
             [
              1,
              "#f0f921"
             ]
            ],
            "type": "heatmap"
           }
          ],
          "heatmapgl": [
           {
            "colorbar": {
             "outlinewidth": 0,
             "ticks": ""
            },
            "colorscale": [
             [
              0,
              "#0d0887"
             ],
             [
              0.1111111111111111,
              "#46039f"
             ],
             [
              0.2222222222222222,
              "#7201a8"
             ],
             [
              0.3333333333333333,
              "#9c179e"
             ],
             [
              0.4444444444444444,
              "#bd3786"
             ],
             [
              0.5555555555555556,
              "#d8576b"
             ],
             [
              0.6666666666666666,
              "#ed7953"
             ],
             [
              0.7777777777777778,
              "#fb9f3a"
             ],
             [
              0.8888888888888888,
              "#fdca26"
             ],
             [
              1,
              "#f0f921"
             ]
            ],
            "type": "heatmapgl"
           }
          ],
          "histogram": [
           {
            "marker": {
             "pattern": {
              "fillmode": "overlay",
              "size": 10,
              "solidity": 0.2
             }
            },
            "type": "histogram"
           }
          ],
          "histogram2d": [
           {
            "colorbar": {
             "outlinewidth": 0,
             "ticks": ""
            },
            "colorscale": [
             [
              0,
              "#0d0887"
             ],
             [
              0.1111111111111111,
              "#46039f"
             ],
             [
              0.2222222222222222,
              "#7201a8"
             ],
             [
              0.3333333333333333,
              "#9c179e"
             ],
             [
              0.4444444444444444,
              "#bd3786"
             ],
             [
              0.5555555555555556,
              "#d8576b"
             ],
             [
              0.6666666666666666,
              "#ed7953"
             ],
             [
              0.7777777777777778,
              "#fb9f3a"
             ],
             [
              0.8888888888888888,
              "#fdca26"
             ],
             [
              1,
              "#f0f921"
             ]
            ],
            "type": "histogram2d"
           }
          ],
          "histogram2dcontour": [
           {
            "colorbar": {
             "outlinewidth": 0,
             "ticks": ""
            },
            "colorscale": [
             [
              0,
              "#0d0887"
             ],
             [
              0.1111111111111111,
              "#46039f"
             ],
             [
              0.2222222222222222,
              "#7201a8"
             ],
             [
              0.3333333333333333,
              "#9c179e"
             ],
             [
              0.4444444444444444,
              "#bd3786"
             ],
             [
              0.5555555555555556,
              "#d8576b"
             ],
             [
              0.6666666666666666,
              "#ed7953"
             ],
             [
              0.7777777777777778,
              "#fb9f3a"
             ],
             [
              0.8888888888888888,
              "#fdca26"
             ],
             [
              1,
              "#f0f921"
             ]
            ],
            "type": "histogram2dcontour"
           }
          ],
          "mesh3d": [
           {
            "colorbar": {
             "outlinewidth": 0,
             "ticks": ""
            },
            "type": "mesh3d"
           }
          ],
          "parcoords": [
           {
            "line": {
             "colorbar": {
              "outlinewidth": 0,
              "ticks": ""
             }
            },
            "type": "parcoords"
           }
          ],
          "pie": [
           {
            "automargin": true,
            "type": "pie"
           }
          ],
          "scatter": [
           {
            "marker": {
             "line": {
              "color": "#283442"
             }
            },
            "type": "scatter"
           }
          ],
          "scatter3d": [
           {
            "line": {
             "colorbar": {
              "outlinewidth": 0,
              "ticks": ""
             }
            },
            "marker": {
             "colorbar": {
              "outlinewidth": 0,
              "ticks": ""
             }
            },
            "type": "scatter3d"
           }
          ],
          "scattercarpet": [
           {
            "marker": {
             "colorbar": {
              "outlinewidth": 0,
              "ticks": ""
             }
            },
            "type": "scattercarpet"
           }
          ],
          "scattergeo": [
           {
            "marker": {
             "colorbar": {
              "outlinewidth": 0,
              "ticks": ""
             }
            },
            "type": "scattergeo"
           }
          ],
          "scattergl": [
           {
            "marker": {
             "line": {
              "color": "#283442"
             }
            },
            "type": "scattergl"
           }
          ],
          "scattermapbox": [
           {
            "marker": {
             "colorbar": {
              "outlinewidth": 0,
              "ticks": ""
             }
            },
            "type": "scattermapbox"
           }
          ],
          "scatterpolar": [
           {
            "marker": {
             "colorbar": {
              "outlinewidth": 0,
              "ticks": ""
             }
            },
            "type": "scatterpolar"
           }
          ],
          "scatterpolargl": [
           {
            "marker": {
             "colorbar": {
              "outlinewidth": 0,
              "ticks": ""
             }
            },
            "type": "scatterpolargl"
           }
          ],
          "scatterternary": [
           {
            "marker": {
             "colorbar": {
              "outlinewidth": 0,
              "ticks": ""
             }
            },
            "type": "scatterternary"
           }
          ],
          "surface": [
           {
            "colorbar": {
             "outlinewidth": 0,
             "ticks": ""
            },
            "colorscale": [
             [
              0,
              "#0d0887"
             ],
             [
              0.1111111111111111,
              "#46039f"
             ],
             [
              0.2222222222222222,
              "#7201a8"
             ],
             [
              0.3333333333333333,
              "#9c179e"
             ],
             [
              0.4444444444444444,
              "#bd3786"
             ],
             [
              0.5555555555555556,
              "#d8576b"
             ],
             [
              0.6666666666666666,
              "#ed7953"
             ],
             [
              0.7777777777777778,
              "#fb9f3a"
             ],
             [
              0.8888888888888888,
              "#fdca26"
             ],
             [
              1,
              "#f0f921"
             ]
            ],
            "type": "surface"
           }
          ],
          "table": [
           {
            "cells": {
             "fill": {
              "color": "#506784"
             },
             "line": {
              "color": "rgb(17,17,17)"
             }
            },
            "header": {
             "fill": {
              "color": "#2a3f5f"
             },
             "line": {
              "color": "rgb(17,17,17)"
             }
            },
            "type": "table"
           }
          ]
         },
         "layout": {
          "annotationdefaults": {
           "arrowcolor": "#f2f5fa",
           "arrowhead": 0,
           "arrowwidth": 1,
           "showarrow": false
          },
          "autotypenumbers": "strict",
          "coloraxis": {
           "colorbar": {
            "outlinewidth": 0,
            "ticks": ""
           }
          },
          "colorscale": {
           "diverging": [
            [
             0,
             "#8e0152"
            ],
            [
             0.1,
             "#c51b7d"
            ],
            [
             0.2,
             "#de77ae"
            ],
            [
             0.3,
             "#f1b6da"
            ],
            [
             0.4,
             "#fde0ef"
            ],
            [
             0.5,
             "#f7f7f7"
            ],
            [
             0.6,
             "#e6f5d0"
            ],
            [
             0.7,
             "#b8e186"
            ],
            [
             0.8,
             "#7fbc41"
            ],
            [
             0.9,
             "#4d9221"
            ],
            [
             1,
             "#276419"
            ]
           ],
           "sequential": [
            [
             0,
             "#0d0887"
            ],
            [
             0.1111111111111111,
             "#46039f"
            ],
            [
             0.2222222222222222,
             "#7201a8"
            ],
            [
             0.3333333333333333,
             "#9c179e"
            ],
            [
             0.4444444444444444,
             "#bd3786"
            ],
            [
             0.5555555555555556,
             "#d8576b"
            ],
            [
             0.6666666666666666,
             "#ed7953"
            ],
            [
             0.7777777777777778,
             "#fb9f3a"
            ],
            [
             0.8888888888888888,
             "#fdca26"
            ],
            [
             1,
             "#f0f921"
            ]
           ],
           "sequentialminus": [
            [
             0,
             "#0d0887"
            ],
            [
             0.1111111111111111,
             "#46039f"
            ],
            [
             0.2222222222222222,
             "#7201a8"
            ],
            [
             0.3333333333333333,
             "#9c179e"
            ],
            [
             0.4444444444444444,
             "#bd3786"
            ],
            [
             0.5555555555555556,
             "#d8576b"
            ],
            [
             0.6666666666666666,
             "#ed7953"
            ],
            [
             0.7777777777777778,
             "#fb9f3a"
            ],
            [
             0.8888888888888888,
             "#fdca26"
            ],
            [
             1,
             "#f0f921"
            ]
           ]
          },
          "colorway": [
           "#ffed00",
           "#ef7d00",
           "#e4003a",
           "#c13246",
           "#822661",
           "#48277c",
           "#005ca9",
           "#00aaff",
           "#9b30d9",
           "#af005f",
           "#5f00af",
           "#af87ff"
          ],
          "dragmode": "pan",
          "font": {
           "color": "#f2f5fa",
           "family": "Fira Code",
           "size": 18
          },
          "geo": {
           "bgcolor": "rgb(17,17,17)",
           "lakecolor": "rgb(17,17,17)",
           "landcolor": "rgb(17,17,17)",
           "showlakes": true,
           "showland": true,
           "subunitcolor": "#506784"
          },
          "hoverlabel": {
           "align": "left"
          },
          "hovermode": "x",
          "legend": {
           "bgcolor": "rgba(0, 0, 0, 0)",
           "font": {
            "size": 15
           },
           "x": 0.01,
           "xanchor": "left",
           "y": 0.99,
           "yanchor": "top"
          },
          "mapbox": {
           "style": "dark"
          },
          "paper_bgcolor": "#000000",
          "plot_bgcolor": "#000000",
          "polar": {
           "angularaxis": {
            "gridcolor": "#506784",
            "linecolor": "#506784",
            "ticks": ""
           },
           "bgcolor": "rgb(17,17,17)",
           "radialaxis": {
            "gridcolor": "#506784",
            "linecolor": "#506784",
            "ticks": ""
           }
          },
          "scene": {
           "xaxis": {
            "backgroundcolor": "rgb(17,17,17)",
            "gridcolor": "#506784",
            "gridwidth": 2,
            "linecolor": "#506784",
            "showbackground": true,
            "ticks": "",
            "zerolinecolor": "#C8D4E3"
           },
           "yaxis": {
            "backgroundcolor": "rgb(17,17,17)",
            "gridcolor": "#506784",
            "gridwidth": 2,
            "linecolor": "#506784",
            "showbackground": true,
            "ticks": "",
            "zerolinecolor": "#C8D4E3"
           },
           "zaxis": {
            "backgroundcolor": "rgb(17,17,17)",
            "gridcolor": "#506784",
            "gridwidth": 2,
            "linecolor": "#506784",
            "showbackground": true,
            "ticks": "",
            "zerolinecolor": "#C8D4E3"
           }
          },
          "shapedefaults": {
           "line": {
            "color": "#f2f5fa"
           }
          },
          "sliderdefaults": {
           "bgcolor": "#C8D4E3",
           "bordercolor": "rgb(17,17,17)",
           "borderwidth": 1,
           "tickwidth": 0
          },
          "ternary": {
           "aaxis": {
            "gridcolor": "#506784",
            "linecolor": "#506784",
            "ticks": ""
           },
           "baxis": {
            "gridcolor": "#506784",
            "linecolor": "#506784",
            "ticks": ""
           },
           "bgcolor": "rgb(17,17,17)",
           "caxis": {
            "gridcolor": "#506784",
            "linecolor": "#506784",
            "ticks": ""
           }
          },
          "title": {
           "x": 0.05
          },
          "updatemenudefaults": {
           "bgcolor": "#506784",
           "borderwidth": 0
          },
          "xaxis": {
           "automargin": true,
           "autorange": true,
           "gridcolor": "#283442",
           "linecolor": "#F5EFF3",
           "mirror": true,
           "rangeslider": {
            "visible": false
           },
           "showgrid": true,
           "showline": true,
           "tick0": 1,
           "tickfont": {
            "size": 14
           },
           "ticks": "outside",
           "title": {
            "standoff": 20
           },
           "zeroline": false,
           "zerolinecolor": "#283442",
           "zerolinewidth": 2
          },
          "yaxis": {
           "anchor": "x",
           "automargin": true,
           "fixedrange": false,
           "gridcolor": "#283442",
           "linecolor": "#F5EFF3",
           "mirror": true,
           "showgrid": true,
           "showline": true,
           "side": "right",
           "tick0": 0.5,
           "ticks": "outside",
           "title": {
            "standoff": 20
           },
           "zeroline": false,
           "zerolinecolor": "#283442",
           "zerolinewidth": 2
          }
         }
        },
        "title": {
         "text": " - Realized Volatility Cones - Garman-Klass Model",
         "x": 0.5
        },
        "xaxis": {
         "tickmode": "array",
         "ticktext": [
          3,
          10,
          30,
          60,
          90,
          120,
          150,
          180,
          210,
          240,
          300,
          360
         ],
         "tickvals": [
          3,
          10,
          30,
          60,
          90,
          120,
          150,
          180,
          210,
          240,
          300,
          360
         ],
         "title": {
          "text": "Window of Time (in days)"
         }
        }
       }
      }
     },
     "metadata": {},
     "output_type": "display_data"
    }
   ],
   "source": [
    "openbb.ta.cones_chart(df, model = 'Garman-Klass')"
   ]
  },
  {
   "attachments": {},
   "cell_type": "markdown",
   "metadata": {},
   "source": [
    "The `data` input can also be the `load` function from the OpenBB SDK. Use the `symbol` argument to add the name of the security to the title. Notice that the values shift with the amount of historical data being fed to the model changes."
   ]
  },
  {
   "cell_type": "code",
   "execution_count": 79,
   "metadata": {},
   "outputs": [
    {
     "data": {
      "text/html": [
       "<pre style=\"white-space:pre;overflow-x:auto;line-height:normal;font-family:Menlo,'DejaVu Sans Mono',consolas,'Courier New',monospace\">Loading Daily data for SPY with starting period 2020-02-26.\n",
       "</pre>\n"
      ],
      "text/plain": [
       "Loading Daily data for SPY with starting period 2020-02-26.\n"
      ]
     },
     "metadata": {},
     "output_type": "display_data"
    },
    {
     "data": {
      "application/vnd.plotly.v1+json": {
       "config": {
        "displaylogo": false,
        "plotlyServerURL": "https://plot.ly",
        "scrollZoom": true
       },
       "data": [
        {
         "name": "Min",
         "type": "scatter",
         "x": [
          3,
          10,
          30,
          60,
          90,
          120,
          150,
          180,
          210,
          240,
          300,
          360
         ],
         "y": [
          0.03382178865382857,
          0.04426751977217249,
          0.06549973887069305,
          0.07723217373722473,
          0.08150919108869155,
          0.08114007016815727,
          0.08702157599352471,
          0.08875703497233738,
          0.09644880957894986,
          0.10689556524836093,
          0.11196012448505596,
          0.12288909193068223
         ]
        },
        {
         "name": "Max",
         "type": "scatter",
         "x": [
          3,
          10,
          30,
          60,
          90,
          120,
          150,
          180,
          210,
          240,
          300,
          360
         ],
         "y": [
          0.8903154370018306,
          0.7449736285750901,
          0.5536470873236398,
          0.4202544815373008,
          0.3591943391499554,
          0.3171457107707073,
          0.29441288675753974,
          0.277657187144803,
          0.2617366789498382,
          0.24897519399029366,
          0.22978183282526282,
          0.2128010607054209
         ]
        },
        {
         "name": "Median",
         "type": "scatter",
         "x": [
          3,
          10,
          30,
          60,
          90,
          120,
          150,
          180,
          210,
          240,
          300,
          360
         ],
         "y": [
          0.13733183170148777,
          0.14830030452492404,
          0.1553990093043518,
          0.15416333595461557,
          0.16004357256470947,
          0.1554522179315307,
          0.15335789192201718,
          0.15039914643611926,
          0.15137738016772828,
          0.14622506021980575,
          0.14213741275077849,
          0.14460377723551626
         ]
        },
        {
         "name": "Upper 75%",
         "type": "scatter",
         "x": [
          3,
          10,
          30,
          60,
          90,
          120,
          150,
          180,
          210,
          240,
          300,
          360
         ],
         "y": [
          0.18893814171651263,
          0.18872411476523077,
          0.18560835790982186,
          0.18675979639878781,
          0.18288178478988068,
          0.18084259276835254,
          0.18150939968293708,
          0.18252607714262362,
          0.17842023236134788,
          0.17381755452969797,
          0.16800979951387918,
          0.16054957339467812
         ]
        },
        {
         "name": "Lower 25%",
         "type": "scatter",
         "x": [
          3,
          10,
          30,
          60,
          90,
          120,
          150,
          180,
          210,
          240,
          300,
          360
         ],
         "y": [
          0.09391936338646084,
          0.10631193715797045,
          0.11909040142667822,
          0.12606848612614494,
          0.12527674308181033,
          0.12676769680140748,
          0.12045954800798922,
          0.12279867654064891,
          0.1231363092661451,
          0.12333033490342704,
          0.12680899100587167,
          0.13134087118683832
         ]
        },
        {
         "name": "Realized",
         "type": "scatter",
         "x": [
          3,
          10,
          30,
          60,
          90,
          120,
          150,
          180,
          210,
          240,
          300,
          360
         ],
         "y": [
          0.3760748329735905,
          0.4063190344848625,
          0.5510166080108108,
          0.4202544815373008,
          0.3591943391499554,
          0.3171457107707073,
          0.29441288675753974,
          0.277657187144803,
          0.2617366789498382,
          0.24897519399029366,
          0.22978183282526282,
          0.2128010607054209
         ]
        }
       ],
       "layout": {
        "bargap": 0,
        "bargroupgap": 0,
        "barmode": "overlay",
        "legend": {
         "groupclick": "toggleitem",
         "orientation": "v",
         "tracegroupgap": 133.33333333333334,
         "x": 1,
         "xanchor": "right",
         "y": 1,
         "yanchor": "top"
        },
        "margin": {
         "b": 80,
         "l": 40,
         "r": 50,
         "t": 40
        },
        "modebar": {
         "activecolor": "#d1030d",
         "bgcolor": "#2A2A2A",
         "color": "#FFFFFF",
         "orientation": "v"
        },
        "newshape": {
         "line": {
          "color": "gold"
         }
        },
        "template": {
         "data": {
          "bar": [
           {
            "error_x": {
             "color": "#f2f5fa"
            },
            "error_y": {
             "color": "#f2f5fa"
            },
            "marker": {
             "line": {
              "color": "rgb(17,17,17)",
              "width": 0.5
             },
             "pattern": {
              "fillmode": "overlay",
              "size": 10,
              "solidity": 0.2
             }
            },
            "type": "bar"
           }
          ],
          "barpolar": [
           {
            "marker": {
             "line": {
              "color": "rgb(17,17,17)",
              "width": 0.5
             },
             "pattern": {
              "fillmode": "overlay",
              "size": 10,
              "solidity": 0.2
             }
            },
            "type": "barpolar"
           }
          ],
          "candlestick": [
           {
            "decreasing": {
             "fillcolor": "#e4003a",
             "line": {
              "color": "#e4003a"
             }
            },
            "increasing": {
             "fillcolor": "#00ACFF",
             "line": {
              "color": "#00ACFF"
             }
            },
            "type": "candlestick"
           }
          ],
          "carpet": [
           {
            "aaxis": {
             "endlinecolor": "#A2B1C6",
             "gridcolor": "#506784",
             "linecolor": "#506784",
             "minorgridcolor": "#506784",
             "startlinecolor": "#A2B1C6"
            },
            "baxis": {
             "endlinecolor": "#A2B1C6",
             "gridcolor": "#506784",
             "linecolor": "#506784",
             "minorgridcolor": "#506784",
             "startlinecolor": "#A2B1C6"
            },
            "type": "carpet"
           }
          ],
          "choropleth": [
           {
            "colorbar": {
             "outlinewidth": 0,
             "ticks": ""
            },
            "type": "choropleth"
           }
          ],
          "contour": [
           {
            "colorbar": {
             "outlinewidth": 0,
             "ticks": ""
            },
            "colorscale": [
             [
              0,
              "#0d0887"
             ],
             [
              0.1111111111111111,
              "#46039f"
             ],
             [
              0.2222222222222222,
              "#7201a8"
             ],
             [
              0.3333333333333333,
              "#9c179e"
             ],
             [
              0.4444444444444444,
              "#bd3786"
             ],
             [
              0.5555555555555556,
              "#d8576b"
             ],
             [
              0.6666666666666666,
              "#ed7953"
             ],
             [
              0.7777777777777778,
              "#fb9f3a"
             ],
             [
              0.8888888888888888,
              "#fdca26"
             ],
             [
              1,
              "#f0f921"
             ]
            ],
            "type": "contour"
           }
          ],
          "contourcarpet": [
           {
            "colorbar": {
             "outlinewidth": 0,
             "ticks": ""
            },
            "type": "contourcarpet"
           }
          ],
          "heatmap": [
           {
            "colorbar": {
             "outlinewidth": 0,
             "ticks": ""
            },
            "colorscale": [
             [
              0,
              "#0d0887"
             ],
             [
              0.1111111111111111,
              "#46039f"
             ],
             [
              0.2222222222222222,
              "#7201a8"
             ],
             [
              0.3333333333333333,
              "#9c179e"
             ],
             [
              0.4444444444444444,
              "#bd3786"
             ],
             [
              0.5555555555555556,
              "#d8576b"
             ],
             [
              0.6666666666666666,
              "#ed7953"
             ],
             [
              0.7777777777777778,
              "#fb9f3a"
             ],
             [
              0.8888888888888888,
              "#fdca26"
             ],
             [
              1,
              "#f0f921"
             ]
            ],
            "type": "heatmap"
           }
          ],
          "heatmapgl": [
           {
            "colorbar": {
             "outlinewidth": 0,
             "ticks": ""
            },
            "colorscale": [
             [
              0,
              "#0d0887"
             ],
             [
              0.1111111111111111,
              "#46039f"
             ],
             [
              0.2222222222222222,
              "#7201a8"
             ],
             [
              0.3333333333333333,
              "#9c179e"
             ],
             [
              0.4444444444444444,
              "#bd3786"
             ],
             [
              0.5555555555555556,
              "#d8576b"
             ],
             [
              0.6666666666666666,
              "#ed7953"
             ],
             [
              0.7777777777777778,
              "#fb9f3a"
             ],
             [
              0.8888888888888888,
              "#fdca26"
             ],
             [
              1,
              "#f0f921"
             ]
            ],
            "type": "heatmapgl"
           }
          ],
          "histogram": [
           {
            "marker": {
             "pattern": {
              "fillmode": "overlay",
              "size": 10,
              "solidity": 0.2
             }
            },
            "type": "histogram"
           }
          ],
          "histogram2d": [
           {
            "colorbar": {
             "outlinewidth": 0,
             "ticks": ""
            },
            "colorscale": [
             [
              0,
              "#0d0887"
             ],
             [
              0.1111111111111111,
              "#46039f"
             ],
             [
              0.2222222222222222,
              "#7201a8"
             ],
             [
              0.3333333333333333,
              "#9c179e"
             ],
             [
              0.4444444444444444,
              "#bd3786"
             ],
             [
              0.5555555555555556,
              "#d8576b"
             ],
             [
              0.6666666666666666,
              "#ed7953"
             ],
             [
              0.7777777777777778,
              "#fb9f3a"
             ],
             [
              0.8888888888888888,
              "#fdca26"
             ],
             [
              1,
              "#f0f921"
             ]
            ],
            "type": "histogram2d"
           }
          ],
          "histogram2dcontour": [
           {
            "colorbar": {
             "outlinewidth": 0,
             "ticks": ""
            },
            "colorscale": [
             [
              0,
              "#0d0887"
             ],
             [
              0.1111111111111111,
              "#46039f"
             ],
             [
              0.2222222222222222,
              "#7201a8"
             ],
             [
              0.3333333333333333,
              "#9c179e"
             ],
             [
              0.4444444444444444,
              "#bd3786"
             ],
             [
              0.5555555555555556,
              "#d8576b"
             ],
             [
              0.6666666666666666,
              "#ed7953"
             ],
             [
              0.7777777777777778,
              "#fb9f3a"
             ],
             [
              0.8888888888888888,
              "#fdca26"
             ],
             [
              1,
              "#f0f921"
             ]
            ],
            "type": "histogram2dcontour"
           }
          ],
          "mesh3d": [
           {
            "colorbar": {
             "outlinewidth": 0,
             "ticks": ""
            },
            "type": "mesh3d"
           }
          ],
          "parcoords": [
           {
            "line": {
             "colorbar": {
              "outlinewidth": 0,
              "ticks": ""
             }
            },
            "type": "parcoords"
           }
          ],
          "pie": [
           {
            "automargin": true,
            "type": "pie"
           }
          ],
          "scatter": [
           {
            "marker": {
             "line": {
              "color": "#283442"
             }
            },
            "type": "scatter"
           }
          ],
          "scatter3d": [
           {
            "line": {
             "colorbar": {
              "outlinewidth": 0,
              "ticks": ""
             }
            },
            "marker": {
             "colorbar": {
              "outlinewidth": 0,
              "ticks": ""
             }
            },
            "type": "scatter3d"
           }
          ],
          "scattercarpet": [
           {
            "marker": {
             "colorbar": {
              "outlinewidth": 0,
              "ticks": ""
             }
            },
            "type": "scattercarpet"
           }
          ],
          "scattergeo": [
           {
            "marker": {
             "colorbar": {
              "outlinewidth": 0,
              "ticks": ""
             }
            },
            "type": "scattergeo"
           }
          ],
          "scattergl": [
           {
            "marker": {
             "line": {
              "color": "#283442"
             }
            },
            "type": "scattergl"
           }
          ],
          "scattermapbox": [
           {
            "marker": {
             "colorbar": {
              "outlinewidth": 0,
              "ticks": ""
             }
            },
            "type": "scattermapbox"
           }
          ],
          "scatterpolar": [
           {
            "marker": {
             "colorbar": {
              "outlinewidth": 0,
              "ticks": ""
             }
            },
            "type": "scatterpolar"
           }
          ],
          "scatterpolargl": [
           {
            "marker": {
             "colorbar": {
              "outlinewidth": 0,
              "ticks": ""
             }
            },
            "type": "scatterpolargl"
           }
          ],
          "scatterternary": [
           {
            "marker": {
             "colorbar": {
              "outlinewidth": 0,
              "ticks": ""
             }
            },
            "type": "scatterternary"
           }
          ],
          "surface": [
           {
            "colorbar": {
             "outlinewidth": 0,
             "ticks": ""
            },
            "colorscale": [
             [
              0,
              "#0d0887"
             ],
             [
              0.1111111111111111,
              "#46039f"
             ],
             [
              0.2222222222222222,
              "#7201a8"
             ],
             [
              0.3333333333333333,
              "#9c179e"
             ],
             [
              0.4444444444444444,
              "#bd3786"
             ],
             [
              0.5555555555555556,
              "#d8576b"
             ],
             [
              0.6666666666666666,
              "#ed7953"
             ],
             [
              0.7777777777777778,
              "#fb9f3a"
             ],
             [
              0.8888888888888888,
              "#fdca26"
             ],
             [
              1,
              "#f0f921"
             ]
            ],
            "type": "surface"
           }
          ],
          "table": [
           {
            "cells": {
             "fill": {
              "color": "#506784"
             },
             "line": {
              "color": "rgb(17,17,17)"
             }
            },
            "header": {
             "fill": {
              "color": "#2a3f5f"
             },
             "line": {
              "color": "rgb(17,17,17)"
             }
            },
            "type": "table"
           }
          ]
         },
         "layout": {
          "annotationdefaults": {
           "arrowcolor": "#f2f5fa",
           "arrowhead": 0,
           "arrowwidth": 1,
           "showarrow": false
          },
          "autotypenumbers": "strict",
          "coloraxis": {
           "colorbar": {
            "outlinewidth": 0,
            "ticks": ""
           }
          },
          "colorscale": {
           "diverging": [
            [
             0,
             "#8e0152"
            ],
            [
             0.1,
             "#c51b7d"
            ],
            [
             0.2,
             "#de77ae"
            ],
            [
             0.3,
             "#f1b6da"
            ],
            [
             0.4,
             "#fde0ef"
            ],
            [
             0.5,
             "#f7f7f7"
            ],
            [
             0.6,
             "#e6f5d0"
            ],
            [
             0.7,
             "#b8e186"
            ],
            [
             0.8,
             "#7fbc41"
            ],
            [
             0.9,
             "#4d9221"
            ],
            [
             1,
             "#276419"
            ]
           ],
           "sequential": [
            [
             0,
             "#0d0887"
            ],
            [
             0.1111111111111111,
             "#46039f"
            ],
            [
             0.2222222222222222,
             "#7201a8"
            ],
            [
             0.3333333333333333,
             "#9c179e"
            ],
            [
             0.4444444444444444,
             "#bd3786"
            ],
            [
             0.5555555555555556,
             "#d8576b"
            ],
            [
             0.6666666666666666,
             "#ed7953"
            ],
            [
             0.7777777777777778,
             "#fb9f3a"
            ],
            [
             0.8888888888888888,
             "#fdca26"
            ],
            [
             1,
             "#f0f921"
            ]
           ],
           "sequentialminus": [
            [
             0,
             "#0d0887"
            ],
            [
             0.1111111111111111,
             "#46039f"
            ],
            [
             0.2222222222222222,
             "#7201a8"
            ],
            [
             0.3333333333333333,
             "#9c179e"
            ],
            [
             0.4444444444444444,
             "#bd3786"
            ],
            [
             0.5555555555555556,
             "#d8576b"
            ],
            [
             0.6666666666666666,
             "#ed7953"
            ],
            [
             0.7777777777777778,
             "#fb9f3a"
            ],
            [
             0.8888888888888888,
             "#fdca26"
            ],
            [
             1,
             "#f0f921"
            ]
           ]
          },
          "colorway": [
           "#ffed00",
           "#ef7d00",
           "#e4003a",
           "#c13246",
           "#822661",
           "#48277c",
           "#005ca9",
           "#00aaff",
           "#9b30d9",
           "#af005f",
           "#5f00af",
           "#af87ff"
          ],
          "dragmode": "pan",
          "font": {
           "color": "#f2f5fa",
           "family": "Fira Code",
           "size": 18
          },
          "geo": {
           "bgcolor": "rgb(17,17,17)",
           "lakecolor": "rgb(17,17,17)",
           "landcolor": "rgb(17,17,17)",
           "showlakes": true,
           "showland": true,
           "subunitcolor": "#506784"
          },
          "hoverlabel": {
           "align": "left"
          },
          "hovermode": "x",
          "legend": {
           "bgcolor": "rgba(0, 0, 0, 0)",
           "font": {
            "size": 15
           },
           "x": 0.01,
           "xanchor": "left",
           "y": 0.99,
           "yanchor": "top"
          },
          "mapbox": {
           "style": "dark"
          },
          "paper_bgcolor": "#000000",
          "plot_bgcolor": "#000000",
          "polar": {
           "angularaxis": {
            "gridcolor": "#506784",
            "linecolor": "#506784",
            "ticks": ""
           },
           "bgcolor": "rgb(17,17,17)",
           "radialaxis": {
            "gridcolor": "#506784",
            "linecolor": "#506784",
            "ticks": ""
           }
          },
          "scene": {
           "xaxis": {
            "backgroundcolor": "rgb(17,17,17)",
            "gridcolor": "#506784",
            "gridwidth": 2,
            "linecolor": "#506784",
            "showbackground": true,
            "ticks": "",
            "zerolinecolor": "#C8D4E3"
           },
           "yaxis": {
            "backgroundcolor": "rgb(17,17,17)",
            "gridcolor": "#506784",
            "gridwidth": 2,
            "linecolor": "#506784",
            "showbackground": true,
            "ticks": "",
            "zerolinecolor": "#C8D4E3"
           },
           "zaxis": {
            "backgroundcolor": "rgb(17,17,17)",
            "gridcolor": "#506784",
            "gridwidth": 2,
            "linecolor": "#506784",
            "showbackground": true,
            "ticks": "",
            "zerolinecolor": "#C8D4E3"
           }
          },
          "shapedefaults": {
           "line": {
            "color": "#f2f5fa"
           }
          },
          "sliderdefaults": {
           "bgcolor": "#C8D4E3",
           "bordercolor": "rgb(17,17,17)",
           "borderwidth": 1,
           "tickwidth": 0
          },
          "ternary": {
           "aaxis": {
            "gridcolor": "#506784",
            "linecolor": "#506784",
            "ticks": ""
           },
           "baxis": {
            "gridcolor": "#506784",
            "linecolor": "#506784",
            "ticks": ""
           },
           "bgcolor": "rgb(17,17,17)",
           "caxis": {
            "gridcolor": "#506784",
            "linecolor": "#506784",
            "ticks": ""
           }
          },
          "title": {
           "x": 0.05
          },
          "updatemenudefaults": {
           "bgcolor": "#506784",
           "borderwidth": 0
          },
          "xaxis": {
           "automargin": true,
           "autorange": true,
           "gridcolor": "#283442",
           "linecolor": "#F5EFF3",
           "mirror": true,
           "rangeslider": {
            "visible": false
           },
           "showgrid": true,
           "showline": true,
           "tick0": 1,
           "tickfont": {
            "size": 14
           },
           "ticks": "outside",
           "title": {
            "standoff": 20
           },
           "zeroline": false,
           "zerolinecolor": "#283442",
           "zerolinewidth": 2
          },
          "yaxis": {
           "anchor": "x",
           "automargin": true,
           "fixedrange": false,
           "gridcolor": "#283442",
           "linecolor": "#F5EFF3",
           "mirror": true,
           "showgrid": true,
           "showline": true,
           "side": "right",
           "tick0": 0.5,
           "ticks": "outside",
           "title": {
            "standoff": 20
           },
           "zeroline": false,
           "zerolinecolor": "#283442",
           "zerolinewidth": 2
          }
         }
        },
        "title": {
         "text": "SPY - Realized Volatility Cones - Garman-Klass Model",
         "x": 0.5
        },
        "xaxis": {
         "tickmode": "array",
         "ticktext": [
          3,
          10,
          30,
          60,
          90,
          120,
          150,
          180,
          210,
          240,
          300,
          360
         ],
         "tickvals": [
          3,
          10,
          30,
          60,
          90,
          120,
          150,
          180,
          210,
          240,
          300,
          360
         ],
         "title": {
          "text": "Window of Time (in days)"
         }
        }
       }
      }
     },
     "metadata": {},
     "output_type": "display_data"
    }
   ],
   "source": [
    "openbb.ta.cones_chart(\n",
    "    data = openbb.stocks.load('SPY'),\n",
    "    symbol = 'SPY',\n",
    "    model = 'Garman-Klass',\n",
    ")"
   ]
  },
  {
   "cell_type": "code",
   "execution_count": 80,
   "metadata": {},
   "outputs": [
    {
     "data": {
      "text/html": [
       "<pre style=\"white-space:pre;overflow-x:auto;line-height:normal;font-family:Menlo,'DejaVu Sans Mono',consolas,'Courier New',monospace\">Loading Weekly data for SPY with starting period 1993-01-25.\n",
       "</pre>\n"
      ],
      "text/plain": [
       "Loading Weekly data for SPY with starting period 1993-01-25.\n"
      ]
     },
     "metadata": {},
     "output_type": "display_data"
    },
    {
     "data": {
      "application/vnd.plotly.v1+json": {
       "config": {
        "displaylogo": false,
        "plotlyServerURL": "https://plot.ly",
        "scrollZoom": true
       },
       "data": [
        {
         "name": "Min",
         "type": "scatter",
         "x": [
          3,
          10,
          30,
          60,
          90,
          120,
          150,
          180,
          210,
          240,
          300,
          360
         ],
         "y": [
          0.0828952271837573,
          0.10701001081618826,
          0.13703039802819889,
          0.14156098351404905,
          0.16837721732769406,
          0.19608166769436702,
          0.19831417102476184,
          0.21329066213274295,
          0.2211973669889394,
          0.23094884707305588,
          0.23766078804717114,
          0.24581156271374235
         ]
        },
        {
         "name": "Max",
         "type": "scatter",
         "x": [
          3,
          10,
          30,
          60,
          90,
          120,
          150,
          180,
          210,
          240,
          300,
          360
         ],
         "y": [
          2.0067372970258024,
          1.522361889927427,
          1.103073607905647,
          0.8362286930230306,
          0.7258578194482157,
          0.6573768304934933,
          0.6178833899076762,
          0.585622577409591,
          0.5648309599052441,
          0.5433880420154158,
          0.4995350868326746,
          0.4644756464862427
         ]
        },
        {
         "name": "Median",
         "type": "scatter",
         "x": [
          3,
          10,
          30,
          60,
          90,
          120,
          150,
          180,
          210,
          240,
          300,
          360
         ],
         "y": [
          0.2757502923988345,
          0.2862129574647181,
          0.3041738083326139,
          0.31746388997350705,
          0.34008346460451255,
          0.35321459888976126,
          0.37581115822220873,
          0.3717006736631095,
          0.37572235973691853,
          0.3677993396517425,
          0.3810712546239064,
          0.39532760110031895
         ]
        },
        {
         "name": "Upper 75%",
         "type": "scatter",
         "x": [
          3,
          10,
          30,
          60,
          90,
          120,
          150,
          180,
          210,
          240,
          300,
          360
         ],
         "y": [
          0.3914666292190817,
          0.4033450151648064,
          0.4274664980889253,
          0.44574507957796866,
          0.4569999383460406,
          0.45388833775296855,
          0.45445206231346263,
          0.4539489293811129,
          0.4584763526479488,
          0.4590594631291045,
          0.450390777043208,
          0.44635625793315925
         ]
        },
        {
         "name": "Lower 25%",
         "type": "scatter",
         "x": [
          3,
          10,
          30,
          60,
          90,
          120,
          150,
          180,
          210,
          240,
          300,
          360
         ],
         "y": [
          0.19182938328607163,
          0.21025720856428376,
          0.2271811517819139,
          0.23460140120922507,
          0.23876188435094658,
          0.24886285822036958,
          0.25665136219580437,
          0.25889534992699414,
          0.26869656606764314,
          0.29271950615376424,
          0.3217647694192436,
          0.33811092444586116
         ]
        },
        {
         "name": "Realized",
         "type": "scatter",
         "x": [
          3,
          10,
          30,
          60,
          90,
          120,
          150,
          180,
          210,
          240,
          300,
          360
         ],
         "y": [
          0.12852625765259776,
          0.2169649043695963,
          0.18653449157699273,
          0.17725754037109415,
          0.19541564030218658,
          0.1963134047058296,
          0.19906207393456946,
          0.21772458709898054,
          0.23911630959427263,
          0.2581390034684052,
          0.3135921099575356,
          0.3287978930426396
         ]
        }
       ],
       "layout": {
        "bargap": 0,
        "bargroupgap": 0,
        "barmode": "overlay",
        "legend": {
         "groupclick": "toggleitem",
         "orientation": "v",
         "tracegroupgap": 133.33333333333334,
         "x": 1,
         "xanchor": "right",
         "y": 1,
         "yanchor": "top"
        },
        "margin": {
         "b": 80,
         "l": 40,
         "r": 50,
         "t": 40
        },
        "modebar": {
         "activecolor": "#d1030d",
         "bgcolor": "#2A2A2A",
         "color": "#FFFFFF",
         "orientation": "v"
        },
        "newshape": {
         "line": {
          "color": "gold"
         }
        },
        "template": {
         "data": {
          "bar": [
           {
            "error_x": {
             "color": "#f2f5fa"
            },
            "error_y": {
             "color": "#f2f5fa"
            },
            "marker": {
             "line": {
              "color": "rgb(17,17,17)",
              "width": 0.5
             },
             "pattern": {
              "fillmode": "overlay",
              "size": 10,
              "solidity": 0.2
             }
            },
            "type": "bar"
           }
          ],
          "barpolar": [
           {
            "marker": {
             "line": {
              "color": "rgb(17,17,17)",
              "width": 0.5
             },
             "pattern": {
              "fillmode": "overlay",
              "size": 10,
              "solidity": 0.2
             }
            },
            "type": "barpolar"
           }
          ],
          "candlestick": [
           {
            "decreasing": {
             "fillcolor": "#e4003a",
             "line": {
              "color": "#e4003a"
             }
            },
            "increasing": {
             "fillcolor": "#00ACFF",
             "line": {
              "color": "#00ACFF"
             }
            },
            "type": "candlestick"
           }
          ],
          "carpet": [
           {
            "aaxis": {
             "endlinecolor": "#A2B1C6",
             "gridcolor": "#506784",
             "linecolor": "#506784",
             "minorgridcolor": "#506784",
             "startlinecolor": "#A2B1C6"
            },
            "baxis": {
             "endlinecolor": "#A2B1C6",
             "gridcolor": "#506784",
             "linecolor": "#506784",
             "minorgridcolor": "#506784",
             "startlinecolor": "#A2B1C6"
            },
            "type": "carpet"
           }
          ],
          "choropleth": [
           {
            "colorbar": {
             "outlinewidth": 0,
             "ticks": ""
            },
            "type": "choropleth"
           }
          ],
          "contour": [
           {
            "colorbar": {
             "outlinewidth": 0,
             "ticks": ""
            },
            "colorscale": [
             [
              0,
              "#0d0887"
             ],
             [
              0.1111111111111111,
              "#46039f"
             ],
             [
              0.2222222222222222,
              "#7201a8"
             ],
             [
              0.3333333333333333,
              "#9c179e"
             ],
             [
              0.4444444444444444,
              "#bd3786"
             ],
             [
              0.5555555555555556,
              "#d8576b"
             ],
             [
              0.6666666666666666,
              "#ed7953"
             ],
             [
              0.7777777777777778,
              "#fb9f3a"
             ],
             [
              0.8888888888888888,
              "#fdca26"
             ],
             [
              1,
              "#f0f921"
             ]
            ],
            "type": "contour"
           }
          ],
          "contourcarpet": [
           {
            "colorbar": {
             "outlinewidth": 0,
             "ticks": ""
            },
            "type": "contourcarpet"
           }
          ],
          "heatmap": [
           {
            "colorbar": {
             "outlinewidth": 0,
             "ticks": ""
            },
            "colorscale": [
             [
              0,
              "#0d0887"
             ],
             [
              0.1111111111111111,
              "#46039f"
             ],
             [
              0.2222222222222222,
              "#7201a8"
             ],
             [
              0.3333333333333333,
              "#9c179e"
             ],
             [
              0.4444444444444444,
              "#bd3786"
             ],
             [
              0.5555555555555556,
              "#d8576b"
             ],
             [
              0.6666666666666666,
              "#ed7953"
             ],
             [
              0.7777777777777778,
              "#fb9f3a"
             ],
             [
              0.8888888888888888,
              "#fdca26"
             ],
             [
              1,
              "#f0f921"
             ]
            ],
            "type": "heatmap"
           }
          ],
          "heatmapgl": [
           {
            "colorbar": {
             "outlinewidth": 0,
             "ticks": ""
            },
            "colorscale": [
             [
              0,
              "#0d0887"
             ],
             [
              0.1111111111111111,
              "#46039f"
             ],
             [
              0.2222222222222222,
              "#7201a8"
             ],
             [
              0.3333333333333333,
              "#9c179e"
             ],
             [
              0.4444444444444444,
              "#bd3786"
             ],
             [
              0.5555555555555556,
              "#d8576b"
             ],
             [
              0.6666666666666666,
              "#ed7953"
             ],
             [
              0.7777777777777778,
              "#fb9f3a"
             ],
             [
              0.8888888888888888,
              "#fdca26"
             ],
             [
              1,
              "#f0f921"
             ]
            ],
            "type": "heatmapgl"
           }
          ],
          "histogram": [
           {
            "marker": {
             "pattern": {
              "fillmode": "overlay",
              "size": 10,
              "solidity": 0.2
             }
            },
            "type": "histogram"
           }
          ],
          "histogram2d": [
           {
            "colorbar": {
             "outlinewidth": 0,
             "ticks": ""
            },
            "colorscale": [
             [
              0,
              "#0d0887"
             ],
             [
              0.1111111111111111,
              "#46039f"
             ],
             [
              0.2222222222222222,
              "#7201a8"
             ],
             [
              0.3333333333333333,
              "#9c179e"
             ],
             [
              0.4444444444444444,
              "#bd3786"
             ],
             [
              0.5555555555555556,
              "#d8576b"
             ],
             [
              0.6666666666666666,
              "#ed7953"
             ],
             [
              0.7777777777777778,
              "#fb9f3a"
             ],
             [
              0.8888888888888888,
              "#fdca26"
             ],
             [
              1,
              "#f0f921"
             ]
            ],
            "type": "histogram2d"
           }
          ],
          "histogram2dcontour": [
           {
            "colorbar": {
             "outlinewidth": 0,
             "ticks": ""
            },
            "colorscale": [
             [
              0,
              "#0d0887"
             ],
             [
              0.1111111111111111,
              "#46039f"
             ],
             [
              0.2222222222222222,
              "#7201a8"
             ],
             [
              0.3333333333333333,
              "#9c179e"
             ],
             [
              0.4444444444444444,
              "#bd3786"
             ],
             [
              0.5555555555555556,
              "#d8576b"
             ],
             [
              0.6666666666666666,
              "#ed7953"
             ],
             [
              0.7777777777777778,
              "#fb9f3a"
             ],
             [
              0.8888888888888888,
              "#fdca26"
             ],
             [
              1,
              "#f0f921"
             ]
            ],
            "type": "histogram2dcontour"
           }
          ],
          "mesh3d": [
           {
            "colorbar": {
             "outlinewidth": 0,
             "ticks": ""
            },
            "type": "mesh3d"
           }
          ],
          "parcoords": [
           {
            "line": {
             "colorbar": {
              "outlinewidth": 0,
              "ticks": ""
             }
            },
            "type": "parcoords"
           }
          ],
          "pie": [
           {
            "automargin": true,
            "type": "pie"
           }
          ],
          "scatter": [
           {
            "marker": {
             "line": {
              "color": "#283442"
             }
            },
            "type": "scatter"
           }
          ],
          "scatter3d": [
           {
            "line": {
             "colorbar": {
              "outlinewidth": 0,
              "ticks": ""
             }
            },
            "marker": {
             "colorbar": {
              "outlinewidth": 0,
              "ticks": ""
             }
            },
            "type": "scatter3d"
           }
          ],
          "scattercarpet": [
           {
            "marker": {
             "colorbar": {
              "outlinewidth": 0,
              "ticks": ""
             }
            },
            "type": "scattercarpet"
           }
          ],
          "scattergeo": [
           {
            "marker": {
             "colorbar": {
              "outlinewidth": 0,
              "ticks": ""
             }
            },
            "type": "scattergeo"
           }
          ],
          "scattergl": [
           {
            "marker": {
             "line": {
              "color": "#283442"
             }
            },
            "type": "scattergl"
           }
          ],
          "scattermapbox": [
           {
            "marker": {
             "colorbar": {
              "outlinewidth": 0,
              "ticks": ""
             }
            },
            "type": "scattermapbox"
           }
          ],
          "scatterpolar": [
           {
            "marker": {
             "colorbar": {
              "outlinewidth": 0,
              "ticks": ""
             }
            },
            "type": "scatterpolar"
           }
          ],
          "scatterpolargl": [
           {
            "marker": {
             "colorbar": {
              "outlinewidth": 0,
              "ticks": ""
             }
            },
            "type": "scatterpolargl"
           }
          ],
          "scatterternary": [
           {
            "marker": {
             "colorbar": {
              "outlinewidth": 0,
              "ticks": ""
             }
            },
            "type": "scatterternary"
           }
          ],
          "surface": [
           {
            "colorbar": {
             "outlinewidth": 0,
             "ticks": ""
            },
            "colorscale": [
             [
              0,
              "#0d0887"
             ],
             [
              0.1111111111111111,
              "#46039f"
             ],
             [
              0.2222222222222222,
              "#7201a8"
             ],
             [
              0.3333333333333333,
              "#9c179e"
             ],
             [
              0.4444444444444444,
              "#bd3786"
             ],
             [
              0.5555555555555556,
              "#d8576b"
             ],
             [
              0.6666666666666666,
              "#ed7953"
             ],
             [
              0.7777777777777778,
              "#fb9f3a"
             ],
             [
              0.8888888888888888,
              "#fdca26"
             ],
             [
              1,
              "#f0f921"
             ]
            ],
            "type": "surface"
           }
          ],
          "table": [
           {
            "cells": {
             "fill": {
              "color": "#506784"
             },
             "line": {
              "color": "rgb(17,17,17)"
             }
            },
            "header": {
             "fill": {
              "color": "#2a3f5f"
             },
             "line": {
              "color": "rgb(17,17,17)"
             }
            },
            "type": "table"
           }
          ]
         },
         "layout": {
          "annotationdefaults": {
           "arrowcolor": "#f2f5fa",
           "arrowhead": 0,
           "arrowwidth": 1,
           "showarrow": false
          },
          "autotypenumbers": "strict",
          "coloraxis": {
           "colorbar": {
            "outlinewidth": 0,
            "ticks": ""
           }
          },
          "colorscale": {
           "diverging": [
            [
             0,
             "#8e0152"
            ],
            [
             0.1,
             "#c51b7d"
            ],
            [
             0.2,
             "#de77ae"
            ],
            [
             0.3,
             "#f1b6da"
            ],
            [
             0.4,
             "#fde0ef"
            ],
            [
             0.5,
             "#f7f7f7"
            ],
            [
             0.6,
             "#e6f5d0"
            ],
            [
             0.7,
             "#b8e186"
            ],
            [
             0.8,
             "#7fbc41"
            ],
            [
             0.9,
             "#4d9221"
            ],
            [
             1,
             "#276419"
            ]
           ],
           "sequential": [
            [
             0,
             "#0d0887"
            ],
            [
             0.1111111111111111,
             "#46039f"
            ],
            [
             0.2222222222222222,
             "#7201a8"
            ],
            [
             0.3333333333333333,
             "#9c179e"
            ],
            [
             0.4444444444444444,
             "#bd3786"
            ],
            [
             0.5555555555555556,
             "#d8576b"
            ],
            [
             0.6666666666666666,
             "#ed7953"
            ],
            [
             0.7777777777777778,
             "#fb9f3a"
            ],
            [
             0.8888888888888888,
             "#fdca26"
            ],
            [
             1,
             "#f0f921"
            ]
           ],
           "sequentialminus": [
            [
             0,
             "#0d0887"
            ],
            [
             0.1111111111111111,
             "#46039f"
            ],
            [
             0.2222222222222222,
             "#7201a8"
            ],
            [
             0.3333333333333333,
             "#9c179e"
            ],
            [
             0.4444444444444444,
             "#bd3786"
            ],
            [
             0.5555555555555556,
             "#d8576b"
            ],
            [
             0.6666666666666666,
             "#ed7953"
            ],
            [
             0.7777777777777778,
             "#fb9f3a"
            ],
            [
             0.8888888888888888,
             "#fdca26"
            ],
            [
             1,
             "#f0f921"
            ]
           ]
          },
          "colorway": [
           "#ffed00",
           "#ef7d00",
           "#e4003a",
           "#c13246",
           "#822661",
           "#48277c",
           "#005ca9",
           "#00aaff",
           "#9b30d9",
           "#af005f",
           "#5f00af",
           "#af87ff"
          ],
          "dragmode": "pan",
          "font": {
           "color": "#f2f5fa",
           "family": "Fira Code",
           "size": 18
          },
          "geo": {
           "bgcolor": "rgb(17,17,17)",
           "lakecolor": "rgb(17,17,17)",
           "landcolor": "rgb(17,17,17)",
           "showlakes": true,
           "showland": true,
           "subunitcolor": "#506784"
          },
          "hoverlabel": {
           "align": "left"
          },
          "hovermode": "x",
          "legend": {
           "bgcolor": "rgba(0, 0, 0, 0)",
           "font": {
            "size": 15
           },
           "x": 0.01,
           "xanchor": "left",
           "y": 0.99,
           "yanchor": "top"
          },
          "mapbox": {
           "style": "dark"
          },
          "paper_bgcolor": "#000000",
          "plot_bgcolor": "#000000",
          "polar": {
           "angularaxis": {
            "gridcolor": "#506784",
            "linecolor": "#506784",
            "ticks": ""
           },
           "bgcolor": "rgb(17,17,17)",
           "radialaxis": {
            "gridcolor": "#506784",
            "linecolor": "#506784",
            "ticks": ""
           }
          },
          "scene": {
           "xaxis": {
            "backgroundcolor": "rgb(17,17,17)",
            "gridcolor": "#506784",
            "gridwidth": 2,
            "linecolor": "#506784",
            "showbackground": true,
            "ticks": "",
            "zerolinecolor": "#C8D4E3"
           },
           "yaxis": {
            "backgroundcolor": "rgb(17,17,17)",
            "gridcolor": "#506784",
            "gridwidth": 2,
            "linecolor": "#506784",
            "showbackground": true,
            "ticks": "",
            "zerolinecolor": "#C8D4E3"
           },
           "zaxis": {
            "backgroundcolor": "rgb(17,17,17)",
            "gridcolor": "#506784",
            "gridwidth": 2,
            "linecolor": "#506784",
            "showbackground": true,
            "ticks": "",
            "zerolinecolor": "#C8D4E3"
           }
          },
          "shapedefaults": {
           "line": {
            "color": "#f2f5fa"
           }
          },
          "sliderdefaults": {
           "bgcolor": "#C8D4E3",
           "bordercolor": "rgb(17,17,17)",
           "borderwidth": 1,
           "tickwidth": 0
          },
          "ternary": {
           "aaxis": {
            "gridcolor": "#506784",
            "linecolor": "#506784",
            "ticks": ""
           },
           "baxis": {
            "gridcolor": "#506784",
            "linecolor": "#506784",
            "ticks": ""
           },
           "bgcolor": "rgb(17,17,17)",
           "caxis": {
            "gridcolor": "#506784",
            "linecolor": "#506784",
            "ticks": ""
           }
          },
          "title": {
           "x": 0.05
          },
          "updatemenudefaults": {
           "bgcolor": "#506784",
           "borderwidth": 0
          },
          "xaxis": {
           "automargin": true,
           "autorange": true,
           "gridcolor": "#283442",
           "linecolor": "#F5EFF3",
           "mirror": true,
           "rangeslider": {
            "visible": false
           },
           "showgrid": true,
           "showline": true,
           "tick0": 1,
           "tickfont": {
            "size": 14
           },
           "ticks": "outside",
           "title": {
            "standoff": 20
           },
           "zeroline": false,
           "zerolinecolor": "#283442",
           "zerolinewidth": 2
          },
          "yaxis": {
           "anchor": "x",
           "automargin": true,
           "fixedrange": false,
           "gridcolor": "#283442",
           "linecolor": "#F5EFF3",
           "mirror": true,
           "showgrid": true,
           "showline": true,
           "side": "right",
           "tick0": 0.5,
           "ticks": "outside",
           "title": {
            "standoff": 20
           },
           "zeroline": false,
           "zerolinecolor": "#283442",
           "zerolinewidth": 2
          }
         }
        },
        "title": {
         "text": "Weekly SPY - Realized Volatility Cones - Garman-Klass Model",
         "x": 0.5
        },
        "xaxis": {
         "tickmode": "array",
         "ticktext": [
          3,
          10,
          30,
          60,
          90,
          120,
          150,
          180,
          210,
          240,
          300,
          360
         ],
         "tickvals": [
          3,
          10,
          30,
          60,
          90,
          120,
          150,
          180,
          210,
          240,
          300,
          360
         ],
         "title": {
          "text": "Window of Time (in days)"
         }
        }
       }
      }
     },
     "metadata": {},
     "output_type": "display_data"
    }
   ],
   "source": [
    "openbb.ta.cones_chart(\n",
    "    data = openbb.stocks.load('SPY', weekly = True, start_date = '1990-01-01'),\n",
    "    symbol = 'Weekly SPY',\n",
    "    model = 'Garman-Klass',    \n",
    ")"
   ]
  },
  {
   "attachments": {},
   "cell_type": "markdown",
   "metadata": {},
   "source": [
    "## Advanced Use\n",
    "\n",
    "A chart or a table is nice and all, but what are we supposed to do with it? Becoming a Script-Kitty can start with simply being curious. Curiousity runs hot with motivation, keep those burning questions in mind to begin down the path towards answering them. Here's a really basic example of what curiousity can look like: \n",
    "\n",
    "### How can I compare the difference between all models within one table?"
   ]
  },
  {
   "cell_type": "code",
   "execution_count": 81,
   "metadata": {},
   "outputs": [
    {
     "data": {
      "text/html": [
       "<pre style=\"white-space:pre;overflow-x:auto;line-height:normal;font-family:Menlo,'DejaVu Sans Mono',consolas,'Courier New',monospace\">Loading Daily data for TLT with starting period 2002-07-30.\n",
       "</pre>\n"
      ],
      "text/plain": [
       "Loading Daily data for TLT with starting period 2002-07-30.\n"
      ]
     },
     "metadata": {},
     "output_type": "display_data"
    }
   ],
   "source": [
    "# Get some data - TLT is the iShares 20 Plus Year Treasury Bond ETF. \n",
    "\n",
    "data = openbb.stocks.load('TLT', start_date = '2000-01-01')"
   ]
  },
  {
   "cell_type": "code",
   "execution_count": 82,
   "metadata": {},
   "outputs": [
    {
     "data": {
      "image/png": "[encoded data removed]",
      "image/svg+xml": "<?xml version=\"1.0\" encoding=\"utf-8\" standalone=\"no\"?>\n<!DOCTYPE svg PUBLIC \"-//W3C//DTD SVG 1.1//EN\"\n  \"http://www.w3.org/Graphics/SVG/1.1/DTD/svg11.dtd\">\n<svg xmlns:xlink=\"http://www.w3.org/1999/xlink\" width=\"942.0925pt\" height=\"279.701963pt\" viewBox=\"0 0 942.0925 279.701963\" xmlns=\"http://www.w3.org/2000/svg\" version=\"1.1\">\n <metadata>\n  <rdf:RDF xmlns:dc=\"http://purl.org/dc/elements/1.1/\" xmlns:cc=\"http://creativecommons.org/ns#\" xmlns:rdf=\"http://www.w3.org/1999/02/22-rdf-syntax-ns#\">\n   <cc:Work>\n    <dc:type rdf:resource=\"http://purl.org/dc/dcmitype/StillImage\"/>\n    <dc:date>2023-03-02T16:43:23.380336</dc:date>\n    <dc:format>image/svg+xml</dc:format>\n    <dc:creator>\n     <cc:Agent>\n      <dc:title>Matplotlib v3.7.0, https://matplotlib.org/</dc:title>\n     </cc:Agent>\n    </dc:creator>\n   </cc:Work>\n  </rdf:RDF>\n </metadata>\n <defs>\n  <style type=\"text/css\">*{stroke-linejoin: round; stroke-linecap: butt}</style>\n </defs>\n <g id=\"figure_1\">\n  <g id=\"patch_1\">\n   <path d=\"M 0 279.701963 \nL 942.0925 279.701963 \nL 942.0925 0 \nL 0 0 \nz\n\"/>\n  </g>\n  <g id=\"axes_1\">\n   <g id=\"patch_2\">\n    <path d=\"M 7.2 239.0708 \nL 900 239.0708 \nL 900 43.2308 \nL 7.2 43.2308 \nz\n\" style=\"fill-opacity: 0.921569\"/>\n   </g>\n   <g id=\"matplotlib.axis_1\">\n    <g id=\"xtick_1\">\n     <g id=\"line2d_1\">\n      <path d=\"M 76.486648 239.0708 \nL 76.486648 43.2308 \n\" clip-path=\"url(#p7815d33497)\" style=\"fill: none; stroke-dasharray: 1.11,0.48; stroke-dashoffset: 0; stroke: #e1e1e1; stroke-opacity: 0.3; stroke-width: 0.3; stroke-linejoin: miter; stroke-linecap: square\"/>\n     </g>\n     <g id=\"text_1\">\n      <!-- 2004 -->\n      <g style=\"fill: #f5eff3\" transform=\"translate(49.76677 270.191682) rotate(-30) scale(0.13328 -0.13328)\">\n       <defs>\n        <path id=\"Consolas-32\" d=\"M 3150 0 \nL 459 0 \nL 459 488 \nL 1516 1538 \nQ 1775 1794 1937 1981 \nQ 2100 2169 2190 2323 \nQ 2281 2478 2312 2615 \nQ 2344 2753 2344 2913 \nQ 2344 3063 2303 3198 \nQ 2263 3334 2178 3437 \nQ 2094 3541 1959 3600 \nQ 1825 3659 1638 3659 \nQ 1378 3659 1165 3543 \nQ 953 3428 775 3244 \nL 475 3603 \nQ 706 3847 1007 3994 \nQ 1309 4141 1709 4141 \nQ 1981 4141 2204 4059 \nQ 2428 3978 2590 3825 \nQ 2753 3672 2842 3450 \nQ 2931 3228 2931 2950 \nQ 2931 2716 2868 2516 \nQ 2806 2316 2679 2117 \nQ 2553 1919 2361 1706 \nQ 2169 1494 1906 1241 \nL 1166 519 \nL 3150 519 \nL 3150 0 \nz\n\" transform=\"scale(0.015625)\"/>\n        <path id=\"Consolas-30\" d=\"M 3244 2041 \nQ 3244 1572 3150 1186 \nQ 3056 800 2865 523 \nQ 2675 247 2392 95 \nQ 2109 -56 1728 -56 \nQ 1400 -56 1131 67 \nQ 863 191 672 447 \nQ 481 703 378 1100 \nQ 275 1497 275 2041 \nQ 275 2509 370 2896 \nQ 466 3284 655 3561 \nQ 844 3838 1128 3989 \nQ 1413 4141 1791 4141 \nQ 2119 4141 2387 4017 \nQ 2656 3894 2847 3636 \nQ 3038 3378 3141 2981 \nQ 3244 2584 3244 2041 \nz\nM 2694 2022 \nQ 2694 2128 2686 2233 \nQ 2678 2338 2669 2438 \nL 941 1153 \nQ 988 991 1059 853 \nQ 1131 716 1232 617 \nQ 1334 519 1464 464 \nQ 1594 409 1759 409 \nQ 1972 409 2145 512 \nQ 2319 616 2441 819 \nQ 2563 1022 2628 1323 \nQ 2694 1625 2694 2022 \nz\nM 825 2059 \nQ 825 1963 826 1866 \nQ 828 1769 838 1678 \nL 2566 2956 \nQ 2519 3116 2447 3247 \nQ 2375 3378 2275 3473 \nQ 2175 3569 2047 3622 \nQ 1919 3675 1759 3675 \nQ 1547 3675 1373 3572 \nQ 1200 3469 1078 3264 \nQ 956 3059 890 2757 \nQ 825 2456 825 2059 \nz\n\" transform=\"scale(0.015625)\"/>\n        <path id=\"Consolas-34\" d=\"M 3353 903 \nL 2656 903 \nL 2656 0 \nL 2100 0 \nL 2100 903 \nL 134 903 \nL 134 1381 \nL 1875 4084 \nL 2656 4084 \nL 2656 1381 \nL 3353 1381 \nL 3353 903 \nz\nM 2100 3559 \nL 678 1381 \nL 2100 1381 \nL 2100 3559 \nz\n\" transform=\"scale(0.015625)\"/>\n       </defs>\n       <use xlink:href=\"#Consolas-32\"/>\n       <use xlink:href=\"#Consolas-30\" x=\"54.980469\"/>\n       <use xlink:href=\"#Consolas-30\" x=\"109.960938\"/>\n       <use xlink:href=\"#Consolas-34\" x=\"164.941406\"/>\n      </g>\n     </g>\n    </g>\n    <g id=\"xtick_2\">\n     <g id=\"line2d_2\">\n      <path d=\"M 161.58307 239.0708 \nL 161.58307 43.2308 \n\" clip-path=\"url(#p7815d33497)\" style=\"fill: none; stroke-dasharray: 1.11,0.48; stroke-dashoffset: 0; stroke: #e1e1e1; stroke-opacity: 0.3; stroke-width: 0.3; stroke-linejoin: miter; stroke-linecap: square\"/>\n     </g>\n     <g id=\"text_2\">\n      <!-- 2006 -->\n      <g style=\"fill: #f5eff3\" transform=\"translate(134.863193 270.191682) rotate(-30) scale(0.13328 -0.13328)\">\n       <defs>\n        <path id=\"Consolas-36\" d=\"M 3200 1294 \nQ 3200 1013 3098 766 \nQ 2997 519 2809 336 \nQ 2622 153 2358 48 \nQ 2094 -56 1772 -56 \nQ 1434 -56 1175 51 \nQ 916 159 741 382 \nQ 566 606 475 947 \nQ 384 1288 384 1753 \nQ 384 2066 425 2359 \nQ 466 2653 559 2912 \nQ 653 3172 809 3387 \nQ 966 3603 1198 3758 \nQ 1431 3913 1747 3998 \nQ 2063 4084 2478 4084 \nL 2881 4084 \nL 2881 3609 \nL 2444 3609 \nQ 2078 3609 1809 3521 \nQ 1541 3434 1359 3275 \nQ 1178 3116 1081 2891 \nQ 984 2666 959 2388 \nL 947 2259 \nQ 1144 2375 1401 2445 \nQ 1659 2516 1959 2516 \nQ 2269 2516 2501 2425 \nQ 2734 2334 2889 2173 \nQ 3044 2013 3122 1788 \nQ 3200 1563 3200 1294 \nz\nM 2631 1259 \nQ 2631 1447 2586 1598 \nQ 2541 1750 2444 1854 \nQ 2347 1959 2198 2017 \nQ 2050 2075 1844 2075 \nQ 1725 2075 1603 2053 \nQ 1481 2031 1364 1992 \nQ 1247 1953 1140 1903 \nQ 1034 1853 947 1797 \nQ 947 1394 1003 1123 \nQ 1059 853 1170 690 \nQ 1281 528 1443 459 \nQ 1606 391 1819 391 \nQ 1997 391 2145 448 \nQ 2294 506 2401 618 \nQ 2509 731 2570 892 \nQ 2631 1053 2631 1259 \nz\n\" transform=\"scale(0.015625)\"/>\n       </defs>\n       <use xlink:href=\"#Consolas-32\"/>\n       <use xlink:href=\"#Consolas-30\" x=\"54.980469\"/>\n       <use xlink:href=\"#Consolas-30\" x=\"109.960938\"/>\n       <use xlink:href=\"#Consolas-36\" x=\"164.941406\"/>\n      </g>\n     </g>\n    </g>\n    <g id=\"xtick_3\">\n     <g id=\"line2d_3\">\n      <path d=\"M 246.563082 239.0708 \nL 246.563082 43.2308 \n\" clip-path=\"url(#p7815d33497)\" style=\"fill: none; stroke-dasharray: 1.11,0.48; stroke-dashoffset: 0; stroke: #e1e1e1; stroke-opacity: 0.3; stroke-width: 0.3; stroke-linejoin: miter; stroke-linecap: square\"/>\n     </g>\n     <g id=\"text_3\">\n      <!-- 2008 -->\n      <g style=\"fill: #f5eff3\" transform=\"translate(219.843204 270.191682) rotate(-30) scale(0.13328 -0.13328)\">\n       <defs>\n        <path id=\"Consolas-38\" d=\"M 3150 1025 \nQ 3150 766 3044 564 \nQ 2938 363 2747 225 \nQ 2556 88 2297 16 \nQ 2038 -56 1734 -56 \nQ 1400 -56 1145 19 \nQ 891 94 719 228 \nQ 547 363 459 547 \nQ 372 731 372 953 \nQ 372 1328 581 1600 \nQ 791 1872 1228 2094 \nQ 828 2297 643 2545 \nQ 459 2794 459 3116 \nQ 459 3313 540 3497 \nQ 622 3681 786 3825 \nQ 950 3969 1197 4055 \nQ 1444 4141 1778 4141 \nQ 2094 4141 2333 4073 \nQ 2572 4006 2734 3881 \nQ 2897 3756 2978 3578 \nQ 3059 3400 3059 3181 \nQ 3059 2825 2861 2575 \nQ 2663 2325 2297 2138 \nQ 2478 2047 2634 1937 \nQ 2791 1828 2906 1693 \nQ 3022 1559 3086 1393 \nQ 3150 1228 3150 1025 \nz\nM 2503 3138 \nQ 2503 3416 2308 3552 \nQ 2113 3688 1759 3688 \nQ 1409 3688 1214 3553 \nQ 1019 3419 1019 3150 \nQ 1019 3028 1066 2925 \nQ 1113 2822 1211 2731 \nQ 1309 2641 1456 2553 \nQ 1603 2466 1806 2375 \nQ 2159 2541 2331 2720 \nQ 2503 2900 2503 3138 \nz\nM 2559 984 \nQ 2559 1100 2521 1209 \nQ 2484 1319 2387 1425 \nQ 2291 1531 2128 1637 \nQ 1966 1744 1716 1856 \nQ 1503 1753 1358 1651 \nQ 1213 1550 1123 1445 \nQ 1034 1341 996 1228 \nQ 959 1116 959 991 \nQ 959 850 1020 742 \nQ 1081 634 1187 559 \nQ 1294 484 1441 446 \nQ 1588 409 1759 409 \nQ 1925 409 2072 443 \nQ 2219 478 2326 548 \nQ 2434 619 2496 726 \nQ 2559 834 2559 984 \nz\n\" transform=\"scale(0.015625)\"/>\n       </defs>\n       <use xlink:href=\"#Consolas-32\"/>\n       <use xlink:href=\"#Consolas-30\" x=\"54.980469\"/>\n       <use xlink:href=\"#Consolas-30\" x=\"109.960938\"/>\n       <use xlink:href=\"#Consolas-38\" x=\"164.941406\"/>\n      </g>\n     </g>\n    </g>\n    <g id=\"xtick_4\">\n     <g id=\"line2d_4\">\n      <path d=\"M 331.659504 239.0708 \nL 331.659504 43.2308 \n\" clip-path=\"url(#p7815d33497)\" style=\"fill: none; stroke-dasharray: 1.11,0.48; stroke-dashoffset: 0; stroke: #e1e1e1; stroke-opacity: 0.3; stroke-width: 0.3; stroke-linejoin: miter; stroke-linecap: square\"/>\n     </g>\n     <g id=\"text_4\">\n      <!-- 2010 -->\n      <g style=\"fill: #f5eff3\" transform=\"translate(304.939626 270.191682) rotate(-30) scale(0.13328 -0.13328)\">\n       <defs>\n        <path id=\"Consolas-31\" d=\"M 3116 0 \nL 550 0 \nL 550 506 \nL 1600 506 \nL 1600 3488 \nL 622 2956 \nL 422 3419 \nL 1722 4103 \nL 2203 4103 \nL 2203 506 \nL 3116 506 \nL 3116 0 \nz\n\" transform=\"scale(0.015625)\"/>\n       </defs>\n       <use xlink:href=\"#Consolas-32\"/>\n       <use xlink:href=\"#Consolas-30\" x=\"54.980469\"/>\n       <use xlink:href=\"#Consolas-31\" x=\"109.960938\"/>\n       <use xlink:href=\"#Consolas-30\" x=\"164.941406\"/>\n      </g>\n     </g>\n    </g>\n    <g id=\"xtick_5\">\n     <g id=\"line2d_5\">\n      <path d=\"M 416.639516 239.0708 \nL 416.639516 43.2308 \n\" clip-path=\"url(#p7815d33497)\" style=\"fill: none; stroke-dasharray: 1.11,0.48; stroke-dashoffset: 0; stroke: #e1e1e1; stroke-opacity: 0.3; stroke-width: 0.3; stroke-linejoin: miter; stroke-linecap: square\"/>\n     </g>\n     <g id=\"text_5\">\n      <!-- 2012 -->\n      <g style=\"fill: #f5eff3\" transform=\"translate(389.919638 270.191682) rotate(-30) scale(0.13328 -0.13328)\">\n       <use xlink:href=\"#Consolas-32\"/>\n       <use xlink:href=\"#Consolas-30\" x=\"54.980469\"/>\n       <use xlink:href=\"#Consolas-31\" x=\"109.960938\"/>\n       <use xlink:href=\"#Consolas-32\" x=\"164.941406\"/>\n      </g>\n     </g>\n    </g>\n    <g id=\"xtick_6\">\n     <g id=\"line2d_6\">\n      <path d=\"M 501.735938 239.0708 \nL 501.735938 43.2308 \n\" clip-path=\"url(#p7815d33497)\" style=\"fill: none; stroke-dasharray: 1.11,0.48; stroke-dashoffset: 0; stroke: #e1e1e1; stroke-opacity: 0.3; stroke-width: 0.3; stroke-linejoin: miter; stroke-linecap: square\"/>\n     </g>\n     <g id=\"text_6\">\n      <!-- 2014 -->\n      <g style=\"fill: #f5eff3\" transform=\"translate(475.01606 270.191682) rotate(-30) scale(0.13328 -0.13328)\">\n       <use xlink:href=\"#Consolas-32\"/>\n       <use xlink:href=\"#Consolas-30\" x=\"54.980469\"/>\n       <use xlink:href=\"#Consolas-31\" x=\"109.960938\"/>\n       <use xlink:href=\"#Consolas-34\" x=\"164.941406\"/>\n      </g>\n     </g>\n    </g>\n    <g id=\"xtick_7\">\n     <g id=\"line2d_7\">\n      <path d=\"M 586.715949 239.0708 \nL 586.715949 43.2308 \n\" clip-path=\"url(#p7815d33497)\" style=\"fill: none; stroke-dasharray: 1.11,0.48; stroke-dashoffset: 0; stroke: #e1e1e1; stroke-opacity: 0.3; stroke-width: 0.3; stroke-linejoin: miter; stroke-linecap: square\"/>\n     </g>\n     <g id=\"text_7\">\n      <!-- 2016 -->\n      <g style=\"fill: #f5eff3\" transform=\"translate(559.996072 270.191682) rotate(-30) scale(0.13328 -0.13328)\">\n       <use xlink:href=\"#Consolas-32\"/>\n       <use xlink:href=\"#Consolas-30\" x=\"54.980469\"/>\n       <use xlink:href=\"#Consolas-31\" x=\"109.960938\"/>\n       <use xlink:href=\"#Consolas-36\" x=\"164.941406\"/>\n      </g>\n     </g>\n    </g>\n    <g id=\"xtick_8\">\n     <g id=\"line2d_8\">\n      <path d=\"M 671.812372 239.0708 \nL 671.812372 43.2308 \n\" clip-path=\"url(#p7815d33497)\" style=\"fill: none; stroke-dasharray: 1.11,0.48; stroke-dashoffset: 0; stroke: #e1e1e1; stroke-opacity: 0.3; stroke-width: 0.3; stroke-linejoin: miter; stroke-linecap: square\"/>\n     </g>\n     <g id=\"text_8\">\n      <!-- 2018 -->\n      <g style=\"fill: #f5eff3\" transform=\"translate(645.092494 270.191682) rotate(-30) scale(0.13328 -0.13328)\">\n       <use xlink:href=\"#Consolas-32\"/>\n       <use xlink:href=\"#Consolas-30\" x=\"54.980469\"/>\n       <use xlink:href=\"#Consolas-31\" x=\"109.960938\"/>\n       <use xlink:href=\"#Consolas-38\" x=\"164.941406\"/>\n      </g>\n     </g>\n    </g>\n    <g id=\"xtick_9\">\n     <g id=\"line2d_9\">\n      <path d=\"M 756.792383 239.0708 \nL 756.792383 43.2308 \n\" clip-path=\"url(#p7815d33497)\" style=\"fill: none; stroke-dasharray: 1.11,0.48; stroke-dashoffset: 0; stroke: #e1e1e1; stroke-opacity: 0.3; stroke-width: 0.3; stroke-linejoin: miter; stroke-linecap: square\"/>\n     </g>\n     <g id=\"text_9\">\n      <!-- 2020 -->\n      <g style=\"fill: #f5eff3\" transform=\"translate(730.072505 270.191682) rotate(-30) scale(0.13328 -0.13328)\">\n       <use xlink:href=\"#Consolas-32\"/>\n       <use xlink:href=\"#Consolas-30\" x=\"54.980469\"/>\n       <use xlink:href=\"#Consolas-32\" x=\"109.960938\"/>\n       <use xlink:href=\"#Consolas-30\" x=\"164.941406\"/>\n      </g>\n     </g>\n    </g>\n    <g id=\"xtick_10\">\n     <g id=\"line2d_10\">\n      <path d=\"M 841.888806 239.0708 \nL 841.888806 43.2308 \n\" clip-path=\"url(#p7815d33497)\" style=\"fill: none; stroke-dasharray: 1.11,0.48; stroke-dashoffset: 0; stroke: #e1e1e1; stroke-opacity: 0.3; stroke-width: 0.3; stroke-linejoin: miter; stroke-linecap: square\"/>\n     </g>\n     <g id=\"text_10\">\n      <!-- 2022 -->\n      <g style=\"fill: #f5eff3\" transform=\"translate(815.168928 270.191682) rotate(-30) scale(0.13328 -0.13328)\">\n       <use xlink:href=\"#Consolas-32\"/>\n       <use xlink:href=\"#Consolas-30\" x=\"54.980469\"/>\n       <use xlink:href=\"#Consolas-32\" x=\"109.960938\"/>\n       <use xlink:href=\"#Consolas-32\" x=\"164.941406\"/>\n      </g>\n     </g>\n    </g>\n    <g id=\"xtick_11\"/>\n    <g id=\"xtick_12\"/>\n    <g id=\"xtick_13\"/>\n    <g id=\"xtick_14\"/>\n    <g id=\"xtick_15\"/>\n    <g id=\"xtick_16\"/>\n    <g id=\"xtick_17\"/>\n    <g id=\"xtick_18\"/>\n    <g id=\"xtick_19\"/>\n    <g id=\"xtick_20\"/>\n    <g id=\"xtick_21\"/>\n    <g id=\"xtick_22\"/>\n    <g id=\"xtick_23\"/>\n    <g id=\"xtick_24\"/>\n    <g id=\"xtick_25\"/>\n    <g id=\"xtick_26\"/>\n    <g id=\"xtick_27\"/>\n    <g id=\"xtick_28\"/>\n    <g id=\"xtick_29\"/>\n    <g id=\"xtick_30\"/>\n    <g id=\"xtick_31\"/>\n    <g id=\"xtick_32\"/>\n    <g id=\"xtick_33\"/>\n    <g id=\"xtick_34\"/>\n    <g id=\"xtick_35\"/>\n    <g id=\"xtick_36\"/>\n    <g id=\"xtick_37\"/>\n    <g id=\"xtick_38\"/>\n    <g id=\"xtick_39\"/>\n    <g id=\"xtick_40\"/>\n    <g id=\"xtick_41\"/>\n    <g id=\"xtick_42\"/>\n    <g id=\"xtick_43\"/>\n    <g id=\"xtick_44\"/>\n    <g id=\"xtick_45\"/>\n    <g id=\"xtick_46\"/>\n    <g id=\"xtick_47\"/>\n    <g id=\"xtick_48\"/>\n    <g id=\"xtick_49\"/>\n    <g id=\"xtick_50\"/>\n    <g id=\"xtick_51\"/>\n   </g>\n   <g id=\"matplotlib.axis_2\">\n    <g id=\"ytick_1\">\n     <g id=\"line2d_11\">\n      <path d=\"M 7.2 217.11582 \nL 900 217.11582 \n\" clip-path=\"url(#p7815d33497)\" style=\"fill: none; stroke-dasharray: 1.11,0.48; stroke-dashoffset: 0; stroke: #e1e1e1; stroke-opacity: 0.3; stroke-width: 0.3; stroke-linejoin: miter; stroke-linecap: square\"/>\n     </g>\n     <g id=\"line2d_12\">\n      <defs>\n       <path id=\"m34d1f37a0e\" d=\"M 0 0 \nL 5 0 \n\" style=\"stroke: #f5eff3; stroke-width: 0.5\"/>\n      </defs>\n      <g>\n       <use xlink:href=\"#m34d1f37a0e\" x=\"900\" y=\"217.11582\" style=\"fill: #f5eff3; stroke: #f5eff3; stroke-width: 0.5\"/>\n      </g>\n     </g>\n     <g id=\"text_11\">\n      <!-- 50 -->\n      <g style=\"fill: #f5eff3\" transform=\"translate(908.5 221.03457) scale(0.16 -0.16)\">\n       <defs>\n        <path id=\"Consolas-35\" d=\"M 3047 1306 \nQ 3047 1003 2915 753 \nQ 2784 503 2554 323 \nQ 2325 144 2012 44 \nQ 1700 -56 1338 -56 \nQ 1247 -56 1142 -51 \nQ 1038 -47 934 -39 \nQ 831 -31 732 -22 \nQ 634 -13 556 0 \nL 556 494 \nQ 725 453 942 434 \nQ 1159 416 1381 416 \nQ 1631 416 1831 475 \nQ 2031 534 2172 645 \nQ 2313 756 2388 914 \nQ 2463 1072 2463 1269 \nQ 2463 1650 2189 1823 \nQ 1916 1997 1403 1997 \nL 628 1997 \nL 628 4084 \nL 2828 4084 \nL 2828 3609 \nL 1141 3609 \nL 1141 2463 \nL 1497 2463 \nQ 1791 2463 2069 2409 \nQ 2347 2356 2564 2223 \nQ 2781 2091 2914 1867 \nQ 3047 1644 3047 1306 \nz\n\" transform=\"scale(0.015625)\"/>\n       </defs>\n       <use xlink:href=\"#Consolas-35\"/>\n       <use xlink:href=\"#Consolas-30\" x=\"54.980469\"/>\n      </g>\n     </g>\n    </g>\n    <g id=\"ytick_2\">\n     <g id=\"line2d_13\">\n      <path d=\"M 7.2 180.737942 \nL 900 180.737942 \n\" clip-path=\"url(#p7815d33497)\" style=\"fill: none; stroke-dasharray: 1.11,0.48; stroke-dashoffset: 0; stroke: #e1e1e1; stroke-opacity: 0.3; stroke-width: 0.3; stroke-linejoin: miter; stroke-linecap: square\"/>\n     </g>\n     <g id=\"line2d_14\">\n      <g>\n       <use xlink:href=\"#m34d1f37a0e\" x=\"900\" y=\"180.737942\" style=\"fill: #f5eff3; stroke: #f5eff3; stroke-width: 0.5\"/>\n      </g>\n     </g>\n     <g id=\"text_12\">\n      <!-- 75 -->\n      <g style=\"fill: #f5eff3\" transform=\"translate(908.5 184.656692) scale(0.16 -0.16)\">\n       <defs>\n        <path id=\"Consolas-37\" d=\"M 3128 3578 \nL 1416 0 \nL 794 0 \nL 2572 3578 \nL 366 3578 \nL 366 4084 \nL 3128 4084 \nL 3128 3578 \nz\n\" transform=\"scale(0.015625)\"/>\n       </defs>\n       <use xlink:href=\"#Consolas-37\"/>\n       <use xlink:href=\"#Consolas-35\" x=\"54.980469\"/>\n      </g>\n     </g>\n    </g>\n    <g id=\"ytick_3\">\n     <g id=\"line2d_15\">\n      <path d=\"M 7.2 144.360064 \nL 900 144.360064 \n\" clip-path=\"url(#p7815d33497)\" style=\"fill: none; stroke-dasharray: 1.11,0.48; stroke-dashoffset: 0; stroke: #e1e1e1; stroke-opacity: 0.3; stroke-width: 0.3; stroke-linejoin: miter; stroke-linecap: square\"/>\n     </g>\n     <g id=\"line2d_16\">\n      <g>\n       <use xlink:href=\"#m34d1f37a0e\" x=\"900\" y=\"144.360064\" style=\"fill: #f5eff3; stroke: #f5eff3; stroke-width: 0.5\"/>\n      </g>\n     </g>\n     <g id=\"text_13\">\n      <!-- 100 -->\n      <g style=\"fill: #f5eff3\" transform=\"translate(908.5 148.278814) scale(0.16 -0.16)\">\n       <use xlink:href=\"#Consolas-31\"/>\n       <use xlink:href=\"#Consolas-30\" x=\"54.980469\"/>\n       <use xlink:href=\"#Consolas-30\" x=\"109.960938\"/>\n      </g>\n     </g>\n    </g>\n    <g id=\"ytick_4\">\n     <g id=\"line2d_17\">\n      <path d=\"M 7.2 107.982186 \nL 900 107.982186 \n\" clip-path=\"url(#p7815d33497)\" style=\"fill: none; stroke-dasharray: 1.11,0.48; stroke-dashoffset: 0; stroke: #e1e1e1; stroke-opacity: 0.3; stroke-width: 0.3; stroke-linejoin: miter; stroke-linecap: square\"/>\n     </g>\n     <g id=\"line2d_18\">\n      <g>\n       <use xlink:href=\"#m34d1f37a0e\" x=\"900\" y=\"107.982186\" style=\"fill: #f5eff3; stroke: #f5eff3; stroke-width: 0.5\"/>\n      </g>\n     </g>\n     <g id=\"text_14\">\n      <!-- 125 -->\n      <g style=\"fill: #f5eff3\" transform=\"translate(908.5 111.900936) scale(0.16 -0.16)\">\n       <use xlink:href=\"#Consolas-31\"/>\n       <use xlink:href=\"#Consolas-32\" x=\"54.980469\"/>\n       <use xlink:href=\"#Consolas-35\" x=\"109.960938\"/>\n      </g>\n     </g>\n    </g>\n    <g id=\"ytick_5\">\n     <g id=\"line2d_19\">\n      <path d=\"M 7.2 71.604308 \nL 900 71.604308 \n\" clip-path=\"url(#p7815d33497)\" style=\"fill: none; stroke-dasharray: 1.11,0.48; stroke-dashoffset: 0; stroke: #e1e1e1; stroke-opacity: 0.3; stroke-width: 0.3; stroke-linejoin: miter; stroke-linecap: square\"/>\n     </g>\n     <g id=\"line2d_20\">\n      <g>\n       <use xlink:href=\"#m34d1f37a0e\" x=\"900\" y=\"71.604308\" style=\"fill: #f5eff3; stroke: #f5eff3; stroke-width: 0.5\"/>\n      </g>\n     </g>\n     <g id=\"text_15\">\n      <!-- 150 -->\n      <g style=\"fill: #f5eff3\" transform=\"translate(908.5 75.523058) scale(0.16 -0.16)\">\n       <use xlink:href=\"#Consolas-31\"/>\n       <use xlink:href=\"#Consolas-35\" x=\"54.980469\"/>\n       <use xlink:href=\"#Consolas-30\" x=\"109.960938\"/>\n      </g>\n     </g>\n    </g>\n    <g id=\"ytick_6\">\n     <g id=\"line2d_21\">\n      <defs>\n       <path id=\"m2c62df1983\" d=\"M 0 0 \nL 2.5 0 \n\" style=\"stroke: #f5eff3; stroke-width: 0.25\"/>\n      </defs>\n      <g>\n       <use xlink:href=\"#m2c62df1983\" x=\"900\" y=\"238.942547\" style=\"fill: #f5eff3; stroke: #f5eff3; stroke-width: 0.25\"/>\n      </g>\n     </g>\n    </g>\n    <g id=\"ytick_7\">\n     <g id=\"line2d_22\">\n      <g>\n       <use xlink:href=\"#m2c62df1983\" x=\"900\" y=\"231.666972\" style=\"fill: #f5eff3; stroke: #f5eff3; stroke-width: 0.25\"/>\n      </g>\n     </g>\n    </g>\n    <g id=\"ytick_8\">\n     <g id=\"line2d_23\">\n      <g>\n       <use xlink:href=\"#m2c62df1983\" x=\"900\" y=\"224.391396\" style=\"fill: #f5eff3; stroke: #f5eff3; stroke-width: 0.25\"/>\n      </g>\n     </g>\n    </g>\n    <g id=\"ytick_9\">\n     <g id=\"line2d_24\">\n      <g>\n       <use xlink:href=\"#m2c62df1983\" x=\"900\" y=\"209.840245\" style=\"fill: #f5eff3; stroke: #f5eff3; stroke-width: 0.25\"/>\n      </g>\n     </g>\n    </g>\n    <g id=\"ytick_10\">\n     <g id=\"line2d_25\">\n      <g>\n       <use xlink:href=\"#m2c62df1983\" x=\"900\" y=\"202.564669\" style=\"fill: #f5eff3; stroke: #f5eff3; stroke-width: 0.25\"/>\n      </g>\n     </g>\n    </g>\n    <g id=\"ytick_11\">\n     <g id=\"line2d_26\">\n      <g>\n       <use xlink:href=\"#m2c62df1983\" x=\"900\" y=\"195.289093\" style=\"fill: #f5eff3; stroke: #f5eff3; stroke-width: 0.25\"/>\n      </g>\n     </g>\n    </g>\n    <g id=\"ytick_12\">\n     <g id=\"line2d_27\">\n      <g>\n       <use xlink:href=\"#m2c62df1983\" x=\"900\" y=\"188.013518\" style=\"fill: #f5eff3; stroke: #f5eff3; stroke-width: 0.25\"/>\n      </g>\n     </g>\n    </g>\n    <g id=\"ytick_13\">\n     <g id=\"line2d_28\">\n      <g>\n       <use xlink:href=\"#m2c62df1983\" x=\"900\" y=\"173.462367\" style=\"fill: #f5eff3; stroke: #f5eff3; stroke-width: 0.25\"/>\n      </g>\n     </g>\n    </g>\n    <g id=\"ytick_14\">\n     <g id=\"line2d_29\">\n      <g>\n       <use xlink:href=\"#m2c62df1983\" x=\"900\" y=\"166.186791\" style=\"fill: #f5eff3; stroke: #f5eff3; stroke-width: 0.25\"/>\n      </g>\n     </g>\n    </g>\n    <g id=\"ytick_15\">\n     <g id=\"line2d_30\">\n      <g>\n       <use xlink:href=\"#m2c62df1983\" x=\"900\" y=\"158.911215\" style=\"fill: #f5eff3; stroke: #f5eff3; stroke-width: 0.25\"/>\n      </g>\n     </g>\n    </g>\n    <g id=\"ytick_16\">\n     <g id=\"line2d_31\">\n      <g>\n       <use xlink:href=\"#m2c62df1983\" x=\"900\" y=\"151.63564\" style=\"fill: #f5eff3; stroke: #f5eff3; stroke-width: 0.25\"/>\n      </g>\n     </g>\n    </g>\n    <g id=\"ytick_17\">\n     <g id=\"line2d_32\">\n      <g>\n       <use xlink:href=\"#m2c62df1983\" x=\"900\" y=\"137.084489\" style=\"fill: #f5eff3; stroke: #f5eff3; stroke-width: 0.25\"/>\n      </g>\n     </g>\n    </g>\n    <g id=\"ytick_18\">\n     <g id=\"line2d_33\">\n      <g>\n       <use xlink:href=\"#m2c62df1983\" x=\"900\" y=\"129.808913\" style=\"fill: #f5eff3; stroke: #f5eff3; stroke-width: 0.25\"/>\n      </g>\n     </g>\n    </g>\n    <g id=\"ytick_19\">\n     <g id=\"line2d_34\">\n      <g>\n       <use xlink:href=\"#m2c62df1983\" x=\"900\" y=\"122.533337\" style=\"fill: #f5eff3; stroke: #f5eff3; stroke-width: 0.25\"/>\n      </g>\n     </g>\n    </g>\n    <g id=\"ytick_20\">\n     <g id=\"line2d_35\">\n      <g>\n       <use xlink:href=\"#m2c62df1983\" x=\"900\" y=\"115.257762\" style=\"fill: #f5eff3; stroke: #f5eff3; stroke-width: 0.25\"/>\n      </g>\n     </g>\n    </g>\n    <g id=\"ytick_21\">\n     <g id=\"line2d_36\">\n      <g>\n       <use xlink:href=\"#m2c62df1983\" x=\"900\" y=\"100.706611\" style=\"fill: #f5eff3; stroke: #f5eff3; stroke-width: 0.25\"/>\n      </g>\n     </g>\n    </g>\n    <g id=\"ytick_22\">\n     <g id=\"line2d_37\">\n      <g>\n       <use xlink:href=\"#m2c62df1983\" x=\"900\" y=\"93.431035\" style=\"fill: #f5eff3; stroke: #f5eff3; stroke-width: 0.25\"/>\n      </g>\n     </g>\n    </g>\n    <g id=\"ytick_23\">\n     <g id=\"line2d_38\">\n      <g>\n       <use xlink:href=\"#m2c62df1983\" x=\"900\" y=\"86.155459\" style=\"fill: #f5eff3; stroke: #f5eff3; stroke-width: 0.25\"/>\n      </g>\n     </g>\n    </g>\n    <g id=\"ytick_24\">\n     <g id=\"line2d_39\">\n      <g>\n       <use xlink:href=\"#m2c62df1983\" x=\"900\" y=\"78.879884\" style=\"fill: #f5eff3; stroke: #f5eff3; stroke-width: 0.25\"/>\n      </g>\n     </g>\n    </g>\n    <g id=\"ytick_25\">\n     <g id=\"line2d_40\">\n      <g>\n       <use xlink:href=\"#m2c62df1983\" x=\"900\" y=\"64.328733\" style=\"fill: #f5eff3; stroke: #f5eff3; stroke-width: 0.25\"/>\n      </g>\n     </g>\n    </g>\n    <g id=\"ytick_26\">\n     <g id=\"line2d_41\">\n      <g>\n       <use xlink:href=\"#m2c62df1983\" x=\"900\" y=\"57.053157\" style=\"fill: #f5eff3; stroke: #f5eff3; stroke-width: 0.25\"/>\n      </g>\n     </g>\n    </g>\n    <g id=\"ytick_27\">\n     <g id=\"line2d_42\">\n      <g>\n       <use xlink:href=\"#m2c62df1983\" x=\"900\" y=\"49.777581\" style=\"fill: #f5eff3; stroke: #f5eff3; stroke-width: 0.25\"/>\n      </g>\n     </g>\n    </g>\n   </g>\n   <g id=\"line2d_43\">\n    <path d=\"M 15.952941 230.168982 \nL 17.117051 227.708163 \nL 18.397572 226.690186 \nL 18.513983 227.027105 \nL 18.630394 227.576381 \nL 18.746805 226.961161 \nL 19.328859 226.983142 \nL 20.260147 224.778222 \nL 20.376558 225.543136 \nL 20.958613 225.668163 \nL 21.075024 225.16805 \nL 22.471956 223.174789 \nL 23.286833 224.20546 \nL 23.519655 223.991281 \nL 24.21812 223.312077 \nL 24.334531 223.836291 \nL 25.731463 227.631234 \nL 25.847874 227.60907 \nL 26.779162 225.83708 \nL 26.895573 226.104824 \nL 27.361217 226.631403 \nL 27.477628 226.379257 \nL 28.059683 223.924355 \nL 28.525326 225.266816 \nL 28.99097 224.740271 \nL 29.107381 225.378044 \nL 29.922258 226.831682 \nL 30.15508 226.423736 \nL 31.31919 225.314409 \nL 31.668423 224.770478 \nL 32.134067 225.888103 \nL 32.366889 225.388923 \nL 33.76382 223.38471 \nL 35.393574 225.71645 \nL 35.859218 224.765477 \nL 38.303848 223.432402 \nL 39.584369 223.808138 \nL 41.097712 221.809108 \nL 42.14541 221.085042 \nL 42.378232 222.020262 \nL 43.193109 224.96932 \nL 44.007986 223.687163 \nL 44.357219 222.819763 \nL 44.822863 223.934774 \nL 45.986973 223.957427 \nL 46.103384 223.601458 \nL 47.267493 222.518276 \nL 48.548014 221.92416 \nL 49.712124 218.505108 \nL 50.061357 218.748812 \nL 50.177768 217.697913 \nL 50.294179 217.705545 \nL 50.527001 216.883163 \nL 51.109055 218.322347 \nL 51.225466 217.697913 \nL 52.040343 218.142417 \nL 52.156754 217.882428 \nL 52.971631 215.557704 \nL 53.437275 216.842414 \nL 54.601385 219.465323 \nL 55.18344 219.310749 \nL 55.765494 220.769306 \nL 56.231138 220.17821 \nL 59.141413 226.614412 \nL 59.490646 225.357395 \nL 61.469632 226.082304 \nL 61.818865 225.210942 \nL 62.40092 226.308556 \nL 65.078372 222.714514 \nL 65.660427 221.53709 \nL 65.893249 222.10726 \nL 66.708126 224.495224 \nL 66.824537 224.106272 \nL 67.523003 225.389667 \nL 68.105058 224.433016 \nL 68.919935 223.328435 \nL 69.269168 223.608458 \nL 70.549688 224.703463 \nL 70.666099 224.227047 \nL 71.364565 222.251093 \nL 71.713798 222.313534 \nL 73.11073 223.73828 \nL 73.227141 223.589163 \nL 73.343552 222.529577 \nL 74.158428 222.757167 \nL 74.740483 222.121464 \nL 75.438949 222.490355 \nL 75.788182 221.603511 \nL 76.952292 223.460273 \nL 77.301525 222.482506 \nL 78.116402 220.298191 \nL 78.232813 220.787118 \nL 83.005663 220.272152 \nL 84.402594 217.709964 \nL 87.080047 218.912877 \nL 87.894923 221.195409 \nL 89.175444 222.528251 \nL 89.524677 222.416518 \nL 90.339554 223.390144 \nL 90.805198 223.034697 \nL 91.154431 223.851911 \nL 91.969308 225.254027 \nL 92.085719 224.725278 \nL 93.599061 223.106846 \nL 93.715472 223.291089 \nL 95.694459 224.857898 \nL 96.043692 223.305538 \nL 96.742158 223.474483 \nL 97.324212 223.691687 \nL 97.789856 221.753034 \nL 99.303199 221.736942 \nL 99.768843 220.783966 \nL 100.234487 221.268558 \nL 100.816542 222.504149 \nL 101.515007 221.194388 \nL 101.747829 220.967431 \nL 102.679117 219.629772 \nL 103.959638 220.075597 \nL 104.076049 219.832393 \nL 104.890926 218.640315 \nL 105.123748 219.332186 \nL 106.520679 218.754301 \nL 107.335556 216.873965 \nL 107.568378 217.077486 \nL 107.917611 216.760029 \nL 108.150433 217.761276 \nL 109.081721 218.928037 \nL 109.198132 217.988132 \nL 110.595063 216.680358 \nL 111.642762 216.770315 \nL 113.156105 218.52982 \nL 113.272516 217.758411 \nL 115.251502 218.218008 \nL 115.600735 218.921303 \nL 116.066379 217.569889 \nL 117.812544 216.383261 \nL 118.045366 216.869403 \nL 118.743832 217.569889 \nL 118.976654 216.624556 \nL 121.421284 214.589746 \nL 123.633093 211.723239 \nL 124.331558 212.976987 \nL 126.194134 215.292386 \nL 126.659778 214.184597 \nL 126.8926 216.125337 \nL 127.009011 215.675548 \nL 127.591066 216.241904 \nL 127.940299 216.017029 \nL 129.104408 216.799928 \nL 129.33723 216.000393 \nL 130.152107 215.16636 \nL 130.384929 215.50914 \nL 133.295204 212.398497 \nL 133.528025 212.901824 \nL 133.644436 213.472409 \nL 134.342902 212.314602 \nL 135.739834 210.644948 \nL 135.972656 211.223932 \nL 136.554711 210.166711 \nL 137.369588 208.601295 \nL 137.60241 209.056047 \nL 138.184464 210.967611 \nL 138.533697 210.437097 \nL 138.88293 210.571766 \nL 138.999341 209.990716 \nL 140.04704 208.441282 \nL 140.629095 210.188775 \nL 140.978328 209.909869 \nL 141.793205 210.467549 \nL 143.190136 211.109768 \nL 143.306547 210.408438 \nL 143.888602 211.741346 \nL 144.121424 211.520762 \nL 144.587068 212.275635 \nL 144.936301 211.52931 \nL 145.867589 210.333458 \nL 147.031699 209.646427 \nL 147.26452 208.459017 \nL 147.962986 209.451454 \nL 149.127096 211.485537 \nL 150.524028 210.77064 \nL 150.75685 211.400398 \nL 151.106083 212.013897 \nL 151.920959 211.44995 \nL 153.783535 213.586157 \nL 154.36559 213.158893 \nL 155.995344 213.642076 \nL 157.275864 212.191651 \nL 157.625097 211.805492 \nL 158.090741 212.724186 \nL 159.254851 212.83623 \nL 161.233837 210.144441 \nL 161.350248 210.326241 \nL 167.52003 210.999146 \nL 168.334907 210.521386 \nL 168.451318 211.000816 \nL 169.84825 212.979552 \nL 170.197482 212.186267 \nL 170.895948 212.534992 \nL 171.12877 212.2124 \nL 173.107757 215.269328 \nL 173.224168 215.00684 \nL 173.45699 215.986866 \nL 174.039045 215.584326 \nL 174.970332 216.380647 \nL 174.73751 215.37436 \nL 175.203154 216.231863 \nL 175.90162 216.873122 \nL 176.483675 216.433868 \nL 176.832908 217.26839 \nL 177.298552 216.433868 \nL 177.414963 216.890673 \nL 177.997018 215.546641 \nL 178.113429 215.590571 \nL 178.928306 215.933162 \nL 179.044717 216.372437 \nL 179.277538 215.091829 \nL 179.626771 215.188835 \nL 180.558059 214.156959 \nL 180.67447 214.915413 \nL 182.071402 216.441212 \nL 183.351923 215.243383 \nL 186.495019 213.602515 \nL 186.960663 213.095786 \nL 187.426307 213.958023 \nL 187.77554 214.091349 \nL 187.891951 213.45135 \nL 189.05606 212.144691 \nL 192.082746 210.951014 \nL 192.664801 209.273211 \nL 193.130444 210.076443 \nL 193.712499 209.38289 \nL 193.82891 209.947348 \nL 194.760198 211.775284 \nL 198.485349 208.748709 \nL 198.60176 209.054498 \nL 198.718171 209.423256 \nL 199.416637 208.505866 \nL 201.744857 207.875736 \nL 202.908966 209.16673 \nL 205.004364 208.911192 \nL 206.168474 210.161371 \nL 206.517707 209.971139 \nL 206.750528 210.505578 \nL 207.332583 211.311835 \nL 207.681816 210.655422 \nL 212.338255 207.431098 \nL 212.454666 207.80544 \nL 213.968009 208.837227 \nL 215.946995 210.030688 \nL 218.158804 208.523961 \nL 219.555736 208.96544 \nL 220.487023 210.087639 \nL 221.651133 210.836173 \nL 222.000366 210.476008 \nL 222.233188 211.011541 \nL 222.931654 213.828051 \nL 223.280887 212.590672 \nL 224.561408 212.0828 \nL 228.868614 208.584726 \nL 228.985025 208.045086 \nL 229.567079 209.692176 \nL 234.223518 205.458585 \nL 234.339929 206.093922 \nL 234.572751 208.439245 \nL 235.387628 207.159136 \nL 236.202505 206.160881 \nL 236.318916 207.061369 \nL 237.599437 207.624167 \nL 237.715848 206.723679 \nL 238.530725 204.491121 \nL 239.22919 204.697495 \nL 239.345601 205.466712 \nL 239.578423 204.096791 \nL 240.160478 204.398273 \nL 240.276889 204.549027 \nL 240.3933 203.823551 \nL 242.023054 201.562346 \nL 242.372287 199.819365 \nL 243.303574 200.253756 \nL 244.467684 204.160448 \nL 245.049739 201.682038 \nL 245.631794 203.564522 \nL 245.864616 204.321283 \nL 246.097438 202.040016 \nL 249.007712 198.212574 \nL 249.124123 198.421579 \nL 249.939 200.292412 \nL 250.055411 199.656171 \nL 250.171822 199.113855 \nL 250.521055 200.047859 \nL 250.753877 199.638047 \nL 251.685165 202.973687 \nL 251.801576 202.306517 \nL 253.082096 203.040452 \nL 252.500041 201.668028 \nL 253.198507 202.964167 \nL 253.431329 200.066921 \nL 254.246206 201.647207 \nL 255.759549 196.912232 \nL 257.15648 199.638985 \nL 257.389302 199.245077 \nL 258.32059 197.96741 \nL 261.230865 202.185198 \nL 261.463687 201.018631 \nL 261.580097 200.690839 \nL 262.045741 201.799571 \nL 262.394974 201.327241 \nL 263.209851 201.394711 \nL 264.723194 203.172762 \nL 264.839605 202.050335 \nL 265.42166 202.824442 \nL 266.003715 203.859821 \nL 266.352947 203.472756 \nL 267.86629 200.267033 \nL 267.982701 200.461251 \nL 269.379633 199.616366 \nL 270.543743 202.335481 \nL 271.358619 200.652865 \nL 271.824263 201.520265 \nL 271.940674 201.880896 \nL 272.173496 200.204498 \nL 272.522729 201.062194 \nL 273.337606 198.830269 \nL 273.686839 199.093412 \nL 273.80325 199.151828 \nL 274.152483 198.245507 \nL 275.782236 196.083028 \nL 276.24788 197.002555 \nL 276.829935 193.529926 \nL 277.528401 198.313371 \nL 277.877634 197.433016 \nL 279.041744 192.567391 \nL 279.274566 194.255075 \nL 280.322264 197.767736 \nL 280.671497 197.031819 \nL 281.02073 193.940976 \nL 281.719196 196.747245 \nL 281.952018 198.788161 \nL 282.534073 195.724422 \nL 282.650484 196.404187 \nL 283.465361 197.940955 \nL 283.34895 195.685034 \nL 283.581772 196.118486 \nL 284.047416 194.493072 \nL 285.560758 181.737257 \nL 287.423334 171.635524 \nL 287.656156 169.026004 \nL 288.471033 169.974873 \nL 288.820266 170.118761 \nL 288.936676 168.978167 \nL 289.285909 174.482397 \nL 289.751553 178.588253 \nL 290.450019 176.912181 \nL 290.56643 176.793149 \nL 290.799252 174.740255 \nL 291.381307 176.535336 \nL 292.545417 186.9783 \nL 292.89465 185.064088 \nL 293.127472 187.918166 \nL 293.243883 187.828642 \nL 293.360294 188.146804 \nL 293.709526 187.818728 \nL 293.942348 184.248494 \nL 294.17517 188.027517 \nL 294.757225 185.750225 \nL 295.33928 185.571189 \nL 295.804924 188.554546 \nL 296.50339 185.201904 \nL 296.969034 186.508312 \nL 297.900322 189.589741 \nL 298.133143 185.660601 \nL 298.94802 186.368653 \nL 299.646486 183.491906 \nL 299.762897 184.791898 \nL 300.577774 187.512234 \nL 301.159829 186.032162 \nL 301.392651 187.032232 \nL 301.858295 186.622171 \nL 302.323939 189.29235 \nL 302.673171 188.862305 \nL 303.837281 194.865233 \nL 303.953692 194.63444 \nL 304.652158 191.494772 \nL 305.350624 192.548052 \nL 306.165501 199.098529 \nL 306.398323 195.406904 \nL 307.795254 201.118197 \nL 307.911665 200.131893 \nL 309.65783 194.677315 \nL 310.938351 194.209791 \nL 311.054762 192.442953 \nL 311.753228 194.866043 \nL 312.800926 197.985761 \nL 313.732214 194.149254 \nL 313.26657 198.601631 \nL 314.197858 196.349523 \nL 314.547091 198.203326 \nL 315.012735 195.984789 \nL 315.129146 196.987712 \nL 316.060434 192.884954 \nL 316.176845 194.880608 \nL 317.573776 190.82783 \nL 317.690187 191.437521 \nL 318.388653 193.907016 \nL 318.621475 191.600138 \nL 319.087119 193.073682 \nL 319.785585 192.331848 \nL 320.600462 189.425337 \nL 320.833284 189.608358 \nL 320.949694 188.235151 \nL 321.531749 189.92742 \nL 321.764571 189.815215 \nL 322.579448 193.352633 \nL 322.695859 192.567691 \nL 323.161503 191.272939 \nL 323.510736 193.077368 \nL 323.859969 194.331277 \nL 324.092791 192.567691 \nL 324.209202 193.62791 \nL 324.325613 192.231245 \nL 324.907668 194.513988 \nL 325.14049 194.421933 \nL 325.955366 193.818547 \nL 327.58512 191.282154 \nL 327.934353 191.046943 \nL 328.050764 192.14776 \nL 328.167175 192.065775 \nL 329.214874 195.389974 \nL 329.91334 194.261347 \nL 330.029751 194.671709 \nL 331.19386 198.088207 \nL 331.543093 197.318097 \nL 333.056436 197.956403 \nL 333.172847 196.669406 \nL 333.987724 194.980767 \nL 334.104135 195.145538 \nL 335.501066 196.515737 \nL 336.083121 194.707523 \nL 336.432354 197.063359 \nL 337.014409 196.50539 \nL 337.13082 197.569683 \nL 337.363642 197.445694 \nL 337.712875 197.827929 \nL 338.876985 195.058534 \nL 339.57545 197.007268 \nL 339.808272 196.084715 \nL 340.157505 196.20912 \nL 340.273916 195.462812 \nL 340.972382 195.172526 \nL 341.088793 195.61828 \nL 341.787259 198.023107 \nL 342.136492 197.327317 \nL 342.602136 198.867171 \nL 343.06778 197.296138 \nL 346.094465 191.847283 \nL 346.210876 188.819542 \nL 346.909342 193.141879 \nL 347.025753 192.504945 \nL 347.957041 187.107335 \nL 348.306274 187.46231 \nL 348.422684 186.961204 \nL 348.655506 189.581692 \nL 348.771917 189.122317 \nL 349.237561 188.414165 \nL 349.353972 189.377944 \nL 349.470383 190.11123 \nL 349.586794 187.429482 \nL 349.936027 186.64373 \nL 350.168849 187.272327 \nL 350.28526 189.105598 \nL 351.100137 187.366614 \nL 351.565781 187.827521 \nL 351.682192 186.612357 \nL 352.729891 183.112962 \nL 352.846302 183.96407 \nL 353.311945 183.091902 \nL 353.428356 184.342292 \nL 354.126822 186.549 \nL 354.359644 184.468396 \nL 355.05811 182.661103 \nL 354.825288 184.605079 \nL 355.174521 183.901024 \nL 355.756576 186.212697 \nL 356.105809 184.289781 \nL 356.687864 185.972313 \nL 356.920686 184.34882 \nL 357.269919 184.738854 \nL 357.38633 184.517487 \nL 359.016083 176.273892 \nL 359.365316 178.814415 \nL 359.248905 175.578119 \nL 359.714549 176.684953 \nL 359.83096 175.430544 \nL 360.180193 180.355479 \nL 360.645837 178.114001 \nL 360.878659 181.19069 \nL 361.693536 182.808433 \nL 361.460714 180.112287 \nL 361.809947 182.374925 \nL 362.27559 180.24977 \nL 363.090467 177.77569 \nL 362.624823 180.440018 \nL 363.4397 178.853982 \nL 364.021755 177.845819 \nL 364.254577 179.267895 \nL 364.60381 179.246625 \nL 365.069454 183.4598 \nL 365.884331 182.281837 \nL 366.233564 181.974055 \nL 367.281262 184.557952 \nL 367.397673 183.738218 \nL 367.514084 185.558755 \nL 367.863317 185.090332 \nL 368.678194 189.998259 \nL 368.911016 188.081937 \nL 370.424359 185.100934 \nL 371.588468 190.357098 \nL 371.937701 189.983183 \nL 372.170523 192.718107 \nL 372.868989 189.67337 \nL 373.683866 191.667114 \nL 373.916688 190.080611 \nL 374.033099 188.976475 \nL 374.615154 191.828011 \nL 374.731565 191.399198 \nL 375.197209 190.337925 \nL 375.430031 191.667114 \nL 375.662853 191.420625 \nL 376.361318 192.535463 \nL 376.826962 191.72078 \nL 376.943373 190.788186 \nL 377.059784 192.288918 \nL 377.641839 192.085214 \nL 378.805949 195.000484 \nL 378.92236 193.634315 \nL 379.737237 193.602043 \nL 381.017757 190.183401 \nL 381.134168 191.715984 \nL 381.832634 193.086538 \nL 381.949045 192.147638 \nL 382.763922 188.499814 \nL 382.996744 189.007071 \nL 384.277265 191.025184 \nL 384.626498 189.959126 \nL 384.975731 189.850641 \nL 385.092141 190.251688 \nL 385.441374 192.462581 \nL 386.023429 190.706877 \nL 386.13984 190.782768 \nL 386.721895 188.777744 \nL 386.954717 189.514749 \nL 388.351649 187.376561 \nL 388.584471 185.939908 \nL 389.515759 186.386105 \nL 391.727567 183.211534 \nL 392.309622 185.439945 \nL 392.658855 184.566057 \nL 393.473732 183.517317 \nL 393.24091 185.887874 \nL 393.590143 184.019933 \nL 394.288608 183.484634 \nL 394.405019 183.932452 \nL 395.219896 187.242975 \nL 395.918362 186.79348 \nL 396.616828 183.110609 \nL 396.84965 184.458848 \nL 397.315294 183.307907 \nL 398.01376 185.741277 \nL 400.924034 167.578427 \nL 401.389678 169.568997 \nL 401.506089 172.989281 \nL 402.320966 172.16444 \nL 403.368664 164.44058 \nL 403.717897 164.308259 \nL 404.06713 166.955669 \nL 404.532774 163.701654 \nL 404.765596 158.980423 \nL 404.882007 154.060761 \nL 405.580473 160.778446 \nL 405.813295 156.619869 \nL 406.162528 152.952773 \nL 406.511761 158.139285 \nL 408.257925 164.76356 \nL 408.607158 164.553439 \nL 409.538446 157.432676 \nL 408.956391 167.893192 \nL 409.654857 159.084723 \nL 410.469734 158.907319 \nL 410.702556 161.64594 \nL 412.099488 153.962312 \nL 412.33231 155.935841 \nL 412.681542 156.002395 \nL 413.030775 159.829222 \nL 413.729241 159.06222 \nL 413.962063 160.151469 \nL 415.126173 152.193364 \nL 415.591817 158.417614 \nL 416.173872 155.351184 \nL 416.406694 154.671008 \nL 417.105159 158.517973 \nL 417.687214 157.938101 \nL 418.502091 154.459155 \nL 418.618502 156.098291 \nL 419.433379 160.33549 \nL 419.666201 158.20565 \nL 420.131845 155.117072 \nL 420.364667 156.716475 \nL 421.179544 160.785018 \nL 421.295955 159.108414 \nL 421.878009 158.482481 \nL 422.110831 159.566668 \nL 422.576475 161.008583 \nL 422.809297 159.38782 \nL 423.274941 157.375946 \nL 423.624174 159.852302 \nL 423.740585 158.631199 \nL 425.719572 166.52911 \nL 424.206229 158.093424 \nL 426.185215 163.045136 \nL 426.534448 163.694838 \nL 426.650859 162.787389 \nL 426.76727 162.966625 \nL 426.883681 162.01447 \nL 427.000092 164.176549 \nL 427.349325 163.480209 \nL 427.465736 165.670498 \nL 428.164202 160.088157 \nL 428.513435 160.728411 \nL 429.211901 158.526976 \nL 430.608833 158.100173 \nL 430.725244 158.783591 \nL 431.074476 156.85831 \nL 431.772942 156.430419 \nL 432.70423 150.035371 \nL 433.286285 150.924835 \nL 433.984751 151.363927 \nL 434.333984 142.796719 \nL 435.03245 148.573195 \nL 435.614504 149.261453 \nL 435.847326 148.054215 \nL 436.31297 146.497276 \nL 436.429381 148.370146 \nL 436.662203 146.914742 \nL 436.778614 148.821372 \nL 437.127847 146.768067 \nL 437.593491 148.618367 \nL 439.572478 143.147065 \nL 439.92171 144.594398 \nL 440.387354 141.993859 \nL 440.620176 140.444824 \nL 440.852998 144.605655 \nL 441.202231 143.520236 \nL 441.435053 143.959328 \nL 441.551464 143.132222 \nL 442.366341 148.162911 \nL 442.482752 147.449131 \nL 442.831985 147.687028 \nL 443.181218 152.763034 \nL 443.879684 148.910641 \nL 444.927382 145.16036 \nL 445.393026 145.30568 \nL 446.557136 155.547427 \nL 447.372013 151.857262 \nL 447.954068 147.894496 \nL 448.885356 150.213763 \nL 449.001767 152.022921 \nL 449.700232 149.166978 \nL 449.816643 148.814223 \nL 450.165876 149.132751 \nL 450.515109 153.206279 \nL 451.329986 152.352851 \nL 452.028452 149.508253 \nL 452.261274 150.759875 \nL 452.726918 151.294708 \nL 452.843329 148.780107 \nL 453.658205 145.673833 \nL 453.891027 146.083373 \nL 454.705904 148.541189 \nL 455.520781 147.881196 \nL 456.684891 147.38523 \nL 456.801302 148.468329 \nL 457.616179 152.481386 \nL 457.849001 152.00256 \nL 458.780288 148.979771 \nL 459.478754 155.115418 \nL 460.293631 154.144201 \nL 460.992097 152.396092 \nL 461.224919 152.715974 \nL 461.806974 152.65889 \nL 461.923385 153.138725 \nL 462.854672 157.564364 \nL 463.669549 155.755161 \nL 464.135193 156.190213 \nL 464.251604 157.278063 \nL 464.368015 156.075788 \nL 465.066481 156.728454 \nL 465.648536 153.224408 \nL 466.463413 154.147343 \nL 466.929057 158.186766 \nL 467.743933 157.027821 \nL 469.72292 153.714812 \nL 469.839331 154.26683 \nL 470.072153 151.414684 \nL 470.188564 148.619988 \nL 470.770619 151.966669 \nL 471.003441 149.643527 \nL 471.701907 148.309453 \nL 472.16755 148.50502 \nL 472.516783 149.25246 \nL 472.633194 147.964403 \nL 473.098838 148.401419 \nL 473.215249 146.948114 \nL 473.797304 150.843659 \nL 474.728592 155.53445 \nL 475.427058 155.119459 \nL 475.543469 154.059141 \nL 475.65988 156.076088 \nL 475.892702 155.257719 \nL 476.358346 158.669211 \nL 477.173222 158.491784 \nL 477.289633 156.678052 \nL 477.871688 159.762656 \nL 477.988099 158.214576 \nL 478.220921 158.064482 \nL 479.152209 164.637967 \nL 480.316319 162.024117 \nL 479.617853 165.238744 \nL 480.549141 162.487311 \nL 480.781963 166.829588 \nL 481.596839 165.138962 \nL 482.760949 163.239925 \nL 482.87736 163.772649 \nL 483.925059 167.565138 \nL 484.04147 166.218475 \nL 484.390703 167.170441 \nL 484.739936 165.556839 \nL 484.856347 165.35943 \nL 485.20558 166.206896 \nL 486.253278 171.31462 \nL 486.369689 170.107293 \nL 486.951744 166.6712 \nL 487.300977 166.83374 \nL 488.581498 170.710779 \nL 488.930731 169.348973 \nL 489.279964 170.152089 \nL 489.396375 169.162721 \nL 490.327662 165.275279 \nL 490.560484 165.845582 \nL 492.655882 167.877949 \nL 492.772293 166.34923 \nL 493.819992 163.501902 \nL 494.984101 165.503029 \nL 495.798978 169.329223 \nL 496.148211 167.574075 \nL 496.613855 166.591157 \nL 496.730266 167.527293 \nL 496.846677 169.610017 \nL 497.545143 167.480488 \nL 497.661554 167.691153 \nL 498.36002 168.160564 \nL 498.592842 169.662739 \nL 499.174897 167.937665 \nL 499.407718 169.334186 \nL 500.339006 167.526871 \nL 501.619527 169.94098 \nL 501.96876 169.576013 \nL 504.064157 165.584593 \nL 504.180568 165.890766 \nL 505.228267 162.382034 \nL 505.5775 160.828603 \nL 505.810322 163.37833 \nL 506.625199 164.84206 \nL 506.858021 164.063013 \nL 508.254953 162.481228 \nL 508.837007 160.858433 \nL 508.953418 162.79899 \nL 509.069829 162.526811 \nL 509.302651 164.573922 \nL 509.884706 163.189491 \nL 510.117528 161.461863 \nL 510.932405 161.805026 \nL 511.630871 159.722479 \nL 512.096515 160.775593 \nL 512.329337 162.614392 \nL 513.027803 160.123105 \nL 513.144213 160.763714 \nL 513.377035 158.509758 \nL 513.726268 158.85372 \nL 513.95909 157.869093 \nL 514.541145 159.423179 \nL 514.773967 158.236901 \nL 515.821666 155.836226 \nL 515.472433 158.616456 \nL 516.403721 156.585465 \nL 516.985776 158.119524 \nL 517.102187 156.977897 \nL 517.335009 154.468658 \nL 518.033474 156.371403 \nL 518.149885 156.561618 \nL 518.266296 155.848138 \nL 518.848351 153.398404 \nL 519.430406 155.191919 \nL 520.361694 157.504981 \nL 520.478105 157.266517 \nL 521.06016 155.82377 \nL 521.409393 157.576498 \nL 521.525804 156.574974 \nL 521.875037 156.992273 \nL 521.991448 155.645 \nL 522.689913 154.524277 \nL 522.806324 155.657478 \nL 523.039146 157.570025 \nL 523.737612 155.000016 \nL 524.552489 154.246958 \nL 525.600188 151.605199 \nL 525.949421 151.796503 \nL 526.065832 151.294397 \nL 526.298654 153.625299 \nL 526.997119 152.402908 \nL 528.044818 148.795361 \nL 528.626873 150.856782 \nL 528.859695 149.298787 \nL 529.674572 147.189363 \nL 531.88638 154.371652 \nL 535.145888 142.316739 \nL 535.727943 143.545081 \nL 536.65923 146.338877 \nL 536.892052 145.893335 \nL 537.706929 146.954686 \nL 537.82334 145.312974 \nL 538.638217 145.62684 \nL 539.220272 146.5081 \nL 539.336683 145.759638 \nL 540.267971 142.005327 \nL 540.617203 142.867981 \nL 540.733614 144.295652 \nL 541.43208 141.573351 \nL 542.363368 135.487561 \nL 543.061834 137.374985 \nL 543.178245 140.399762 \nL 543.993122 137.488688 \nL 544.691588 133.075217 \nL 545.855697 126.297595 \nL 546.670574 128.710394 \nL 546.437752 126.236869 \nL 546.786985 126.467373 \nL 547.136218 126.964416 \nL 547.252629 126.70981 \nL 547.601862 122.211612 \nL 548.183917 126.100508 \nL 549.697259 136.475919 \nL 550.628547 131.652686 \nL 549.930081 136.585292 \nL 550.861369 132.503172 \nL 551.676246 139.536609 \nL 552.14189 136.152561 \nL 553.771644 128.434884 \nL 554.004466 132.293806 \nL 554.819342 130.402574 \nL 555.634219 131.988288 \nL 555.401397 129.963404 \nL 556.099863 131.536951 \nL 556.565507 129.5242 \nL 557.031151 131.658936 \nL 558.195261 138.301473 \nL 560.290658 145.036588 \nL 560.407069 144.792151 \nL 561.221946 139.841683 \nL 561.454768 139.878374 \nL 562.8517 148.362519 \nL 563.433754 145.15311 \nL 563.899398 144.001559 \nL 564.248631 146.97831 \nL 564.481453 146.610834 \nL 564.714275 148.717738 \nL 566.111207 142.19501 \nL 566.693262 147.842318 \nL 567.158906 144.122467 \nL 567.508139 144.736299 \nL 567.62455 143.950558 \nL 569.137892 137.861615 \nL 569.254303 139.067265 \nL 569.370714 140.199211 \nL 569.603536 136.889588 \nL 569.952769 138.784362 \nL 571.116879 134.822606 \nL 571.582523 134.404273 \nL 572.630221 140.700473 \nL 572.746632 139.97306 \nL 572.863043 138.604326 \nL 573.561509 141.132049 \nL 573.67792 140.194893 \nL 574.027153 139.960659 \nL 574.259975 143.388448 \nL 574.492797 139.319539 \nL 574.958441 139.714069 \nL 575.074852 139.726392 \nL 575.307674 140.009961 \nL 576.122551 135.967341 \nL 576.821017 139.179858 \nL 577.28666 137.635363 \nL 577.519482 136.041489 \nL 578.101537 137.16583 \nL 578.217948 138.104941 \nL 578.45077 136.338025 \nL 578.916414 136.634506 \nL 579.032825 136.251543 \nL 579.149236 136.869316 \nL 580.196935 142.516736 \nL 580.546168 143.346362 \nL 580.895401 142.516736 \nL 582.175921 140.263035 \nL 582.990798 139.482922 \nL 583.22362 137.40194 \nL 583.340031 141.546563 \nL 583.922086 138.717297 \nL 584.038497 138.87867 \nL 584.154908 138.680095 \nL 584.271319 136.297537 \nL 584.853374 139.499119 \nL 585.086196 136.955265 \nL 585.435429 136.992434 \nL 586.483127 140.601368 \nL 586.599538 139.929863 \nL 590.441101 129.130358 \nL 590.790334 129.504151 \nL 591.488799 123.274872 \nL 591.60521 126.040692 \nL 592.187265 128.769088 \nL 592.76932 126.738353 \nL 593.118553 125.81645 \nL 593.234964 127.398679 \nL 593.584197 126.688606 \nL 593.700608 129.561924 \nL 594.631896 128.613277 \nL 594.864718 130.897507 \nL 595.563183 129.112651 \nL 596.028827 130.011296 \nL 596.960115 126.26661 \nL 597.076526 127.989175 \nL 597.774992 124.526816 \nL 597.891403 125.727637 \nL 598.007814 123.701297 \nL 598.822691 126.315413 \nL 598.939102 124.914552 \nL 599.521157 127.941516 \nL 600.219622 130.705815 \nL 600.452444 128.454323 \nL 600.918088 129.670908 \nL 602.198609 124.081018 \nL 603.595541 127.728253 \nL 603.828363 127.126688 \nL 604.410418 126.076262 \nL 606.156582 118.490628 \nL 606.971459 123.803066 \nL 607.08787 119.344656 \nL 608.717624 109.191777 \nL 610.114555 115.885449 \nL 610.813021 115.080091 \nL 611.162254 111.758356 \nL 611.627898 115.504651 \nL 611.86072 114.092988 \nL 611.977131 115.920652 \nL 612.559186 113.197873 \nL 612.792008 113.29881 \nL 613.257652 115.429105 \nL 613.606885 115.025637 \nL 614.770994 113.134971 \nL 614.421761 115.46695 \nL 614.887405 113.815669 \nL 615.702282 113.533287 \nL 615.236638 114.8087 \nL 615.818693 113.65958 \nL 616.749981 121.072183 \nL 616.866392 119.708346 \nL 617.215625 120.263928 \nL 617.332036 119.670489 \nL 618.379734 114.657085 \nL 618.496145 116.222939 \nL 618.961789 118.820236 \nL 620.125899 123.399821 \nL 620.475132 122.337182 \nL 620.940776 121.223831 \nL 621.40642 121.514828 \nL 621.755653 124.842003 \nL 622.454119 124.374901 \nL 622.57053 122.891965 \nL 623.036173 124.983349 \nL 624.200283 136.694954 \nL 625.480804 134.958501 \nL 626.644914 140.639503 \nL 627.110558 139.826662 \nL 627.226969 141.503122 \nL 627.809023 139.496444 \nL 628.041845 139.585312 \nL 628.740311 140.032331 \nL 629.78801 134.54401 \nL 630.253654 134.735036 \nL 630.486476 134.314827 \nL 630.719298 135.397127 \nL 631.184942 133.779994 \nL 631.301353 135.779201 \nL 632.116229 138.593391 \nL 631.883408 135.613665 \nL 632.349051 137.536403 \nL 632.814695 136.937991 \nL 633.163928 138.011199 \nL 633.745983 133.876501 \nL 634.444449 137.360409 \nL 634.56086 138.062233 \nL 634.793682 136.326679 \nL 635.259326 136.594651 \nL 635.608559 134.170018 \nL 636.074203 134.51459 \nL 637.121901 140.480494 \nL 637.238312 139.956252 \nL 637.587545 140.902445 \nL 637.703956 140.186389 \nL 638.868066 135.314997 \nL 640.032176 133.975572 \nL 639.566532 135.979819 \nL 640.264998 134.347155 \nL 640.49782 135.205535 \nL 640.847053 134.488058 \nL 641.77834 130.093226 \nL 642.011162 131.579526 \nL 642.476806 132.361126 \nL 643.291683 134.407504 \nL 643.524505 133.508704 \nL 644.455793 135.177869 \nL 644.572204 134.009499 \nL 644.921437 134.433204 \nL 645.037848 133.855397 \nL 645.387081 131.030671 \nL 646.085546 131.595568 \nL 647.482478 128.365166 \nL 647.831711 129.806282 \nL 648.297355 129.832027 \nL 649.345054 125.380066 \nL 649.461465 125.457256 \nL 649.810698 124.839649 \nL 649.927109 126.602458 \nL 651.091218 131.641651 \nL 651.789684 131.04859 \nL 652.720972 127.81226 \nL 653.303027 130.287849 \nL 653.419438 131.074345 \nL 654.001493 128.816881 \nL 654.117904 128.726369 \nL 654.81637 128.842659 \nL 655.165602 126.503853 \nL 655.631246 128.028597 \nL 655.980479 126.258373 \nL 658.308699 122.477263 \nL 658.42511 122.839754 \nL 659.938452 126.931422 \nL 660.054863 126.465308 \nL 660.404096 125.44238 \nL 660.520507 125.74017 \nL 661.684617 129.52087 \nL 662.965138 126.497824 \nL 663.19796 127.289261 \nL 664.012837 131.025909 \nL 664.129247 129.975005 \nL 665.409768 125.215695 \nL 665.64259 126.047875 \nL 665.759001 128.518247 \nL 666.341056 125.319751 \nL 666.573878 125.540774 \nL 667.039522 125.085673 \nL 667.155933 124.55266 \nL 667.737988 125.241762 \nL 667.854399 125.020695 \nL 668.087221 127.19201 \nL 668.669275 124.097793 \nL 668.785686 123.524548 \nL 669.367741 125.153093 \nL 669.484152 125.218204 \nL 669.833385 122.651592 \nL 670.299029 126.325627 \nL 670.41544 128.136605 \nL 671.113906 126.488899 \nL 671.463139 124.243246 \nL 672.161605 125.274667 \nL 672.860071 128.238418 \nL 673.092893 127.298398 \nL 673.558536 126.619476 \nL 673.674947 126.841476 \nL 674.489824 129.230695 \nL 674.722646 128.512607 \nL 677.749331 137.138631 \nL 677.865742 136.680711 \nL 678.680619 133.448333 \nL 678.79703 134.71996 \nL 679.611907 135.296801 \nL 682.40577 129.750774 \nL 682.755003 132.496533 \nL 683.453469 130.236859 \nL 684.501168 134.243788 \nL 684.850401 134.204377 \nL 685.083223 135.951721 \nL 685.665278 133.403049 \nL 685.781689 133.966558 \nL 686.130922 133.202886 \nL 686.712977 134.532708 \nL 686.945798 132.8869 \nL 687.527853 136.086373 \nL 687.644264 136.863144 \nL 688.109908 135.467534 \nL 688.226319 135.704509 \nL 689.041196 128.923723 \nL 689.390429 131.110004 \nL 689.972484 133.168793 \nL 690.787361 132.456156 \nL 691.485826 130.225813 \nL 691.835059 130.80654 \nL 692.300703 130.225813 \nL 693.464813 127.509984 \nL 694.861745 129.176541 \nL 694.978156 128.158065 \nL 695.4438 132.112949 \nL 695.560211 131.570656 \nL 696.491498 132.834045 \nL 696.72432 131.82656 \nL 697.422786 131.070904 \nL 698.354074 129.493393 \nL 699.168951 127.756773 \nL 699.518184 128.684694 \nL 700.798704 131.590039 \nL 701.147937 131.005437 \nL 701.264348 132.214496 \nL 701.49717 131.603339 \nL 702.894102 134.84522 \nL 703.126924 133.649439 \nL 703.592568 135.205202 \nL 703.708979 134.25973 \nL 704.407445 139.852485 \nL 704.756678 136.909627 \nL 706.037198 138.654006 \nL 706.502842 136.749829 \nL 706.968486 137.855076 \nL 707.317719 140.369333 \nL 708.016185 139.688613 \nL 709.296706 136.33818 \nL 710.227993 136.351502 \nL 710.344404 137.099054 \nL 710.926459 134.831298 \nL 711.741336 130.790698 \nL 711.974158 131.526549 \nL 712.090569 131.901207 \nL 712.556213 130.429417 \nL 713.37109 127.167842 \nL 713.836734 127.529945 \nL 714.418788 126.054736 \nL 714.535199 124.19058 \nL 715.233665 127.275195 \nL 716.281364 129.528197 \nL 717.794707 126.296152 \nL 717.911118 127.284065 \nL 718.260351 128.00998 \nL 718.493173 127.18999 \nL 718.725995 125.415725 \nL 719.540871 125.913067 \nL 720.006515 125.496356 \nL 720.122926 125.966822 \nL 721.170625 130.038717 \nL 722.451146 125.45891 \nL 723.149612 125.970763 \nL 723.266023 126.334464 \nL 723.498844 124.26011 \nL 724.313721 119.397499 \nL 724.430132 119.559206 \nL 725.012187 123.125699 \nL 725.710653 122.504695 \nL 725.827064 122.099785 \nL 726.059886 124.273154 \nL 726.52553 124.894192 \nL 726.758352 123.962674 \nL 727.223996 124.759129 \nL 727.340407 124.408184 \nL 728.271694 122.261636 \nL 728.388105 123.059822 \nL 729.901448 119.244941 \nL 730.13427 119.434357 \nL 730.599914 120.056649 \nL 730.716325 119.082635 \nL 732.113257 110.341253 \nL 732.346079 113.391186 \nL 733.160955 112.726975 \nL 734.674298 109.826037 \nL 734.790709 110.978376 \nL 735.489175 108.875303 \nL 735.605586 107.585025 \nL 735.838408 110.002619 \nL 736.304052 109.826048 \nL 736.536874 113.208065 \nL 737.35175 110.586688 \nL 738.166627 111.727593 \nL 738.283038 111.306497 \nL 738.748682 110.817547 \nL 740.611258 89.394099 \nL 741.193313 91.816545 \nL 741.426135 94.443061 \nL 741.542546 91.231332 \nL 741.891778 92.034248 \nL 742.1246 88.727178 \nL 742.939477 88.875851 \nL 743.987176 103.722573 \nL 744.336409 101.350373 \nL 746.431806 90.490719 \nL 749.22567 102.413422 \nL 749.342081 102.290571 \nL 749.574903 96.977922 \nL 750.273369 101.101341 \nL 750.506191 105.301383 \nL 751.204656 101.197104 \nL 751.321067 101.402306 \nL 751.6703 101.060331 \nL 752.601588 96.791792 \nL 752.717999 97.352692 \nL 753.300054 100.324514 \nL 753.416465 96.350235 \nL 754.347753 98.35113 \nL 755.16263 102.846164 \nL 755.395452 102.299875 \nL 755.744684 102.574374 \nL 756.093917 101.586061 \nL 756.210328 101.38017 \nL 756.559561 102.066474 \nL 756.675972 103.905928 \nL 757.025205 98.909476 \nL 757.374438 99.993818 \nL 757.60726 102.176358 \nL 758.305726 99.444842 \nL 758.654959 100.419389 \nL 759.819069 91.812903 \nL 760.284712 89.602898 \nL 760.866767 94.618645 \nL 764.242686 71.596759 \nL 764.708329 54.013082 \nL 765.173973 77.903272 \nL 766.338083 61.297228 \nL 765.756028 91.108237 \nL 766.454494 65.551979 \nL 766.570905 66.061544 \nL 766.687316 64.959906 \nL 767.618604 57.519604 \nL 767.967837 58.126398 \nL 768.899125 63.945437 \nL 769.714001 53.67235 \nL 770.063234 54.292888 \nL 771.460166 64.246136 \nL 772.391454 59.095971 \nL 772.042221 65.226456 \nL 772.507865 59.689709 \nL 772.857098 64.743224 \nL 773.788386 64.35662 \nL 774.137618 63.997615 \nL 774.719673 69.306445 \nL 774.952495 74.048425 \nL 775.53455 67.509221 \nL 775.650961 63.306315 \nL 776.233016 68.808691 \nL 776.582249 65.36627 \nL 776.931482 65.338583 \nL 777.047893 66.873208 \nL 777.397126 61.41233 \nL 778.561235 64.369476 \nL 778.910468 58.486957 \nL 779.725345 58.54231 \nL 779.841756 59.026652 \nL 780.423811 57.628755 \nL 781.355099 53.033406 \nL 781.47151 53.185676 \nL 781.937154 52.132618 \nL 782.868442 60.418932 \nL 783.101263 63.75833 \nL 783.799729 60.945439 \nL 783.91614 59.573653 \nL 784.498195 62.580534 \nL 784.731017 66.61283 \nL 785.313072 60.39553 \nL 785.429483 59.74353 \nL 785.545894 64.113272 \nL 786.710004 61.713362 \nL 787.059237 62.254434 \nL 787.175648 62.961876 \nL 787.757702 61.685697 \nL 787.990524 60.811664 \nL 788.456168 61.200066 \nL 789.387456 68.711929 \nL 789.620278 67.559334 \nL 790.202333 64.740337 \nL 790.784388 66.601151 \nL 791.133621 71.780913 \nL 791.715676 66.920545 \nL 791.832087 66.712212 \nL 792.064909 71.058773 \nL 792.763374 65.555132 \nL 792.879785 68.265932 \nL 793.345429 74.17414 \nL 794.043895 70.531978 \nL 794.509539 65.34662 \nL 795.091594 69.280822 \nL 795.324416 67.139936 \nL 795.79006 70.697947 \nL 796.139293 73.898552 \nL 796.721347 71.644163 \nL 796.954169 68.93061 \nL 797.652635 71.444422 \nL 797.769046 72.099109 \nL 798.23469 70.10714 \nL 798.467512 70.761782 \nL 799.748033 70.413545 \nL 800.679321 79.593609 \nL 801.028554 78.381664 \nL 802.425485 75.665246 \nL 801.727019 78.980687 \nL 802.541896 76.84937 \nL 803.473184 83.422189 \nL 803.938828 82.362315 \nL 804.055239 80.981603 \nL 804.288061 84.70534 \nL 807.081924 97.416371 \nL 807.314746 94.358378 \nL 807.547568 99.88782 \nL 807.896801 98.770728 \nL 808.246034 102.875939 \nL 808.711678 99.608613 \nL 808.9445 96.857803 \nL 809.526555 100.669709 \nL 809.642966 99.678398 \nL 809.759377 100.739605 \nL 809.875788 97.600547 \nL 810.341432 98.439477 \nL 811.505541 93.629532 \nL 810.574253 98.481396 \nL 811.621952 95.153633 \nL 811.971185 95.712934 \nL 812.204007 94.426542 \nL 812.320418 93.573625 \nL 812.902473 96.020539 \nL 813.950172 93.943864 \nL 813.135295 96.467891 \nL 814.066583 94.91013 \nL 814.648638 99.99313 \nL 815.463514 99.278961 \nL 816.16198 94.588049 \nL 816.511213 96.016253 \nL 817.209679 96.340244 \nL 818.024556 89.987859 \nL 818.140967 90.310384 \nL 818.723022 92.245557 \nL 818.839433 89.286723 \nL 818.955844 85.514495 \nL 819.77072 90.731026 \nL 821.284063 81.190114 \nL 821.749707 84.391519 \nL 821.866118 85.964111 \nL 822.09894 81.372625 \nL 822.215351 81.765824 \nL 822.564584 77.202336 \nL 822.797406 81.920248 \nL 823.030228 81.358549 \nL 823.379461 81.976422 \nL 824.427159 77.505544 \nL 824.54357 78.587999 \nL 825.358447 84.281657 \nL 825.474858 81.034181 \nL 826.638968 78.363058 \nL 826.755379 80.007878 \nL 826.87179 81.751169 \nL 827.453845 79.206516 \nL 827.686667 80.289993 \nL 827.803078 79.375084 \nL 827.919489 81.28943 \nL 828.385133 83.048996 \nL 828.501544 81.64133 \nL 829.200009 77.165123 \nL 829.549242 79.895884 \nL 830.131297 76.207917 \nL 830.247708 81.036068 \nL 830.829763 87.046589 \nL 831.178996 85.013277 \nL 831.528229 85.534744 \nL 832.343106 90.411298 \nL 832.459517 87.000539 \nL 832.692339 84.266248 \nL 833.274393 87.338784 \nL 833.507215 88.945548 \nL 834.08927 85.365599 \nL 835.25338 79.177896 \nL 835.602613 79.573026 \nL 835.719024 76.835271 \nL 836.068257 81.957949 \nL 836.533901 85.0909 \nL 836.766723 82.69179 \nL 837.348778 85.9517 \nL 837.698011 77.442087 \nL 838.047243 79.149654 \nL 838.163654 75.946273 \nL 838.512887 71.786553 \nL 838.978531 76.519851 \nL 839.094942 80.207619 \nL 839.676997 76.435123 \nL 840.02623 78.91048 \nL 840.142641 76.519896 \nL 840.841107 79.787443 \nL 841.306751 79.278166 \nL 841.423162 80.112811 \nL 842.587271 88.642362 \nL 843.052915 86.803463 \nL 843.169326 87.581466 \nL 843.285737 85.785042 \nL 843.867792 91.69769 \nL 843.984203 90.325616 \nL 844.217025 86.704391 \nL 844.79908 91.131884 \nL 845.031902 87.411677 \nL 846.312423 94.155551 \nL 846.428834 93.787309 \nL 847.127299 98.674143 \nL 847.360121 96.110307 \nL 847.942176 93.560636 \nL 848.058587 96.266129 \nL 848.291409 95.997003 \nL 848.757053 89.456867 \nL 848.873464 96.307538 \nL 849.455519 92.478003 \nL 851.201684 107.356608 \nL 851.550917 107.384973 \nL 852.249382 102.534164 \nL 852.365793 101.821038 \nL 852.715026 103.127969 \nL 853.879136 118.341866 \nL 854.461191 120.472705 \nL 855.276068 115.98381 \nL 855.50889 117.958326 \nL 856.440177 128.124393 \nL 856.78941 126.701462 \nL 857.720698 127.000274 \nL 858.069931 121.237309 \nL 858.651986 120.07047 \nL 859.350452 124.012055 \nL 859.699685 124.472507 \nL 860.980205 134.764511 \nL 861.329438 130.103173 \nL 861.795082 132.811576 \nL 861.911493 128.492358 \nL 862.493548 130.787401 \nL 862.959192 124.444952 \nL 863.424836 123.145182 \nL 863.774069 129.186932 \nL 864.472535 124.916284 \nL 865.403822 120.545665 \nL 865.05459 126.601691 \nL 865.753055 122.202497 \nL 866.102288 121.688313 \nL 865.985877 123.016648 \nL 866.218699 122.14539 \nL 866.567932 118.105934 \nL 867.033576 123.214246 \nL 867.382809 120.524161 \nL 867.615631 122.284161 \nL 868.66333 128.122251 \nL 869.245385 130.726497 \nL 869.361796 128.508599 \nL 869.478207 127.292325 \nL 870.060261 129.782103 \nL 870.758727 135.738647 \nL 871.10796 134.562816 \nL 872.388481 137.516709 \nL 872.504892 134.964307 \nL 873.086947 141.201901 \nL 873.203358 145.11653 \nL 873.319769 140.26984 \nL 874.018235 141.048221 \nL 875.531577 148.881776 \nL 875.647988 148.551191 \nL 875.764399 151.124054 \nL 876.346454 157.060304 \nL 876.695687 149.772939 \nL 877.976208 155.465408 \nL 878.092619 153.995684 \nL 878.20903 153.549031 \nL 879.023906 143.765371 \nL 879.256728 146.301343 \nL 879.722372 143.650103 \nL 880.886482 135.19934 \nL 881.235715 137.365827 \nL 881.352126 135.401545 \nL 881.468537 131.761859 \nL 881.701359 136.297027 \nL 882.399825 133.044388 \nL 884.145989 145.727232 \nL 886.357798 132.595571 \nL 886.59062 136.113761 \nL 886.939853 136.837666 \nL 888.103963 132.640932 \nL 889.03525 139.79701 \nL 889.384483 138.534175 \nL 890.315771 144.151631 \nL 891.247059 143.821668 \n\" clip-path=\"url(#p7815d33497)\" style=\"fill: none; stroke: #ffee00; stroke-linecap: square\"/>\n   </g>\n   <g id=\"patch_3\">\n    <path d=\"M 900 239.0708 \nL 900 43.2308 \n\" style=\"fill: none; stroke: #ffffff; stroke-width: 0.3; stroke-linejoin: miter; stroke-linecap: square\"/>\n   </g>\n   <g id=\"patch_4\">\n    <path d=\"M 7.2 239.0708 \nL 900 239.0708 \n\" style=\"fill: none; stroke: #ffffff; stroke-width: 0.3; stroke-linejoin: miter; stroke-linecap: square\"/>\n   </g>\n   <g id=\"text_16\">\n    <!-- iShares 20 Plus Year Treasury Bond ETF -->\n    <g style=\"fill: #ffffff\" transform=\"translate(212.9004 23.2308) scale(0.2304 -0.2304)\">\n     <defs>\n      <path id=\"Consolas-69\" d=\"M 1569 2688 \nL 641 2688 \nL 641 3138 \nL 2119 3138 \nL 2119 453 \nL 3053 453 \nL 3053 0 \nL 538 0 \nL 538 453 \nL 1569 453 \nL 1569 2688 \nz\nM 1759 4453 \nQ 1850 4453 1928 4420 \nQ 2006 4388 2064 4328 \nQ 2122 4269 2155 4192 \nQ 2188 4116 2188 4025 \nQ 2188 3938 2155 3859 \nQ 2122 3781 2064 3722 \nQ 2006 3663 1928 3630 \nQ 1850 3597 1759 3597 \nQ 1669 3597 1591 3630 \nQ 1513 3663 1455 3722 \nQ 1397 3781 1364 3859 \nQ 1331 3938 1331 4025 \nQ 1331 4116 1364 4192 \nQ 1397 4269 1455 4328 \nQ 1513 4388 1591 4420 \nQ 1669 4453 1759 4453 \nz\n\" transform=\"scale(0.015625)\"/>\n      <path id=\"Consolas-53\" d=\"M 3116 1106 \nQ 3116 816 2997 597 \nQ 2878 378 2665 233 \nQ 2453 88 2154 16 \nQ 1856 -56 1497 -56 \nQ 1334 -56 1173 -43 \nQ 1013 -31 864 -12 \nQ 716 6 584 31 \nQ 453 56 347 84 \nL 347 622 \nQ 581 534 873 484 \nQ 1166 434 1538 434 \nQ 1806 434 1995 476 \nQ 2184 519 2304 601 \nQ 2425 684 2479 803 \nQ 2534 922 2534 1075 \nQ 2534 1241 2442 1358 \nQ 2350 1475 2200 1567 \nQ 2050 1659 1858 1736 \nQ 1666 1813 1466 1894 \nQ 1266 1975 1073 2070 \nQ 881 2166 731 2295 \nQ 581 2425 489 2600 \nQ 397 2775 397 3016 \nQ 397 3225 484 3428 \nQ 572 3631 756 3789 \nQ 941 3947 1230 4044 \nQ 1519 4141 1919 4141 \nQ 2022 4141 2142 4131 \nQ 2263 4122 2386 4105 \nQ 2509 4088 2629 4066 \nQ 2750 4044 2853 4019 \nL 2853 3519 \nQ 2613 3588 2372 3623 \nQ 2131 3659 1906 3659 \nQ 1428 3659 1203 3500 \nQ 978 3341 978 3072 \nQ 978 2906 1070 2787 \nQ 1163 2669 1313 2575 \nQ 1463 2481 1655 2404 \nQ 1847 2328 2047 2247 \nQ 2247 2166 2439 2069 \nQ 2631 1972 2781 1839 \nQ 2931 1706 3023 1528 \nQ 3116 1350 3116 1106 \nz\n\" transform=\"scale(0.015625)\"/>\n      <path id=\"Consolas-68\" d=\"M 3022 0 \nL 2478 0 \nL 2478 2003 \nQ 2478 2366 2342 2545 \nQ 2206 2725 1953 2725 \nQ 1844 2725 1748 2695 \nQ 1653 2666 1550 2592 \nQ 1447 2519 1325 2394 \nQ 1203 2269 1044 2081 \nL 1044 0 \nL 500 0 \nL 500 4416 \nL 1044 4416 \nL 1044 3138 \nL 1025 2644 \nQ 1153 2797 1276 2901 \nQ 1400 3006 1523 3072 \nQ 1647 3138 1775 3166 \nQ 1903 3194 2041 3194 \nQ 2509 3194 2765 2908 \nQ 3022 2622 3022 2047 \nL 3022 0 \nz\n\" transform=\"scale(0.015625)\"/>\n      <path id=\"Consolas-61\" d=\"M 2516 0 \nL 2503 422 \nQ 2247 169 1983 56 \nQ 1719 -56 1428 -56 \nQ 1159 -56 968 12 \nQ 778 81 654 201 \nQ 531 322 473 484 \nQ 416 647 416 838 \nQ 416 1309 767 1576 \nQ 1119 1844 1806 1844 \nL 2456 1844 \nL 2456 2119 \nQ 2456 2397 2278 2564 \nQ 2100 2731 1734 2731 \nQ 1469 2731 1211 2672 \nQ 953 2613 678 2503 \nL 678 2994 \nQ 781 3031 907 3067 \nQ 1034 3103 1175 3131 \nQ 1316 3159 1469 3176 \nQ 1622 3194 1778 3194 \nQ 2063 3194 2291 3131 \nQ 2519 3069 2676 2941 \nQ 2834 2813 2918 2619 \nQ 3003 2425 3003 2163 \nL 3003 0 \nL 2516 0 \nz\nM 2456 1428 \nL 1766 1428 \nQ 1563 1428 1416 1387 \nQ 1269 1347 1175 1272 \nQ 1081 1197 1036 1092 \nQ 991 988 991 856 \nQ 991 766 1019 683 \nQ 1047 600 1109 536 \nQ 1172 472 1272 434 \nQ 1372 397 1516 397 \nQ 1703 397 1945 511 \nQ 2188 625 2456 872 \nL 2456 1428 \nz\n\" transform=\"scale(0.015625)\"/>\n      <path id=\"Consolas-72\" d=\"M 628 3138 \nL 1125 3138 \nL 1141 2559 \nQ 1419 2894 1689 3044 \nQ 1959 3194 2234 3194 \nQ 2722 3194 2973 2878 \nQ 3225 2563 3206 1941 \nL 2656 1941 \nQ 2666 2353 2536 2539 \nQ 2406 2725 2156 2725 \nQ 2047 2725 1936 2686 \nQ 1825 2647 1708 2561 \nQ 1591 2475 1459 2340 \nQ 1328 2206 1178 2016 \nL 1178 0 \nL 628 0 \nL 628 3138 \nz\n\" transform=\"scale(0.015625)\"/>\n      <path id=\"Consolas-65\" d=\"M 3150 1734 \nQ 3150 1619 3147 1541 \nQ 3144 1463 3138 1394 \nL 934 1394 \nQ 934 913 1203 655 \nQ 1472 397 1978 397 \nQ 2116 397 2253 408 \nQ 2391 419 2519 437 \nQ 2647 456 2764 479 \nQ 2881 503 2981 531 \nL 2981 84 \nQ 2759 22 2479 -17 \nQ 2200 -56 1900 -56 \nQ 1497 -56 1206 53 \nQ 916 163 730 370 \nQ 544 578 455 879 \nQ 366 1181 366 1563 \nQ 366 1894 461 2189 \nQ 556 2484 739 2707 \nQ 922 2931 1187 3062 \nQ 1453 3194 1791 3194 \nQ 2119 3194 2372 3091 \nQ 2625 2988 2798 2798 \nQ 2972 2609 3061 2339 \nQ 3150 2069 3150 1734 \nz\nM 2584 1813 \nQ 2594 2022 2544 2195 \nQ 2494 2369 2389 2494 \nQ 2284 2619 2128 2689 \nQ 1972 2759 1766 2759 \nQ 1588 2759 1441 2690 \nQ 1294 2622 1187 2497 \nQ 1081 2372 1015 2197 \nQ 950 2022 934 1813 \nL 2584 1813 \nz\n\" transform=\"scale(0.015625)\"/>\n      <path id=\"Consolas-73\" d=\"M 2984 856 \nQ 2984 691 2928 559 \nQ 2872 428 2775 326 \nQ 2678 225 2550 153 \nQ 2422 81 2276 34 \nQ 2131 -13 1978 -34 \nQ 1825 -56 1678 -56 \nQ 1359 -56 1092 -28 \nQ 825 0 569 63 \nL 569 563 \nQ 844 484 1116 443 \nQ 1388 403 1656 403 \nQ 2047 403 2234 509 \nQ 2422 616 2422 813 \nQ 2422 897 2392 964 \nQ 2363 1031 2284 1092 \nQ 2206 1153 2042 1218 \nQ 1878 1284 1594 1369 \nQ 1381 1431 1201 1511 \nQ 1022 1591 890 1700 \nQ 759 1809 684 1956 \nQ 609 2103 609 2303 \nQ 609 2434 670 2590 \nQ 731 2747 878 2881 \nQ 1025 3016 1275 3105 \nQ 1525 3194 1900 3194 \nQ 2084 3194 2309 3173 \nQ 2534 3153 2778 3103 \nL 2778 2619 \nQ 2522 2681 2292 2711 \nQ 2063 2741 1894 2741 \nQ 1691 2741 1552 2709 \nQ 1413 2678 1327 2623 \nQ 1241 2569 1203 2495 \nQ 1166 2422 1166 2338 \nQ 1166 2253 1198 2184 \nQ 1231 2116 1320 2052 \nQ 1409 1988 1568 1923 \nQ 1728 1859 1984 1784 \nQ 2263 1703 2453 1614 \nQ 2644 1525 2762 1415 \nQ 2881 1306 2932 1168 \nQ 2984 1031 2984 856 \nz\n\" transform=\"scale(0.015625)\"/>\n      <path id=\"Consolas-20\" transform=\"scale(0.015625)\"/>\n      <path id=\"Consolas-50\" d=\"M 3175 2834 \nQ 3175 2584 3081 2339 \nQ 2988 2094 2791 1900 \nQ 2594 1706 2287 1586 \nQ 1981 1466 1556 1466 \nL 1050 1466 \nL 1050 0 \nL 494 0 \nL 494 4084 \nL 1644 4084 \nQ 1947 4084 2225 4017 \nQ 2503 3950 2714 3800 \nQ 2925 3650 3050 3412 \nQ 3175 3175 3175 2834 \nz\nM 2597 2809 \nQ 2597 3203 2339 3412 \nQ 2081 3622 1619 3622 \nL 1050 3622 \nL 1050 1941 \nL 1569 1941 \nQ 2063 1941 2330 2156 \nQ 2597 2372 2597 2809 \nz\n\" transform=\"scale(0.015625)\"/>\n      <path id=\"Consolas-6c\" d=\"M 1569 3969 \nL 641 3969 \nL 641 4416 \nL 2119 4416 \nL 2119 453 \nL 3053 453 \nL 3053 0 \nL 538 0 \nL 538 453 \nL 1569 453 \nL 1569 3969 \nz\n\" transform=\"scale(0.015625)\"/>\n      <path id=\"Consolas-75\" d=\"M 3022 0 \nL 2534 0 \nL 2516 506 \nQ 2375 344 2248 236 \nQ 2122 128 1997 62 \nQ 1872 -3 1745 -29 \nQ 1619 -56 1478 -56 \nQ 994 -56 747 228 \nQ 500 513 500 1088 \nL 500 3138 \nL 1044 3138 \nL 1044 1131 \nQ 1044 409 1588 409 \nQ 1688 409 1783 439 \nQ 1878 469 1983 542 \nQ 2088 616 2208 741 \nQ 2328 866 2478 1056 \nL 2478 3138 \nL 3022 3138 \nL 3022 0 \nz\n\" transform=\"scale(0.015625)\"/>\n      <path id=\"Consolas-59\" d=\"M 3519 4084 \nL 2041 1459 \nL 2041 0 \nL 1478 0 \nL 1478 1472 \nL 0 4084 \nL 672 4084 \nL 1484 2591 \nL 1784 1991 \nL 2059 2534 \nL 2881 4084 \nL 3519 4084 \nz\n\" transform=\"scale(0.015625)\"/>\n      <path id=\"Consolas-54\" d=\"M 3250 3609 \nL 2041 3609 \nL 2041 0 \nL 1478 0 \nL 1478 3609 \nL 269 3609 \nL 269 4084 \nL 3250 4084 \nL 3250 3609 \nz\n\" transform=\"scale(0.015625)\"/>\n      <path id=\"Consolas-79\" d=\"M 3291 3138 \nL 2222 331 \nQ 2056 -97 1879 -406 \nQ 1703 -716 1493 -914 \nQ 1284 -1113 1034 -1206 \nQ 784 -1300 475 -1300 \nQ 394 -1300 328 -1297 \nQ 263 -1294 184 -1288 \nL 184 -794 \nQ 253 -803 334 -811 \nQ 416 -819 506 -819 \nQ 656 -819 786 -775 \nQ 916 -731 1031 -632 \nQ 1147 -534 1253 -378 \nQ 1359 -222 1459 0 \nL 206 3138 \nL 825 3138 \nL 1619 1063 \nL 1778 575 \nL 1959 1075 \nL 2694 3138 \nL 3291 3138 \nz\n\" transform=\"scale(0.015625)\"/>\n      <path id=\"Consolas-42\" d=\"M 3175 1222 \nQ 3175 928 3061 701 \nQ 2947 475 2736 319 \nQ 2525 163 2226 81 \nQ 1928 0 1563 0 \nL 494 0 \nL 494 4084 \nL 1663 4084 \nQ 3028 4084 3028 3091 \nQ 3028 2759 2870 2521 \nQ 2713 2284 2356 2169 \nQ 2522 2138 2670 2063 \nQ 2819 1988 2931 1869 \nQ 3044 1750 3109 1587 \nQ 3175 1425 3175 1222 \nz\nM 2450 3016 \nQ 2450 3141 2412 3252 \nQ 2375 3363 2281 3442 \nQ 2188 3522 2028 3569 \nQ 1869 3616 1625 3616 \nL 1050 3616 \nL 1050 2338 \nL 1606 2338 \nQ 1797 2338 1951 2378 \nQ 2106 2419 2217 2503 \nQ 2328 2588 2389 2714 \nQ 2450 2841 2450 3016 \nz\nM 2584 1203 \nQ 2584 1359 2518 1484 \nQ 2453 1609 2328 1695 \nQ 2203 1781 2023 1828 \nQ 1844 1875 1619 1875 \nL 1050 1875 \nL 1050 469 \nL 1638 469 \nQ 2116 469 2350 647 \nQ 2584 825 2584 1203 \nz\n\" transform=\"scale(0.015625)\"/>\n      <path id=\"Consolas-6f\" d=\"M 3231 1594 \nQ 3231 1228 3128 923 \nQ 3025 619 2831 401 \nQ 2638 184 2359 64 \nQ 2081 -56 1728 -56 \nQ 1391 -56 1123 48 \nQ 856 153 670 356 \nQ 484 559 386 859 \nQ 288 1159 288 1550 \nQ 288 1916 391 2217 \nQ 494 2519 687 2736 \nQ 881 2953 1159 3073 \nQ 1438 3194 1791 3194 \nQ 2128 3194 2395 3089 \nQ 2663 2984 2848 2782 \nQ 3034 2581 3132 2281 \nQ 3231 1981 3231 1594 \nz\nM 2675 1569 \nQ 2675 1859 2611 2076 \nQ 2547 2294 2428 2439 \nQ 2309 2584 2139 2657 \nQ 1969 2731 1759 2731 \nQ 1516 2731 1342 2636 \nQ 1169 2541 1058 2381 \nQ 947 2222 895 2011 \nQ 844 1800 844 1569 \nQ 844 1278 908 1059 \nQ 972 841 1090 695 \nQ 1209 550 1378 476 \nQ 1547 403 1759 403 \nQ 2003 403 2176 498 \nQ 2350 594 2461 753 \nQ 2572 913 2623 1123 \nQ 2675 1334 2675 1569 \nz\n\" transform=\"scale(0.015625)\"/>\n      <path id=\"Consolas-6e\" d=\"M 500 3138 \nL 984 3138 \nL 1006 2631 \nQ 1144 2794 1272 2901 \nQ 1400 3009 1523 3075 \nQ 1647 3141 1775 3167 \nQ 1903 3194 2041 3194 \nQ 2525 3194 2773 2908 \nQ 3022 2622 3022 2047 \nL 3022 0 \nL 2478 0 \nL 2478 2003 \nQ 2478 2372 2340 2548 \nQ 2203 2725 1931 2725 \nQ 1831 2725 1736 2695 \nQ 1641 2666 1537 2592 \nQ 1434 2519 1314 2394 \nQ 1194 2269 1044 2081 \nL 1044 0 \nL 500 0 \nL 500 3138 \nz\n\" transform=\"scale(0.015625)\"/>\n      <path id=\"Consolas-64\" d=\"M 341 1503 \nQ 341 1903 450 2214 \nQ 559 2525 761 2739 \nQ 963 2953 1245 3064 \nQ 1528 3175 1875 3175 \nQ 2025 3175 2170 3156 \nQ 2316 3138 2456 3097 \nL 2456 4416 \nL 3003 4416 \nL 3003 0 \nL 2516 0 \nL 2497 594 \nQ 2269 263 2003 103 \nQ 1738 -56 1428 -56 \nQ 1159 -56 954 56 \nQ 750 169 614 373 \nQ 478 578 409 865 \nQ 341 1153 341 1503 \nz\nM 897 1538 \nQ 897 969 1064 689 \nQ 1231 409 1538 409 \nQ 1744 409 1973 593 \nQ 2203 778 2456 1141 \nL 2456 2597 \nQ 2322 2659 2159 2692 \nQ 1997 2725 1838 2725 \nQ 1394 2725 1145 2437 \nQ 897 2150 897 1538 \nz\n\" transform=\"scale(0.015625)\"/>\n      <path id=\"Consolas-45\" d=\"M 2950 0 \nL 628 0 \nL 628 4084 \nL 2950 4084 \nL 2950 3616 \nL 1184 3616 \nL 1184 2350 \nL 2881 2350 \nL 2881 1881 \nL 1184 1881 \nL 1184 475 \nL 2950 475 \nL 2950 0 \nz\n\" transform=\"scale(0.015625)\"/>\n      <path id=\"Consolas-46\" d=\"M 2944 3609 \nL 1209 3609 \nL 1209 2284 \nL 2853 2284 \nL 2853 1819 \nL 1209 1819 \nL 1209 0 \nL 641 0 \nL 641 4084 \nL 2944 4084 \nL 2944 3609 \nz\n\" transform=\"scale(0.015625)\"/>\n     </defs>\n     <use xlink:href=\"#Consolas-69\"/>\n     <use xlink:href=\"#Consolas-53\" x=\"54.980469\"/>\n     <use xlink:href=\"#Consolas-68\" x=\"109.960938\"/>\n     <use xlink:href=\"#Consolas-61\" x=\"164.941406\"/>\n     <use xlink:href=\"#Consolas-72\" x=\"219.921875\"/>\n     <use xlink:href=\"#Consolas-65\" x=\"274.902344\"/>\n     <use xlink:href=\"#Consolas-73\" x=\"329.882812\"/>\n     <use xlink:href=\"#Consolas-20\" x=\"384.863281\"/>\n     <use xlink:href=\"#Consolas-32\" x=\"439.84375\"/>\n     <use xlink:href=\"#Consolas-30\" x=\"494.824219\"/>\n     <use xlink:href=\"#Consolas-20\" x=\"549.804688\"/>\n     <use xlink:href=\"#Consolas-50\" x=\"604.785156\"/>\n     <use xlink:href=\"#Consolas-6c\" x=\"659.765625\"/>\n     <use xlink:href=\"#Consolas-75\" x=\"714.746094\"/>\n     <use xlink:href=\"#Consolas-73\" x=\"769.726562\"/>\n     <use xlink:href=\"#Consolas-20\" x=\"824.707031\"/>\n     <use xlink:href=\"#Consolas-59\" x=\"879.6875\"/>\n     <use xlink:href=\"#Consolas-65\" x=\"934.667969\"/>\n     <use xlink:href=\"#Consolas-61\" x=\"989.648438\"/>\n     <use xlink:href=\"#Consolas-72\" x=\"1044.628906\"/>\n     <use xlink:href=\"#Consolas-20\" x=\"1099.609375\"/>\n     <use xlink:href=\"#Consolas-54\" x=\"1154.589844\"/>\n     <use xlink:href=\"#Consolas-72\" x=\"1209.570312\"/>\n     <use xlink:href=\"#Consolas-65\" x=\"1264.550781\"/>\n     <use xlink:href=\"#Consolas-61\" x=\"1319.53125\"/>\n     <use xlink:href=\"#Consolas-73\" x=\"1374.511719\"/>\n     <use xlink:href=\"#Consolas-75\" x=\"1429.492188\"/>\n     <use xlink:href=\"#Consolas-72\" x=\"1484.472656\"/>\n     <use xlink:href=\"#Consolas-79\" x=\"1539.453125\"/>\n     <use xlink:href=\"#Consolas-20\" x=\"1594.433594\"/>\n     <use xlink:href=\"#Consolas-42\" x=\"1649.414062\"/>\n     <use xlink:href=\"#Consolas-6f\" x=\"1704.394531\"/>\n     <use xlink:href=\"#Consolas-6e\" x=\"1759.375\"/>\n     <use xlink:href=\"#Consolas-64\" x=\"1814.355469\"/>\n     <use xlink:href=\"#Consolas-20\" x=\"1869.335938\"/>\n     <use xlink:href=\"#Consolas-45\" x=\"1924.316406\"/>\n     <use xlink:href=\"#Consolas-54\" x=\"1979.296875\"/>\n     <use xlink:href=\"#Consolas-46\" x=\"2034.277344\"/>\n    </g>\n   </g>\n  </g>\n </g>\n <defs>\n  <clipPath id=\"p7815d33497\">\n   <rect x=\"7.2\" y=\"43.2308\" width=\"892.8\" height=\"195.84\"/>\n  </clipPath>\n </defs>\n</svg>\n",
      "text/plain": [
       "<Figure size 1600x400 with 1 Axes>"
      ]
     },
     "metadata": {},
     "output_type": "display_data"
    }
   ],
   "source": [
    "# Visualize the data, if desired.\n",
    "\n",
    "data['Adj Close'].plot(figsize = [16, 4], title = 'iShares 20 Plus Year Treasury Bond ETF', xlabel = '');"
   ]
  },
  {
   "cell_type": "code",
   "execution_count": 83,
   "metadata": {},
   "outputs": [
    {
     "data": {
      "text/html": [
       "<div>\n",
       "<style scoped>\n",
       "    .dataframe tbody tr th:only-of-type {\n",
       "        vertical-align: middle;\n",
       "    }\n",
       "\n",
       "    .dataframe tbody tr th {\n",
       "        vertical-align: top;\n",
       "    }\n",
       "\n",
       "    .dataframe thead th {\n",
       "        text-align: right;\n",
       "    }\n",
       "</style>\n",
       "<table border=\"1\" class=\"dataframe\">\n",
       "  <thead>\n",
       "    <tr style=\"text-align: right;\">\n",
       "      <th></th>\n",
       "      <th>Standard Deviation</th>\n",
       "      <th>Parkinson</th>\n",
       "      <th>Hodges-Tompkins</th>\n",
       "      <th>Garman-Klass</th>\n",
       "      <th>Rogers-Satchell</th>\n",
       "      <th>Yang-Zhang</th>\n",
       "    </tr>\n",
       "    <tr>\n",
       "      <th>date</th>\n",
       "      <th></th>\n",
       "      <th></th>\n",
       "      <th></th>\n",
       "      <th></th>\n",
       "      <th></th>\n",
       "      <th></th>\n",
       "    </tr>\n",
       "  </thead>\n",
       "  <tbody>\n",
       "    <tr>\n",
       "      <th>2002-08-01</th>\n",
       "      <td>0.074468</td>\n",
       "      <td>0.083403</td>\n",
       "      <td>0.074496</td>\n",
       "      <td>0.075624</td>\n",
       "      <td>0.070795</td>\n",
       "      <td>0.140884</td>\n",
       "    </tr>\n",
       "    <tr>\n",
       "      <th>2002-08-02</th>\n",
       "      <td>0.050608</td>\n",
       "      <td>0.105981</td>\n",
       "      <td>0.050628</td>\n",
       "      <td>0.103655</td>\n",
       "      <td>0.096629</td>\n",
       "      <td>0.144344</td>\n",
       "    </tr>\n",
       "    <tr>\n",
       "      <th>2002-08-05</th>\n",
       "      <td>0.064942</td>\n",
       "      <td>0.109263</td>\n",
       "      <td>0.064967</td>\n",
       "      <td>0.114035</td>\n",
       "      <td>0.109442</td>\n",
       "      <td>0.163509</td>\n",
       "    </tr>\n",
       "    <tr>\n",
       "      <th>2002-08-06</th>\n",
       "      <td>0.145801</td>\n",
       "      <td>0.072415</td>\n",
       "      <td>0.145857</td>\n",
       "      <td>0.078072</td>\n",
       "      <td>0.079528</td>\n",
       "      <td>0.138414</td>\n",
       "    </tr>\n",
       "    <tr>\n",
       "      <th>2002-08-07</th>\n",
       "      <td>0.123235</td>\n",
       "      <td>0.083376</td>\n",
       "      <td>0.123282</td>\n",
       "      <td>0.092822</td>\n",
       "      <td>0.096105</td>\n",
       "      <td>0.152728</td>\n",
       "    </tr>\n",
       "    <tr>\n",
       "      <th>...</th>\n",
       "      <td>...</td>\n",
       "      <td>...</td>\n",
       "      <td>...</td>\n",
       "      <td>...</td>\n",
       "      <td>...</td>\n",
       "      <td>...</td>\n",
       "    </tr>\n",
       "    <tr>\n",
       "      <th>2023-02-23</th>\n",
       "      <td>0.006758</td>\n",
       "      <td>0.088884</td>\n",
       "      <td>0.006761</td>\n",
       "      <td>0.088082</td>\n",
       "      <td>0.088393</td>\n",
       "      <td>0.167799</td>\n",
       "    </tr>\n",
       "    <tr>\n",
       "      <th>2023-02-24</th>\n",
       "      <td>0.256052</td>\n",
       "      <td>0.110914</td>\n",
       "      <td>0.256150</td>\n",
       "      <td>0.115316</td>\n",
       "      <td>0.111796</td>\n",
       "      <td>0.218043</td>\n",
       "    </tr>\n",
       "    <tr>\n",
       "      <th>2023-02-27</th>\n",
       "      <td>0.177978</td>\n",
       "      <td>0.097925</td>\n",
       "      <td>0.178047</td>\n",
       "      <td>0.110618</td>\n",
       "      <td>0.109414</td>\n",
       "      <td>0.214669</td>\n",
       "    </tr>\n",
       "    <tr>\n",
       "      <th>2023-02-28</th>\n",
       "      <td>0.019797</td>\n",
       "      <td>0.109552</td>\n",
       "      <td>0.019805</td>\n",
       "      <td>0.102208</td>\n",
       "      <td>0.095619</td>\n",
       "      <td>0.177135</td>\n",
       "    </tr>\n",
       "    <tr>\n",
       "      <th>2023-03-01</th>\n",
       "      <td>0.172126</td>\n",
       "      <td>0.119959</td>\n",
       "      <td>0.172192</td>\n",
       "      <td>0.113097</td>\n",
       "      <td>0.106909</td>\n",
       "      <td>0.212863</td>\n",
       "    </tr>\n",
       "  </tbody>\n",
       "</table>\n",
       "<p>5181 rows × 6 columns</p>\n",
       "</div>"
      ],
      "text/plain": [
       "            Standard Deviation  Parkinson  Hodges-Tompkins  Garman-Klass  \\\n",
       "date                                                                       \n",
       "2002-08-01            0.074468   0.083403         0.074496      0.075624   \n",
       "2002-08-02            0.050608   0.105981         0.050628      0.103655   \n",
       "2002-08-05            0.064942   0.109263         0.064967      0.114035   \n",
       "2002-08-06            0.145801   0.072415         0.145857      0.078072   \n",
       "2002-08-07            0.123235   0.083376         0.123282      0.092822   \n",
       "...                        ...        ...              ...           ...   \n",
       "2023-02-23            0.006758   0.088884         0.006761      0.088082   \n",
       "2023-02-24            0.256052   0.110914         0.256150      0.115316   \n",
       "2023-02-27            0.177978   0.097925         0.178047      0.110618   \n",
       "2023-02-28            0.019797   0.109552         0.019805      0.102208   \n",
       "2023-03-01            0.172126   0.119959         0.172192      0.113097   \n",
       "\n",
       "            Rogers-Satchell  Yang-Zhang  \n",
       "date                                     \n",
       "2002-08-01         0.070795    0.140884  \n",
       "2002-08-02         0.096629    0.144344  \n",
       "2002-08-05         0.109442    0.163509  \n",
       "2002-08-06         0.079528    0.138414  \n",
       "2002-08-07         0.096105    0.152728  \n",
       "...                     ...         ...  \n",
       "2023-02-23         0.088393    0.167799  \n",
       "2023-02-24         0.111796    0.218043  \n",
       "2023-02-27         0.109414    0.214669  \n",
       "2023-02-28         0.095619    0.177135  \n",
       "2023-03-01         0.106909    0.212863  \n",
       "\n",
       "[5181 rows x 6 columns]"
      ]
     },
     "execution_count": 83,
     "metadata": {},
     "output_type": "execute_result"
    }
   ],
   "source": [
    "# Create a Pandas DataFrame and then assign columns to each model.\n",
    "\n",
    "results = pd.DataFrame()\n",
    "\n",
    "results['Standard Deviation'] = openbb.ta.rvol_std(data, window = 2)\n",
    "results['Parkinson'] = openbb.ta.rvol_parkinson(data, window = 2)\n",
    "results['Hodges-Tompkins'] = openbb.ta.rvol_hodges_tompkins(data, window = 2)\n",
    "results['Garman-Klass'] = openbb.ta.rvol_garman_klass(data, window = 2)\n",
    "results['Rogers-Satchell'] = openbb.ta.rvol_rogers_satchell(data, window = 2)\n",
    "results['Yang-Zhang'] = openbb.ta.rvol_yang_zhang(data, window = 2)\n",
    "\n",
    "results"
   ]
  },
  {
   "attachments": {},
   "cell_type": "markdown",
   "metadata": {},
   "source": [
    "The \"problem\" has been solved; achieving a sense of accomplishment is important for maintaining the motivation required to keep driving forward. Breaking large workflows down to a series of smaller items will make them easier to manage, make the undertaking seem less overwhelming, and provide the satisfaction associated with completing a task or chore.\n",
    "\n",
    "With the question answered, what is the next task? \n",
    "\n",
    "### How do I parametize this table so that it can be called as a one-liner function, sporting a variable ticker input?\n",
    "\n",
    "The first step is to wrap the DataFrame above in a function, with the input parameters of the function corresponding to those belonging to the individual model one-liners."
   ]
  },
  {
   "cell_type": "code",
   "execution_count": 84,
   "metadata": {},
   "outputs": [
    {
     "data": {
      "text/html": [
       "<div>\n",
       "<style scoped>\n",
       "    .dataframe tbody tr th:only-of-type {\n",
       "        vertical-align: middle;\n",
       "    }\n",
       "\n",
       "    .dataframe tbody tr th {\n",
       "        vertical-align: top;\n",
       "    }\n",
       "\n",
       "    .dataframe thead th {\n",
       "        text-align: right;\n",
       "    }\n",
       "</style>\n",
       "<table border=\"1\" class=\"dataframe\">\n",
       "  <thead>\n",
       "    <tr style=\"text-align: right;\">\n",
       "      <th></th>\n",
       "      <th>Standard Deviation</th>\n",
       "      <th>Parkinson</th>\n",
       "      <th>Hodges-Tompkins</th>\n",
       "      <th>Garman-Klass</th>\n",
       "      <th>Rogers-Satchell</th>\n",
       "      <th>Yang-Zhang</th>\n",
       "    </tr>\n",
       "    <tr>\n",
       "      <th>date</th>\n",
       "      <th></th>\n",
       "      <th></th>\n",
       "      <th></th>\n",
       "      <th></th>\n",
       "      <th></th>\n",
       "      <th></th>\n",
       "    </tr>\n",
       "  </thead>\n",
       "  <tbody>\n",
       "    <tr>\n",
       "      <th>2002-08-01</th>\n",
       "      <td>0.074468</td>\n",
       "      <td>0.083403</td>\n",
       "      <td>0.074496</td>\n",
       "      <td>0.075624</td>\n",
       "      <td>0.070795</td>\n",
       "      <td>0.140884</td>\n",
       "    </tr>\n",
       "    <tr>\n",
       "      <th>2002-08-02</th>\n",
       "      <td>0.050608</td>\n",
       "      <td>0.105981</td>\n",
       "      <td>0.050628</td>\n",
       "      <td>0.103655</td>\n",
       "      <td>0.096629</td>\n",
       "      <td>0.144344</td>\n",
       "    </tr>\n",
       "    <tr>\n",
       "      <th>2002-08-05</th>\n",
       "      <td>0.064942</td>\n",
       "      <td>0.109263</td>\n",
       "      <td>0.064967</td>\n",
       "      <td>0.114035</td>\n",
       "      <td>0.109442</td>\n",
       "      <td>0.163509</td>\n",
       "    </tr>\n",
       "    <tr>\n",
       "      <th>2002-08-06</th>\n",
       "      <td>0.145801</td>\n",
       "      <td>0.072415</td>\n",
       "      <td>0.145857</td>\n",
       "      <td>0.078072</td>\n",
       "      <td>0.079528</td>\n",
       "      <td>0.138414</td>\n",
       "    </tr>\n",
       "    <tr>\n",
       "      <th>2002-08-07</th>\n",
       "      <td>0.123235</td>\n",
       "      <td>0.083376</td>\n",
       "      <td>0.123282</td>\n",
       "      <td>0.092822</td>\n",
       "      <td>0.096105</td>\n",
       "      <td>0.152728</td>\n",
       "    </tr>\n",
       "    <tr>\n",
       "      <th>...</th>\n",
       "      <td>...</td>\n",
       "      <td>...</td>\n",
       "      <td>...</td>\n",
       "      <td>...</td>\n",
       "      <td>...</td>\n",
       "      <td>...</td>\n",
       "    </tr>\n",
       "    <tr>\n",
       "      <th>2023-02-23</th>\n",
       "      <td>0.006758</td>\n",
       "      <td>0.088884</td>\n",
       "      <td>0.006761</td>\n",
       "      <td>0.088082</td>\n",
       "      <td>0.088393</td>\n",
       "      <td>0.167799</td>\n",
       "    </tr>\n",
       "    <tr>\n",
       "      <th>2023-02-24</th>\n",
       "      <td>0.256052</td>\n",
       "      <td>0.110914</td>\n",
       "      <td>0.256150</td>\n",
       "      <td>0.115316</td>\n",
       "      <td>0.111796</td>\n",
       "      <td>0.218043</td>\n",
       "    </tr>\n",
       "    <tr>\n",
       "      <th>2023-02-27</th>\n",
       "      <td>0.177978</td>\n",
       "      <td>0.097925</td>\n",
       "      <td>0.178047</td>\n",
       "      <td>0.110618</td>\n",
       "      <td>0.109414</td>\n",
       "      <td>0.214669</td>\n",
       "    </tr>\n",
       "    <tr>\n",
       "      <th>2023-02-28</th>\n",
       "      <td>0.019797</td>\n",
       "      <td>0.109552</td>\n",
       "      <td>0.019805</td>\n",
       "      <td>0.102208</td>\n",
       "      <td>0.095619</td>\n",
       "      <td>0.177135</td>\n",
       "    </tr>\n",
       "    <tr>\n",
       "      <th>2023-03-01</th>\n",
       "      <td>0.172126</td>\n",
       "      <td>0.119959</td>\n",
       "      <td>0.172192</td>\n",
       "      <td>0.113097</td>\n",
       "      <td>0.106909</td>\n",
       "      <td>0.212863</td>\n",
       "    </tr>\n",
       "  </tbody>\n",
       "</table>\n",
       "<p>5181 rows × 6 columns</p>\n",
       "</div>"
      ],
      "text/plain": [
       "            Standard Deviation  Parkinson  Hodges-Tompkins  Garman-Klass  \\\n",
       "date                                                                       \n",
       "2002-08-01            0.074468   0.083403         0.074496      0.075624   \n",
       "2002-08-02            0.050608   0.105981         0.050628      0.103655   \n",
       "2002-08-05            0.064942   0.109263         0.064967      0.114035   \n",
       "2002-08-06            0.145801   0.072415         0.145857      0.078072   \n",
       "2002-08-07            0.123235   0.083376         0.123282      0.092822   \n",
       "...                        ...        ...              ...           ...   \n",
       "2023-02-23            0.006758   0.088884         0.006761      0.088082   \n",
       "2023-02-24            0.256052   0.110914         0.256150      0.115316   \n",
       "2023-02-27            0.177978   0.097925         0.178047      0.110618   \n",
       "2023-02-28            0.019797   0.109552         0.019805      0.102208   \n",
       "2023-03-01            0.172126   0.119959         0.172192      0.113097   \n",
       "\n",
       "            Rogers-Satchell  Yang-Zhang  \n",
       "date                                     \n",
       "2002-08-01         0.070795    0.140884  \n",
       "2002-08-02         0.096629    0.144344  \n",
       "2002-08-05         0.109442    0.163509  \n",
       "2002-08-06         0.079528    0.138414  \n",
       "2002-08-07         0.096105    0.152728  \n",
       "...                     ...         ...  \n",
       "2023-02-23         0.088393    0.167799  \n",
       "2023-02-24         0.111796    0.218043  \n",
       "2023-02-27         0.109414    0.214669  \n",
       "2023-02-28         0.095619    0.177135  \n",
       "2023-03-01         0.106909    0.212863  \n",
       "\n",
       "[5181 rows x 6 columns]"
      ]
     },
     "execution_count": 84,
     "metadata": {},
     "output_type": "execute_result"
    }
   ],
   "source": [
    "from typing import Optional\n",
    "\n",
    "def rvol(\n",
    "    data: pd.DataFrame, \n",
    "    window:int = 2,\n",
    "    trading_periods: Optional[int] = None,\n",
    "    is_crypto: bool = False\n",
    ")-> pd.DataFrame:\n",
    "    \n",
    "    results = pd.DataFrame()\n",
    "\n",
    "    results['Standard Deviation'] = openbb.ta.rvol_std(data, window, trading_periods, is_crypto)\n",
    "    results['Parkinson'] = openbb.ta.rvol_parkinson(data, window, trading_periods, is_crypto)\n",
    "    results['Hodges-Tompkins'] = openbb.ta.rvol_hodges_tompkins(data, window, trading_periods, is_crypto)\n",
    "    results['Garman-Klass'] = openbb.ta.rvol_garman_klass(data, window, trading_periods, is_crypto)\n",
    "    results['Rogers-Satchell'] = openbb.ta.rvol_rogers_satchell(data, window, trading_periods, is_crypto)\n",
    "    results['Yang-Zhang'] = openbb.ta.rvol_yang_zhang(data, window, trading_periods, is_crypto)\n",
    "    \n",
    "    return results\n",
    "\n",
    "rvol(data)"
   ]
  },
  {
   "attachments": {},
   "cell_type": "markdown",
   "metadata": {},
   "source": [
    "Then, because the `data` argument will accept a function as an input, the `load` function can be passed through, instead of a Pandas DataFrame. First, setup the parameters as a separate block."
   ]
  },
  {
   "cell_type": "code",
   "execution_count": 85,
   "metadata": {
    "notebookRunGroups": {
     "groupValue": "1"
    }
   },
   "outputs": [],
   "source": [
    "symbol = 'SPY'\n",
    "window = 30\n",
    "trading_periods = 252\n",
    "is_crypto: bool = False"
   ]
  },
  {
   "attachments": {},
   "cell_type": "markdown",
   "metadata": {},
   "source": [
    "Then make a function to wrap both the `load` and `rvol` work together."
   ]
  },
  {
   "cell_type": "code",
   "execution_count": 86,
   "metadata": {
    "notebookRunGroups": {
     "groupValue": "1"
    }
   },
   "outputs": [
    {
     "data": {
      "text/html": [
       "<pre style=\"white-space:pre;overflow-x:auto;line-height:normal;font-family:Menlo,'DejaVu Sans Mono',consolas,'Courier New',monospace\">Loading Daily data for SPY with starting period 2020-02-26.\n",
       "</pre>\n"
      ],
      "text/plain": [
       "Loading Daily data for SPY with starting period 2020-02-26.\n"
      ]
     },
     "metadata": {},
     "output_type": "display_data"
    },
    {
     "data": {
      "text/html": [
       "<div>\n",
       "<style scoped>\n",
       "    .dataframe tbody tr th:only-of-type {\n",
       "        vertical-align: middle;\n",
       "    }\n",
       "\n",
       "    .dataframe tbody tr th {\n",
       "        vertical-align: top;\n",
       "    }\n",
       "\n",
       "    .dataframe thead th {\n",
       "        text-align: right;\n",
       "    }\n",
       "</style>\n",
       "<table border=\"1\" class=\"dataframe\">\n",
       "  <thead>\n",
       "    <tr style=\"text-align: right;\">\n",
       "      <th></th>\n",
       "      <th>Standard Deviation</th>\n",
       "      <th>Parkinson</th>\n",
       "      <th>Hodges-Tompkins</th>\n",
       "      <th>Garman-Klass</th>\n",
       "      <th>Rogers-Satchell</th>\n",
       "      <th>Yang-Zhang</th>\n",
       "    </tr>\n",
       "    <tr>\n",
       "      <th>date</th>\n",
       "      <th></th>\n",
       "      <th></th>\n",
       "      <th></th>\n",
       "      <th></th>\n",
       "      <th></th>\n",
       "      <th></th>\n",
       "    </tr>\n",
       "  </thead>\n",
       "  <tbody>\n",
       "    <tr>\n",
       "      <th>2020-04-08</th>\n",
       "      <td>0.826917</td>\n",
       "      <td>0.515688</td>\n",
       "      <td>0.861901</td>\n",
       "      <td>0.553647</td>\n",
       "      <td>0.585802</td>\n",
       "      <td>0.891324</td>\n",
       "    </tr>\n",
       "    <tr>\n",
       "      <th>2020-04-09</th>\n",
       "      <td>0.818945</td>\n",
       "      <td>0.510654</td>\n",
       "      <td>0.853591</td>\n",
       "      <td>0.549184</td>\n",
       "      <td>0.580775</td>\n",
       "      <td>0.886028</td>\n",
       "    </tr>\n",
       "    <tr>\n",
       "      <th>2020-04-13</th>\n",
       "      <td>0.819186</td>\n",
       "      <td>0.506786</td>\n",
       "      <td>0.853842</td>\n",
       "      <td>0.546098</td>\n",
       "      <td>0.579007</td>\n",
       "      <td>0.880671</td>\n",
       "    </tr>\n",
       "    <tr>\n",
       "      <th>2020-04-14</th>\n",
       "      <td>0.813773</td>\n",
       "      <td>0.503036</td>\n",
       "      <td>0.848200</td>\n",
       "      <td>0.544810</td>\n",
       "      <td>0.579112</td>\n",
       "      <td>0.881659</td>\n",
       "    </tr>\n",
       "    <tr>\n",
       "      <th>2020-04-15</th>\n",
       "      <td>0.811932</td>\n",
       "      <td>0.497237</td>\n",
       "      <td>0.846281</td>\n",
       "      <td>0.540157</td>\n",
       "      <td>0.576165</td>\n",
       "      <td>0.882089</td>\n",
       "    </tr>\n",
       "    <tr>\n",
       "      <th>...</th>\n",
       "      <td>...</td>\n",
       "      <td>...</td>\n",
       "      <td>...</td>\n",
       "      <td>...</td>\n",
       "      <td>...</td>\n",
       "      <td>...</td>\n",
       "    </tr>\n",
       "    <tr>\n",
       "      <th>2023-02-23</th>\n",
       "      <td>0.163743</td>\n",
       "      <td>0.140126</td>\n",
       "      <td>0.170670</td>\n",
       "      <td>0.139145</td>\n",
       "      <td>0.139103</td>\n",
       "      <td>0.177882</td>\n",
       "    </tr>\n",
       "    <tr>\n",
       "      <th>2023-02-24</th>\n",
       "      <td>0.163181</td>\n",
       "      <td>0.139783</td>\n",
       "      <td>0.170084</td>\n",
       "      <td>0.139412</td>\n",
       "      <td>0.139611</td>\n",
       "      <td>0.181844</td>\n",
       "    </tr>\n",
       "    <tr>\n",
       "      <th>2023-02-27</th>\n",
       "      <td>0.163138</td>\n",
       "      <td>0.138628</td>\n",
       "      <td>0.170039</td>\n",
       "      <td>0.137471</td>\n",
       "      <td>0.136858</td>\n",
       "      <td>0.181614</td>\n",
       "    </tr>\n",
       "    <tr>\n",
       "      <th>2023-02-28</th>\n",
       "      <td>0.163079</td>\n",
       "      <td>0.136986</td>\n",
       "      <td>0.169978</td>\n",
       "      <td>0.136908</td>\n",
       "      <td>0.137157</td>\n",
       "      <td>0.180134</td>\n",
       "    </tr>\n",
       "    <tr>\n",
       "      <th>2023-03-01</th>\n",
       "      <td>0.163359</td>\n",
       "      <td>0.137063</td>\n",
       "      <td>0.170270</td>\n",
       "      <td>0.137019</td>\n",
       "      <td>0.137167</td>\n",
       "      <td>0.180290</td>\n",
       "    </tr>\n",
       "  </tbody>\n",
       "</table>\n",
       "<p>729 rows × 6 columns</p>\n",
       "</div>"
      ],
      "text/plain": [
       "            Standard Deviation  Parkinson  Hodges-Tompkins  Garman-Klass  \\\n",
       "date                                                                       \n",
       "2020-04-08            0.826917   0.515688         0.861901      0.553647   \n",
       "2020-04-09            0.818945   0.510654         0.853591      0.549184   \n",
       "2020-04-13            0.819186   0.506786         0.853842      0.546098   \n",
       "2020-04-14            0.813773   0.503036         0.848200      0.544810   \n",
       "2020-04-15            0.811932   0.497237         0.846281      0.540157   \n",
       "...                        ...        ...              ...           ...   \n",
       "2023-02-23            0.163743   0.140126         0.170670      0.139145   \n",
       "2023-02-24            0.163181   0.139783         0.170084      0.139412   \n",
       "2023-02-27            0.163138   0.138628         0.170039      0.137471   \n",
       "2023-02-28            0.163079   0.136986         0.169978      0.136908   \n",
       "2023-03-01            0.163359   0.137063         0.170270      0.137019   \n",
       "\n",
       "            Rogers-Satchell  Yang-Zhang  \n",
       "date                                     \n",
       "2020-04-08         0.585802    0.891324  \n",
       "2020-04-09         0.580775    0.886028  \n",
       "2020-04-13         0.579007    0.880671  \n",
       "2020-04-14         0.579112    0.881659  \n",
       "2020-04-15         0.576165    0.882089  \n",
       "...                     ...         ...  \n",
       "2023-02-23         0.139103    0.177882  \n",
       "2023-02-24         0.139611    0.181844  \n",
       "2023-02-27         0.136858    0.181614  \n",
       "2023-02-28         0.137157    0.180134  \n",
       "2023-03-01         0.137167    0.180290  \n",
       "\n",
       "[729 rows x 6 columns]"
      ]
     },
     "execution_count": 86,
     "metadata": {},
     "output_type": "execute_result"
    }
   ],
   "source": [
    "def realized_vol(symbol) -> pd.DataFrame:\n",
    "    data = openbb.stocks.load(f\"{symbol}\")\n",
    "    \n",
    "    rvol_df = rvol(data, window, trading_periods, is_crypto)\n",
    "    \n",
    "    return rvol_df\n",
    "    \n",
    "rvol_df = realized_vol(symbol)\n",
    "\n",
    "rvol_df"
   ]
  },
  {
   "attachments": {},
   "cell_type": "markdown",
   "metadata": {},
   "source": [
    "Thanks for reading, and if you want more actionable code snippets and notebooks, check out what else *Getting Started with Python for Quant Finance* has to [offer!](​https://gettingstartedwithpythonforquantfinance.com/?ref=ezyapsobd​) "
   ]
  }
 ],
 "metadata": {
  "kernelspec": {
   "display_name": "Python 3",
   "language": "python",
   "name": "python3"
  },
  "language_info": {
   "codemirror_mode": {
    "name": "ipython",
    "version": 3
   },
   "file_extension": ".py",
   "mimetype": "text/x-python",
   "name": "python",
   "nbconvert_exporter": "python",
   "pygments_lexer": "ipython3",
   "version": "3.10.9"
  },
  "orig_nbformat": 4,
  "vscode": {
   "interpreter": {
    "hash": "17ccf7182494c499ea5a15d05a855ffa6236155afe63e1777a9e5d31c18c392b"
   }
  }
 },
 "nbformat": 4,
 "nbformat_minor": 2
}
